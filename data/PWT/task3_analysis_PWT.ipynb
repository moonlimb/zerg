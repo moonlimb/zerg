{
 "cells": [
  {
   "cell_type": "code",
   "execution_count": 3,
   "metadata": {
    "collapsed": true
   },
   "outputs": [],
   "source": [
    "import os\n",
    "\n",
    "import matplotlib.pylab as plt\n",
    "import numpy as np\n",
    "import pandas as pd\n",
    "import seaborn as sns\n",
    "import xarray as xr\n",
    "\n",
    "\n",
    "% matplotlib inline"
   ]
  },
  {
   "cell_type": "markdown",
   "metadata": {},
   "source": [
    "## PWT Data Analysis\n",
    "\n",
    "**Data & Scope**\n",
    "\n",
    "* pwt_income_adm1.dta' - from U Chicago - Jingyuan\n",
    "* pwt90.xlsx  (excel)\n",
    "* pwt90.dta - direct download from PWT link\n",
    "\n",
    "**Assumptions/Expectations**\n",
    "* Has both historical/current estimates to future projection data.\n",
    "* Has several types of Income (GDP) data: national accounts based, output-based using PPP (current and constant), expenditure-based using PPP (current and constant).\n",
    "* All GDP values in 2011 millions of USD\n",
    "* Population data in millions\n",
    "\n",
    "**Analysis Goals**\n",
    "\n",
    "**Currently Out of Scope**\n",
    "Future projection X\n",
    "\n",
    "**Conclusion**\n",
    "\n",
    "\n",
    "**Questions**\n",
    "1. What is a national accounts data sources?\n",
    "2. Why does U Chicago team use `gdppcna`? (national-accounts based) Confirm with Jingyuan this is true"
   ]
  },
  {
   "cell_type": "code",
   "execution_count": 4,
   "metadata": {
    "collapsed": true
   },
   "outputs": [],
   "source": [
    "#os.listdir()\n",
    "#  'pwt_income_adm1.dta' - from U Chicago - Jingyuan\n",
    "#   pwt90.xlsx \n",
    "#   pwt90.dta - direct download from PWT link\n",
    "# where wtf99.dta file from?"
   ]
  },
  {
   "cell_type": "markdown",
   "metadata": {},
   "source": [
    "## Open PWT (raw) Data"
   ]
  },
  {
   "cell_type": "code",
   "execution_count": 5,
   "metadata": {
    "collapsed": true
   },
   "outputs": [],
   "source": [
    "pwt9 = pd.read_excel('pwt90.xlsx', sheetname='Data')"
   ]
  },
  {
   "cell_type": "markdown",
   "metadata": {},
   "source": [
    "### Get variable names"
   ]
  },
  {
   "cell_type": "code",
   "execution_count": 6,
   "metadata": {},
   "outputs": [
    {
     "data": {
      "text/plain": [
       "(1950, 2014)"
      ]
     },
     "execution_count": 6,
     "metadata": {},
     "output_type": "execute_result"
    }
   ],
   "source": [
    "pwt9['year'].unique().min(), pwt9['year'].unique().max()"
   ]
  },
  {
   "cell_type": "code",
   "execution_count": 7,
   "metadata": {},
   "outputs": [
    {
     "data": {
      "text/plain": [
       "Index(['countrycode', 'country', 'currency_unit', 'year', 'rgdpe', 'rgdpo',\n",
       "       'pop', 'emp', 'avh', 'hc', 'ccon', 'cda', 'cgdpe', 'cgdpo', 'ck',\n",
       "       'ctfp', 'cwtfp', 'rgdpna', 'rconna', 'rdana', 'rkna', 'rtfpna',\n",
       "       'rwtfpna', 'labsh', 'delta', 'xr', 'pl_con', 'pl_da', 'pl_gdpo',\n",
       "       'i_cig', 'i_xm', 'i_xr', 'i_outlier', 'cor_exp', 'statcap', 'csh_c',\n",
       "       'csh_i', 'csh_g', 'csh_x', 'csh_m', 'csh_r', 'pl_c', 'pl_i', 'pl_g',\n",
       "       'pl_x', 'pl_m', 'pl_k'],\n",
       "      dtype='object')"
      ]
     },
     "execution_count": 7,
     "metadata": {},
     "output_type": "execute_result"
    }
   ],
   "source": [
    "pwt9.columns"
   ]
  },
  {
   "cell_type": "markdown",
   "metadata": {},
   "source": [
    "### GDP analysis"
   ]
  },
  {
   "cell_type": "code",
   "execution_count": 8,
   "metadata": {
    "scrolled": true
   },
   "outputs": [
    {
     "name": "stdout",
     "output_type": "stream",
     "text": [
      "['countrycode', 'country', 'currency_unit', 'year', 'pop', 'rgdpe', 'rgdpo', 'rgdpna', 'cgdpe', 'cgdpo']\n"
     ]
    }
   ],
   "source": [
    "#pwt9.columns\n",
    "sub_vars = ['countrycode', 'country', 'currency_unit', 'year', 'pop']\n",
    "gdps = ['rgdpe', 'rgdpo', 'rgdpna', 'cgdpe', 'cgdpo']\n",
    "gdps_cp = ['rgdpe_pc', 'rgdpo_pc', 'rgdpna_pc', 'cdgec_pc_na', 'rgdpo_pc_pc']\n",
    "sub_vars.extend(gdps)\n",
    "print (sub_vars)\n",
    "pwt9[sub_vars]\n",
    "\n",
    "for gdp in gdps:\n",
    "    pc_gdp = gdp + '_pc'\n",
    "    pwt9[pc_gdp] = pwt9[gdp]/pwt9['pop']\n",
    "    \n",
    "#print (pwt9)"
   ]
  },
  {
   "cell_type": "code",
   "execution_count": 9,
   "metadata": {},
   "outputs": [
    {
     "data": {
      "text/plain": [
       "['countrycode',\n",
       " 'country',\n",
       " 'currency_unit',\n",
       " 'year',\n",
       " 'pop',\n",
       " 'rgdpe',\n",
       " 'rgdpo',\n",
       " 'rgdpna',\n",
       " 'cgdpe',\n",
       " 'cgdpo',\n",
       " 'rgdpe',\n",
       " 'rgdpo',\n",
       " 'rgdpna',\n",
       " 'cgdpe',\n",
       " 'cgdpo']"
      ]
     },
     "execution_count": 9,
     "metadata": {},
     "output_type": "execute_result"
    }
   ],
   "source": [
    "arr = sub_vars.extend(gdps)\n",
    "sub_vars"
   ]
  },
  {
   "cell_type": "code",
   "execution_count": 10,
   "metadata": {},
   "outputs": [
    {
     "data": {
      "text/plain": [
       "Index(['countrycode', 'country', 'currency_unit', 'year', 'rgdpe', 'rgdpo',\n",
       "       'pop', 'emp', 'avh', 'hc', 'ccon', 'cda', 'cgdpe', 'cgdpo', 'ck',\n",
       "       'ctfp', 'cwtfp', 'rgdpna', 'rconna', 'rdana', 'rkna', 'rtfpna',\n",
       "       'rwtfpna', 'labsh', 'delta', 'xr', 'pl_con', 'pl_da', 'pl_gdpo',\n",
       "       'i_cig', 'i_xm', 'i_xr', 'i_outlier', 'cor_exp', 'statcap', 'csh_c',\n",
       "       'csh_i', 'csh_g', 'csh_x', 'csh_m', 'csh_r', 'pl_c', 'pl_i', 'pl_g',\n",
       "       'pl_x', 'pl_m', 'pl_k', 'rgdpe_pc', 'rgdpo_pc', 'rgdpna_pc', 'cgdpe_pc',\n",
       "       'cgdpo_pc'],\n",
       "      dtype='object')"
      ]
     },
     "execution_count": 10,
     "metadata": {},
     "output_type": "execute_result"
    }
   ],
   "source": [
    "pwt9.columns"
   ]
  },
  {
   "cell_type": "markdown",
   "metadata": {},
   "source": [
    "### Find out if all years occur with same frequency - YES (65 years, each with 182 occurences)\n",
    "\n",
    "This is expected as any missing year for a country listed is extrapolated or interpolated."
   ]
  },
  {
   "cell_type": "code",
   "execution_count": 11,
   "metadata": {},
   "outputs": [
    {
     "data": {
      "text/plain": [
       "True"
      ]
     },
     "execution_count": 11,
     "metadata": {},
     "output_type": "execute_result"
    }
   ],
   "source": [
    "years = pwt9['year']\n",
    "years.value_counts() \n",
    "years.sort_values().value_counts().unique() # 182 only\n",
    "# all years appear 182 times\n",
    "years.max() # 2014\n",
    "years.min() # 1950\n",
    "#2014- 1950 #~ 64 years span or 65 years total years\n",
    "\n",
    "# get length of years array\n",
    "# 11830\n",
    "years.size == 65*182 # 65 years * freq_of_year "
   ]
  },
  {
   "cell_type": "code",
   "execution_count": 12,
   "metadata": {
    "collapsed": true
   },
   "outputs": [],
   "source": [
    "#pwt9['currency_unit'].nunique() # 135 currency\n",
    "# Note: we are only interested in USD equivalent that is translated into USD via PPP"
   ]
  },
  {
   "cell_type": "code",
   "execution_count": 13,
   "metadata": {},
   "outputs": [
    {
     "data": {
      "text/plain": [
       "Index(['countrycode', 'country', 'currency_unit', 'year', 'rgdpe', 'rgdpo',\n",
       "       'pop', 'emp', 'avh', 'hc', 'ccon', 'cda', 'cgdpe', 'cgdpo', 'ck',\n",
       "       'ctfp', 'cwtfp', 'rgdpna', 'rconna', 'rdana', 'rkna', 'rtfpna',\n",
       "       'rwtfpna', 'labsh', 'delta', 'xr', 'pl_con', 'pl_da', 'pl_gdpo',\n",
       "       'i_cig', 'i_xm', 'i_xr', 'i_outlier', 'cor_exp', 'statcap', 'csh_c',\n",
       "       'csh_i', 'csh_g', 'csh_x', 'csh_m', 'csh_r', 'pl_c', 'pl_i', 'pl_g',\n",
       "       'pl_x', 'pl_m', 'pl_k', 'rgdpe_pc', 'rgdpo_pc', 'rgdpna_pc', 'cgdpe_pc',\n",
       "       'cgdpo_pc'],\n",
       "      dtype='object')"
      ]
     },
     "execution_count": 13,
     "metadata": {},
     "output_type": "execute_result"
    }
   ],
   "source": [
    "# Get variables\n",
    "pwt9.columns"
   ]
  },
  {
   "cell_type": "code",
   "execution_count": 14,
   "metadata": {
    "collapsed": true
   },
   "outputs": [],
   "source": [
    "# Manually add per capita (_pc) data for eah GW]\n",
    "pwt9['rgdpna_pc'] = pwt9['rgdpna'] / pwt9['pop']\n",
    "\n",
    "pwt9['cdgpo_pc'] = pwt9['cgdpo'] / pwt9['pop']\n",
    "pwt9['cgdpe_pc'] = pwt9['cgdpe'] / pwt9['pop']\n",
    "\n",
    "pwt9['rgdpo_pc'] = pwt9['rgdpo'] / pwt9['pop']\n",
    "pwt9['rgdpe-pc'] = pwt9['rgdpe'] / pwt9['pop']\n",
    "\n",
    "test = pwt9[['country','year', 'rgdpna_pc']]"
   ]
  },
  {
   "cell_type": "markdown",
   "metadata": {},
   "source": [
    "### Pivot table (same as WB data shape - years as columns)"
   ]
  },
  {
   "cell_type": "code",
   "execution_count": 15,
   "metadata": {},
   "outputs": [
    {
     "name": "stdout",
     "output_type": "stream",
     "text": [
      "False    9439\n",
      "True     2391\n",
      "Name: pop, dtype: int64\n",
      "False    9439\n",
      "True     2391\n",
      "Name: rgdpe, dtype: int64\n"
     ]
    }
   ],
   "source": [
    "df_gdp = pwt9[['country', 'countrycode', 'year', 'pop', 'rgdpe']]\n",
    "print(df_gdp['pop'].isnull().value_counts())\n",
    "\n",
    "print(df_gdp['rgdpe'].isnull().value_counts())"
   ]
  },
  {
   "cell_type": "code",
   "execution_count": 16,
   "metadata": {
    "collapsed": true
   },
   "outputs": [],
   "source": [
    "## 12/14 evauation continued...\n",
    "\n",
    "df_pop = pwt9[['country', 'countrycode', 'year', 'pop']]\n",
    "\n",
    "pivoted=df_pop.pivot_table(index='country', columns='year', values='pop')\n",
    "pivoted.to_csv('pwt9_pivoted.csv', sep=',', encoding='utf-8')\n",
    "reindexed_pop = pivoted.reset_index()"
   ]
  },
  {
   "cell_type": "markdown",
   "metadata": {},
   "source": [
    "### a) get countries with complete data"
   ]
  },
  {
   "cell_type": "code",
   "execution_count": 17,
   "metadata": {},
   "outputs": [
    {
     "data": {
      "text/plain": [
       "55"
      ]
     },
     "execution_count": 17,
     "metadata": {},
     "output_type": "execute_result"
    }
   ],
   "source": [
    "countries_with_complete_data = reindexed_pop[~reindexed_pop[1950].isnull()]['country']\n",
    "countries_with_complete_data_list = countries_with_complete_data.tolist()\n",
    "len(countries_with_complete_data)"
   ]
  },
  {
   "cell_type": "code",
   "execution_count": 18,
   "metadata": {
    "scrolled": true
   },
   "outputs": [
    {
     "name": "stdout",
     "output_type": "stream",
     "text": [
      "['Argentina', 'Australia', 'Austria', 'Belgium', 'Bolivia (Plurinational State of)', 'Brazil', 'Canada', 'Colombia', 'Costa Rica', 'Cyprus', 'D.R. of the Congo', 'Denmark', 'Ecuador', 'Egypt', 'El Salvador', 'Ethiopia', 'Finland', 'France', 'Germany', 'Guatemala', 'Honduras', 'Iceland', 'India', 'Ireland', 'Israel', 'Italy', 'Japan', 'Kenya', 'Luxembourg', 'Mauritius', 'Mexico', 'Morocco', 'Netherlands', 'New Zealand', 'Nicaragua', 'Nigeria', 'Norway', 'Pakistan', 'Panama', 'Peru', 'Philippines', 'Portugal', 'South Africa', 'Spain', 'Sri Lanka', 'Sweden', 'Switzerland', 'Thailand', 'Trinidad and Tobago', 'Turkey', 'Uganda', 'United Kingdom', 'United States', 'Uruguay', 'Venezuela (Bolivarian Republic of)']\n"
     ]
    }
   ],
   "source": [
    "print(countries_with_complete_data_list)"
   ]
  },
  {
   "cell_type": "markdown",
   "metadata": {},
   "source": [
    "### Get countries missing data up to 1989"
   ]
  },
  {
   "cell_type": "code",
   "execution_count": 19,
   "metadata": {
    "collapsed": true
   },
   "outputs": [],
   "source": [
    "# get countries missing data on 1989\n",
    "missing_before_1990=reindexed_pop[reindexed_pop[1989].isnull()]"
   ]
  },
  {
   "cell_type": "code",
   "execution_count": 59,
   "metadata": {},
   "outputs": [
    {
     "name": "stdout",
     "output_type": "stream",
     "text": [
      "25\n"
     ]
    }
   ],
   "source": [
    "missing_before_1990_list = missing_before_1990[['country', 1989,1990]]['country'].tolist()\n",
    "\n",
    "print(len(missing_before_1990_list))"
   ]
  },
  {
   "cell_type": "code",
   "execution_count": 21,
   "metadata": {
    "collapsed": true
   },
   "outputs": [],
   "source": [
    "missing_before_1970=reindexed_pop[reindexed_pop[1969].isnull()]"
   ]
  },
  {
   "cell_type": "code",
   "execution_count": 22,
   "metadata": {},
   "outputs": [
    {
     "data": {
      "text/plain": [
       "43"
      ]
     },
     "execution_count": 22,
     "metadata": {},
     "output_type": "execute_result"
    }
   ],
   "source": [
    "len(missing_before_1970)-23-2"
   ]
  },
  {
   "cell_type": "code",
   "execution_count": 23,
   "metadata": {},
   "outputs": [
    {
     "name": "stdout",
     "output_type": "stream",
     "text": [
      "['Albania', 'Angola', 'Anguilla', 'Antigua and Barbuda', 'Aruba', 'Bahamas', 'Bahrain', 'Belize', 'Bermuda', 'Bhutan', 'British Virgin Islands', 'Brunei Darussalam', 'Bulgaria', 'Cambodia', 'Cayman Islands', 'China, Macao SAR', 'Djibouti', 'Dominica', 'Grenada', 'Hungary', 'Iraq', 'Kuwait', \"Lao People's DR\", 'Lebanon', 'Maldives', 'Mongolia', 'Montserrat', 'Oman', 'Poland', 'Qatar', 'Saint Kitts and Nevis', 'Saint Lucia', 'Sao Tome and Principe', 'Saudi Arabia', 'St. Vincent and the Grenadines', 'State of Palestine', 'Sudan (Former)', 'Suriname', 'Swaziland', 'Turks and Caicos Islands', 'United Arab Emirates', 'Viet Nam', 'Yemen']\n"
     ]
    }
   ],
   "source": [
    "print(sorted(list(set(missing_before_1970['country']) - set(missing_before_1990['country']))))"
   ]
  },
  {
   "cell_type": "code",
   "execution_count": 24,
   "metadata": {
    "scrolled": true
   },
   "outputs": [
    {
     "name": "stdout",
     "output_type": "stream",
     "text": [
      "['Albania', 'Angola', 'Anguilla', 'Antigua and Barbuda', 'Armenia', 'Aruba', 'Azerbaijan', 'Bahamas', 'Bahrain', 'Belarus', 'Belize', 'Bermuda', 'Bhutan', 'Bosnia and Herzegovina', 'British Virgin Islands', 'Brunei Darussalam', 'Bulgaria', 'Cambodia', 'Cayman Islands', 'China, Macao SAR', 'Croatia', 'Curaçao', 'Czech Republic', 'Djibouti', 'Dominica', 'Estonia', 'Georgia', 'Grenada', 'Hungary', 'Iraq', 'Kazakhstan', 'Kuwait', 'Kyrgyzstan', \"Lao People's DR\", 'Latvia', 'Lebanon', 'Lithuania', 'Maldives', 'Mongolia', 'Montenegro', 'Montserrat', 'Oman', 'Poland', 'Qatar', 'Republic of Moldova', 'Russian Federation', 'Saint Kitts and Nevis', 'Saint Lucia', 'Sao Tome and Principe', 'Saudi Arabia', 'Serbia', 'Sint Maarten (Dutch part)', 'Slovakia', 'Slovenia', 'St. Vincent and the Grenadines', 'State of Palestine', 'Sudan (Former)', 'Suriname', 'Swaziland', 'TFYR of Macedonia', 'Tajikistan', 'Turkmenistan', 'Turks and Caicos Islands', 'Ukraine', 'United Arab Emirates', 'Uzbekistan', 'Viet Nam', 'Yemen']\n"
     ]
    }
   ],
   "source": [
    "missing_before_1970_list = missing_before_1970[['country', 1969,1970]]['country'].tolist()\n",
    "print(missing_before_1970_list)"
   ]
  },
  {
   "cell_type": "code",
   "execution_count": 25,
   "metadata": {
    "collapsed": true
   },
   "outputs": [],
   "source": [
    "missing_before_1960=reindexed_pop[reindexed_pop[1959].isnull()]"
   ]
  },
  {
   "cell_type": "code",
   "execution_count": 26,
   "metadata": {
    "collapsed": true
   },
   "outputs": [],
   "source": [
    "not_missing_1959=reindexed_pop[~reindexed_pop[1959].isnull()]"
   ]
  },
  {
   "cell_type": "code",
   "execution_count": 27,
   "metadata": {},
   "outputs": [
    {
     "data": {
      "text/plain": [
       "75"
      ]
     },
     "execution_count": 27,
     "metadata": {},
     "output_type": "execute_result"
    }
   ],
   "source": [
    "len(not_missing_1959)"
   ]
  },
  {
   "cell_type": "code",
   "execution_count": 28,
   "metadata": {},
   "outputs": [
    {
     "name": "stdout",
     "output_type": "stream",
     "text": [
      "['Bangladesh', 'Benin', 'Burkina Faso', 'Chile', 'China', 'Dominican Republic', 'Ghana', 'Greece', 'Guinea', 'Iran (Islamic Republic of)', 'Jamaica', 'Jordan', 'Malawi', 'Malaysia', 'Malta', 'Paraguay', 'Republic of Korea', 'Taiwan', 'Zambia', 'Zimbabwe']\n"
     ]
    }
   ],
   "source": [
    "print(sorted(set(not_missing_1959['country']) - set(countries_with_complete_data)))"
   ]
  },
  {
   "cell_type": "code",
   "execution_count": 29,
   "metadata": {},
   "outputs": [
    {
     "name": "stdout",
     "output_type": "stream",
     "text": [
      "['Algeria', 'Barbados', 'Botswana', 'Burundi', 'Cabo Verde', 'Cameroon', 'Central African Republic', 'Chad', 'China, Hong Kong SAR', 'Comoros', 'Congo', \"Côte d'Ivoire\", 'Equatorial Guinea', 'Fiji', 'Gabon', 'Gambia', 'Guinea-Bissau', 'Haiti', 'Indonesia', 'Lesotho', 'Liberia', 'Madagascar', 'Mali', 'Mauritania', 'Mozambique', 'Myanmar', 'Namibia', 'Nepal', 'Niger', 'Romania', 'Rwanda', 'Senegal', 'Seychelles', 'Sierra Leone', 'Singapore', 'Syrian Arab Republic', 'Togo', 'Tunisia', 'U.R. of Tanzania: Mainland']\n"
     ]
    }
   ],
   "source": [
    "len(missing_before_1960) - 43-23-2\n",
    "\n",
    "print(sorted(list(set(missing_before_1960['country']) - set(missing_before_1970['country']))))"
   ]
  },
  {
   "cell_type": "code",
   "execution_count": 30,
   "metadata": {},
   "outputs": [
    {
     "data": {
      "text/plain": [
       "False    64\n",
       "True      1\n",
       "Name: Greece, dtype: int64"
      ]
     },
     "execution_count": 30,
     "metadata": {},
     "output_type": "execute_result"
    }
   ],
   "source": [
    "def how_many_years_missing(_df, _country):\n",
    "    return _df.loc[_country].isnull().value_counts()\n",
    "\n",
    "how_many_years_missing(pivoted, 'Greece')"
   ]
  },
  {
   "cell_type": "code",
   "execution_count": 31,
   "metadata": {
    "collapsed": true
   },
   "outputs": [],
   "source": [
    "#pivoted.loc['Republic of Korea']"
   ]
  },
  {
   "cell_type": "markdown",
   "metadata": {},
   "source": [
    "### GET GDP missing country-year\n"
   ]
  },
  {
   "cell_type": "code",
   "execution_count": 32,
   "metadata": {
    "scrolled": true
   },
   "outputs": [
    {
     "data": {
      "text/plain": [
       "Index(['countrycode', 'country', 'currency_unit', 'year', 'rgdpe', 'rgdpo',\n",
       "       'pop', 'emp', 'avh', 'hc', 'ccon', 'cda', 'cgdpe', 'cgdpo', 'ck',\n",
       "       'ctfp', 'cwtfp', 'rgdpna', 'rconna', 'rdana', 'rkna', 'rtfpna',\n",
       "       'rwtfpna', 'labsh', 'delta', 'xr', 'pl_con', 'pl_da', 'pl_gdpo',\n",
       "       'i_cig', 'i_xm', 'i_xr', 'i_outlier', 'cor_exp', 'statcap', 'csh_c',\n",
       "       'csh_i', 'csh_g', 'csh_x', 'csh_m', 'csh_r', 'pl_c', 'pl_i', 'pl_g',\n",
       "       'pl_x', 'pl_m', 'pl_k', 'rgdpe_pc', 'rgdpo_pc', 'rgdpna_pc', 'cgdpe_pc',\n",
       "       'cgdpo_pc', 'cdgpo_pc', 'rgdpe-pc'],\n",
       "      dtype='object')"
      ]
     },
     "execution_count": 32,
     "metadata": {},
     "output_type": "execute_result"
    }
   ],
   "source": [
    "pwt9.columns"
   ]
  },
  {
   "cell_type": "code",
   "execution_count": 45,
   "metadata": {},
   "outputs": [
    {
     "data": {
      "text/html": [
       "<div>\n",
       "<style>\n",
       "    .dataframe thead tr:only-child th {\n",
       "        text-align: right;\n",
       "    }\n",
       "\n",
       "    .dataframe thead th {\n",
       "        text-align: left;\n",
       "    }\n",
       "\n",
       "    .dataframe tbody tr th {\n",
       "        vertical-align: top;\n",
       "    }\n",
       "</style>\n",
       "<table border=\"1\" class=\"dataframe\">\n",
       "  <thead>\n",
       "    <tr style=\"text-align: right;\">\n",
       "      <th></th>\n",
       "      <th>countrycode</th>\n",
       "      <th>country</th>\n",
       "      <th>year</th>\n",
       "      <th>rgdpe</th>\n",
       "      <th>rgdpna</th>\n",
       "      <th>rgdpo</th>\n",
       "    </tr>\n",
       "  </thead>\n",
       "  <tbody>\n",
       "    <tr>\n",
       "      <th>0</th>\n",
       "      <td>ABW</td>\n",
       "      <td>Aruba</td>\n",
       "      <td>1950</td>\n",
       "      <td>NaN</td>\n",
       "      <td>NaN</td>\n",
       "      <td>NaN</td>\n",
       "    </tr>\n",
       "    <tr>\n",
       "      <th>1</th>\n",
       "      <td>ABW</td>\n",
       "      <td>Aruba</td>\n",
       "      <td>1951</td>\n",
       "      <td>NaN</td>\n",
       "      <td>NaN</td>\n",
       "      <td>NaN</td>\n",
       "    </tr>\n",
       "    <tr>\n",
       "      <th>2</th>\n",
       "      <td>ABW</td>\n",
       "      <td>Aruba</td>\n",
       "      <td>1952</td>\n",
       "      <td>NaN</td>\n",
       "      <td>NaN</td>\n",
       "      <td>NaN</td>\n",
       "    </tr>\n",
       "  </tbody>\n",
       "</table>\n",
       "</div>"
      ],
      "text/plain": [
       "  countrycode country  year  rgdpe  rgdpna  rgdpo\n",
       "0         ABW   Aruba  1950    NaN     NaN    NaN\n",
       "1         ABW   Aruba  1951    NaN     NaN    NaN\n",
       "2         ABW   Aruba  1952    NaN     NaN    NaN"
      ]
     },
     "execution_count": 45,
     "metadata": {},
     "output_type": "execute_result"
    }
   ],
   "source": [
    "list_of_cols = ['countrycode', 'country', 'year', 'rgdpe', 'rgdpna', 'rgdpo']\n",
    "pwt_gdp = pwt9[list_of_cols]\n",
    "pwt_gdp.head(3)"
   ]
  },
  {
   "cell_type": "code",
   "execution_count": 47,
   "metadata": {},
   "outputs": [
    {
     "name": "stdout",
     "output_type": "stream",
     "text": [
      "False    9439\n",
      "True     2391\n",
      "Name: rgdpe, dtype: int64\n"
     ]
    }
   ],
   "source": [
    "print(pwt_gdp['rgdpe'].isnull().value_counts())  # same number as pop"
   ]
  },
  {
   "cell_type": "code",
   "execution_count": 48,
   "metadata": {
    "collapsed": true
   },
   "outputs": [],
   "source": [
    "pivoted_rgdpe=pwt_gdp.pivot_table(index='country', columns='year', values='rgdpe')\n",
    "pivoted_rgdpe.to_csv('pwt9_rgdpe_pivoted.csv', sep=',', encoding='utf-8')\n",
    "reindexed_rgdpe = pivoted_rgdpe.reset_index()"
   ]
  },
  {
   "cell_type": "code",
   "execution_count": 52,
   "metadata": {},
   "outputs": [
    {
     "data": {
      "text/plain": [
       "55"
      ]
     },
     "execution_count": 52,
     "metadata": {},
     "output_type": "execute_result"
    }
   ],
   "source": [
    "countries_with_complete_data_rgdpe = reindexed_rgdpe[~reindexed_rgdpe[1950].isnull()]['country']\n",
    "countries_with_complete_data_rgdpe.tolist()\n",
    "len(countries_with_complete_data_rgpde)"
   ]
  },
  {
   "cell_type": "code",
   "execution_count": 56,
   "metadata": {
    "collapsed": true
   },
   "outputs": [],
   "source": [
    "missing_before_1990_rgdpe=reindexed_rgdpe[reindexed_rgdpe[1989].isnull()]"
   ]
  },
  {
   "cell_type": "code",
   "execution_count": 58,
   "metadata": {},
   "outputs": [
    {
     "name": "stdout",
     "output_type": "stream",
     "text": [
      "25\n"
     ]
    }
   ],
   "source": [
    "missing_before_1990_list2 = missing_before_1990_rgdpe[['country', 1989,1990]]['country'].tolist()\n",
    "\n",
    "print(len(missing_before_1990_list2))"
   ]
  },
  {
   "cell_type": "markdown",
   "metadata": {},
   "source": [
    "## Open UChicago Data"
   ]
  },
  {
   "cell_type": "code",
   "execution_count": 33,
   "metadata": {
    "collapsed": true
   },
   "outputs": [],
   "source": [
    "chicago_data = pd.read_stata('pwt_income_adm1.dta')"
   ]
  },
  {
   "cell_type": "code",
   "execution_count": 41,
   "metadata": {},
   "outputs": [
    {
     "data": {
      "text/plain": [
       "Index(['countryname', 'countrycode', 'region', 'year', 'gdppccountry',\n",
       "       'gdppcstate', 'gdppc_adm0_PWT', 'gdppcstate_rescaled'],\n",
       "      dtype='object')"
      ]
     },
     "execution_count": 41,
     "metadata": {},
     "output_type": "execute_result"
    }
   ],
   "source": [
    "\n",
    "chicago_data.shape\n",
    "chicago_data.columns"
   ]
  },
  {
   "cell_type": "code",
   "execution_count": 34,
   "metadata": {
    "scrolled": true
   },
   "outputs": [
    {
     "data": {
      "text/plain": [
       "706864"
      ]
     },
     "execution_count": 34,
     "metadata": {},
     "output_type": "execute_result"
    }
   ],
   "source": [
    "chicago_data.columns\n",
    "chicago_data.describe()\n",
    "chicago_data.size\n",
    "# chicago_data[10000:10030]"
   ]
  },
  {
   "cell_type": "code",
   "execution_count": 35,
   "metadata": {
    "collapsed": true
   },
   "outputs": [],
   "source": [
    "# chicago_data[['countryname', 'year', 'gdppc_adm0_PWT']]\n"
   ]
  },
  {
   "cell_type": "code",
   "execution_count": null,
   "metadata": {
    "collapsed": true
   },
   "outputs": [],
   "source": []
  }
 ],
 "metadata": {
  "kernelspec": {
   "display_name": "Python 3",
   "language": "python",
   "name": "python3"
  },
  "language_info": {
   "codemirror_mode": {
    "name": "ipython",
    "version": 3
   },
   "file_extension": ".py",
   "mimetype": "text/x-python",
   "name": "python",
   "nbconvert_exporter": "python",
   "pygments_lexer": "ipython3",
   "version": "3.6.3"
  }
 },
 "nbformat": 4,
 "nbformat_minor": 2
}
