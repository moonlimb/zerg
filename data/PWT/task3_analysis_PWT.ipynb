{
 "cells": [
  {
   "cell_type": "code",
   "execution_count": 86,
   "metadata": {
    "collapsed": true
   },
   "outputs": [],
   "source": [
    "import os\n",
    "\n",
    "import matplotlib.pylab as plt\n",
    "import numpy as np\n",
    "import pandas as pd\n",
    "import seaborn as sns\n",
    "import xarray as xr\n",
    "\n",
    "\n",
    "% matplotlib inline"
   ]
  },
  {
   "cell_type": "markdown",
   "metadata": {},
   "source": [
    "## PWT Data Analysis\n",
    "\n",
    "**Data & Scope**\n",
    "\n",
    "* pwt_income_adm1.dta' - from U Chicago - Jingyuan\n",
    "* pwt90.xlsx  (excel)\n",
    "* pwt90.dta - direct download from PWT link\n",
    "\n",
    "**Assumptions/Expectations**\n",
    "* Has both historical/current estimates to future projection data.\n",
    "* Has several types of Income (GDP) data: national accounts based, output-based using PPP (current and constant), expenditure-based using PPP (current and constant).\n",
    "* All GDP values in 2011 millions of USD\n",
    "* Population data in millions\n",
    "\n",
    "**Analysis Goals**\n",
    "\n",
    "**Currently Out of Scope**\n",
    "Future projection X\n",
    "\n",
    "**Conclusion**\n",
    "\n",
    "\n",
    "**Questions**\n",
    "1. What is a national accounts data sources?\n",
    "2. Why does U Chicago team use `gdppcna`? (national-accounts based) Confirm with Jingyuan this is true"
   ]
  },
  {
   "cell_type": "code",
   "execution_count": 87,
   "metadata": {
    "collapsed": true
   },
   "outputs": [],
   "source": [
    "#os.listdir()\n",
    "#  'pwt_income_adm1.dta' - from U Chicago - Jingyuan\n",
    "#   pwt90.xlsx \n",
    "#   pwt90.dta - direct download from PWT link\n",
    "# where wtf99.dta file from?"
   ]
  },
  {
   "cell_type": "markdown",
   "metadata": {},
   "source": [
    "## Open PWT (raw) Data"
   ]
  },
  {
   "cell_type": "code",
   "execution_count": 88,
   "metadata": {
    "collapsed": true
   },
   "outputs": [],
   "source": [
    "pwt9 = pd.read_excel('pwt90.xlsx', sheetname='Data')"
   ]
  },
  {
   "cell_type": "markdown",
   "metadata": {},
   "source": [
    "### Get variable names"
   ]
  },
  {
   "cell_type": "code",
   "execution_count": 89,
   "metadata": {},
   "outputs": [
    {
     "data": {
      "text/plain": [
       "(1950, 2014)"
      ]
     },
     "execution_count": 89,
     "metadata": {},
     "output_type": "execute_result"
    }
   ],
   "source": [
    "pwt9['year'].unique().min(), pwt9['year'].unique().max()"
   ]
  },
  {
   "cell_type": "code",
   "execution_count": 90,
   "metadata": {},
   "outputs": [
    {
     "data": {
      "text/plain": [
       "Index(['countrycode', 'country', 'currency_unit', 'year', 'rgdpe', 'rgdpo',\n",
       "       'pop', 'emp', 'avh', 'hc', 'ccon', 'cda', 'cgdpe', 'cgdpo', 'ck',\n",
       "       'ctfp', 'cwtfp', 'rgdpna', 'rconna', 'rdana', 'rkna', 'rtfpna',\n",
       "       'rwtfpna', 'labsh', 'delta', 'xr', 'pl_con', 'pl_da', 'pl_gdpo',\n",
       "       'i_cig', 'i_xm', 'i_xr', 'i_outlier', 'cor_exp', 'statcap', 'csh_c',\n",
       "       'csh_i', 'csh_g', 'csh_x', 'csh_m', 'csh_r', 'pl_c', 'pl_i', 'pl_g',\n",
       "       'pl_x', 'pl_m', 'pl_k'],\n",
       "      dtype='object')"
      ]
     },
     "execution_count": 90,
     "metadata": {},
     "output_type": "execute_result"
    }
   ],
   "source": [
    "pwt9.columns"
   ]
  },
  {
   "cell_type": "markdown",
   "metadata": {},
   "source": [
    "### GDP analysis"
   ]
  },
  {
   "cell_type": "code",
   "execution_count": 91,
   "metadata": {
    "scrolled": true
   },
   "outputs": [
    {
     "name": "stdout",
     "output_type": "stream",
     "text": [
      "['countrycode', 'country', 'currency_unit', 'year', 'pop', 'rgdpe', 'rgdpo', 'rgdpna', 'cgdpe', 'cgdpo']\n"
     ]
    }
   ],
   "source": [
    "#pwt9.columns\n",
    "sub_vars = ['countrycode', 'country', 'currency_unit', 'year', 'pop']\n",
    "gdps = ['rgdpe', 'rgdpo', 'rgdpna', 'cgdpe', 'cgdpo']\n",
    "gdps_cp = ['rgdpe_pc', 'rgdpo_pc', 'rgdpna_pc', 'cdgec_pc_na', 'rgdpo_pc_pc']\n",
    "sub_vars.extend(gdps)\n",
    "print (sub_vars)\n",
    "pwt9[sub_vars]\n",
    "\n",
    "for gdp in gdps:\n",
    "    pc_gdp = gdp + '_pc'\n",
    "    pwt9[pc_gdp] = pwt9[gdp]/pwt9['pop']\n",
    "    \n",
    "#print (pwt9)"
   ]
  },
  {
   "cell_type": "code",
   "execution_count": 92,
   "metadata": {},
   "outputs": [
    {
     "data": {
      "text/plain": [
       "['countrycode',\n",
       " 'country',\n",
       " 'currency_unit',\n",
       " 'year',\n",
       " 'pop',\n",
       " 'rgdpe',\n",
       " 'rgdpo',\n",
       " 'rgdpna',\n",
       " 'cgdpe',\n",
       " 'cgdpo',\n",
       " 'rgdpe',\n",
       " 'rgdpo',\n",
       " 'rgdpna',\n",
       " 'cgdpe',\n",
       " 'cgdpo']"
      ]
     },
     "execution_count": 92,
     "metadata": {},
     "output_type": "execute_result"
    }
   ],
   "source": [
    "arr = sub_vars.extend(gdps)\n",
    "sub_vars"
   ]
  },
  {
   "cell_type": "code",
   "execution_count": 93,
   "metadata": {},
   "outputs": [
    {
     "data": {
      "text/plain": [
       "Index(['countrycode', 'country', 'currency_unit', 'year', 'rgdpe', 'rgdpo',\n",
       "       'pop', 'emp', 'avh', 'hc', 'ccon', 'cda', 'cgdpe', 'cgdpo', 'ck',\n",
       "       'ctfp', 'cwtfp', 'rgdpna', 'rconna', 'rdana', 'rkna', 'rtfpna',\n",
       "       'rwtfpna', 'labsh', 'delta', 'xr', 'pl_con', 'pl_da', 'pl_gdpo',\n",
       "       'i_cig', 'i_xm', 'i_xr', 'i_outlier', 'cor_exp', 'statcap', 'csh_c',\n",
       "       'csh_i', 'csh_g', 'csh_x', 'csh_m', 'csh_r', 'pl_c', 'pl_i', 'pl_g',\n",
       "       'pl_x', 'pl_m', 'pl_k', 'rgdpe_pc', 'rgdpo_pc', 'rgdpna_pc', 'cgdpe_pc',\n",
       "       'cgdpo_pc'],\n",
       "      dtype='object')"
      ]
     },
     "execution_count": 93,
     "metadata": {},
     "output_type": "execute_result"
    }
   ],
   "source": [
    "pwt9.columns"
   ]
  },
  {
   "cell_type": "markdown",
   "metadata": {},
   "source": [
    "### Find out if all years occur with same frequency - YES (65 years, each with 182 occurences)\n",
    "\n",
    "This is expected as any missing year for a country listed is extrapolated or interpolated."
   ]
  },
  {
   "cell_type": "code",
   "execution_count": 94,
   "metadata": {},
   "outputs": [
    {
     "data": {
      "text/plain": [
       "True"
      ]
     },
     "execution_count": 94,
     "metadata": {},
     "output_type": "execute_result"
    }
   ],
   "source": [
    "years = pwt9['year']\n",
    "years.value_counts() \n",
    "years.sort_values().value_counts().unique() # 182 only\n",
    "# all years appear 182 times\n",
    "years.max() # 2014\n",
    "years.min() # 1950\n",
    "#2014- 1950 #~ 64 years span or 65 years total years\n",
    "\n",
    "# get length of years array\n",
    "# 11830\n",
    "years.size == 65*182 # 65 years * freq_of_year "
   ]
  },
  {
   "cell_type": "code",
   "execution_count": 95,
   "metadata": {
    "collapsed": true
   },
   "outputs": [],
   "source": [
    "#pwt9['currency_unit'].nunique() # 135 currency\n",
    "# Note: we are only interested in USD equivalent that is translated into USD via PPP"
   ]
  },
  {
   "cell_type": "code",
   "execution_count": 96,
   "metadata": {},
   "outputs": [
    {
     "data": {
      "text/plain": [
       "Index(['countrycode', 'country', 'currency_unit', 'year', 'rgdpe', 'rgdpo',\n",
       "       'pop', 'emp', 'avh', 'hc', 'ccon', 'cda', 'cgdpe', 'cgdpo', 'ck',\n",
       "       'ctfp', 'cwtfp', 'rgdpna', 'rconna', 'rdana', 'rkna', 'rtfpna',\n",
       "       'rwtfpna', 'labsh', 'delta', 'xr', 'pl_con', 'pl_da', 'pl_gdpo',\n",
       "       'i_cig', 'i_xm', 'i_xr', 'i_outlier', 'cor_exp', 'statcap', 'csh_c',\n",
       "       'csh_i', 'csh_g', 'csh_x', 'csh_m', 'csh_r', 'pl_c', 'pl_i', 'pl_g',\n",
       "       'pl_x', 'pl_m', 'pl_k', 'rgdpe_pc', 'rgdpo_pc', 'rgdpna_pc', 'cgdpe_pc',\n",
       "       'cgdpo_pc'],\n",
       "      dtype='object')"
      ]
     },
     "execution_count": 96,
     "metadata": {},
     "output_type": "execute_result"
    }
   ],
   "source": [
    "# Get variables\n",
    "pwt9.columns"
   ]
  },
  {
   "cell_type": "code",
   "execution_count": 97,
   "metadata": {
    "collapsed": true
   },
   "outputs": [],
   "source": [
    "# Manually add per capita (_pc) data for eah GW]\n",
    "pwt9['rgdpna_pc'] = pwt9['rgdpna'] / pwt9['pop']\n",
    "\n",
    "pwt9['cdgpo_pc'] = pwt9['cgdpo'] / pwt9['pop']\n",
    "pwt9['cgdpe_pc'] = pwt9['cgdpe'] / pwt9['pop']\n",
    "\n",
    "pwt9['rgdpo_pc'] = pwt9['rgdpo'] / pwt9['pop']\n",
    "pwt9['rgdpe-pc'] = pwt9['rgdpe'] / pwt9['pop']\n",
    "\n",
    "test = pwt9[['country','year', 'rgdpna_pc']]"
   ]
  },
  {
   "cell_type": "markdown",
   "metadata": {},
   "source": [
    "### Pivot table (same as WB data shape - years as columns)"
   ]
  },
  {
   "cell_type": "code",
   "execution_count": 98,
   "metadata": {},
   "outputs": [
    {
     "name": "stdout",
     "output_type": "stream",
     "text": [
      "False    9439\n",
      "True     2391\n",
      "Name: pop, dtype: int64\n",
      "False    9439\n",
      "True     2391\n",
      "Name: rgdpe, dtype: int64\n"
     ]
    }
   ],
   "source": [
    "df_gdp = pwt9[['country', 'countrycode', 'year', 'pop', 'rgdpe']]\n",
    "print(df_gdp['pop'].isnull().value_counts())\n",
    "\n",
    "print(df_gdp['rgdpe'].isnull().value_counts())"
   ]
  },
  {
   "cell_type": "code",
   "execution_count": 99,
   "metadata": {
    "collapsed": true
   },
   "outputs": [],
   "source": [
    "## 12/14 evauation continued...\n",
    "\n",
    "df_pop = pwt9[['country', 'countrycode', 'year', 'pop']]\n",
    "\n",
    "pivoted=df_pop.pivot_table(index=['country', 'countrycode'], columns='year', values='pop')\n",
    "pivoted.to_csv('pwt9_pivoted.csv', sep=',', encoding='utf-8')\n",
    "reindexed_pop = pivoted.reset_index()"
   ]
  },
  {
   "cell_type": "markdown",
   "metadata": {},
   "source": [
    "### a) get countries with complete data"
   ]
  },
  {
   "cell_type": "code",
   "execution_count": 100,
   "metadata": {},
   "outputs": [
    {
     "data": {
      "text/plain": [
       "55"
      ]
     },
     "execution_count": 100,
     "metadata": {},
     "output_type": "execute_result"
    }
   ],
   "source": [
    "countries_with_complete_data = reindexed_pop[~reindexed_pop[1950].isnull()]['country']\n",
    "countries_with_complete_data_list = countries_with_complete_data.tolist()\n",
    "len(countries_with_complete_data)"
   ]
  },
  {
   "cell_type": "code",
   "execution_count": 101,
   "metadata": {
    "scrolled": true
   },
   "outputs": [
    {
     "name": "stdout",
     "output_type": "stream",
     "text": [
      "['Argentina', 'Australia', 'Austria', 'Belgium', 'Bolivia (Plurinational State of)', 'Brazil', 'Canada', 'Colombia', 'Costa Rica', 'Cyprus', 'D.R. of the Congo', 'Denmark', 'Ecuador', 'Egypt', 'El Salvador', 'Ethiopia', 'Finland', 'France', 'Germany', 'Guatemala', 'Honduras', 'Iceland', 'India', 'Ireland', 'Israel', 'Italy', 'Japan', 'Kenya', 'Luxembourg', 'Mauritius', 'Mexico', 'Morocco', 'Netherlands', 'New Zealand', 'Nicaragua', 'Nigeria', 'Norway', 'Pakistan', 'Panama', 'Peru', 'Philippines', 'Portugal', 'South Africa', 'Spain', 'Sri Lanka', 'Sweden', 'Switzerland', 'Thailand', 'Trinidad and Tobago', 'Turkey', 'Uganda', 'United Kingdom', 'United States', 'Uruguay', 'Venezuela (Bolivarian Republic of)']\n"
     ]
    }
   ],
   "source": [
    "print(countries_with_complete_data_list)"
   ]
  },
  {
   "cell_type": "markdown",
   "metadata": {},
   "source": [
    "### Get countries missing data up to 1989"
   ]
  },
  {
   "cell_type": "code",
   "execution_count": 102,
   "metadata": {
    "collapsed": true
   },
   "outputs": [],
   "source": [
    "# get countries missing data on 1989\n",
    "missing_before_1990=reindexed_pop[reindexed_pop[1989].isnull()]"
   ]
  },
  {
   "cell_type": "code",
   "execution_count": 103,
   "metadata": {},
   "outputs": [
    {
     "name": "stdout",
     "output_type": "stream",
     "text": [
      "25\n"
     ]
    }
   ],
   "source": [
    "missing_before_1990_list = missing_before_1990[['country', 1989,1990]]['country'].tolist()\n",
    "\n",
    "print(len(missing_before_1990_list))"
   ]
  },
  {
   "cell_type": "code",
   "execution_count": 104,
   "metadata": {
    "collapsed": true
   },
   "outputs": [],
   "source": [
    "missing_before_1970=reindexed_pop[reindexed_pop[1969].isnull()]"
   ]
  },
  {
   "cell_type": "code",
   "execution_count": 105,
   "metadata": {},
   "outputs": [
    {
     "data": {
      "text/plain": [
       "43"
      ]
     },
     "execution_count": 105,
     "metadata": {},
     "output_type": "execute_result"
    }
   ],
   "source": [
    "len(missing_before_1970)-23-2"
   ]
  },
  {
   "cell_type": "code",
   "execution_count": 106,
   "metadata": {},
   "outputs": [
    {
     "name": "stdout",
     "output_type": "stream",
     "text": [
      "['Albania', 'Angola', 'Anguilla', 'Antigua and Barbuda', 'Aruba', 'Bahamas', 'Bahrain', 'Belize', 'Bermuda', 'Bhutan', 'British Virgin Islands', 'Brunei Darussalam', 'Bulgaria', 'Cambodia', 'Cayman Islands', 'China, Macao SAR', 'Djibouti', 'Dominica', 'Grenada', 'Hungary', 'Iraq', 'Kuwait', \"Lao People's DR\", 'Lebanon', 'Maldives', 'Mongolia', 'Montserrat', 'Oman', 'Poland', 'Qatar', 'Saint Kitts and Nevis', 'Saint Lucia', 'Sao Tome and Principe', 'Saudi Arabia', 'St. Vincent and the Grenadines', 'State of Palestine', 'Sudan (Former)', 'Suriname', 'Swaziland', 'Turks and Caicos Islands', 'United Arab Emirates', 'Viet Nam', 'Yemen']\n"
     ]
    }
   ],
   "source": [
    "print(sorted(list(set(missing_before_1970['country']) - set(missing_before_1990['country']))))"
   ]
  },
  {
   "cell_type": "code",
   "execution_count": 107,
   "metadata": {
    "scrolled": true
   },
   "outputs": [
    {
     "name": "stdout",
     "output_type": "stream",
     "text": [
      "['Albania', 'Angola', 'Anguilla', 'Antigua and Barbuda', 'Armenia', 'Aruba', 'Azerbaijan', 'Bahamas', 'Bahrain', 'Belarus', 'Belize', 'Bermuda', 'Bhutan', 'Bosnia and Herzegovina', 'British Virgin Islands', 'Brunei Darussalam', 'Bulgaria', 'Cambodia', 'Cayman Islands', 'China, Macao SAR', 'Croatia', 'Curaçao', 'Czech Republic', 'Djibouti', 'Dominica', 'Estonia', 'Georgia', 'Grenada', 'Hungary', 'Iraq', 'Kazakhstan', 'Kuwait', 'Kyrgyzstan', \"Lao People's DR\", 'Latvia', 'Lebanon', 'Lithuania', 'Maldives', 'Mongolia', 'Montenegro', 'Montserrat', 'Oman', 'Poland', 'Qatar', 'Republic of Moldova', 'Russian Federation', 'Saint Kitts and Nevis', 'Saint Lucia', 'Sao Tome and Principe', 'Saudi Arabia', 'Serbia', 'Sint Maarten (Dutch part)', 'Slovakia', 'Slovenia', 'St. Vincent and the Grenadines', 'State of Palestine', 'Sudan (Former)', 'Suriname', 'Swaziland', 'TFYR of Macedonia', 'Tajikistan', 'Turkmenistan', 'Turks and Caicos Islands', 'Ukraine', 'United Arab Emirates', 'Uzbekistan', 'Viet Nam', 'Yemen']\n"
     ]
    }
   ],
   "source": [
    "missing_before_1970_list = missing_before_1970[['country', 1969,1970]]['country'].tolist()\n",
    "print(missing_before_1970_list)"
   ]
  },
  {
   "cell_type": "code",
   "execution_count": 108,
   "metadata": {
    "collapsed": true
   },
   "outputs": [],
   "source": [
    "missing_before_1960=reindexed_pop[reindexed_pop[1959].isnull()]"
   ]
  },
  {
   "cell_type": "code",
   "execution_count": 109,
   "metadata": {
    "collapsed": true
   },
   "outputs": [],
   "source": [
    "not_missing_1959=reindexed_pop[~reindexed_pop[1959].isnull()]"
   ]
  },
  {
   "cell_type": "code",
   "execution_count": 110,
   "metadata": {},
   "outputs": [
    {
     "data": {
      "text/plain": [
       "75"
      ]
     },
     "execution_count": 110,
     "metadata": {},
     "output_type": "execute_result"
    }
   ],
   "source": [
    "len(not_missing_1959)"
   ]
  },
  {
   "cell_type": "code",
   "execution_count": 111,
   "metadata": {},
   "outputs": [
    {
     "name": "stdout",
     "output_type": "stream",
     "text": [
      "['Bangladesh', 'Benin', 'Burkina Faso', 'Chile', 'China', 'Dominican Republic', 'Ghana', 'Greece', 'Guinea', 'Iran (Islamic Republic of)', 'Jamaica', 'Jordan', 'Malawi', 'Malaysia', 'Malta', 'Paraguay', 'Republic of Korea', 'Taiwan', 'Zambia', 'Zimbabwe']\n"
     ]
    }
   ],
   "source": [
    "print(sorted(set(not_missing_1959['country']) - set(countries_with_complete_data)))"
   ]
  },
  {
   "cell_type": "code",
   "execution_count": 112,
   "metadata": {},
   "outputs": [
    {
     "name": "stdout",
     "output_type": "stream",
     "text": [
      "['Algeria', 'Barbados', 'Botswana', 'Burundi', 'Cabo Verde', 'Cameroon', 'Central African Republic', 'Chad', 'China, Hong Kong SAR', 'Comoros', 'Congo', \"Côte d'Ivoire\", 'Equatorial Guinea', 'Fiji', 'Gabon', 'Gambia', 'Guinea-Bissau', 'Haiti', 'Indonesia', 'Lesotho', 'Liberia', 'Madagascar', 'Mali', 'Mauritania', 'Mozambique', 'Myanmar', 'Namibia', 'Nepal', 'Niger', 'Romania', 'Rwanda', 'Senegal', 'Seychelles', 'Sierra Leone', 'Singapore', 'Syrian Arab Republic', 'Togo', 'Tunisia', 'U.R. of Tanzania: Mainland']\n"
     ]
    }
   ],
   "source": [
    "len(missing_before_1960) - 43-23-2\n",
    "\n",
    "print(sorted(list(set(missing_before_1960['country']) - set(missing_before_1970['country']))))"
   ]
  },
  {
   "cell_type": "code",
   "execution_count": 113,
   "metadata": {
    "collapsed": true
   },
   "outputs": [],
   "source": [
    "#pivoted.loc['Republic of Korea']"
   ]
  },
  {
   "cell_type": "markdown",
   "metadata": {},
   "source": [
    "### GET GDP missing country-year\n"
   ]
  },
  {
   "cell_type": "code",
   "execution_count": 114,
   "metadata": {
    "scrolled": true
   },
   "outputs": [
    {
     "data": {
      "text/plain": [
       "Index(['countrycode', 'country', 'currency_unit', 'year', 'rgdpe', 'rgdpo',\n",
       "       'pop', 'emp', 'avh', 'hc', 'ccon', 'cda', 'cgdpe', 'cgdpo', 'ck',\n",
       "       'ctfp', 'cwtfp', 'rgdpna', 'rconna', 'rdana', 'rkna', 'rtfpna',\n",
       "       'rwtfpna', 'labsh', 'delta', 'xr', 'pl_con', 'pl_da', 'pl_gdpo',\n",
       "       'i_cig', 'i_xm', 'i_xr', 'i_outlier', 'cor_exp', 'statcap', 'csh_c',\n",
       "       'csh_i', 'csh_g', 'csh_x', 'csh_m', 'csh_r', 'pl_c', 'pl_i', 'pl_g',\n",
       "       'pl_x', 'pl_m', 'pl_k', 'rgdpe_pc', 'rgdpo_pc', 'rgdpna_pc', 'cgdpe_pc',\n",
       "       'cgdpo_pc', 'cdgpo_pc', 'rgdpe-pc'],\n",
       "      dtype='object')"
      ]
     },
     "execution_count": 114,
     "metadata": {},
     "output_type": "execute_result"
    }
   ],
   "source": [
    "pwt9.columns"
   ]
  },
  {
   "cell_type": "code",
   "execution_count": 115,
   "metadata": {},
   "outputs": [
    {
     "data": {
      "text/html": [
       "<div>\n",
       "<style>\n",
       "    .dataframe thead tr:only-child th {\n",
       "        text-align: right;\n",
       "    }\n",
       "\n",
       "    .dataframe thead th {\n",
       "        text-align: left;\n",
       "    }\n",
       "\n",
       "    .dataframe tbody tr th {\n",
       "        vertical-align: top;\n",
       "    }\n",
       "</style>\n",
       "<table border=\"1\" class=\"dataframe\">\n",
       "  <thead>\n",
       "    <tr style=\"text-align: right;\">\n",
       "      <th></th>\n",
       "      <th>countrycode</th>\n",
       "      <th>country</th>\n",
       "      <th>year</th>\n",
       "      <th>rgdpe</th>\n",
       "      <th>rgdpna</th>\n",
       "      <th>rgdpo</th>\n",
       "    </tr>\n",
       "  </thead>\n",
       "  <tbody>\n",
       "    <tr>\n",
       "      <th>0</th>\n",
       "      <td>ABW</td>\n",
       "      <td>Aruba</td>\n",
       "      <td>1950</td>\n",
       "      <td>NaN</td>\n",
       "      <td>NaN</td>\n",
       "      <td>NaN</td>\n",
       "    </tr>\n",
       "    <tr>\n",
       "      <th>1</th>\n",
       "      <td>ABW</td>\n",
       "      <td>Aruba</td>\n",
       "      <td>1951</td>\n",
       "      <td>NaN</td>\n",
       "      <td>NaN</td>\n",
       "      <td>NaN</td>\n",
       "    </tr>\n",
       "    <tr>\n",
       "      <th>2</th>\n",
       "      <td>ABW</td>\n",
       "      <td>Aruba</td>\n",
       "      <td>1952</td>\n",
       "      <td>NaN</td>\n",
       "      <td>NaN</td>\n",
       "      <td>NaN</td>\n",
       "    </tr>\n",
       "  </tbody>\n",
       "</table>\n",
       "</div>"
      ],
      "text/plain": [
       "  countrycode country  year  rgdpe  rgdpna  rgdpo\n",
       "0         ABW   Aruba  1950    NaN     NaN    NaN\n",
       "1         ABW   Aruba  1951    NaN     NaN    NaN\n",
       "2         ABW   Aruba  1952    NaN     NaN    NaN"
      ]
     },
     "execution_count": 115,
     "metadata": {},
     "output_type": "execute_result"
    }
   ],
   "source": [
    "list_of_cols = ['countrycode', 'country', 'year', 'rgdpe', 'rgdpna', 'rgdpo']\n",
    "pwt_gdp = pwt9[list_of_cols]\n",
    "pwt_gdp.head(3)"
   ]
  },
  {
   "cell_type": "code",
   "execution_count": 116,
   "metadata": {},
   "outputs": [
    {
     "name": "stdout",
     "output_type": "stream",
     "text": [
      "False    9439\n",
      "True     2391\n",
      "Name: rgdpe, dtype: int64\n"
     ]
    }
   ],
   "source": [
    "print(pwt_gdp['rgdpe'].isnull().value_counts())  # same number as pop"
   ]
  },
  {
   "cell_type": "code",
   "execution_count": 117,
   "metadata": {
    "collapsed": true
   },
   "outputs": [],
   "source": [
    "pivoted_rgdpe=pwt_gdp.pivot_table(index='country', columns='year', values='rgdpe')\n",
    "pivoted_rgdpe.to_csv('pwt9_rgdpe_pivoted.csv', sep=',', encoding='utf-8')\n",
    "reindexed_rgdpe = pivoted_rgdpe.reset_index()"
   ]
  },
  {
   "cell_type": "code",
   "execution_count": 118,
   "metadata": {},
   "outputs": [
    {
     "data": {
      "text/plain": [
       "55"
      ]
     },
     "execution_count": 118,
     "metadata": {},
     "output_type": "execute_result"
    }
   ],
   "source": [
    "countries_with_complete_data_rgdpe = reindexed_rgdpe[~reindexed_rgdpe[1950].isnull()]['country']\n",
    "countries_with_complete_data_rgdpe.tolist()\n",
    "len(countries_with_complete_data_rgdpe)"
   ]
  },
  {
   "cell_type": "code",
   "execution_count": 119,
   "metadata": {
    "collapsed": true
   },
   "outputs": [],
   "source": [
    "missing_before_1990_rgdpe=reindexed_rgdpe[reindexed_rgdpe[1989].isnull()]"
   ]
  },
  {
   "cell_type": "code",
   "execution_count": 120,
   "metadata": {},
   "outputs": [
    {
     "name": "stdout",
     "output_type": "stream",
     "text": [
      "25\n"
     ]
    }
   ],
   "source": [
    "missing_before_1990_list2 = missing_before_1990_rgdpe[['country', 1989,1990]]['country'].tolist()\n",
    "\n",
    "print(len(missing_before_1990_list2))"
   ]
  },
  {
   "cell_type": "markdown",
   "metadata": {},
   "source": [
    "## Open UChicago Data"
   ]
  },
  {
   "cell_type": "code",
   "execution_count": 121,
   "metadata": {
    "collapsed": true
   },
   "outputs": [],
   "source": [
    "chicago_data = pd.read_stata('pwt_income_adm1.dta')"
   ]
  },
  {
   "cell_type": "code",
   "execution_count": 122,
   "metadata": {},
   "outputs": [
    {
     "data": {
      "text/plain": [
       "Index(['countryname', 'countrycode', 'region', 'year', 'gdppccountry',\n",
       "       'gdppcstate', 'gdppc_adm0_PWT', 'gdppcstate_rescaled'],\n",
       "      dtype='object')"
      ]
     },
     "execution_count": 122,
     "metadata": {},
     "output_type": "execute_result"
    }
   ],
   "source": [
    "chicago_data.shape\n",
    "chicago_data.columns"
   ]
  },
  {
   "cell_type": "code",
   "execution_count": 123,
   "metadata": {},
   "outputs": [
    {
     "name": "stdout",
     "output_type": "stream",
     "text": [
      "{1950: nan, 1951: nan, 1952: 515462.8125, 1953: 566197.4375, 1954: 578074.5625, 1955: 611264.5625, 1956: 654037.3125, 1957: 710112.625, 1958: 789277.125, 1959: 788445.9375, 1960: 740097.375, 1961: 539199.6875, 1962: 601922.4375, 1963: 668159.3125, 1964: 761998.25, 1965: 828336.5625, 1966: 893297.125, 1967: 859955.75, 1968: 823027.75, 1969: 925836.5625, 1970: 1038634.75, 1971: 1112717.875, 1972: 1113112.0, 1973: 1188522.375, 1974: 1199714.625, 1975: 1259276.375, 1976: 1255957.25, 1977: 1292414.5, 1978: 1459760.25, 1979: 1528231.5, 1980: 1563493.625, 1981: 1628167.75, 1982: 1781943.125, 1983: 1898942.125, 1984: 2123950.0, 1985: 2295097.5, 1986: 2415650.5, 1987: 2600728.0, 1988: 2682387.75, 1989: 2679917.75, 1990: 2755448.0, 1991: 2936986.5, 1992: 3192967.5, 1993: 3483308.0, 1994: 3764241.75, 1995: 4222166.5, 1996: 4362428.5, 1997: 4657996.5, 1998: 4652117.5, 1999: 4925991.5, 2000: 5229666.0, 2001: 5620697.0, 2002: 6249123.0, 2003: 6770642.0, 2004: 7526537.5, 2005: 8356256.0, 2006: 9352954.0, 2007: 10370261.0, 2008: 10658064.0, 2009: 11616172.0, 2010: 12680616.0, 2011: 13758196.0, 2012: 14834279.0, 2013: 15904816.0, 2014: 17080304.0}\n"
     ]
    }
   ],
   "source": [
    "china_pwt = pivoted_rgdpe.loc['China']\n",
    "print(china_pwt.to_dict())"
   ]
  },
  {
   "cell_type": "code",
   "execution_count": 124,
   "metadata": {
    "collapsed": true
   },
   "outputs": [],
   "source": [
    "# # Manually add per capita (_pc) data for eah GW]\n",
    "# Recallt this!\n",
    "# pwt9['rgdpna_pc'] = pwt9['rgdpna'] / pwt9['pop']\n",
    "# pwt9['rgdpe-pc'] = pwt9['rgdpe'] / pwt9['pop']"
   ]
  },
  {
   "cell_type": "code",
   "execution_count": 125,
   "metadata": {
    "collapsed": true
   },
   "outputs": [],
   "source": [
    "# Get country row\n",
    "\n",
    "def get_country_by_name(_df, _country_name):\n",
    "    return _df[_df['country'] == _country_name]"
   ]
  },
  {
   "cell_type": "code",
   "execution_count": 126,
   "metadata": {},
   "outputs": [
    {
     "name": "stdout",
     "output_type": "stream",
     "text": [
      "[nan, nan, 910.3774635172614, 983.4547428718112, 986.3007636945035, 1022.2934542957586, 1071.909497459037, 1137.9363077847406, 1238.4149777531177, 1222.6546167088175, 1154.1865378946632, 848.6992572632706, 934.9062446432222, 1005.5449621300505, 1110.8254260958108, 1174.6557247449136, 1231.7327360393058, 1155.278374941148, 1075.991559258536, 1176.3175982044324, 1284.6270720966934, 1341.6458855363499, 1309.8702403291554, 1366.9428298098057, 1350.828026712101, 1390.5737275499584, 1362.670425164031, 1379.9671889681374, 1535.7211378162021, 1585.0472393253012, 1598.930018667019, 1642.0366725244123, 1772.4982369793859, 1862.2584730255678, 2051.474341036538, 2180.3616170398655, 2253.7522625626207, 2380.2093642637046, 2407.5383021603166, 2360.8947438103432, 2386.4838236868923, 2505.260407828704, 2686.6648823092364, 2895.5588984217984, 3095.422932128964, 3438.690786289014, 3523.1026622105633, 3734.5859728847063, 3706.091160532545, 3901.115265601892, 4117.929693477359, 4400.834909616224, 4865.5921685418425, 5242.522709631871, 5796.006324114089, 6400.315539063427, 7125.512533083582, 7858.489685992257, 8033.571437674638, 8709.034703919542, 9456.309942295098, 10205.055966057236, 10944.681869713027, 11673.137277843976, 12472.512856335925]\n"
     ]
    }
   ],
   "source": [
    "df_rgdpe_pc = pwt9[['country','rgdpe-pc']]\n",
    "df_rgdpna_pc = pwt9[['country','rgdpna_pc']]\n",
    "\n",
    "china_rgdpe_pc = get_country_by_name(df_rgdpe_pc, 'China')\n",
    "print(china_rgdpe_pc['rgdpe-pc'].tolist())"
   ]
  },
  {
   "cell_type": "code",
   "execution_count": 127,
   "metadata": {},
   "outputs": [
    {
     "name": "stdout",
     "output_type": "stream",
     "text": [
      "[nan, nan, 819.4801801744848, 883.3232423348202, 887.0476960736373, 909.831937317056, 969.3167914560682, 1027.6427985306, 1127.45443597709, 1143.881514014429, 1099.0458056404734, 776.9543602229973, 834.2620542382895, 910.1780119632682, 1008.247678408987, 1072.423318442779, 1119.323404422334, 1030.2588998802494, 962.3970576204317, 1048.7136036691477, 1149.7906552785528, 1177.0089595136724, 1175.1817195307954, 1226.0652600863177, 1221.4751810061875, 1275.1452743659897, 1210.1751180173244, 1254.0253743307462, 1374.1354249219867, 1450.2314148236237, 1488.6673140892124, 1554.5324720842766, 1667.8104486066263, 1759.9342295770327, 1931.8450481244906, 2079.793503541313, 2166.7174090862263, 2292.1518553124974, 2356.740259568621, 2338.4988115468127, 2310.8144895790333, 2417.4600952555566, 2611.265216708936, 2857.8224950826507, 3063.5050778776035, 3443.1604193636817, 3541.382312457623, 3763.4272126558385, 3754.6280178007, 3953.862378890208, 4181.044342988625, 4446.292950425033, 4898.048276310191, 5310.276858488402, 5841.430415475801, 6332.587707161263, 7046.924287557063, 7853.112401581402, 8211.136571254128, 8833.032397879873, 9529.798605588223, 10221.16812390807, 10949.619205128663, 11731.052268032778, 12523.799675818289]\n"
     ]
    }
   ],
   "source": [
    "china_rgdpna_pc = get_country_by_name(df_rgdpna_pc, 'China')\n",
    "print(china_rgdpna_pc['rgdpna_pc'].tolist())"
   ]
  },
  {
   "cell_type": "code",
   "execution_count": 128,
   "metadata": {},
   "outputs": [
    {
     "data": {
      "text/html": [
       "<div>\n",
       "<style>\n",
       "    .dataframe thead tr:only-child th {\n",
       "        text-align: right;\n",
       "    }\n",
       "\n",
       "    .dataframe thead th {\n",
       "        text-align: left;\n",
       "    }\n",
       "\n",
       "    .dataframe tbody tr th {\n",
       "        vertical-align: top;\n",
       "    }\n",
       "</style>\n",
       "<table border=\"1\" class=\"dataframe\">\n",
       "  <thead>\n",
       "    <tr style=\"text-align: right;\">\n",
       "      <th></th>\n",
       "      <th>gdppccountry</th>\n",
       "      <th>gdppcstate</th>\n",
       "      <th>gdppc_adm0_PWT</th>\n",
       "      <th>gdppcstate_rescaled</th>\n",
       "    </tr>\n",
       "    <tr>\n",
       "      <th>year</th>\n",
       "      <th></th>\n",
       "      <th></th>\n",
       "      <th></th>\n",
       "      <th></th>\n",
       "    </tr>\n",
       "  </thead>\n",
       "  <tbody>\n",
       "    <tr>\n",
       "      <th>1952</th>\n",
       "      <td>NaN</td>\n",
       "      <td>NaN</td>\n",
       "      <td>819.480164</td>\n",
       "      <td>NaN</td>\n",
       "    </tr>\n",
       "    <tr>\n",
       "      <th>1953</th>\n",
       "      <td>NaN</td>\n",
       "      <td>NaN</td>\n",
       "      <td>883.323242</td>\n",
       "      <td>NaN</td>\n",
       "    </tr>\n",
       "    <tr>\n",
       "      <th>1954</th>\n",
       "      <td>NaN</td>\n",
       "      <td>NaN</td>\n",
       "      <td>887.047668</td>\n",
       "      <td>NaN</td>\n",
       "    </tr>\n",
       "    <tr>\n",
       "      <th>1955</th>\n",
       "      <td>575.902222</td>\n",
       "      <td>851.882446</td>\n",
       "      <td>909.831909</td>\n",
       "      <td>1345.835815</td>\n",
       "    </tr>\n",
       "    <tr>\n",
       "      <th>1956</th>\n",
       "      <td>NaN</td>\n",
       "      <td>NaN</td>\n",
       "      <td>969.316772</td>\n",
       "      <td>1433.826660</td>\n",
       "    </tr>\n",
       "    <tr>\n",
       "      <th>1957</th>\n",
       "      <td>NaN</td>\n",
       "      <td>NaN</td>\n",
       "      <td>1027.642822</td>\n",
       "      <td>1520.103394</td>\n",
       "    </tr>\n",
       "    <tr>\n",
       "      <th>1958</th>\n",
       "      <td>NaN</td>\n",
       "      <td>NaN</td>\n",
       "      <td>1127.454468</td>\n",
       "      <td>1667.746216</td>\n",
       "    </tr>\n",
       "    <tr>\n",
       "      <th>1959</th>\n",
       "      <td>NaN</td>\n",
       "      <td>NaN</td>\n",
       "      <td>1143.881470</td>\n",
       "      <td>1692.045166</td>\n",
       "    </tr>\n",
       "    <tr>\n",
       "      <th>1960</th>\n",
       "      <td>771.659729</td>\n",
       "      <td>1247.902954</td>\n",
       "      <td>1099.045776</td>\n",
       "      <td>1777.341064</td>\n",
       "    </tr>\n",
       "    <tr>\n",
       "      <th>1961</th>\n",
       "      <td>NaN</td>\n",
       "      <td>NaN</td>\n",
       "      <td>776.954346</td>\n",
       "      <td>1256.465210</td>\n",
       "    </tr>\n",
       "    <tr>\n",
       "      <th>1962</th>\n",
       "      <td>NaN</td>\n",
       "      <td>NaN</td>\n",
       "      <td>834.262024</td>\n",
       "      <td>1349.141357</td>\n",
       "    </tr>\n",
       "    <tr>\n",
       "      <th>1963</th>\n",
       "      <td>NaN</td>\n",
       "      <td>NaN</td>\n",
       "      <td>910.178040</td>\n",
       "      <td>1471.910278</td>\n",
       "    </tr>\n",
       "    <tr>\n",
       "      <th>1964</th>\n",
       "      <td>NaN</td>\n",
       "      <td>NaN</td>\n",
       "      <td>1008.247681</td>\n",
       "      <td>1630.505249</td>\n",
       "    </tr>\n",
       "    <tr>\n",
       "      <th>1965</th>\n",
       "      <td>731.349792</td>\n",
       "      <td>1024.384521</td>\n",
       "      <td>1072.423340</td>\n",
       "      <td>1502.118286</td>\n",
       "    </tr>\n",
       "    <tr>\n",
       "      <th>1966</th>\n",
       "      <td>NaN</td>\n",
       "      <td>NaN</td>\n",
       "      <td>1119.323364</td>\n",
       "      <td>1567.810059</td>\n",
       "    </tr>\n",
       "    <tr>\n",
       "      <th>1967</th>\n",
       "      <td>NaN</td>\n",
       "      <td>NaN</td>\n",
       "      <td>1030.258911</td>\n",
       "      <td>1443.059570</td>\n",
       "    </tr>\n",
       "    <tr>\n",
       "      <th>1968</th>\n",
       "      <td>NaN</td>\n",
       "      <td>NaN</td>\n",
       "      <td>962.397034</td>\n",
       "      <td>1348.006958</td>\n",
       "    </tr>\n",
       "    <tr>\n",
       "      <th>1969</th>\n",
       "      <td>NaN</td>\n",
       "      <td>NaN</td>\n",
       "      <td>1048.713623</td>\n",
       "      <td>1468.908569</td>\n",
       "    </tr>\n",
       "    <tr>\n",
       "      <th>1970</th>\n",
       "      <td>818.804871</td>\n",
       "      <td>1116.853638</td>\n",
       "      <td>1149.790649</td>\n",
       "      <td>1568.319824</td>\n",
       "    </tr>\n",
       "    <tr>\n",
       "      <th>1971</th>\n",
       "      <td>NaN</td>\n",
       "      <td>NaN</td>\n",
       "      <td>1177.008911</td>\n",
       "      <td>1605.445679</td>\n",
       "    </tr>\n",
       "    <tr>\n",
       "      <th>1972</th>\n",
       "      <td>NaN</td>\n",
       "      <td>NaN</td>\n",
       "      <td>1175.181763</td>\n",
       "      <td>1602.953369</td>\n",
       "    </tr>\n",
       "    <tr>\n",
       "      <th>1973</th>\n",
       "      <td>NaN</td>\n",
       "      <td>NaN</td>\n",
       "      <td>1226.065308</td>\n",
       "      <td>1672.358765</td>\n",
       "    </tr>\n",
       "    <tr>\n",
       "      <th>1974</th>\n",
       "      <td>NaN</td>\n",
       "      <td>NaN</td>\n",
       "      <td>1221.475220</td>\n",
       "      <td>1666.097900</td>\n",
       "    </tr>\n",
       "    <tr>\n",
       "      <th>1975</th>\n",
       "      <td>925.895874</td>\n",
       "      <td>1244.700073</td>\n",
       "      <td>1275.145264</td>\n",
       "      <td>1714.202759</td>\n",
       "    </tr>\n",
       "    <tr>\n",
       "      <th>1976</th>\n",
       "      <td>NaN</td>\n",
       "      <td>NaN</td>\n",
       "      <td>1210.175171</td>\n",
       "      <td>1626.862305</td>\n",
       "    </tr>\n",
       "    <tr>\n",
       "      <th>1977</th>\n",
       "      <td>NaN</td>\n",
       "      <td>NaN</td>\n",
       "      <td>1254.025391</td>\n",
       "      <td>1685.810913</td>\n",
       "    </tr>\n",
       "    <tr>\n",
       "      <th>1978</th>\n",
       "      <td>NaN</td>\n",
       "      <td>NaN</td>\n",
       "      <td>1374.135376</td>\n",
       "      <td>1847.277222</td>\n",
       "    </tr>\n",
       "    <tr>\n",
       "      <th>1979</th>\n",
       "      <td>NaN</td>\n",
       "      <td>NaN</td>\n",
       "      <td>1450.231445</td>\n",
       "      <td>1949.574585</td>\n",
       "    </tr>\n",
       "    <tr>\n",
       "      <th>1980</th>\n",
       "      <td>1085.243042</td>\n",
       "      <td>1406.549194</td>\n",
       "      <td>1488.667358</td>\n",
       "      <td>1929.414795</td>\n",
       "    </tr>\n",
       "    <tr>\n",
       "      <th>1981</th>\n",
       "      <td>NaN</td>\n",
       "      <td>NaN</td>\n",
       "      <td>1554.532471</td>\n",
       "      <td>2014.780518</td>\n",
       "    </tr>\n",
       "    <tr>\n",
       "      <th>...</th>\n",
       "      <td>...</td>\n",
       "      <td>...</td>\n",
       "      <td>...</td>\n",
       "      <td>...</td>\n",
       "    </tr>\n",
       "    <tr>\n",
       "      <th>1985</th>\n",
       "      <td>1494.035034</td>\n",
       "      <td>1833.207886</td>\n",
       "      <td>2079.793457</td>\n",
       "      <td>2551.943848</td>\n",
       "    </tr>\n",
       "    <tr>\n",
       "      <th>1986</th>\n",
       "      <td>NaN</td>\n",
       "      <td>NaN</td>\n",
       "      <td>2166.717529</td>\n",
       "      <td>2658.601562</td>\n",
       "    </tr>\n",
       "    <tr>\n",
       "      <th>1987</th>\n",
       "      <td>NaN</td>\n",
       "      <td>NaN</td>\n",
       "      <td>2292.151855</td>\n",
       "      <td>2812.511475</td>\n",
       "    </tr>\n",
       "    <tr>\n",
       "      <th>1988</th>\n",
       "      <td>NaN</td>\n",
       "      <td>NaN</td>\n",
       "      <td>2356.740234</td>\n",
       "      <td>2891.762695</td>\n",
       "    </tr>\n",
       "    <tr>\n",
       "      <th>1989</th>\n",
       "      <td>NaN</td>\n",
       "      <td>NaN</td>\n",
       "      <td>2338.498779</td>\n",
       "      <td>2869.380127</td>\n",
       "    </tr>\n",
       "    <tr>\n",
       "      <th>1990</th>\n",
       "      <td>1718.062012</td>\n",
       "      <td>1950.315063</td>\n",
       "      <td>2310.814453</td>\n",
       "      <td>2623.197754</td>\n",
       "    </tr>\n",
       "    <tr>\n",
       "      <th>1991</th>\n",
       "      <td>NaN</td>\n",
       "      <td>NaN</td>\n",
       "      <td>2417.460205</td>\n",
       "      <td>2744.260010</td>\n",
       "    </tr>\n",
       "    <tr>\n",
       "      <th>1992</th>\n",
       "      <td>NaN</td>\n",
       "      <td>NaN</td>\n",
       "      <td>2611.265137</td>\n",
       "      <td>2964.264160</td>\n",
       "    </tr>\n",
       "    <tr>\n",
       "      <th>1993</th>\n",
       "      <td>NaN</td>\n",
       "      <td>NaN</td>\n",
       "      <td>2857.822510</td>\n",
       "      <td>3244.152100</td>\n",
       "    </tr>\n",
       "    <tr>\n",
       "      <th>1994</th>\n",
       "      <td>NaN</td>\n",
       "      <td>NaN</td>\n",
       "      <td>3063.505127</td>\n",
       "      <td>3477.639404</td>\n",
       "    </tr>\n",
       "    <tr>\n",
       "      <th>1995</th>\n",
       "      <td>2559.319092</td>\n",
       "      <td>2766.342041</td>\n",
       "      <td>3443.160400</td>\n",
       "      <td>3721.677002</td>\n",
       "    </tr>\n",
       "    <tr>\n",
       "      <th>1996</th>\n",
       "      <td>NaN</td>\n",
       "      <td>NaN</td>\n",
       "      <td>3541.382324</td>\n",
       "      <td>3827.843994</td>\n",
       "    </tr>\n",
       "    <tr>\n",
       "      <th>1997</th>\n",
       "      <td>NaN</td>\n",
       "      <td>NaN</td>\n",
       "      <td>3763.427246</td>\n",
       "      <td>4067.850098</td>\n",
       "    </tr>\n",
       "    <tr>\n",
       "      <th>1998</th>\n",
       "      <td>NaN</td>\n",
       "      <td>NaN</td>\n",
       "      <td>3754.627930</td>\n",
       "      <td>4058.339111</td>\n",
       "    </tr>\n",
       "    <tr>\n",
       "      <th>1999</th>\n",
       "      <td>NaN</td>\n",
       "      <td>NaN</td>\n",
       "      <td>3953.862305</td>\n",
       "      <td>4273.689453</td>\n",
       "    </tr>\n",
       "    <tr>\n",
       "      <th>2000</th>\n",
       "      <td>3173.696045</td>\n",
       "      <td>3477.682861</td>\n",
       "      <td>4181.044434</td>\n",
       "      <td>4581.518555</td>\n",
       "    </tr>\n",
       "    <tr>\n",
       "      <th>2001</th>\n",
       "      <td>NaN</td>\n",
       "      <td>NaN</td>\n",
       "      <td>4446.292969</td>\n",
       "      <td>4872.173340</td>\n",
       "    </tr>\n",
       "    <tr>\n",
       "      <th>2002</th>\n",
       "      <td>NaN</td>\n",
       "      <td>NaN</td>\n",
       "      <td>4898.048340</td>\n",
       "      <td>5367.199219</td>\n",
       "    </tr>\n",
       "    <tr>\n",
       "      <th>2003</th>\n",
       "      <td>NaN</td>\n",
       "      <td>NaN</td>\n",
       "      <td>5310.276855</td>\n",
       "      <td>5818.912109</td>\n",
       "    </tr>\n",
       "    <tr>\n",
       "      <th>2004</th>\n",
       "      <td>NaN</td>\n",
       "      <td>NaN</td>\n",
       "      <td>5841.430176</td>\n",
       "      <td>6400.940918</td>\n",
       "    </tr>\n",
       "    <tr>\n",
       "      <th>2005</th>\n",
       "      <td>4802.164062</td>\n",
       "      <td>5207.173340</td>\n",
       "      <td>6332.587891</td>\n",
       "      <td>6866.671387</td>\n",
       "    </tr>\n",
       "    <tr>\n",
       "      <th>2006</th>\n",
       "      <td>NaN</td>\n",
       "      <td>NaN</td>\n",
       "      <td>7046.924316</td>\n",
       "      <td>7641.254395</td>\n",
       "    </tr>\n",
       "    <tr>\n",
       "      <th>2007</th>\n",
       "      <td>NaN</td>\n",
       "      <td>NaN</td>\n",
       "      <td>7853.112305</td>\n",
       "      <td>8515.435547</td>\n",
       "    </tr>\n",
       "    <tr>\n",
       "      <th>2008</th>\n",
       "      <td>NaN</td>\n",
       "      <td>NaN</td>\n",
       "      <td>8211.136719</td>\n",
       "      <td>8903.655273</td>\n",
       "    </tr>\n",
       "    <tr>\n",
       "      <th>2009</th>\n",
       "      <td>NaN</td>\n",
       "      <td>NaN</td>\n",
       "      <td>8833.032227</td>\n",
       "      <td>9578.000977</td>\n",
       "    </tr>\n",
       "    <tr>\n",
       "      <th>2010</th>\n",
       "      <td>7746.065918</td>\n",
       "      <td>8011.769531</td>\n",
       "      <td>9529.798828</td>\n",
       "      <td>9856.687500</td>\n",
       "    </tr>\n",
       "    <tr>\n",
       "      <th>2011</th>\n",
       "      <td>NaN</td>\n",
       "      <td>NaN</td>\n",
       "      <td>10221.167969</td>\n",
       "      <td>10571.772461</td>\n",
       "    </tr>\n",
       "    <tr>\n",
       "      <th>2012</th>\n",
       "      <td>NaN</td>\n",
       "      <td>NaN</td>\n",
       "      <td>10949.619141</td>\n",
       "      <td>11325.209961</td>\n",
       "    </tr>\n",
       "    <tr>\n",
       "      <th>2013</th>\n",
       "      <td>NaN</td>\n",
       "      <td>NaN</td>\n",
       "      <td>11731.052734</td>\n",
       "      <td>12133.448242</td>\n",
       "    </tr>\n",
       "    <tr>\n",
       "      <th>2014</th>\n",
       "      <td>NaN</td>\n",
       "      <td>NaN</td>\n",
       "      <td>12523.799805</td>\n",
       "      <td>12953.388672</td>\n",
       "    </tr>\n",
       "  </tbody>\n",
       "</table>\n",
       "<p>63 rows × 4 columns</p>\n",
       "</div>"
      ],
      "text/plain": [
       "      gdppccountry   gdppcstate  gdppc_adm0_PWT  gdppcstate_rescaled\n",
       "year                                                                \n",
       "1952           NaN          NaN      819.480164                  NaN\n",
       "1953           NaN          NaN      883.323242                  NaN\n",
       "1954           NaN          NaN      887.047668                  NaN\n",
       "1955    575.902222   851.882446      909.831909          1345.835815\n",
       "1956           NaN          NaN      969.316772          1433.826660\n",
       "1957           NaN          NaN     1027.642822          1520.103394\n",
       "1958           NaN          NaN     1127.454468          1667.746216\n",
       "1959           NaN          NaN     1143.881470          1692.045166\n",
       "1960    771.659729  1247.902954     1099.045776          1777.341064\n",
       "1961           NaN          NaN      776.954346          1256.465210\n",
       "1962           NaN          NaN      834.262024          1349.141357\n",
       "1963           NaN          NaN      910.178040          1471.910278\n",
       "1964           NaN          NaN     1008.247681          1630.505249\n",
       "1965    731.349792  1024.384521     1072.423340          1502.118286\n",
       "1966           NaN          NaN     1119.323364          1567.810059\n",
       "1967           NaN          NaN     1030.258911          1443.059570\n",
       "1968           NaN          NaN      962.397034          1348.006958\n",
       "1969           NaN          NaN     1048.713623          1468.908569\n",
       "1970    818.804871  1116.853638     1149.790649          1568.319824\n",
       "1971           NaN          NaN     1177.008911          1605.445679\n",
       "1972           NaN          NaN     1175.181763          1602.953369\n",
       "1973           NaN          NaN     1226.065308          1672.358765\n",
       "1974           NaN          NaN     1221.475220          1666.097900\n",
       "1975    925.895874  1244.700073     1275.145264          1714.202759\n",
       "1976           NaN          NaN     1210.175171          1626.862305\n",
       "1977           NaN          NaN     1254.025391          1685.810913\n",
       "1978           NaN          NaN     1374.135376          1847.277222\n",
       "1979           NaN          NaN     1450.231445          1949.574585\n",
       "1980   1085.243042  1406.549194     1488.667358          1929.414795\n",
       "1981           NaN          NaN     1554.532471          2014.780518\n",
       "...            ...          ...             ...                  ...\n",
       "1985   1494.035034  1833.207886     2079.793457          2551.943848\n",
       "1986           NaN          NaN     2166.717529          2658.601562\n",
       "1987           NaN          NaN     2292.151855          2812.511475\n",
       "1988           NaN          NaN     2356.740234          2891.762695\n",
       "1989           NaN          NaN     2338.498779          2869.380127\n",
       "1990   1718.062012  1950.315063     2310.814453          2623.197754\n",
       "1991           NaN          NaN     2417.460205          2744.260010\n",
       "1992           NaN          NaN     2611.265137          2964.264160\n",
       "1993           NaN          NaN     2857.822510          3244.152100\n",
       "1994           NaN          NaN     3063.505127          3477.639404\n",
       "1995   2559.319092  2766.342041     3443.160400          3721.677002\n",
       "1996           NaN          NaN     3541.382324          3827.843994\n",
       "1997           NaN          NaN     3763.427246          4067.850098\n",
       "1998           NaN          NaN     3754.627930          4058.339111\n",
       "1999           NaN          NaN     3953.862305          4273.689453\n",
       "2000   3173.696045  3477.682861     4181.044434          4581.518555\n",
       "2001           NaN          NaN     4446.292969          4872.173340\n",
       "2002           NaN          NaN     4898.048340          5367.199219\n",
       "2003           NaN          NaN     5310.276855          5818.912109\n",
       "2004           NaN          NaN     5841.430176          6400.940918\n",
       "2005   4802.164062  5207.173340     6332.587891          6866.671387\n",
       "2006           NaN          NaN     7046.924316          7641.254395\n",
       "2007           NaN          NaN     7853.112305          8515.435547\n",
       "2008           NaN          NaN     8211.136719          8903.655273\n",
       "2009           NaN          NaN     8833.032227          9578.000977\n",
       "2010   7746.065918  8011.769531     9529.798828          9856.687500\n",
       "2011           NaN          NaN    10221.167969         10571.772461\n",
       "2012           NaN          NaN    10949.619141         11325.209961\n",
       "2013           NaN          NaN    11731.052734         12133.448242\n",
       "2014           NaN          NaN    12523.799805         12953.388672\n",
       "\n",
       "[63 rows x 4 columns]"
      ]
     },
     "execution_count": 128,
     "metadata": {},
     "output_type": "execute_result"
    }
   ],
   "source": [
    "china = chicago_data[chicago_data['countryname']=='China']\n",
    "china.groupby('year').mean()"
   ]
  },
  {
   "cell_type": "code",
   "execution_count": 129,
   "metadata": {
    "collapsed": true
   },
   "outputs": [],
   "source": [
    "# df_rgdpe_pc = pwt9[['country','rgdpe-pc']]\n",
    "# # df_rgdpna_pc = pwt9[['country','rgdpna_pc']]\n",
    "\n",
    "# china_rgdpe_pc = get_country_by_name(df_rgdpe_pc, 'China')\n",
    "# print(china_rgdpe_pc['rgdpe-pc'].tolist())\n",
    "# china = chicago_data[chicago_data['countryname']=='China']\n",
    "# china.groupby('year').mean()"
   ]
  },
  {
   "cell_type": "code",
   "execution_count": 130,
   "metadata": {},
   "outputs": [
    {
     "data": {
      "text/plain": [
       "['United Arab Emirates',\n",
       " 'United Kingdom',\n",
       " 'U.R. of Tanzania: Mainland',\n",
       " 'Uganda',\n",
       " 'Ukraine',\n",
       " 'Uruguay',\n",
       " 'United States',\n",
       " 'Uzbekistan']"
      ]
     },
     "execution_count": 130,
     "metadata": {},
     "output_type": "execute_result"
    }
   ],
   "source": [
    "[cc for cc in df_rgdpe_pc['country'].unique().tolist() if cc.startswith('U')]"
   ]
  },
  {
   "cell_type": "code",
   "execution_count": 131,
   "metadata": {},
   "outputs": [
    {
     "data": {
      "text/plain": [
       "['United Arab Emirates',\n",
       " 'United Kingdom',\n",
       " 'Ukraine',\n",
       " 'Uruguay',\n",
       " 'United States',\n",
       " 'Uzbekistan']"
      ]
     },
     "execution_count": 131,
     "metadata": {},
     "output_type": "execute_result"
    }
   ],
   "source": [
    "[cc for cc in chicago_data['countryname'].unique().tolist() if cc.startswith('U')]"
   ]
  },
  {
   "cell_type": "code",
   "execution_count": 132,
   "metadata": {
    "collapsed": true
   },
   "outputs": [],
   "source": [
    "#pwt\n",
    "usa_rgdpe_pc = get_country_by_name(df_rgdpe_pc, 'United States')\n",
    "usa_rgpdna_pc = get_country_by_name(df_rgdpna_pc, 'United States')\n",
    "usa_uchic = chicago_data[chicago_data['countryname']=='United States']"
   ]
  },
  {
   "cell_type": "code",
   "execution_count": 133,
   "metadata": {},
   "outputs": [],
   "source": [
    "na = usa_uchic.groupby('year').mean()['gdppc_adm0_PWT'].tolist()"
   ]
  },
  {
   "cell_type": "code",
   "execution_count": 134,
   "metadata": {},
   "outputs": [],
   "source": [
    "pe = usa_rgdpe_pc['rgdpe-pc'].tolist()"
   ]
  },
  {
   "cell_type": "code",
   "execution_count": 135,
   "metadata": {},
   "outputs": [
    {
     "data": {
      "text/plain": [
       "14490.9404296875"
      ]
     },
     "execution_count": 135,
     "metadata": {},
     "output_type": "execute_result"
    }
   ],
   "source": [
    "na[0]"
   ]
  },
  {
   "cell_type": "code",
   "execution_count": 136,
   "metadata": {},
   "outputs": [
    {
     "data": {
      "text/plain": [
       "14655.01942630272"
      ]
     },
     "execution_count": 136,
     "metadata": {},
     "output_type": "execute_result"
    }
   ],
   "source": [
    "pe[0]"
   ]
  },
  {
   "cell_type": "code",
   "execution_count": 137,
   "metadata": {
    "scrolled": true
   },
   "outputs": [
    {
     "data": {
      "text/plain": [
       "65"
      ]
     },
     "execution_count": 137,
     "metadata": {},
     "output_type": "execute_result"
    }
   ],
   "source": [
    "len(pe)"
   ]
  },
  {
   "cell_type": "code",
   "execution_count": 138,
   "metadata": {},
   "outputs": [],
   "source": [
    "#[pe[i]-na[i] for i in range(65)]"
   ]
  },
  {
   "cell_type": "markdown",
   "metadata": {},
   "source": [
    "## Mike's Code"
   ]
  },
  {
   "cell_type": "code",
   "execution_count": 139,
   "metadata": {},
   "outputs": [
    {
     "data": {
      "text/plain": [
       "<matplotlib.axes._subplots.AxesSubplot at 0x1c1192c080>"
      ]
     },
     "execution_count": 139,
     "metadata": {},
     "output_type": "execute_result"
    },
    {
     "data": {
      "image/png": "[encoded data removed]",
      "text/plain": [
       "<matplotlib.figure.Figure at 0x1c11cb4b38>"
      ]
     },
     "metadata": {},
     "output_type": "display_data"
    }
   ],
   "source": [
    "pwt9.set_index(['countrycode', 'year']).unstack('year')['rgdpe_pc'].loc[['IND', 'IDN', 'BRA', 'CHN']].T.plot(style='*')"
   ]
  },
  {
   "cell_type": "code",
   "execution_count": 140,
   "metadata": {},
   "outputs": [
    {
     "data": {
      "text/plain": [
       "<matplotlib.axes._subplots.AxesSubplot at 0x1c11cb4550>"
      ]
     },
     "execution_count": 140,
     "metadata": {},
     "output_type": "execute_result"
    },
    {
     "data": {
      "image/png": "[encoded data removed]",
      "text/plain": [
       "<matplotlib.figure.Figure at 0x1c1192c828>"
      ]
     },
     "metadata": {},
     "output_type": "display_data"
    }
   ],
   "source": [
    "pwt9.set_index(['countrycode', 'year']).unstack('year')['rgdpna_pc'].loc[['IND', 'IDN', 'BRA', 'CHN']].T.plot(style='*')"
   ]
  }
 ],
 "metadata": {
  "kernelspec": {
   "display_name": "Python 3",
   "language": "python",
   "name": "python3"
  },
  "language_info": {
   "codemirror_mode": {
    "name": "ipython",
    "version": 3
   },
   "file_extension": ".py",
   "mimetype": "text/x-python",
   "name": "python",
   "nbconvert_exporter": "python",
   "pygments_lexer": "ipython3",
   "version": "3.6.3"
  }
 },
 "nbformat": 4,
 "nbformat_minor": 2
}
