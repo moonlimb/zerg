{
 "cells": [
  {
   "cell_type": "code",
   "execution_count": 1,
   "metadata": {
    "collapsed": true
   },
   "outputs": [],
   "source": [
    "import os\n",
    "\n",
    "import numpy as np\n",
    "import pandas as pd\n",
    "import seaborn as sns\n",
    "import xarray as xr\n",
    "\n",
    "% matplotlib inline"
   ]
  },
  {
   "cell_type": "code",
   "execution_count": 3,
   "metadata": {
    "scrolled": true
   },
   "outputs": [
    {
     "data": {
      "text/plain": [
       "['.DS_Store', 'UNdata_Export_20171201_022351573.csv']"
      ]
     },
     "execution_count": 3,
     "metadata": {},
     "output_type": "execute_result"
    }
   ],
   "source": [
    "os.listdir('./UN')"
   ]
  },
  {
   "cell_type": "markdown",
   "metadata": {},
   "source": [
    "### UN Population Data Analysis\n",
    "\n",
    "**Data:** downloaded on 11/30 5.28 pm\n",
    "\n",
    "    data exists from historical/current estimates to probabilistic future projections\n",
    "    \n",
    "**Source:** United Nations (http://data.un.org/Data.aspx?d=PopDiv&f=variableID%3a12)\n",
    "\n",
    "**Methodology**\n",
    "\n",
    "**Notes**\n",
    "- Deliverable: ADM0 population & real income estimates from `1950-2017`\n",
    "- Data exists\n",
    "\n",
    "**Conclusion**\n",
    "\n",
    "**Questions**"
   ]
  },
  {
   "cell_type": "code",
   "execution_count": null,
   "metadata": {
    "collapsed": true
   },
   "outputs": [],
   "source": []
  },
  {
   "cell_type": "code",
   "execution_count": 4,
   "metadata": {},
   "outputs": [
    {
     "data": {
      "text/plain": [
       "['.DS_Store',\n",
       " '.ipynb_checkpoints',\n",
       " 'IMF',\n",
       " 'PWT',\n",
       " 'pwt_income_adm1.dta',\n",
       " 'task3_UN_analysis.ipynb',\n",
       " 'UN',\n",
       " 'WB']"
      ]
     },
     "execution_count": 4,
     "metadata": {},
     "output_type": "execute_result"
    }
   ],
   "source": [
    "os.listdir()"
   ]
  },
  {
   "cell_type": "code",
   "execution_count": 6,
   "metadata": {},
   "outputs": [
    {
     "data": {
      "text/html": [
       "<div>\n",
       "<style>\n",
       "    .dataframe thead tr:only-child th {\n",
       "        text-align: right;\n",
       "    }\n",
       "\n",
       "    .dataframe thead th {\n",
       "        text-align: left;\n",
       "    }\n",
       "\n",
       "    .dataframe tbody tr th {\n",
       "        vertical-align: top;\n",
       "    }\n",
       "</style>\n",
       "<table border=\"1\" class=\"dataframe\">\n",
       "  <thead>\n",
       "    <tr style=\"text-align: right;\">\n",
       "      <th></th>\n",
       "      <th>year</th>\n",
       "      <th>gdppccountry</th>\n",
       "      <th>gdppcstate</th>\n",
       "      <th>gdppc_adm0_PWT</th>\n",
       "      <th>gdppcstate_rescaled</th>\n",
       "    </tr>\n",
       "  </thead>\n",
       "  <tbody>\n",
       "    <tr>\n",
       "      <th>count</th>\n",
       "      <td>88358.000000</td>\n",
       "      <td>9479.000000</td>\n",
       "      <td>9479.000000</td>\n",
       "      <td>88280.000000</td>\n",
       "      <td>57107.000000</td>\n",
       "    </tr>\n",
       "    <tr>\n",
       "      <th>mean</th>\n",
       "      <td>1985.220116</td>\n",
       "      <td>12853.722656</td>\n",
       "      <td>11863.801758</td>\n",
       "      <td>13614.154297</td>\n",
       "      <td>15259.715820</td>\n",
       "    </tr>\n",
       "    <tr>\n",
       "      <th>std</th>\n",
       "      <td>18.224983</td>\n",
       "      <td>11655.899414</td>\n",
       "      <td>11882.170898</td>\n",
       "      <td>15113.656250</td>\n",
       "      <td>15098.367188</td>\n",
       "    </tr>\n",
       "    <tr>\n",
       "      <th>min</th>\n",
       "      <td>1950.000000</td>\n",
       "      <td>365.323792</td>\n",
       "      <td>188.968506</td>\n",
       "      <td>161.594772</td>\n",
       "      <td>228.565933</td>\n",
       "    </tr>\n",
       "    <tr>\n",
       "      <th>25%</th>\n",
       "      <td>1970.000000</td>\n",
       "      <td>4378.643066</td>\n",
       "      <td>3032.363525</td>\n",
       "      <td>4181.044434</td>\n",
       "      <td>5059.138428</td>\n",
       "    </tr>\n",
       "    <tr>\n",
       "      <th>50%</th>\n",
       "      <td>1987.000000</td>\n",
       "      <td>8065.569824</td>\n",
       "      <td>6865.508789</td>\n",
       "      <td>9317.794922</td>\n",
       "      <td>10263.880859</td>\n",
       "    </tr>\n",
       "    <tr>\n",
       "      <th>75%</th>\n",
       "      <td>2001.000000</td>\n",
       "      <td>20244.890625</td>\n",
       "      <td>18713.495117</td>\n",
       "      <td>17801.166016</td>\n",
       "      <td>21583.263672</td>\n",
       "    </tr>\n",
       "    <tr>\n",
       "      <th>max</th>\n",
       "      <td>2014.000000</td>\n",
       "      <td>105184.203125</td>\n",
       "      <td>166007.296875</td>\n",
       "      <td>238585.437500</td>\n",
       "      <td>317208.687500</td>\n",
       "    </tr>\n",
       "  </tbody>\n",
       "</table>\n",
       "</div>"
      ],
      "text/plain": [
       "               year   gdppccountry     gdppcstate  gdppc_adm0_PWT  \\\n",
       "count  88358.000000    9479.000000    9479.000000    88280.000000   \n",
       "mean    1985.220116   12853.722656   11863.801758    13614.154297   \n",
       "std       18.224983   11655.899414   11882.170898    15113.656250   \n",
       "min     1950.000000     365.323792     188.968506      161.594772   \n",
       "25%     1970.000000    4378.643066    3032.363525     4181.044434   \n",
       "50%     1987.000000    8065.569824    6865.508789     9317.794922   \n",
       "75%     2001.000000   20244.890625   18713.495117    17801.166016   \n",
       "max     2014.000000  105184.203125  166007.296875   238585.437500   \n",
       "\n",
       "       gdppcstate_rescaled  \n",
       "count         57107.000000  \n",
       "mean          15259.715820  \n",
       "std           15098.367188  \n",
       "min             228.565933  \n",
       "25%            5059.138428  \n",
       "50%           10263.880859  \n",
       "75%           21583.263672  \n",
       "max          317208.687500  "
      ]
     },
     "execution_count": 6,
     "metadata": {},
     "output_type": "execute_result"
    }
   ],
   "source": [
    "df = pd.read_stata('pwt_income_adm1.dta')\n",
    "\n",
    "df.describe()\n",
    "# colnames are year, gdppccountry, gdppcstate, gdppc_adm0_PWT"
   ]
  },
  {
   "cell_type": "code",
   "execution_count": null,
   "metadata": {
    "collapsed": true
   },
   "outputs": [],
   "source": []
  }
 ],
 "metadata": {
  "kernelspec": {
   "display_name": "Python 3",
   "language": "python",
   "name": "python3"
  },
  "language_info": {
   "codemirror_mode": {
    "name": "ipython",
    "version": 3
   },
   "file_extension": ".py",
   "mimetype": "text/x-python",
   "name": "python",
   "nbconvert_exporter": "python",
   "pygments_lexer": "ipython3",
   "version": "3.6.3"
  }
 },
 "nbformat": 4,
 "nbformat_minor": 2
}
