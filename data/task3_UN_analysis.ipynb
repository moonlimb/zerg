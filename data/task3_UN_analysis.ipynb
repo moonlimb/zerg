{
 "cells": [
  {
   "cell_type": "code",
   "execution_count": 2,
   "metadata": {
    "collapsed": true
   },
   "outputs": [],
   "source": [
    "import os\n",
    "\n",
    "import numpy as np\n",
    "import pandas as pd\n",
    "import seaborn as sns\n",
    "import xarray as xr\n",
    "\n",
    "% matplotlib inline"
   ]
  },
  {
   "cell_type": "code",
   "execution_count": 3,
   "metadata": {
    "scrolled": true
   },
   "outputs": [
    {
     "data": {
      "text/plain": [
       "['.DS_Store', 'UNdata_Export_20171201_022351573.csv']"
      ]
     },
     "execution_count": 3,
     "metadata": {},
     "output_type": "execute_result"
    }
   ],
   "source": [
    "os.listdir('./UN')"
   ]
  },
  {
   "cell_type": "markdown",
   "metadata": {},
   "source": [
    "### UN Population Data Analysis\n",
    "\n",
    "**<span style=\"color:red; background:yellow;\">Problem: Missing countries after Ecuador (alphabetical)</span>**\n",
    "\n",
    "**Data & Scope:** downloaded on 11/30 5.28 pm\n",
    "- 1950-2100\n",
    "- for areas/countries with:\n",
    "    - '>' 90,000 inhabitants in 2017, key demographic indicators provided\n",
    "    - < 90,000 inhabitatns, ONLY figures related to pop size and growth provided\n",
    "    \n",
    "- data exists from historical/current estimates to probabilistic future projections  \n",
    "- last update - 20 Aug 2013\n",
    "- next udpate - summer 2019\n",
    "**Source:** United Nations (http://data.un.org/Data.aspx?d=PopDiv&f=variableID%3a12)\n",
    "\n",
    "**Assumptions/Expectations**\n",
    "- Has both historical/current estimates to future projection data. \n",
    "- Has population data - probablistic population projections.\n",
    "- Not for income data\n",
    "\n",
    "**Analysis Goals**\n",
    "- Task 3 Deliverable: ADM0 population & real income estimates from `1950-2017`\n",
    "- Evaluate which years data exist for (and that `1950-2017` are present). Note any missing years (DONE - no missing years)\n",
    "- Evaluate if missing countries in any years. why?\n",
    "- Quantify any data availability differences between countries (years per country, etc.)\n",
    "- Based on methodology. evaluate whether UN dataset seems reliable for historical population data\n",
    "\n",
    "*Currently Out of Scope*\n",
    "- Also evaluate whether UN dataset seems reliable for future projection X \n",
    "\n",
    "*Advanced*\n",
    "- Plot population growth over different variants (8 - `df['Variant'].unique()`\n",
    "    High, Low, \n",
    "    Constant fertility, \n",
    "    Instant replacement, \n",
    "    Zero migration, \n",
    "    Constant mortality, \n",
    "    No change, \n",
    "    momentum)\n",
    "    \n",
    "\n",
    "**Methodology**\n",
    "- Look up methodology \n",
    "- Read about 8 different variants (what they are)\n",
    "- Read about how historical projection is different across the variants\n",
    "- Read about how projections are different across variants\n",
    "\n",
    "\n",
    "**Conclusion**\n",
    "1. Different years may have unequal country #s.\n",
    "- Year 2012 has 658 countries. (1 more country than - 2011)\n",
    "\n",
    "- Year 2013-2100 has 666 countries. (3 more countires than 2012)\n",
    "- Year 1950-2011 has 657 countries. \n",
    "\n",
    "**Questions**"
   ]
  },
  {
   "cell_type": "code",
   "execution_count": 17,
   "metadata": {},
   "outputs": [
    {
     "data": {
      "text/plain": [
       "['.DS_Store', 'UNdata_Export_20171201_022351573.csv']"
      ]
     },
     "execution_count": 17,
     "metadata": {},
     "output_type": "execute_result"
    }
   ],
   "source": [
    "os.listdir('./UN/')"
   ]
  },
  {
   "cell_type": "code",
   "execution_count": 9,
   "metadata": {},
   "outputs": [
    {
     "data": {
      "text/html": [
       "<div>\n",
       "<style>\n",
       "    .dataframe thead tr:only-child th {\n",
       "        text-align: right;\n",
       "    }\n",
       "\n",
       "    .dataframe thead th {\n",
       "        text-align: left;\n",
       "    }\n",
       "\n",
       "    .dataframe tbody tr th {\n",
       "        vertical-align: top;\n",
       "    }\n",
       "</style>\n",
       "<table border=\"1\" class=\"dataframe\">\n",
       "  <thead>\n",
       "    <tr style=\"text-align: right;\">\n",
       "      <th></th>\n",
       "      <th>Country or Area Code</th>\n",
       "      <th>Year(s)</th>\n",
       "      <th>Value</th>\n",
       "    </tr>\n",
       "  </thead>\n",
       "  <tbody>\n",
       "    <tr>\n",
       "      <th>count</th>\n",
       "      <td>100000.000000</td>\n",
       "      <td>100000.000000</td>\n",
       "      <td>1.000000e+05</td>\n",
       "    </tr>\n",
       "    <tr>\n",
       "      <th>mean</th>\n",
       "      <td>331.313420</td>\n",
       "      <td>2025.249350</td>\n",
       "      <td>1.519609e+05</td>\n",
       "    </tr>\n",
       "    <tr>\n",
       "      <th>std</th>\n",
       "      <td>671.264658</td>\n",
       "      <td>43.564441</td>\n",
       "      <td>6.473187e+05</td>\n",
       "    </tr>\n",
       "    <tr>\n",
       "      <th>min</th>\n",
       "      <td>4.000000</td>\n",
       "      <td>1950.000000</td>\n",
       "      <td>5.118000e+00</td>\n",
       "    </tr>\n",
       "    <tr>\n",
       "      <th>25%</th>\n",
       "      <td>64.000000</td>\n",
       "      <td>1988.000000</td>\n",
       "      <td>5.230552e+02</td>\n",
       "    </tr>\n",
       "    <tr>\n",
       "      <th>50%</th>\n",
       "      <td>152.000000</td>\n",
       "      <td>2025.000000</td>\n",
       "      <td>7.353869e+03</td>\n",
       "    </tr>\n",
       "    <tr>\n",
       "      <th>75%</th>\n",
       "      <td>344.000000</td>\n",
       "      <td>2063.000000</td>\n",
       "      <td>3.054756e+04</td>\n",
       "    </tr>\n",
       "    <tr>\n",
       "      <th>max</th>\n",
       "      <td>5500.000000</td>\n",
       "      <td>2100.000000</td>\n",
       "      <td>1.626926e+07</td>\n",
       "    </tr>\n",
       "  </tbody>\n",
       "</table>\n",
       "</div>"
      ],
      "text/plain": [
       "       Country or Area Code        Year(s)         Value\n",
       "count         100000.000000  100000.000000  1.000000e+05\n",
       "mean             331.313420    2025.249350  1.519609e+05\n",
       "std              671.264658      43.564441  6.473187e+05\n",
       "min                4.000000    1950.000000  5.118000e+00\n",
       "25%               64.000000    1988.000000  5.230552e+02\n",
       "50%              152.000000    2025.000000  7.353869e+03\n",
       "75%              344.000000    2063.000000  3.054756e+04\n",
       "max             5500.000000    2100.000000  1.626926e+07"
      ]
     },
     "execution_count": 9,
     "metadata": {},
     "output_type": "execute_result"
    }
   ],
   "source": [
    "# open data\n",
    "df = pd.read_csv('./UN/UNdata_Export_20171201_022351573.csv')\n",
    "\n",
    "df.describe()\n",
    "# colnames are year, gdppccountry, gdppcstate, gdppc_adm0_PWT"
   ]
  },
  {
   "cell_type": "code",
   "execution_count": 169,
   "metadata": {},
   "outputs": [
    {
     "data": {
      "text/plain": [
       "dict_keys(['Afghanistan', 'Africa', 'Albania', 'Algeria', 'American Samoa', 'Andorra', 'Angola', 'Anguilla', 'Antigua and Barbuda', 'Argentina', 'Armenia', 'Aruba', 'Asia', 'Australia', 'Australia/New Zealand', 'Austria', 'Azerbaijan', 'Bahamas', 'Bahrain', 'Bangladesh', 'Barbados', 'Belarus', 'Belgium', 'Belize', 'Benin', 'Bermuda', 'Bhutan', 'Bolivia (Plurinational State of)', 'Bosnia and Herzegovina', 'Botswana', 'Brazil', 'British Virgin Islands', 'Brunei Darussalam', 'Bulgaria', 'Burkina Faso', 'Burundi', 'Cabo Verde', 'Cambodia', 'Cameroon', 'Canada', 'Caribbean', 'Caribbean Netherlands', 'Cayman Islands', 'Central African Republic', 'Central America', 'Central Asia', 'Chad', 'Channel Islands', 'Chile', 'China', 'China Hong Kong SAR', 'China Macao SAR', 'China Taiwan Province of China', 'Colombia', 'Comoros', 'Congo', 'Cook Islands', 'Costa Rica', 'Croatia', 'Cuba', 'Curaçao', 'Cyprus', 'Czechia', \"Cô´te d'Ivoire\", \"Dem. People's Republic of Korea\", 'Democratic Republic of the Congo', 'Denmark', 'Djibouti', 'Dominica', 'Dominican Republic', 'Eastern Africa', 'Eastern Asia', 'Eastern Europe', 'Ecuador'])"
      ]
     },
     "execution_count": 169,
     "metadata": {},
     "output_type": "execute_result"
    }
   ],
   "source": [
    "g = df.groupby('Country or Area')\n",
    "\n",
    "# Get country names\n",
    "g.groups.keys()\n"
   ]
  },
  {
   "cell_type": "markdown",
   "metadata": {},
   "source": [
    "# Warning: there is =something with the data source-- it only goes up from Afghanista to Ecuador likely not all data was downloaded"
   ]
  },
  {
   "cell_type": "code",
   "execution_count": 158,
   "metadata": {},
   "outputs": [
    {
     "data": {
      "text/plain": [
       "74"
      ]
     },
     "execution_count": 158,
     "metadata": {},
     "output_type": "execute_result"
    }
   ],
   "source": [
    "# Get unique country Names\n",
    "df['Country or Area'].unique().size"
   ]
  },
  {
   "cell_type": "code",
   "execution_count": 159,
   "metadata": {},
   "outputs": [
    {
     "data": {
      "text/plain": [
       "2011"
      ]
     },
     "execution_count": 159,
     "metadata": {},
     "output_type": "execute_result"
    }
   ],
   "source": [
    "df.columns\n",
    "#df['Variant'].unique()\n",
    "\n",
    "#print(df['Year(s)'].value_counts().unique())\n",
    "# Each year appears _ number of times (one of the three)\n",
    "# count. 666, 658, 657\n",
    "# freq.  88,  1,   62\n",
    "year_counts = df['Year(s)'].value_counts() # Series\n",
    "#Q: why do some years appear more than others?\n",
    "# Does this reflect any changes in countries represented/data collected over time?\n",
    "# Which ones?\n",
    "\n",
    "year_with_freq_666 = year_counts[year_counts == 666]\n",
    "year_with_freq_658 = year_counts[year_counts == 658]\n",
    "year_with_freq_657 = year_counts[year_counts == 657]\n",
    "\n",
    "#print(df['Year(s)'].value_counts().value_counts())\n",
    "# Frequency of occurrence: 88 62 1\n",
    "year_with_freq_658 # 2012\n",
    "dd = year_with_freq_666.sort_index() # years 2013  \n",
    "dd_hist = year_with_freq_657.sort_index() \n",
    "\n",
    "#get index values (which are years)\n",
    "dd.index[0] # get first index -> 2013\n",
    "dd.index[-1] # get last index -> 2100\n",
    "\n",
    "#get index values (which are years)\n",
    "dd_hist.index[0] # get first index -> 1950\n",
    "dd_hist.index[-1] # get last index -> 2011"
   ]
  },
  {
   "cell_type": "markdown",
   "metadata": {},
   "source": [
    "## Q. Which countries are unaccounted for in years with 658/657 countries?\n",
    "\n",
    "#Q. which countries are missing in 658 freq. vs 666 freq? (Should be 8 countries)"
   ]
  },
  {
   "cell_type": "markdown",
   "metadata": {},
   "source": [
    "### Get differences between all index (in this case years with 666 freq in dataset)\n"
   ]
  },
  {
   "cell_type": "code",
   "execution_count": 151,
   "metadata": {},
   "outputs": [
    {
     "name": "stdout",
     "output_type": "stream",
     "text": [
      "Are the years in 3 groups contiguous?\n",
      "True\n",
      "True\n"
     ]
    }
   ],
   "source": [
    "#dd.diff() # Get differences between values -> Series\n",
    "\n",
    "# Get differences between all index (in this case years with 666 freq in dataset)\n",
    "xdiff = np.diff(dd.index.values) # returns array of 1's\n",
    "xdiff_hist = np.diff(dd_hist.index.values)\n",
    "\n",
    "# Get subset of xdiff, which doesn't have difference of 1\n",
    "xdiff[xdiff != 1] == [] # returns empty array\n",
    "\n",
    "# Different groups are 666, 657, 658 (based on frequency of occurrence)\n",
    "print (\"Are the years in 3 groups contiguous?\")\n",
    "print (xdiff[xdiff != 1].size == 0)\n",
    "print (xdiff_hist[xdiff_hist != 1].size == 0)"
   ]
  },
  {
   "cell_type": "code",
   "execution_count": null,
   "metadata": {
    "collapsed": true
   },
   "outputs": [],
   "source": []
  }
 ],
 "metadata": {
  "kernelspec": {
   "display_name": "Python 3",
   "language": "python",
   "name": "python3"
  },
  "language_info": {
   "codemirror_mode": {
    "name": "ipython",
    "version": 3
   },
   "file_extension": ".py",
   "mimetype": "text/x-python",
   "name": "python",
   "nbconvert_exporter": "python",
   "pygments_lexer": "ipython3",
   "version": "3.6.3"
  }
 },
 "nbformat": 4,
 "nbformat_minor": 2
}
