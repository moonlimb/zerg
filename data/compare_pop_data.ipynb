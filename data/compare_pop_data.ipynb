{
 "cells": [
  {
   "cell_type": "code",
   "execution_count": 175,
   "metadata": {
    "collapsed": true
   },
   "outputs": [],
   "source": [
    "import os\n",
    "\n",
    "import matplotlib.pylab as plt\n",
    "import numpy as np\n",
    "import pandas as pd\n",
    "import seaborn as sns\n",
    "import xarray as xr\n",
    "\n",
    "% matplotlib inline"
   ]
  },
  {
   "cell_type": "markdown",
   "metadata": {
    "collapsed": true
   },
   "source": [
    "## Comparing population data\n",
    "\n",
    "* Compare data sets for one country with high population for 1980-2014 (no missing data in all evaluated data sets): Brazil **<span style=\"color:gray; background:lime;\">DONE</span>**\n",
    "\n",
    "Summary: The data sets align very closely, visibly showing same growth rate over the years 1980-2014. PWT has the highest population values, and IMF the lowest. PWT > WB > UN > IMF in population values for most of values\n",
    "\n",
    "* Compare total population for available years\n",
    "\n",
    "\n",
    "\n",
    "\n",
    "* Compare large well-defined countries form a mix of regions & development statuses (e.g. USA, UK, China, Indonesia, India, Japan, Tanzania)\n",
    "* Calculate average population value for each country, then filter by countries with population over 1/2 mil (avg)\n",
    "* Compare structure of data sets (growth rate vs levels). \n",
    "* Look at treatment of China.\n",
    "Try summing up Taiwan, HK, Macau + China to see if value aligns with another data set that has all those included as China\n",
    "\n",
    "* MISC information\n",
    "Most populous countries\n",
    "\n",
    "1. China\t1,379,302,771\t  6. Pakistan\t204,924,861\n",
    "2. India\t1,281,935,911\t  7. Nigeria\t190,632,261\n",
    "3. United States\t326,625,791\t  8. Bangladesh\t157,826,578\n",
    "4. Indonesia\t260,580,739\t  9. Russia\t142,257,519\n",
    "5. Brazil\t207,353,391\t  10. Japan\t126,451,398\n",
    "\n",
    "ISO:\n",
    "1. China CHN\n",
    "2. USA\n",
    "3. Indonesia IDN\n",
    "4. Brazil BRA\n",
    "5. Russian Federation RUS\n",
    "Bangladesh BGD\n",
    "Nigeria NGA\n",
    "Japan JPN\n",
    "Pakistan PAK\n",
    "\n",
    "\n",
    "----------\n",
    "Side Note- Least populated \n",
    "\n",
    "San Marino SMR\n",
    "Palau PLW\n",
    "United Arab Emirates\n",
    "Singapore?\n",
    "Norway NOR\n",
    "Luxembourg LUX"
   ]
  },
  {
   "cell_type": "code",
   "execution_count": 176,
   "metadata": {
    "collapsed": true
   },
   "outputs": [],
   "source": [
    "highest_populated = ['CHN', 'IND', 'USA', 'BRA', 'PAL', 'RUS', ]\n",
    "top3_populated = ['CHN', 'IND', 'USA']"
   ]
  },
  {
   "cell_type": "markdown",
   "metadata": {},
   "source": [
    "## Convenience function"
   ]
  },
  {
   "cell_type": "code",
   "execution_count": 177,
   "metadata": {
    "collapsed": true
   },
   "outputs": [],
   "source": [
    "def add_iso_column(_df, _country_name_col):\n",
    "    # uses iso_map (global dict)\n",
    "    _df['iso'] = _df[_country_name_col].apply(lambda name: iso_map[name] if iso_map.get(name) else name)\n",
    "    return _df\n",
    "\n",
    "def set_iso_as_index(_df, _iso_col_name):\n",
    "    return _df.set_index(_iso_col_name)\n",
    "\n",
    "# country specific\n",
    "def get_row_by_country_name(_df, country_name):\n",
    "    # Get country by name\n",
    "    return _df[_df['country_name'] == country_name]"
   ]
  },
  {
   "cell_type": "markdown",
   "metadata": {},
   "source": [
    "## Open data"
   ]
  },
  {
   "cell_type": "code",
   "execution_count": 178,
   "metadata": {
    "collapsed": true
   },
   "outputs": [],
   "source": [
    "dir_path = os.environ['ZERG']\n",
    "pwt = dir_path + 'data/PWT/pwt9_pivoted.csv'\n",
    "un = dir_path + 'data/UN/un_population_iso_pivoted.csv'\n",
    "imf = dir_path + 'data/IMF/imf_population_1214.xls'\n",
    "wb = dir_path + 'data/WB/wb_population_1215.csv'"
   ]
  },
  {
   "cell_type": "code",
   "execution_count": 179,
   "metadata": {
    "collapsed": true
   },
   "outputs": [],
   "source": [
    "pop_pwt = pd.read_csv(pwt)\n",
    "pop_un = pd.read_csv(un)\n",
    "pop_wb = pd.read_csv(wb)\n",
    "pop_imf = pd.read_excel(imf, sheetname='countries_only')"
   ]
  },
  {
   "cell_type": "code",
   "execution_count": 180,
   "metadata": {
    "collapsed": true
   },
   "outputs": [],
   "source": [
    "rhg_regions = dir_path + 'data/iso_based_on_rhg_regions.csv'"
   ]
  },
  {
   "cell_type": "markdown",
   "metadata": {},
   "source": [
    "WARNING: THIS IS SLOW (heavy excel with macros, etc.) - don't re-run\n",
    "#### or have a separate file just for iso"
   ]
  },
  {
   "cell_type": "code",
   "execution_count": 181,
   "metadata": {
    "collapsed": true
   },
   "outputs": [],
   "source": [
    "# open ISO data (RHG_regions)\n",
    "# this is SLOW\n",
    "iso = pd.read_csv(rhg_regions)"
   ]
  },
  {
   "cell_type": "code",
   "execution_count": 182,
   "metadata": {},
   "outputs": [
    {
     "data": {
      "text/plain": [
       "Index(['country_name_imf', 'ENGLISH SHORT NAME', 'ALPHA-2', 'ALPHA-3',\n",
       "       'NUMERIC'],\n",
       "      dtype='object')"
      ]
     },
     "execution_count": 182,
     "metadata": {},
     "output_type": "execute_result"
    }
   ],
   "source": [
    "iso.columns"
   ]
  },
  {
   "cell_type": "code",
   "execution_count": 183,
   "metadata": {
    "collapsed": true
   },
   "outputs": [],
   "source": [
    "iso_map_pre = iso[['country_name_imf', 'ALPHA-3']].set_index('country_name_imf')"
   ]
  },
  {
   "cell_type": "code",
   "execution_count": 184,
   "metadata": {
    "collapsed": true
   },
   "outputs": [],
   "source": [
    "iso_map = iso_map_pre.to_dict()['ALPHA-3']\n",
    "iso_map_rev = {y:x for x,y in iso_map.items()}"
   ]
  },
  {
   "cell_type": "code",
   "execution_count": 185,
   "metadata": {
    "collapsed": true
   },
   "outputs": [],
   "source": [
    "#iso_map_rev # map from iso to country nape\n",
    "#iso_map # map from country name to ISO"
   ]
  },
  {
   "cell_type": "code",
   "execution_count": 186,
   "metadata": {
    "collapsed": true
   },
   "outputs": [],
   "source": [
    "pwt_countries=pop_pwt['countrycode']\n",
    "un_countries=pop_un['ISO3']\n",
    "wb_countries=pop_wb['Country Code']"
   ]
  },
  {
   "cell_type": "code",
   "execution_count": 187,
   "metadata": {
    "collapsed": true
   },
   "outputs": [],
   "source": [
    "iso_map.get('moon')\n",
    "iso_map.get('United States of America')"
   ]
  },
  {
   "cell_type": "markdown",
   "metadata": {},
   "source": [
    "### MAP country name to country code"
   ]
  },
  {
   "cell_type": "code",
   "execution_count": 188,
   "metadata": {
    "collapsed": true
   },
   "outputs": [],
   "source": [
    "pop_imf['country_code'] = pop_imf['country_name'].apply(lambda name: iso_map[name] if iso_map.get(name) else name)"
   ]
  },
  {
   "cell_type": "code",
   "execution_count": 189,
   "metadata": {
    "collapsed": true
   },
   "outputs": [],
   "source": [
    "# imf data doesn't provide country code so needs manual mapping\n",
    "imf_countries = pop_imf['country_code']"
   ]
  },
  {
   "cell_type": "code",
   "execution_count": 190,
   "metadata": {},
   "outputs": [
    {
     "name": "stdout",
     "output_type": "stream",
     "text": [
      "Kosovo\n",
      "Syria\n"
     ]
    },
    {
     "data": {
      "text/plain": [
       "[None, None]"
      ]
     },
     "execution_count": 190,
     "metadata": {},
     "output_type": "execute_result"
    }
   ],
   "source": [
    "[print(country) for country in pop_imf['country_code'].tolist() if len(country) > 3]"
   ]
  },
  {
   "cell_type": "code",
   "execution_count": 191,
   "metadata": {
    "collapsed": true
   },
   "outputs": [],
   "source": [
    "pwt_set = set(pwt_countries)\n",
    "un_set = set(un_countries)\n",
    "wb_set = set(wb_countries)\n",
    "imf_set = set(imf_countries)"
   ]
  },
  {
   "cell_type": "code",
   "execution_count": 192,
   "metadata": {
    "scrolled": true
   },
   "outputs": [
    {
     "name": "stdout",
     "output_type": "stream",
     "text": [
      "pwt has 182 countries\n",
      "un has 233 countries\n",
      "wb has 217 countries\n",
      "imf has 192 countries\n"
     ]
    }
   ],
   "source": [
    "ls = {\n",
    "    'pwt': pwt_set,\n",
    "    'un': un_set,\n",
    "    'wb': wb_set,\n",
    "    'imf': imf_set\n",
    "}\n",
    "\n",
    "for k,v in ls.items():\n",
    "    print ('{} has {} countries'.format(k,len(v)))\n",
    "\n",
    "# pwt compare"
   ]
  },
  {
   "cell_type": "code",
   "execution_count": 193,
   "metadata": {},
   "outputs": [
    {
     "data": {
      "text/plain": [
       "['Anguilla',\n",
       " 'Bonaire, Sint Eustatius and Saba',\n",
       " 'Cook Islands',\n",
       " 'Falkland Islands (Malvinas)',\n",
       " 'French Guiana',\n",
       " 'Guadeloupe',\n",
       " 'Holy See',\n",
       " 'Martinique',\n",
       " 'Mayotte',\n",
       " 'Montserrat',\n",
       " 'Niue',\n",
       " 'Réunion',\n",
       " 'Saint Helena, Ascension and Tristan da Cunha',\n",
       " 'Saint Pierre and Miquelon',\n",
       " 'Taiwan Province of China',\n",
       " 'Tokelau',\n",
       " 'Wallis and Futuna',\n",
       " 'Western Sahara']"
      ]
     },
     "execution_count": 193,
     "metadata": {},
     "output_type": "execute_result"
    }
   ],
   "source": [
    "countries_in_un_not_wb = ls['un'] - ls['wb']\n",
    "sorted([iso_map_rev[c] for c in countries_in_un_not_wb])"
   ]
  },
  {
   "cell_type": "markdown",
   "metadata": {},
   "source": [
    "# countries in imf but not in pwt"
   ]
  },
  {
   "cell_type": "code",
   "execution_count": 194,
   "metadata": {},
   "outputs": [
    {
     "data": {
      "text/plain": [
       "['Afghanistan',\n",
       " 'Eritrea',\n",
       " 'Guyana',\n",
       " 'Kiribati',\n",
       " 'Libya',\n",
       " 'Marshall Islands',\n",
       " 'Micronesia, Fed. States of',\n",
       " 'Nauru',\n",
       " 'Palau',\n",
       " 'Papua New Guinea',\n",
       " 'Puerto Rico',\n",
       " 'Samoa',\n",
       " 'San Marino',\n",
       " 'Solomon Islands',\n",
       " 'South Sudan, Republic of',\n",
       " 'Timor-Leste',\n",
       " 'Tonga',\n",
       " 'Tuvalu',\n",
       " 'Vanuatu']"
      ]
     },
     "execution_count": 194,
     "metadata": {},
     "output_type": "execute_result"
    }
   ],
   "source": [
    "countries_in_imf_not_pwt = ls['imf'] - ls['pwt']\n",
    "     \n",
    "sorted([iso_map_rev.get(c) for c in countries_in_imf_not_pwt if iso_map_rev.get(c)])"
   ]
  },
  {
   "cell_type": "code",
   "execution_count": 195,
   "metadata": {
    "collapsed": true
   },
   "outputs": [],
   "source": [
    "pop_pwt = pd.read_csv(pwt)\n",
    "pop_un = pd.read_csv(un)\n",
    "pop_wb = pd.read_csv(wb)\n",
    "pop_imf = pd.read_excel(imf, sheetname='countries_only')"
   ]
  },
  {
   "cell_type": "markdown",
   "metadata": {},
   "source": [
    "## Convenience functions"
   ]
  },
  {
   "cell_type": "markdown",
   "metadata": {},
   "source": [
    "### Function to retrieve missing # years per country for a given list of countries\n",
    "```\n",
    "Given a list of countries\n",
    "\n",
    "Retrieve # of missing years for each country\n",
    "\n",
    "Optional: *specify a dataset\n",
    "Optional: replace Country Name with Country code to be more reusable\n",
    "```"
   ]
  },
  {
   "cell_type": "code",
   "execution_count": 196,
   "metadata": {
    "collapsed": true
   },
   "outputs": [],
   "source": [
    "def get_missing_years(_list_of_countries):\n",
    "    '''\n",
    "    Parmeters\n",
    "    ----\n",
    "    [Python List] _list_of_countries\n",
    "        list of countries (each country is a Country name as a String)\n",
    "        \n",
    "    Returns\n",
    "    ----\n",
    "    [Python List]\n",
    "        a list of tuple pairs containing (country_name, #_missing_years)\n",
    "    where country_name (String) and # missing_years (int)\n",
    "    sorted by decreasing # of missing years\n",
    "    '''\n",
    "    missing_years = []\n",
    "    \n",
    "    return []"
   ]
  },
  {
   "cell_type": "markdown",
   "metadata": {},
   "source": [
    "### population data"
   ]
  },
  {
   "cell_type": "code",
   "execution_count": 197,
   "metadata": {
    "collapsed": true
   },
   "outputs": [],
   "source": [
    "# replace with NaN\n",
    "replaced = pop_imf.replace('no data', np.nan)\n",
    "#print(replaced.isnull().sum())"
   ]
  },
  {
   "cell_type": "code",
   "execution_count": 198,
   "metadata": {
    "collapsed": true
   },
   "outputs": [],
   "source": [
    "#pop_pwt.head()"
   ]
  },
  {
   "cell_type": "markdown",
   "metadata": {},
   "source": [
    "### Mungdata data\n",
    "\n",
    "1) rename indexes to be consistent across data set\n",
    "\n",
    "2) set iso column as the index"
   ]
  },
  {
   "cell_type": "markdown",
   "metadata": {},
   "source": [
    "#### Rename cols"
   ]
  },
  {
   "cell_type": "code",
   "execution_count": 199,
   "metadata": {
    "collapsed": true
   },
   "outputs": [],
   "source": [
    "# rename column names\n",
    "del pop_wb['Unnamed: 0']\n",
    "\n",
    "# IMF\n",
    "pop_imf = add_iso_column(pop_imf, 'country_name')\n",
    "\n",
    "# PWT\n",
    "pop_pwt.rename(index=str, columns={'countrycode': 'iso', 'country': 'country_name'}, inplace=True)\n",
    "\n",
    "# WB\n",
    "pop_wb.rename(index=str, columns={\"Country Code\": \"iso\", \"Country Name\": \"country_name\"}, inplace=True)\n",
    "\n",
    "# UN\n",
    "del pop_un['Unnamed: 0']\n",
    "pop_un.rename(index=str, columns={'ISO3': 'iso', 'Location': 'country_name'}, inplace=True)"
   ]
  },
  {
   "cell_type": "markdown",
   "metadata": {},
   "source": [
    "#### Set ISO as Index"
   ]
  },
  {
   "cell_type": "code",
   "execution_count": 200,
   "metadata": {
    "collapsed": true
   },
   "outputs": [],
   "source": [
    "df_imf = set_iso_as_index(pop_imf, 'iso')\n",
    "df_pwt = set_iso_as_index(pop_pwt, 'iso')\n",
    "df_wb = set_iso_as_index(pop_wb, 'iso')\n",
    "df_un = set_iso_as_index(pop_un, 'iso')"
   ]
  },
  {
   "cell_type": "code",
   "execution_count": 201,
   "metadata": {
    "collapsed": true
   },
   "outputs": [],
   "source": [
    "# df_imf"
   ]
  },
  {
   "cell_type": "code",
   "execution_count": 202,
   "metadata": {
    "scrolled": true
   },
   "outputs": [
    {
     "name": "stdout",
     "output_type": "stream",
     "text": [
      "1980     987.05\n",
      "1981    1000.72\n",
      "1982    1016.54\n",
      "1983    1030.08\n",
      "Name: CHN, dtype: object\n",
      "1950        NaN\n",
      "1951        NaN\n",
      "1952    566.208\n",
      "1953    575.723\n",
      "Name: CHN, dtype: object\n"
     ]
    }
   ],
   "source": [
    "print(df_imf.loc['CHN'][1:5])\n",
    "print(df_pwt.loc['CHN'][1:5])"
   ]
  },
  {
   "cell_type": "markdown",
   "metadata": {},
   "source": [
    "## Get max population data from each data set"
   ]
  },
  {
   "cell_type": "code",
   "execution_count": 203,
   "metadata": {
    "collapsed": true
   },
   "outputs": [],
   "source": [
    "# also in convience_functions\n",
    "def get_max_countries(_df, _n, _yr):\n",
    "    '''\n",
    "    Returns n largest country data values from the given year\n",
    "    \n",
    "    _df: pd.DataFrame\n",
    "        data frame containing population of gdp data for all countries\n",
    "\n",
    "    _n: int\n",
    "        # of largest values to retrieve\n",
    "        \n",
    "    _yr: int\n",
    "        given year\n",
    "    '''\n",
    "    return _df.nlargest(_n, _yr)"
   ]
  },
  {
   "cell_type": "markdown",
   "metadata": {},
   "source": [
    "### Get Brazil/BRA data"
   ]
  },
  {
   "cell_type": "code",
   "execution_count": 204,
   "metadata": {},
   "outputs": [],
   "source": [
    "cpwt = df_pwt.loc['BRA'][31:] * 10**6 # 1980 to 2014, 35 years\n",
    "assert cpwt.shape == cwb.shape == cimf.shape == cun.shape"
   ]
  },
  {
   "cell_type": "code",
   "execution_count": 205,
   "metadata": {
    "collapsed": true
   },
   "outputs": [],
   "source": [
    "cwb = df_wb.loc['BRA'][21:56] # seems like absolute value to me\n",
    "cun = df_un.loc['BRA'][31:66] * 10 **3"
   ]
  },
  {
   "cell_type": "code",
   "execution_count": 206,
   "metadata": {},
   "outputs": [
    {
     "data": {
      "text/plain": [
       "124030908.0"
      ]
     },
     "execution_count": 206,
     "metadata": {},
     "output_type": "execute_result"
    }
   ],
   "source": [
    "cun.get_values()[1]"
   ]
  },
  {
   "cell_type": "code",
   "execution_count": 207,
   "metadata": {},
   "outputs": [],
   "source": [
    "cimf = df_imf.loc['BRA'][1:36] * 10**6\n"
   ]
  },
  {
   "cell_type": "code",
   "execution_count": 208,
   "metadata": {},
   "outputs": [],
   "source": [
    "# # print(cwb.idxmax(), cwb.idxmin())\n",
    "# print(cimf.idxmax(), cimf.idxmin())\n",
    "# print(cpwt.idxmax(), cpwt.idxmin())\n",
    "# print(cun.idxmax(), cun.idxmin())"
   ]
  },
  {
   "cell_type": "code",
   "execution_count": 209,
   "metadata": {},
   "outputs": [
    {
     "data": {
      "text/plain": [
       "False"
      ]
     },
     "execution_count": 209,
     "metadata": {},
     "output_type": "execute_result"
    }
   ],
   "source": [
    "type(cun.index) == pd.core.indexes.numeric.Float64Index"
   ]
  },
  {
   "cell_type": "code",
   "execution_count": 210,
   "metadata": {},
   "outputs": [
    {
     "name": "stdout",
     "output_type": "stream",
     "text": [
      "<class 'pandas.core.indexes.numeric.Float64Index'>\n",
      "<class 'pandas.core.indexes.numeric.Float64Index'>\n",
      "<class 'pandas.core.indexes.numeric.Float64Index'>\n",
      "<class 'pandas.core.indexes.numeric.Float64Index'>\n"
     ]
    }
   ],
   "source": [
    "for _df in [cpwt, cwb, cun, cimf]:\n",
    "    if type(_df.index) != pd.core.indexes.numeric.Float64Index:\n",
    "        _df.index = _df.index.map(float)\n",
    "        \n",
    "for _df in [cpwt, cwb, cun, cimf]:\n",
    "    print (type(_df.index))"
   ]
  },
  {
   "cell_type": "code",
   "execution_count": 211,
   "metadata": {},
   "outputs": [
    {
     "data": {
      "text/plain": [
       "array([0.0, 0.0, 0.0, 0.0, 1.4901161193847656e-08, 0.0, 0.0, 0.0, 0.0, 0.0,\n",
       "       0.0, 0.0, 2.9802322387695312e-08, 0.0, 2.9802322387695312e-08, 0.0,\n",
       "       -2.9802322387695312e-08, 0.0, 0.0, 2.9802322387695312e-08, 0.0, 0.0,\n",
       "       0.0, 0.0, 0.0, 0.0, 0.0, 0.0, 0.0, 0.0, 0.0, 0.0, 0.0, 0.0, 0.0], dtype=object)"
      ]
     },
     "execution_count": 211,
     "metadata": {},
     "output_type": "execute_result"
    }
   ],
   "source": [
    "(cun-cwb).get_values()"
   ]
  },
  {
   "cell_type": "code",
   "execution_count": 212,
   "metadata": {
    "scrolled": true
   },
   "outputs": [
    {
     "data": {
      "text/plain": [
       "<matplotlib.axes._subplots.AxesSubplot at 0x1c1d54aa90>"
      ]
     },
     "execution_count": 212,
     "metadata": {},
     "output_type": "execute_result"
    },
    {
     "data": {
      "image/png": "[encoded data removed]",
      "text/plain": [
       "<matplotlib.figure.Figure at 0x1c1d54a470>"
      ]
     },
     "metadata": {},
     "output_type": "display_data"
    }
   ],
   "source": [
    "wb_un_diff = cwb-cun\n",
    "wb_un_diff.plot(style='o')"
   ]
  },
  {
   "cell_type": "code",
   "execution_count": 213,
   "metadata": {},
   "outputs": [],
   "source": [
    "df1 = pd.DataFrame({'pwt': cpwt, \n",
    "                   'wb': cwb, \n",
    "                   'un': cun,\n",
    "                   'imf': cimf})\n",
    "\n",
    "#pd.concat([cpwt, cwb, cun, cimf], axis=1)"
   ]
  },
  {
   "cell_type": "code",
   "execution_count": 214,
   "metadata": {},
   "outputs": [
    {
     "data": {
      "text/plain": [
       "<matplotlib.axes._subplots.AxesSubplot at 0x1c1d2ec278>"
      ]
     },
     "execution_count": 214,
     "metadata": {},
     "output_type": "execute_result"
    },
    {
     "data": {
      "image/png": "[encoded data removed]",
      "text/plain": [
       "<matplotlib.figure.Figure at 0x1c1ce0a0b8>"
      ]
     },
     "metadata": {},
     "output_type": "display_data"
    }
   ],
   "source": [
    "# pwt9.set_index(['countrycode', 'year']).unstack('year')['rgdpe_pc'].loc[['IND', 'IDN', 'BRA', 'CHN']].T.plot(style='*')\n",
    "df1.plot(style='*')\n"
   ]
  },
  {
   "cell_type": "code",
   "execution_count": 215,
   "metadata": {
    "scrolled": true
   },
   "outputs": [
    {
     "data": {
      "text/plain": [
       "imf    0\n",
       "pwt    0\n",
       "un     0\n",
       "wb     0\n",
       "dtype: int64"
      ]
     },
     "execution_count": 215,
     "metadata": {},
     "output_type": "execute_result"
    }
   ],
   "source": [
    "df1.isnull().sum()\n",
    "# no nan values!"
   ]
  }
 ],
 "metadata": {
  "kernelspec": {
   "display_name": "Python 3",
   "language": "python",
   "name": "python3"
  },
  "language_info": {
   "codemirror_mode": {
    "name": "ipython",
    "version": 3
   },
   "file_extension": ".py",
   "mimetype": "text/x-python",
   "name": "python",
   "nbconvert_exporter": "python",
   "pygments_lexer": "ipython3",
   "version": "3.6.3"
  }
 },
 "nbformat": 4,
 "nbformat_minor": 2
}
