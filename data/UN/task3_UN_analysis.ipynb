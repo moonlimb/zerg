{
 "cells": [
  {
   "cell_type": "code",
   "execution_count": 2,
   "metadata": {
    "collapsed": true
   },
   "outputs": [],
   "source": [
    "import os\n",
    "\n",
    "import matplotlib.pyplot as plt\n",
    "import numpy as np\n",
    "import pandas as pd\n",
    "import seaborn as sns\n",
    "import xarray as xr\n",
    "\n",
    "% matplotlib inline"
   ]
  },
  {
   "cell_type": "markdown",
   "metadata": {},
   "source": [
    "### UN Population Data Analysis\n",
    "\n",
    "**Data & Scope:** downloaded on 12/12 3.40 pm\n",
    "- 1950-2100\n",
    "    - historical/current: 1950-2015 are estimates\n",
    "    - projections (probabilistic): 2016 and beyond (9 different variants)\n",
    "- Population data only.\n",
    "- Update status: \n",
    "    - last update - 20 Aug 2013 \n",
    "    - next udpate - summer 2019\n",
    "- Refer to *Look at Data* Section below for detailed information on variables\n",
    "in data\n",
    "\n",
    "**Source:** United Nations (http://data.un.org/Data.aspx?d=PopDiv&f=variableID%3a12)\n",
    "- total population - `WPP2017_TotalPopulationBySex.csv`\n",
    "- meta data (233/ countries only) `WPP2017_F02_METAINFO.csv` \n",
    "- meta data (273/ countries, regions and groupings) `WPP2017_F01_LOCATIONS.csv`\n",
    "\n",
    "**Analysis Goals**\n",
    "- Compare UN population data with PWT, WB, and IMF data\n",
    "- Outline UN's methodology for population data, note any limitations/assumptions.\n",
    "\n",
    "*Currently Out of Scope*\n",
    "- Also evaluate whether UN dataset seems reliable for future projection X \n",
    "\n",
    "**Conclusion**\n",
    "\n",
    "**Questions**\n"
   ]
  },
  {
   "cell_type": "markdown",
   "metadata": {},
   "source": [
    "### Table of contents\n",
    "\n",
    "1. Open data and metadata\n",
    "2. Look at data. Columns. Define variables. Shape. # unique values. Any groups?\n",
    "3. Filter variant (Medium only. For historical all variants have same population value. but picking Medium since it's most used). \n",
    "4. Filter by years (historical data only 1950-2015)\n",
    "5. Merge data and meta data -> to filter only countries (i.e. exclude non-country groupings)\n",
    "6. Select only certain columns (of interest)\n",
    "7. Pivot data to reformat (make years columns, to be consistent with WB)\n",
    "8. Reindex data to have an index column? (optional) "
   ]
  },
  {
   "cell_type": "markdown",
   "metadata": {},
   "source": [
    "#### 1. Open UN data & metadata"
   ]
  },
  {
   "cell_type": "code",
   "execution_count": 3,
   "metadata": {
    "collapsed": true
   },
   "outputs": [],
   "source": [
    "root_dir = os.environ['ZERG']\n",
    "#os.getcwd()"
   ]
  },
  {
   "cell_type": "code",
   "execution_count": 4,
   "metadata": {
    "collapsed": true
   },
   "outputs": [],
   "source": [
    "df = pd.read_csv(root_dir + 'data/UN/WPP2017_TotalPopulationBySex.csv')\n",
    "df_meta = pd.read_excel(root_dir + 'data/UN/WPP2017_F02_METAINFO_mod.xlsx', sheetname='country_meta_subset', skip_rows=13)"
   ]
  },
  {
   "cell_type": "code",
   "execution_count": 5,
   "metadata": {},
   "outputs": [
    {
     "data": {
      "text/html": [
       "<div>\n",
       "<style>\n",
       "    .dataframe thead tr:only-child th {\n",
       "        text-align: right;\n",
       "    }\n",
       "\n",
       "    .dataframe thead th {\n",
       "        text-align: left;\n",
       "    }\n",
       "\n",
       "    .dataframe tbody tr th {\n",
       "        vertical-align: top;\n",
       "    }\n",
       "</style>\n",
       "<table border=\"1\" class=\"dataframe\">\n",
       "  <thead>\n",
       "    <tr style=\"text-align: right;\">\n",
       "      <th></th>\n",
       "      <th>Index</th>\n",
       "      <th>Country or area</th>\n",
       "      <th>Notes</th>\n",
       "      <th>Country code</th>\n",
       "      <th>ISO3</th>\n",
       "    </tr>\n",
       "  </thead>\n",
       "  <tbody>\n",
       "    <tr>\n",
       "      <th>0</th>\n",
       "      <td>1</td>\n",
       "      <td>Afghanistan</td>\n",
       "      <td>NaN</td>\n",
       "      <td>4</td>\n",
       "      <td>AFG</td>\n",
       "    </tr>\n",
       "    <tr>\n",
       "      <th>1</th>\n",
       "      <td>2</td>\n",
       "      <td>Albania</td>\n",
       "      <td>NaN</td>\n",
       "      <td>8</td>\n",
       "      <td>ALB</td>\n",
       "    </tr>\n",
       "  </tbody>\n",
       "</table>\n",
       "</div>"
      ],
      "text/plain": [
       "   Index Country or area  Notes  Country code ISO3\n",
       "0      1     Afghanistan    NaN             4  AFG\n",
       "1      2         Albania    NaN             8  ALB"
      ]
     },
     "execution_count": 5,
     "metadata": {},
     "output_type": "execute_result"
    }
   ],
   "source": [
    "df_meta.head(2)"
   ]
  },
  {
   "cell_type": "markdown",
   "metadata": {},
   "source": [
    "#### Open Other Data Sources (WB, PWT)"
   ]
  },
  {
   "cell_type": "code",
   "execution_count": 6,
   "metadata": {
    "collapsed": true
   },
   "outputs": [],
   "source": [
    "df_wb = pd.read_csv('/Users/mlimb/Dropbox/covariate_project/zerg/data/WB/population/API_SP.POP.TOTL_DS2_en_csv_v2.csv', skiprows=3)\n",
    "df_pwt = pd.read_stata('/Users/mlimb/Dropbox/covariate_project/zerg/data/PWT/pwt90.dta')\n",
    "\n",
    "#df_pwt.head(5)"
   ]
  },
  {
   "cell_type": "markdown",
   "metadata": {},
   "source": [
    "#### 2. Look at UN data\n",
    "\n",
    "Variables/columns:\n",
    "`LocID` (int) integer code associated with location. # choice of numbers seem alphabetical\n",
    "\n",
    "    (Development group, Income group, Region-eg. Africa, Subregion-eg. Eastern Africa)\n",
    "\n",
    "`Location` (Str) country / region name\n",
    "\n",
    "`VarID` (int) ID associated with one of the 9 variants (used for future projection). 2 - Medium.\n",
    "\n",
    "`Variant` (Str) variant type. One of ['Medium', 'High', 'Low', 'Constant fertility',\n",
    "       'Instant replacement', 'Zero migration', 'Constant mortality',\n",
    "       'No change', 'Momentum']\n",
    "\n",
    "`Time` (int) year, ranging from 1950 to 2100\n",
    "\n",
    "`MidPeriod` (float) mid-year as given by 1950.5... 2100.5\n",
    "\n",
    "`PopMale` (float) total male population\n",
    "\n",
    "`PopFemale` (float) total female population\n",
    "\n",
    "`PopTotal` (float) total population, both sexes\n"
   ]
  },
  {
   "cell_type": "code",
   "execution_count": 7,
   "metadata": {
    "scrolled": false
   },
   "outputs": [
    {
     "data": {
      "text/plain": [
       "Index(['LocID', 'Location', 'VarID', 'Variant', 'Time', 'MidPeriod', 'PopMale',\n",
       "       'PopFemale', 'PopTotal'],\n",
       "      dtype='object')"
      ]
     },
     "execution_count": 7,
     "metadata": {},
     "output_type": "execute_result"
    }
   ],
   "source": [
    "df.columns"
   ]
  },
  {
   "cell_type": "code",
   "execution_count": 8,
   "metadata": {
    "scrolled": true
   },
   "outputs": [
    {
     "data": {
      "text/plain": [
       "(371007, 9)"
      ]
     },
     "execution_count": 8,
     "metadata": {},
     "output_type": "execute_result"
    }
   ],
   "source": [
    "df.shape"
   ]
  },
  {
   "cell_type": "code",
   "execution_count": 9,
   "metadata": {},
   "outputs": [
    {
     "data": {
      "text/plain": [
       "Index(['LocID', 'Location', 'VarID', 'Variant', 'Time', 'MidPeriod', 'PopMale',\n",
       "       'PopFemale', 'PopTotal'],\n",
       "      dtype='object')"
      ]
     },
     "execution_count": 9,
     "metadata": {},
     "output_type": "execute_result"
    }
   ],
   "source": [
    "df.columns"
   ]
  },
  {
   "cell_type": "code",
   "execution_count": 10,
   "metadata": {},
   "outputs": [
    {
     "name": "stdout",
     "output_type": "stream",
     "text": [
      "151\n",
      "273\n",
      "9\n"
     ]
    }
   ],
   "source": [
    "print(df['Time'].nunique()) # 151 years\n",
    "print(df['Location'].nunique()) # 273 unique country/areas\n",
    "print(df['Variant'].nunique())# 9 variants # "
   ]
  },
  {
   "cell_type": "code",
   "execution_count": 11,
   "metadata": {},
   "outputs": [
    {
     "data": {
      "text/plain": [
       "(1950, 2100)"
      ]
     },
     "execution_count": 11,
     "metadata": {},
     "output_type": "execute_result"
    }
   ],
   "source": [
    "df['Time'].unique()\n",
    "df['Time'].unique().min(), df['Time'].unique().max() # get year range"
   ]
  },
  {
   "cell_type": "code",
   "execution_count": 12,
   "metadata": {
    "collapsed": true
   },
   "outputs": [],
   "source": [
    "# trying groups to filter country/non-country (eg region)"
   ]
  },
  {
   "cell_type": "code",
   "execution_count": 13,
   "metadata": {
    "collapsed": true
   },
   "outputs": [],
   "source": [
    "# g = df.groupby('Location')\n",
    "# g.groups.get('Africa')\n",
    "# #g.get_group('Western Africa')# Note: groups include regions too \n",
    "# g.get_group('World') # Note: groups include World too\n",
    "# g.get_group('Less developed regions') # groups include development group too... then likely income group too\n",
    "# g.get_group('Low-income countries') # groups include incomegroup too\n",
    "\n",
    "# # need to exclude World, Development, Income groups, etc.\n",
    "# # get filter via LocID**"
   ]
  },
  {
   "cell_type": "code",
   "execution_count": 14,
   "metadata": {},
   "outputs": [
    {
     "data": {
      "text/plain": [
       "array(['Medium', 'High', 'Low', 'Constant fertility',\n",
       "       'Instant replacement', 'Zero migration', 'Constant mortality',\n",
       "       'No change', 'Momentum'], dtype=object)"
      ]
     },
     "execution_count": 14,
     "metadata": {},
     "output_type": "execute_result"
    }
   ],
   "source": [
    "df['Variant'].unique()"
   ]
  },
  {
   "cell_type": "markdown",
   "metadata": {},
   "source": [
    "### 3. Filter data ('medium' variant)  - only relevant to some datasets from UN that have multiple variants\n",
    "Note: for historical data, all variants have same population value. For future projection, medium is the most used variant (does not imply highest accuracy) as population projections are inherently very uncertainy and depends on many variables."
   ]
  },
  {
   "cell_type": "code",
   "execution_count": 15,
   "metadata": {
    "collapsed": true
   },
   "outputs": [],
   "source": [
    "# Filter medium variant\n",
    "df_med = df[df['Variant']=='Medium']"
   ]
  },
  {
   "cell_type": "code",
   "execution_count": 16,
   "metadata": {},
   "outputs": [
    {
     "data": {
      "text/plain": [
       "(41223, 9)"
      ]
     },
     "execution_count": 16,
     "metadata": {},
     "output_type": "execute_result"
    }
   ],
   "source": [
    "df_med.columns\n",
    "df_med.shape"
   ]
  },
  {
   "cell_type": "markdown",
   "metadata": {},
   "source": [
    "### 4. Filter historical estimates only (Do this again after merge -- checking)"
   ]
  },
  {
   "cell_type": "code",
   "execution_count": 17,
   "metadata": {},
   "outputs": [
    {
     "name": "stdout",
     "output_type": "stream",
     "text": [
      "True\n"
     ]
    },
    {
     "data": {
      "text/plain": [
       "(2100, 1950)"
      ]
     },
     "execution_count": 17,
     "metadata": {},
     "output_type": "execute_result"
    }
   ],
   "source": [
    "print(len(df_med['Time'].unique()) == (2100- 1950+1)) \n",
    "df_med['Time'].unique().max(), df_med['Time'].unique().min()"
   ]
  },
  {
   "cell_type": "code",
   "execution_count": 18,
   "metadata": {},
   "outputs": [
    {
     "data": {
      "text/plain": [
       "(1950, 2015)"
      ]
     },
     "execution_count": 18,
     "metadata": {},
     "output_type": "execute_result"
    }
   ],
   "source": [
    "df_hist = df_med[df_med['Time'] <= 2015]\n",
    "df_hist['Time'].unique().min(), df_hist['Time'].unique().max() # now year ranges from 1950 to 2015"
   ]
  },
  {
   "cell_type": "code",
   "execution_count": 19,
   "metadata": {
    "scrolled": true
   },
   "outputs": [
    {
     "data": {
      "text/plain": [
       "(18018, 9)"
      ]
     },
     "execution_count": 19,
     "metadata": {},
     "output_type": "execute_result"
    }
   ],
   "source": [
    "df_hist.shape # (18018, 9) fewer entries due to reduction in years"
   ]
  },
  {
   "cell_type": "code",
   "execution_count": 20,
   "metadata": {},
   "outputs": [
    {
     "data": {
      "text/html": [
       "<div>\n",
       "<style>\n",
       "    .dataframe thead tr:only-child th {\n",
       "        text-align: right;\n",
       "    }\n",
       "\n",
       "    .dataframe thead th {\n",
       "        text-align: left;\n",
       "    }\n",
       "\n",
       "    .dataframe tbody tr th {\n",
       "        vertical-align: top;\n",
       "    }\n",
       "</style>\n",
       "<table border=\"1\" class=\"dataframe\">\n",
       "  <thead>\n",
       "    <tr style=\"text-align: right;\">\n",
       "      <th></th>\n",
       "      <th>LocID</th>\n",
       "      <th>Location</th>\n",
       "      <th>VarID</th>\n",
       "      <th>Variant</th>\n",
       "      <th>Time</th>\n",
       "      <th>MidPeriod</th>\n",
       "      <th>PopMale</th>\n",
       "      <th>PopFemale</th>\n",
       "      <th>PopTotal</th>\n",
       "    </tr>\n",
       "  </thead>\n",
       "  <tbody>\n",
       "    <tr>\n",
       "      <th>0</th>\n",
       "      <td>4</td>\n",
       "      <td>Afghanistan</td>\n",
       "      <td>2</td>\n",
       "      <td>Medium</td>\n",
       "      <td>1950</td>\n",
       "      <td>1950.5</td>\n",
       "      <td>4099.243</td>\n",
       "      <td>3652.874</td>\n",
       "      <td>7752.118</td>\n",
       "    </tr>\n",
       "    <tr>\n",
       "      <th>1</th>\n",
       "      <td>4</td>\n",
       "      <td>Afghanistan</td>\n",
       "      <td>2</td>\n",
       "      <td>Medium</td>\n",
       "      <td>1951</td>\n",
       "      <td>1951.5</td>\n",
       "      <td>4134.477</td>\n",
       "      <td>3705.031</td>\n",
       "      <td>7839.510</td>\n",
       "    </tr>\n",
       "    <tr>\n",
       "      <th>2</th>\n",
       "      <td>4</td>\n",
       "      <td>Afghanistan</td>\n",
       "      <td>2</td>\n",
       "      <td>Medium</td>\n",
       "      <td>1952</td>\n",
       "      <td>1952.5</td>\n",
       "      <td>4173.993</td>\n",
       "      <td>3760.979</td>\n",
       "      <td>7934.980</td>\n",
       "    </tr>\n",
       "  </tbody>\n",
       "</table>\n",
       "</div>"
      ],
      "text/plain": [
       "   LocID     Location  VarID Variant  Time  MidPeriod   PopMale  PopFemale  \\\n",
       "0      4  Afghanistan      2  Medium  1950     1950.5  4099.243   3652.874   \n",
       "1      4  Afghanistan      2  Medium  1951     1951.5  4134.477   3705.031   \n",
       "2      4  Afghanistan      2  Medium  1952     1952.5  4173.993   3760.979   \n",
       "\n",
       "   PopTotal  \n",
       "0  7752.118  \n",
       "1  7839.510  \n",
       "2  7934.980  "
      ]
     },
     "execution_count": 20,
     "metadata": {},
     "output_type": "execute_result"
    }
   ],
   "source": [
    "df_hist.columns\n",
    "df_hist.head(3)"
   ]
  },
  {
   "cell_type": "markdown",
   "metadata": {},
   "source": [
    "### 5. Merge meta + data to only retrieve country data (expect 233 entries)\n",
    "\n",
    "###  Note: merge on `LocID` and `Country code` instead of country name. Three country names cause problems during merge, including:\n",
    "\n",
    "**<span style=\"color:black; background-color: #FFEBCD\">Warning</span>**\n",
    "\n",
    "*  \"C̫te d'Ivoire\" vs \"Côte d'Ivoire\"\n",
    "*  'Cura̤ao' vs 'Curaçao'\n",
    "* ?"
   ]
  },
  {
   "cell_type": "code",
   "execution_count": 21,
   "metadata": {},
   "outputs": [
    {
     "data": {
      "text/plain": [
       "set()"
      ]
     },
     "execution_count": 21,
     "metadata": {},
     "output_type": "execute_result"
    }
   ],
   "source": [
    "a = sorted(df_meta['Country code'].unique())\n",
    "b = sorted(df['LocID'].unique())\n",
    "set(a) - set(b)\n",
    "\n",
    "# a == b"
   ]
  },
  {
   "cell_type": "code",
   "execution_count": 22,
   "metadata": {},
   "outputs": [
    {
     "name": "stdout",
     "output_type": "stream",
     "text": [
      "Index(['LocID', 'Location', 'VarID', 'Variant', 'Time', 'MidPeriod', 'PopMale',\n",
      "       'PopFemale', 'PopTotal'],\n",
      "      dtype='object')\n",
      "Index(['Index', 'Country or area', 'Notes', 'Country code', 'ISO3'], dtype='object')\n"
     ]
    }
   ],
   "source": [
    "print(df_hist.columns) # Location, # LocID\n",
    "print(df_meta.columns) # Country or area # Country code?\n",
    "\n",
    "# add new column to merge on. same data as 'Country or area' but too lazy to rename\n",
    "df_meta['LocID'] = df_meta['Country code']\n",
    "\n",
    "# alternatively. can rename `Country code` column"
   ]
  },
  {
   "cell_type": "code",
   "execution_count": 23,
   "metadata": {
    "scrolled": true
   },
   "outputs": [
    {
     "data": {
      "text/plain": [
       "(15378, 14)"
      ]
     },
     "execution_count": 23,
     "metadata": {},
     "output_type": "execute_result"
    }
   ],
   "source": [
    "# similiar, but different from WB filter_non_countries:\n",
    "# 1) requires a column name to merge on (as a parameter)\n",
    "# 2) doesn't create as mask for non-country using meta-data (to exclude groupings)\n",
    "# 2) is separated out as a different function\n",
    "\n",
    "def merge_dfs_on(_df, _metadata, _merge_col):\n",
    "    '''\n",
    "    _df : pd.DataFrame\n",
    "        either income or population data\n",
    "    _metadata : pd.DataFrame\n",
    "        metadata on a list of entries including countries and non-countries \n",
    "        data source is from the World Bank\n",
    "        has IncomeGroup column that is not null for countries (217)\n",
    "    _merge_col : Str\n",
    "        column name to merge on\n",
    "    '''\n",
    "    _merged = _df.merge(_metadata, on=_merge_col)\n",
    "    return _merged\n",
    "\n",
    "merged = merge_dfs_on(df_hist, df_meta, 'LocID')\n",
    "merged.shape"
   ]
  },
  {
   "cell_type": "code",
   "execution_count": 24,
   "metadata": {
    "collapsed": true
   },
   "outputs": [],
   "source": [
    "# Also from WB_analysis `get_row_by_country_name`\n",
    "\n",
    "def get_country(_df, country_name):\n",
    "    return _df[_df['Location'] == country_name]\n",
    "\n",
    "def get_country_by_first_letter(df, first_letter):\n",
    "    return df.loc[df['Location'].str.startswith(first_letter)]"
   ]
  },
  {
   "cell_type": "markdown",
   "metadata": {},
   "source": [
    "### 6. Select interested columns"
   ]
  },
  {
   "cell_type": "code",
   "execution_count": 25,
   "metadata": {
    "collapsed": true
   },
   "outputs": [],
   "source": [
    "#Given dataframe and a list of cols, return subset containing given columns only\n",
    "select_cols= lambda _df, _list_of_cols: _df[_list_of_cols]\n",
    "\n",
    "list_of_cols_wanted = ['LocID', 'ISO3', 'Location', 'Time', 'PopTotal']\n",
    "    \n",
    "df_sub = select_cols(merged, list_of_cols_wanted)"
   ]
  },
  {
   "cell_type": "code",
   "execution_count": 26,
   "metadata": {},
   "outputs": [
    {
     "data": {
      "text/plain": [
       "array([1950, 1951, 1952, 1953, 1954, 1955, 1956, 1957, 1958, 1959, 1960,\n",
       "       1961, 1962, 1963, 1964, 1965, 1966, 1967, 1968, 1969, 1970, 1971,\n",
       "       1972, 1973, 1974, 1975, 1976, 1977, 1978, 1979, 1980, 1981, 1982,\n",
       "       1983, 1984, 1985, 1986, 1987, 1988, 1989, 1990, 1991, 1992, 1993,\n",
       "       1994, 1995, 1996, 1997, 1998, 1999, 2000, 2001, 2002, 2003, 2004,\n",
       "       2005, 2006, 2007, 2008, 2009, 2010, 2011, 2012, 2013, 2014, 2015])"
      ]
     },
     "execution_count": 26,
     "metadata": {},
     "output_type": "execute_result"
    }
   ],
   "source": [
    "df_sub.shape\n",
    "df_sub['Time'].unique()"
   ]
  },
  {
   "cell_type": "markdown",
   "metadata": {},
   "source": [
    "### Pandas pivoting!!"
   ]
  },
  {
   "cell_type": "code",
   "execution_count": 27,
   "metadata": {},
   "outputs": [
    {
     "data": {
      "text/plain": [
       "array(['Iceland', 'India', 'Indonesia', 'Iran (Islamic Republic of)',\n",
       "       'Iraq', 'Ireland', 'Isle of Man', 'Israel', 'Italy'], dtype=object)"
      ]
     },
     "execution_count": 27,
     "metadata": {},
     "output_type": "execute_result"
    }
   ],
   "source": [
    "get_country_by_first_letter(df_sub, 'I')['Location'].unique()"
   ]
  },
  {
   "cell_type": "code",
   "execution_count": 28,
   "metadata": {},
   "outputs": [
    {
     "data": {
      "text/plain": [
       "233"
      ]
     },
     "execution_count": 28,
     "metadata": {},
     "output_type": "execute_result"
    }
   ],
   "source": [
    "g = df_sub.groupby('Location')\n",
    "len(g.groups.keys()) #233\n",
    "\n",
    "# 233 countries"
   ]
  },
  {
   "cell_type": "code",
   "execution_count": 29,
   "metadata": {},
   "outputs": [
    {
     "data": {
      "text/plain": [
       "(233, 66)"
      ]
     },
     "execution_count": 29,
     "metadata": {},
     "output_type": "execute_result"
    }
   ],
   "source": [
    "pivoted=df_sub.pivot_table(index='Location', columns='Time', values='PopTotal')\n",
    "pivoted.shape"
   ]
  },
  {
   "cell_type": "code",
   "execution_count": 30,
   "metadata": {},
   "outputs": [
    {
     "data": {
      "text/plain": [
       "Int64Index([1950, 1951, 1952, 1953, 1954, 1955, 1956, 1957, 1958, 1959, 1960,\n",
       "            1961, 1962, 1963, 1964, 1965, 1966, 1967, 1968, 1969, 1970, 1971,\n",
       "            1972, 1973, 1974, 1975, 1976, 1977, 1978, 1979, 1980, 1981, 1982,\n",
       "            1983, 1984, 1985, 1986, 1987, 1988, 1989, 1990, 1991, 1992, 1993,\n",
       "            1994, 1995, 1996, 1997, 1998, 1999, 2000, 2001, 2002, 2003, 2004,\n",
       "            2005, 2006, 2007, 2008, 2009, 2010, 2011, 2012, 2013, 2014, 2015],\n",
       "           dtype='int64', name='Time')"
      ]
     },
     "execution_count": 30,
     "metadata": {},
     "output_type": "execute_result"
    }
   ],
   "source": [
    "pivoted.columns"
   ]
  },
  {
   "cell_type": "code",
   "execution_count": 31,
   "metadata": {},
   "outputs": [
    {
     "data": {
      "text/plain": [
       "66"
      ]
     },
     "execution_count": 31,
     "metadata": {},
     "output_type": "execute_result"
    }
   ],
   "source": [
    "2015-1950+1 # years"
   ]
  },
  {
   "cell_type": "markdown",
   "metadata": {},
   "source": [
    "### Reindexing to make Location (or country name) a separate column\n",
    "\n",
    "Doing this to be consistent with WB datasets. Right now index column has name `Time` but it's irrelevant so not trying to rename it.\n",
    "\n",
    "But `pivoted` and not `reindexed` has nice advantage of row access via country name."
   ]
  },
  {
   "cell_type": "code",
   "execution_count": 32,
   "metadata": {
    "collapsed": true
   },
   "outputs": [],
   "source": [
    "df_un= pivoted.reset_index(inplace=False)"
   ]
  },
  {
   "cell_type": "code",
   "execution_count": 36,
   "metadata": {},
   "outputs": [],
   "source": [
    "pivoted.to_csv('un_population_1215.csv')"
   ]
  }
 ],
 "metadata": {
  "kernelspec": {
   "display_name": "Python 3",
   "language": "python",
   "name": "python3"
  },
  "language_info": {
   "codemirror_mode": {
    "name": "ipython",
    "version": 3
   },
   "file_extension": ".py",
   "mimetype": "text/x-python",
   "name": "python",
   "nbconvert_exporter": "python",
   "pygments_lexer": "ipython3",
   "version": "3.6.3"
  }
 },
 "nbformat": 4,
 "nbformat_minor": 2
}
