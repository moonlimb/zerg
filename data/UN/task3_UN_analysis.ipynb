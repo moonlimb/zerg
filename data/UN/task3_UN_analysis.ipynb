{
 "cells": [
  {
   "cell_type": "code",
   "execution_count": 198,
   "metadata": {
    "collapsed": true
   },
   "outputs": [],
   "source": [
    "import os\n",
    "\n",
    "import matplotlib.pyplot as plt\n",
    "import numpy as np\n",
    "import pandas as pd\n",
    "import seaborn as sns\n",
    "import xarray as xr\n",
    "\n",
    "% matplotlib inline"
   ]
  },
  {
   "cell_type": "markdown",
   "metadata": {},
   "source": [
    "### UN Population Data Analysis\n",
    "\n",
    "**Data & Scope:** downloaded on 12/12 3.40 pm\n",
    "- 1950-2100\n",
    "    - historical/current: 1950-2015 are estimates\n",
    "    - projections (probabilistic): 2016 and beyond (9 different variants)\n",
    "- Population data only.\n",
    "- Update status: \n",
    "    - last update - 20 Aug 2013 \n",
    "    - next udpate - summer 2019\n",
    "\n",
    "**Source:** United Nations (http://data.un.org/Data.aspx?d=PopDiv&f=variableID%3a12)\n",
    "\n",
    "**Analysis Goals**\n",
    "- Compare UN population data with PWT, WB, and IMF data\n",
    "- Outline UN's methodology for population data, note any limitations/assumptions.\n",
    "\n",
    "*Currently Out of Scope*\n",
    "- Also evaluate whether UN dataset seems reliable for future projection X \n",
    "\n",
    "**Conclusion**\n",
    "\n",
    "**Questions**\n"
   ]
  },
  {
   "cell_type": "markdown",
   "metadata": {},
   "source": [
    "Table of contents\n",
    "\n",
    "1. Open and munge data\n",
    "    - filter/reformat\n",
    "2.  Find missing years/countries\n"
   ]
  },
  {
   "cell_type": "markdown",
   "metadata": {},
   "source": [
    "#### Open UN data"
   ]
  },
  {
   "cell_type": "code",
   "execution_count": 199,
   "metadata": {},
   "outputs": [],
   "source": [
    "#df = pd.read_csv('/Users/mlimb/Dropbox/covariate_project/zerg/data/UN/WPP2017_PopulationByAgeSex_Medium.csv')\n",
    "df = pd.read_csv('/Users/mlimb/Dropbox/covariate_project/zerg/data/UN/WPP2017_TotalPopulationBySex.csv')"
   ]
  },
  {
   "cell_type": "markdown",
   "metadata": {},
   "source": [
    "#### Open Other Data Sources (WB, PWT)"
   ]
  },
  {
   "cell_type": "code",
   "execution_count": 200,
   "metadata": {
    "collapsed": true
   },
   "outputs": [],
   "source": [
    "df_wb = pd.read_csv('/Users/mlimb/Dropbox/covariate_project/zerg/data/WB/population/API_SP.POP.TOTL_DS2_en_csv_v2.csv', skiprows=3)\n",
    "df_pwt = pd.read_stata('/Users/mlimb/Dropbox/covariate_project/zerg/data/PWT/pwt90.dta')\n",
    "\n",
    "#df_pwt.head(5)"
   ]
  },
  {
   "cell_type": "markdown",
   "metadata": {},
   "source": [
    "#### Look at UN data"
   ]
  },
  {
   "cell_type": "code",
   "execution_count": 201,
   "metadata": {
    "scrolled": true
   },
   "outputs": [
    {
     "data": {
      "text/plain": [
       "Index(['LocID', 'Location', 'VarID', 'Variant', 'Time', 'MidPeriod', 'PopMale',\n",
       "       'PopFemale', 'PopTotal'],\n",
       "      dtype='object')"
      ]
     },
     "execution_count": 201,
     "metadata": {},
     "output_type": "execute_result"
    }
   ],
   "source": [
    "df.columns"
   ]
  },
  {
   "cell_type": "code",
   "execution_count": 202,
   "metadata": {
    "scrolled": true
   },
   "outputs": [
    {
     "data": {
      "text/plain": [
       "(371007, 9)"
      ]
     },
     "execution_count": 202,
     "metadata": {},
     "output_type": "execute_result"
    }
   ],
   "source": [
    "df.shape"
   ]
  },
  {
   "cell_type": "code",
   "execution_count": 203,
   "metadata": {},
   "outputs": [
    {
     "name": "stdout",
     "output_type": "stream",
     "text": [
      "151\n",
      "273\n",
      "9\n"
     ]
    }
   ],
   "source": [
    "print(df['Time'].nunique()) # 151 years\n",
    "print(df['Location'].nunique()) # 273 unique country/areas\n",
    "print(df['Variant'].nunique())# 9 variants # "
   ]
  },
  {
   "cell_type": "code",
   "execution_count": 204,
   "metadata": {},
   "outputs": [
    {
     "data": {
      "text/plain": [
       "(1950, 2100)"
      ]
     },
     "execution_count": 204,
     "metadata": {},
     "output_type": "execute_result"
    }
   ],
   "source": [
    "df['Time'].unique()\n",
    "df['Time'].unique().min(), df['Time'].unique().max() # get year range"
   ]
  },
  {
   "cell_type": "code",
   "execution_count": 205,
   "metadata": {},
   "outputs": [
    {
     "data": {
      "text/plain": [
       "array(['Medium', 'High', 'Low', 'Constant fertility',\n",
       "       'Instant replacement', 'Zero migration', 'Constant mortality',\n",
       "       'No change', 'Momentum'], dtype=object)"
      ]
     },
     "execution_count": 205,
     "metadata": {},
     "output_type": "execute_result"
    }
   ],
   "source": [
    "df['Variant'].unique()"
   ]
  },
  {
   "cell_type": "markdown",
   "metadata": {},
   "source": [
    "### Filter data ('medium' variant)  - only relevant to some datasets from UN that have multiple variants\n",
    "Note: for historical data, all variants have same population value. For future projection, medium is the most used variant (does not imply highest accuracy) as population projections are inherently very uncertainy and depends on many variables."
   ]
  },
  {
   "cell_type": "code",
   "execution_count": 206,
   "metadata": {
    "collapsed": true
   },
   "outputs": [],
   "source": [
    "# Filter medium variant\n",
    "df_med = df[df['Variant']=='Medium']"
   ]
  },
  {
   "cell_type": "code",
   "execution_count": 207,
   "metadata": {},
   "outputs": [
    {
     "data": {
      "text/plain": [
       "(41223, 9)"
      ]
     },
     "execution_count": 207,
     "metadata": {},
     "output_type": "execute_result"
    }
   ],
   "source": [
    "df_med.columns\n",
    "df_med.shape"
   ]
  },
  {
   "cell_type": "markdown",
   "metadata": {},
   "source": [
    "### Filter historical estimates only"
   ]
  },
  {
   "cell_type": "code",
   "execution_count": 208,
   "metadata": {},
   "outputs": [
    {
     "data": {
      "text/plain": [
       "array([1950, 1951, 1952, 1953, 1954, 1955, 1956, 1957, 1958, 1959, 1960,\n",
       "       1961, 1962, 1963, 1964, 1965, 1966, 1967, 1968, 1969, 1970, 1971,\n",
       "       1972, 1973, 1974, 1975, 1976, 1977, 1978, 1979, 1980, 1981, 1982,\n",
       "       1983, 1984, 1985, 1986, 1987, 1988, 1989, 1990, 1991, 1992, 1993,\n",
       "       1994, 1995, 1996, 1997, 1998, 1999, 2000, 2001, 2002, 2003, 2004,\n",
       "       2005, 2006, 2007, 2008, 2009, 2010, 2011, 2012, 2013, 2014, 2015,\n",
       "       2016, 2017, 2018, 2019, 2020, 2021, 2022, 2023, 2024, 2025, 2026,\n",
       "       2027, 2028, 2029, 2030, 2031, 2032, 2033, 2034, 2035, 2036, 2037,\n",
       "       2038, 2039, 2040, 2041, 2042, 2043, 2044, 2045, 2046, 2047, 2048,\n",
       "       2049, 2050, 2051, 2052, 2053, 2054, 2055, 2056, 2057, 2058, 2059,\n",
       "       2060, 2061, 2062, 2063, 2064, 2065, 2066, 2067, 2068, 2069, 2070,\n",
       "       2071, 2072, 2073, 2074, 2075, 2076, 2077, 2078, 2079, 2080, 2081,\n",
       "       2082, 2083, 2084, 2085, 2086, 2087, 2088, 2089, 2090, 2091, 2092,\n",
       "       2093, 2094, 2095, 2096, 2097, 2098, 2099, 2100])"
      ]
     },
     "execution_count": 208,
     "metadata": {},
     "output_type": "execute_result"
    }
   ],
   "source": [
    "df_med['Time'].unique()"
   ]
  },
  {
   "cell_type": "code",
   "execution_count": 209,
   "metadata": {},
   "outputs": [
    {
     "data": {
      "text/plain": [
       "(1950, 2015)"
      ]
     },
     "execution_count": 209,
     "metadata": {},
     "output_type": "execute_result"
    }
   ],
   "source": [
    "df_hist = df_med[df_med['Time'] <= 2015]\n",
    "df_hist['Time'].unique().min(), df_hist['Time'].unique().max() # now year ranges from 1950 to 2015"
   ]
  },
  {
   "cell_type": "code",
   "execution_count": 214,
   "metadata": {
    "scrolled": false
   },
   "outputs": [
    {
     "data": {
      "text/plain": [
       "(18018, 9)"
      ]
     },
     "execution_count": 214,
     "metadata": {},
     "output_type": "execute_result"
    }
   ],
   "source": [
    "df_hist.shape # (18018, 9) fewer entries due to reduction in years"
   ]
  },
  {
   "cell_type": "code",
   "execution_count": 216,
   "metadata": {},
   "outputs": [
    {
     "data": {
      "text/html": [
       "<div>\n",
       "<style>\n",
       "    .dataframe thead tr:only-child th {\n",
       "        text-align: right;\n",
       "    }\n",
       "\n",
       "    .dataframe thead th {\n",
       "        text-align: left;\n",
       "    }\n",
       "\n",
       "    .dataframe tbody tr th {\n",
       "        vertical-align: top;\n",
       "    }\n",
       "</style>\n",
       "<table border=\"1\" class=\"dataframe\">\n",
       "  <thead>\n",
       "    <tr style=\"text-align: right;\">\n",
       "      <th></th>\n",
       "      <th>LocID</th>\n",
       "      <th>Location</th>\n",
       "      <th>VarID</th>\n",
       "      <th>Variant</th>\n",
       "      <th>Time</th>\n",
       "      <th>MidPeriod</th>\n",
       "      <th>PopMale</th>\n",
       "      <th>PopFemale</th>\n",
       "      <th>PopTotal</th>\n",
       "    </tr>\n",
       "  </thead>\n",
       "  <tbody>\n",
       "    <tr>\n",
       "      <th>0</th>\n",
       "      <td>4</td>\n",
       "      <td>Afghanistan</td>\n",
       "      <td>2</td>\n",
       "      <td>Medium</td>\n",
       "      <td>1950</td>\n",
       "      <td>1950.5</td>\n",
       "      <td>4099.243</td>\n",
       "      <td>3652.874</td>\n",
       "      <td>7752.118</td>\n",
       "    </tr>\n",
       "    <tr>\n",
       "      <th>1</th>\n",
       "      <td>4</td>\n",
       "      <td>Afghanistan</td>\n",
       "      <td>2</td>\n",
       "      <td>Medium</td>\n",
       "      <td>1951</td>\n",
       "      <td>1951.5</td>\n",
       "      <td>4134.477</td>\n",
       "      <td>3705.031</td>\n",
       "      <td>7839.510</td>\n",
       "    </tr>\n",
       "    <tr>\n",
       "      <th>2</th>\n",
       "      <td>4</td>\n",
       "      <td>Afghanistan</td>\n",
       "      <td>2</td>\n",
       "      <td>Medium</td>\n",
       "      <td>1952</td>\n",
       "      <td>1952.5</td>\n",
       "      <td>4173.993</td>\n",
       "      <td>3760.979</td>\n",
       "      <td>7934.980</td>\n",
       "    </tr>\n",
       "  </tbody>\n",
       "</table>\n",
       "</div>"
      ],
      "text/plain": [
       "   LocID     Location  VarID Variant  Time  MidPeriod   PopMale  PopFemale  \\\n",
       "0      4  Afghanistan      2  Medium  1950     1950.5  4099.243   3652.874   \n",
       "1      4  Afghanistan      2  Medium  1951     1951.5  4134.477   3705.031   \n",
       "2      4  Afghanistan      2  Medium  1952     1952.5  4173.993   3760.979   \n",
       "\n",
       "   PopTotal  \n",
       "0  7752.118  \n",
       "1  7839.510  \n",
       "2  7934.980  "
      ]
     },
     "execution_count": 216,
     "metadata": {},
     "output_type": "execute_result"
    }
   ],
   "source": [
    "df_hist.columns\n",
    "df_hist.head(3)"
   ]
  },
  {
   "cell_type": "markdown",
   "metadata": {},
   "source": [
    "### Select only relevant columns - Location (ie. country), Time (ie. year), PopTotal"
   ]
  },
  {
   "cell_type": "code",
   "execution_count": 218,
   "metadata": {
    "scrolled": true
   },
   "outputs": [
    {
     "data": {
      "text/plain": [
       "(18018, 3)"
      ]
     },
     "execution_count": 218,
     "metadata": {},
     "output_type": "execute_result"
    }
   ],
   "source": [
    "df_sub = df_hist[['Location','Time','PopTotal']]\n",
    "df_sub.shape"
   ]
  },
  {
   "cell_type": "code",
   "execution_count": 219,
   "metadata": {},
   "outputs": [
    {
     "data": {
      "text/html": [
       "<div>\n",
       "<style>\n",
       "    .dataframe thead tr:only-child th {\n",
       "        text-align: right;\n",
       "    }\n",
       "\n",
       "    .dataframe thead th {\n",
       "        text-align: left;\n",
       "    }\n",
       "\n",
       "    .dataframe tbody tr th {\n",
       "        vertical-align: top;\n",
       "    }\n",
       "</style>\n",
       "<table border=\"1\" class=\"dataframe\">\n",
       "  <thead>\n",
       "    <tr style=\"text-align: right;\">\n",
       "      <th></th>\n",
       "      <th>Location</th>\n",
       "      <th>Time</th>\n",
       "      <th>PopTotal</th>\n",
       "    </tr>\n",
       "  </thead>\n",
       "  <tbody>\n",
       "    <tr>\n",
       "      <th>41135</th>\n",
       "      <td>Zimbabwe</td>\n",
       "      <td>2013</td>\n",
       "      <td>15054.506</td>\n",
       "    </tr>\n",
       "    <tr>\n",
       "      <th>41136</th>\n",
       "      <td>Zimbabwe</td>\n",
       "      <td>2014</td>\n",
       "      <td>15411.675</td>\n",
       "    </tr>\n",
       "    <tr>\n",
       "      <th>41137</th>\n",
       "      <td>Zimbabwe</td>\n",
       "      <td>2015</td>\n",
       "      <td>15777.451</td>\n",
       "    </tr>\n",
       "  </tbody>\n",
       "</table>\n",
       "</div>"
      ],
      "text/plain": [
       "       Location  Time   PopTotal\n",
       "41135  Zimbabwe  2013  15054.506\n",
       "41136  Zimbabwe  2014  15411.675\n",
       "41137  Zimbabwe  2015  15777.451"
      ]
     },
     "execution_count": 219,
     "metadata": {},
     "output_type": "execute_result"
    }
   ],
   "source": [
    "df_sub.tail(3)"
   ]
  },
  {
   "cell_type": "markdown",
   "metadata": {},
   "source": [
    "### Pandas pivoting!!"
   ]
  },
  {
   "cell_type": "code",
   "execution_count": 222,
   "metadata": {},
   "outputs": [
    {
     "data": {
      "text/plain": [
       "(273, 66)"
      ]
     },
     "execution_count": 222,
     "metadata": {},
     "output_type": "execute_result"
    }
   ],
   "source": [
    "pivoted=df_hist.pivot(index='Location', columns='Time', values='PopTotal')\n",
    "pivoted.shape"
   ]
  },
  {
   "cell_type": "code",
   "execution_count": 225,
   "metadata": {},
   "outputs": [
    {
     "data": {
      "text/plain": [
       "66"
      ]
     },
     "execution_count": 225,
     "metadata": {},
     "output_type": "execute_result"
    }
   ],
   "source": [
    "2015-1950+1 # years"
   ]
  },
  {
   "cell_type": "code",
   "execution_count": 226,
   "metadata": {
    "scrolled": true
   },
   "outputs": [
    {
     "data": {
      "text/html": [
       "<div>\n",
       "<style>\n",
       "    .dataframe thead tr:only-child th {\n",
       "        text-align: right;\n",
       "    }\n",
       "\n",
       "    .dataframe thead th {\n",
       "        text-align: left;\n",
       "    }\n",
       "\n",
       "    .dataframe tbody tr th {\n",
       "        vertical-align: top;\n",
       "    }\n",
       "</style>\n",
       "<table border=\"1\" class=\"dataframe\">\n",
       "  <thead>\n",
       "    <tr style=\"text-align: right;\">\n",
       "      <th>Time</th>\n",
       "      <th>1950</th>\n",
       "      <th>1951</th>\n",
       "      <th>1952</th>\n",
       "      <th>1953</th>\n",
       "      <th>1954</th>\n",
       "      <th>1955</th>\n",
       "      <th>1956</th>\n",
       "      <th>1957</th>\n",
       "      <th>1958</th>\n",
       "      <th>1959</th>\n",
       "      <th>...</th>\n",
       "      <th>2006</th>\n",
       "      <th>2007</th>\n",
       "      <th>2008</th>\n",
       "      <th>2009</th>\n",
       "      <th>2010</th>\n",
       "      <th>2011</th>\n",
       "      <th>2012</th>\n",
       "      <th>2013</th>\n",
       "      <th>2014</th>\n",
       "      <th>2015</th>\n",
       "    </tr>\n",
       "    <tr>\n",
       "      <th>Location</th>\n",
       "      <th></th>\n",
       "      <th></th>\n",
       "      <th></th>\n",
       "      <th></th>\n",
       "      <th></th>\n",
       "      <th></th>\n",
       "      <th></th>\n",
       "      <th></th>\n",
       "      <th></th>\n",
       "      <th></th>\n",
       "      <th></th>\n",
       "      <th></th>\n",
       "      <th></th>\n",
       "      <th></th>\n",
       "      <th></th>\n",
       "      <th></th>\n",
       "      <th></th>\n",
       "      <th></th>\n",
       "      <th></th>\n",
       "      <th></th>\n",
       "      <th></th>\n",
       "    </tr>\n",
       "  </thead>\n",
       "  <tbody>\n",
       "    <tr>\n",
       "      <th>Afghanistan</th>\n",
       "      <td>7752.118</td>\n",
       "      <td>7839.510</td>\n",
       "      <td>7934.980</td>\n",
       "      <td>8038.596</td>\n",
       "      <td>8150.447</td>\n",
       "      <td>8270.581</td>\n",
       "      <td>8399.030</td>\n",
       "      <td>8535.807</td>\n",
       "      <td>8680.946</td>\n",
       "      <td>8834.445</td>\n",
       "      <td>...</td>\n",
       "      <td>25893.450</td>\n",
       "      <td>26616.792</td>\n",
       "      <td>27294.031</td>\n",
       "      <td>28004.331</td>\n",
       "      <td>28803.167</td>\n",
       "      <td>29708.599</td>\n",
       "      <td>30696.958</td>\n",
       "      <td>31731.688</td>\n",
       "      <td>32758.020</td>\n",
       "      <td>33736.494</td>\n",
       "    </tr>\n",
       "    <tr>\n",
       "      <th>Africa</th>\n",
       "      <td>228670.019</td>\n",
       "      <td>233277.049</td>\n",
       "      <td>238113.121</td>\n",
       "      <td>243177.791</td>\n",
       "      <td>248471.497</td>\n",
       "      <td>253995.025</td>\n",
       "      <td>259750.195</td>\n",
       "      <td>265739.281</td>\n",
       "      <td>271965.261</td>\n",
       "      <td>278431.545</td>\n",
       "      <td>...</td>\n",
       "      <td>948156.166</td>\n",
       "      <td>972265.961</td>\n",
       "      <td>997144.670</td>\n",
       "      <td>1022858.654</td>\n",
       "      <td>1049446.344</td>\n",
       "      <td>1076933.813</td>\n",
       "      <td>1105285.268</td>\n",
       "      <td>1134398.192</td>\n",
       "      <td>1164129.789</td>\n",
       "      <td>1194369.908</td>\n",
       "    </tr>\n",
       "    <tr>\n",
       "      <th>Albania</th>\n",
       "      <td>1263.174</td>\n",
       "      <td>1287.497</td>\n",
       "      <td>1316.089</td>\n",
       "      <td>1348.099</td>\n",
       "      <td>1382.878</td>\n",
       "      <td>1419.970</td>\n",
       "      <td>1459.089</td>\n",
       "      <td>1500.149</td>\n",
       "      <td>1543.222</td>\n",
       "      <td>1588.484</td>\n",
       "      <td>...</td>\n",
       "      <td>3054.331</td>\n",
       "      <td>3023.907</td>\n",
       "      <td>2991.651</td>\n",
       "      <td>2962.635</td>\n",
       "      <td>2940.525</td>\n",
       "      <td>2926.659</td>\n",
       "      <td>2920.039</td>\n",
       "      <td>2918.978</td>\n",
       "      <td>2920.775</td>\n",
       "      <td>2923.352</td>\n",
       "    </tr>\n",
       "  </tbody>\n",
       "</table>\n",
       "<p>3 rows × 66 columns</p>\n",
       "</div>"
      ],
      "text/plain": [
       "Time               1950        1951        1952        1953        1954  \\\n",
       "Location                                                                  \n",
       "Afghanistan    7752.118    7839.510    7934.980    8038.596    8150.447   \n",
       "Africa       228670.019  233277.049  238113.121  243177.791  248471.497   \n",
       "Albania        1263.174    1287.497    1316.089    1348.099    1382.878   \n",
       "\n",
       "Time               1955        1956        1957        1958        1959  \\\n",
       "Location                                                                  \n",
       "Afghanistan    8270.581    8399.030    8535.807    8680.946    8834.445   \n",
       "Africa       253995.025  259750.195  265739.281  271965.261  278431.545   \n",
       "Albania        1419.970    1459.089    1500.149    1543.222    1588.484   \n",
       "\n",
       "Time            ...             2006        2007        2008         2009  \\\n",
       "Location        ...                                                         \n",
       "Afghanistan     ...        25893.450   26616.792   27294.031    28004.331   \n",
       "Africa          ...       948156.166  972265.961  997144.670  1022858.654   \n",
       "Albania         ...         3054.331    3023.907    2991.651     2962.635   \n",
       "\n",
       "Time                2010         2011         2012         2013         2014  \\\n",
       "Location                                                                       \n",
       "Afghanistan    28803.167    29708.599    30696.958    31731.688    32758.020   \n",
       "Africa       1049446.344  1076933.813  1105285.268  1134398.192  1164129.789   \n",
       "Albania         2940.525     2926.659     2920.039     2918.978     2920.775   \n",
       "\n",
       "Time                2015  \n",
       "Location                  \n",
       "Afghanistan    33736.494  \n",
       "Africa       1194369.908  \n",
       "Albania         2923.352  \n",
       "\n",
       "[3 rows x 66 columns]"
      ]
     },
     "execution_count": 226,
     "metadata": {},
     "output_type": "execute_result"
    }
   ],
   "source": [
    "pivoted.head(3)"
   ]
  },
  {
   "cell_type": "markdown",
   "metadata": {},
   "source": [
    "### Reindexing to make Location (or country name) a separate column\n",
    "\n",
    "Doing this to be consistent with WB datasets. Right now index column has name `Time` but it's irrelevant so not trying to rename it.\n",
    "\n",
    "But `pivoted` and not `reindexed` has nice advantage of row access via country name."
   ]
  },
  {
   "cell_type": "code",
   "execution_count": 242,
   "metadata": {},
   "outputs": [
    {
     "data": {
      "text/plain": [
       "{1950: 554419.27500000002,\n",
       " 1951: 569611.07499999995,\n",
       " 1952: 582029.30099999998,\n",
       " 1953: 592567.86100000003,\n",
       " 1954: 601971.21799999999,\n",
       " 1955: 610834.39600000007,\n",
       " 1956: 619597.54700000002,\n",
       " 1957: 628551.40500000003,\n",
       " 1958: 637853.60899999994,\n",
       " 1959: 647555.96299999999,\n",
       " 1960: 657686.14299999992,\n",
       " 1961: 668334.897,\n",
       " 1962: 679732.31499999994,\n",
       " 1963: 692280.48999999999,\n",
       " 1964: 706460.95299999998,\n",
       " 1965: 722562.18299999996,\n",
       " 1966: 740745.64199999999,\n",
       " 1967: 760771.06299999997,\n",
       " 1968: 782008.72900000005,\n",
       " 1969: 803577.2209999999,\n",
       " 1970: 824788.45700000005,\n",
       " 1971: 845481.57799999998,\n",
       " 1972: 865686.53000000003,\n",
       " 1973: 885145.93299999996,\n",
       " 1974: 903613.53799999994,\n",
       " 1975: 920945.08299999998,\n",
       " 1976: 937018.25199999998,\n",
       " 1977: 951927.44400000002,\n",
       " 1978: 966039.82200000004,\n",
       " 1979: 979880.61900000006,\n",
       " 1980: 993877.31000000006,\n",
       " 1981: 1008000.152,\n",
       " 1982: 1022253.3959999999,\n",
       " 1983: 1037123.834,\n",
       " 1984: 1053210.7350000001,\n",
       " 1985: 1070863.389,\n",
       " 1986: 1090348.0559999999,\n",
       " 1987: 1111341.7250000001,\n",
       " 1988: 1132866.344,\n",
       " 1989: 1153565.8940000001,\n",
       " 1990: 1172445.2,\n",
       " 1991: 1189183.5220000001,\n",
       " 1992: 1204003.9009999998,\n",
       " 1993: 1217129.1329999999,\n",
       " 1994: 1228991.932,\n",
       " 1995: 1239940.004,\n",
       " 1996: 1249981.4409999999,\n",
       " 1997: 1259066.9740000002,\n",
       " 1998: 1267441.503,\n",
       " 1999: 1275406.699,\n",
       " 2000: 1283198.97,\n",
       " 2001: 1290937.649,\n",
       " 2002: 1298646.577,\n",
       " 2003: 1306343.9109999998,\n",
       " 2004: 1314007.4779999999,\n",
       " 2005: 1321623.49,\n",
       " 2006: 1329209.094,\n",
       " 2007: 1336800.5060000001,\n",
       " 2008: 1344415.227,\n",
       " 2009: 1352068.091,\n",
       " 2010: 1359755.102,\n",
       " 2011: 1367480.264,\n",
       " 2012: 1375198.6189999999,\n",
       " 2013: 1382793.2119999998,\n",
       " 2014: 1390110.388,\n",
       " 2015: 1397028.5530000001}"
      ]
     },
     "execution_count": 242,
     "metadata": {},
     "output_type": "execute_result"
    }
   ],
   "source": [
    "pivoted.loc['Africa']\n",
    "pivoted.loc['China'].to_dict()"
   ]
  },
  {
   "cell_type": "code",
   "execution_count": 234,
   "metadata": {
    "scrolled": true
   },
   "outputs": [
    {
     "data": {
      "text/html": [
       "<div>\n",
       "<style>\n",
       "    .dataframe thead tr:only-child th {\n",
       "        text-align: right;\n",
       "    }\n",
       "\n",
       "    .dataframe thead th {\n",
       "        text-align: left;\n",
       "    }\n",
       "\n",
       "    .dataframe tbody tr th {\n",
       "        vertical-align: top;\n",
       "    }\n",
       "</style>\n",
       "<table border=\"1\" class=\"dataframe\">\n",
       "  <thead>\n",
       "    <tr style=\"text-align: right;\">\n",
       "      <th>Time</th>\n",
       "      <th>Location</th>\n",
       "      <th>1950</th>\n",
       "      <th>1951</th>\n",
       "      <th>1952</th>\n",
       "      <th>1953</th>\n",
       "      <th>1954</th>\n",
       "      <th>1955</th>\n",
       "      <th>1956</th>\n",
       "      <th>1957</th>\n",
       "      <th>1958</th>\n",
       "      <th>...</th>\n",
       "      <th>2006</th>\n",
       "      <th>2007</th>\n",
       "      <th>2008</th>\n",
       "      <th>2009</th>\n",
       "      <th>2010</th>\n",
       "      <th>2011</th>\n",
       "      <th>2012</th>\n",
       "      <th>2013</th>\n",
       "      <th>2014</th>\n",
       "      <th>2015</th>\n",
       "    </tr>\n",
       "  </thead>\n",
       "  <tbody>\n",
       "    <tr>\n",
       "      <th>0</th>\n",
       "      <td>Afghanistan</td>\n",
       "      <td>7752.118</td>\n",
       "      <td>7839.510</td>\n",
       "      <td>7934.980</td>\n",
       "      <td>8038.596</td>\n",
       "      <td>8150.447</td>\n",
       "      <td>8270.581</td>\n",
       "      <td>8399.030</td>\n",
       "      <td>8535.807</td>\n",
       "      <td>8680.946</td>\n",
       "      <td>...</td>\n",
       "      <td>25893.450</td>\n",
       "      <td>26616.792</td>\n",
       "      <td>27294.031</td>\n",
       "      <td>28004.331</td>\n",
       "      <td>28803.167</td>\n",
       "      <td>29708.599</td>\n",
       "      <td>30696.958</td>\n",
       "      <td>31731.688</td>\n",
       "      <td>32758.020</td>\n",
       "      <td>33736.494</td>\n",
       "    </tr>\n",
       "    <tr>\n",
       "      <th>1</th>\n",
       "      <td>Africa</td>\n",
       "      <td>228670.019</td>\n",
       "      <td>233277.049</td>\n",
       "      <td>238113.121</td>\n",
       "      <td>243177.791</td>\n",
       "      <td>248471.497</td>\n",
       "      <td>253995.025</td>\n",
       "      <td>259750.195</td>\n",
       "      <td>265739.281</td>\n",
       "      <td>271965.261</td>\n",
       "      <td>...</td>\n",
       "      <td>948156.166</td>\n",
       "      <td>972265.961</td>\n",
       "      <td>997144.670</td>\n",
       "      <td>1022858.654</td>\n",
       "      <td>1049446.344</td>\n",
       "      <td>1076933.813</td>\n",
       "      <td>1105285.268</td>\n",
       "      <td>1134398.192</td>\n",
       "      <td>1164129.789</td>\n",
       "      <td>1194369.908</td>\n",
       "    </tr>\n",
       "  </tbody>\n",
       "</table>\n",
       "<p>2 rows × 67 columns</p>\n",
       "</div>"
      ],
      "text/plain": [
       "Time     Location        1950        1951        1952        1953        1954  \\\n",
       "0     Afghanistan    7752.118    7839.510    7934.980    8038.596    8150.447   \n",
       "1          Africa  228670.019  233277.049  238113.121  243177.791  248471.497   \n",
       "\n",
       "Time        1955        1956        1957        1958     ...             2006  \\\n",
       "0       8270.581    8399.030    8535.807    8680.946     ...        25893.450   \n",
       "1     253995.025  259750.195  265739.281  271965.261     ...       948156.166   \n",
       "\n",
       "Time        2007        2008         2009         2010         2011  \\\n",
       "0      26616.792   27294.031    28004.331    28803.167    29708.599   \n",
       "1     972265.961  997144.670  1022858.654  1049446.344  1076933.813   \n",
       "\n",
       "Time         2012         2013         2014         2015  \n",
       "0       30696.958    31731.688    32758.020    33736.494  \n",
       "1     1105285.268  1134398.192  1164129.789  1194369.908  \n",
       "\n",
       "[2 rows x 67 columns]"
      ]
     },
     "execution_count": 234,
     "metadata": {},
     "output_type": "execute_result"
    }
   ],
   "source": [
    "reindexed = pivoted.reset_index(inplace=False)\n",
    "reindexed.head(2)"
   ]
  },
  {
   "cell_type": "code",
   "execution_count": null,
   "metadata": {
    "collapsed": true
   },
   "outputs": [],
   "source": []
  }
 ],
 "metadata": {
  "kernelspec": {
   "display_name": "Python 3",
   "language": "python",
   "name": "python3"
  },
  "language_info": {
   "codemirror_mode": {
    "name": "ipython",
    "version": 3
   },
   "file_extension": ".py",
   "mimetype": "text/x-python",
   "name": "python",
   "nbconvert_exporter": "python",
   "pygments_lexer": "ipython3",
   "version": "3.6.3"
  }
 },
 "nbformat": 4,
 "nbformat_minor": 2
}
