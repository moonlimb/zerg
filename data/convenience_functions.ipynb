{
 "cells": [
  {
   "cell_type": "code",
   "execution_count": 1,
   "metadata": {
    "collapsed": true
   },
   "outputs": [],
   "source": [
    "import os\n",
    "\n",
    "import matplotlib.pylab as plt\n",
    "import numpy as np\n",
    "import pandas as pd\n",
    "import seaborn as sns\n",
    "import xarray as xr\n",
    "\n",
    "\n",
    "% matplotlib inline"
   ]
  },
  {
   "cell_type": "markdown",
   "metadata": {},
   "source": [
    "### Function to retrieve missing # years per country for a given list of countries\n",
    "```\n",
    "Given a list of countries\n",
    "\n",
    "Retrieve # of missing years for each country\n",
    "\n",
    "Optional: *specify a dataset\n",
    "Optional: replace Country Name with Country code to be more reusable\n",
    "```"
   ]
  },
  {
   "cell_type": "code",
   "execution_count": 7,
   "metadata": {
    "collapsed": true
   },
   "outputs": [],
   "source": [
    "def get_missing_years(_list_of_countries):\n",
    "    '''\n",
    "    Parmeters\n",
    "    ----\n",
    "    [Python List] _list_of_countries\n",
    "        list of countries (each country is a Country name as a String)\n",
    "        \n",
    "    Returns\n",
    "    ----\n",
    "    [Python List]\n",
    "        a list of tuple pairs containing (country_name, #_missing_years)\n",
    "    where country_name (String) and # missing_years (int)\n",
    "    sorted by decreasing # of missing years\n",
    "    '''\n",
    "    missing_years = []\n",
    "    \n",
    "    return []"
   ]
  },
  {
   "cell_type": "code",
   "execution_count": 4,
   "metadata": {},
   "outputs": [
    {
     "data": {
      "text/plain": [
       "'/Users/mlimb/Dropbox/covariate_project/zerg/data'"
      ]
     },
     "execution_count": 4,
     "metadata": {},
     "output_type": "execute_result"
    }
   ],
   "source": [
    "os.getcwd()"
   ]
  },
  {
   "cell_type": "code",
   "execution_count": 36,
   "metadata": {
    "collapsed": true
   },
   "outputs": [],
   "source": [
    "## PWT\n"
   ]
  },
  {
   "cell_type": "code",
   "execution_count": 5,
   "metadata": {
    "collapsed": true
   },
   "outputs": [],
   "source": [
    "imf = os.getcwd() + '/IMF/'"
   ]
  },
  {
   "cell_type": "code",
   "execution_count": 10,
   "metadata": {
    "collapsed": true
   },
   "outputs": [],
   "source": [
    "imf ='/Users/mlimb/Dropbox/covariate_project/zerg/data/IMF/imf-dm-export-20171214.xls'"
   ]
  },
  {
   "cell_type": "code",
   "execution_count": 13,
   "metadata": {},
   "outputs": [
    {
     "data": {
      "text/plain": [
       "(192, 44)"
      ]
     },
     "execution_count": 13,
     "metadata": {},
     "output_type": "execute_result"
    }
   ],
   "source": [
    "df_imf = pd.read_excel(imf, sheetname='countries_only')\n",
    "df_imf.shape"
   ]
  },
  {
   "cell_type": "code",
   "execution_count": 14,
   "metadata": {},
   "outputs": [
    {
     "data": {
      "text/html": [
       "<div>\n",
       "<style>\n",
       "    .dataframe thead tr:only-child th {\n",
       "        text-align: right;\n",
       "    }\n",
       "\n",
       "    .dataframe thead th {\n",
       "        text-align: left;\n",
       "    }\n",
       "\n",
       "    .dataframe tbody tr th {\n",
       "        vertical-align: top;\n",
       "    }\n",
       "</style>\n",
       "<table border=\"1\" class=\"dataframe\">\n",
       "  <thead>\n",
       "    <tr style=\"text-align: right;\">\n",
       "      <th></th>\n",
       "      <th>Population (Millions of people)</th>\n",
       "      <th>1980</th>\n",
       "      <th>1981</th>\n",
       "      <th>1982</th>\n",
       "      <th>1983</th>\n",
       "      <th>1984</th>\n",
       "      <th>1985</th>\n",
       "      <th>1986</th>\n",
       "      <th>1987</th>\n",
       "      <th>1988</th>\n",
       "      <th>...</th>\n",
       "      <th>2013</th>\n",
       "      <th>2014</th>\n",
       "      <th>2015</th>\n",
       "      <th>2016</th>\n",
       "      <th>2017</th>\n",
       "      <th>2018</th>\n",
       "      <th>2019</th>\n",
       "      <th>2020</th>\n",
       "      <th>2021</th>\n",
       "      <th>2022</th>\n",
       "    </tr>\n",
       "  </thead>\n",
       "  <tbody>\n",
       "    <tr>\n",
       "      <th>0</th>\n",
       "      <td>Afghanistan</td>\n",
       "      <td>no data</td>\n",
       "      <td>no data</td>\n",
       "      <td>no data</td>\n",
       "      <td>no data</td>\n",
       "      <td>no data</td>\n",
       "      <td>no data</td>\n",
       "      <td>no data</td>\n",
       "      <td>no data</td>\n",
       "      <td>no data</td>\n",
       "      <td>...</td>\n",
       "      <td>30.55</td>\n",
       "      <td>31.279</td>\n",
       "      <td>32.007</td>\n",
       "      <td>33.4</td>\n",
       "      <td>36.8</td>\n",
       "      <td>36.867</td>\n",
       "      <td>36.933</td>\n",
       "      <td>37</td>\n",
       "      <td>37.514</td>\n",
       "      <td>38.028</td>\n",
       "    </tr>\n",
       "    <tr>\n",
       "      <th>1</th>\n",
       "      <td>Albania</td>\n",
       "      <td>2.762</td>\n",
       "      <td>2.817</td>\n",
       "      <td>2.877</td>\n",
       "      <td>2.935</td>\n",
       "      <td>2.996</td>\n",
       "      <td>3.059</td>\n",
       "      <td>3.12</td>\n",
       "      <td>3.182</td>\n",
       "      <td>3.246</td>\n",
       "      <td>...</td>\n",
       "      <td>2.895</td>\n",
       "      <td>2.889</td>\n",
       "      <td>2.881</td>\n",
       "      <td>2.876</td>\n",
       "      <td>2.876</td>\n",
       "      <td>2.874</td>\n",
       "      <td>2.87</td>\n",
       "      <td>2.865</td>\n",
       "      <td>2.861</td>\n",
       "      <td>2.856</td>\n",
       "    </tr>\n",
       "    <tr>\n",
       "      <th>2</th>\n",
       "      <td>Algeria</td>\n",
       "      <td>18.666</td>\n",
       "      <td>19.246</td>\n",
       "      <td>19.864</td>\n",
       "      <td>20.516</td>\n",
       "      <td>21.175</td>\n",
       "      <td>22.2</td>\n",
       "      <td>22.8</td>\n",
       "      <td>23.4</td>\n",
       "      <td>24.1</td>\n",
       "      <td>...</td>\n",
       "      <td>38.297</td>\n",
       "      <td>39.114</td>\n",
       "      <td>39.963</td>\n",
       "      <td>40.762</td>\n",
       "      <td>41.537</td>\n",
       "      <td>42.326</td>\n",
       "      <td>43.088</td>\n",
       "      <td>43.863</td>\n",
       "      <td>44.609</td>\n",
       "      <td>45.323</td>\n",
       "    </tr>\n",
       "  </tbody>\n",
       "</table>\n",
       "<p>3 rows × 44 columns</p>\n",
       "</div>"
      ],
      "text/plain": [
       "  Population (Millions of people)     1980     1981     1982     1983  \\\n",
       "0                     Afghanistan  no data  no data  no data  no data   \n",
       "1                         Albania    2.762    2.817    2.877    2.935   \n",
       "2                         Algeria   18.666   19.246   19.864   20.516   \n",
       "\n",
       "      1984     1985     1986     1987     1988   ...      2013    2014  \\\n",
       "0  no data  no data  no data  no data  no data   ...     30.55  31.279   \n",
       "1    2.996    3.059     3.12    3.182    3.246   ...     2.895   2.889   \n",
       "2   21.175     22.2     22.8     23.4     24.1   ...    38.297  39.114   \n",
       "\n",
       "     2015    2016    2017    2018    2019    2020    2021    2022  \n",
       "0  32.007    33.4    36.8  36.867  36.933      37  37.514  38.028  \n",
       "1   2.881   2.876   2.876   2.874    2.87   2.865   2.861   2.856  \n",
       "2  39.963  40.762  41.537  42.326  43.088  43.863  44.609  45.323  \n",
       "\n",
       "[3 rows x 44 columns]"
      ]
     },
     "execution_count": 14,
     "metadata": {},
     "output_type": "execute_result"
    }
   ],
   "source": [
    "df_imf.head(3)"
   ]
  },
  {
   "cell_type": "markdown",
   "metadata": {},
   "source": [
    "### population data"
   ]
  },
  {
   "cell_type": "code",
   "execution_count": 35,
   "metadata": {},
   "outputs": [
    {
     "name": "stdout",
     "output_type": "stream",
     "text": [
      "Population (Millions of people)     0\n",
      "1980                               48\n",
      "1981                               47\n",
      "1982                               47\n",
      "1983                               47\n",
      "1984                               47\n",
      "1985                               46\n",
      "1986                               46\n",
      "1987                               46\n",
      "1988                               46\n",
      "1989                               43\n",
      "1990                               33\n",
      "1991                               31\n",
      "1992                               21\n",
      "1993                               20\n",
      "1994                               19\n",
      "1995                               16\n",
      "1996                               15\n",
      "1997                               13\n",
      "1998                               11\n",
      "1999                               10\n",
      "2000                                7\n",
      "2001                                5\n",
      "2002                                4\n",
      "2003                                3\n",
      "2004                                2\n",
      "2005                                2\n",
      "2006                                2\n",
      "2007                                2\n",
      "2008                                1\n",
      "2009                                1\n",
      "2010                                1\n",
      "2011                                1\n",
      "2012                                1\n",
      "2013                                1\n",
      "2014                                1\n",
      "2015                                1\n",
      "2016                                1\n",
      "2017                                1\n",
      "2018                                1\n",
      "2019                                1\n",
      "2020                                1\n",
      "2021                                1\n",
      "2022                                1\n",
      "dtype: int64\n"
     ]
    }
   ],
   "source": [
    "\n",
    "# replace with NaN\n",
    "replaced = df_imf.replace('no data', np.nan)\n",
    "print(replaced.isnull().sum())"
   ]
  },
  {
   "cell_type": "code",
   "execution_count": null,
   "metadata": {
    "collapsed": true
   },
   "outputs": [],
   "source": [
    "countries_with_complete_data = replaced[~replaced[1950].isnull()]['country']\n",
    "\n",
    "# Syria 1980-2010, missing data 2011 - 2022\n",
    "# South Sudan, 2011-2022, missing data 1980-2010\n",
    "# Afghanistan 2001-2022, missing 1980-2000\n",
    "# Armenia 1990-2022, missing 1980-1989\n",
    "# Bahamas, The, 1992-2022, missing 1980-1991"
   ]
  },
  {
   "cell_type": "code",
   "execution_count": null,
   "metadata": {
    "collapsed": true
   },
   "outputs": [],
   "source": []
  }
 ],
 "metadata": {
  "kernelspec": {
   "display_name": "Python 3",
   "language": "python",
   "name": "python3"
  },
  "language_info": {
   "codemirror_mode": {
    "name": "ipython",
    "version": 3
   },
   "file_extension": ".py",
   "mimetype": "text/x-python",
   "name": "python",
   "nbconvert_exporter": "python",
   "pygments_lexer": "ipython3",
   "version": "3.6.3"
  }
 },
 "nbformat": 4,
 "nbformat_minor": 2
}
