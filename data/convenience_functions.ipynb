{
 "cells": [
  {
   "cell_type": "markdown",
   "metadata": {},
   "source": [
    "### Function to retrieve missing # years per country for a given list of countries\n",
    "```\n",
    "Given a list of countries\n",
    "\n",
    "Retrieve # of missing years for each country\n",
    "\n",
    "Optional: *specify a dataset\n",
    "Optional: replace Country Name with Country code to be more reusable\n",
    "```"
   ]
  },
  {
   "cell_type": "code",
   "execution_count": 7,
   "metadata": {
    "collapsed": true
   },
   "outputs": [],
   "source": [
    "def get_missing_years(_list_of_countries):\n",
    "    '''\n",
    "    Parmeters\n",
    "    ----\n",
    "    [Python List] _list_of_countries\n",
    "        list of countries (each country is a Country name as a String)\n",
    "        \n",
    "    Returns\n",
    "    ----\n",
    "    [Python List]\n",
    "        a list of tuple pairs containing (country_name, #_missing_years)\n",
    "    where country_name (String) and # missing_years (int)\n",
    "    sorted by decreasing # of missing years\n",
    "    '''\n",
    "    missing_years = []\n",
    "    \n",
    "    return []"
   ]
  },
  {
   "cell_type": "code",
   "execution_count": null,
   "metadata": {
    "collapsed": true
   },
   "outputs": [],
   "source": []
  }
 ],
 "metadata": {
  "kernelspec": {
   "display_name": "Python 3",
   "language": "python",
   "name": "python3"
  },
  "language_info": {
   "codemirror_mode": {
    "name": "ipython",
    "version": 3
   },
   "file_extension": ".py",
   "mimetype": "text/x-python",
   "name": "python",
   "nbconvert_exporter": "python",
   "pygments_lexer": "ipython3",
   "version": "3.6.3"
  }
 },
 "nbformat": 4,
 "nbformat_minor": 2
}
