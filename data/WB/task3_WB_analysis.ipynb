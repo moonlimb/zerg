{
 "cells": [
  {
   "cell_type": "code",
   "execution_count": 120,
   "metadata": {
    "collapsed": true
   },
   "outputs": [],
   "source": [
    "import os\n",
    "from collections import OrderedDict\n",
    "\n",
    "import numpy as np\n",
    "import pandas as pd\n",
    "import requests\n",
    "import seaborn as sns\n",
    "import xarray as xr\n",
    "\n",
    "% matplotlib inline"
   ]
  },
  {
   "cell_type": "markdown",
   "metadata": {},
   "source": [
    "### WB Data Analysis\n",
    "\n",
    "**<span style=\"color:red; background:yellow;\"></span>**\n",
    "\n",
    "**Data & Scope:** downloaded on (date/time)\n",
    "Two types of datasets:\n",
    "\n",
    "1) Population (easy)\n",
    "* years 1960-2016\n",
    "* definition: total # residents (Regardless of citizenship/legal status)\n",
    "* sources: (mid-year value)\n",
    "\n",
    "    1) United Nations Population Division. World Population Prospects\n",
    "    \n",
    "    2) Census reports and other statistical publications from national statistical offices\n",
    "    \n",
    "    3) Eurostat: Demographic Statistics\n",
    "    \n",
    "    4) United Nations Statistical Division. Population and Vita\n",
    "\n",
    "2) GDP (slightly more tricky)\n",
    "- years: 1960 - 2016\n",
    "- four types of `gdp per capita` I looked at:\n",
    "\n",
    "    * current\n",
    "    * constant\n",
    "    * PPP current\n",
    "    * PPP constant\n",
    "\n",
    "**Source:** World Bank\n",
    "\n",
    "**Assumptions/Expectations**\n",
    "-\n",
    "\n",
    "**Analysis Goals**\n",
    "- Task 3 Deliverable: ADM0 population & real income estimates from `1950-2017`  **<span style=\"color:gray; background:lime;\">DONE</span>**\n",
    "\n",
    "- Find out which countries are missing data for which years. \n",
    "    Population **<span style=\"color:gray; background:lime;\">DONE</span>**\n",
    "    GDP\n",
    "- Or alternatively, which years are missing certain *countries*\n",
    "\n",
    "Possible convenience functions:\n",
    "* Find years missing for a given country (to check important countries)\n",
    "* Create filter for population > 10 mil: look at countries exit/enter data on which years. (Mike's suggesiton)\n",
    "* From metadata, get a list of country code that are not *countries* to filter them from the list **<span style=\"color:gray; background:lime;\">DONE</span>**\n",
    "\n",
    "\n",
    "**Conclusion**\n",
    "1. Population. Population data exists from **1960 to 2016.**\n",
    "    \n",
    "```  \n",
    "Countries out of 217 that are missing population data (nan):\n",
    "\n",
    "West Bank and Gaza: 1960 - 1989\n",
    "Serbia: 1960 - 1989\n",
    "Sint Maarten (Dutch part): 1960 -1998\n",
    "Kuwait: 1992-1994\n",
    "Eritrea: 2012-2016\n",
    "\n",
    "```\n",
    "\n",
    "2. GDP \n",
    "\n",
    "```\n",
    "Countries out of 217 that are missing gdp data\n",
    "\n",
    "a. GDP market constant\n",
    "\n",
    "b. GDP PPP constant\n",
    "```\n",
    "\n",
    "\n",
    "**Questions**\n",
    "1. How are different sources of population data used to result in one final set? (are there any overlaps between 4 sources?) i.e. what is the methodology for compilation?\n",
    "\n",
    "2. How often are population/income data updated?\n",
    "\n"
   ]
  },
  {
   "cell_type": "markdown",
   "metadata": {},
   "source": [
    "# A. Population data\n",
    "\n",
    "Total population (absolute units) - based on national census and extrapolation and interpolation for missing values (based on data from United Nations, other census organizations, Eurostats and WB methodology). Subject to undercounting/biases for both high and low/mid income countries. \n",
    "\n",
    "Interpolation and extrapolation done by World Bank/UN (??-confirm the responsible party) for certain years/countries that are missing census data, or missing pre/post census information for given time frame. Uses demographic models, etc. "
   ]
  },
  {
   "cell_type": "code",
   "execution_count": 121,
   "metadata": {},
   "outputs": [
    {
     "data": {
      "text/html": [
       "<div>\n",
       "<style>\n",
       "    .dataframe thead tr:only-child th {\n",
       "        text-align: right;\n",
       "    }\n",
       "\n",
       "    .dataframe thead th {\n",
       "        text-align: left;\n",
       "    }\n",
       "\n",
       "    .dataframe tbody tr th {\n",
       "        vertical-align: top;\n",
       "    }\n",
       "</style>\n",
       "<table border=\"1\" class=\"dataframe\">\n",
       "  <thead>\n",
       "    <tr style=\"text-align: right;\">\n",
       "      <th></th>\n",
       "      <th>Country Name</th>\n",
       "      <th>Country Code</th>\n",
       "      <th>Indicator Name</th>\n",
       "      <th>Indicator Code</th>\n",
       "      <th>1960</th>\n",
       "      <th>1961</th>\n",
       "      <th>1962</th>\n",
       "      <th>1963</th>\n",
       "      <th>1964</th>\n",
       "      <th>1965</th>\n",
       "      <th>...</th>\n",
       "      <th>2008</th>\n",
       "      <th>2009</th>\n",
       "      <th>2010</th>\n",
       "      <th>2011</th>\n",
       "      <th>2012</th>\n",
       "      <th>2013</th>\n",
       "      <th>2014</th>\n",
       "      <th>2015</th>\n",
       "      <th>2016</th>\n",
       "      <th>2017</th>\n",
       "    </tr>\n",
       "  </thead>\n",
       "  <tbody>\n",
       "    <tr>\n",
       "      <th>261</th>\n",
       "      <td>South Africa</td>\n",
       "      <td>ZAF</td>\n",
       "      <td>Population, total</td>\n",
       "      <td>SP.POP.TOTL</td>\n",
       "      <td>17396367.0</td>\n",
       "      <td>17850045.0</td>\n",
       "      <td>18322335.0</td>\n",
       "      <td>18809939.0</td>\n",
       "      <td>19308166.0</td>\n",
       "      <td>19813947.0</td>\n",
       "      <td>...</td>\n",
       "      <td>49557573.3</td>\n",
       "      <td>50255813.11</td>\n",
       "      <td>50979432.36</td>\n",
       "      <td>51729345.36</td>\n",
       "      <td>52506515.08</td>\n",
       "      <td>53311955.61</td>\n",
       "      <td>54146734.74</td>\n",
       "      <td>55011976.68</td>\n",
       "      <td>55908865.0</td>\n",
       "      <td>NaN</td>\n",
       "    </tr>\n",
       "    <tr>\n",
       "      <th>262</th>\n",
       "      <td>Zambia</td>\n",
       "      <td>ZMB</td>\n",
       "      <td>Population, total</td>\n",
       "      <td>SP.POP.TOTL</td>\n",
       "      <td>3044846.0</td>\n",
       "      <td>3140264.0</td>\n",
       "      <td>3240587.0</td>\n",
       "      <td>3345145.0</td>\n",
       "      <td>3452942.0</td>\n",
       "      <td>3563407.0</td>\n",
       "      <td>...</td>\n",
       "      <td>13082517.0</td>\n",
       "      <td>13456417.00</td>\n",
       "      <td>13850033.00</td>\n",
       "      <td>14264756.00</td>\n",
       "      <td>14699937.00</td>\n",
       "      <td>15153210.00</td>\n",
       "      <td>15620974.00</td>\n",
       "      <td>16100587.00</td>\n",
       "      <td>16591390.0</td>\n",
       "      <td>NaN</td>\n",
       "    </tr>\n",
       "    <tr>\n",
       "      <th>263</th>\n",
       "      <td>Zimbabwe</td>\n",
       "      <td>ZWE</td>\n",
       "      <td>Population, total</td>\n",
       "      <td>SP.POP.TOTL</td>\n",
       "      <td>3747369.0</td>\n",
       "      <td>3870756.0</td>\n",
       "      <td>3999419.0</td>\n",
       "      <td>4132756.0</td>\n",
       "      <td>4269863.0</td>\n",
       "      <td>4410212.0</td>\n",
       "      <td>...</td>\n",
       "      <td>13558469.0</td>\n",
       "      <td>13810599.00</td>\n",
       "      <td>14086317.00</td>\n",
       "      <td>14386649.00</td>\n",
       "      <td>14710826.00</td>\n",
       "      <td>15054506.00</td>\n",
       "      <td>15411675.00</td>\n",
       "      <td>15777451.00</td>\n",
       "      <td>16150362.0</td>\n",
       "      <td>NaN</td>\n",
       "    </tr>\n",
       "  </tbody>\n",
       "</table>\n",
       "<p>3 rows × 62 columns</p>\n",
       "</div>"
      ],
      "text/plain": [
       "     Country Name Country Code     Indicator Name Indicator Code        1960  \\\n",
       "261  South Africa          ZAF  Population, total    SP.POP.TOTL  17396367.0   \n",
       "262        Zambia          ZMB  Population, total    SP.POP.TOTL   3044846.0   \n",
       "263      Zimbabwe          ZWE  Population, total    SP.POP.TOTL   3747369.0   \n",
       "\n",
       "           1961        1962        1963        1964        1965  ...   \\\n",
       "261  17850045.0  18322335.0  18809939.0  19308166.0  19813947.0  ...    \n",
       "262   3140264.0   3240587.0   3345145.0   3452942.0   3563407.0  ...    \n",
       "263   3870756.0   3999419.0   4132756.0   4269863.0   4410212.0  ...    \n",
       "\n",
       "           2008         2009         2010         2011         2012  \\\n",
       "261  49557573.3  50255813.11  50979432.36  51729345.36  52506515.08   \n",
       "262  13082517.0  13456417.00  13850033.00  14264756.00  14699937.00   \n",
       "263  13558469.0  13810599.00  14086317.00  14386649.00  14710826.00   \n",
       "\n",
       "            2013         2014         2015        2016  2017  \n",
       "261  53311955.61  54146734.74  55011976.68  55908865.0   NaN  \n",
       "262  15153210.00  15620974.00  16100587.00  16591390.0   NaN  \n",
       "263  15054506.00  15411675.00  15777451.00  16150362.0   NaN  \n",
       "\n",
       "[3 rows x 62 columns]"
      ]
     },
     "execution_count": 121,
     "metadata": {},
     "output_type": "execute_result"
    }
   ],
   "source": [
    "df2 = pd.read_csv('population/API_SP.POP.TOTL_DS2_en_csv_v2.csv', skiprows=4)\n",
    "#del df2['Unnamed: 62'] # remove extraneous data\n",
    "df2.columns\n",
    "df2.tail(3)\n"
   ]
  },
  {
   "cell_type": "code",
   "execution_count": 122,
   "metadata": {},
   "outputs": [
    {
     "data": {
      "text/plain": [
       "array([ nan])"
      ]
     },
     "execution_count": 122,
     "metadata": {},
     "output_type": "execute_result"
    }
   ],
   "source": [
    "df2\n",
    "df2['2017'].unique() # nan -> all 2017 values nan"
   ]
  },
  {
   "cell_type": "code",
   "execution_count": 123,
   "metadata": {
    "scrolled": true
   },
   "outputs": [
    {
     "data": {
      "text/plain": [
       "(264, 59)"
      ]
     },
     "execution_count": 123,
     "metadata": {},
     "output_type": "execute_result"
    }
   ],
   "source": [
    "cols = ['Country Name'] + ['Country Code'] + [str(yr) for yr in range(1960, 2017)]\n",
    "#print (cols)\n",
    "df_pop = df2[cols]\n",
    "df_pop # includes Country Name and all years (1960-2016)\n",
    "df_pop.shape # 264 countries???, 58 columns "
   ]
  },
  {
   "cell_type": "code",
   "execution_count": 124,
   "metadata": {},
   "outputs": [
    {
     "data": {
      "text/plain": [
       "array([ 67, 108, 125, 194, 212, 223])"
      ]
     },
     "execution_count": 124,
     "metadata": {},
     "output_type": "execute_result"
    }
   ],
   "source": [
    "df_pop.head(5)   # Show top 5 rows\n",
    "df_pop.isnull().sum()\n",
    "# note that nan values per year changes from 1-4, 1989 and prior are all 4,\n",
    "# after that there is a shifts six times:\n",
    "# 4 (60-89) -> 2 (90-91)-> 3 (92-94) -> 2 (95-97) -> 1 (98-2011)-> 2 (2012-2016)-> 264 (2017)\n",
    "\n",
    "# Compare two years (diff countries)\n",
    "\n",
    "df_pop['1989'].isnull()\n",
    "pd.isnull(df_pop).any(1).nonzero()[0]"
   ]
  },
  {
   "cell_type": "markdown",
   "metadata": {},
   "source": [
    "NOTE on nans:\n",
    "\n",
    "* `df.isnull().sum()`: returns total number of nan values for each column (whole df) <- what I used\n",
    "* comparison of nan == np.nan to find nan values does not work (returns False)\n",
    "* can use np.isnan(val) for a single value OR possibly use `apply` method for whole col (did not try)"
   ]
  },
  {
   "cell_type": "code",
   "execution_count": 125,
   "metadata": {},
   "outputs": [
    {
     "data": {
      "text/plain": [
       "2"
      ]
     },
     "execution_count": 125,
     "metadata": {},
     "output_type": "execute_result"
    }
   ],
   "source": [
    "df_pop.iloc[67] # Eritrea missing 2012-2016\n",
    "df_pop.iloc[108] # Not classified missing all # what is this....?\n",
    "df_pop.iloc[194] # West Bank and Gaza missing 1960 - 1989\n",
    "df_pop.iloc[212] # Serbia missing 1960 - 1989\n",
    "df_pop.iloc[223] # Sint Maarten (Dutch part) 1960 -1998\n",
    "df_pop.iloc[125] # Kuwait missing 1992-1994\n",
    "\n",
    "# doing this manual painful way for now\n",
    "df_pop['1960'].isnull().sum() # 4 \n",
    "df_pop['1990'].isnull().sum() # expect 2 (excluding West Bank/Serbia)\n",
    "df_pop['1993'].isnull().sum() # expect 3 (Kuwait missing too)\n",
    "df_pop['1995'].isnull().sum() # expect 2 (Kuwait back again)\n",
    "df_pop['1999'].isnull().sum() # expect 1 Sint Maarten back\n",
    "df_pop['2012'].isnull().sum() # expect 2 (Eritrea goes missing)\n",
    "df_pop['2016'].isnull().sum() # expect 2\n",
    "\n",
    "# drop unclassified country since it's contributing 0 population \n",
    "# df_pop.drop(df_pop.index[108])\n"
   ]
  },
  {
   "cell_type": "markdown",
   "metadata": {},
   "source": [
    "# B. Meta data (Filter non-countries)\n",
    "\n",
    "Both population and income dataset includes list of countries (217) plus various classifications as entry data. These include:\n",
    "\n",
    "Task:\n",
    "\n",
    "- get a list of country codes for *non-countries* from metadata\n",
    "- use that list to filter those country codes from income or population data\n",
    "\n"
   ]
  },
  {
   "cell_type": "code",
   "execution_count": 126,
   "metadata": {
    "scrolled": true
   },
   "outputs": [],
   "source": [
    "# 263 - 46 # total # 217 countries\n",
    "\n",
    "# WARNING: had to re-download the file because I modified it by\n",
    "# opening and interacting with in via Excel. Produced error in read_csv call.\n",
    "\n",
    "# Only Open a copy version in Excel\n",
    "\n",
    "meta_country = pd.read_csv('./population/Metadata_Country_API_SP.POP.TOTL_DS2_en_csv_v2.csv')\n",
    "\n",
    "meta_country.columns\n",
    "del meta_country['Unnamed: 5']"
   ]
  },
  {
   "cell_type": "code",
   "execution_count": 127,
   "metadata": {},
   "outputs": [
    {
     "data": {
      "text/html": [
       "<div>\n",
       "<style>\n",
       "    .dataframe thead tr:only-child th {\n",
       "        text-align: right;\n",
       "    }\n",
       "\n",
       "    .dataframe thead th {\n",
       "        text-align: left;\n",
       "    }\n",
       "\n",
       "    .dataframe tbody tr th {\n",
       "        vertical-align: top;\n",
       "    }\n",
       "</style>\n",
       "<table border=\"1\" class=\"dataframe\">\n",
       "  <thead>\n",
       "    <tr style=\"text-align: right;\">\n",
       "      <th></th>\n",
       "      <th>Country Name</th>\n",
       "      <th>Country Code</th>\n",
       "      <th>1960</th>\n",
       "      <th>1961</th>\n",
       "      <th>1962</th>\n",
       "      <th>1963</th>\n",
       "      <th>1964</th>\n",
       "      <th>1965</th>\n",
       "      <th>1966</th>\n",
       "      <th>1967</th>\n",
       "      <th>...</th>\n",
       "      <th>2007</th>\n",
       "      <th>2008</th>\n",
       "      <th>2009</th>\n",
       "      <th>2010</th>\n",
       "      <th>2011</th>\n",
       "      <th>2012</th>\n",
       "      <th>2013</th>\n",
       "      <th>2014</th>\n",
       "      <th>2015</th>\n",
       "      <th>2016</th>\n",
       "    </tr>\n",
       "  </thead>\n",
       "  <tbody>\n",
       "    <tr>\n",
       "      <th>244</th>\n",
       "      <td>Uganda</td>\n",
       "      <td>UGA</td>\n",
       "      <td>6788214.0</td>\n",
       "      <td>7006633.0</td>\n",
       "      <td>7240174.0</td>\n",
       "      <td>7487429.0</td>\n",
       "      <td>7746198.0</td>\n",
       "      <td>8014401.0</td>\n",
       "      <td>8292776.0</td>\n",
       "      <td>8580676.0</td>\n",
       "      <td>...</td>\n",
       "      <td>30590487.0</td>\n",
       "      <td>31663896.0</td>\n",
       "      <td>32771895.0</td>\n",
       "      <td>33915133.0</td>\n",
       "      <td>35093648.0</td>\n",
       "      <td>36306796.0</td>\n",
       "      <td>37553726.0</td>\n",
       "      <td>38833338.0</td>\n",
       "      <td>40144870.0</td>\n",
       "      <td>41487965.0</td>\n",
       "    </tr>\n",
       "    <tr>\n",
       "      <th>245</th>\n",
       "      <td>Ukraine</td>\n",
       "      <td>UKR</td>\n",
       "      <td>42662149.0</td>\n",
       "      <td>43203635.0</td>\n",
       "      <td>43749470.0</td>\n",
       "      <td>44285899.0</td>\n",
       "      <td>44794327.0</td>\n",
       "      <td>45261935.0</td>\n",
       "      <td>45682308.0</td>\n",
       "      <td>46060452.0</td>\n",
       "      <td>...</td>\n",
       "      <td>46509350.0</td>\n",
       "      <td>46258200.0</td>\n",
       "      <td>46053300.0</td>\n",
       "      <td>45870700.0</td>\n",
       "      <td>45706100.0</td>\n",
       "      <td>45593300.0</td>\n",
       "      <td>45489600.0</td>\n",
       "      <td>45271947.0</td>\n",
       "      <td>45154029.0</td>\n",
       "      <td>45004645.0</td>\n",
       "    </tr>\n",
       "    <tr>\n",
       "      <th>247</th>\n",
       "      <td>Uruguay</td>\n",
       "      <td>URY</td>\n",
       "      <td>2538651.0</td>\n",
       "      <td>2571690.0</td>\n",
       "      <td>2603887.0</td>\n",
       "      <td>2635129.0</td>\n",
       "      <td>2665390.0</td>\n",
       "      <td>2694537.0</td>\n",
       "      <td>2722877.0</td>\n",
       "      <td>2750093.0</td>\n",
       "      <td>...</td>\n",
       "      <td>3339741.0</td>\n",
       "      <td>3350824.0</td>\n",
       "      <td>3362755.0</td>\n",
       "      <td>3374415.0</td>\n",
       "      <td>3385624.0</td>\n",
       "      <td>3396777.0</td>\n",
       "      <td>3408005.0</td>\n",
       "      <td>3419546.0</td>\n",
       "      <td>3431552.0</td>\n",
       "      <td>3444006.0</td>\n",
       "    </tr>\n",
       "    <tr>\n",
       "      <th>248</th>\n",
       "      <td>United States</td>\n",
       "      <td>USA</td>\n",
       "      <td>180671000.0</td>\n",
       "      <td>183691000.0</td>\n",
       "      <td>186538000.0</td>\n",
       "      <td>189242000.0</td>\n",
       "      <td>191889000.0</td>\n",
       "      <td>194303000.0</td>\n",
       "      <td>196560000.0</td>\n",
       "      <td>198712000.0</td>\n",
       "      <td>...</td>\n",
       "      <td>301231207.0</td>\n",
       "      <td>304093966.0</td>\n",
       "      <td>306771529.0</td>\n",
       "      <td>309348193.0</td>\n",
       "      <td>311663358.0</td>\n",
       "      <td>313998379.0</td>\n",
       "      <td>316204908.0</td>\n",
       "      <td>318563456.0</td>\n",
       "      <td>320896618.0</td>\n",
       "      <td>323127513.0</td>\n",
       "    </tr>\n",
       "    <tr>\n",
       "      <th>249</th>\n",
       "      <td>Uzbekistan</td>\n",
       "      <td>UZB</td>\n",
       "      <td>8549493.0</td>\n",
       "      <td>8837349.0</td>\n",
       "      <td>9138097.0</td>\n",
       "      <td>9454250.0</td>\n",
       "      <td>9788986.0</td>\n",
       "      <td>10143740.0</td>\n",
       "      <td>10520879.0</td>\n",
       "      <td>10917446.0</td>\n",
       "      <td>...</td>\n",
       "      <td>26868000.0</td>\n",
       "      <td>27302800.0</td>\n",
       "      <td>27767400.0</td>\n",
       "      <td>28562400.0</td>\n",
       "      <td>29339400.0</td>\n",
       "      <td>29774500.0</td>\n",
       "      <td>30243200.0</td>\n",
       "      <td>30757700.0</td>\n",
       "      <td>31298900.0</td>\n",
       "      <td>31848200.0</td>\n",
       "    </tr>\n",
       "  </tbody>\n",
       "</table>\n",
       "<p>5 rows × 59 columns</p>\n",
       "</div>"
      ],
      "text/plain": [
       "      Country Name Country Code         1960         1961         1962  \\\n",
       "244         Uganda          UGA    6788214.0    7006633.0    7240174.0   \n",
       "245        Ukraine          UKR   42662149.0   43203635.0   43749470.0   \n",
       "247        Uruguay          URY    2538651.0    2571690.0    2603887.0   \n",
       "248  United States          USA  180671000.0  183691000.0  186538000.0   \n",
       "249     Uzbekistan          UZB    8549493.0    8837349.0    9138097.0   \n",
       "\n",
       "            1963         1964         1965         1966         1967  \\\n",
       "244    7487429.0    7746198.0    8014401.0    8292776.0    8580676.0   \n",
       "245   44285899.0   44794327.0   45261935.0   45682308.0   46060452.0   \n",
       "247    2635129.0    2665390.0    2694537.0    2722877.0    2750093.0   \n",
       "248  189242000.0  191889000.0  194303000.0  196560000.0  198712000.0   \n",
       "249    9454250.0    9788986.0   10143740.0   10520879.0   10917446.0   \n",
       "\n",
       "        ...              2007         2008         2009         2010  \\\n",
       "244     ...        30590487.0   31663896.0   32771895.0   33915133.0   \n",
       "245     ...        46509350.0   46258200.0   46053300.0   45870700.0   \n",
       "247     ...         3339741.0    3350824.0    3362755.0    3374415.0   \n",
       "248     ...       301231207.0  304093966.0  306771529.0  309348193.0   \n",
       "249     ...        26868000.0   27302800.0   27767400.0   28562400.0   \n",
       "\n",
       "            2011         2012         2013         2014         2015  \\\n",
       "244   35093648.0   36306796.0   37553726.0   38833338.0   40144870.0   \n",
       "245   45706100.0   45593300.0   45489600.0   45271947.0   45154029.0   \n",
       "247    3385624.0    3396777.0    3408005.0    3419546.0    3431552.0   \n",
       "248  311663358.0  313998379.0  316204908.0  318563456.0  320896618.0   \n",
       "249   29339400.0   29774500.0   30243200.0   30757700.0   31298900.0   \n",
       "\n",
       "            2016  \n",
       "244   41487965.0  \n",
       "245   45004645.0  \n",
       "247    3444006.0  \n",
       "248  323127513.0  \n",
       "249   31848200.0  \n",
       "\n",
       "[5 rows x 59 columns]"
      ]
     },
     "execution_count": 127,
     "metadata": {},
     "output_type": "execute_result"
    }
   ],
   "source": [
    "def filter_non_countries(_df, _metadata):\n",
    "    '''\n",
    "    _df : pd.DataFrame\n",
    "        either income or population data\n",
    "        \n",
    "    _metadata : pd.DataFrame\n",
    "        metadata on a list of entries including countries and non-countries \n",
    "        data source is from the World Bank\n",
    "        has IncomeGroup column that is not null for countries (217)\n",
    "    \n",
    "    '''\n",
    "    _merged = _df.merge(_metadata, on='Country Code')\n",
    "    \n",
    "    non_country_mask = _merged['IncomeGroup'].isnull()\n",
    "    merged_country_only = _merged[~non_country_mask]\n",
    "    return merged_country_only\n",
    "\n",
    "def select_relevant_cols(_df):\n",
    "    _cols = ['Country Name'] + ['Country Code'] + [str(yr) for yr in range(1960, 2017)]\n",
    "    return _df[_cols]\n",
    "\n",
    "df_country_only = filter_non_countries(df2, meta_country)\n",
    "select_relevant_cols(df_country_only)[200:205]"
   ]
  },
  {
   "cell_type": "code",
   "execution_count": 128,
   "metadata": {},
   "outputs": [
    {
     "data": {
      "text/plain": [
       "False    217\n",
       "True      46\n",
       "Name: IncomeGroup, dtype: int64"
      ]
     },
     "execution_count": 128,
     "metadata": {},
     "output_type": "execute_result"
    }
   ],
   "source": [
    "meta_country['Region'].unique() # 7 excluding nan\n",
    "\n",
    "\n",
    "'''['Latin America & Caribbean' \n",
    " 'South Asia' \n",
    " 'Sub-Saharan Africa'\n",
    " 'Europe & Central Asia' /// nan \n",
    " 'Middle East & North Africa'\n",
    " 'East Asia & Pacific' \n",
    " 'North America']\n",
    "\n",
    "'''\n",
    "\n",
    "#print(meta_country['IncomeGroup'].nunique()) #4\n",
    "meta_country['IncomeGroup'].unique() \n",
    "'''['High income', 'Low income', 'Lower middle income', 'Upper middle income', nan]'''\n",
    "\n",
    "meta_country['Country Code'].nunique() # 263 entries \n",
    "meta_country['IncomeGroup'].isnull().value_counts() # 217 False (countries) # 46 nan\n",
    "# False values are countries -- i.e. all countries belong to an IncomeGroup\n",
    "# Validation: we know from (World Bank 2017) that total of 217 countries were included\n"
   ]
  },
  {
   "cell_type": "markdown",
   "metadata": {},
   "source": [
    "##  Playing around with data"
   ]
  },
  {
   "cell_type": "markdown",
   "metadata": {},
   "source": [
    "### Getting data for country (not really used)"
   ]
  },
  {
   "cell_type": "code",
   "execution_count": 226,
   "metadata": {},
   "outputs": [
    {
     "data": {
      "text/plain": [
       "56"
      ]
     },
     "execution_count": 226,
     "metadata": {},
     "output_type": "execute_result"
    }
   ],
   "source": [
    "get_missing_years(df_gdp, 'Aruba')\n",
    "\n",
    "# Count number of null values per year\n",
    "df_gdp.isnull().sum()\n",
    "\n",
    "# Count number of null values for each country\n",
    "df_gdp.apply(lambda row: row.isnull(),axis=1)\n",
    "\n",
    "df_gdp.iloc[0].isnull().sum()"
   ]
  },
  {
   "cell_type": "code",
   "execution_count": 202,
   "metadata": {},
   "outputs": [],
   "source": [
    "df = df_pop\n",
    "\n",
    "\n",
    "#     country_row = _df.loc[_df['Country Name'] == country_name]\n",
    "    #df_years_only = select_relevant_cols(_df)\n",
    "    \n",
    "def get_missing_years(_df, country_name):\n",
    "    '''\n",
    "    Calculate the number of years the country has no\n",
    "    data points (ie. has nan value)\n",
    "    \n",
    "    Parameters\n",
    "    ----------\n",
    "    country_name : Str\n",
    "        name of given country\n",
    "        \n",
    "    Returns \n",
    "    -------\n",
    "    Missing years in default range (1960-2017), where \n",
    "    each year is a string : List\n",
    "    \n",
    "    ex. ['1990',  '2005'']\n",
    "\n",
    "'''\n",
    "    # print list of years with missing data\n",
    "    #print (_df.isnull().any().tolist())\n",
    "\n",
    "    years_missing_data = _df.columns[_df.isnull().any()]\n",
    "    return _df.loc[:, years_missing_data]\n",
    "    #return country_row[country_row.isnull().any()].tolist()\n",
    "    #return country"
   ]
  },
  {
   "cell_type": "code",
   "execution_count": 190,
   "metadata": {
    "collapsed": true
   },
   "outputs": [],
   "source": [
    "# Get countries as dataframe (subset of original) by first letter\n",
    "def get_by_first_letter(df, first_letter):\n",
    "    return df.loc[df['Country Name'].str.startswith(first_letter)]\n",
    "\n",
    "# Get country by name\n",
    "def get_row_by_country_name(_df, country_name):\n",
    "    return _df[_df['Country Name'] == country_name]\n",
    "\n",
    "# Get country row from dataframe by index\n",
    "def get_by_index(df, country_idx):\n",
    "    return df.iloc[country_idx]\n",
    "\n",
    "# Get all countries that start with S\n",
    "s_countries = get_by_first_letter(df, 'S')\n",
    "#s_countries\n",
    "    \n",
    "# Get_by_first_letter(df, 'K') # example South Korea is index 124\n",
    "# get_by_index(df, 124)\n"
   ]
  },
  {
   "cell_type": "code",
   "execution_count": 130,
   "metadata": {
    "scrolled": true
   },
   "outputs": [
    {
     "data": {
      "text/html": [
       "<div>\n",
       "<style>\n",
       "    .dataframe thead tr:only-child th {\n",
       "        text-align: right;\n",
       "    }\n",
       "\n",
       "    .dataframe thead th {\n",
       "        text-align: left;\n",
       "    }\n",
       "\n",
       "    .dataframe tbody tr th {\n",
       "        vertical-align: top;\n",
       "    }\n",
       "</style>\n",
       "<table border=\"1\" class=\"dataframe\">\n",
       "  <thead>\n",
       "    <tr style=\"text-align: right;\">\n",
       "      <th></th>\n",
       "      <th>1960</th>\n",
       "      <th>2016</th>\n",
       "    </tr>\n",
       "  </thead>\n",
       "  <tbody>\n",
       "    <tr>\n",
       "      <th>107</th>\n",
       "      <td>449480608.0</td>\n",
       "      <td>1.324171e+09</td>\n",
       "    </tr>\n",
       "  </tbody>\n",
       "</table>\n",
       "</div>"
      ],
      "text/plain": [
       "            1960          2016\n",
       "107  449480608.0  1.324171e+09"
      ]
     },
     "execution_count": 130,
     "metadata": {},
     "output_type": "execute_result"
    }
   ],
   "source": [
    "# Returns all values of the 'Country Name' column as an array\n",
    "#df2['Country Name'].values #lists all countries\n",
    "# United States\n",
    "# China\n",
    "# India\n",
    "\n",
    "china = get_row_by_country_name(df2, 'China')\n",
    "india = get_row_by_country_name(df2, 'India')\n",
    "usa = get_row_by_country_name(df2, 'United States')\n",
    "def get_first_and_last_years(_country):\n",
    "    # _country is a dataframe (1 row)\n",
    "    return _country[['1960', '2016']]\n",
    "    \n",
    "get_first_and_last_years(china)\n",
    "get_first_and_last_years(usa)\n",
    "get_first_and_last_years(india)\n",
    "\n",
    "# manual confirmation: these values match online WB values (https://data.worldbank.org/indicator/SP.POP.TOTL?year_high_desc=true)"
   ]
  },
  {
   "cell_type": "code",
   "execution_count": null,
   "metadata": {
    "collapsed": true
   },
   "outputs": [],
   "source": []
  },
  {
   "cell_type": "markdown",
   "metadata": {},
   "source": [
    "## Filter countries by "
   ]
  },
  {
   "cell_type": "markdown",
   "metadata": {},
   "source": [
    "# C. GDP data\n",
    "\n",
    "### 1) PICK ONE: GDP (constant 2010 USD)\n"
   ]
  },
  {
   "cell_type": "code",
   "execution_count": 131,
   "metadata": {},
   "outputs": [],
   "source": [
    "# Open files\n",
    "# NY.GDP.PCAP.PP.KD is WDI indicator\n",
    "'''\n",
    "NY = national accounts: income\n",
    "MKTP = market prices\n",
    "PCAP = per capita\n",
    "PP = purchasing power (no PP means not PP)\n",
    "KD = constant (vs CD = current)\n",
    "'''\n",
    "# df_gdp is gdp market constant\n",
    "gdp_mkt_const = pd.read_csv('./gdp/gdp_constant/API_NY.GDP.MKTP.KD_DS2_en_csv_v2.csv', skiprows=3)\n",
    "gdp_meta = pd.read_csv('./gdp/gdp_constant/Metadata_Country_API_NY.GDP.MKTP.KD_DS2_en_csv_v2.csv')"
   ]
  },
  {
   "cell_type": "code",
   "execution_count": 132,
   "metadata": {
    "scrolled": true
   },
   "outputs": [
    {
     "data": {
      "text/plain": [
       "(264, 63)"
      ]
     },
     "execution_count": 132,
     "metadata": {},
     "output_type": "execute_result"
    }
   ],
   "source": [
    "# Get variables (column names)\n",
    "gdp_mkt_const.columns # years 1960-2017\n",
    "gdp_mkt_const.shape"
   ]
  },
  {
   "cell_type": "markdown",
   "metadata": {},
   "source": [
    "### Filter non countries (should return 217 entries) and subset only interested columns"
   ]
  },
  {
   "cell_type": "code",
   "execution_count": 133,
   "metadata": {},
   "outputs": [
    {
     "data": {
      "text/plain": [
       "(217, 59)"
      ]
     },
     "execution_count": 133,
     "metadata": {},
     "output_type": "execute_result"
    }
   ],
   "source": [
    "gdp_country_only = filter_non_countries(gdp_mkt_const, gdp_meta)\n",
    "\n",
    "df_gdp = select_relevant_cols(gdp_country_only)\n",
    "df_gdp.shape # 217, 59"
   ]
  },
  {
   "cell_type": "markdown",
   "metadata": {},
   "source": [
    "### TASK: Get missing years/countries\n"
   ]
  },
  {
   "cell_type": "markdown",
   "metadata": {},
   "source": [
    "### Ideas\n",
    "\n",
    "1. Idea Red\n",
    "    \n",
    "    1) Get a list of countries that has any missing data, including # years missing\n",
    "    \n",
    "    2) Sort by years missing (country with largest missing data first)\n",
    "\n",
    "2. Idea Orange (outcome data need)\n",
    "    1) Check interesting countries\n",
    "        Mexico\n",
    "        Philipines\n",
    "        USA\n",
    "        Ethiopia\n",
    "        Germany/West Germany\n",
    "        Indonesia\n",
    "        Soviet Union/Russia\n",
    "        France\n",
    "        Brazil\n",
    "        Spain....\n",
    "    \n",
    "3. Idea Yellow (population as guage for important countries)\n",
    "    1) Filter by population\n"
   ]
  },
  {
   "cell_type": "code",
   "execution_count": 134,
   "metadata": {},
   "outputs": [
    {
     "data": {
      "text/plain": [
       "(array([  0,   1,   2,   3,   4,   5,   7,   8,   9,  12,  18,  19,  21,\n",
       "         22,  24,  27,  28,  29,  33,  34,  42,  43,  45,  46,  47,  48,\n",
       "         49,  50,  51,  52,  58,  60,  61,  65,  66,  69,  71,  72,  73,\n",
       "         74,  75,  77,  78,  80,  82,  84,  85,  86,  88,  90,  91,  92,\n",
       "         96,  97,  99, 101, 102, 103, 104, 106, 107, 108, 110, 111, 112,\n",
       "        113, 115, 117, 118, 119, 120, 121, 122, 124, 126, 127, 128, 129,\n",
       "        131, 132, 133, 134, 136, 139, 140, 147, 148, 149, 154, 155, 156,\n",
       "        157, 158, 161, 162, 163, 164, 165, 167, 171, 173, 174, 175, 176,\n",
       "        177, 178, 179, 180, 181, 183, 184, 186, 187, 191, 192, 193, 194,\n",
       "        196, 198, 199, 200, 201, 204, 206, 207, 208, 209, 210, 211, 212, 213]),)"
      ]
     },
     "execution_count": 134,
     "metadata": {},
     "output_type": "execute_result"
    }
   ],
   "source": [
    "df_gdp.iloc[1:5]\n",
    "pd.isnull(df_gdp).any(1).nonzero() "
   ]
  },
  {
   "cell_type": "markdown",
   "metadata": {},
   "source": [
    "### TASK: Get list of years missing for a country\n",
    "\n",
    "Super naive EDA\n",
    "\n"
   ]
  },
  {
   "cell_type": "code",
   "execution_count": 135,
   "metadata": {
    "scrolled": true
   },
   "outputs": [
    {
     "name": "stdout",
     "output_type": "stream",
     "text": [
      "[0, 1, 2, 3, 5, 6, 7, 8, 10, 11, 13, 14, 15, 16, 17, 19, 20, 21, 22, 24, 25, 26, 27, 28, 29, 30, 31, 32, 33, 34, 35, 36, 37, 40, 41, 42, 43, 44, 47, 49, 56, 57]\n"
     ]
    }
   ],
   "source": [
    "# Count nan\n",
    "print(sorted(df_gdp.isnull().sum(axis=1).unique().tolist()))"
   ]
  },
  {
   "cell_type": "markdown",
   "metadata": {},
   "source": [
    "#### Number of missing years range from 0 to 57.. T.T\n",
    "\n",
    "There are 17 unique values"
   ]
  },
  {
   "cell_type": "code",
   "execution_count": 174,
   "metadata": {},
   "outputs": [
    {
     "data": {
      "text/html": [
       "<div>\n",
       "<style>\n",
       "    .dataframe thead tr:only-child th {\n",
       "        text-align: right;\n",
       "    }\n",
       "\n",
       "    .dataframe thead th {\n",
       "        text-align: left;\n",
       "    }\n",
       "\n",
       "    .dataframe tbody tr th {\n",
       "        vertical-align: top;\n",
       "    }\n",
       "</style>\n",
       "<table border=\"1\" class=\"dataframe\">\n",
       "  <thead>\n",
       "    <tr style=\"text-align: right;\">\n",
       "      <th></th>\n",
       "      <th>Country Name</th>\n",
       "      <th>Country Code</th>\n",
       "      <th>1960</th>\n",
       "      <th>1961</th>\n",
       "      <th>1962</th>\n",
       "      <th>1963</th>\n",
       "      <th>1964</th>\n",
       "      <th>1965</th>\n",
       "      <th>1966</th>\n",
       "      <th>1967</th>\n",
       "      <th>...</th>\n",
       "      <th>2007</th>\n",
       "      <th>2008</th>\n",
       "      <th>2009</th>\n",
       "      <th>2010</th>\n",
       "      <th>2011</th>\n",
       "      <th>2012</th>\n",
       "      <th>2013</th>\n",
       "      <th>2014</th>\n",
       "      <th>2015</th>\n",
       "      <th>2016</th>\n",
       "    </tr>\n",
       "  </thead>\n",
       "  <tbody>\n",
       "    <tr>\n",
       "      <th>0</th>\n",
       "      <td>Aruba</td>\n",
       "      <td>ABW</td>\n",
       "      <td>54211.0</td>\n",
       "      <td>55438.0</td>\n",
       "      <td>56225.0</td>\n",
       "      <td>56695.0</td>\n",
       "      <td>57032.0</td>\n",
       "      <td>57360.0</td>\n",
       "      <td>57715.0</td>\n",
       "      <td>58055.0</td>\n",
       "      <td>...</td>\n",
       "      <td>101220.0</td>\n",
       "      <td>101353.0</td>\n",
       "      <td>101453.0</td>\n",
       "      <td>101669.0</td>\n",
       "      <td>102053.0</td>\n",
       "      <td>102577.0</td>\n",
       "      <td>103187.0</td>\n",
       "      <td>103795.0</td>\n",
       "      <td>104341.0</td>\n",
       "      <td>104822.0</td>\n",
       "    </tr>\n",
       "  </tbody>\n",
       "</table>\n",
       "<p>1 rows × 59 columns</p>\n",
       "</div>"
      ],
      "text/plain": [
       "  Country Name Country Code     1960     1961     1962     1963     1964  \\\n",
       "0        Aruba          ABW  54211.0  55438.0  56225.0  56695.0  57032.0   \n",
       "\n",
       "      1965     1966     1967    ...         2007      2008      2009  \\\n",
       "0  57360.0  57715.0  58055.0    ...     101220.0  101353.0  101453.0   \n",
       "\n",
       "       2010      2011      2012      2013      2014      2015      2016  \n",
       "0  101669.0  102053.0  102577.0  103187.0  103795.0  104341.0  104822.0  \n",
       "\n",
       "[1 rows x 59 columns]"
      ]
     },
     "execution_count": 174,
     "metadata": {},
     "output_type": "execute_result"
    }
   ],
   "source": [
    "get_missing_years('Aruba')"
   ]
  },
  {
   "cell_type": "code",
   "execution_count": 172,
   "metadata": {
    "scrolled": true
   },
   "outputs": [],
   "source": [
    "list_of_countries = [x for x in df_gdp['Country Name'].values]\n",
    "num_countries = len(list_of_countries) # 217\n",
    "\n",
    "get_missing_years('Aruba')\n",
    "\n",
    "countries = [{'name': list_of_countries[i], \n",
    "              'num_missing': num_nan_per_country[i],\n",
    "              'years_missing': []} for i in range(0, num_countries)]\n",
    "# countries\n",
    "\n",
    "# def sort_by_missing_years(dd_gdp):\n",
    "#     for "
   ]
  },
  {
   "cell_type": "code",
   "execution_count": 160,
   "metadata": {},
   "outputs": [],
   "source": [
    "# df_gdp_yrs = df_gdp.loc[:, '1960':'2016']\n",
    "\n",
    "# df_gdp_yrs\n",
    "\n",
    "# #df_gdp_yrs.apply(lambda s: s.value_counts(), axis=0)\n",
    "\n",
    "\n",
    "# df.sum(axis=0)\n",
    "# #print(len(df_1960_2017.isnull().sum(axis=1).tolist())) # 264 = # countries\n"
   ]
  },
  {
   "cell_type": "code",
   "execution_count": 137,
   "metadata": {},
   "outputs": [
    {
     "data": {
      "text/plain": [
       "False"
      ]
     },
     "execution_count": 137,
     "metadata": {},
     "output_type": "execute_result"
    }
   ],
   "source": [
    "# Write a function that counts values for each column\n",
    "# Purpose: to count how many NA values are there in each row\n",
    "df['1960'].value_counts()\n",
    "type(df.iloc[0]['1960']) # numpy.float64\n",
    "\n",
    "\n",
    "# single value check\n",
    "np.isnan(df.iloc[0]['1960']) # True \n",
    "\n",
    "\n",
    "\n",
    "# find the countries that have nan values in 1989 and prior years, \n",
    "# but don't have \n"
   ]
  },
  {
   "cell_type": "markdown",
   "metadata": {},
   "source": [
    "### Fetching data via API\n",
    "\n",
    "This approach is abandoned because json data is harder to manipulate for this analysis.\n",
    "Pandas rocks."
   ]
  },
  {
   "cell_type": "code",
   "execution_count": 138,
   "metadata": {
    "collapsed": true
   },
   "outputs": [],
   "source": [
    "#r = requests.get('http://api.worldbank.org/v2/countries/all/indicators/SP.POP.TOTL?format=json', auth=('user', 'pass'))"
   ]
  },
  {
   "cell_type": "code",
   "execution_count": 139,
   "metadata": {
    "collapsed": true
   },
   "outputs": [],
   "source": [
    "#r.headers['Content-Type'] # 'application/json;charset=utf-8'\n",
    "#r.json()"
   ]
  }
 ],
 "metadata": {
  "kernelspec": {
   "display_name": "Python 3",
   "language": "python",
   "name": "python3"
  },
  "language_info": {
   "codemirror_mode": {
    "name": "ipython",
    "version": 3
   },
   "file_extension": ".py",
   "mimetype": "text/x-python",
   "name": "python",
   "nbconvert_exporter": "python",
   "pygments_lexer": "ipython3",
   "version": "3.6.3"
  }
 },
 "nbformat": 4,
 "nbformat_minor": 2
}
