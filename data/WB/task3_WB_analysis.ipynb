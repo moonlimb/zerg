{
 "cells": [
  {
   "cell_type": "code",
   "execution_count": 331,
   "metadata": {
    "collapsed": true
   },
   "outputs": [],
   "source": [
    "import os\n",
    "from collections import OrderedDict\n",
    "\n",
    "import numpy as np\n",
    "import pandas as pd\n",
    "import requests\n",
    "import seaborn as sns\n",
    "import xarray as xr\n",
    "\n",
    "% matplotlib inline"
   ]
  },
  {
   "cell_type": "markdown",
   "metadata": {},
   "source": [
    "### WB Data Analysis\n",
    "\n",
    "**<span style=\"color:red; background:yellow;\"></span>**\n",
    "\n",
    "**Data & Scope:** downloaded on (date/time)\n",
    "Two types of datasets:\n",
    "\n",
    "1) Population (easy)\n",
    "* years 1960-2016\n",
    "* definition: total # residents (Regardless of citizenship/legal status)\n",
    "* sources: (mid-year value)\n",
    "\n",
    "    1) United Nations Population Division. World Population Prospects\n",
    "    \n",
    "    2) Census reports and other statistical publications from national statistical offices\n",
    "    \n",
    "    3) Eurostat: Demographic Statistics\n",
    "    \n",
    "    4) United Nations Statistical Division. Population and Vita\n",
    "\n",
    "2) GDP (slightly more tricky)\n",
    "- years: 1960 - 2016\n",
    "- four types of `gdp per capita` I looked at:\n",
    "\n",
    "    * current\n",
    "    * constant\n",
    "    * PPP current\n",
    "    * PPP constant\n",
    "\n",
    "**Source:** World Bank\n",
    "\n",
    "**Assumptions/Expectations**\n",
    "-\n",
    "\n",
    "**Analysis Goals**\n",
    "- Task 3 Deliverable: ADM0 population & real income estimates from `1950-2017`  **<span style=\"color:gray; background:lime;\">DONE</span>**\n",
    "\n",
    "- Find out which countries are missing data for which years. \n",
    "    Population **<span style=\"color:gray; background:lime;\">DONE</span>**\n",
    "    GDP\n",
    "- Or alternatively, which years are missing certain *countries*\n",
    "\n",
    "Possible convenience functions:\n",
    "* Find years missing for a given country (to check important countries)\n",
    "* Create filter for population > 10 mil: look at countries exit/enter data on which years. (Mike's suggesiton)\n",
    "* From metadata, get a list of country code that are not *countries* to filter them from the list **<span style=\"color:gray; background:lime;\">DONE</span>**\n",
    "\n",
    "\n",
    "**Conclusion**\n",
    "1. Population. Population data exists from **1960 to 2016.**\n",
    "    \n",
    "```  \n",
    "Countries out of 217 that are missing population data (nan):\n",
    "\n",
    "West Bank and Gaza: 1960 - 1989\n",
    "Serbia: 1960 - 1989\n",
    "Sint Maarten (Dutch part): 1960 -1998\n",
    "Kuwait: 1992-1994\n",
    "Eritrea: 2012-2016\n",
    "\n",
    "```\n",
    "\n",
    "2. GDP **<span style=\"color:gray; background:yellow;\">In Progress</span>**\n",
    "\n",
    "```\n",
    "a. GDP per capita PPP (constant)\n",
    "\n",
    "Countries out of 217 that are missing gdp data\n",
    "\n",
    "\n",
    "b. GDP per capita PPP (current)\n",
    "\n",
    "\n",
    "c. GDP per capita (constant)\n",
    "\n",
    "\n",
    "d. GDP per capita (current)\n",
    "```\n",
    "\n",
    "\n",
    "**Questions**\n",
    "1. How are different sources of population data used to result in one final set? (are there any overlaps between 4 sources?) i.e. what is the methodology for compilation?\n",
    "\n",
    "2. How often are population/income data updated?\n",
    "\n"
   ]
  },
  {
   "cell_type": "markdown",
   "metadata": {},
   "source": [
    "# A. Population data\n",
    "\n",
    "Total population (absolute units) - based on national census and extrapolation and interpolation for missing values (based on data from United Nations, other census organizations, Eurostats and WB methodology). Subject to undercounting/biases for both high and low/mid income countries. \n",
    "\n",
    "Interpolation and extrapolation done by World Bank/UN (??-confirm the responsible party) for certain years/countries that are missing census data, or missing pre/post census information for given time frame. Uses demographic models, etc. "
   ]
  },
  {
   "cell_type": "code",
   "execution_count": 332,
   "metadata": {},
   "outputs": [
    {
     "data": {
      "text/plain": [
       "Index(['Country Name', 'Country Code', 'Indicator Name', 'Indicator Code',\n",
       "       '1960', '1961', '1962', '1963', '1964', '1965', '1966', '1967', '1968',\n",
       "       '1969', '1970', '1971', '1972', '1973', '1974', '1975', '1976', '1977',\n",
       "       '1978', '1979', '1980', '1981', '1982', '1983', '1984', '1985', '1986',\n",
       "       '1987', '1988', '1989', '1990', '1991', '1992', '1993', '1994', '1995',\n",
       "       '1996', '1997', '1998', '1999', '2000', '2001', '2002', '2003', '2004',\n",
       "       '2005', '2006', '2007', '2008', '2009', '2010', '2011', '2012', '2013',\n",
       "       '2014', '2015', '2016', '2017'],\n",
       "      dtype='object')"
      ]
     },
     "execution_count": 332,
     "metadata": {},
     "output_type": "execute_result"
    }
   ],
   "source": [
    "df2 = pd.read_csv('population/API_SP.POP.TOTL_DS2_en_csv_v2.csv', skiprows=3)\n",
    "del df2['Unnamed: 62'] # remove extraneous data\n",
    "df2.columns\n"
   ]
  },
  {
   "cell_type": "code",
   "execution_count": 333,
   "metadata": {},
   "outputs": [
    {
     "data": {
      "text/plain": [
       "array([ nan])"
      ]
     },
     "execution_count": 333,
     "metadata": {},
     "output_type": "execute_result"
    }
   ],
   "source": [
    "df2\n",
    "df2['2017'].unique() # nan -> all 2017 values nan"
   ]
  },
  {
   "cell_type": "code",
   "execution_count": 334,
   "metadata": {
    "scrolled": true
   },
   "outputs": [
    {
     "data": {
      "text/plain": [
       "(264, 59)"
      ]
     },
     "execution_count": 334,
     "metadata": {},
     "output_type": "execute_result"
    }
   ],
   "source": [
    "cols = ['Country Name'] + ['Country Code'] + [str(yr) for yr in range(1960, 2017)]\n",
    "#print (cols)\n",
    "df_pop = df2[cols]\n",
    "df_pop # includes Country Name and all years (1960-2016)\n",
    "df_pop.shape # 264 countries???, 58 columns "
   ]
  },
  {
   "cell_type": "code",
   "execution_count": 335,
   "metadata": {},
   "outputs": [
    {
     "data": {
      "text/plain": [
       "array([ 67, 108, 125, 194, 212, 223])"
      ]
     },
     "execution_count": 335,
     "metadata": {},
     "output_type": "execute_result"
    }
   ],
   "source": [
    "df_pop.head(5)   # Show top 5 rows\n",
    "df_pop.isnull().sum()\n",
    "# note that nan values per year changes from 1-4, 1989 and prior are all 4,\n",
    "# after that there is a shifts six times:\n",
    "# 4 (60-89) -> 2 (90-91)-> 3 (92-94) -> 2 (95-97) -> 1 (98-2011)-> 2 (2012-2016)-> 264 (2017)\n",
    "\n",
    "# Compare two years (diff countries)\n",
    "\n",
    "df_pop['1989'].isnull()\n",
    "pd.isnull(df_pop).any(1).nonzero()[0]"
   ]
  },
  {
   "cell_type": "code",
   "execution_count": 336,
   "metadata": {},
   "outputs": [
    {
     "data": {
      "text/plain": [
       "2"
      ]
     },
     "execution_count": 336,
     "metadata": {},
     "output_type": "execute_result"
    }
   ],
   "source": [
    "df_pop.iloc[67] # Eritrea missing 2012-2016\n",
    "df_pop.iloc[108] # Not classified missing all # what is this....?\n",
    "df_pop.iloc[194] # West Bank and Gaza missing 1960 - 1989\n",
    "df_pop.iloc[212] # Serbia missing 1960 - 1989\n",
    "df_pop.iloc[223] # Sint Maarten (Dutch part) 1960 -1998\n",
    "df_pop.iloc[125] # Kuwait missing 1992-1994\n",
    "\n",
    "# doing this manual painful way for now\n",
    "df_pop['1960'].isnull().sum() # 4 \n",
    "df_pop['1990'].isnull().sum() # expect 2 (excluding West Bank/Serbia)\n",
    "df_pop['1993'].isnull().sum() # expect 3 (Kuwait missing too)\n",
    "df_pop['1995'].isnull().sum() # expect 2 (Kuwait back again)\n",
    "df_pop['1999'].isnull().sum() # expect 1 Sint Maarten back\n",
    "df_pop['2012'].isnull().sum() # expect 2 (Eritrea goes missing)\n",
    "df_pop['2016'].isnull().sum() # expect 2\n",
    "\n",
    "# drop unclassified country since it's contributing 0 population \n",
    "#df_pop.drop(df_pop.index[108])\n",
    "\n",
    "#print(df_pop['Country Name'].tolist())"
   ]
  },
  {
   "cell_type": "markdown",
   "metadata": {},
   "source": [
    "# B. Meta data (Filter non-countries)\n",
    "\n",
    "Both population and income dataset includes list of countries (217) plus various classifications as entry data. These include:\n",
    "\n",
    "Task:\n",
    "\n",
    "- get a list of country codes for *non-countries* from metadata\n",
    "- use that list to filter those country codes from income or population data\n",
    "\n"
   ]
  },
  {
   "cell_type": "code",
   "execution_count": 337,
   "metadata": {
    "scrolled": true
   },
   "outputs": [
    {
     "name": "stdout",
     "output_type": "stream",
     "text": [
      "['Latin America & Caribbean' 'South Asia' 'Sub-Saharan Africa'\n",
      " 'Europe & Central Asia' nan 'Middle East & North Africa'\n",
      " 'East Asia & Pacific' 'North America']\n"
     ]
    },
    {
     "data": {
      "text/plain": [
       "False    217\n",
       "True      46\n",
       "Name: IncomeGroup, dtype: int64"
      ]
     },
     "execution_count": 337,
     "metadata": {},
     "output_type": "execute_result"
    }
   ],
   "source": [
    "os.listdir(\"./population/\")\n",
    "\n",
    "# 263 - 46 # total # 217 countries\n",
    "\n",
    "meta_country = pd.read_csv('./population/Metadata_Country_API_SP.POP.TOTL_DS2_en_csv_v2.csv')\n",
    "#print(meta_country['Region'].nunique()) #7 excluding nan\n",
    "print(meta_country['Region'].unique())  \n",
    "'''['Latin America & Caribbean' \n",
    " 'South Asia' \n",
    " 'Sub-Saharan Africa'\n",
    " 'Europe & Central Asia' /// nan \n",
    " 'Middle East & North Africa'\n",
    " 'East Asia & Pacific' \n",
    " 'North America']\n",
    "\n",
    "'''\n",
    "\n",
    "#print(meta_country['IncomeGroup'].nunique()) #4\n",
    "meta_country['IncomeGroup'].unique() \n",
    "'''['High income', 'Low income', 'Lower middle income', 'Upper middle income', nan]'''\n",
    "\n",
    "meta_country['Country Code'].nunique() # 263 entries \n",
    "meta_country['IncomeGroup'].isnull().value_counts() # 217 False (countries) # 46 nan\n",
    "# False values are countries -- i.e. all countries belong to an IncomeGroup\n",
    "# Validation: we know from (World Bank 2017) that total of 217 countries were included\n"
   ]
  },
  {
   "cell_type": "code",
   "execution_count": 358,
   "metadata": {},
   "outputs": [
    {
     "data": {
      "text/html": [
       "<div>\n",
       "<style>\n",
       "    .dataframe thead tr:only-child th {\n",
       "        text-align: right;\n",
       "    }\n",
       "\n",
       "    .dataframe thead th {\n",
       "        text-align: left;\n",
       "    }\n",
       "\n",
       "    .dataframe tbody tr th {\n",
       "        vertical-align: top;\n",
       "    }\n",
       "</style>\n",
       "<table border=\"1\" class=\"dataframe\">\n",
       "  <thead>\n",
       "    <tr style=\"text-align: right;\">\n",
       "      <th></th>\n",
       "      <th>Country Name</th>\n",
       "      <th>Country Code</th>\n",
       "      <th>1960</th>\n",
       "      <th>1961</th>\n",
       "      <th>1962</th>\n",
       "      <th>1963</th>\n",
       "      <th>1964</th>\n",
       "      <th>1965</th>\n",
       "      <th>1966</th>\n",
       "      <th>1967</th>\n",
       "      <th>...</th>\n",
       "      <th>2007</th>\n",
       "      <th>2008</th>\n",
       "      <th>2009</th>\n",
       "      <th>2010</th>\n",
       "      <th>2011</th>\n",
       "      <th>2012</th>\n",
       "      <th>2013</th>\n",
       "      <th>2014</th>\n",
       "      <th>2015</th>\n",
       "      <th>2016</th>\n",
       "    </tr>\n",
       "  </thead>\n",
       "  <tbody>\n",
       "    <tr>\n",
       "      <th>244</th>\n",
       "      <td>Uganda</td>\n",
       "      <td>UGA</td>\n",
       "      <td>6788214.0</td>\n",
       "      <td>7006633.0</td>\n",
       "      <td>7240174.0</td>\n",
       "      <td>7487429.0</td>\n",
       "      <td>7746198.0</td>\n",
       "      <td>8014401.0</td>\n",
       "      <td>8292776.0</td>\n",
       "      <td>8580676.0</td>\n",
       "      <td>...</td>\n",
       "      <td>30590487.0</td>\n",
       "      <td>31663896.0</td>\n",
       "      <td>32771895.0</td>\n",
       "      <td>33915133.0</td>\n",
       "      <td>35093648.0</td>\n",
       "      <td>36306796.0</td>\n",
       "      <td>37553726.0</td>\n",
       "      <td>38833338.0</td>\n",
       "      <td>40144870.0</td>\n",
       "      <td>41487965.0</td>\n",
       "    </tr>\n",
       "    <tr>\n",
       "      <th>245</th>\n",
       "      <td>Ukraine</td>\n",
       "      <td>UKR</td>\n",
       "      <td>42662149.0</td>\n",
       "      <td>43203635.0</td>\n",
       "      <td>43749470.0</td>\n",
       "      <td>44285899.0</td>\n",
       "      <td>44794327.0</td>\n",
       "      <td>45261935.0</td>\n",
       "      <td>45682308.0</td>\n",
       "      <td>46060452.0</td>\n",
       "      <td>...</td>\n",
       "      <td>46509350.0</td>\n",
       "      <td>46258200.0</td>\n",
       "      <td>46053300.0</td>\n",
       "      <td>45870700.0</td>\n",
       "      <td>45706100.0</td>\n",
       "      <td>45593300.0</td>\n",
       "      <td>45489600.0</td>\n",
       "      <td>45271947.0</td>\n",
       "      <td>45154029.0</td>\n",
       "      <td>45004645.0</td>\n",
       "    </tr>\n",
       "    <tr>\n",
       "      <th>247</th>\n",
       "      <td>Uruguay</td>\n",
       "      <td>URY</td>\n",
       "      <td>2538651.0</td>\n",
       "      <td>2571690.0</td>\n",
       "      <td>2603887.0</td>\n",
       "      <td>2635129.0</td>\n",
       "      <td>2665390.0</td>\n",
       "      <td>2694537.0</td>\n",
       "      <td>2722877.0</td>\n",
       "      <td>2750093.0</td>\n",
       "      <td>...</td>\n",
       "      <td>3339741.0</td>\n",
       "      <td>3350824.0</td>\n",
       "      <td>3362755.0</td>\n",
       "      <td>3374415.0</td>\n",
       "      <td>3385624.0</td>\n",
       "      <td>3396777.0</td>\n",
       "      <td>3408005.0</td>\n",
       "      <td>3419546.0</td>\n",
       "      <td>3431552.0</td>\n",
       "      <td>3444006.0</td>\n",
       "    </tr>\n",
       "    <tr>\n",
       "      <th>248</th>\n",
       "      <td>United States</td>\n",
       "      <td>USA</td>\n",
       "      <td>180671000.0</td>\n",
       "      <td>183691000.0</td>\n",
       "      <td>186538000.0</td>\n",
       "      <td>189242000.0</td>\n",
       "      <td>191889000.0</td>\n",
       "      <td>194303000.0</td>\n",
       "      <td>196560000.0</td>\n",
       "      <td>198712000.0</td>\n",
       "      <td>...</td>\n",
       "      <td>301231207.0</td>\n",
       "      <td>304093966.0</td>\n",
       "      <td>306771529.0</td>\n",
       "      <td>309348193.0</td>\n",
       "      <td>311663358.0</td>\n",
       "      <td>313998379.0</td>\n",
       "      <td>316204908.0</td>\n",
       "      <td>318563456.0</td>\n",
       "      <td>320896618.0</td>\n",
       "      <td>323127513.0</td>\n",
       "    </tr>\n",
       "    <tr>\n",
       "      <th>249</th>\n",
       "      <td>Uzbekistan</td>\n",
       "      <td>UZB</td>\n",
       "      <td>8549493.0</td>\n",
       "      <td>8837349.0</td>\n",
       "      <td>9138097.0</td>\n",
       "      <td>9454250.0</td>\n",
       "      <td>9788986.0</td>\n",
       "      <td>10143740.0</td>\n",
       "      <td>10520879.0</td>\n",
       "      <td>10917446.0</td>\n",
       "      <td>...</td>\n",
       "      <td>26868000.0</td>\n",
       "      <td>27302800.0</td>\n",
       "      <td>27767400.0</td>\n",
       "      <td>28562400.0</td>\n",
       "      <td>29339400.0</td>\n",
       "      <td>29774500.0</td>\n",
       "      <td>30243200.0</td>\n",
       "      <td>30757700.0</td>\n",
       "      <td>31298900.0</td>\n",
       "      <td>31848200.0</td>\n",
       "    </tr>\n",
       "  </tbody>\n",
       "</table>\n",
       "<p>5 rows × 59 columns</p>\n",
       "</div>"
      ],
      "text/plain": [
       "      Country Name Country Code         1960         1961         1962  \\\n",
       "244         Uganda          UGA    6788214.0    7006633.0    7240174.0   \n",
       "245        Ukraine          UKR   42662149.0   43203635.0   43749470.0   \n",
       "247        Uruguay          URY    2538651.0    2571690.0    2603887.0   \n",
       "248  United States          USA  180671000.0  183691000.0  186538000.0   \n",
       "249     Uzbekistan          UZB    8549493.0    8837349.0    9138097.0   \n",
       "\n",
       "            1963         1964         1965         1966         1967  \\\n",
       "244    7487429.0    7746198.0    8014401.0    8292776.0    8580676.0   \n",
       "245   44285899.0   44794327.0   45261935.0   45682308.0   46060452.0   \n",
       "247    2635129.0    2665390.0    2694537.0    2722877.0    2750093.0   \n",
       "248  189242000.0  191889000.0  194303000.0  196560000.0  198712000.0   \n",
       "249    9454250.0    9788986.0   10143740.0   10520879.0   10917446.0   \n",
       "\n",
       "        ...              2007         2008         2009         2010  \\\n",
       "244     ...        30590487.0   31663896.0   32771895.0   33915133.0   \n",
       "245     ...        46509350.0   46258200.0   46053300.0   45870700.0   \n",
       "247     ...         3339741.0    3350824.0    3362755.0    3374415.0   \n",
       "248     ...       301231207.0  304093966.0  306771529.0  309348193.0   \n",
       "249     ...        26868000.0   27302800.0   27767400.0   28562400.0   \n",
       "\n",
       "            2011         2012         2013         2014         2015  \\\n",
       "244   35093648.0   36306796.0   37553726.0   38833338.0   40144870.0   \n",
       "245   45706100.0   45593300.0   45489600.0   45271947.0   45154029.0   \n",
       "247    3385624.0    3396777.0    3408005.0    3419546.0    3431552.0   \n",
       "248  311663358.0  313998379.0  316204908.0  318563456.0  320896618.0   \n",
       "249   29339400.0   29774500.0   30243200.0   30757700.0   31298900.0   \n",
       "\n",
       "            2016  \n",
       "244   41487965.0  \n",
       "245   45004645.0  \n",
       "247    3444006.0  \n",
       "248  323127513.0  \n",
       "249   31848200.0  \n",
       "\n",
       "[5 rows x 59 columns]"
      ]
     },
     "execution_count": 358,
     "metadata": {},
     "output_type": "execute_result"
    }
   ],
   "source": [
    "def filter_non_countries(_df, _metadata):\n",
    "    '''\n",
    "    _df : pd.DataFrame\n",
    "        either income or population data\n",
    "        \n",
    "    _metadata : pd.DataFrame\n",
    "        metadata on a list of entries including countries and non-countries \n",
    "        data source is from the World Bank\n",
    "        has IncomeGroup column that is not null for countries (217)\n",
    "    \n",
    "    '''\n",
    "    merged = _df.merge(_metadata, on='Country Code')\n",
    "    \n",
    "    non_country_mask = merged['IncomeGroup'].isnull()\n",
    "    merged_country_only = merged[~non_country_mask]\n",
    "    return merged_country_only\n",
    "\n",
    "def select_relevant_cols(_df):\n",
    "    _cols = ['Country Name'] + ['Country Code'] + [str(yr) for yr in range(1960, 2017)]\n",
    "    return merged_country_only[_cols]\n",
    "\n",
    "df_country_only = filter_non_countries(df2, meta_country)\n",
    "select_relevant_cols(df_country_only)[200:205]"
   ]
  },
  {
   "cell_type": "markdown",
   "metadata": {},
   "source": [
    "##  Playing around with data"
   ]
  },
  {
   "cell_type": "markdown",
   "metadata": {},
   "source": [
    "### Getting data for country"
   ]
  },
  {
   "cell_type": "code",
   "execution_count": 339,
   "metadata": {},
   "outputs": [
    {
     "data": {
      "text/html": [
       "<div>\n",
       "<style>\n",
       "    .dataframe thead tr:only-child th {\n",
       "        text-align: right;\n",
       "    }\n",
       "\n",
       "    .dataframe thead th {\n",
       "        text-align: left;\n",
       "    }\n",
       "\n",
       "    .dataframe tbody tr th {\n",
       "        vertical-align: top;\n",
       "    }\n",
       "</style>\n",
       "<table border=\"1\" class=\"dataframe\">\n",
       "  <thead>\n",
       "    <tr style=\"text-align: right;\">\n",
       "      <th></th>\n",
       "      <th>1960</th>\n",
       "      <th>2016</th>\n",
       "    </tr>\n",
       "  </thead>\n",
       "  <tbody>\n",
       "    <tr>\n",
       "      <th>107</th>\n",
       "      <td>449480608.0</td>\n",
       "      <td>1.324171e+09</td>\n",
       "    </tr>\n",
       "  </tbody>\n",
       "</table>\n",
       "</div>"
      ],
      "text/plain": [
       "            1960          2016\n",
       "107  449480608.0  1.324171e+09"
      ]
     },
     "execution_count": 339,
     "metadata": {},
     "output_type": "execute_result"
    }
   ],
   "source": [
    "# Returns all values of the 'Country Name' column as an array\n",
    "#df2['Country Name'].values #lists all countries\n",
    "# United States\n",
    "# China\n",
    "# India\n",
    "\n",
    "china = get_row_by_country_name(df2, 'China')\n",
    "india = get_row_by_country_name(df2, 'India')\n",
    "usa = get_row_by_country_name(df2, 'United States')\n",
    "\n",
    "def get_first_and_last_years(_country):\n",
    "    # _country is a dataframe (1 row)\n",
    "    return _country[['1960', '2016']]\n",
    "    \n",
    "    \n",
    "get_first_and_last_years(china)\n",
    "get_first_and_last_years(usa)\n",
    "get_first_and_last_years(india)\n",
    "\n",
    "# manual confirmation: these values match online WB values (https://data.worldbank.org/indicator/SP.POP.TOTL?year_high_desc=true)"
   ]
  },
  {
   "cell_type": "markdown",
   "metadata": {},
   "source": [
    "# C. GDP data\n",
    "\n",
    "### GDP per capita PPP (constant at 2011 `$`)"
   ]
  },
  {
   "cell_type": "code",
   "execution_count": 359,
   "metadata": {
    "collapsed": true
   },
   "outputs": [],
   "source": [
    "# Open file\n",
    "# NY.GDP.PCAP.PP.KD is WDI indicator\n",
    "'''\n",
    "PCAP = per capita\n",
    "PP = purchasing power (no PP means not PP)\n",
    "KD = constant (vs CD = current)\n",
    "'''\n",
    "df = pd.read_csv('./gdp/gdp_pcap_ppp_constant/API_NY.GDP.PCAP.PP.KD_DS2_en_csv_v2.csv', skiprows=3)"
   ]
  },
  {
   "cell_type": "code",
   "execution_count": 360,
   "metadata": {},
   "outputs": [
    {
     "data": {
      "text/plain": [
       "Index(['Country Name', 'Country Code', 'Indicator Name', 'Indicator Code',\n",
       "       '1960', '1961', '1962', '1963', '1964', '1965', '1966', '1967', '1968',\n",
       "       '1969', '1970', '1971', '1972', '1973', '1974', '1975', '1976', '1977',\n",
       "       '1978', '1979', '1980', '1981', '1982', '1983', '1984', '1985', '1986',\n",
       "       '1987', '1988', '1989', '1990', '1991', '1992', '1993', '1994', '1995',\n",
       "       '1996', '1997', '1998', '1999', '2000', '2001', '2002', '2003', '2004',\n",
       "       '2005', '2006', '2007', '2008', '2009', '2010', '2011', '2012', '2013',\n",
       "       '2014', '2015', '2016', '2017', 'Unnamed: 62'],\n",
       "      dtype='object')"
      ]
     },
     "execution_count": 360,
     "metadata": {},
     "output_type": "execute_result"
    }
   ],
   "source": [
    "# Get variables (column names)\n",
    "len(df.columns) # 63 variables\n",
    "\n",
    "df.columns # years 1960-2017\n",
    "\n",
    "#len(df['Country Name']) # 264 entries (217 are countries and 46 other representations)\n",
    "\n"
   ]
  },
  {
   "cell_type": "markdown",
   "metadata": {},
   "source": [
    "#### Filter non countries using metadata for gdp (use filter function above)"
   ]
  },
  {
   "cell_type": "code",
   "execution_count": 361,
   "metadata": {
    "collapsed": true
   },
   "outputs": [],
   "source": [
    "gdp_meta = pd.read_csv('./gdp/gdp_pcap_constant/Metadata_Country_API_NY.GDP.PCAP.KD_DS2_en_csv_v2.csv')"
   ]
  },
  {
   "cell_type": "code",
   "execution_count": 368,
   "metadata": {},
   "outputs": [
    {
     "data": {
      "text/plain": [
       "(217, 59)"
      ]
     },
     "execution_count": 368,
     "metadata": {},
     "output_type": "execute_result"
    }
   ],
   "source": [
    "df_gdp_country_only = filter_non_countries(df, gdp_meta)\n",
    "df_gdp = select_relevant_cols(df_gdp_country_only)\n",
    "df_gdp.shape # 217, 59"
   ]
  },
  {
   "cell_type": "markdown",
   "metadata": {},
   "source": [
    "### Get list of years missing for a country\n",
    "\n"
   ]
  },
  {
   "cell_type": "code",
   "execution_count": 342,
   "metadata": {},
   "outputs": [
    {
     "data": {
      "text/plain": [
       "[32, 33, 34, 35, 36, 37, 38, 39, 42, 43, 44, 46, 49, 51, 58, 59]"
      ]
     },
     "execution_count": 342,
     "metadata": {},
     "output_type": "execute_result"
    }
   ],
   "source": [
    "# Series.value_counts() -> get unique counts of values\n",
    "\n",
    "# Count nan\n",
    "sorted(df.isnull().sum(axis=1).unique().tolist()) # 17 unique values\n",
    "# Why do some countries have randomly missing years? (source of inconsistency?)"
   ]
  },
  {
   "cell_type": "code",
   "execution_count": 343,
   "metadata": {},
   "outputs": [
    {
     "name": "stdout",
     "output_type": "stream",
     "text": [
      "[57, 43, 31, 31, 58, 31, 31, 31, 31, 58, 31, 31, 31, 31, 31, 31, 31, 31, 31, 31, 32, 31, 35, 31, 31, 34, 31, 31, 31, 31, 31, 31, 31, 31, 31, 31, 58, 31, 31, 31, 31, 31, 31, 31, 31, 31, 31, 31, 58, 58, 57, 31, 31, 31, 32, 31, 31, 31, 31, 31, 31, 31, 31, 31, 31, 31, 31, 38, 31, 36, 31, 31, 31, 31, 31, 31, 58, 31, 31, 31, 31, 31, 58, 31, 31, 31, 31, 31, 31, 58, 31, 58, 31, 31, 31, 31, 31, 36, 37, 32, 31, 31, 31, 31, 31, 31, 58, 31, 58, 31, 32, 31, 31, 31, 31, 31, 31, 31, 31, 31, 31, 34, 31, 31, 31, 37, 31, 31, 31, 31, 45, 31, 31, 31, 31, 58, 31, 31, 31, 31, 31, 36, 31, 36, 31, 58, 31, 58, 36, 31, 42, 31, 31, 31, 31, 31, 31, 31, 31, 32, 38, 31, 58, 31, 31, 31, 31, 31, 31, 31, 58, 31, 31, 31, 31, 31, 31, 48, 31, 31, 32, 41, 31, 31, 31, 31, 32, 33, 31, 31, 34, 58, 31, 31, 58, 31, 31, 58, 41, 31, 31, 31, 31, 31, 31, 31, 31, 31, 31, 31, 58, 58, 36, 31, 50, 31, 41, 41, 31, 33, 36, 31, 31, 57, 31, 58, 58, 31, 31, 31, 31, 31, 31, 31, 31, 41, 32, 31, 31, 31, 31, 31, 31, 31, 31, 31, 31, 31, 31, 31, 31, 31, 34, 58, 58, 31, 31, 31, 31, 41, 31, 31, 31, 31]\n"
     ]
    }
   ],
   "source": [
    "# Get all rows \n",
    "# Get selected columns (ranging from 1960 to 2017)\n",
    "df_1960_2017 = df.loc[:, '1960':'2017']\n",
    "\n",
    "#df_1960_2017.apply(lambda s: s.value_counts(), axis=0)\n",
    "\n",
    "df_1960_2017.shape # 264, 58 -> 264 countries and 58 years\n",
    "num_years = 2017 - 1960 + 1 # 58\n",
    "#print('num years is {}'.format(num_years))\n",
    "#df_1960_2017.shape[1] # 58 (counts columns) # 1-> colum\n",
    "\n",
    "df_1960_2017.apply(lambda s: s.value_counts(), axis=0)\n",
    "#print(len(df_1960_2017.isnull().sum(axis=1).tolist())) # 264 = # countries\n",
    "\n",
    "# returns list of # nan per country\n",
    "num_nan_per_country = df_1960_2017.isnull().sum(axis=1).tolist()\n",
    "print(df_1960_2017.isnull().sum(axis=1).tolist())\n",
    "\n",
    "list_of_countries = [x for x in df['Country Name'].values]\n",
    "num_countries = len(list_of_countries)\n",
    "\n",
    "# not really useful\n",
    "\n",
    "countries = {list_of_countries[i]: {'num_missing': num_nan_per_country[i]} for i in range(0, num_countries)}\n",
    "#countries"
   ]
  },
  {
   "cell_type": "code",
   "execution_count": 344,
   "metadata": {},
   "outputs": [
    {
     "data": {
      "text/plain": [
       "Country Name                                            Korea, Rep.\n",
       "Country Code                                                    KOR\n",
       "Indicator Name    GDP per capita, PPP (constant 2011 internation...\n",
       "Indicator Code                                    NY.GDP.PCAP.PP.KD\n",
       "1960                                                            NaN\n",
       "1961                                                            NaN\n",
       "1962                                                            NaN\n",
       "1963                                                            NaN\n",
       "1964                                                            NaN\n",
       "1965                                                            NaN\n",
       "1966                                                            NaN\n",
       "1967                                                            NaN\n",
       "1968                                                            NaN\n",
       "1969                                                            NaN\n",
       "1970                                                            NaN\n",
       "1971                                                            NaN\n",
       "1972                                                            NaN\n",
       "1973                                                            NaN\n",
       "1974                                                            NaN\n",
       "1975                                                            NaN\n",
       "1976                                                            NaN\n",
       "1977                                                            NaN\n",
       "1978                                                            NaN\n",
       "1979                                                            NaN\n",
       "1980                                                            NaN\n",
       "1981                                                            NaN\n",
       "1982                                                            NaN\n",
       "1983                                                            NaN\n",
       "1984                                                            NaN\n",
       "1985                                                            NaN\n",
       "                                        ...                        \n",
       "1989                                                            NaN\n",
       "1990                                                        11632.6\n",
       "1991                                                        12710.6\n",
       "1992                                                          13356\n",
       "1993                                                        14126.3\n",
       "1994                                                        15272.3\n",
       "1995                                                        16566.4\n",
       "1996                                                        17655.5\n",
       "1997                                                        18526.6\n",
       "1998                                                          17387\n",
       "1999                                                        19216.1\n",
       "2000                                                        20756.8\n",
       "2001                                                        21530.3\n",
       "2002                                                        22997.2\n",
       "2003                                                        23549.4\n",
       "2004                                                        24605.5\n",
       "2005                                                        25516.8\n",
       "2006                                                          26697\n",
       "2007                                                        28013.7\n",
       "2008                                                        28588.4\n",
       "2009                                                        28642.8\n",
       "2010                                                        30352.1\n",
       "2011                                                        31228.5\n",
       "2012                                                        31776.9\n",
       "2013                                                        32548.7\n",
       "2014                                                        33425.7\n",
       "2015                                                        34177.7\n",
       "2016                                                        34985.8\n",
       "2017                                                            NaN\n",
       "Unnamed: 62                                                     NaN\n",
       "Name: 124, Length: 63, dtype: object"
      ]
     },
     "execution_count": 344,
     "metadata": {},
     "output_type": "execute_result"
    }
   ],
   "source": [
    "def get_missing_years(country_name):\n",
    "    '''\n",
    "    Given a start_year and an end_year, calculate the number of years in \n",
    "    the given range (inclusive at both ends) the country has no\n",
    "    data points (ie. has nan value)\n",
    "    \n",
    "    Parameters\n",
    "    ----------\n",
    "    country_name : Str\n",
    "        name of given country\n",
    "        \n",
    "    Returns \n",
    "    -------\n",
    "    Missing years in default range (1960-2017), where \n",
    "    each year is a string : List\n",
    "    \n",
    "    ex. ['1990',  '2005'']\n",
    "\n",
    "'''\n",
    "    country = df.loc[df['Country Name'] == country_name]\n",
    "    return country\n",
    "\n",
    "# Get countries as dataframe (subset of original) by first letter\n",
    "def get_by_first_letter(df, first_letter):\n",
    "    return df.loc[df['Country Name'].str.startswith(first_letter)]\n",
    "\n",
    "# Get country by name\n",
    "def get_row_by_country_name(_df, country_name):\n",
    "    return _df[_df['Country Name'] == country_name]\n",
    "\n",
    "# Get country row from dataframe by index\n",
    "def get_by_index(df, country_idx):\n",
    "    return df.iloc[country_idx]\n",
    "\n",
    "# Get all countries that start with S\n",
    "s_countries = get_by_first_letter(df, 'S')\n",
    "#s_countries\n",
    "    \n",
    "# Get_by_first_letter(df, 'K') # example South Korea is index 124\n",
    "# get_by_index(df, 124)\n"
   ]
  },
  {
   "cell_type": "code",
   "execution_count": 345,
   "metadata": {},
   "outputs": [
    {
     "data": {
      "text/plain": [
       "Country Name        0\n",
       "Country Code        0\n",
       "Indicator Name      0\n",
       "Indicator Code      0\n",
       "1960              264\n",
       "1961              264\n",
       "1962              264\n",
       "1963              264\n",
       "1964              264\n",
       "1965              264\n",
       "1966              264\n",
       "1967              264\n",
       "1968              264\n",
       "1969              264\n",
       "1970              264\n",
       "1971              264\n",
       "1972              264\n",
       "1973              264\n",
       "1974              264\n",
       "1975              264\n",
       "1976              264\n",
       "1977              264\n",
       "1978              264\n",
       "1979              264\n",
       "1980              264\n",
       "1981              264\n",
       "1982              264\n",
       "1983              264\n",
       "1984              264\n",
       "1985              264\n",
       "                 ... \n",
       "1989              264\n",
       "1990               55\n",
       "1991               53\n",
       "1992               51\n",
       "1993               50\n",
       "1994               49\n",
       "1995               41\n",
       "1996               40\n",
       "1997               39\n",
       "1998               39\n",
       "1999               37\n",
       "2000               32\n",
       "2001               31\n",
       "2002               30\n",
       "2003               30\n",
       "2004               30\n",
       "2005               30\n",
       "2006               30\n",
       "2007               29\n",
       "2008               28\n",
       "2009               28\n",
       "2010               28\n",
       "2011               25\n",
       "2012               30\n",
       "2013               30\n",
       "2014               33\n",
       "2015               34\n",
       "2016               43\n",
       "2017              264\n",
       "Unnamed: 62       264\n",
       "Length: 63, dtype: int64"
      ]
     },
     "execution_count": 345,
     "metadata": {},
     "output_type": "execute_result"
    }
   ],
   "source": [
    "# Write a function that counts values for each column\n",
    "# Purpose: to count how many NA values are there in each row\n",
    "df['1960'].value_counts()\n",
    "type(df.iloc[0]['1960']) # numpy.float64\n",
    "\n",
    "# note: comparison of nan == np.nan does not work (returns False)\n",
    "# need to check np.isnan(val)\n",
    "\n",
    "# single value check\n",
    "np.isnan(df.iloc[0]['1960']) # True \n",
    "\n",
    "# returns total number of nan values for each column (whole df)\n",
    "#df.isnull().sum() \n",
    "\n",
    "# find the countries that have nan values in 1989 and prior years, \n",
    "# but don't have \n"
   ]
  },
  {
   "cell_type": "markdown",
   "metadata": {},
   "source": [
    "### Fetching data via API\n",
    "\n",
    "This approach is abandoned because json data is harder to manipulate for this analysis.\n",
    "Pandas rocks."
   ]
  },
  {
   "cell_type": "code",
   "execution_count": 349,
   "metadata": {
    "collapsed": true
   },
   "outputs": [],
   "source": [
    "#r = requests.get('http://api.worldbank.org/v2/countries/all/indicators/SP.POP.TOTL?format=json', auth=('user', 'pass'))"
   ]
  },
  {
   "cell_type": "code",
   "execution_count": 350,
   "metadata": {
    "collapsed": true
   },
   "outputs": [],
   "source": [
    "#r.headers['Content-Type'] # 'application/json;charset=utf-8'\n",
    "#r.json()"
   ]
  }
 ],
 "metadata": {
  "kernelspec": {
   "display_name": "Python 3",
   "language": "python",
   "name": "python3"
  },
  "language_info": {
   "codemirror_mode": {
    "name": "ipython",
    "version": 3
   },
   "file_extension": ".py",
   "mimetype": "text/x-python",
   "name": "python",
   "nbconvert_exporter": "python",
   "pygments_lexer": "ipython3",
   "version": "3.6.3"
  }
 },
 "nbformat": 4,
 "nbformat_minor": 2
}
