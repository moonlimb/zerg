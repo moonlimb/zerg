{
 "cells": [
  {
   "cell_type": "code",
   "execution_count": 333,
   "metadata": {
    "collapsed": true
   },
   "outputs": [],
   "source": [
    "import os\n",
    "from collections import OrderedDict\n",
    "\n",
    "import numpy as np\n",
    "import pandas as pd\n",
    "import seaborn as sns\n",
    "import xarray as xr\n",
    "\n",
    "% matplotlib inline"
   ]
  },
  {
   "cell_type": "markdown",
   "metadata": {},
   "source": [
    "### WB Data Analysis\n",
    "\n",
    "**<span style=\"color:red; background:yellow;\"></span>**\n",
    "\n",
    "**Data & Scope:** downloaded on (date/time)\n",
    "Two types of datasets:\n",
    "\n",
    "1) Population (easy)\n",
    "* years 1960-2016\n",
    "* definition: total # residents (Regardless of citizenship/legal status)\n",
    "* sources: (mid-year value)\n",
    "\n",
    "    1) United Nations Population Division. World Population Prospects\n",
    "    \n",
    "    2) Census reports and other statistical publications from national statistical offices\n",
    "    \n",
    "    3) Eurostat: Demographic Statistics\n",
    "    \n",
    "    4) United Nations Statistical Division. Population and Vita\n",
    "\n",
    "2) GDP (slightly more tricky)\n",
    "- years: 1960 - 2016\n",
    "- choosing to look at `gdp` (market, constant) first.\n",
    "- Other types that one can look at:\n",
    "    * MKT current\n",
    "    * PPP current\n",
    "    * PPP constant\n",
    "\n",
    "**Source:** World Bank\n",
    "\n",
    "**Assumptions/Expectations**\n",
    "\n",
    "**Analysis Goals**\n",
    "- Task 3 Deliverable: ADM0 population & real income estimates from `1950-2017`  **<span style=\"color:gray; background:lime;\">DONE</span>**\n",
    "\n",
    "- Find out which countries are missing data for which years. \n",
    "    Population **<span style=\"color:gray; background:lime;\">DONE</span>**\n",
    "    GDP\n",
    "- Or alternatively, which years are missing certain *countries*\n",
    "\n",
    "Possible convenience functions:\n",
    "* Find years missing for a given country (to check important countries)\n",
    "* Create filter for population > 10 mil: look at countries exit/enter data on which years. (Mike's suggesiton)\n",
    "* From metadata, get a list of country code that are not *countries* to filter them from the list **<span style=\"color:gray; background:lime;\">DONE</span>**\n",
    "\n",
    "\n",
    "**Conclusion**\n",
    "1. Population. Population data exists from **1960 to 2016.**\n",
    "    \n",
    "```  \n",
    "Countries out of 217 that are missing population data (nan):\n",
    "\n",
    "West Bank and Gaza: 1960 - 1989\n",
    "Serbia: 1960 - 1989\n",
    "Sint Maarten (Dutch part): 1960 -1998\n",
    "Kuwait: 1992-1994\n",
    "Eritrea: 2012-2016\n",
    "\n",
    "```\n",
    "\n",
    "2. GDP \n",
    "\n",
    "```\n",
    "Countries out of 217 that are missing gdp data\n",
    "\n",
    "a. GPP market constant\n",
    "b. GDO PPP constant\n",
    "\n",
    "```\n",
    "\n",
    "\n",
    "**Questions**\n",
    "1. How are different sources of population data used to result in one final set? (are there any overlaps between 4 sources?) i.e. what is the methodology for compilation?\n",
    "\n",
    "2. How often are population/income data updated?\n",
    "\n",
    "\n",
    "**TOC**\n",
    "* A. Methodology for printing missing years\n",
    "\n",
    "* B. Convenience functions for filtering relevant columns and country data only\n",
    "\n",
    "* C. Population Data Analysis\n",
    "\n",
    "* D. Income Data Analysis"
   ]
  },
  {
   "cell_type": "markdown",
   "metadata": {},
   "source": [
    "## A. Methodology for printing missing years for WB datasets\n",
    "\n",
    "#### Do this:\n",
    "\n",
    "0. Download dataframe and metadata\n",
    "\n",
    "1. `filter_non_countries(df, metadata)`\n",
    "\n",
    "2. `select_relevant_cols(df)`\n",
    "\n",
    "3. `list_of_country_idx_with_nans = get_country_idx_with_nans(df)`\n",
    "\n",
    "4.  `print_missing_years_for_all_countries(_df, _list_of_country_idx_with_nans)`\n",
    "\n",
    "#### Detailed Explanation:\n",
    "\n",
    "1) Filter irrelevant (aggregate, not country-specific) data from the dataframe using metadata\n",
    "\n",
    "\n",
    "2) Filter irrelevant (aggregate, not country-specific) data from the dataframe using metadata\n",
    "\n",
    "\n",
    "* Note - running 2/ after 1/ matters for keeping out extra data such as `IncomeGroup`, because 2/ filters out extra columns gained from merging with metadata in 1/ \n",
    "\n",
    "3) Get index (Row) list of countries that have any `nan` data points for existing years range (ex .1960...2016)  \n",
    "* Assumes that `Country Name` and `Country Code` columns don't have missing data\n",
    "\n",
    "4) Print out missing years for each country using the tamed dataframe and index list of countries with nans\n",
    "* calls `print_missing_years_for_country` for each country\n",
    "\n"
   ]
  },
  {
   "cell_type": "markdown",
   "metadata": {},
   "source": [
    "## B. Convenience functions for filtering relevant columns and country data only\n",
    "\n",
    "\n",
    "Both population and income dataset includes list of countries (217) plus various other groups (46 - regional, income or political) as entry data. 217 is the expected number of countries listed in World Bank, 2017.\n",
    "\n",
    "Convenience functions:\n",
    "\n",
    "1) From the original WB dataset, select only columns of interest\n",
    "\n",
    "2) Get only country-specific GDP and population data (filter out other groups^^, mentioned above, data)"
   ]
  },
  {
   "cell_type": "markdown",
   "metadata": {},
   "source": [
    "### 1) Select interested columns from data"
   ]
  },
  {
   "cell_type": "code",
   "execution_count": 334,
   "metadata": {
    "collapsed": true
   },
   "outputs": [],
   "source": [
    "def select_relevant_cols(_df):\n",
    "    # returns df with 'Country Name', 'Country Code' and all years (1960 to 2016)\n",
    "    _cols = ['Country Name'] + ['Country Code'] + [str(yr) for yr in range(1960, 2017)]\n",
    "    return _df[_cols]"
   ]
  },
  {
   "cell_type": "markdown",
   "metadata": {},
   "source": [
    "### 2) Filter out non_countries (i.e. get only country data)"
   ]
  },
  {
   "cell_type": "code",
   "execution_count": 335,
   "metadata": {
    "collapsed": true
   },
   "outputs": [],
   "source": [
    "def filter_non_countries(_df, _metadata):\n",
    "    '''\n",
    "    _df : pd.DataFrame\n",
    "        either income or population data\n",
    "        \n",
    "    _metadata : pd.DataFrame\n",
    "        metadata on a list of entries including countries and non-countries \n",
    "        data source is from the World Bank\n",
    "        has IncomeGroup column that is not null for countries (217)\n",
    "    '''\n",
    "    # Country Code in both dataframes\n",
    "    _merged = _df.merge(_metadata, on='Country Code')\n",
    "    # non-countries have no IncomeGroup\n",
    "    non_country_mask = _merged['IncomeGroup'].isnull()\n",
    "    merged_country_only = _merged[~non_country_mask]\n",
    "    return merged_country_only"
   ]
  },
  {
   "cell_type": "markdown",
   "metadata": {},
   "source": [
    "# C. Population data\n",
    "\n",
    "Total population (absolute units) - based on national census and extrapolation and interpolation for missing values (based on data from United Nations, other census organizations, Eurostats and WB methodology). Subject to undercounting/biases for both high and low/mid income countries. \n",
    "\n",
    "Interpolation and extrapolation done by World Bank/UN (??-confirm the responsible party) for certain years/countries that are missing census data, or missing pre/post census information for given time frame. Uses demographic models, etc. "
   ]
  },
  {
   "cell_type": "markdown",
   "metadata": {},
   "source": [
    "### Initial survey of data"
   ]
  },
  {
   "cell_type": "markdown",
   "metadata": {},
   "source": [
    "#### Download population data"
   ]
  },
  {
   "cell_type": "code",
   "execution_count": 336,
   "metadata": {
    "scrolled": true
   },
   "outputs": [
    {
     "data": {
      "text/html": [
       "<div>\n",
       "<style>\n",
       "    .dataframe thead tr:only-child th {\n",
       "        text-align: right;\n",
       "    }\n",
       "\n",
       "    .dataframe thead th {\n",
       "        text-align: left;\n",
       "    }\n",
       "\n",
       "    .dataframe tbody tr th {\n",
       "        vertical-align: top;\n",
       "    }\n",
       "</style>\n",
       "<table border=\"1\" class=\"dataframe\">\n",
       "  <thead>\n",
       "    <tr style=\"text-align: right;\">\n",
       "      <th></th>\n",
       "      <th>Country Name</th>\n",
       "      <th>Country Code</th>\n",
       "      <th>Indicator Name</th>\n",
       "      <th>Indicator Code</th>\n",
       "      <th>1960</th>\n",
       "      <th>1961</th>\n",
       "      <th>1962</th>\n",
       "      <th>1963</th>\n",
       "      <th>1964</th>\n",
       "      <th>1965</th>\n",
       "      <th>...</th>\n",
       "      <th>2009</th>\n",
       "      <th>2010</th>\n",
       "      <th>2011</th>\n",
       "      <th>2012</th>\n",
       "      <th>2013</th>\n",
       "      <th>2014</th>\n",
       "      <th>2015</th>\n",
       "      <th>2016</th>\n",
       "      <th>2017</th>\n",
       "      <th>Unnamed: 62</th>\n",
       "    </tr>\n",
       "  </thead>\n",
       "  <tbody>\n",
       "    <tr>\n",
       "      <th>261</th>\n",
       "      <td>South Africa</td>\n",
       "      <td>ZAF</td>\n",
       "      <td>Population, total</td>\n",
       "      <td>SP.POP.TOTL</td>\n",
       "      <td>17396367.0</td>\n",
       "      <td>17850045.0</td>\n",
       "      <td>18322335.0</td>\n",
       "      <td>18809939.0</td>\n",
       "      <td>19308166.0</td>\n",
       "      <td>19813947.0</td>\n",
       "      <td>...</td>\n",
       "      <td>5.025581e+07</td>\n",
       "      <td>5.097943e+07</td>\n",
       "      <td>5.172935e+07</td>\n",
       "      <td>5.250652e+07</td>\n",
       "      <td>5.331196e+07</td>\n",
       "      <td>5.414673e+07</td>\n",
       "      <td>5.501198e+07</td>\n",
       "      <td>55908865.0</td>\n",
       "      <td>NaN</td>\n",
       "      <td>NaN</td>\n",
       "    </tr>\n",
       "    <tr>\n",
       "      <th>262</th>\n",
       "      <td>Zambia</td>\n",
       "      <td>ZMB</td>\n",
       "      <td>Population, total</td>\n",
       "      <td>SP.POP.TOTL</td>\n",
       "      <td>3044846.0</td>\n",
       "      <td>3140264.0</td>\n",
       "      <td>3240587.0</td>\n",
       "      <td>3345145.0</td>\n",
       "      <td>3452942.0</td>\n",
       "      <td>3563407.0</td>\n",
       "      <td>...</td>\n",
       "      <td>1.345642e+07</td>\n",
       "      <td>1.385003e+07</td>\n",
       "      <td>1.426476e+07</td>\n",
       "      <td>1.469994e+07</td>\n",
       "      <td>1.515321e+07</td>\n",
       "      <td>1.562097e+07</td>\n",
       "      <td>1.610059e+07</td>\n",
       "      <td>16591390.0</td>\n",
       "      <td>NaN</td>\n",
       "      <td>NaN</td>\n",
       "    </tr>\n",
       "    <tr>\n",
       "      <th>263</th>\n",
       "      <td>Zimbabwe</td>\n",
       "      <td>ZWE</td>\n",
       "      <td>Population, total</td>\n",
       "      <td>SP.POP.TOTL</td>\n",
       "      <td>3747369.0</td>\n",
       "      <td>3870756.0</td>\n",
       "      <td>3999419.0</td>\n",
       "      <td>4132756.0</td>\n",
       "      <td>4269863.0</td>\n",
       "      <td>4410212.0</td>\n",
       "      <td>...</td>\n",
       "      <td>1.381060e+07</td>\n",
       "      <td>1.408632e+07</td>\n",
       "      <td>1.438665e+07</td>\n",
       "      <td>1.471083e+07</td>\n",
       "      <td>1.505451e+07</td>\n",
       "      <td>1.541168e+07</td>\n",
       "      <td>1.577745e+07</td>\n",
       "      <td>16150362.0</td>\n",
       "      <td>NaN</td>\n",
       "      <td>NaN</td>\n",
       "    </tr>\n",
       "  </tbody>\n",
       "</table>\n",
       "<p>3 rows × 63 columns</p>\n",
       "</div>"
      ],
      "text/plain": [
       "     Country Name Country Code     Indicator Name Indicator Code        1960  \\\n",
       "261  South Africa          ZAF  Population, total    SP.POP.TOTL  17396367.0   \n",
       "262        Zambia          ZMB  Population, total    SP.POP.TOTL   3044846.0   \n",
       "263      Zimbabwe          ZWE  Population, total    SP.POP.TOTL   3747369.0   \n",
       "\n",
       "           1961        1962        1963        1964        1965     ...       \\\n",
       "261  17850045.0  18322335.0  18809939.0  19308166.0  19813947.0     ...        \n",
       "262   3140264.0   3240587.0   3345145.0   3452942.0   3563407.0     ...        \n",
       "263   3870756.0   3999419.0   4132756.0   4269863.0   4410212.0     ...        \n",
       "\n",
       "             2009          2010          2011          2012          2013  \\\n",
       "261  5.025581e+07  5.097943e+07  5.172935e+07  5.250652e+07  5.331196e+07   \n",
       "262  1.345642e+07  1.385003e+07  1.426476e+07  1.469994e+07  1.515321e+07   \n",
       "263  1.381060e+07  1.408632e+07  1.438665e+07  1.471083e+07  1.505451e+07   \n",
       "\n",
       "             2014          2015        2016  2017  Unnamed: 62  \n",
       "261  5.414673e+07  5.501198e+07  55908865.0   NaN          NaN  \n",
       "262  1.562097e+07  1.610059e+07  16591390.0   NaN          NaN  \n",
       "263  1.541168e+07  1.577745e+07  16150362.0   NaN          NaN  \n",
       "\n",
       "[3 rows x 63 columns]"
      ]
     },
     "execution_count": 336,
     "metadata": {},
     "output_type": "execute_result"
    }
   ],
   "source": [
    "# Have to run jupyter from WB directory\n",
    "df2 = pd.read_csv('population/API_SP.POP.TOTL_DS2_en_csv_v2.csv', skiprows=4)\n",
    "\n",
    "#del df2['Unnamed: 62'] # remove extraneous data\n",
    "df2.columns\n",
    "df2.tail(3)"
   ]
  },
  {
   "cell_type": "markdown",
   "metadata": {},
   "source": [
    "#### Download metadata\n",
    "\n",
    "**WARNING**: had to re-download the file because I modified it by\n",
    "opening and interacting with in via Excel. Produced error in read_csv call.\n",
    "\n",
    "**TIP for myself**: Only Open a copy version in Excel\n"
   ]
  },
  {
   "cell_type": "code",
   "execution_count": 337,
   "metadata": {},
   "outputs": [
    {
     "data": {
      "text/plain": [
       "Index(['Country Code', 'Region', 'IncomeGroup', 'SpecialNotes', 'TableName'], dtype='object')"
      ]
     },
     "execution_count": 337,
     "metadata": {},
     "output_type": "execute_result"
    }
   ],
   "source": [
    "meta_country = pd.read_csv('./population/Metadata_Country_API_SP.POP.TOTL_DS2_en_csv_v2.csv')\n",
    "\n",
    "del meta_country['Unnamed: 5'] \n",
    "meta_country.columns"
   ]
  },
  {
   "cell_type": "code",
   "execution_count": 338,
   "metadata": {
    "scrolled": true
   },
   "outputs": [
    {
     "data": {
      "text/plain": [
       "array([ nan])"
      ]
     },
     "execution_count": 338,
     "metadata": {},
     "output_type": "execute_result"
    }
   ],
   "source": [
    "df2\n",
    "df2['2017'].unique() # nan -> all 2017 values nan"
   ]
  },
  {
   "cell_type": "markdown",
   "metadata": {},
   "source": [
    "### Initial survey of metadata"
   ]
  },
  {
   "cell_type": "code",
   "execution_count": 339,
   "metadata": {},
   "outputs": [
    {
     "data": {
      "text/plain": [
       "False    217\n",
       "True      46\n",
       "Name: IncomeGroup, dtype: int64"
      ]
     },
     "execution_count": 339,
     "metadata": {},
     "output_type": "execute_result"
    }
   ],
   "source": [
    "meta_country['Region'].unique() # 7 excluding nan\n",
    "\n",
    "'''['Latin America & Caribbean' \n",
    " 'South Asia' \n",
    " 'Sub-Saharan Africa'\n",
    " 'Europe & Central Asia' /// nan \n",
    " 'Middle East & North Africa'\n",
    " 'East Asia & Pacific' \n",
    " 'North America']\n",
    "\n",
    "'''\n",
    "\n",
    "#print(meta_country['IncomeGroup'].nunique()) #4\n",
    "meta_country['IncomeGroup'].unique() \n",
    "'''['High income', 'Low income', 'Lower middle income', 'Upper middle income', nan]'''\n",
    "\n",
    "meta_country['Country Code'].nunique() # 263 entries \n",
    "meta_country['IncomeGroup'].isnull().value_counts() # 217 False (countries) # 46 nan\n",
    "# False values are countries -- i.e. all countries belong to an IncomeGroup\n",
    "# Validation: we know from (World Bank 2017) that total of 217 countries were included"
   ]
  },
  {
   "cell_type": "markdown",
   "metadata": {},
   "source": [
    "### Select relevant columns"
   ]
  },
  {
   "cell_type": "code",
   "execution_count": 340,
   "metadata": {
    "scrolled": true
   },
   "outputs": [
    {
     "data": {
      "text/plain": [
       "(264, 63)"
      ]
     },
     "execution_count": 340,
     "metadata": {},
     "output_type": "execute_result"
    }
   ],
   "source": [
    "df2 # includes Country Name and all years (1960-2016)\n",
    "df2.shape # 264 entries, 58 columns "
   ]
  },
  {
   "cell_type": "code",
   "execution_count": 341,
   "metadata": {},
   "outputs": [
    {
     "data": {
      "text/html": [
       "<div>\n",
       "<style>\n",
       "    .dataframe thead tr:only-child th {\n",
       "        text-align: right;\n",
       "    }\n",
       "\n",
       "    .dataframe thead th {\n",
       "        text-align: left;\n",
       "    }\n",
       "\n",
       "    .dataframe tbody tr th {\n",
       "        vertical-align: top;\n",
       "    }\n",
       "</style>\n",
       "<table border=\"1\" class=\"dataframe\">\n",
       "  <thead>\n",
       "    <tr style=\"text-align: right;\">\n",
       "      <th></th>\n",
       "      <th>Country Name</th>\n",
       "      <th>Country Code</th>\n",
       "      <th>Indicator Name</th>\n",
       "      <th>Indicator Code</th>\n",
       "      <th>1960</th>\n",
       "      <th>1961</th>\n",
       "      <th>1962</th>\n",
       "      <th>1963</th>\n",
       "      <th>1964</th>\n",
       "      <th>1965</th>\n",
       "      <th>...</th>\n",
       "      <th>2009</th>\n",
       "      <th>2010</th>\n",
       "      <th>2011</th>\n",
       "      <th>2012</th>\n",
       "      <th>2013</th>\n",
       "      <th>2014</th>\n",
       "      <th>2015</th>\n",
       "      <th>2016</th>\n",
       "      <th>2017</th>\n",
       "      <th>Unnamed: 62</th>\n",
       "    </tr>\n",
       "  </thead>\n",
       "  <tbody>\n",
       "    <tr>\n",
       "      <th>0</th>\n",
       "      <td>Aruba</td>\n",
       "      <td>ABW</td>\n",
       "      <td>Population, total</td>\n",
       "      <td>SP.POP.TOTL</td>\n",
       "      <td>54211.0</td>\n",
       "      <td>55438.0</td>\n",
       "      <td>56225.0</td>\n",
       "      <td>56695.0</td>\n",
       "      <td>57032.0</td>\n",
       "      <td>57360.0</td>\n",
       "      <td>...</td>\n",
       "      <td>101453.0</td>\n",
       "      <td>101669.0</td>\n",
       "      <td>102053.0</td>\n",
       "      <td>102577.0</td>\n",
       "      <td>103187.0</td>\n",
       "      <td>103795.0</td>\n",
       "      <td>104341.0</td>\n",
       "      <td>104822.0</td>\n",
       "      <td>NaN</td>\n",
       "      <td>NaN</td>\n",
       "    </tr>\n",
       "    <tr>\n",
       "      <th>1</th>\n",
       "      <td>Afghanistan</td>\n",
       "      <td>AFG</td>\n",
       "      <td>Population, total</td>\n",
       "      <td>SP.POP.TOTL</td>\n",
       "      <td>8996351.0</td>\n",
       "      <td>9166764.0</td>\n",
       "      <td>9345868.0</td>\n",
       "      <td>9533954.0</td>\n",
       "      <td>9731361.0</td>\n",
       "      <td>9938414.0</td>\n",
       "      <td>...</td>\n",
       "      <td>28004331.0</td>\n",
       "      <td>28803167.0</td>\n",
       "      <td>29708599.0</td>\n",
       "      <td>30696958.0</td>\n",
       "      <td>31731688.0</td>\n",
       "      <td>32758020.0</td>\n",
       "      <td>33736494.0</td>\n",
       "      <td>34656032.0</td>\n",
       "      <td>NaN</td>\n",
       "      <td>NaN</td>\n",
       "    </tr>\n",
       "    <tr>\n",
       "      <th>2</th>\n",
       "      <td>Angola</td>\n",
       "      <td>AGO</td>\n",
       "      <td>Population, total</td>\n",
       "      <td>SP.POP.TOTL</td>\n",
       "      <td>5643182.0</td>\n",
       "      <td>5753024.0</td>\n",
       "      <td>5866061.0</td>\n",
       "      <td>5980417.0</td>\n",
       "      <td>6093321.0</td>\n",
       "      <td>6203299.0</td>\n",
       "      <td>...</td>\n",
       "      <td>22549547.0</td>\n",
       "      <td>23369131.0</td>\n",
       "      <td>24218565.0</td>\n",
       "      <td>25096150.0</td>\n",
       "      <td>25998340.0</td>\n",
       "      <td>26920466.0</td>\n",
       "      <td>27859305.0</td>\n",
       "      <td>28813463.0</td>\n",
       "      <td>NaN</td>\n",
       "      <td>NaN</td>\n",
       "    </tr>\n",
       "    <tr>\n",
       "      <th>3</th>\n",
       "      <td>Albania</td>\n",
       "      <td>ALB</td>\n",
       "      <td>Population, total</td>\n",
       "      <td>SP.POP.TOTL</td>\n",
       "      <td>1608800.0</td>\n",
       "      <td>1659800.0</td>\n",
       "      <td>1711319.0</td>\n",
       "      <td>1762621.0</td>\n",
       "      <td>1814135.0</td>\n",
       "      <td>1864791.0</td>\n",
       "      <td>...</td>\n",
       "      <td>2927519.0</td>\n",
       "      <td>2913021.0</td>\n",
       "      <td>2905195.0</td>\n",
       "      <td>2900401.0</td>\n",
       "      <td>2895092.0</td>\n",
       "      <td>2889104.0</td>\n",
       "      <td>2880703.0</td>\n",
       "      <td>2876101.0</td>\n",
       "      <td>NaN</td>\n",
       "      <td>NaN</td>\n",
       "    </tr>\n",
       "    <tr>\n",
       "      <th>4</th>\n",
       "      <td>Andorra</td>\n",
       "      <td>AND</td>\n",
       "      <td>Population, total</td>\n",
       "      <td>SP.POP.TOTL</td>\n",
       "      <td>13411.0</td>\n",
       "      <td>14375.0</td>\n",
       "      <td>15370.0</td>\n",
       "      <td>16412.0</td>\n",
       "      <td>17469.0</td>\n",
       "      <td>18549.0</td>\n",
       "      <td>...</td>\n",
       "      <td>84462.0</td>\n",
       "      <td>84449.0</td>\n",
       "      <td>83751.0</td>\n",
       "      <td>82431.0</td>\n",
       "      <td>80788.0</td>\n",
       "      <td>79223.0</td>\n",
       "      <td>78014.0</td>\n",
       "      <td>77281.0</td>\n",
       "      <td>NaN</td>\n",
       "      <td>NaN</td>\n",
       "    </tr>\n",
       "  </tbody>\n",
       "</table>\n",
       "<p>5 rows × 63 columns</p>\n",
       "</div>"
      ],
      "text/plain": [
       "  Country Name Country Code     Indicator Name Indicator Code       1960  \\\n",
       "0        Aruba          ABW  Population, total    SP.POP.TOTL    54211.0   \n",
       "1  Afghanistan          AFG  Population, total    SP.POP.TOTL  8996351.0   \n",
       "2       Angola          AGO  Population, total    SP.POP.TOTL  5643182.0   \n",
       "3      Albania          ALB  Population, total    SP.POP.TOTL  1608800.0   \n",
       "4      Andorra          AND  Population, total    SP.POP.TOTL    13411.0   \n",
       "\n",
       "        1961       1962       1963       1964       1965     ...       \\\n",
       "0    55438.0    56225.0    56695.0    57032.0    57360.0     ...        \n",
       "1  9166764.0  9345868.0  9533954.0  9731361.0  9938414.0     ...        \n",
       "2  5753024.0  5866061.0  5980417.0  6093321.0  6203299.0     ...        \n",
       "3  1659800.0  1711319.0  1762621.0  1814135.0  1864791.0     ...        \n",
       "4    14375.0    15370.0    16412.0    17469.0    18549.0     ...        \n",
       "\n",
       "         2009        2010        2011        2012        2013        2014  \\\n",
       "0    101453.0    101669.0    102053.0    102577.0    103187.0    103795.0   \n",
       "1  28004331.0  28803167.0  29708599.0  30696958.0  31731688.0  32758020.0   \n",
       "2  22549547.0  23369131.0  24218565.0  25096150.0  25998340.0  26920466.0   \n",
       "3   2927519.0   2913021.0   2905195.0   2900401.0   2895092.0   2889104.0   \n",
       "4     84462.0     84449.0     83751.0     82431.0     80788.0     79223.0   \n",
       "\n",
       "         2015        2016  2017  Unnamed: 62  \n",
       "0    104341.0    104822.0   NaN          NaN  \n",
       "1  33736494.0  34656032.0   NaN          NaN  \n",
       "2  27859305.0  28813463.0   NaN          NaN  \n",
       "3   2880703.0   2876101.0   NaN          NaN  \n",
       "4     78014.0     77281.0   NaN          NaN  \n",
       "\n",
       "[5 rows x 63 columns]"
      ]
     },
     "execution_count": 341,
     "metadata": {},
     "output_type": "execute_result"
    }
   ],
   "source": [
    "df2.head(5)   # Show top 5 rows"
   ]
  },
  {
   "cell_type": "code",
   "execution_count": 342,
   "metadata": {},
   "outputs": [
    {
     "data": {
      "text/html": [
       "<div>\n",
       "<style>\n",
       "    .dataframe thead tr:only-child th {\n",
       "        text-align: right;\n",
       "    }\n",
       "\n",
       "    .dataframe thead th {\n",
       "        text-align: left;\n",
       "    }\n",
       "\n",
       "    .dataframe tbody tr th {\n",
       "        vertical-align: top;\n",
       "    }\n",
       "</style>\n",
       "<table border=\"1\" class=\"dataframe\">\n",
       "  <thead>\n",
       "    <tr style=\"text-align: right;\">\n",
       "      <th></th>\n",
       "      <th>Country Name</th>\n",
       "      <th>Country Code</th>\n",
       "      <th>Indicator Name</th>\n",
       "      <th>Indicator Code</th>\n",
       "      <th>1960</th>\n",
       "      <th>1961</th>\n",
       "      <th>1962</th>\n",
       "      <th>1963</th>\n",
       "      <th>1964</th>\n",
       "      <th>1965</th>\n",
       "      <th>...</th>\n",
       "      <th>2013</th>\n",
       "      <th>2014</th>\n",
       "      <th>2015</th>\n",
       "      <th>2016</th>\n",
       "      <th>2017</th>\n",
       "      <th>Unnamed: 62</th>\n",
       "      <th>Region</th>\n",
       "      <th>IncomeGroup</th>\n",
       "      <th>SpecialNotes</th>\n",
       "      <th>TableName</th>\n",
       "    </tr>\n",
       "  </thead>\n",
       "  <tbody>\n",
       "    <tr>\n",
       "      <th>244</th>\n",
       "      <td>Uganda</td>\n",
       "      <td>UGA</td>\n",
       "      <td>Population, total</td>\n",
       "      <td>SP.POP.TOTL</td>\n",
       "      <td>6788214.0</td>\n",
       "      <td>7006633.0</td>\n",
       "      <td>7240174.0</td>\n",
       "      <td>7487429.0</td>\n",
       "      <td>7746198.0</td>\n",
       "      <td>8014401.0</td>\n",
       "      <td>...</td>\n",
       "      <td>37553726.0</td>\n",
       "      <td>38833338.0</td>\n",
       "      <td>40144870.0</td>\n",
       "      <td>41487965.0</td>\n",
       "      <td>NaN</td>\n",
       "      <td>NaN</td>\n",
       "      <td>Sub-Saharan Africa</td>\n",
       "      <td>Low income</td>\n",
       "      <td>Fiscal year end: June 30; reporting period for...</td>\n",
       "      <td>Uganda</td>\n",
       "    </tr>\n",
       "    <tr>\n",
       "      <th>245</th>\n",
       "      <td>Ukraine</td>\n",
       "      <td>UKR</td>\n",
       "      <td>Population, total</td>\n",
       "      <td>SP.POP.TOTL</td>\n",
       "      <td>42662149.0</td>\n",
       "      <td>43203635.0</td>\n",
       "      <td>43749470.0</td>\n",
       "      <td>44285899.0</td>\n",
       "      <td>44794327.0</td>\n",
       "      <td>45261935.0</td>\n",
       "      <td>...</td>\n",
       "      <td>45489600.0</td>\n",
       "      <td>45271947.0</td>\n",
       "      <td>45154029.0</td>\n",
       "      <td>45004645.0</td>\n",
       "      <td>NaN</td>\n",
       "      <td>NaN</td>\n",
       "      <td>Europe &amp; Central Asia</td>\n",
       "      <td>Lower middle income</td>\n",
       "      <td>The new base year is 2010.</td>\n",
       "      <td>Ukraine</td>\n",
       "    </tr>\n",
       "    <tr>\n",
       "      <th>247</th>\n",
       "      <td>Uruguay</td>\n",
       "      <td>URY</td>\n",
       "      <td>Population, total</td>\n",
       "      <td>SP.POP.TOTL</td>\n",
       "      <td>2538651.0</td>\n",
       "      <td>2571690.0</td>\n",
       "      <td>2603887.0</td>\n",
       "      <td>2635129.0</td>\n",
       "      <td>2665390.0</td>\n",
       "      <td>2694537.0</td>\n",
       "      <td>...</td>\n",
       "      <td>3408005.0</td>\n",
       "      <td>3419546.0</td>\n",
       "      <td>3431552.0</td>\n",
       "      <td>3444006.0</td>\n",
       "      <td>NaN</td>\n",
       "      <td>NaN</td>\n",
       "      <td>Latin America &amp; Caribbean</td>\n",
       "      <td>High income</td>\n",
       "      <td>NaN</td>\n",
       "      <td>Uruguay</td>\n",
       "    </tr>\n",
       "    <tr>\n",
       "      <th>248</th>\n",
       "      <td>United States</td>\n",
       "      <td>USA</td>\n",
       "      <td>Population, total</td>\n",
       "      <td>SP.POP.TOTL</td>\n",
       "      <td>180671000.0</td>\n",
       "      <td>183691000.0</td>\n",
       "      <td>186538000.0</td>\n",
       "      <td>189242000.0</td>\n",
       "      <td>191889000.0</td>\n",
       "      <td>194303000.0</td>\n",
       "      <td>...</td>\n",
       "      <td>316204908.0</td>\n",
       "      <td>318563456.0</td>\n",
       "      <td>320896618.0</td>\n",
       "      <td>323127513.0</td>\n",
       "      <td>NaN</td>\n",
       "      <td>NaN</td>\n",
       "      <td>North America</td>\n",
       "      <td>High income</td>\n",
       "      <td>Fiscal year end: September 30; reporting perio...</td>\n",
       "      <td>United States</td>\n",
       "    </tr>\n",
       "    <tr>\n",
       "      <th>249</th>\n",
       "      <td>Uzbekistan</td>\n",
       "      <td>UZB</td>\n",
       "      <td>Population, total</td>\n",
       "      <td>SP.POP.TOTL</td>\n",
       "      <td>8549493.0</td>\n",
       "      <td>8837349.0</td>\n",
       "      <td>9138097.0</td>\n",
       "      <td>9454250.0</td>\n",
       "      <td>9788986.0</td>\n",
       "      <td>10143740.0</td>\n",
       "      <td>...</td>\n",
       "      <td>30243200.0</td>\n",
       "      <td>30757700.0</td>\n",
       "      <td>31298900.0</td>\n",
       "      <td>31848200.0</td>\n",
       "      <td>NaN</td>\n",
       "      <td>NaN</td>\n",
       "      <td>Europe &amp; Central Asia</td>\n",
       "      <td>Lower middle income</td>\n",
       "      <td>NaN</td>\n",
       "      <td>Uzbekistan</td>\n",
       "    </tr>\n",
       "  </tbody>\n",
       "</table>\n",
       "<p>5 rows × 67 columns</p>\n",
       "</div>"
      ],
      "text/plain": [
       "      Country Name Country Code     Indicator Name Indicator Code  \\\n",
       "244         Uganda          UGA  Population, total    SP.POP.TOTL   \n",
       "245        Ukraine          UKR  Population, total    SP.POP.TOTL   \n",
       "247        Uruguay          URY  Population, total    SP.POP.TOTL   \n",
       "248  United States          USA  Population, total    SP.POP.TOTL   \n",
       "249     Uzbekistan          UZB  Population, total    SP.POP.TOTL   \n",
       "\n",
       "            1960         1961         1962         1963         1964  \\\n",
       "244    6788214.0    7006633.0    7240174.0    7487429.0    7746198.0   \n",
       "245   42662149.0   43203635.0   43749470.0   44285899.0   44794327.0   \n",
       "247    2538651.0    2571690.0    2603887.0    2635129.0    2665390.0   \n",
       "248  180671000.0  183691000.0  186538000.0  189242000.0  191889000.0   \n",
       "249    8549493.0    8837349.0    9138097.0    9454250.0    9788986.0   \n",
       "\n",
       "            1965      ...               2013         2014         2015  \\\n",
       "244    8014401.0      ...         37553726.0   38833338.0   40144870.0   \n",
       "245   45261935.0      ...         45489600.0   45271947.0   45154029.0   \n",
       "247    2694537.0      ...          3408005.0    3419546.0    3431552.0   \n",
       "248  194303000.0      ...        316204908.0  318563456.0  320896618.0   \n",
       "249   10143740.0      ...         30243200.0   30757700.0   31298900.0   \n",
       "\n",
       "            2016  2017  Unnamed: 62                     Region  \\\n",
       "244   41487965.0   NaN          NaN         Sub-Saharan Africa   \n",
       "245   45004645.0   NaN          NaN      Europe & Central Asia   \n",
       "247    3444006.0   NaN          NaN  Latin America & Caribbean   \n",
       "248  323127513.0   NaN          NaN              North America   \n",
       "249   31848200.0   NaN          NaN      Europe & Central Asia   \n",
       "\n",
       "             IncomeGroup                                       SpecialNotes  \\\n",
       "244           Low income  Fiscal year end: June 30; reporting period for...   \n",
       "245  Lower middle income                         The new base year is 2010.   \n",
       "247          High income                                                NaN   \n",
       "248          High income  Fiscal year end: September 30; reporting perio...   \n",
       "249  Lower middle income                                                NaN   \n",
       "\n",
       "         TableName  \n",
       "244         Uganda  \n",
       "245        Ukraine  \n",
       "247        Uruguay  \n",
       "248  United States  \n",
       "249     Uzbekistan  \n",
       "\n",
       "[5 rows x 67 columns]"
      ]
     },
     "execution_count": 342,
     "metadata": {},
     "output_type": "execute_result"
    }
   ],
   "source": [
    "df2_countries_only = filter_non_countries(df2, meta_country)\n",
    "df2_countries_only[200:205] # few U- countires"
   ]
  },
  {
   "cell_type": "code",
   "execution_count": 343,
   "metadata": {},
   "outputs": [
    {
     "data": {
      "text/plain": [
       "(217, 59)"
      ]
     },
     "execution_count": 343,
     "metadata": {},
     "output_type": "execute_result"
    }
   ],
   "source": [
    "df_pop = select_relevant_cols(df2_countries_only)\n",
    "df_pop.shape"
   ]
  },
  {
   "cell_type": "markdown",
   "metadata": {},
   "source": [
    "### [F] Function: Get country indexes with nans\n",
    "\n",
    "F for function"
   ]
  },
  {
   "cell_type": "code",
   "execution_count": 344,
   "metadata": {
    "collapsed": true
   },
   "outputs": [],
   "source": [
    "get_country_idx_with_nans = lambda _dd: pd.isnull(_dd).any(1).nonzero()[0]"
   ]
  },
  {
   "cell_type": "markdown",
   "metadata": {},
   "source": [
    "### Find countries/years missing population data"
   ]
  },
  {
   "cell_type": "code",
   "execution_count": 345,
   "metadata": {
    "collapsed": true
   },
   "outputs": [],
   "source": [
    "# df_pop.isnull().sum()\n",
    "# note that nan values per year changes from 1-4, 1989 and prior are all 4,\n",
    "# after that there is a shifts six times:\n",
    "# 4 (60-89) -> 2 (90-91)-> 3 (92-94) -> 2 (95-97) -> 1 (98-2011)-> 2 (2012-2016)-> 264 (2017)\n",
    "\n",
    "# Compare two years (diff countries)\n"
   ]
  },
  {
   "cell_type": "code",
   "execution_count": 346,
   "metadata": {},
   "outputs": [
    {
     "data": {
      "text/plain": [
       "array([ 58, 106, 161, 176, 184])"
      ]
     },
     "execution_count": 346,
     "metadata": {},
     "output_type": "execute_result"
    }
   ],
   "source": [
    "list_of_country_idx_with_nans = get_country_idx_with_nans(df_pop) # same as above\n",
    "list_of_country_idx_with_nans"
   ]
  },
  {
   "cell_type": "markdown",
   "metadata": {},
   "source": [
    "NOTE on nans:\n",
    "\n",
    "* `df.isnull().sum()`: returns total number of nan values for each column (whole df) <- what I used\n",
    "* comparison of nan == np.nan to find nan values does not work (returns False)\n",
    "* can use np.isnan(val) for a single value OR possibly use `apply` method for whole col (did not try)"
   ]
  },
  {
   "cell_type": "code",
   "execution_count": 347,
   "metadata": {},
   "outputs": [
    {
     "name": "stdout",
     "output_type": "stream",
     "text": [
      "[('Eritrea', 58), ('Kuwait', 106), ('West Bank and Gaza', 161), ('Serbia', 176), ('Sint Maarten (Dutch part)', 184)]\n"
     ]
    }
   ],
   "source": [
    "def print_country_name_and_index(_df, _list_of_indexes_with_nans):\n",
    "    _countries = [(_df.iloc[i]['Country Name'], i) for i in _list_of_indexes_with_nans]\n",
    "    print (_countries)\n",
    "\n",
    "print_country_name_and_index(df_pop, list_of_country_idx_with_nans)"
   ]
  },
  {
   "cell_type": "markdown",
   "metadata": {},
   "source": [
    "### Define `get_missing_years`"
   ]
  },
  {
   "cell_type": "code",
   "execution_count": 348,
   "metadata": {
    "scrolled": true
   },
   "outputs": [],
   "source": [
    "def print_missing_years_for_country(_df, idx):\n",
    "    '''\n",
    "    Calculate the number of years the country has no\n",
    "    data points (ie. has nan value)\n",
    "    \n",
    "    Parameters\n",
    "    ----------\n",
    "    _df : pandas.DataFrame\n",
    "        dataframe containing countries and these columns\n",
    "        Country Name, Country Code, '1960'... '2016' \n",
    "        where year values can be either population, income, or NaN\n",
    "        \n",
    "    idx : Python list \n",
    "        list of of row indexes (countries) in the dataframe that has missing years\n",
    "        \n",
    "    Prints \n",
    "    -------\n",
    "    For each country with missing years, prints country name, \n",
    "    followed by a Pandas.Index of missing years (each year is\n",
    "    a String)\n",
    "    \n",
    "    ex. Eritrea Index(['2012', '2013', '2014', '2015', '2016'], dtype='object')\n",
    "        Kuwait Index ...\n",
    "        \n",
    "    Note (additional complexity)\n",
    "    ----\n",
    "    Can return start/end missing years, and # missing years instead, \n",
    "    if the years are consecutive\n",
    "    '''\n",
    "    _country = _df.iloc[idx]\n",
    "    _nan_years = _country.loc[_country.isnull()]\n",
    "    print(_country['Country Name'], _nan_years.keys())\\"
   ]
  },
  {
   "cell_type": "code",
   "execution_count": 349,
   "metadata": {},
   "outputs": [
    {
     "name": "stdout",
     "output_type": "stream",
     "text": [
      "Eritrea Index(['2012', '2013', '2014', '2015', '2016'], dtype='object')\n",
      "Kuwait Index(['1992', '1993', '1994'], dtype='object')\n",
      "West Bank and Gaza Index(['1960', '1961', '1962', '1963', '1964', '1965', '1966', '1967', '1968',\n",
      "       '1969', '1970', '1971', '1972', '1973', '1974', '1975', '1976', '1977',\n",
      "       '1978', '1979', '1980', '1981', '1982', '1983', '1984', '1985', '1986',\n",
      "       '1987', '1988', '1989'],\n",
      "      dtype='object')\n",
      "Serbia Index(['1960', '1961', '1962', '1963', '1964', '1965', '1966', '1967', '1968',\n",
      "       '1969', '1970', '1971', '1972', '1973', '1974', '1975', '1976', '1977',\n",
      "       '1978', '1979', '1980', '1981', '1982', '1983', '1984', '1985', '1986',\n",
      "       '1987', '1988', '1989'],\n",
      "      dtype='object')\n",
      "Sint Maarten (Dutch part) Index(['1960', '1961', '1962', '1963', '1964', '1965', '1966', '1967', '1968',\n",
      "       '1969', '1970', '1971', '1972', '1973', '1974', '1975', '1976', '1977',\n",
      "       '1978', '1979', '1980', '1981', '1982', '1983', '1984', '1985', '1986',\n",
      "       '1987', '1988', '1989', '1990', '1991', '1992', '1993', '1994', '1995',\n",
      "       '1996', '1997'],\n",
      "      dtype='object')\n"
     ]
    }
   ],
   "source": [
    "\n",
    "def print_missing_years_for_all_countries(_df, _list_of_idx):\n",
    "    for _i in _list_of_idx:\n",
    "        print_missing_years_for_country(_df, _i)\n",
    "        \n",
    "print_missing_years_for_all_countries(df_pop, list_of_country_idx_with_nans)\n",
    "\n",
    "def get_country_names_with_num_missing_years(_df, idx):\n",
    "    '''\n",
    "    Calculate the number of years the country has no\n",
    "    data points (ie. has nan value)\n",
    "    \n",
    "    Parameters\n",
    "    ----------\n",
    "    _df : pandas.DataFrame\n",
    "        dataframe containing countries and these columns\n",
    "        Country Name, Country Code, '1960'... '2016' \n",
    "        where year values can be either population, income, or NaN\n",
    "        \n",
    "    idx : Python list \n",
    "        list of of country names (Str) in the dataframe that has missing years\n",
    "    '''\n",
    "    _country = _df.iloc[idx]\n",
    "    _nan_years = _country.loc[_country.isnull()]\n",
    "    print(_country['Country Name'], len(_nan_years))\n",
    "    "
   ]
  },
  {
   "cell_type": "markdown",
   "metadata": {},
   "source": [
    "### Manual validation"
   ]
  },
  {
   "cell_type": "code",
   "execution_count": 350,
   "metadata": {
    "collapsed": true
   },
   "outputs": [],
   "source": [
    "#df_pop.iloc[58] # Eritrea missing 2012-2016\n",
    "#df_pop.iloc[106] # Kuwait missing 1992-1994\n",
    "#df_pop.iloc[161] # West Bank and Gaza missing 1960 - 1989\n",
    "#df_pop.iloc[176] # Serbia missing 1960 - 1989\n",
    "# df_pop.iloc[184] # Sint Maarten (Dutch part) 1960 -1997"
   ]
  },
  {
   "cell_type": "code",
   "execution_count": 351,
   "metadata": {
    "collapsed": true
   },
   "outputs": [],
   "source": [
    "#df_pop['1990'].isnull().sum() == 1 # expect 1 (excluding West Bank/Serbia)\n",
    "#df_pop['1993'].isnull().sum() == 2 # expect 2 (Kuwait missing too)\n",
    "#df_pop['1995'].isnull().sum() == 1 # expect 1 (Kuwait back again)\n",
    "#df_pop['1999'].isnull().sum() # expect 0 Sint Maarten back\n",
    "#df_pop['2012'].isnull().sum() # expect 1 (Eritrea goes missing)\n",
    "#df_pop['2016'].isnull().sum() # expect 1"
   ]
  },
  {
   "cell_type": "code",
   "execution_count": 352,
   "metadata": {},
   "outputs": [
    {
     "data": {
      "text/plain": [
       "True"
      ]
     },
     "execution_count": 352,
     "metadata": {},
     "output_type": "execute_result"
    }
   ],
   "source": [
    "# doing this manual painful way for now\n",
    "\n",
    "((df_pop['1960'].isnull().sum() == 3) \n",
    " and (df_pop['1990'].isnull().sum() == 1) \n",
    " and (df_pop['1993'].isnull().sum() == 2) \n",
    " and (df_pop['1995'].isnull().sum() == 1)\n",
    " and df_pop['1999'].isnull().sum()==0\n",
    " and df_pop['2012'].isnull().sum()==1\n",
    " and df_pop['2016'].isnull().sum()==1)"
   ]
  },
  {
   "cell_type": "markdown",
   "metadata": {},
   "source": [
    "##  Playing around with data"
   ]
  },
  {
   "cell_type": "markdown",
   "metadata": {},
   "source": [
    "#### Not used / unhelpful"
   ]
  },
  {
   "cell_type": "code",
   "execution_count": 353,
   "metadata": {},
   "outputs": [],
   "source": [
    "# Get countries as dataframe (subset of original) by first letter\n",
    "def get_by_first_letter(df, first_letter):\n",
    "    return df.loc[df['Country Name'].str.startswith(first_letter)]\n",
    "\n",
    "# Get country by name\n",
    "def get_row_by_country_name(_df, country_name):\n",
    "    return _df[_df['Country Name'] == country_name]\n",
    "\n",
    "# Get country row from dataframe by index\n",
    "def get_row_by_index(df, country_idx):\n",
    "    return df.iloc[country_idx]\n",
    "\n",
    "# Get all countries that start with S\n",
    "s_countries = get_by_first_letter(df_pop, 'S')\n",
    "#s_countries\n",
    "    \n",
    "# Get_by_first_letter(df, 'K') # example South Korea is index 124\n",
    "# get_by_index(df, 124)\n"
   ]
  },
  {
   "cell_type": "code",
   "execution_count": 354,
   "metadata": {
    "scrolled": true
   },
   "outputs": [
    {
     "data": {
      "text/html": [
       "<div>\n",
       "<style>\n",
       "    .dataframe thead tr:only-child th {\n",
       "        text-align: right;\n",
       "    }\n",
       "\n",
       "    .dataframe thead th {\n",
       "        text-align: left;\n",
       "    }\n",
       "\n",
       "    .dataframe tbody tr th {\n",
       "        vertical-align: top;\n",
       "    }\n",
       "</style>\n",
       "<table border=\"1\" class=\"dataframe\">\n",
       "  <thead>\n",
       "    <tr style=\"text-align: right;\">\n",
       "      <th></th>\n",
       "      <th>1960</th>\n",
       "      <th>2016</th>\n",
       "    </tr>\n",
       "  </thead>\n",
       "  <tbody>\n",
       "    <tr>\n",
       "      <th>107</th>\n",
       "      <td>449480608.0</td>\n",
       "      <td>1.324171e+09</td>\n",
       "    </tr>\n",
       "  </tbody>\n",
       "</table>\n",
       "</div>"
      ],
      "text/plain": [
       "            1960          2016\n",
       "107  449480608.0  1.324171e+09"
      ]
     },
     "execution_count": 354,
     "metadata": {},
     "output_type": "execute_result"
    }
   ],
   "source": [
    "# Returns all values of the 'Country Name' column as an array\n",
    "#df2['Country Name'].values #lists all countries\n",
    "# United States\n",
    "# China\n",
    "# India\n",
    "\n",
    "china = get_row_by_country_name(df2, 'China')\n",
    "india = get_row_by_country_name(df2, 'India')\n",
    "usa = get_row_by_country_name(df2, 'United States')\n",
    "def get_first_and_last_years(_country):\n",
    "    # _country is a dataframe (1 row)\n",
    "    return _country[['1960', '2016']]\n",
    "    \n",
    "get_first_and_last_years(china)\n",
    "get_first_and_last_years(usa)\n",
    "get_first_and_last_years(india)\n",
    "\n",
    "# manual confirmation: these values match online WB values (https://data.worldbank.org/indicator/SP.POP.TOTL?year_high_desc=true)"
   ]
  },
  {
   "cell_type": "markdown",
   "metadata": {},
   "source": [
    "## D. GDP Data Analysis\n",
    "\n",
    "### 1/ Picked constant market prices GDP"
   ]
  },
  {
   "cell_type": "markdown",
   "metadata": {},
   "source": [
    "#### 0. Download dataframe (data) and metadata"
   ]
  },
  {
   "cell_type": "code",
   "execution_count": 355,
   "metadata": {
    "collapsed": true
   },
   "outputs": [],
   "source": [
    "# Open files\n",
    "# NY.GDP.PCAP.PP.KD is WDI indicator\n",
    "'''\n",
    "NY = national accounts: income\n",
    "MKTP = market prices\n",
    "PCAP = per capita\n",
    "PP = purchasing power (no PP means not PP)\n",
    "KD = constant (vs CD = current)\n",
    "'''\n",
    "# df_gdp is gdp market constant\n",
    "gdp_mkt_const = pd.read_csv('./gdp/gdp_constant/API_NY.GDP.MKTP.KD_DS2_en_csv_v2.csv', skiprows=3)\n",
    "gdp_meta = pd.read_csv('./gdp/gdp_constant/Metadata_Country_API_NY.GDP.MKTP.KD_DS2_en_csv_v2.csv')"
   ]
  },
  {
   "cell_type": "code",
   "execution_count": 356,
   "metadata": {
    "collapsed": true,
    "scrolled": true
   },
   "outputs": [],
   "source": [
    "# Get variables (column names)\n",
    "gdp_mkt_const.columns # years 1960-2017\n",
    "gdp_mkt_const.shape\n",
    "del gdp_mkt_const['Unnamed: 62']"
   ]
  },
  {
   "cell_type": "code",
   "execution_count": 357,
   "metadata": {},
   "outputs": [
    {
     "data": {
      "text/plain": [
       "Index(['Country Name', 'Country Code', 'Indicator Name', 'Indicator Code',\n",
       "       '1960', '1961', '1962', '1963', '1964', '1965', '1966', '1967', '1968',\n",
       "       '1969', '1970', '1971', '1972', '1973', '1974', '1975', '1976', '1977',\n",
       "       '1978', '1979', '1980', '1981', '1982', '1983', '1984', '1985', '1986',\n",
       "       '1987', '1988', '1989', '1990', '1991', '1992', '1993', '1994', '1995',\n",
       "       '1996', '1997', '1998', '1999', '2000', '2001', '2002', '2003', '2004',\n",
       "       '2005', '2006', '2007', '2008', '2009', '2010', '2011', '2012', '2013',\n",
       "       '2014', '2015', '2016', '2017'],\n",
       "      dtype='object')"
      ]
     },
     "execution_count": 357,
     "metadata": {},
     "output_type": "execute_result"
    }
   ],
   "source": [
    "gdp_mkt_const.columns"
   ]
  },
  {
   "cell_type": "markdown",
   "metadata": {},
   "source": [
    "#### 1. Filter non country/ aggregate groups data\n",
    "\n",
    "Filtered df should have 217 rows and 68 columns"
   ]
  },
  {
   "cell_type": "code",
   "execution_count": 358,
   "metadata": {},
   "outputs": [
    {
     "data": {
      "text/plain": [
       "(217, 67)"
      ]
     },
     "execution_count": 358,
     "metadata": {},
     "output_type": "execute_result"
    }
   ],
   "source": [
    "gdp_mkt_const_country_only = filter_non_countries(gdp_mkt_const, gdp_meta)\n",
    "gdp_mkt_const_country_only.shape # Expect 217 rows (extra columns)"
   ]
  },
  {
   "cell_type": "code",
   "execution_count": 359,
   "metadata": {},
   "outputs": [
    {
     "data": {
      "text/plain": [
       "Index(['IncomeGroup', 'Region', 'SpecialNotes', 'TableName', 'Unnamed: 5'], dtype='object')"
      ]
     },
     "execution_count": 359,
     "metadata": {},
     "output_type": "execute_result"
    }
   ],
   "source": [
    "gdp_mkt_const_country_only.columns.difference(gdp_mkt_const.columns)"
   ]
  },
  {
   "cell_type": "markdown",
   "metadata": {},
   "source": [
    "#### 2. Select Relevant Columns from dataframe\n",
    "\n",
    "Should return columns including Country Code, Country Name,  and all years (1960-2016)\n",
    "\n",
    "Expect 217 rows and 59 columns"
   ]
  },
  {
   "cell_type": "code",
   "execution_count": 360,
   "metadata": {
    "scrolled": false
   },
   "outputs": [
    {
     "data": {
      "text/plain": [
       "(217, 59)"
      ]
     },
     "execution_count": 360,
     "metadata": {},
     "output_type": "execute_result"
    }
   ],
   "source": [
    "df_gdp = select_relevant_cols(gdp_mkt_const_country_only)\n",
    "df_gdp.shape"
   ]
  },
  {
   "cell_type": "code",
   "execution_count": 361,
   "metadata": {
    "collapsed": true
   },
   "outputs": [],
   "source": [
    "#df_gdp.columns # manual check"
   ]
  },
  {
   "cell_type": "markdown",
   "metadata": {},
   "source": [
    "#### 3. Get list of country indexes with nanas"
   ]
  },
  {
   "cell_type": "code",
   "execution_count": 362,
   "metadata": {
    "collapsed": true
   },
   "outputs": [],
   "source": [
    "list_of_country_idx_with_nans_gdp = get_country_idx_with_nans(df_gdp)"
   ]
  },
  {
   "cell_type": "code",
   "execution_count": 363,
   "metadata": {},
   "outputs": [
    {
     "data": {
      "text/plain": [
       "131"
      ]
     },
     "execution_count": 363,
     "metadata": {},
     "output_type": "execute_result"
    }
   ],
   "source": [
    "len(list_of_country_idx_with_nans_gdp) # 131 countries!\n",
    "#list_of_country_idx_with_nans_gdp"
   ]
  },
  {
   "cell_type": "markdown",
   "metadata": {},
   "source": [
    "#### 4. Print missing years for all countries"
   ]
  },
  {
   "cell_type": "code",
   "execution_count": 364,
   "metadata": {},
   "outputs": [
    {
     "data": {
      "text/plain": [
       "(131, 59)"
      ]
     },
     "execution_count": 364,
     "metadata": {},
     "output_type": "execute_result"
    }
   ],
   "source": [
    "# print_missing_years_for_all_countries(df_gdp, \n",
    "#                                      list_of_country_idx_with_nans_gdp\n",
    "df_nans = df_gdp.loc[list_of_country_idx_with_nans_gdp]\n",
    "df_nans.shape"
   ]
  },
  {
   "cell_type": "code",
   "execution_count": 365,
   "metadata": {
    "scrolled": true
   },
   "outputs": [
    {
     "data": {
      "text/plain": [
       "Index(['Country Name', 'Country Code', '1960', '1961', '1962', '1963', '1964',\n",
       "       '1965', '1966', '1967', '1968', '1969', '1970', '1971', '1972', '1973',\n",
       "       '1974', '1975', '1976', '1977', '1978', '1979', '1980', '1981', '1982',\n",
       "       '1983', '1984', '1985', '1986', '1987', '1988', '1989', '1990', '1991',\n",
       "       '1992', '1993', '1994', '1995', '1996', '1997', '1998', '1999', '2000',\n",
       "       '2001', '2002', '2003', '2004', '2005', '2006', '2007', '2008', '2009',\n",
       "       '2010', '2011', '2012', '2013', '2014', '2015', '2016'],\n",
       "      dtype='object')"
      ]
     },
     "execution_count": 365,
     "metadata": {},
     "output_type": "execute_result"
    }
   ],
   "source": [
    "df_nans.columns"
   ]
  },
  {
   "cell_type": "markdown",
   "metadata": {},
   "source": [
    "### TASK: Get missing years/countries\n"
   ]
  },
  {
   "cell_type": "markdown",
   "metadata": {},
   "source": [
    "### Ideas\n",
    "\n",
    "1. Idea Red\n",
    "    \n",
    "    1) Get a list of countries that has any missing data, including # years missing\n",
    "    \n",
    "    2) Sort by years missing (country with largest missing data first)\n",
    "\n",
    "2. Idea Orange (outcome data need)\n",
    "\n",
    "    1) Check interesting countries\n",
    "        Mexico\n",
    "        Philipines\n",
    "        USA\n",
    "        Ethiopia\n",
    "        Germany/West Germany\n",
    "        Indonesia\n",
    "        Soviet Union/Russia\n",
    "        France\n",
    "        Brazil\n",
    "        Spain....\n",
    "    \n",
    "3. Idea Yellow (population as guage for important countries)\n",
    "    1) Filter by population\n"
   ]
  },
  {
   "cell_type": "markdown",
   "metadata": {},
   "source": [
    "### TASK: Get list of years missing for a country\n",
    "\n",
    "Super naive EDA\n",
    "\n"
   ]
  },
  {
   "cell_type": "code",
   "execution_count": 366,
   "metadata": {
    "scrolled": true
   },
   "outputs": [
    {
     "name": "stdout",
     "output_type": "stream",
     "text": [
      "[0, 1, 2, 3, 5, 6, 7, 8, 10, 11, 13, 14, 15, 16, 17, 19, 20, 21, 22, 24, 25, 26, 27, 28, 29, 30, 31, 32, 33, 34, 35, 36, 37, 40, 41, 42, 43, 44, 47, 49, 56, 57]\n"
     ]
    }
   ],
   "source": [
    "# Count nan\n",
    "print(sorted(df_gdp.isnull().sum(axis=1).unique().tolist()))"
   ]
  },
  {
   "cell_type": "markdown",
   "metadata": {},
   "source": [
    "#### Number of missing years range from 0 to 57.. T.T\n",
    "\n",
    "There are 17 unique values"
   ]
  },
  {
   "cell_type": "markdown",
   "metadata": {},
   "source": [
    "### Approach 1: Create a filter for countries with > 10 mil pop (Mike's Suggestion)\n",
    "\n",
    "Shelved for now, because all have higher than 10 mil pop??"
   ]
  },
  {
   "cell_type": "code",
   "execution_count": 367,
   "metadata": {
    "collapsed": true
   },
   "outputs": [],
   "source": [
    "df_gdp2 = df_gdp.copy()\n",
    "\n",
    "# Reset Index \n",
    "df_gdp_reindexed = df_gdp2.reset_index(drop=True)"
   ]
  },
  {
   "cell_type": "code",
   "execution_count": 368,
   "metadata": {
    "collapsed": true,
    "scrolled": false
   },
   "outputs": [],
   "source": [
    "list_of_countries = [x for x in df_gdp_reindexed['Country Name'].values]\n",
    "num_nan_per_country = lambda i: df_gdp_reindexed.loc[i].isnull().sum()\n",
    "\n",
    "num_countries = len(list_of_countries) # 217\n",
    "\n",
    "countries = {}    \n",
    "countries = [{'name': list_of_countries[i], \n",
    "                  'num_missing': num_nan_per_country(i)} for i in range(0, num_countries)]\n",
    "#countries\n",
    "# form: [{'name': 'Aruba', 'num_missing': 56},"
   ]
  },
  {
   "cell_type": "markdown",
   "metadata": {},
   "source": [
    "### Find and print gdp missing countries"
   ]
  },
  {
   "cell_type": "code",
   "execution_count": 369,
   "metadata": {},
   "outputs": [],
   "source": [
    "import operator\n",
    "\n",
    "countries_with_nans_and_idx = {}\n",
    "\n",
    "for i in list_of_country_idx_with_nans_gdp:\n",
    "    country_name = df_gdp.iloc[i]['Country Name']\n",
    "    countries_with_nans_and_idx[country_name] = num_nan_per_country(i)\n",
    "\n",
    "gdp_missing_countries = sorted(countries_with_nans_and_idx.items(), \n",
    "                               key=operator.itemgetter(1), \n",
    "                               reverse=True)"
   ]
  },
  {
   "cell_type": "code",
   "execution_count": 370,
   "metadata": {},
   "outputs": [
    {
     "data": {
      "text/plain": [
       "131"
      ]
     },
     "execution_count": 370,
     "metadata": {},
     "output_type": "execute_result"
    }
   ],
   "source": [
    "len(gdp_missing_countries) # 131 as expected"
   ]
  },
  {
   "cell_type": "code",
   "execution_count": 371,
   "metadata": {},
   "outputs": [
    {
     "name": "stdout",
     "output_type": "stream",
     "text": [
      "Channel Islands\n",
      "Curacao\n",
      "Cayman Islands\n",
      "Gibraltar\n",
      "St. Martin (French part)\n",
      "New Caledonia\n",
      "Korea, Dem. People’s Rep.\n",
      "French Polynesia\n",
      "San Marino\n",
      "Somalia\n",
      "Sint Maarten (Dutch part)\n",
      "Syrian Arab Republic\n",
      "Turks and Caicos Islands\n",
      "British Virgin Islands\n"
     ]
    }
   ],
   "source": [
    "for a, b in gdp_missing_countries[0:14]:\n",
    "    print(a)"
   ]
  },
  {
   "cell_type": "code",
   "execution_count": 372,
   "metadata": {
    "scrolled": false
   },
   "outputs": [
    {
     "data": {
      "text/plain": [
       "[('Channel Islands', 57),\n",
       " ('Curacao', 57),\n",
       " ('Cayman Islands', 57),\n",
       " ('Gibraltar', 57),\n",
       " ('St. Martin (French part)', 57),\n",
       " ('New Caledonia', 57),\n",
       " ('Korea, Dem. People’s Rep.', 57),\n",
       " ('French Polynesia', 57),\n",
       " ('San Marino', 57),\n",
       " ('Somalia', 57),\n",
       " ('Sint Maarten (Dutch part)', 57),\n",
       " ('Syrian Arab Republic', 57),\n",
       " ('Turks and Caicos Islands', 57),\n",
       " ('British Virgin Islands', 57),\n",
       " ('Aruba', 56),\n",
       " ('Faroe Islands', 56),\n",
       " ('Liechtenstein', 56),\n",
       " ('Monaco', 56),\n",
       " ('South Sudan', 49),\n",
       " ('Nauru', 47),\n",
       " ('Libya', 44),\n",
       " ('American Samoa', 43),\n",
       " ('Guam', 43),\n",
       " ('Northern Mariana Islands', 43),\n",
       " ('Virgin Islands (U.S.)', 43),\n",
       " ('Afghanistan', 42),\n",
       " ('Maldives', 41),\n",
       " ('Qatar', 40),\n",
       " ('Sao Tome and Principe', 40),\n",
       " ('Timor-Leste', 40),\n",
       " ('Kosovo', 40),\n",
       " ('Eritrea', 37),\n",
       " ('Montenegro', 37),\n",
       " ('Haiti', 36),\n",
       " ('Estonia', 35),\n",
       " ('Croatia', 35),\n",
       " ('Lithuania', 35),\n",
       " ('Latvia', 35),\n",
       " ('Moldova', 35),\n",
       " ('Serbia', 35),\n",
       " ('Slovenia', 35),\n",
       " ('Bosnia and Herzegovina', 34),\n",
       " ('West Bank and Gaza', 34),\n",
       " ('Cambodia', 33),\n",
       " ('Kuwait', 33),\n",
       " ('Slovak Republic', 32),\n",
       " ('Djibouti', 31),\n",
       " ('Hungary', 31),\n",
       " ('Palau', 31),\n",
       " ('Armenia', 30),\n",
       " ('Azerbaijan', 30),\n",
       " ('Belarus', 30),\n",
       " ('Czech Republic', 30),\n",
       " ('Kazakhstan', 30),\n",
       " ('Macedonia, FYR', 30),\n",
       " ('Poland', 30),\n",
       " ('Romania', 30),\n",
       " ('Solomon Islands', 30),\n",
       " ('Tuvalu', 30),\n",
       " ('Yemen, Rep.', 30),\n",
       " ('Russian Federation', 29),\n",
       " ('Lebanon', 28),\n",
       " ('Tanzania', 28),\n",
       " ('Turkmenistan', 27),\n",
       " ('Ukraine', 27),\n",
       " ('Uzbekistan', 27),\n",
       " ('Micronesia, Fed. Sts.', 26),\n",
       " ('Guinea', 26),\n",
       " ('Isle of Man', 26),\n",
       " ('Kyrgyz Republic', 26),\n",
       " ('Angola', 25),\n",
       " ('Tajikistan', 25),\n",
       " ('Lao PDR', 24),\n",
       " ('Vietnam', 24),\n",
       " ('Macao SAR, China', 22),\n",
       " ('Uganda', 22),\n",
       " ('Samoa', 22),\n",
       " ('Bahrain', 21),\n",
       " ('Ethiopia', 21),\n",
       " ('Marshall Islands', 21),\n",
       " ('Mongolia', 21),\n",
       " ('Tonga', 21),\n",
       " ('Albania', 20),\n",
       " ('Bulgaria', 20),\n",
       " ('Barbados', 20),\n",
       " ('Bhutan', 20),\n",
       " ('Switzerland', 20),\n",
       " ('Comoros', 20),\n",
       " ('Cabo Verde', 20),\n",
       " ('Equatorial Guinea', 20),\n",
       " ('Mozambique', 20),\n",
       " ('Namibia', 20),\n",
       " ('Vanuatu', 19),\n",
       " ('Antigua and Barbuda', 17),\n",
       " ('Dominica', 17),\n",
       " ('Grenada', 17),\n",
       " ('St. Kitts and Nevis', 17),\n",
       " ('St. Lucia', 17),\n",
       " ('New Zealand', 17),\n",
       " ('Mauritius', 16),\n",
       " ('United Arab Emirates', 15),\n",
       " ('Cyprus', 15),\n",
       " ('Jordan', 15),\n",
       " ('Suriname', 15),\n",
       " ('Brunei Darussalam', 14),\n",
       " ('Andorra', 13),\n",
       " ('Cuba', 11),\n",
       " ('Greenland', 11),\n",
       " ('Germany', 10),\n",
       " ('Guinea-Bissau', 10),\n",
       " ('Ireland', 10),\n",
       " ('Kiribati', 10),\n",
       " ('Malta', 10),\n",
       " ('Swaziland', 10),\n",
       " ('Iraq', 8),\n",
       " ('Saudi Arabia', 8),\n",
       " ('Mali', 7),\n",
       " ('Gambia, The', 6),\n",
       " ('Jamaica', 6),\n",
       " ('Morocco', 6),\n",
       " ('Oman', 6),\n",
       " ('Georgia', 5),\n",
       " ('El Salvador', 5),\n",
       " ('Tunisia', 5),\n",
       " ('Bermuda', 3),\n",
       " ('Puerto Rico', 3),\n",
       " ('Venezuela, RB', 3),\n",
       " ('Papua New Guinea', 2),\n",
       " ('Hong Kong SAR, China', 1),\n",
       " ('Iran, Islamic Rep.', 1),\n",
       " ('Sri Lanka', 1)]"
      ]
     },
     "execution_count": 372,
     "metadata": {},
     "output_type": "execute_result"
    }
   ],
   "source": [
    "gdp_missing_countries"
   ]
  },
  {
   "cell_type": "code",
   "execution_count": 373,
   "metadata": {},
   "outputs": [
    {
     "data": {
      "text/plain": [
       "10"
      ]
     },
     "execution_count": 373,
     "metadata": {},
     "output_type": "execute_result"
    }
   ],
   "source": [
    "get_missing_num_years_for_country(df_gdp, 'Germany')"
   ]
  },
  {
   "cell_type": "markdown",
   "metadata": {},
   "source": [
    "### get_missing_num_years_for_country(_df, _name)\n",
    "\n",
    "Given dataframe adn country name, return how many missing data points the country has"
   ]
  },
  {
   "cell_type": "code",
   "execution_count": 384,
   "metadata": {},
   "outputs": [
    {
     "data": {
      "text/plain": [
       "10"
      ]
     },
     "execution_count": 384,
     "metadata": {},
     "output_type": "execute_result"
    }
   ],
   "source": [
    "# years only\n",
    "_years = [str(yr) for yr in range(1960, 2017)]\n",
    "\n",
    "get_row_by_country_name(df_gdp, 'Sri Lanka') # missing 1960\n",
    "\n",
    "# Get missing years total for a given country\n",
    "def get_missing_num_years_for_country(_df, _name):\n",
    "    _yrs = [str(yr) for yr in range(1960, 2017)]\n",
    "    return get_row_by_country_name(_df, _name)[_yrs].isnull().sum().value_counts()[1]\n",
    "\n",
    "get_missing_num_years_for_country(df_gdp, 'Somalia')\n",
    "get_missing_num_years_for_country(df_gdp, 'Germany')\n",
    "get_missing_num_years_for_country(df_gdp, 'Ethiopia')\n",
    "get_missing_num_years_for_country(df_gdp, 'Vietnam')\n",
    "get_missing_num_years_for_country(df_gdp, 'Germany')\n"
   ]
  },
  {
   "cell_type": "code",
   "execution_count": 375,
   "metadata": {},
   "outputs": [
    {
     "data": {
      "text/plain": [
       "199   NaN\n",
       "Name: 1988, dtype: float64"
      ]
     },
     "execution_count": 375,
     "metadata": {},
     "output_type": "execute_result"
    }
   ],
   "source": [
    "get_row_by_country_name(df_gdp, 'Germany')['1970'] # missing up to 1969\n",
    "get_row_by_country_name(df_gdp, 'Russian Federation')['1988']"
   ]
  },
  {
   "cell_type": "markdown",
   "metadata": {},
   "source": [
    "### get_max_countries(_df, _n, _yr):\n",
    "\n",
    "given dataframe, number wanted and specific string, year, return largest values for that given year"
   ]
  },
  {
   "cell_type": "code",
   "execution_count": 376,
   "metadata": {},
   "outputs": [
    {
     "data": {
      "text/html": [
       "<div>\n",
       "<style>\n",
       "    .dataframe thead tr:only-child th {\n",
       "        text-align: right;\n",
       "    }\n",
       "\n",
       "    .dataframe thead th {\n",
       "        text-align: left;\n",
       "    }\n",
       "\n",
       "    .dataframe tbody tr th {\n",
       "        vertical-align: top;\n",
       "    }\n",
       "</style>\n",
       "<table border=\"1\" class=\"dataframe\">\n",
       "  <thead>\n",
       "    <tr style=\"text-align: right;\">\n",
       "      <th></th>\n",
       "      <th>Country Name</th>\n",
       "      <th>Country Code</th>\n",
       "      <th>1960</th>\n",
       "      <th>1961</th>\n",
       "      <th>1962</th>\n",
       "      <th>1963</th>\n",
       "      <th>1964</th>\n",
       "      <th>1965</th>\n",
       "      <th>1966</th>\n",
       "      <th>1967</th>\n",
       "      <th>...</th>\n",
       "      <th>2007</th>\n",
       "      <th>2008</th>\n",
       "      <th>2009</th>\n",
       "      <th>2010</th>\n",
       "      <th>2011</th>\n",
       "      <th>2012</th>\n",
       "      <th>2013</th>\n",
       "      <th>2014</th>\n",
       "      <th>2015</th>\n",
       "      <th>2016</th>\n",
       "    </tr>\n",
       "  </thead>\n",
       "  <tbody>\n",
       "    <tr>\n",
       "      <th>248</th>\n",
       "      <td>United States</td>\n",
       "      <td>USA</td>\n",
       "      <td>3.078071e+12</td>\n",
       "      <td>3.148867e+12</td>\n",
       "      <td>3.340948e+12</td>\n",
       "      <td>3.487949e+12</td>\n",
       "      <td>3.690250e+12</td>\n",
       "      <td>3.926426e+12</td>\n",
       "      <td>4.181644e+12</td>\n",
       "      <td>4.286185e+12</td>\n",
       "      <td>...</td>\n",
       "      <td>1.505540e+13</td>\n",
       "      <td>1.501149e+13</td>\n",
       "      <td>1.459484e+13</td>\n",
       "      <td>1.496437e+13</td>\n",
       "      <td>1.520402e+13</td>\n",
       "      <td>1.554216e+13</td>\n",
       "      <td>1.580286e+13</td>\n",
       "      <td>1.617746e+13</td>\n",
       "      <td>1.659745e+13</td>\n",
       "      <td>1.686560e+13</td>\n",
       "    </tr>\n",
       "    <tr>\n",
       "      <th>38</th>\n",
       "      <td>China</td>\n",
       "      <td>CHN</td>\n",
       "      <td>1.279381e+11</td>\n",
       "      <td>9.304941e+10</td>\n",
       "      <td>8.785725e+10</td>\n",
       "      <td>9.690655e+10</td>\n",
       "      <td>1.145242e+11</td>\n",
       "      <td>1.339360e+11</td>\n",
       "      <td>1.482002e+11</td>\n",
       "      <td>1.396490e+11</td>\n",
       "      <td>...</td>\n",
       "      <td>4.596580e+12</td>\n",
       "      <td>5.040347e+12</td>\n",
       "      <td>5.514130e+12</td>\n",
       "      <td>6.100620e+12</td>\n",
       "      <td>6.682403e+12</td>\n",
       "      <td>7.207390e+12</td>\n",
       "      <td>7.766513e+12</td>\n",
       "      <td>8.333287e+12</td>\n",
       "      <td>8.908301e+12</td>\n",
       "      <td>9.505157e+12</td>\n",
       "    </tr>\n",
       "    <tr>\n",
       "      <th>116</th>\n",
       "      <td>Japan</td>\n",
       "      <td>JPN</td>\n",
       "      <td>7.962132e+11</td>\n",
       "      <td>8.921054e+11</td>\n",
       "      <td>9.715829e+11</td>\n",
       "      <td>1.053911e+12</td>\n",
       "      <td>1.176973e+12</td>\n",
       "      <td>1.245470e+12</td>\n",
       "      <td>1.377970e+12</td>\n",
       "      <td>1.530679e+12</td>\n",
       "      <td>...</td>\n",
       "      <td>5.848026e+12</td>\n",
       "      <td>5.784079e+12</td>\n",
       "      <td>5.470749e+12</td>\n",
       "      <td>5.700098e+12</td>\n",
       "      <td>5.693517e+12</td>\n",
       "      <td>5.778636e+12</td>\n",
       "      <td>5.894237e+12</td>\n",
       "      <td>5.914022e+12</td>\n",
       "      <td>5.986140e+12</td>\n",
       "      <td>6.045913e+12</td>\n",
       "    </tr>\n",
       "    <tr>\n",
       "      <th>53</th>\n",
       "      <td>Germany</td>\n",
       "      <td>DEU</td>\n",
       "      <td>NaN</td>\n",
       "      <td>NaN</td>\n",
       "      <td>NaN</td>\n",
       "      <td>NaN</td>\n",
       "      <td>NaN</td>\n",
       "      <td>NaN</td>\n",
       "      <td>NaN</td>\n",
       "      <td>NaN</td>\n",
       "      <td>...</td>\n",
       "      <td>3.441356e+12</td>\n",
       "      <td>3.478602e+12</td>\n",
       "      <td>3.283144e+12</td>\n",
       "      <td>3.417095e+12</td>\n",
       "      <td>3.542160e+12</td>\n",
       "      <td>3.559587e+12</td>\n",
       "      <td>3.577015e+12</td>\n",
       "      <td>3.634080e+12</td>\n",
       "      <td>3.696613e+12</td>\n",
       "      <td>3.765638e+12</td>\n",
       "    </tr>\n",
       "    <tr>\n",
       "      <th>75</th>\n",
       "      <td>France</td>\n",
       "      <td>FRA</td>\n",
       "      <td>6.081763e+11</td>\n",
       "      <td>6.416641e+11</td>\n",
       "      <td>6.844771e+11</td>\n",
       "      <td>7.210773e+11</td>\n",
       "      <td>7.680795e+11</td>\n",
       "      <td>8.047786e+11</td>\n",
       "      <td>8.467398e+11</td>\n",
       "      <td>8.864364e+11</td>\n",
       "      <td>...</td>\n",
       "      <td>2.669265e+12</td>\n",
       "      <td>2.674478e+12</td>\n",
       "      <td>2.595812e+12</td>\n",
       "      <td>2.646837e+12</td>\n",
       "      <td>2.701871e+12</td>\n",
       "      <td>2.706807e+12</td>\n",
       "      <td>2.722405e+12</td>\n",
       "      <td>2.748202e+12</td>\n",
       "      <td>2.777538e+12</td>\n",
       "      <td>2.810525e+12</td>\n",
       "    </tr>\n",
       "    <tr>\n",
       "      <th>79</th>\n",
       "      <td>United Kingdom</td>\n",
       "      <td>GBR</td>\n",
       "      <td>7.267386e+11</td>\n",
       "      <td>7.454417e+11</td>\n",
       "      <td>7.553411e+11</td>\n",
       "      <td>7.852243e+11</td>\n",
       "      <td>8.247861e+11</td>\n",
       "      <td>8.477892e+11</td>\n",
       "      <td>8.651630e+11</td>\n",
       "      <td>8.851566e+11</td>\n",
       "      <td>...</td>\n",
       "      <td>2.507592e+12</td>\n",
       "      <td>2.491864e+12</td>\n",
       "      <td>2.384023e+12</td>\n",
       "      <td>2.429680e+12</td>\n",
       "      <td>2.466346e+12</td>\n",
       "      <td>2.498729e+12</td>\n",
       "      <td>2.546482e+12</td>\n",
       "      <td>2.624671e+12</td>\n",
       "      <td>2.682263e+12</td>\n",
       "      <td>2.730705e+12</td>\n",
       "    </tr>\n",
       "    <tr>\n",
       "      <th>107</th>\n",
       "      <td>India</td>\n",
       "      <td>IND</td>\n",
       "      <td>1.367463e+11</td>\n",
       "      <td>1.418371e+11</td>\n",
       "      <td>1.459945e+11</td>\n",
       "      <td>1.547459e+11</td>\n",
       "      <td>1.662790e+11</td>\n",
       "      <td>1.618963e+11</td>\n",
       "      <td>1.618067e+11</td>\n",
       "      <td>1.744697e+11</td>\n",
       "      <td>...</td>\n",
       "      <td>1.333146e+12</td>\n",
       "      <td>1.385018e+12</td>\n",
       "      <td>1.502465e+12</td>\n",
       "      <td>1.656617e+12</td>\n",
       "      <td>1.766589e+12</td>\n",
       "      <td>1.862981e+12</td>\n",
       "      <td>1.981953e+12</td>\n",
       "      <td>2.130703e+12</td>\n",
       "      <td>2.301374e+12</td>\n",
       "      <td>2.464933e+12</td>\n",
       "    </tr>\n",
       "    <tr>\n",
       "      <th>27</th>\n",
       "      <td>Brazil</td>\n",
       "      <td>BRA</td>\n",
       "      <td>2.473107e+11</td>\n",
       "      <td>2.727241e+11</td>\n",
       "      <td>2.869495e+11</td>\n",
       "      <td>2.894594e+11</td>\n",
       "      <td>2.995488e+11</td>\n",
       "      <td>3.086954e+11</td>\n",
       "      <td>3.215074e+11</td>\n",
       "      <td>3.373104e+11</td>\n",
       "      <td>...</td>\n",
       "      <td>1.957112e+12</td>\n",
       "      <td>2.056814e+12</td>\n",
       "      <td>2.054225e+12</td>\n",
       "      <td>2.208872e+12</td>\n",
       "      <td>2.296662e+12</td>\n",
       "      <td>2.340784e+12</td>\n",
       "      <td>2.411121e+12</td>\n",
       "      <td>2.423272e+12</td>\n",
       "      <td>2.331933e+12</td>\n",
       "      <td>2.248106e+12</td>\n",
       "    </tr>\n",
       "    <tr>\n",
       "      <th>113</th>\n",
       "      <td>Italy</td>\n",
       "      <td>ITA</td>\n",
       "      <td>5.455555e+11</td>\n",
       "      <td>5.903305e+11</td>\n",
       "      <td>6.269526e+11</td>\n",
       "      <td>6.621229e+11</td>\n",
       "      <td>6.806471e+11</td>\n",
       "      <td>7.028908e+11</td>\n",
       "      <td>7.449574e+11</td>\n",
       "      <td>7.984350e+11</td>\n",
       "      <td>...</td>\n",
       "      <td>2.234494e+12</td>\n",
       "      <td>2.211023e+12</td>\n",
       "      <td>2.089813e+12</td>\n",
       "      <td>2.125058e+12</td>\n",
       "      <td>2.137312e+12</td>\n",
       "      <td>2.077061e+12</td>\n",
       "      <td>2.041166e+12</td>\n",
       "      <td>2.043486e+12</td>\n",
       "      <td>2.059491e+12</td>\n",
       "      <td>2.077613e+12</td>\n",
       "    </tr>\n",
       "    <tr>\n",
       "      <th>33</th>\n",
       "      <td>Canada</td>\n",
       "      <td>CAN</td>\n",
       "      <td>3.163484e+11</td>\n",
       "      <td>3.263554e+11</td>\n",
       "      <td>3.495814e+11</td>\n",
       "      <td>3.676959e+11</td>\n",
       "      <td>3.923296e+11</td>\n",
       "      <td>4.183667e+11</td>\n",
       "      <td>4.459160e+11</td>\n",
       "      <td>4.589158e+11</td>\n",
       "      <td>...</td>\n",
       "      <td>1.596798e+12</td>\n",
       "      <td>1.612771e+12</td>\n",
       "      <td>1.565201e+12</td>\n",
       "      <td>1.613464e+12</td>\n",
       "      <td>1.664147e+12</td>\n",
       "      <td>1.693194e+12</td>\n",
       "      <td>1.735101e+12</td>\n",
       "      <td>1.779611e+12</td>\n",
       "      <td>1.796369e+12</td>\n",
       "      <td>1.822736e+12</td>\n",
       "    </tr>\n",
       "    <tr>\n",
       "      <th>199</th>\n",
       "      <td>Russian Federation</td>\n",
       "      <td>RUS</td>\n",
       "      <td>NaN</td>\n",
       "      <td>NaN</td>\n",
       "      <td>NaN</td>\n",
       "      <td>NaN</td>\n",
       "      <td>NaN</td>\n",
       "      <td>NaN</td>\n",
       "      <td>NaN</td>\n",
       "      <td>NaN</td>\n",
       "      <td>...</td>\n",
       "      <td>1.504070e+12</td>\n",
       "      <td>1.583003e+12</td>\n",
       "      <td>1.459198e+12</td>\n",
       "      <td>1.524916e+12</td>\n",
       "      <td>1.589941e+12</td>\n",
       "      <td>1.645874e+12</td>\n",
       "      <td>1.666933e+12</td>\n",
       "      <td>1.679126e+12</td>\n",
       "      <td>1.631636e+12</td>\n",
       "      <td>1.627966e+12</td>\n",
       "    </tr>\n",
       "    <tr>\n",
       "      <th>68</th>\n",
       "      <td>Spain</td>\n",
       "      <td>ESP</td>\n",
       "      <td>2.241475e+11</td>\n",
       "      <td>2.506836e+11</td>\n",
       "      <td>2.756352e+11</td>\n",
       "      <td>3.020866e+11</td>\n",
       "      <td>3.181229e+11</td>\n",
       "      <td>3.380155e+11</td>\n",
       "      <td>3.625083e+11</td>\n",
       "      <td>3.782424e+11</td>\n",
       "      <td>...</td>\n",
       "      <td>1.468058e+12</td>\n",
       "      <td>1.484441e+12</td>\n",
       "      <td>1.431390e+12</td>\n",
       "      <td>1.431588e+12</td>\n",
       "      <td>1.417271e+12</td>\n",
       "      <td>1.375747e+12</td>\n",
       "      <td>1.352278e+12</td>\n",
       "      <td>1.370926e+12</td>\n",
       "      <td>1.414860e+12</td>\n",
       "      <td>1.460642e+12</td>\n",
       "    </tr>\n",
       "    <tr>\n",
       "      <th>11</th>\n",
       "      <td>Australia</td>\n",
       "      <td>AUS</td>\n",
       "      <td>1.984033e+11</td>\n",
       "      <td>2.033138e+11</td>\n",
       "      <td>2.060111e+11</td>\n",
       "      <td>2.188105e+11</td>\n",
       "      <td>2.340736e+11</td>\n",
       "      <td>2.480676e+11</td>\n",
       "      <td>2.539335e+11</td>\n",
       "      <td>2.699256e+11</td>\n",
       "      <td>...</td>\n",
       "      <td>1.061218e+12</td>\n",
       "      <td>1.100463e+12</td>\n",
       "      <td>1.120403e+12</td>\n",
       "      <td>1.142877e+12</td>\n",
       "      <td>1.169995e+12</td>\n",
       "      <td>1.212516e+12</td>\n",
       "      <td>1.243676e+12</td>\n",
       "      <td>1.276129e+12</td>\n",
       "      <td>1.307032e+12</td>\n",
       "      <td>1.343181e+12</td>\n",
       "    </tr>\n",
       "    <tr>\n",
       "      <th>123</th>\n",
       "      <td>Korea, Rep.</td>\n",
       "      <td>KOR</td>\n",
       "      <td>2.361900e+10</td>\n",
       "      <td>2.524455e+10</td>\n",
       "      <td>2.621367e+10</td>\n",
       "      <td>2.862281e+10</td>\n",
       "      <td>3.133034e+10</td>\n",
       "      <td>3.358101e+10</td>\n",
       "      <td>3.760520e+10</td>\n",
       "      <td>4.103363e+10</td>\n",
       "      <td>...</td>\n",
       "      <td>9.924315e+11</td>\n",
       "      <td>1.020510e+12</td>\n",
       "      <td>1.027730e+12</td>\n",
       "      <td>1.094499e+12</td>\n",
       "      <td>1.134795e+12</td>\n",
       "      <td>1.160809e+12</td>\n",
       "      <td>1.194429e+12</td>\n",
       "      <td>1.234340e+12</td>\n",
       "      <td>1.268781e+12</td>\n",
       "      <td>1.304659e+12</td>\n",
       "    </tr>\n",
       "    <tr>\n",
       "      <th>151</th>\n",
       "      <td>Mexico</td>\n",
       "      <td>MEX</td>\n",
       "      <td>1.407249e+11</td>\n",
       "      <td>1.477611e+11</td>\n",
       "      <td>1.546533e+11</td>\n",
       "      <td>1.671909e+11</td>\n",
       "      <td>1.870957e+11</td>\n",
       "      <td>2.003795e+11</td>\n",
       "      <td>2.125949e+11</td>\n",
       "      <td>2.250422e+11</td>\n",
       "      <td>...</td>\n",
       "      <td>1.034857e+12</td>\n",
       "      <td>1.049348e+12</td>\n",
       "      <td>1.000025e+12</td>\n",
       "      <td>1.051129e+12</td>\n",
       "      <td>1.093643e+12</td>\n",
       "      <td>1.137587e+12</td>\n",
       "      <td>1.153059e+12</td>\n",
       "      <td>1.179180e+12</td>\n",
       "      <td>1.210185e+12</td>\n",
       "      <td>1.238052e+12</td>\n",
       "    </tr>\n",
       "  </tbody>\n",
       "</table>\n",
       "<p>15 rows × 59 columns</p>\n",
       "</div>"
      ],
      "text/plain": [
       "           Country Name Country Code          1960          1961  \\\n",
       "248       United States          USA  3.078071e+12  3.148867e+12   \n",
       "38                China          CHN  1.279381e+11  9.304941e+10   \n",
       "116               Japan          JPN  7.962132e+11  8.921054e+11   \n",
       "53              Germany          DEU           NaN           NaN   \n",
       "75               France          FRA  6.081763e+11  6.416641e+11   \n",
       "79       United Kingdom          GBR  7.267386e+11  7.454417e+11   \n",
       "107               India          IND  1.367463e+11  1.418371e+11   \n",
       "27               Brazil          BRA  2.473107e+11  2.727241e+11   \n",
       "113               Italy          ITA  5.455555e+11  5.903305e+11   \n",
       "33               Canada          CAN  3.163484e+11  3.263554e+11   \n",
       "199  Russian Federation          RUS           NaN           NaN   \n",
       "68                Spain          ESP  2.241475e+11  2.506836e+11   \n",
       "11            Australia          AUS  1.984033e+11  2.033138e+11   \n",
       "123         Korea, Rep.          KOR  2.361900e+10  2.524455e+10   \n",
       "151              Mexico          MEX  1.407249e+11  1.477611e+11   \n",
       "\n",
       "             1962          1963          1964          1965          1966  \\\n",
       "248  3.340948e+12  3.487949e+12  3.690250e+12  3.926426e+12  4.181644e+12   \n",
       "38   8.785725e+10  9.690655e+10  1.145242e+11  1.339360e+11  1.482002e+11   \n",
       "116  9.715829e+11  1.053911e+12  1.176973e+12  1.245470e+12  1.377970e+12   \n",
       "53            NaN           NaN           NaN           NaN           NaN   \n",
       "75   6.844771e+11  7.210773e+11  7.680795e+11  8.047786e+11  8.467398e+11   \n",
       "79   7.553411e+11  7.852243e+11  8.247861e+11  8.477892e+11  8.651630e+11   \n",
       "107  1.459945e+11  1.547459e+11  1.662790e+11  1.618963e+11  1.618067e+11   \n",
       "27   2.869495e+11  2.894594e+11  2.995488e+11  3.086954e+11  3.215074e+11   \n",
       "113  6.269526e+11  6.621229e+11  6.806471e+11  7.028908e+11  7.449574e+11   \n",
       "33   3.495814e+11  3.676959e+11  3.923296e+11  4.183667e+11  4.459160e+11   \n",
       "199           NaN           NaN           NaN           NaN           NaN   \n",
       "68   2.756352e+11  3.020866e+11  3.181229e+11  3.380155e+11  3.625083e+11   \n",
       "11   2.060111e+11  2.188105e+11  2.340736e+11  2.480676e+11  2.539335e+11   \n",
       "123  2.621367e+10  2.862281e+10  3.133034e+10  3.358101e+10  3.760520e+10   \n",
       "151  1.546533e+11  1.671909e+11  1.870957e+11  2.003795e+11  2.125949e+11   \n",
       "\n",
       "             1967      ...               2007          2008          2009  \\\n",
       "248  4.286185e+12      ...       1.505540e+13  1.501149e+13  1.459484e+13   \n",
       "38   1.396490e+11      ...       4.596580e+12  5.040347e+12  5.514130e+12   \n",
       "116  1.530679e+12      ...       5.848026e+12  5.784079e+12  5.470749e+12   \n",
       "53            NaN      ...       3.441356e+12  3.478602e+12  3.283144e+12   \n",
       "75   8.864364e+11      ...       2.669265e+12  2.674478e+12  2.595812e+12   \n",
       "79   8.851566e+11      ...       2.507592e+12  2.491864e+12  2.384023e+12   \n",
       "107  1.744697e+11      ...       1.333146e+12  1.385018e+12  1.502465e+12   \n",
       "27   3.373104e+11      ...       1.957112e+12  2.056814e+12  2.054225e+12   \n",
       "113  7.984350e+11      ...       2.234494e+12  2.211023e+12  2.089813e+12   \n",
       "33   4.589158e+11      ...       1.596798e+12  1.612771e+12  1.565201e+12   \n",
       "199           NaN      ...       1.504070e+12  1.583003e+12  1.459198e+12   \n",
       "68   3.782424e+11      ...       1.468058e+12  1.484441e+12  1.431390e+12   \n",
       "11   2.699256e+11      ...       1.061218e+12  1.100463e+12  1.120403e+12   \n",
       "123  4.103363e+10      ...       9.924315e+11  1.020510e+12  1.027730e+12   \n",
       "151  2.250422e+11      ...       1.034857e+12  1.049348e+12  1.000025e+12   \n",
       "\n",
       "             2010          2011          2012          2013          2014  \\\n",
       "248  1.496437e+13  1.520402e+13  1.554216e+13  1.580286e+13  1.617746e+13   \n",
       "38   6.100620e+12  6.682403e+12  7.207390e+12  7.766513e+12  8.333287e+12   \n",
       "116  5.700098e+12  5.693517e+12  5.778636e+12  5.894237e+12  5.914022e+12   \n",
       "53   3.417095e+12  3.542160e+12  3.559587e+12  3.577015e+12  3.634080e+12   \n",
       "75   2.646837e+12  2.701871e+12  2.706807e+12  2.722405e+12  2.748202e+12   \n",
       "79   2.429680e+12  2.466346e+12  2.498729e+12  2.546482e+12  2.624671e+12   \n",
       "107  1.656617e+12  1.766589e+12  1.862981e+12  1.981953e+12  2.130703e+12   \n",
       "27   2.208872e+12  2.296662e+12  2.340784e+12  2.411121e+12  2.423272e+12   \n",
       "113  2.125058e+12  2.137312e+12  2.077061e+12  2.041166e+12  2.043486e+12   \n",
       "33   1.613464e+12  1.664147e+12  1.693194e+12  1.735101e+12  1.779611e+12   \n",
       "199  1.524916e+12  1.589941e+12  1.645874e+12  1.666933e+12  1.679126e+12   \n",
       "68   1.431588e+12  1.417271e+12  1.375747e+12  1.352278e+12  1.370926e+12   \n",
       "11   1.142877e+12  1.169995e+12  1.212516e+12  1.243676e+12  1.276129e+12   \n",
       "123  1.094499e+12  1.134795e+12  1.160809e+12  1.194429e+12  1.234340e+12   \n",
       "151  1.051129e+12  1.093643e+12  1.137587e+12  1.153059e+12  1.179180e+12   \n",
       "\n",
       "             2015          2016  \n",
       "248  1.659745e+13  1.686560e+13  \n",
       "38   8.908301e+12  9.505157e+12  \n",
       "116  5.986140e+12  6.045913e+12  \n",
       "53   3.696613e+12  3.765638e+12  \n",
       "75   2.777538e+12  2.810525e+12  \n",
       "79   2.682263e+12  2.730705e+12  \n",
       "107  2.301374e+12  2.464933e+12  \n",
       "27   2.331933e+12  2.248106e+12  \n",
       "113  2.059491e+12  2.077613e+12  \n",
       "33   1.796369e+12  1.822736e+12  \n",
       "199  1.631636e+12  1.627966e+12  \n",
       "68   1.414860e+12  1.460642e+12  \n",
       "11   1.307032e+12  1.343181e+12  \n",
       "123  1.268781e+12  1.304659e+12  \n",
       "151  1.210185e+12  1.238052e+12  \n",
       "\n",
       "[15 rows x 59 columns]"
      ]
     },
     "execution_count": 376,
     "metadata": {},
     "output_type": "execute_result"
    }
   ],
   "source": [
    "def get_max_countries(_df, _n, _yr):\n",
    "    return _df.nlargest(_n, _yr)\n",
    "\n",
    "get_max_countries(df_gdp, 15, '2016')"
   ]
  },
  {
   "cell_type": "code",
   "execution_count": 377,
   "metadata": {},
   "outputs": [],
   "source": [
    "col_years = [str(yr) for yr in range(1960, 2017)]\n",
    "# defined as _years elsewhere (I think below..)\n",
    "# better to keep same definition but different use cases separate\n"
   ]
  },
  {
   "cell_type": "code",
   "execution_count": 378,
   "metadata": {},
   "outputs": [],
   "source": [
    "top_15_gdp = get_max_countries(df_gdp, 15, '2016')\n",
    "top_15_pop = get_max_countries(df_pop, 15, '2016')\n",
    "top_15_pop_old = get_max_countries(df_pop, 10, '1980')\n",
    "top_15_gdp_old = get_max_countries(df_gdp, 10, '1980')\n",
    "top_15_gdp_all_time = df_gdp.nlargest(15, col_years) # top 5 gdp of any years\n",
    "top_15_gdp.head(3)\n",
    "top_30_pop_all_time = df_pop.nlargest(15, col_years)\n",
    "top_20_gdp_all_time = df_gdp.nlargest(20, col_years)\n",
    "top_30_gdp_all_time = df_gdp.nlargest(30, col_years)\n",
    "top_50_gdp_now = get_max_countries(df_pop, 50, '2016')\n",
    "\n",
    "top_20_pop_now = get_max_countries(df_pop, 20, '2016')\n",
    "top_50_pop_now = get_max_countries(df_pop, 50, '2016')"
   ]
  },
  {
   "cell_type": "code",
   "execution_count": 379,
   "metadata": {},
   "outputs": [],
   "source": [
    "#gdp_missing_countries"
   ]
  },
  {
   "cell_type": "code",
   "execution_count": 380,
   "metadata": {},
   "outputs": [
    {
     "name": "stdout",
     "output_type": "stream",
     "text": [
      "['Russian Federation', 'Ethiopia', 'Vietnam', 'Germany', 'Iran, Islamic Rep.', 'Tanzania', 'Ukraine', 'Uganda', 'Poland', 'Iraq', 'Morocco', 'Afghanistan', 'Saudi Arabia', 'Uzbekistan', 'Venezuela, RB', 'Mozambique', 'Angola', 'Yemen, Rep.']\n"
     ]
    }
   ],
   "source": [
    "countries_with_nan_set = set([name for (name, num_missing) in gdp_missing_countries])\n",
    "\n",
    "# not working\n",
    "#is_country_in_nan_set = lambda _df: [print(row['Country Name']) for row in _df.iterrows() if row['Country Name']  \n",
    "#                                     in countries_with_nan_set]\n",
    "\n",
    "def is_country_in_nan_set(_df):\n",
    "    _countries_in_nan_set = []\n",
    "    for _i, country_row in _df.iterrows():\n",
    "        _name = country_row['Country Name']\n",
    "        if country_row['Country Name'] in countries_with_nan_set:\n",
    "            _countries_in_nan_set.append(_name)\n",
    "    return _countries_in_nan_set\n",
    "\n",
    "\n",
    "#print(is_country_in_nan_set(top_15_gdp_all_time)) # none\n",
    "#print(is_country_in_nan_set(top_15_gdp)) # Germany, Russian Federation\n",
    "#print(is_country_in_nan_set(top_15_pop)) # Russian Federation, Ethiopia, Vietnma\n",
    "#print(is_country_in_nan_set(top_20_gdp_all_time)) # Venezuela, RB\n",
    "#print(is_country_in_nan_set(top_20_pop_now)) # 'Russian Federation', 'Ethiopia', 'Vietnam', 'Germany', 'Iran, Islamic Rep.'\n",
    "\n",
    "print(is_country_in_nan_set(top_50_pop_now)) # Russian Federation, Germany, Ukraine\n",
    "\n",
    "\n",
    "#get_missing_num_years_for_country(df_gdp, 'Ethiopia') #36\n",
    "\n"
   ]
  },
  {
   "cell_type": "code",
   "execution_count": 383,
   "metadata": {},
   "outputs": [
    {
     "ename": "KeyError",
     "evalue": "1.0",
     "output_type": "error",
     "traceback": [
      "\u001b[0;31m---------------------------------------------------------------------------\u001b[0m",
      "\u001b[0;31mKeyError\u001b[0m                                  Traceback (most recent call last)",
      "\u001b[0;32m~/miniconda/envs/rhg/lib/python3.6/site-packages/pandas/core/indexes/base.py\u001b[0m in \u001b[0;36mget_loc\u001b[0;34m(self, key, method, tolerance)\u001b[0m\n\u001b[1;32m   2441\u001b[0m             \u001b[0;32mtry\u001b[0m\u001b[0;34m:\u001b[0m\u001b[0;34m\u001b[0m\u001b[0m\n\u001b[0;32m-> 2442\u001b[0;31m                 \u001b[0;32mreturn\u001b[0m \u001b[0mself\u001b[0m\u001b[0;34m.\u001b[0m\u001b[0m_engine\u001b[0m\u001b[0;34m.\u001b[0m\u001b[0mget_loc\u001b[0m\u001b[0;34m(\u001b[0m\u001b[0mkey\u001b[0m\u001b[0;34m)\u001b[0m\u001b[0;34m\u001b[0m\u001b[0m\n\u001b[0m\u001b[1;32m   2443\u001b[0m             \u001b[0;32mexcept\u001b[0m \u001b[0mKeyError\u001b[0m\u001b[0;34m:\u001b[0m\u001b[0;34m\u001b[0m\u001b[0m\n",
      "\u001b[0;32mpandas/_libs/index.pyx\u001b[0m in \u001b[0;36mpandas._libs.index.IndexEngine.get_loc\u001b[0;34m()\u001b[0m\n",
      "\u001b[0;32mpandas/_libs/index.pyx\u001b[0m in \u001b[0;36mpandas._libs.index.IndexEngine.get_loc\u001b[0;34m()\u001b[0m\n",
      "\u001b[0;32mpandas/_libs/hashtable_class_helper.pxi\u001b[0m in \u001b[0;36mpandas._libs.hashtable.Float64HashTable.get_item\u001b[0;34m()\u001b[0m\n",
      "\u001b[0;32mpandas/_libs/hashtable_class_helper.pxi\u001b[0m in \u001b[0;36mpandas._libs.hashtable.Float64HashTable.get_item\u001b[0;34m()\u001b[0m\n",
      "\u001b[0;31mKeyError\u001b[0m: 1.0",
      "\nDuring handling of the above exception, another exception occurred:\n",
      "\u001b[0;31mKeyError\u001b[0m                                  Traceback (most recent call last)",
      "\u001b[0;32m<ipython-input-383-e0c19da0cddb>\u001b[0m in \u001b[0;36m<module>\u001b[0;34m()\u001b[0m\n\u001b[1;32m      1\u001b[0m \u001b[0mget_missing_num_years_for_country\u001b[0m\u001b[0;34m(\u001b[0m\u001b[0mdf_gdp\u001b[0m\u001b[0;34m,\u001b[0m \u001b[0;34m'Russian Federation'\u001b[0m\u001b[0;34m)\u001b[0m \u001b[0;31m# 28 data from 1989\u001b[0m\u001b[0;34m\u001b[0m\u001b[0m\n\u001b[1;32m      2\u001b[0m \u001b[0mget_missing_num_years_for_country\u001b[0m\u001b[0;34m(\u001b[0m\u001b[0mdf_gdp\u001b[0m\u001b[0;34m,\u001b[0m \u001b[0;34m'Vietnam'\u001b[0m\u001b[0;34m)\u001b[0m \u001b[0;31m# 33\u001b[0m\u001b[0;34m\u001b[0m\u001b[0m\n\u001b[0;32m----> 3\u001b[0;31m \u001b[0mget_missing_num_years_for_country\u001b[0m\u001b[0;34m(\u001b[0m\u001b[0mdf_gdp\u001b[0m\u001b[0;34m,\u001b[0m \u001b[0;34m'Iran'\u001b[0m\u001b[0;34m)\u001b[0m \u001b[0;31m# 33\u001b[0m\u001b[0;34m\u001b[0m\u001b[0m\n\u001b[0m\u001b[1;32m      4\u001b[0m \u001b[0mdf_gdp\u001b[0m\u001b[0;34m[\u001b[0m\u001b[0mdf_gdp\u001b[0m\u001b[0;34m[\u001b[0m\u001b[0;34m'Country Name'\u001b[0m\u001b[0;34m]\u001b[0m\u001b[0;34m==\u001b[0m \u001b[0;34m'Ukraine'\u001b[0m\u001b[0;34m]\u001b[0m  \u001b[0;31m# no data until 1987\u001b[0m\u001b[0;34m\u001b[0m\u001b[0m\n",
      "\u001b[0;32m<ipython-input-374-79008e7bd22b>\u001b[0m in \u001b[0;36mget_missing_num_years_for_country\u001b[0;34m(_df, _name)\u001b[0m\n\u001b[1;32m      7\u001b[0m \u001b[0;32mdef\u001b[0m \u001b[0mget_missing_num_years_for_country\u001b[0m\u001b[0;34m(\u001b[0m\u001b[0m_df\u001b[0m\u001b[0;34m,\u001b[0m \u001b[0m_name\u001b[0m\u001b[0;34m)\u001b[0m\u001b[0;34m:\u001b[0m\u001b[0;34m\u001b[0m\u001b[0m\n\u001b[1;32m      8\u001b[0m     \u001b[0m_yrs\u001b[0m \u001b[0;34m=\u001b[0m \u001b[0;34m[\u001b[0m\u001b[0mstr\u001b[0m\u001b[0;34m(\u001b[0m\u001b[0myr\u001b[0m\u001b[0;34m)\u001b[0m \u001b[0;32mfor\u001b[0m \u001b[0myr\u001b[0m \u001b[0;32min\u001b[0m \u001b[0mrange\u001b[0m\u001b[0;34m(\u001b[0m\u001b[0;36m1960\u001b[0m\u001b[0;34m,\u001b[0m \u001b[0;36m2017\u001b[0m\u001b[0;34m)\u001b[0m\u001b[0;34m]\u001b[0m\u001b[0;34m\u001b[0m\u001b[0m\n\u001b[0;32m----> 9\u001b[0;31m     \u001b[0;32mreturn\u001b[0m \u001b[0mget_row_by_country_name\u001b[0m\u001b[0;34m(\u001b[0m\u001b[0m_df\u001b[0m\u001b[0;34m,\u001b[0m \u001b[0m_name\u001b[0m\u001b[0;34m)\u001b[0m\u001b[0;34m[\u001b[0m\u001b[0m_yrs\u001b[0m\u001b[0;34m]\u001b[0m\u001b[0;34m.\u001b[0m\u001b[0misnull\u001b[0m\u001b[0;34m(\u001b[0m\u001b[0;34m)\u001b[0m\u001b[0;34m.\u001b[0m\u001b[0msum\u001b[0m\u001b[0;34m(\u001b[0m\u001b[0;34m)\u001b[0m\u001b[0;34m.\u001b[0m\u001b[0mvalue_counts\u001b[0m\u001b[0;34m(\u001b[0m\u001b[0;34m)\u001b[0m\u001b[0;34m[\u001b[0m\u001b[0;36m1\u001b[0m\u001b[0;34m]\u001b[0m\u001b[0;34m\u001b[0m\u001b[0m\n\u001b[0m\u001b[1;32m     10\u001b[0m \u001b[0;34m\u001b[0m\u001b[0m\n\u001b[1;32m     11\u001b[0m \u001b[0mget_missing_num_years_for_country\u001b[0m\u001b[0;34m(\u001b[0m\u001b[0mdf_gdp\u001b[0m\u001b[0;34m,\u001b[0m \u001b[0;34m'Somalia'\u001b[0m\u001b[0;34m)\u001b[0m\u001b[0;34m\u001b[0m\u001b[0m\n",
      "\u001b[0;32m~/miniconda/envs/rhg/lib/python3.6/site-packages/pandas/core/series.py\u001b[0m in \u001b[0;36m__getitem__\u001b[0;34m(self, key)\u001b[0m\n\u001b[1;32m    599\u001b[0m         \u001b[0mkey\u001b[0m \u001b[0;34m=\u001b[0m \u001b[0mcom\u001b[0m\u001b[0;34m.\u001b[0m\u001b[0m_apply_if_callable\u001b[0m\u001b[0;34m(\u001b[0m\u001b[0mkey\u001b[0m\u001b[0;34m,\u001b[0m \u001b[0mself\u001b[0m\u001b[0;34m)\u001b[0m\u001b[0;34m\u001b[0m\u001b[0m\n\u001b[1;32m    600\u001b[0m         \u001b[0;32mtry\u001b[0m\u001b[0;34m:\u001b[0m\u001b[0;34m\u001b[0m\u001b[0m\n\u001b[0;32m--> 601\u001b[0;31m             \u001b[0mresult\u001b[0m \u001b[0;34m=\u001b[0m \u001b[0mself\u001b[0m\u001b[0;34m.\u001b[0m\u001b[0mindex\u001b[0m\u001b[0;34m.\u001b[0m\u001b[0mget_value\u001b[0m\u001b[0;34m(\u001b[0m\u001b[0mself\u001b[0m\u001b[0;34m,\u001b[0m \u001b[0mkey\u001b[0m\u001b[0;34m)\u001b[0m\u001b[0;34m\u001b[0m\u001b[0m\n\u001b[0m\u001b[1;32m    602\u001b[0m \u001b[0;34m\u001b[0m\u001b[0m\n\u001b[1;32m    603\u001b[0m             \u001b[0;32mif\u001b[0m \u001b[0;32mnot\u001b[0m \u001b[0mis_scalar\u001b[0m\u001b[0;34m(\u001b[0m\u001b[0mresult\u001b[0m\u001b[0;34m)\u001b[0m\u001b[0;34m:\u001b[0m\u001b[0;34m\u001b[0m\u001b[0m\n",
      "\u001b[0;32m~/miniconda/envs/rhg/lib/python3.6/site-packages/pandas/core/indexes/numeric.py\u001b[0m in \u001b[0;36mget_value\u001b[0;34m(self, series, key)\u001b[0m\n\u001b[1;32m    317\u001b[0m \u001b[0;34m\u001b[0m\u001b[0m\n\u001b[1;32m    318\u001b[0m         \u001b[0mk\u001b[0m \u001b[0;34m=\u001b[0m \u001b[0m_values_from_object\u001b[0m\u001b[0;34m(\u001b[0m\u001b[0mkey\u001b[0m\u001b[0;34m)\u001b[0m\u001b[0;34m\u001b[0m\u001b[0m\n\u001b[0;32m--> 319\u001b[0;31m         \u001b[0mloc\u001b[0m \u001b[0;34m=\u001b[0m \u001b[0mself\u001b[0m\u001b[0;34m.\u001b[0m\u001b[0mget_loc\u001b[0m\u001b[0;34m(\u001b[0m\u001b[0mk\u001b[0m\u001b[0;34m)\u001b[0m\u001b[0;34m\u001b[0m\u001b[0m\n\u001b[0m\u001b[1;32m    320\u001b[0m         \u001b[0mnew_values\u001b[0m \u001b[0;34m=\u001b[0m \u001b[0m_values_from_object\u001b[0m\u001b[0;34m(\u001b[0m\u001b[0mseries\u001b[0m\u001b[0;34m)\u001b[0m\u001b[0;34m[\u001b[0m\u001b[0mloc\u001b[0m\u001b[0;34m]\u001b[0m\u001b[0;34m\u001b[0m\u001b[0m\n\u001b[1;32m    321\u001b[0m \u001b[0;34m\u001b[0m\u001b[0m\n",
      "\u001b[0;32m~/miniconda/envs/rhg/lib/python3.6/site-packages/pandas/core/indexes/numeric.py\u001b[0m in \u001b[0;36mget_loc\u001b[0;34m(self, key, method, tolerance)\u001b[0m\n\u001b[1;32m    376\u001b[0m             \u001b[0;32mpass\u001b[0m\u001b[0;34m\u001b[0m\u001b[0m\n\u001b[1;32m    377\u001b[0m         return super(Float64Index, self).get_loc(key, method=method,\n\u001b[0;32m--> 378\u001b[0;31m                                                  tolerance=tolerance)\n\u001b[0m\u001b[1;32m    379\u001b[0m \u001b[0;34m\u001b[0m\u001b[0m\n\u001b[1;32m    380\u001b[0m     \u001b[0;34m@\u001b[0m\u001b[0mcache_readonly\u001b[0m\u001b[0;34m\u001b[0m\u001b[0m\n",
      "\u001b[0;32m~/miniconda/envs/rhg/lib/python3.6/site-packages/pandas/core/indexes/base.py\u001b[0m in \u001b[0;36mget_loc\u001b[0;34m(self, key, method, tolerance)\u001b[0m\n\u001b[1;32m   2442\u001b[0m                 \u001b[0;32mreturn\u001b[0m \u001b[0mself\u001b[0m\u001b[0;34m.\u001b[0m\u001b[0m_engine\u001b[0m\u001b[0;34m.\u001b[0m\u001b[0mget_loc\u001b[0m\u001b[0;34m(\u001b[0m\u001b[0mkey\u001b[0m\u001b[0;34m)\u001b[0m\u001b[0;34m\u001b[0m\u001b[0m\n\u001b[1;32m   2443\u001b[0m             \u001b[0;32mexcept\u001b[0m \u001b[0mKeyError\u001b[0m\u001b[0;34m:\u001b[0m\u001b[0;34m\u001b[0m\u001b[0m\n\u001b[0;32m-> 2444\u001b[0;31m                 \u001b[0;32mreturn\u001b[0m \u001b[0mself\u001b[0m\u001b[0;34m.\u001b[0m\u001b[0m_engine\u001b[0m\u001b[0;34m.\u001b[0m\u001b[0mget_loc\u001b[0m\u001b[0;34m(\u001b[0m\u001b[0mself\u001b[0m\u001b[0;34m.\u001b[0m\u001b[0m_maybe_cast_indexer\u001b[0m\u001b[0;34m(\u001b[0m\u001b[0mkey\u001b[0m\u001b[0;34m)\u001b[0m\u001b[0;34m)\u001b[0m\u001b[0;34m\u001b[0m\u001b[0m\n\u001b[0m\u001b[1;32m   2445\u001b[0m \u001b[0;34m\u001b[0m\u001b[0m\n\u001b[1;32m   2446\u001b[0m         \u001b[0mindexer\u001b[0m \u001b[0;34m=\u001b[0m \u001b[0mself\u001b[0m\u001b[0;34m.\u001b[0m\u001b[0mget_indexer\u001b[0m\u001b[0;34m(\u001b[0m\u001b[0;34m[\u001b[0m\u001b[0mkey\u001b[0m\u001b[0;34m]\u001b[0m\u001b[0;34m,\u001b[0m \u001b[0mmethod\u001b[0m\u001b[0;34m=\u001b[0m\u001b[0mmethod\u001b[0m\u001b[0;34m,\u001b[0m \u001b[0mtolerance\u001b[0m\u001b[0;34m=\u001b[0m\u001b[0mtolerance\u001b[0m\u001b[0;34m)\u001b[0m\u001b[0;34m\u001b[0m\u001b[0m\n",
      "\u001b[0;32mpandas/_libs/index.pyx\u001b[0m in \u001b[0;36mpandas._libs.index.IndexEngine.get_loc\u001b[0;34m()\u001b[0m\n",
      "\u001b[0;32mpandas/_libs/index.pyx\u001b[0m in \u001b[0;36mpandas._libs.index.IndexEngine.get_loc\u001b[0;34m()\u001b[0m\n",
      "\u001b[0;32mpandas/_libs/hashtable_class_helper.pxi\u001b[0m in \u001b[0;36mpandas._libs.hashtable.Float64HashTable.get_item\u001b[0;34m()\u001b[0m\n",
      "\u001b[0;32mpandas/_libs/hashtable_class_helper.pxi\u001b[0m in \u001b[0;36mpandas._libs.hashtable.Float64HashTable.get_item\u001b[0;34m()\u001b[0m\n",
      "\u001b[0;31mKeyError\u001b[0m: 1.0"
     ]
    }
   ],
   "source": [
    "# suddenly breaking with 1l0 keyError.\n",
    "# get_missing_num_years_for_country(df_gdp, 'USA') #0\n",
    "# get_missing_num_years_for_country(df_gdp, 'Russian Federation') # 28 data from 1989\n",
    "# get_missing_num_years_for_country(df_gdp, 'Vietnam') # 33\n",
    "# get_missing_num_years_for_country(df_gdp, 'Iran') # 33\n",
    "# df_gdp[df_gdp['Country Name']== 'Ukraine']  # no data until 1987"
   ]
  },
  {
   "cell_type": "code",
   "execution_count": null,
   "metadata": {},
   "outputs": [],
   "source": [
    "df_gdp[df_gdp['Country Name'] == 'Germany'].shape #(59 cols)\n",
    "df_gdp[df_gdp['Country Name'] == 'Germany']['1980']\n"
   ]
  },
  {
   "cell_type": "code",
   "execution_count": null,
   "metadata": {
    "collapsed": true
   },
   "outputs": [],
   "source": []
  }
 ],
 "metadata": {
  "kernelspec": {
   "display_name": "Python 3",
   "language": "python",
   "name": "python3"
  },
  "language_info": {
   "codemirror_mode": {
    "name": "ipython",
    "version": 3
   },
   "file_extension": ".py",
   "mimetype": "text/x-python",
   "name": "python",
   "nbconvert_exporter": "python",
   "pygments_lexer": "ipython3",
   "version": "3.6.3"
  }
 },
 "nbformat": 4,
 "nbformat_minor": 2
}
