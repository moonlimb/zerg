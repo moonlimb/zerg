{
 "cells": [
  {
   "cell_type": "code",
   "execution_count": 120,
   "metadata": {
    "collapsed": true
   },
   "outputs": [],
   "source": [
    "import os\n",
    "from collections import OrderedDict\n",
    "\n",
    "import numpy as np\n",
    "import pandas as pd\n",
    "import requests\n",
    "import seaborn as sns\n",
    "import xarray as xr\n",
    "\n",
    "% matplotlib inline"
   ]
  },
  {
   "cell_type": "markdown",
   "metadata": {},
   "source": [
    "### WB Data Analysis\n",
    "\n",
    "**<span style=\"color:red; background:yellow;\"></span>**\n",
    "\n",
    "**Data & Scope:** downloaded on (date/time)\n",
    "Two types of datasets:\n",
    "\n",
    "1) Population (easy)\n",
    "* years 1960-2016\n",
    "* definition: total # residents (Regardless of citizenship/legal status)\n",
    "* sources: (mid-year value)\n",
    "\n",
    "    1) United Nations Population Division. World Population Prospects\n",
    "    \n",
    "    2) Census reports and other statistical publications from national statistical offices\n",
    "    \n",
    "    3) Eurostat: Demographic Statistics\n",
    "    \n",
    "    4) United Nations Statistical Division. Population and Vita\n",
    "\n",
    "2) GDP (slightly more tricky)\n",
    "- years: \n",
    "- version:\n",
    "- variables\n",
    "\n",
    "**Source:** World Bank ()\n",
    "\n",
    "**Assumptions/Expectations**\n",
    "-\n",
    "\n",
    "**Analysis Goals**\n",
    "- [] Task 3 Deliverable: ADM0 population & real income estimates from `1950-2017`\n",
    "- [] Evaluate which years data exist for (and that `1950-2017` are present). \n",
    "- [] Note any missing *years*\n",
    "- [] Evaluate if missing *countries* in any years. why?\n",
    "- [] Quantify any data availability differences between countries (years per country, etc.)\n",
    "- [] Compare WB (Chicago) data with WB (from website)\n",
    "\n",
    "Possible convenience functions:\n",
    "\n",
    "* Find years missing for a given country\n",
    "* Return missing countries for a year\n",
    "* Evaluate whether 1950-2017 data is present\n",
    "  given a range, evaluate whether data exists for the range\n",
    "  * per country\n",
    "  * all countries\n",
    "* ...\n",
    "* Get a starting year for each country\n",
    "* Calculate slope of population increase per country -> rank depending on country growth\n",
    "\n",
    "*Currently Out of Scope*\n",
    "- future projection\n",
    "\n",
    "**Conclusion**\n",
    "1. Population. Population data exists from 1960 to 2016. \n",
    "    There are few 'nan'/missing population values each year. Number of missing values change six times:\n",
    "```  \n",
    "4 (60-89) -> 2 (90-91)-> 3 (92-94) -> 2 (95-97) -> 1 (98-'11)-> 2 ('12-'16)-> 264 ('17)\n",
    "```\n",
    "**Task: Find out why numbers go missing those years**\n",
    "2. GDP\n",
    "\n",
    "\n",
    "**Questions**\n",
    "1. How are different sources of population data used to result in one final set? (are there any overlaps between 4 sources?) i.e. what is the methodology for compilation?\n",
    "\n",
    "2. How often are population data updated?\n",
    "\n"
   ]
  },
  {
   "cell_type": "code",
   "execution_count": 11,
   "metadata": {},
   "outputs": [],
   "source": [
    "# Open file\n",
    "df = pd.read_csv('./WB_API_v2/API_NY.GDP.MKTP.PP.CD_DS2_en_csv_v2.csv', skiprows=3)"
   ]
  },
  {
   "cell_type": "code",
   "execution_count": 36,
   "metadata": {},
   "outputs": [
    {
     "data": {
      "text/plain": [
       "Index(['Country Name', 'Country Code', 'Indicator Name', 'Indicator Code',\n",
       "       '1960', '1961', '1962', '1963', '1964', '1965', '1966', '1967', '1968',\n",
       "       '1969', '1970', '1971', '1972', '1973', '1974', '1975', '1976', '1977',\n",
       "       '1978', '1979', '1980', '1981', '1982', '1983', '1984', '1985', '1986',\n",
       "       '1987', '1988', '1989', '1990', '1991', '1992', '1993', '1994', '1995',\n",
       "       '1996', '1997', '1998', '1999', '2000', '2001', '2002', '2003', '2004',\n",
       "       '2005', '2006', '2007', '2008', '2009', '2010', '2011', '2012', '2013',\n",
       "       '2014', '2015', '2016', '2017', 'Unnamed: 62'],\n",
       "      dtype='object')"
      ]
     },
     "execution_count": 36,
     "metadata": {},
     "output_type": "execute_result"
    }
   ],
   "source": [
    "# Get variables (column names)\n",
    "len(df.columns) # 63 variables\n",
    "\n",
    "df.columns # years 1960-2017"
   ]
  },
  {
   "cell_type": "markdown",
   "metadata": {},
   "source": [
    "### Get list of years missing for a country\n",
    "\n"
   ]
  },
  {
   "cell_type": "code",
   "execution_count": 152,
   "metadata": {},
   "outputs": [
    {
     "data": {
      "text/plain": [
       "[32, 33, 34, 35, 36, 37, 38, 39, 40, 42, 43, 44, 46, 49, 51, 58, 59]"
      ]
     },
     "execution_count": 152,
     "metadata": {},
     "output_type": "execute_result"
    }
   ],
   "source": [
    "# Series.value_counts() -> get unique counts of values\n",
    "\n",
    "# Count nan\n",
    "sorted(df.isnull().sum(axis=1).unique().tolist()) # 17 unique values\n",
    "# Why do some countries have randomly missing years? (source of inconsistency?)"
   ]
  },
  {
   "cell_type": "code",
   "execution_count": 110,
   "metadata": {},
   "outputs": [
    {
     "name": "stdout",
     "output_type": "stream",
     "text": [
      "[57, 43, 31, 31, 58, 31, 31, 31, 31, 58, 31, 31, 31, 31, 31, 31, 31, 31, 31, 31, 32, 31, 35, 31, 31, 34, 31, 31, 31, 31, 31, 31, 31, 31, 31, 31, 58, 31, 31, 31, 31, 31, 31, 31, 31, 31, 31, 31, 58, 58, 57, 31, 31, 31, 32, 31, 31, 31, 31, 31, 31, 31, 31, 31, 31, 31, 31, 38, 31, 36, 31, 31, 31, 31, 31, 31, 58, 31, 31, 31, 31, 31, 58, 31, 31, 31, 31, 31, 31, 58, 31, 58, 31, 31, 31, 31, 31, 36, 37, 32, 31, 31, 31, 31, 31, 31, 58, 31, 58, 31, 32, 31, 31, 31, 31, 31, 31, 31, 31, 31, 31, 34, 31, 31, 31, 34, 31, 31, 31, 39, 45, 31, 31, 31, 31, 58, 31, 31, 31, 31, 31, 36, 31, 36, 31, 58, 31, 58, 36, 31, 42, 31, 31, 31, 31, 31, 31, 31, 31, 32, 41, 31, 58, 31, 31, 31, 31, 31, 31, 31, 58, 31, 31, 31, 31, 31, 31, 48, 31, 31, 32, 41, 31, 31, 31, 31, 32, 33, 31, 31, 34, 58, 31, 31, 58, 31, 31, 58, 41, 31, 31, 31, 31, 31, 31, 31, 31, 31, 31, 31, 58, 58, 36, 31, 50, 31, 41, 42, 31, 33, 36, 31, 31, 57, 31, 58, 58, 31, 31, 31, 31, 31, 31, 31, 31, 42, 32, 31, 31, 31, 31, 31, 31, 31, 31, 31, 31, 31, 31, 31, 31, 31, 34, 58, 58, 31, 31, 31, 31, 41, 31, 31, 31, 31]\n"
     ]
    },
    {
     "data": {
      "text/plain": [
       "{'Afghanistan': {'num_missing': 43},\n",
       " 'Albania': {'num_missing': 31},\n",
       " 'Algeria': {'num_missing': 31},\n",
       " 'American Samoa': {'num_missing': 58},\n",
       " 'Andorra': {'num_missing': 58},\n",
       " 'Angola': {'num_missing': 31},\n",
       " 'Antigua and Barbuda': {'num_missing': 31},\n",
       " 'Arab World': {'num_missing': 31},\n",
       " 'Argentina': {'num_missing': 31},\n",
       " 'Armenia': {'num_missing': 31},\n",
       " 'Aruba': {'num_missing': 57},\n",
       " 'Australia': {'num_missing': 31},\n",
       " 'Austria': {'num_missing': 31},\n",
       " 'Azerbaijan': {'num_missing': 31},\n",
       " 'Bahamas, The': {'num_missing': 31},\n",
       " 'Bahrain': {'num_missing': 32},\n",
       " 'Bangladesh': {'num_missing': 31},\n",
       " 'Barbados': {'num_missing': 31},\n",
       " 'Belarus': {'num_missing': 31},\n",
       " 'Belgium': {'num_missing': 31},\n",
       " 'Belize': {'num_missing': 31},\n",
       " 'Benin': {'num_missing': 31},\n",
       " 'Bermuda': {'num_missing': 34},\n",
       " 'Bhutan': {'num_missing': 31},\n",
       " 'Bolivia': {'num_missing': 31},\n",
       " 'Bosnia and Herzegovina': {'num_missing': 35},\n",
       " 'Botswana': {'num_missing': 31},\n",
       " 'Brazil': {'num_missing': 31},\n",
       " 'British Virgin Islands': {'num_missing': 58},\n",
       " 'Brunei Darussalam': {'num_missing': 31},\n",
       " 'Bulgaria': {'num_missing': 31},\n",
       " 'Burkina Faso': {'num_missing': 31},\n",
       " 'Burundi': {'num_missing': 31},\n",
       " 'Cabo Verde': {'num_missing': 31},\n",
       " 'Cambodia': {'num_missing': 34},\n",
       " 'Cameroon': {'num_missing': 31},\n",
       " 'Canada': {'num_missing': 31},\n",
       " 'Caribbean small states': {'num_missing': 31},\n",
       " 'Cayman Islands': {'num_missing': 57},\n",
       " 'Central African Republic': {'num_missing': 31},\n",
       " 'Central Europe and the Baltics': {'num_missing': 31},\n",
       " 'Chad': {'num_missing': 31},\n",
       " 'Channel Islands': {'num_missing': 58},\n",
       " 'Chile': {'num_missing': 31},\n",
       " 'China': {'num_missing': 31},\n",
       " 'Colombia': {'num_missing': 31},\n",
       " 'Comoros': {'num_missing': 31},\n",
       " 'Congo, Dem. Rep.': {'num_missing': 31},\n",
       " 'Congo, Rep.': {'num_missing': 31},\n",
       " 'Costa Rica': {'num_missing': 31},\n",
       " \"Cote d'Ivoire\": {'num_missing': 31},\n",
       " 'Croatia': {'num_missing': 36},\n",
       " 'Cuba': {'num_missing': 58},\n",
       " 'Curacao': {'num_missing': 58},\n",
       " 'Cyprus': {'num_missing': 31},\n",
       " 'Czech Republic': {'num_missing': 31},\n",
       " 'Denmark': {'num_missing': 31},\n",
       " 'Djibouti': {'num_missing': 32},\n",
       " 'Dominica': {'num_missing': 31},\n",
       " 'Dominican Republic': {'num_missing': 31},\n",
       " 'Early-demographic dividend': {'num_missing': 31},\n",
       " 'East Asia & Pacific': {'num_missing': 31},\n",
       " 'East Asia & Pacific (IDA & IBRD countries)': {'num_missing': 31},\n",
       " 'East Asia & Pacific (excluding high income)': {'num_missing': 31},\n",
       " 'Ecuador': {'num_missing': 31},\n",
       " 'Egypt, Arab Rep.': {'num_missing': 31},\n",
       " 'El Salvador': {'num_missing': 31},\n",
       " 'Equatorial Guinea': {'num_missing': 31},\n",
       " 'Eritrea': {'num_missing': 38},\n",
       " 'Estonia': {'num_missing': 36},\n",
       " 'Ethiopia': {'num_missing': 31},\n",
       " 'Euro area': {'num_missing': 31},\n",
       " 'Europe & Central Asia': {'num_missing': 31},\n",
       " 'Europe & Central Asia (IDA & IBRD countries)': {'num_missing': 31},\n",
       " 'Europe & Central Asia (excluding high income)': {'num_missing': 31},\n",
       " 'European Union': {'num_missing': 31},\n",
       " 'Faroe Islands': {'num_missing': 58},\n",
       " 'Fiji': {'num_missing': 31},\n",
       " 'Finland': {'num_missing': 31},\n",
       " 'Fragile and conflict affected situations': {'num_missing': 31},\n",
       " 'France': {'num_missing': 31},\n",
       " 'French Polynesia': {'num_missing': 58},\n",
       " 'Gabon': {'num_missing': 31},\n",
       " 'Gambia, The': {'num_missing': 31},\n",
       " 'Georgia': {'num_missing': 31},\n",
       " 'Germany': {'num_missing': 31},\n",
       " 'Ghana': {'num_missing': 31},\n",
       " 'Gibraltar': {'num_missing': 58},\n",
       " 'Greece': {'num_missing': 31},\n",
       " 'Greenland': {'num_missing': 58},\n",
       " 'Grenada': {'num_missing': 31},\n",
       " 'Guam': {'num_missing': 58},\n",
       " 'Guatemala': {'num_missing': 31},\n",
       " 'Guinea': {'num_missing': 31},\n",
       " 'Guinea-Bissau': {'num_missing': 31},\n",
       " 'Guyana': {'num_missing': 31},\n",
       " 'Haiti': {'num_missing': 37},\n",
       " 'Heavily indebted poor countries (HIPC)': {'num_missing': 31},\n",
       " 'High income': {'num_missing': 31},\n",
       " 'Honduras': {'num_missing': 31},\n",
       " 'Hong Kong SAR, China': {'num_missing': 31},\n",
       " 'Hungary': {'num_missing': 32},\n",
       " 'IBRD only': {'num_missing': 31},\n",
       " 'IDA & IBRD total': {'num_missing': 31},\n",
       " 'IDA blend': {'num_missing': 31},\n",
       " 'IDA only': {'num_missing': 31},\n",
       " 'IDA total': {'num_missing': 31},\n",
       " 'Iceland': {'num_missing': 31},\n",
       " 'India': {'num_missing': 31},\n",
       " 'Indonesia': {'num_missing': 31},\n",
       " 'Iran, Islamic Rep.': {'num_missing': 32},\n",
       " 'Iraq': {'num_missing': 31},\n",
       " 'Ireland': {'num_missing': 31},\n",
       " 'Isle of Man': {'num_missing': 58},\n",
       " 'Israel': {'num_missing': 31},\n",
       " 'Italy': {'num_missing': 31},\n",
       " 'Jamaica': {'num_missing': 31},\n",
       " 'Japan': {'num_missing': 31},\n",
       " 'Jordan': {'num_missing': 31},\n",
       " 'Kazakhstan': {'num_missing': 31},\n",
       " 'Kenya': {'num_missing': 31},\n",
       " 'Kiribati': {'num_missing': 31},\n",
       " 'Korea, Dem. People’s Rep.': {'num_missing': 58},\n",
       " 'Korea, Rep.': {'num_missing': 31},\n",
       " 'Kosovo': {'num_missing': 41},\n",
       " 'Kuwait': {'num_missing': 34},\n",
       " 'Kyrgyz Republic': {'num_missing': 31},\n",
       " 'Lao PDR': {'num_missing': 31},\n",
       " 'Late-demographic dividend': {'num_missing': 31},\n",
       " 'Latin America & Caribbean': {'num_missing': 31},\n",
       " 'Latin America & Caribbean (excluding high income)': {'num_missing': 31},\n",
       " 'Latin America & the Caribbean (IDA & IBRD countries)': {'num_missing': 31},\n",
       " 'Latvia': {'num_missing': 36},\n",
       " 'Least developed countries: UN classification': {'num_missing': 31},\n",
       " 'Lebanon': {'num_missing': 31},\n",
       " 'Lesotho': {'num_missing': 31},\n",
       " 'Liberia': {'num_missing': 39},\n",
       " 'Libya': {'num_missing': 45},\n",
       " 'Liechtenstein': {'num_missing': 58},\n",
       " 'Lithuania': {'num_missing': 36},\n",
       " 'Low & middle income': {'num_missing': 31},\n",
       " 'Low income': {'num_missing': 31},\n",
       " 'Lower middle income': {'num_missing': 31},\n",
       " 'Luxembourg': {'num_missing': 31},\n",
       " 'Macao SAR, China': {'num_missing': 31},\n",
       " 'Macedonia, FYR': {'num_missing': 31},\n",
       " 'Madagascar': {'num_missing': 31},\n",
       " 'Malawi': {'num_missing': 31},\n",
       " 'Malaysia': {'num_missing': 31},\n",
       " 'Maldives': {'num_missing': 42},\n",
       " 'Mali': {'num_missing': 31},\n",
       " 'Malta': {'num_missing': 31},\n",
       " 'Marshall Islands': {'num_missing': 31},\n",
       " 'Mauritania': {'num_missing': 31},\n",
       " 'Mauritius': {'num_missing': 31},\n",
       " 'Mexico': {'num_missing': 31},\n",
       " 'Micronesia, Fed. Sts.': {'num_missing': 31},\n",
       " 'Middle East & North Africa': {'num_missing': 31},\n",
       " 'Middle East & North Africa (IDA & IBRD countries)': {'num_missing': 32},\n",
       " 'Middle East & North Africa (excluding high income)': {'num_missing': 32},\n",
       " 'Middle income': {'num_missing': 31},\n",
       " 'Moldova': {'num_missing': 36},\n",
       " 'Monaco': {'num_missing': 58},\n",
       " 'Mongolia': {'num_missing': 31},\n",
       " 'Montenegro': {'num_missing': 41},\n",
       " 'Morocco': {'num_missing': 31},\n",
       " 'Mozambique': {'num_missing': 31},\n",
       " 'Myanmar': {'num_missing': 31},\n",
       " 'Namibia': {'num_missing': 31},\n",
       " 'Nauru': {'num_missing': 48},\n",
       " 'Nepal': {'num_missing': 31},\n",
       " 'Netherlands': {'num_missing': 31},\n",
       " 'New Caledonia': {'num_missing': 58},\n",
       " 'New Zealand': {'num_missing': 31},\n",
       " 'Nicaragua': {'num_missing': 31},\n",
       " 'Niger': {'num_missing': 31},\n",
       " 'Nigeria': {'num_missing': 31},\n",
       " 'North America': {'num_missing': 31},\n",
       " 'Northern Mariana Islands': {'num_missing': 58},\n",
       " 'Norway': {'num_missing': 31},\n",
       " 'Not classified': {'num_missing': 58},\n",
       " 'OECD members': {'num_missing': 31},\n",
       " 'Oman': {'num_missing': 32},\n",
       " 'Other small states': {'num_missing': 41},\n",
       " 'Pacific island small states': {'num_missing': 31},\n",
       " 'Pakistan': {'num_missing': 31},\n",
       " 'Palau': {'num_missing': 32},\n",
       " 'Panama': {'num_missing': 31},\n",
       " 'Papua New Guinea': {'num_missing': 33},\n",
       " 'Paraguay': {'num_missing': 31},\n",
       " 'Peru': {'num_missing': 31},\n",
       " 'Philippines': {'num_missing': 31},\n",
       " 'Poland': {'num_missing': 31},\n",
       " 'Portugal': {'num_missing': 31},\n",
       " 'Post-demographic dividend': {'num_missing': 31},\n",
       " 'Pre-demographic dividend': {'num_missing': 31},\n",
       " 'Puerto Rico': {'num_missing': 34},\n",
       " 'Qatar': {'num_missing': 41},\n",
       " 'Romania': {'num_missing': 31},\n",
       " 'Russian Federation': {'num_missing': 31},\n",
       " 'Rwanda': {'num_missing': 31},\n",
       " 'Samoa': {'num_missing': 31},\n",
       " 'San Marino': {'num_missing': 58},\n",
       " 'Sao Tome and Principe': {'num_missing': 42},\n",
       " 'Saudi Arabia': {'num_missing': 31},\n",
       " 'Senegal': {'num_missing': 31},\n",
       " 'Serbia': {'num_missing': 36},\n",
       " 'Seychelles': {'num_missing': 31},\n",
       " 'Sierra Leone': {'num_missing': 31},\n",
       " 'Singapore': {'num_missing': 31},\n",
       " 'Sint Maarten (Dutch part)': {'num_missing': 57},\n",
       " 'Slovak Republic': {'num_missing': 33},\n",
       " 'Slovenia': {'num_missing': 36},\n",
       " 'Small states': {'num_missing': 41},\n",
       " 'Solomon Islands': {'num_missing': 31},\n",
       " 'Somalia': {'num_missing': 58},\n",
       " 'South Africa': {'num_missing': 31},\n",
       " 'South Asia': {'num_missing': 31},\n",
       " 'South Asia (IDA & IBRD)': {'num_missing': 31},\n",
       " 'South Sudan': {'num_missing': 50},\n",
       " 'Spain': {'num_missing': 31},\n",
       " 'Sri Lanka': {'num_missing': 31},\n",
       " 'St. Kitts and Nevis': {'num_missing': 31},\n",
       " 'St. Lucia': {'num_missing': 31},\n",
       " 'St. Martin (French part)': {'num_missing': 58},\n",
       " 'St. Vincent and the Grenadines': {'num_missing': 31},\n",
       " 'Sub-Saharan Africa': {'num_missing': 31},\n",
       " 'Sub-Saharan Africa (IDA & IBRD countries)': {'num_missing': 31},\n",
       " 'Sub-Saharan Africa (excluding high income)': {'num_missing': 31},\n",
       " 'Sudan': {'num_missing': 31},\n",
       " 'Suriname': {'num_missing': 31},\n",
       " 'Swaziland': {'num_missing': 31},\n",
       " 'Sweden': {'num_missing': 31},\n",
       " 'Switzerland': {'num_missing': 31},\n",
       " 'Syrian Arab Republic': {'num_missing': 58},\n",
       " 'Tajikistan': {'num_missing': 31},\n",
       " 'Tanzania': {'num_missing': 31},\n",
       " 'Thailand': {'num_missing': 31},\n",
       " 'Timor-Leste': {'num_missing': 42},\n",
       " 'Togo': {'num_missing': 31},\n",
       " 'Tonga': {'num_missing': 31},\n",
       " 'Trinidad and Tobago': {'num_missing': 31},\n",
       " 'Tunisia': {'num_missing': 31},\n",
       " 'Turkey': {'num_missing': 31},\n",
       " 'Turkmenistan': {'num_missing': 31},\n",
       " 'Turks and Caicos Islands': {'num_missing': 58},\n",
       " 'Tuvalu': {'num_missing': 31},\n",
       " 'Uganda': {'num_missing': 31},\n",
       " 'Ukraine': {'num_missing': 31},\n",
       " 'United Arab Emirates': {'num_missing': 31},\n",
       " 'United Kingdom': {'num_missing': 31},\n",
       " 'United States': {'num_missing': 31},\n",
       " 'Upper middle income': {'num_missing': 31},\n",
       " 'Uruguay': {'num_missing': 31},\n",
       " 'Uzbekistan': {'num_missing': 31},\n",
       " 'Vanuatu': {'num_missing': 31},\n",
       " 'Venezuela, RB': {'num_missing': 34},\n",
       " 'Vietnam': {'num_missing': 31},\n",
       " 'Virgin Islands (U.S.)': {'num_missing': 58},\n",
       " 'West Bank and Gaza': {'num_missing': 58},\n",
       " 'World': {'num_missing': 31},\n",
       " 'Yemen, Rep.': {'num_missing': 31},\n",
       " 'Zambia': {'num_missing': 31},\n",
       " 'Zimbabwe': {'num_missing': 31}}"
      ]
     },
     "execution_count": 110,
     "metadata": {},
     "output_type": "execute_result"
    }
   ],
   "source": [
    "# Get all rows \n",
    "# Get selected columns (ranging from 1960 to 2017)\n",
    "df_1960_2017 = df.loc[:, '1960':'2017']\n",
    "\n",
    "#df_1960_2017.apply(lambda s: s.value_counts(), axis=0)\n",
    "\n",
    "df_1960_2017.shape # 264, 58 -> 264 countries and 58 years\n",
    "num_years = 2017 - 1960 + 1 # 58\n",
    "#print('num years is {}'.format(num_years))\n",
    "#df_1960_2017.shape[1] # 58 (counts columns) # 1-> colum\n",
    "\n",
    "df_1960_2017.apply(lambda s: s.value_counts(), axis=0)\n",
    "#print(len(df_1960_2017.isnull().sum(axis=1).tolist())) # 264 = # countries\n",
    "\n",
    "# returns list of # nan per country\n",
    "num_nan_per_country = df_1960_2017.isnull().sum(axis=1).tolist()\n",
    "print(df_1960_2017.isnull().sum(axis=1).tolist())\n",
    "\n",
    "list_of_countries = [x for x in df['Country Name'].values]\n",
    "num_countries = len(list_of_countries)\n",
    "\n",
    "countries = {list_of_countries[i]: {'num_missing': num_nan_per_country[i]} for i in range(0, num_countries)}\n",
    "\n",
    "countries"
   ]
  },
  {
   "cell_type": "code",
   "execution_count": 220,
   "metadata": {},
   "outputs": [],
   "source": [
    "def get_missing_years(country_name, start_year, end_year):\n",
    "    '''\n",
    "    Given a start_year and an end_year, calculate the number of years in \n",
    "    the given range (inclusive at both ends) the country has no\n",
    "    data points (ie. has nan value)\n",
    "    \n",
    "    Parameters\n",
    "    ----------\n",
    "    country_name : Str\n",
    "        name of given co=untry\n",
    "             name ofc duu\n",
    "               str_format\n",
    "            \n",
    "    \n",
    "    Returns \n",
    "    -------\n",
    "    Missing years, each year is a string : List\n",
    "    \n",
    "    ex. ['1990',  '2005'']\n",
    "\n",
    "'''\n",
    "    country = df.loc[df['Country Name'] == country_name]\n",
    "    return country\n",
    "\n",
    "# Get countries as dataframe (subset of original) by first letter\n",
    "def get_by_first_letter(df, first_letter):\n",
    "    return df.loc[df['Country Name'].str.startswith(first_letter)]\n",
    "\n",
    "# Get country by name\n",
    "def get_row_by_country_name(_df, country_name):\n",
    "    return _df[_df['Country Name'] == country_name]\n",
    "\n",
    "# Get country row from dataframe by index\n",
    "def get_by_index(df, country_idx):\n",
    "    return df.iloc[country_idx]\n",
    "\n",
    "# Get all countries that start with S\n",
    "s_countries = get_by_first_letter(df, 'S')\n",
    "#s_countries\n",
    "    \n",
    "#get_by_first_letter(df, 'K') # example South Korea is inde 124\n",
    "get_by_index(df, 124)\n",
    "\n",
    "from collections import OrderedDict\n",
    "dd = OrderedDict()\n",
    "\n",
    "def count_num_missing_years():\n",
    "    dd[df['Country Name']: df['']]    \n",
    "\n"
   ]
  },
  {
   "cell_type": "code",
   "execution_count": 26,
   "metadata": {},
   "outputs": [
    {
     "data": {
      "text/plain": [
       "Index(['Country Name', 'Country Code', 'Indicator Name', 'Indicator Code',\n",
       "       '1960', '1961', '1962', '1963', '1964', '1965', '1966', '1967', '1968',\n",
       "       '1969', '1970', '1971', '1972', '1973', '1974', '1975', '1976', '1977',\n",
       "       '1978', '1979', '1980', '1981', '1982', '1983', '1984', '1985', '1986',\n",
       "       '1987', '1988', '1989', '1990', '1991', '1992', '1993', '1994', '1995',\n",
       "       '1996', '1997', '1998', '1999', '2000', '2001', '2002', '2003', '2004',\n",
       "       '2005', '2006', '2007', '2008', '2009', '2010', '2011', '2012', '2013',\n",
       "       '2014', '2015', '2016', '2017', 'Unnamed: 62'],\n",
       "      dtype='object')"
      ]
     },
     "execution_count": 26,
     "metadata": {},
     "output_type": "execute_result"
    }
   ],
   "source": [
    "# Write a function that counts values for each column\n",
    "# Purpose: to count how many NA values are there in each row\n",
    "df['1960'].value_counts()\n",
    "type(df.iloc[0]['1960']) # numpy.float64\n",
    "\n",
    "# note: comparison of nan == np.nan does not work (returns False)\n",
    "# need to check np.isnan(val)\n",
    "\n",
    "# single value check\n",
    "np.isnan(df.iloc[0]['1960']) # True \n",
    "\n",
    "# returns total number of nan values for each column (whole df)\n",
    "df.isnull().sum() \n",
    "\n",
    "# find the countries that have nan values in 1989 and prior years, \n",
    "# but don't have \n"
   ]
  },
  {
   "cell_type": "code",
   "execution_count": 111,
   "metadata": {
    "scrolled": true
   },
   "outputs": [
    {
     "data": {
      "text/plain": [
       "217"
      ]
     },
     "execution_count": 111,
     "metadata": {},
     "output_type": "execute_result"
    }
   ],
   "source": [
    "189 + 28 # 217 number of countries"
   ]
  },
  {
   "cell_type": "markdown",
   "metadata": {},
   "source": [
    "## B. Population DATA"
   ]
  },
  {
   "cell_type": "code",
   "execution_count": 165,
   "metadata": {
    "scrolled": false
   },
   "outputs": [],
   "source": [
    "os.listdir('./')\n",
    "\n",
    "df2 = pd.read_csv('./WB_total_pop_v2/API_SP.POP.TOTL_DS2_en_csv_v2.csv', skiprows=3)\n",
    "df2.columns\n",
    "del df2['Unnamed: 62'] # remove extraneous data"
   ]
  },
  {
   "cell_type": "code",
   "execution_count": 187,
   "metadata": {
    "scrolled": true
   },
   "outputs": [
    {
     "data": {
      "text/plain": [
       "(264, 63)"
      ]
     },
     "execution_count": 187,
     "metadata": {},
     "output_type": "execute_result"
    }
   ],
   "source": [
    "#df2['2017'].unique() # returns array([nan]) -> all 2017 values currently nan\n",
    "\n",
    "#df2.head(5)   # Show top 5 rows\n",
    "#df2.isnull().sum()\n",
    "# note that nan values per year changes from 1-4, 1989 and prior are all 4,\n",
    "# after that there is a shifts six times:\n",
    "# 4 (60-89) -> 2 (90-91)-> 3 (92-94) -> 2 (95-97) -> 1 (98-2011)-> 2 (2012-2016)-> 264 (2017)\n",
    "\n",
    "df.shape # 264 rows and 63 columns -> 264 countries"
   ]
  },
  {
   "cell_type": "markdown",
   "metadata": {},
   "source": [
    "### Getting data for country"
   ]
  },
  {
   "cell_type": "code",
   "execution_count": null,
   "metadata": {
    "collapsed": true
   },
   "outputs": [],
   "source": [
    "# Returns all values of the 'Country Name' column as an array\n",
    "#df2['Country Name'].values #lists all countries\n",
    "# United States\n",
    "# China\n",
    "# India\n",
    "\n",
    "china = get_row_by_country_name(df2, 'China')\n",
    "india = get_row_by_country_name(df2, 'India')\n",
    "usa = get_row_by_country_name(df2, 'United States')\n",
    "\n",
    "def get_first_and_last_years(_country):\n",
    "    # _country is a dataframe (1 row)\n",
    "    return _country[['1960', '2016']]\n",
    "    \n",
    "    \n",
    "get_first_and_last_years(china)\n",
    "get_first_and_last_years(usa)\n",
    "get_first_and_last_years(india)\n",
    "\n",
    "# manual confirmation: these values match online WB values (https://data.worldbank.org/indicator/SP.POP.TOTL?year_high_desc=true)"
   ]
  },
  {
   "cell_type": "markdown",
   "metadata": {},
   "source": [
    "### Creating timeseries visualization"
   ]
  },
  {
   "cell_type": "code",
   "execution_count": 229,
   "metadata": {},
   "outputs": [],
   "source": [
    "sns.set(color_codes=True)\n",
    "x = np.linspace(1960, 2016, 57) # returns array of values from 1960 to 2016 (inclusive)\n",
    "# 57 determines the total number of values we want (i.e. (2016-1960+1)/57 = 1)\n",
    "# same as np.arange(1960, 2017, 1) # 1960 to 2017 (not including 2017), specifies step=1\n",
    "# same as np.arange(1960, 2017) # default step is 1\n",
    "\n",
    "# For fun, plot China, US, and India population change\n",
    "#ax = sns.tsplot(data=china)\n"
   ]
  },
  {
   "cell_type": "code",
   "execution_count": 239,
   "metadata": {},
   "outputs": [
    {
     "ename": "TypeError",
     "evalue": "unhashable type: 'slice'",
     "output_type": "error",
     "traceback": [
      "\u001b[0;31m---------------------------------------------------------------------------\u001b[0m",
      "\u001b[0;31mTypeError\u001b[0m                                 Traceback (most recent call last)",
      "\u001b[0;32m<ipython-input-239-385665793386>\u001b[0m in \u001b[0;36m<module>\u001b[0;34m()\u001b[0m\n\u001b[0;32m----> 1\u001b[0;31m \u001b[0mchina_x\u001b[0m \u001b[0;34m=\u001b[0m \u001b[0mchina\u001b[0m\u001b[0;34m[\u001b[0m\u001b[0;34m:\u001b[0m\u001b[0;34m,\u001b[0m\u001b[0;34m'1960'\u001b[0m\u001b[0;34m:\u001b[0m\u001b[0;34m'2016'\u001b[0m\u001b[0;34m]\u001b[0m\u001b[0;34m\u001b[0m\u001b[0m\n\u001b[0m\u001b[1;32m      2\u001b[0m \u001b[0;34m\u001b[0m\u001b[0m\n\u001b[1;32m      3\u001b[0m \u001b[0;32mdef\u001b[0m \u001b[0mget_years_1960_2016\u001b[0m\u001b[0;34m(\u001b[0m\u001b[0m_df\u001b[0m\u001b[0;34m)\u001b[0m\u001b[0;34m:\u001b[0m\u001b[0;34m\u001b[0m\u001b[0m\n\u001b[1;32m      4\u001b[0m     \u001b[0;32mreturn\u001b[0m \u001b[0m_df\u001b[0m\u001b[0;34m.\u001b[0m\u001b[0mloc\u001b[0m\u001b[0;34m[\u001b[0m\u001b[0;34m:\u001b[0m\u001b[0;34m,\u001b[0m \u001b[0;34m'1960'\u001b[0m \u001b[0;34m:\u001b[0m \u001b[0;34m'2016'\u001b[0m\u001b[0;34m]\u001b[0m\u001b[0;34m\u001b[0m\u001b[0m\n\u001b[1;32m      5\u001b[0m \u001b[0;34m\u001b[0m\u001b[0m\n",
      "\u001b[0;32m~/miniconda/envs/rhg/lib/python3.6/site-packages/pandas/core/frame.py\u001b[0m in \u001b[0;36m__getitem__\u001b[0;34m(self, key)\u001b[0m\n\u001b[1;32m   1962\u001b[0m             \u001b[0;32mreturn\u001b[0m \u001b[0mself\u001b[0m\u001b[0;34m.\u001b[0m\u001b[0m_getitem_multilevel\u001b[0m\u001b[0;34m(\u001b[0m\u001b[0mkey\u001b[0m\u001b[0;34m)\u001b[0m\u001b[0;34m\u001b[0m\u001b[0m\n\u001b[1;32m   1963\u001b[0m         \u001b[0;32melse\u001b[0m\u001b[0;34m:\u001b[0m\u001b[0;34m\u001b[0m\u001b[0m\n\u001b[0;32m-> 1964\u001b[0;31m             \u001b[0;32mreturn\u001b[0m \u001b[0mself\u001b[0m\u001b[0;34m.\u001b[0m\u001b[0m_getitem_column\u001b[0m\u001b[0;34m(\u001b[0m\u001b[0mkey\u001b[0m\u001b[0;34m)\u001b[0m\u001b[0;34m\u001b[0m\u001b[0m\n\u001b[0m\u001b[1;32m   1965\u001b[0m \u001b[0;34m\u001b[0m\u001b[0m\n\u001b[1;32m   1966\u001b[0m     \u001b[0;32mdef\u001b[0m \u001b[0m_getitem_column\u001b[0m\u001b[0;34m(\u001b[0m\u001b[0mself\u001b[0m\u001b[0;34m,\u001b[0m \u001b[0mkey\u001b[0m\u001b[0;34m)\u001b[0m\u001b[0;34m:\u001b[0m\u001b[0;34m\u001b[0m\u001b[0m\n",
      "\u001b[0;32m~/miniconda/envs/rhg/lib/python3.6/site-packages/pandas/core/frame.py\u001b[0m in \u001b[0;36m_getitem_column\u001b[0;34m(self, key)\u001b[0m\n\u001b[1;32m   1969\u001b[0m         \u001b[0;31m# get column\u001b[0m\u001b[0;34m\u001b[0m\u001b[0;34m\u001b[0m\u001b[0m\n\u001b[1;32m   1970\u001b[0m         \u001b[0;32mif\u001b[0m \u001b[0mself\u001b[0m\u001b[0;34m.\u001b[0m\u001b[0mcolumns\u001b[0m\u001b[0;34m.\u001b[0m\u001b[0mis_unique\u001b[0m\u001b[0;34m:\u001b[0m\u001b[0;34m\u001b[0m\u001b[0m\n\u001b[0;32m-> 1971\u001b[0;31m             \u001b[0;32mreturn\u001b[0m \u001b[0mself\u001b[0m\u001b[0;34m.\u001b[0m\u001b[0m_get_item_cache\u001b[0m\u001b[0;34m(\u001b[0m\u001b[0mkey\u001b[0m\u001b[0;34m)\u001b[0m\u001b[0;34m\u001b[0m\u001b[0m\n\u001b[0m\u001b[1;32m   1972\u001b[0m \u001b[0;34m\u001b[0m\u001b[0m\n\u001b[1;32m   1973\u001b[0m         \u001b[0;31m# duplicate columns & possible reduce dimensionality\u001b[0m\u001b[0;34m\u001b[0m\u001b[0;34m\u001b[0m\u001b[0m\n",
      "\u001b[0;32m~/miniconda/envs/rhg/lib/python3.6/site-packages/pandas/core/generic.py\u001b[0m in \u001b[0;36m_get_item_cache\u001b[0;34m(self, item)\u001b[0m\n\u001b[1;32m   1641\u001b[0m         \u001b[0;34m\"\"\"Return the cached item, item represents a label indexer.\"\"\"\u001b[0m\u001b[0;34m\u001b[0m\u001b[0m\n\u001b[1;32m   1642\u001b[0m         \u001b[0mcache\u001b[0m \u001b[0;34m=\u001b[0m \u001b[0mself\u001b[0m\u001b[0;34m.\u001b[0m\u001b[0m_item_cache\u001b[0m\u001b[0;34m\u001b[0m\u001b[0m\n\u001b[0;32m-> 1643\u001b[0;31m         \u001b[0mres\u001b[0m \u001b[0;34m=\u001b[0m \u001b[0mcache\u001b[0m\u001b[0;34m.\u001b[0m\u001b[0mget\u001b[0m\u001b[0;34m(\u001b[0m\u001b[0mitem\u001b[0m\u001b[0;34m)\u001b[0m\u001b[0;34m\u001b[0m\u001b[0m\n\u001b[0m\u001b[1;32m   1644\u001b[0m         \u001b[0;32mif\u001b[0m \u001b[0mres\u001b[0m \u001b[0;32mis\u001b[0m \u001b[0;32mNone\u001b[0m\u001b[0;34m:\u001b[0m\u001b[0;34m\u001b[0m\u001b[0m\n\u001b[1;32m   1645\u001b[0m             \u001b[0mvalues\u001b[0m \u001b[0;34m=\u001b[0m \u001b[0mself\u001b[0m\u001b[0;34m.\u001b[0m\u001b[0m_data\u001b[0m\u001b[0;34m.\u001b[0m\u001b[0mget\u001b[0m\u001b[0;34m(\u001b[0m\u001b[0mitem\u001b[0m\u001b[0;34m)\u001b[0m\u001b[0;34m\u001b[0m\u001b[0m\n",
      "\u001b[0;31mTypeError\u001b[0m: unhashable type: 'slice'"
     ]
    }
   ],
   "source": [
    "china_x = china[:,'1960':'2016']\n",
    "\n",
    "# does not work\n",
    "# def get_years_1960_2016(_df):\n",
    "#     return _df.loc[:, '1960' : '2016']\n",
    "\n",
    "# get_years_1960_2016(china)\n"
   ]
  },
  {
   "cell_type": "code",
   "execution_count": 214,
   "metadata": {},
   "outputs": [
    {
     "data": {
      "text/plain": [
       "'\\nsns.tsplot\\n sns.set(color_codes=True)\\n>>> x = np.linspace(0, 15, 31)\\n>>> data = np.sin(x) + np.random.rand(10, 31) + np.random.randn(10, 1)\\n>>> ax = sns.tsplot(data=data)\\n\\n>>> gammas = sns.load_dataset(\"gammas\")\\n>>> ax = sns.tsplot(time=\"timepoint\", value=\"BOLD signal\",\\n...                 unit=\"subject\", condition=\"ROI\",\\n...                 data=gammas)\\n\\n'"
      ]
     },
     "execution_count": 214,
     "metadata": {},
     "output_type": "execute_result"
    }
   ],
   "source": [
    "sns.set(color_codes=True)\n",
    "\n",
    "sns.tsplot(china, x=)\n",
    "'''\n",
    "sns.tsplot\n",
    " sns.set(color_codes=True)\n",
    ">>> x = np.linspace(0, 15, 31)\n",
    ">>> data = np.sin(x) + np.random.rand(10, 31) + np.random.randn(10, 1)\n",
    ">>> ax = sns.tsplot(data=data)\n",
    "\n",
    ">>> gammas = sns.load_dataset(\"gammas\")\n",
    ">>> ax = sns.tsplot(time=\"timepoint\", value=\"BOLD signal\",\n",
    "...                 unit=\"subject\", condition=\"ROI\",\n",
    "...                 data=gammas)\n",
    "\n",
    "'''"
   ]
  },
  {
   "cell_type": "markdown",
   "metadata": {},
   "source": [
    "### Fetching data via API\n",
    "\n",
    "This approach is abandoned because json data is harder to manipulate for this analysis.\n",
    "Pandas rocks."
   ]
  },
  {
   "cell_type": "code",
   "execution_count": 130,
   "metadata": {
    "collapsed": true
   },
   "outputs": [],
   "source": [
    "#r = requests.get('http://api.worldbank.org/v2/countries/all/indicators/SP.POP.TOTL?format=json', auth=('user', 'pass'))"
   ]
  },
  {
   "cell_type": "code",
   "execution_count": 133,
   "metadata": {},
   "outputs": [],
   "source": [
    "#r.headers['Content-Type'] # 'application/json;charset=utf-8'\n",
    "#r.json()"
   ]
  }
 ],
 "metadata": {
  "kernelspec": {
   "display_name": "Python 3",
   "language": "python",
   "name": "python3"
  },
  "language_info": {
   "codemirror_mode": {
    "name": "ipython",
    "version": 3
   },
   "file_extension": ".py",
   "mimetype": "text/x-python",
   "name": "python",
   "nbconvert_exporter": "python",
   "pygments_lexer": "ipython3",
   "version": "3.6.3"
  }
 },
 "nbformat": 4,
 "nbformat_minor": 2
}
