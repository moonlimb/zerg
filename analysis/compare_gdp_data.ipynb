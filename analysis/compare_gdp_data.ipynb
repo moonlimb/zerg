{
 "cells": [
  {
   "cell_type": "code",
   "execution_count": 93,
   "metadata": {
    "collapsed": true
   },
   "outputs": [],
   "source": [
    "import os\n",
    "\n",
    "import matplotlib.pylab as plt\n",
    "import numpy as np\n",
    "import pandas as pd\n",
    "import seaborn as sns\n",
    "import xarray as xr\n",
    "\n",
    "% matplotlib inline\n",
    "sns.set_color_codes()"
   ]
  },
  {
   "cell_type": "code",
   "execution_count": 94,
   "metadata": {
    "collapsed": true
   },
   "outputs": [],
   "source": [
    "sns.set_color_codes()"
   ]
  },
  {
   "cell_type": "markdown",
   "metadata": {
    "collapsed": true
   },
   "source": [
    "## Comparing GDP\n",
    "\n",
    "### A. Total GDP (constant, mkt) data \n",
    "\n",
    "* Construct xarray **<span style=\"color:white; background:maroon;\">STARTED</span>**\n",
    "\n",
    "* Compare/plot total GDP (real, mkt) timeseries **<span style=\"color:white; background:maroon;\">STARTED</span>**    \n",
    "    - UN national accounts\n",
    "    - IMF (IFS vs WEO)\n",
    "    - WB    \n",
    "    \n",
    "---\n",
    "\n",
    "* Compare/plot major countries \n",
    "    * mortality countries\n",
    "        \n",
    "    Brazil  1997-2009\n",
    "    Chile 1997-2012\n",
    "    EU (different spatial scale than others - NUTS2)\n",
    "    France 1998-2012\n",
    "    India 1957-2001\n",
    "    Japan 1975-2012\n",
    "    Mexico 1990-2012\n",
    "    USA 1968-2013\n",
    "\n",
    "    * Question - is discrepancy from the top 10 or others? (get a factor of gdp_top_10/gdp_total\n",
    "\n",
    "* Compare PWT values (rgpdna, rgpde, rgpdo)\n",
    "* Compare with GDP (PPP)\n",
    "* Compare with La Porta for Mortality countries\n",
    "\n",
    "\n"
   ]
  },
  {
   "cell_type": "markdown",
   "metadata": {},
   "source": [
    "### Z. Convenience functions"
   ]
  },
  {
   "cell_type": "code",
   "execution_count": 95,
   "metadata": {
    "collapsed": true
   },
   "outputs": [],
   "source": [
    "def add_iso_column(_df, _country_name_col):\n",
    "    # uses iso_map (global dict)\n",
    "    _df['iso'] = _df[_country_name_col].apply(lambda name: iso_map[name] if iso_map.get(name) else name)\n",
    "    return _df\n",
    "\n",
    "def set_col_as_index(_df, _col_name):\n",
    "    return _df.set_index(_col_name)\n",
    "\n",
    "# # country specific\n",
    "# def get_row_by_country_name(_df, country_name):\n",
    "#     # Get country by name\n",
    "#     return _df[_df['country_name'] == country_name]\n",
    "\n",
    "# lets simplify\n",
    "def label_axes(_ax, _x_label, _y_label, _title):\n",
    "    _ax.set_xlabel(_x_label, fontsize=14)\n",
    "    _ax.set_ylabel(_y_label, fontsize=14)\n",
    "    _ax.set_title(_title, fontsize=14)"
   ]
  },
  {
   "cell_type": "code",
   "execution_count": 96,
   "metadata": {
    "collapsed": true
   },
   "outputs": [],
   "source": [
    "def drop_non_years(_df):\n",
    "    def _is_year(_y):\n",
    "        try:\n",
    "            float(_y)\n",
    "            return True\n",
    "        except ValueError:\n",
    "            return False\n",
    "    return _df[[x for x in _df.columns if _is_year(x)]] "
   ]
  },
  {
   "cell_type": "code",
   "execution_count": 97,
   "metadata": {
    "collapsed": true
   },
   "outputs": [],
   "source": [
    "# update equivalence unit (make it bill or 100s of mil)\n",
    "def make_df_single_country(_iso):\n",
    "    '''\n",
    "    Abstracting out what was done for Brazil. Need to test to see if this works\n",
    "    \n",
    "    _iso: String\n",
    "       iso country code in three letters ex. CHN for China and BRA for Brazil\n",
    "        \n",
    "    '''\n",
    "    assert cpwt.shape == cwb.shape == cimf.shape == cun.shape\n",
    "    \n",
    "    #pwt\n",
    "    _pwt = df_pwt.loc[_iso][31:] * 10**6\n",
    "    \n",
    "    #wb\n",
    "    _wb = df_wb.loc[_iso][21:56]\n",
    "    \n",
    "    # un\n",
    "    _un = df_un.loc[_iso][31:66] * 10**3\n",
    "    \n",
    "    # imf\n",
    "    _imf = df_imf.loc[_iso][1:36] * 10**6\n",
    "\n",
    "    return pd.DataFrame({'pwt': _pwt, \n",
    "                   'wb': _wb, \n",
    "                   'un': _un,\n",
    "                   'imf': _imf})"
   ]
  },
  {
   "cell_type": "markdown",
   "metadata": {},
   "source": [
    "### Y. Download data (PWT, IMF, WB) - real market"
   ]
  },
  {
   "cell_type": "code",
   "execution_count": 98,
   "metadata": {},
   "outputs": [],
   "source": [
    "dir_path = os.environ['ZERG']\n",
    "\n",
    "pwt = dir_path + 'data/pwt/pwt90.xlsx'\n",
    "wb = dir_path + 'data/wb/gdp/gdp_constant/API_NY.GDP.MKTP.KD_DS2_en_csv_v2.csv'\n",
    "imf = dir_path + 'data/imf/WEOOct2017all.xls'"
   ]
  },
  {
   "cell_type": "markdown",
   "metadata": {},
   "source": [
    "### A. Total GDP, real mkt"
   ]
  },
  {
   "cell_type": "markdown",
   "metadata": {},
   "source": [
    "### Data prepping:"
   ]
  },
  {
   "cell_type": "code",
   "execution_count": 99,
   "metadata": {
    "collapsed": true
   },
   "outputs": [],
   "source": [
    "# 1.WEO data (4 countries only for comparison with IFS)"
   ]
  },
  {
   "cell_type": "code",
   "execution_count": 100,
   "metadata": {},
   "outputs": [],
   "source": [
    "imf_sub = dir_path + 'data/imf/weo_oct_2017_sub.xls'"
   ]
  },
  {
   "cell_type": "code",
   "execution_count": 101,
   "metadata": {},
   "outputs": [],
   "source": [
    "df_imf_sub = pd.read_excel(imf_sub)\n",
    "df_imf_real_mkt = df_imf_sub[df_imf_sub['Type']=='gdp_real_mkt']"
   ]
  },
  {
   "cell_type": "code",
   "execution_count": 102,
   "metadata": {
    "scrolled": false
   },
   "outputs": [],
   "source": [
    "df_imf_mod = drop_non_years(set_col_as_index(df_imf_real_mkt, 'ISO'))\n",
    "df_imf_mod.columns = df_imf_mod.columns.to_series().apply(lambda x: int(x))"
   ]
  },
  {
   "cell_type": "code",
   "execution_count": 103,
   "metadata": {},
   "outputs": [
    {
     "data": {
      "text/html": [
       "<div>\n",
       "<style>\n",
       "    .dataframe thead tr:only-child th {\n",
       "        text-align: right;\n",
       "    }\n",
       "\n",
       "    .dataframe thead th {\n",
       "        text-align: left;\n",
       "    }\n",
       "\n",
       "    .dataframe tbody tr th {\n",
       "        vertical-align: top;\n",
       "    }\n",
       "</style>\n",
       "<table border=\"1\" class=\"dataframe\">\n",
       "  <thead>\n",
       "    <tr style=\"text-align: right;\">\n",
       "      <th></th>\n",
       "      <th>1980</th>\n",
       "      <th>1981</th>\n",
       "      <th>1982</th>\n",
       "      <th>1983</th>\n",
       "      <th>1984</th>\n",
       "      <th>1985</th>\n",
       "      <th>1986</th>\n",
       "      <th>1987</th>\n",
       "      <th>1988</th>\n",
       "      <th>1989</th>\n",
       "      <th>...</th>\n",
       "      <th>2013</th>\n",
       "      <th>2014</th>\n",
       "      <th>2015</th>\n",
       "      <th>2016</th>\n",
       "      <th>2017</th>\n",
       "      <th>2018</th>\n",
       "      <th>2019</th>\n",
       "      <th>2020</th>\n",
       "      <th>2021</th>\n",
       "      <th>2022</th>\n",
       "    </tr>\n",
       "    <tr>\n",
       "      <th>ISO</th>\n",
       "      <th></th>\n",
       "      <th></th>\n",
       "      <th></th>\n",
       "      <th></th>\n",
       "      <th></th>\n",
       "      <th></th>\n",
       "      <th></th>\n",
       "      <th></th>\n",
       "      <th></th>\n",
       "      <th></th>\n",
       "      <th></th>\n",
       "      <th></th>\n",
       "      <th></th>\n",
       "      <th></th>\n",
       "      <th></th>\n",
       "      <th></th>\n",
       "      <th></th>\n",
       "      <th></th>\n",
       "      <th></th>\n",
       "      <th></th>\n",
       "      <th></th>\n",
       "    </tr>\n",
       "  </thead>\n",
       "  <tbody>\n",
       "    <tr>\n",
       "      <th>BRA</th>\n",
       "      <td>697.792</td>\n",
       "      <td>761.919</td>\n",
       "      <td>728.395</td>\n",
       "      <td>732.736</td>\n",
       "      <td>707.823</td>\n",
       "      <td>745.387</td>\n",
       "      <td>804.28</td>\n",
       "      <td>864.955</td>\n",
       "      <td>896.102</td>\n",
       "      <td>898.468</td>\n",
       "      <td>...</td>\n",
       "      <td>1740.156363</td>\n",
       "      <td>1792.448062</td>\n",
       "      <td>1801.48</td>\n",
       "      <td>1802.450000</td>\n",
       "      <td>1803.450000</td>\n",
       "      <td>1804.470000</td>\n",
       "      <td>1805.490000</td>\n",
       "      <td>1806.510000</td>\n",
       "      <td>1807.530000</td>\n",
       "      <td>1808.550000</td>\n",
       "    </tr>\n",
       "    <tr>\n",
       "      <th>CHN</th>\n",
       "      <td>428.2</td>\n",
       "      <td>462.07</td>\n",
       "      <td>485.64</td>\n",
       "      <td>529.35</td>\n",
       "      <td>586.52</td>\n",
       "      <td>675.67</td>\n",
       "      <td>766.88</td>\n",
       "      <td>835.14</td>\n",
       "      <td>932.85</td>\n",
       "      <td>1038.26</td>\n",
       "      <td>...</td>\n",
       "      <td>9705.410000</td>\n",
       "      <td>10462.430000</td>\n",
       "      <td>11226.19</td>\n",
       "      <td>12000.790000</td>\n",
       "      <td>12804.850000</td>\n",
       "      <td>13671.090000</td>\n",
       "      <td>14559.710000</td>\n",
       "      <td>15476.980000</td>\n",
       "      <td>16436.550000</td>\n",
       "      <td>17422.740000</td>\n",
       "    </tr>\n",
       "    <tr>\n",
       "      <th>IND</th>\n",
       "      <td>253.123</td>\n",
       "      <td>266.49</td>\n",
       "      <td>282.496</td>\n",
       "      <td>292.315</td>\n",
       "      <td>313.622</td>\n",
       "      <td>325.606</td>\n",
       "      <td>342.713</td>\n",
       "      <td>359.085</td>\n",
       "      <td>373.322</td>\n",
       "      <td>409.266</td>\n",
       "      <td>...</td>\n",
       "      <td>1827.284322</td>\n",
       "      <td>1943.974699</td>\n",
       "      <td>2089.87</td>\n",
       "      <td>2238.397061</td>\n",
       "      <td>2388.750191</td>\n",
       "      <td>2564.729418</td>\n",
       "      <td>2764.829607</td>\n",
       "      <td>2984.135892</td>\n",
       "      <td>3225.821058</td>\n",
       "      <td>3489.177089</td>\n",
       "    </tr>\n",
       "    <tr>\n",
       "      <th>USA</th>\n",
       "      <td>7317.35</td>\n",
       "      <td>7299.5</td>\n",
       "      <td>7488.85</td>\n",
       "      <td>7345.74</td>\n",
       "      <td>7686.06</td>\n",
       "      <td>8244</td>\n",
       "      <td>8593.38</td>\n",
       "      <td>8895.17</td>\n",
       "      <td>9203.13</td>\n",
       "      <td>9590.03</td>\n",
       "      <td>...</td>\n",
       "      <td>17375.452570</td>\n",
       "      <td>17666.838910</td>\n",
       "      <td>18120.70</td>\n",
       "      <td>18121.714850</td>\n",
       "      <td>18122.736660</td>\n",
       "      <td>18123.760070</td>\n",
       "      <td>18124.779140</td>\n",
       "      <td>18125.796830</td>\n",
       "      <td>18126.813890</td>\n",
       "      <td>18127.830690</td>\n",
       "    </tr>\n",
       "  </tbody>\n",
       "</table>\n",
       "<p>4 rows × 43 columns</p>\n",
       "</div>"
      ],
      "text/plain": [
       "        1980     1981     1982     1983     1984     1985     1986     1987  \\\n",
       "ISO                                                                           \n",
       "BRA  697.792  761.919  728.395  732.736  707.823  745.387   804.28  864.955   \n",
       "CHN    428.2   462.07   485.64   529.35   586.52   675.67   766.88   835.14   \n",
       "IND  253.123   266.49  282.496  292.315  313.622  325.606  342.713  359.085   \n",
       "USA  7317.35   7299.5  7488.85  7345.74  7686.06     8244  8593.38  8895.17   \n",
       "\n",
       "        1988     1989      ...               2013          2014      2015  \\\n",
       "ISO                        ...                                              \n",
       "BRA  896.102  898.468      ...        1740.156363   1792.448062   1801.48   \n",
       "CHN   932.85  1038.26      ...        9705.410000  10462.430000  11226.19   \n",
       "IND  373.322  409.266      ...        1827.284322   1943.974699   2089.87   \n",
       "USA  9203.13  9590.03      ...       17375.452570  17666.838910  18120.70   \n",
       "\n",
       "             2016          2017          2018          2019          2020  \\\n",
       "ISO                                                                         \n",
       "BRA   1802.450000   1803.450000   1804.470000   1805.490000   1806.510000   \n",
       "CHN  12000.790000  12804.850000  13671.090000  14559.710000  15476.980000   \n",
       "IND   2238.397061   2388.750191   2564.729418   2764.829607   2984.135892   \n",
       "USA  18121.714850  18122.736660  18123.760070  18124.779140  18125.796830   \n",
       "\n",
       "             2021          2022  \n",
       "ISO                              \n",
       "BRA   1807.530000   1808.550000  \n",
       "CHN  16436.550000  17422.740000  \n",
       "IND   3225.821058   3489.177089  \n",
       "USA  18126.813890  18127.830690  \n",
       "\n",
       "[4 rows x 43 columns]"
      ]
     },
     "execution_count": 103,
     "metadata": {},
     "output_type": "execute_result"
    }
   ],
   "source": [
    "df_imf_mod"
   ]
  },
  {
   "cell_type": "code",
   "execution_count": 104,
   "metadata": {
    "scrolled": false
   },
   "outputs": [],
   "source": [
    "historical_years = [x for x in range(1980,2017)] # not forecasts\n",
    "df_imf_hist = df_imf_mod[historical_years]"
   ]
  },
  {
   "cell_type": "code",
   "execution_count": 110,
   "metadata": {
    "collapsed": true
   },
   "outputs": [],
   "source": [
    "sns.set_color_codes()"
   ]
  },
  {
   "cell_type": "code",
   "execution_count": 112,
   "metadata": {
    "scrolled": false
   },
   "outputs": [
    {
     "data": {
      "image/png": "[encoded data removed]",
      "text/plain": [
       "<matplotlib.figure.Figure at 0x1c207c2518>"
      ]
     },
     "metadata": {},
     "output_type": "display_data"
    }
   ],
   "source": [
    "plt.close()\n",
    "\n",
    "a = df_imf_hist.T.plot(style=['bo-','ro-', 'yo-', 'go-'], figsize=(15,10), fontsize=14, grid=True, rot=320, colormap='tab10')\n",
    "\n",
    "label_axes(a, \n",
    "           'Years (1980-2016)', \n",
    "           'GDP (real, 2015 market) (in bil)', \n",
    "           'Country GDP (real, 2015 market) for USA, China, India and Brazil')"
   ]
  },
  {
   "cell_type": "code",
   "execution_count": 107,
   "metadata": {
    "collapsed": true
   },
   "outputs": [],
   "source": [
    "# Country GDP using IMF IFS"
   ]
  },
  {
   "cell_type": "code",
   "execution_count": 108,
   "metadata": {
    "collapsed": true
   },
   "outputs": [],
   "source": [
    "# Open other data"
   ]
  },
  {
   "cell_type": "code",
   "execution_count": null,
   "metadata": {
    "collapsed": true
   },
   "outputs": [],
   "source": [
    "pwt = dir_path + 'data/pwt/pwt90.xlsx'\n",
    "wb = dir_path + 'data/wb/gdp/gdp_constant/API_NY.GDP.MKTP.KD_DS2_en_csv_v2.csv'\n",
    "\n",
    "un = dir_path + 'data/un/na/Download-GDPconstant-USD-countries.xls'"
   ]
  },
  {
   "cell_type": "code",
   "execution_count": null,
   "metadata": {
    "collapsed": true
   },
   "outputs": [],
   "source": [
    "# pwt has all data in one file\n",
    "df_pwt = pd.read_excel(pwt, sheetname='Data')"
   ]
  },
  {
   "cell_type": "code",
   "execution_count": null,
   "metadata": {
    "collapsed": true
   },
   "outputs": [],
   "source": [
    "# WB has separate files for each (real market) - or at least this is an option\n",
    "df_wb = pd.read_csv(wb, skiprows=4)"
   ]
  },
  {
   "cell_type": "code",
   "execution_count": null,
   "metadata": {
    "collapsed": true
   },
   "outputs": [],
   "source": [
    "df_un = pd.read_excel()"
   ]
  },
  {
   "cell_type": "code",
   "execution_count": null,
   "metadata": {
    "collapsed": true
   },
   "outputs": [],
   "source": [
    "# Fix imf data opening\n",
    "df_imf = pd.read_csv(imf)"
   ]
  },
  {
   "cell_type": "code",
   "execution_count": null,
   "metadata": {
    "collapsed": true
   },
   "outputs": [],
   "source": [
    "df"
   ]
  },
  {
   "cell_type": "code",
   "execution_count": null,
   "metadata": {
    "collapsed": true
   },
   "outputs": [],
   "source": [
    "df_pwt_real_m = df_pwt_raw.copy()"
   ]
  },
  {
   "cell_type": "markdown",
   "metadata": {},
   "source": [
    "#### Data prepping (PWT):\n",
    "\n",
    "    1) rename columns (countrycode->iso and country-> country_name) to enforce consistency across munged data sources\n",
    "    \n",
    "    2) get subset of PWT raw data using columns of interest (real gdp, country name/iso, pop\n",
    "\n",
    "    3) set iso column as the index"
   ]
  },
  {
   "cell_type": "markdown",
   "metadata": {},
   "source": [
    "#### 1. Rename columns for name consistency across sources"
   ]
  },
  {
   "cell_type": "code",
   "execution_count": null,
   "metadata": {
    "collapsed": true
   },
   "outputs": [],
   "source": [
    "df_pwt_renamed = df_pwt_real_m.rename(index=str, columns={'countrycode': 'iso', 'country': 'country_name'})"
   ]
  },
  {
   "cell_type": "markdown",
   "metadata": {},
   "source": [
    "#### 2. Get a subset of PWT data (only columns related to gdp, plus iso and pop)"
   ]
  },
  {
   "cell_type": "code",
   "execution_count": null,
   "metadata": {
    "collapsed": true
   },
   "outputs": [],
   "source": [
    "gdp_cols = ['iso', 'rgdpna', 'rgdpe', 'rgdpo', 'pop']"
   ]
  },
  {
   "cell_type": "code",
   "execution_count": null,
   "metadata": {
    "collapsed": true
   },
   "outputs": [],
   "source": [
    "df_pwt_sub = df_pwt_renamed[gdp_cols]"
   ]
  },
  {
   "cell_type": "markdown",
   "metadata": {},
   "source": [
    "#### 3. Set iso as index"
   ]
  },
  {
   "cell_type": "code",
   "execution_count": null,
   "metadata": {
    "collapsed": true
   },
   "outputs": [],
   "source": [
    "df_pwt_iso = set_iso_as_index(df_pwt_sub, 'iso')\n",
    "# df_pwt_iso"
   ]
  },
  {
   "cell_type": "code",
   "execution_count": null,
   "metadata": {},
   "outputs": [],
   "source": [
    "df_pwt_iso['rgdpe']"
   ]
  },
  {
   "cell_type": "markdown",
   "metadata": {},
   "source": [
    "## 1. drop all non-years"
   ]
  },
  {
   "cell_type": "code",
   "execution_count": null,
   "metadata": {
    "collapsed": true
   },
   "outputs": [],
   "source": [
    "# open ISO data (RHG_regions)\n",
    "# this is SLOW\n",
    "iso = pd.read_csv(rhg_regions)"
   ]
  },
  {
   "cell_type": "code",
   "execution_count": null,
   "metadata": {},
   "outputs": [],
   "source": [
    "iso.columns"
   ]
  },
  {
   "cell_type": "code",
   "execution_count": null,
   "metadata": {
    "collapsed": true
   },
   "outputs": [],
   "source": [
    "iso_map_pre = iso[['country_name_imf', 'ALPHA-3']].set_index('country_name_imf')"
   ]
  },
  {
   "cell_type": "code",
   "execution_count": null,
   "metadata": {
    "collapsed": true
   },
   "outputs": [],
   "source": [
    "iso_map = iso_map_pre.to_dict()['ALPHA-3']\n",
    "iso_map_rev = {y:x for x,y in iso_map.items()}"
   ]
  },
  {
   "cell_type": "code",
   "execution_count": null,
   "metadata": {
    "collapsed": true
   },
   "outputs": [],
   "source": [
    "#iso_map_rev # map from iso to country nape\n",
    "#iso_map # map from country name to ISO"
   ]
  },
  {
   "cell_type": "code",
   "execution_count": null,
   "metadata": {
    "collapsed": true
   },
   "outputs": [],
   "source": [
    "pwt_countries=pop_pwt['countrycode']\n",
    "un_countries=pop_un['ISO3']\n",
    "# wb_countries=pop_wb['Country Code']"
   ]
  },
  {
   "cell_type": "code",
   "execution_count": null,
   "metadata": {
    "collapsed": true
   },
   "outputs": [],
   "source": [
    "iso_map.get('moon')\n",
    "iso_map.get('United States of America')"
   ]
  },
  {
   "cell_type": "markdown",
   "metadata": {},
   "source": [
    "### MAP country name to country code"
   ]
  },
  {
   "cell_type": "code",
   "execution_count": null,
   "metadata": {
    "collapsed": true
   },
   "outputs": [],
   "source": [
    "pop_imf['country_code'] = pop_imf['country_name'].apply(lambda name: iso_map[name] if iso_map.get(name) else name)"
   ]
  },
  {
   "cell_type": "code",
   "execution_count": null,
   "metadata": {
    "collapsed": true
   },
   "outputs": [],
   "source": [
    "# imf data doesn't provide country code so needs manual mapping\n",
    "imf_countries = pop_imf['country_code']"
   ]
  },
  {
   "cell_type": "code",
   "execution_count": null,
   "metadata": {},
   "outputs": [],
   "source": [
    "[print(country) for country in pop_imf['country_code'].tolist() if len(country) > 3]"
   ]
  },
  {
   "cell_type": "code",
   "execution_count": null,
   "metadata": {
    "collapsed": true
   },
   "outputs": [],
   "source": [
    "pwt_set = set(pwt_countries)\n",
    "un_set = set(un_countries)\n",
    "wb_set = set(wb_countries)\n",
    "imf_set = set(imf_countries)"
   ]
  },
  {
   "cell_type": "code",
   "execution_count": null,
   "metadata": {
    "scrolled": true
   },
   "outputs": [],
   "source": [
    "ls = {\n",
    "    'pwt': pwt_set,\n",
    "    'un': un_set,\n",
    "    'wb': wb_set,\n",
    "    'imf': imf_set\n",
    "}\n",
    "\n",
    "for k,v in ls.items():\n",
    "    print ('{} has {} countries'.format(k,len(v)))\n",
    "\n",
    "# pwt compare"
   ]
  },
  {
   "cell_type": "code",
   "execution_count": null,
   "metadata": {},
   "outputs": [],
   "source": [
    "countries_in_un_not_wb = ls['un'] - ls['wb']\n",
    "sorted([iso_map_rev[c] for c in countries_in_un_not_wb])"
   ]
  },
  {
   "cell_type": "markdown",
   "metadata": {},
   "source": [
    "# countries in imf but not in pwt"
   ]
  },
  {
   "cell_type": "code",
   "execution_count": null,
   "metadata": {},
   "outputs": [],
   "source": [
    "countries_in_imf_not_pwt = ls['imf'] - ls['pwt']\n",
    "     \n",
    "sorted([iso_map_rev.get(c) for c in countries_in_imf_not_pwt if iso_map_rev.get(c)])"
   ]
  },
  {
   "cell_type": "markdown",
   "metadata": {},
   "source": [
    "## Convenience functions"
   ]
  },
  {
   "cell_type": "markdown",
   "metadata": {},
   "source": [
    "### Function to retrieve missing # years per country for a given list of countries\n",
    "```\n",
    "Given a list of countries\n",
    "\n",
    "Retrieve # of missing years for each country\n",
    "\n",
    "Optional: *specify a dataset\n",
    "Optional: replace Country Name with Country code to be more reusable\n",
    "```"
   ]
  },
  {
   "cell_type": "code",
   "execution_count": null,
   "metadata": {
    "collapsed": true
   },
   "outputs": [],
   "source": [
    "def get_missing_years(_list_of_countries):\n",
    "    '''\n",
    "    Parmeters\n",
    "    ----\n",
    "    [Python List] _list_of_countries\n",
    "        list of countries (each country is a Country name as a String)\n",
    "        \n",
    "    Returns\n",
    "    ----\n",
    "    [Python List]\n",
    "        a list of tuple pairs containing (country_name, #_missing_years)\n",
    "    where country_name (String) and # missing_years (int)\n",
    "    sorted by decreasing # of missing years\n",
    "    '''\n",
    "    missing_years = []\n",
    "    \n",
    "    return []"
   ]
  },
  {
   "cell_type": "markdown",
   "metadata": {},
   "source": [
    "### Mungdata data\n",
    "\n",
    "1) rename indexes to be consistent across data set\n",
    "\n",
    "2) set iso column as the index"
   ]
  },
  {
   "cell_type": "markdown",
   "metadata": {},
   "source": [
    "#### Rename cols"
   ]
  },
  {
   "cell_type": "code",
   "execution_count": null,
   "metadata": {},
   "outputs": [],
   "source": [
    "for _df in [pwt_bra, wb_bra, un_bra, imf_bra]:\n",
    "    if type(_df.index) != pd.core.indexes.numeric.Float64Index:\n",
    "        _df.index = _df.index.map(float)\n",
    "        \n",
    "for _df in [pwt_bra, wb_bra, un_bra, imf_bra]:\n",
    "    print (type(_df.index))"
   ]
  },
  {
   "cell_type": "code",
   "execution_count": null,
   "metadata": {
    "collapsed": true
   },
   "outputs": [],
   "source": [
    "df1 = pd.DataFrame({'pwt': pwt_bra, \n",
    "                   'wb': wb_bra, \n",
    "                   'un': un_bra,\n",
    "                   'imf': imf_bra})\n",
    "\n",
    "#pd.concat([cpwt, cwb, cun, cimf], axis=1)"
   ]
  },
  {
   "cell_type": "code",
   "execution_count": null,
   "metadata": {},
   "outputs": [],
   "source": [
    "# plt.close()\n",
    "# plt.figure(figsize=(18,15))\n",
    "\n",
    "\n",
    "# pwt9.set_index(['countrycode', 'year']).unstack('year')['rgdpe_pc'].loc[['IND', 'IDN', 'BRA', 'CHN']].T.plot(style='*')\n",
    "p1 = df1.plot(style='*', figsize=(10,5))\n",
    "label_axes(plt, 'a', 'b', 'c')"
   ]
  },
  {
   "cell_type": "code",
   "execution_count": null,
   "metadata": {
    "scrolled": true
   },
   "outputs": [],
   "source": [
    "df1.isnull().sum()\n",
    "# no nan values!"
   ]
  },
  {
   "cell_type": "markdown",
   "metadata": {},
   "source": [
    "## Compare total population"
   ]
  },
  {
   "cell_type": "markdown",
   "metadata": {},
   "source": [
    "### Get only years 1980-2014"
   ]
  },
  {
   "cell_type": "code",
   "execution_count": null,
   "metadata": {
    "collapsed": true
   },
   "outputs": [],
   "source": [
    "cols_of_interest = ['country_name']\n",
    "years = [str(y) for y in range(1980, 2015)]\n",
    "cols_of_interest.extend(years)"
   ]
  },
  {
   "cell_type": "code",
   "execution_count": null,
   "metadata": {
    "collapsed": true
   },
   "outputs": [],
   "source": [
    "ds = [df_pwt, df_wb, df_un, df_imf]"
   ]
  },
  {
   "cell_type": "code",
   "execution_count": null,
   "metadata": {},
   "outputs": [],
   "source": [
    "## Convert imf years from int to str (to be consistent with other datasets)\n",
    "df_imf.columns = map(str, df_imf.columns)\n",
    "df_imf.columns"
   ]
  },
  {
   "cell_type": "code",
   "execution_count": null,
   "metadata": {},
   "outputs": [],
   "source": [
    "for dd in ds:\n",
    "    print(dd[cols_of_interest].shape)"
   ]
  },
  {
   "cell_type": "code",
   "execution_count": null,
   "metadata": {},
   "outputs": [],
   "source": [
    "# WB Total\n",
    "df_wb\n",
    "df_wb.loc['Total'] = df_wb.iloc[:, 1:].sum()\n",
    "wb_total = df_wb[cols_for_total].loc['Total']\n",
    "wb_total.to_dict()"
   ]
  },
  {
   "cell_type": "markdown",
   "metadata": {},
   "source": [
    "### c) IMF Total"
   ]
  },
  {
   "cell_type": "code",
   "execution_count": null,
   "metadata": {
    "collapsed": true
   },
   "outputs": [],
   "source": [
    "imf_total = get_row_by_country_name(df_imf, 'Total').reset_index()[cols_for_total]\n",
    "imf_total"
   ]
  },
  {
   "cell_type": "markdown",
   "metadata": {},
   "source": [
    "### d) UN total"
   ]
  },
  {
   "cell_type": "code",
   "execution_count": null,
   "metadata": {},
   "outputs": [],
   "source": [
    "un_total =df_un[cols_of_interest].iloc[:, 1:].sum()\n",
    "un_total.to_dict() # pd.Series"
   ]
  },
  {
   "cell_type": "code",
   "execution_count": null,
   "metadata": {
    "collapsed": true
   },
   "outputs": [],
   "source": [
    "imf_total = imf_total.loc[0] # convert to series"
   ]
  },
  {
   "cell_type": "code",
   "execution_count": null,
   "metadata": {
    "collapsed": true
   },
   "outputs": [],
   "source": [
    "df_pop_total = pd.DataFrame({\n",
    "    'un': un_total* 10**3,\n",
    "    'wb': wb_total,\n",
    "    'imf': imf_total*10**6,\n",
    "    'pwt': pwt_total.loc[0]*10**6\n",
    "})\n",
    "\n",
    "df_pop_total.to_csv('munged_data/total_population_all_sources.csv')"
   ]
  },
  {
   "cell_type": "code",
   "execution_count": null,
   "metadata": {},
   "outputs": [],
   "source": [
    "plt.close()\n",
    "\n",
    "a = df_pop_total.plot(style=['bo-','ro-', 'yo-', 'go-'], figsize=(15,10), fontsize=14, grid=True, rot=320, colormap='tab10')\n",
    "# pwt9.set_index(['countrycode', 'year']).unstack('year')['rgdpe_pc'].loc[['IND', 'IDN', 'BRA', 'CHN']].T.plot(style='*')\n",
    "\n",
    "type(a)\n",
    "a.set_xlabel('Years', fontsize=14)\n",
    "a.set_ylabel('Total population (in billion)', fontsize=14)\n",
    "a.set_title('Total Population (1980-2014) from different sources', fontsize=14)\n",
    "#a.grid(False)\n",
    "\n",
    "# arr = np.arange(100).reshape((10,10))\n",
    "\n",
    "# plt.close('all')\n",
    "# fig = plt.figure(figsize=(5,4))\n",
    "\n",
    "# ax = plt.subplot(111)\n",
    "# im = ax.imshow(arr, interpolation=\"none\")\n",
    "\n",
    "# plt.tight_layout()\n"
   ]
  },
  {
   "cell_type": "code",
   "execution_count": null,
   "metadata": {
    "scrolled": false
   },
   "outputs": [],
   "source": [
    "plt.close()\n",
    "\n",
    "a = df_pop_total.plot(style=['bs-','ro-', 'y^-', 'g*'], figsize=(15,10), fontsize=14, grid=True, rot=320, colormap='tab10')\n",
    "# pwt9.set_index(['countrycode', 'year']).unstack('year')['rgdpe_pc'].loc[['IND', 'IDN', 'BRA', 'CHN']].T.plot(style='*')\n",
    "\n",
    "type(a)\n",
    "a.set_xlabel('Years', fontsize=14)\n",
    "a.set_ylabel('Total population (in billion)', fontsize=14)\n",
    "a.set_title('Total Population (1980-2014) from different sources', fontsize=14)\n",
    "#a.grid(False)\n",
    "\n",
    "# arr = np.arange(100).reshape((10,10))\n",
    "\n",
    "# plt.close('all')\n",
    "# fig = plt.figure(figsize=(5,4))\n",
    "\n",
    "# ax = plt.subplot(111)\n",
    "# im = ax.imshow(arr, interpolation=\"none\")\n",
    "\n",
    "# plt.tight_layout()\n"
   ]
  },
  {
   "cell_type": "code",
   "execution_count": null,
   "metadata": {
    "collapsed": true
   },
   "outputs": [],
   "source": [
    "a"
   ]
  },
  {
   "cell_type": "code",
   "execution_count": null,
   "metadata": {},
   "outputs": [],
   "source": [
    "df_total_pop"
   ]
  },
  {
   "cell_type": "code",
   "execution_count": null,
   "metadata": {},
   "outputs": [],
   "source": [
    "df_pop_total.plot(kind='scatter', x='pwt', y='imf', c='un', s=50);\n"
   ]
  },
  {
   "cell_type": "code",
   "execution_count": null,
   "metadata": {
    "collapsed": true
   },
   "outputs": [],
   "source": []
  },
  {
   "cell_type": "markdown",
   "metadata": {},
   "source": [
    "#### Why does WB have higher population than others? (verify summing process was correct)"
   ]
  },
  {
   "cell_type": "markdown",
   "metadata": {},
   "source": [
    "### Compare growth rate values of total population"
   ]
  },
  {
   "cell_type": "markdown",
   "metadata": {},
   "source": [
    "### Calculate percent change!\n"
   ]
  },
  {
   "cell_type": "code",
   "execution_count": null,
   "metadata": {},
   "outputs": [],
   "source": [
    "# calculate percent change!\n",
    "    \n",
    "print(df_pop_total['wb'].pct_change().tolist())"
   ]
  },
  {
   "cell_type": "code",
   "execution_count": null,
   "metadata": {},
   "outputs": [],
   "source": [
    "test = df_pop_total['wb'].head()\n",
    "(test[2]-test[1])*1.0 / test[1]\n",
    "pct_del = lambda _s, idx: (_s[idx]-_s[idx-1]*1.0)/_s[idx-1]\n",
    "print(pct_del(test,3))\n",
    "print(pct_del(test,2))\n",
    "print(pct_del(test,1))"
   ]
  },
  {
   "cell_type": "code",
   "execution_count": null,
   "metadata": {
    "collapsed": true
   },
   "outputs": [],
   "source": []
  },
  {
   "cell_type": "markdown",
   "metadata": {},
   "source": [
    "### Compare select countries\n",
    "\n",
    "Brazil [x] above\n",
    "China\n",
    "UK\n",
    "USA\n",
    "Indonesia\n",
    "India\n",
    "Japan\n",
    "Tanzania\n",
    "...\n"
   ]
  },
  {
   "cell_type": "markdown",
   "metadata": {},
   "source": [
    "### Do single year comparison\n"
   ]
  },
  {
   "cell_type": "code",
   "execution_count": null,
   "metadata": {
    "collapsed": true
   },
   "outputs": [],
   "source": []
  }
 ],
 "metadata": {
  "kernelspec": {
   "display_name": "Python 3",
   "language": "python",
   "name": "python3"
  },
  "language_info": {
   "codemirror_mode": {
    "name": "ipython",
    "version": 3
   },
   "file_extension": ".py",
   "mimetype": "text/x-python",
   "name": "python",
   "nbconvert_exporter": "python",
   "pygments_lexer": "ipython3",
   "version": "3.6.3"
  }
 },
 "nbformat": 4,
 "nbformat_minor": 2
}
