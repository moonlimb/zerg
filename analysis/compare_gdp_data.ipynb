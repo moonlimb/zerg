{
 "cells": [
  {
   "cell_type": "code",
   "execution_count": 321,
   "metadata": {
    "collapsed": true
   },
   "outputs": [],
   "source": [
    "import os\n",
    "\n",
    "import matplotlib.pylab as plt\n",
    "import numpy as np\n",
    "import pandas as pd\n",
    "import seaborn as sns\n",
    "import xarray as xr\n",
    "\n",
    "% matplotlib inline\n",
    "sns.set()\n",
    "sns.set_color_codes()"
   ]
  },
  {
   "cell_type": "markdown",
   "metadata": {
    "collapsed": true
   },
   "source": [
    "## Comparing GDP\n",
    "\n",
    "### A. Total GDP (constant, mkt) data \n",
    "\n",
    "#### Tuesday\n",
    "\n",
    "* Compare constat market data from IMF (IFS vs WEO) - choose one **<span style=\"color:lime; background:green;\">In Progress</span>** for select countries\n",
    "    * For WEO **<span style=\"color:white; background:limegreen;\">DONE</span>**\n",
    "    * For IFS - construct real gdp series in reference to same base year\n",
    "\n",
    "* Construct xarray with other sources (PWT, UN, WB)\n",
    "\n",
    "\n",
    "* 3. Compare country-by-country (top 10? or all mortality sector \n",
    "    how much does this contribute to total discrepancy?\n",
    " \n",
    " \n",
    "* 4. Compare aggregates (top 10 countries)\n",
    "\n",
    "#### Wednesday \n",
    "* 5. Compare PWT values (rgpdna, rgpde, rgpdo)\n",
    "\n",
    "\n",
    "* Construct xarray **<span style=\"color:white; background:maroon;\">STARTED</span>**\n",
    "\n",
    "---\n",
    "Tips\n",
    "* Compare/plot major countries \n",
    "    * mortality countries\n",
    "        \n",
    "    Brazil  1997-2009\n",
    "    Chile 1997-2012\n",
    "    EU (different spatial scale than others - NUTS2)\n",
    "    France 1998-2012\n",
    "    India 1957-2001\n",
    "    Japan 1975-2012\n",
    "    Mexico 1990-2012\n",
    "    USA 1968-2013\n",
    "\n",
    "    * Question - is discrepancy from the top 10 or others? (get a factor of gdp_top_10/gdp_total\n",
    "\n",
    "* Compare with GDP (PPP)\n",
    "* Compare with La Porta for Mortality countries\n",
    "\n",
    "\n"
   ]
  },
  {
   "cell_type": "markdown",
   "metadata": {},
   "source": [
    "### Z. Convenience functions"
   ]
  },
  {
   "cell_type": "code",
   "execution_count": null,
   "metadata": {
    "collapsed": true
   },
   "outputs": [],
   "source": []
  },
  {
   "cell_type": "code",
   "execution_count": 322,
   "metadata": {
    "collapsed": true
   },
   "outputs": [],
   "source": [
    "def add_iso_column(_df, _country_name_col):\n",
    "    # uses iso_map (global dict)\n",
    "    _df['iso'] = _df[_country_name_col].apply(lambda name: iso_map[name] if iso_map.get(name) else name)\n",
    "    return _df\n",
    "\n",
    "def set_col_as_index(_df, _col_name):\n",
    "    return _df.set_index(_col_name)\n",
    "\n",
    "# country specific\n",
    "def get_row_by_country_name(_df, country_name, col_name='country_name'):\n",
    "    # Get country by name\n",
    "    return _df[_df[col_name] == country_name]\n",
    "\n",
    "# lets simplify\n",
    "def label_axes(_ax, _x_label, _y_label, _title):\n",
    "    _ax.set_xlabel(_x_label, fontsize=14)\n",
    "    _ax.set_ylabel(_y_label, fontsize=14)\n",
    "    _ax.set_title(_title, fontsize=14)"
   ]
  },
  {
   "cell_type": "code",
   "execution_count": 323,
   "metadata": {
    "collapsed": true
   },
   "outputs": [],
   "source": [
    "def drop_non_years(_df):\n",
    "    def _is_year(_y):\n",
    "        try:\n",
    "            float(_y)\n",
    "            return True\n",
    "        except ValueError:\n",
    "            return False\n",
    "    return _df[[x for x in _df.columns if _is_year(x)]] \n",
    "\n",
    "\n",
    "def drop_years_not_in_1950_2016(_df):\n",
    "    _cols = [y for y in range(1950, 2017)]\n",
    "    return df[_cols]"
   ]
  },
  {
   "cell_type": "code",
   "execution_count": 324,
   "metadata": {
    "collapsed": true
   },
   "outputs": [],
   "source": [
    "# update equivalence unit (make it bill or 100s of mil)\n",
    "def make_df_single_country(_iso):\n",
    "    '''\n",
    "    Abstracting out what was done for Brazil. Need to test to see if this works\n",
    "    \n",
    "    _iso: String\n",
    "       iso country code in three letters ex. CHN for China and BRA for Brazil\n",
    "        \n",
    "    '''\n",
    "    assert cpwt.shape == cwb.shape == cimf.shape == cun.shape\n",
    "    \n",
    "    #pwt\n",
    "    _pwt = df_pwt.loc[_iso][31:] * 10**6\n",
    "    \n",
    "    #wb\n",
    "    _wb = df_wb.loc[_iso][21:56]\n",
    "    \n",
    "    # un\n",
    "    _un = df_un.loc[_iso][31:66] * 10**3\n",
    "    \n",
    "    # imf\n",
    "    _imf = df_imf.loc[_iso][1:36] * 10**6\n",
    "\n",
    "    return pd.DataFrame({'pwt': _pwt, \n",
    "                   'wb': _wb, \n",
    "                   'un': _un,\n",
    "                   'imf': _imf})"
   ]
  },
  {
   "cell_type": "markdown",
   "metadata": {},
   "source": [
    "### X. Convenience Functions (ISO)\n"
   ]
  },
  {
   "cell_type": "code",
   "execution_count": 325,
   "metadata": {},
   "outputs": [
    {
     "ename": "AttributeError",
     "evalue": "'dict' object has no attribute 'to_dict'",
     "output_type": "error",
     "traceback": [
      "\u001b[0;31m---------------------------------------------------------------------------\u001b[0m",
      "\u001b[0;31mAttributeError\u001b[0m                            Traceback (most recent call last)",
      "\u001b[0;32m<ipython-input-325-1932d641908a>\u001b[0m in \u001b[0;36m<module>\u001b[0;34m()\u001b[0m\n\u001b[1;32m      4\u001b[0m \u001b[0;31m# rhg_regions may need to be updated to include kosovo and other missing countries\u001b[0m\u001b[0;34m\u001b[0m\u001b[0;34m\u001b[0m\u001b[0m\n\u001b[1;32m      5\u001b[0m \u001b[0miso_map_pre\u001b[0m \u001b[0;34m=\u001b[0m \u001b[0miso\u001b[0m\u001b[0;34m[\u001b[0m\u001b[0;34m[\u001b[0m\u001b[0;34m'iso'\u001b[0m\u001b[0;34m,\u001b[0m \u001b[0;34m'country_name'\u001b[0m\u001b[0;34m]\u001b[0m\u001b[0;34m]\u001b[0m\u001b[0;34m.\u001b[0m\u001b[0mset_index\u001b[0m\u001b[0;34m(\u001b[0m\u001b[0;34m'iso'\u001b[0m\u001b[0;34m)\u001b[0m\u001b[0;34m\u001b[0m\u001b[0m\n\u001b[0;32m----> 6\u001b[0;31m \u001b[0miso_map\u001b[0m \u001b[0;34m=\u001b[0m \u001b[0miso_map\u001b[0m\u001b[0;34m.\u001b[0m\u001b[0mto_dict\u001b[0m\u001b[0;34m(\u001b[0m\u001b[0;34m)\u001b[0m\u001b[0;34m\u001b[0m\u001b[0m\n\u001b[0m",
      "\u001b[0;31mAttributeError\u001b[0m: 'dict' object has no attribute 'to_dict'"
     ]
    }
   ],
   "source": [
    "rhg_regions = dir_path + 'data/meta_data/iso_based_on_rhg_regions.xls'\n",
    "iso = pd.read_excel(rhg_regions)\n",
    "\n",
    "# rhg_regions may need to be updated to include kosovo and other missing countries\n",
    "iso_map_pre = iso[['iso', 'country_name']].set_index('iso')\n",
    "type(iso_m)"
   ]
  },
  {
   "cell_type": "code",
   "execution_count": null,
   "metadata": {},
   "outputs": [],
   "source": [
    "df_wb['Country Name'].unique()\n",
    "get_row_by_country_name(df_wb, 'Kosovo', 'Country Name')"
   ]
  },
  {
   "cell_type": "code",
   "execution_count": null,
   "metadata": {},
   "outputs": [],
   "source": [
    "# df_wb['Country Code'].unique()"
   ]
  },
  {
   "cell_type": "markdown",
   "metadata": {},
   "source": [
    "### Y. Download data (PWT, IMF, WB) - real market"
   ]
  },
  {
   "cell_type": "code",
   "execution_count": null,
   "metadata": {
    "collapsed": true
   },
   "outputs": [],
   "source": [
    "dir_path = os.environ['ZERG']\n",
    "\n",
    "pwt = dir_path + 'data/pwt/pwt90.xlsx'\n",
    "wb = dir_path + 'data/wb/gdp/gdp_constant/API_NY.GDP.MKTP.KD_DS2_en_csv_v2.csv'\n",
    "imf = dir_path + 'data/imf/WEOOct2017all.xls'"
   ]
  },
  {
   "cell_type": "markdown",
   "metadata": {},
   "source": [
    "### A. Total GDP, real mkt"
   ]
  },
  {
   "cell_type": "markdown",
   "metadata": {},
   "source": [
    "### Data prepping:"
   ]
  },
  {
   "cell_type": "code",
   "execution_count": null,
   "metadata": {
    "collapsed": true
   },
   "outputs": [],
   "source": [
    "# 1.WEO data (4 countries only for comparison with IFS)"
   ]
  },
  {
   "cell_type": "code",
   "execution_count": null,
   "metadata": {
    "collapsed": true
   },
   "outputs": [],
   "source": [
    "imf_sub = dir_path + 'data/imf/weo_oct_2017_sub.xls'"
   ]
  },
  {
   "cell_type": "code",
   "execution_count": null,
   "metadata": {
    "collapsed": true
   },
   "outputs": [],
   "source": [
    "df_imf_sub = pd.read_excel(imf_sub)\n",
    "df_imf_real_mkt = df_imf_sub[df_imf_sub['Type']=='gdp_real_mkt']"
   ]
  },
  {
   "cell_type": "code",
   "execution_count": null,
   "metadata": {
    "collapsed": true,
    "scrolled": false
   },
   "outputs": [],
   "source": [
    "df_imf_mod = drop_non_years(set_col_as_index(df_imf_real_mkt, 'ISO'))\n",
    "df_imf_mod.columns = df_imf_mod.columns.to_series().apply(lambda x: int(x))"
   ]
  },
  {
   "cell_type": "code",
   "execution_count": null,
   "metadata": {
    "collapsed": true,
    "scrolled": false
   },
   "outputs": [],
   "source": [
    "historical_years = [x for x in range(1980,2017)] # not forecasts\n",
    "df_imf_hist = df_imf_mod[historical_years]"
   ]
  },
  {
   "cell_type": "code",
   "execution_count": null,
   "metadata": {
    "scrolled": false
   },
   "outputs": [],
   "source": [
    "a = df_imf_hist.T.plot(style=['bo-','ro-', 'yo-', 'go-'], figsize=(15,10), fontsize=14, grid=True, rot=320, colormap='tab10')\n",
    "\n",
    "label_axes(a, \n",
    "           'Years (1980-2016)', \n",
    "           'GDP (real, 2015 market) (in bil)', \n",
    "           'Country GDP (real, 2015 market) for USA, China, India and Brazil (WEO data)')"
   ]
  },
  {
   "cell_type": "code",
   "execution_count": null,
   "metadata": {
    "scrolled": true
   },
   "outputs": [],
   "source": [
    "# Country GDP using IMF IFS\n",
    "# waiting on IFS data subset\n",
    "# this is painful - IFS has lot of issues\n",
    "dir_path\n",
    "'/Users/mlimb/Downloads/IFS_12-29-2017 19-25-04-10_timeSeries/ifs_test_file2.csv'\n"
   ]
  },
  {
   "cell_type": "code",
   "execution_count": null,
   "metadata": {
    "collapsed": true
   },
   "outputs": [],
   "source": [
    "filepath_ifs_real_gdp = '/Users/mlimb/Dropbox/covariate_project/zerg/data/imf/ifs/ifs_real_gdp_sub.xls'\n",
    "filepath_ifs_ex_rate = '/Users/mlimb/Dropbox/covariate_project/zerg/data/imf/ifs/ifs_exchange_rate_sub.xls'"
   ]
  },
  {
   "cell_type": "code",
   "execution_count": null,
   "metadata": {
    "collapsed": true
   },
   "outputs": [],
   "source": [
    "# real gdp: sheetname: gdp_real_spliced_historical_dcu\n",
    "# dcu is for domestic currency unit"
   ]
  },
  {
   "cell_type": "code",
   "execution_count": null,
   "metadata": {
    "collapsed": true
   },
   "outputs": [],
   "source": [
    "df_real_gdp = pd.read_excel(filepath_ifs_real_gdp, sheetname='gdp_real_spliced_historical_dcu')"
   ]
  },
  {
   "cell_type": "code",
   "execution_count": null,
   "metadata": {
    "collapsed": true
   },
   "outputs": [],
   "source": [
    "df_ex_rate = pd.read_excel(filepath_ifs_ex_rate, sheetname='exchange_rate_avg')"
   ]
  },
  {
   "cell_type": "code",
   "execution_count": null,
   "metadata": {
    "collapsed": true
   },
   "outputs": [],
   "source": [
    "df_real_gdp_iso = set_col_as_index(df_real_gdp, 'iso')\n",
    "df_ex_rate_iso = set_col_as_index(df_ex_rate, 'iso')"
   ]
  },
  {
   "cell_type": "code",
   "execution_count": null,
   "metadata": {
    "collapsed": true
   },
   "outputs": [],
   "source": [
    "#plot GDP in DCU first"
   ]
  },
  {
   "cell_type": "code",
   "execution_count": null,
   "metadata": {
    "collapsed": true
   },
   "outputs": [],
   "source": [
    "df_real_gdp_years = drop_non_years(df_real_gdp_iso)\n",
    "df_real_gdp_final = df_real_gdp_years.astype(float)"
   ]
  },
  {
   "cell_type": "code",
   "execution_count": null,
   "metadata": {
    "collapsed": true
   },
   "outputs": [],
   "source": [
    "# exchange rate: avg is for period average exchange rate vs end of period (eop?)\n",
    "# this is kinda slow"
   ]
  },
  {
   "cell_type": "code",
   "execution_count": null,
   "metadata": {},
   "outputs": [],
   "source": [
    "a = df_real_gdp_final.T.plot(style=['bo-','ro-', 'yo-', 'go-'], \n",
    "                       figsize=(15,10), fontsize=14, grid=True, rot=320, colormap='tab10')\n",
    "\n",
    "#Gross Domestic Product, Real, Spliced Historical Series, Domestic Currency\n",
    "# DCU for domestic currency unit\n",
    "label_axes(a, \n",
    "           'Years (1950-2016)', \n",
    "           'GDP (real, spliced histotrical) (in 10^14 dcu)', \n",
    "           'Country GDP (real, spliced histotrical series, domestic currency)' +\n",
    "           '- USA, China, India and Brazil (IFS data)')"
   ]
  },
  {
   "cell_type": "code",
   "execution_count": null,
   "metadata": {
    "collapsed": true
   },
   "outputs": [],
   "source": [
    "# Take dot product of exchange rate and DCU gdp series to get GDP series in dollars!"
   ]
  },
  {
   "cell_type": "code",
   "execution_count": null,
   "metadata": {
    "collapsed": true,
    "scrolled": false
   },
   "outputs": [],
   "source": [
    "df_ex_rate_final = drop_non_years(df_ex_rate_iso)"
   ]
  },
  {
   "cell_type": "code",
   "execution_count": null,
   "metadata": {},
   "outputs": [],
   "source": [
    "df_dotted = df_real_gdp_final.multiply(df_ex_rate_final, fill_value=np.nan)"
   ]
  },
  {
   "cell_type": "code",
   "execution_count": null,
   "metadata": {
    "scrolled": true
   },
   "outputs": [],
   "source": [
    "df_dotted.loc['BRA']"
   ]
  },
  {
   "cell_type": "code",
   "execution_count": null,
   "metadata": {
    "collapsed": true,
    "scrolled": true
   },
   "outputs": [],
   "source": [
    "df_real_gdp_in_bil = df_dotted.divide(10**9)\n",
    "df_real_gdp_in_bil.loc['BRA']\n",
    "df_real_gdp_no_brazil = df_real_gdp_in_bil.drop(['BRA'])"
   ]
  },
  {
   "cell_type": "code",
   "execution_count": null,
   "metadata": {
    "scrolled": false
   },
   "outputs": [],
   "source": [
    "a2 = df_real_gdp_no_brazil.T.plot(style=['bo-','ro-', 'yo-', 'go-'], \n",
    "                       figsize=(15,10), fontsize=14, grid=True, rot=320, colormap='tab10')\n",
    "\n",
    "#Gross Domestic Product, Real, Spliced Historical Series, Domestic Currency\n",
    "# DCU for domestic currency unit\n",
    "label_axes(a2, \n",
    "           'Years (1950-2016)', \n",
    "           'GDP (real, spliced histotrical) (in bil USD)', \n",
    "           'Country GDP (real, spliced histotrical series, in bil USD)' +\n",
    "           '- USA, China, India and Brazil (IFS data)')"
   ]
  },
  {
   "cell_type": "markdown",
   "metadata": {},
   "source": [
    "### To compare IFS data, construct real GDP series with same reference year\n",
    "\n",
    "Given:  \n",
    "        real gdp series in LCU (local currency unit)\n",
    "        \n",
    "        nominal gdp series in LCU (calculated using gdp deflator)\n",
    "        \n",
    "       $$gdp_{ri2} = \\frac{gdp_{ri1}}{gdp_{rb1}} * gdp_{ni}$$\n",
    "\n",
    "        \n",
    "        exchange rate (USD/LCU)\n",
    "     \n",
    "        $$gdp_{ni} = \\frac{gdp_{ri}}{100} * gdp_deflator$$\n",
    "        \n",
    "    where r = real\n",
    "          n = nomina\n",
    "          i = integer year\n",
    "          b = old base year\n",
    "          1 = with reference to old base year\n",
    "          2 = with reference to new base year\n",
    "          all units are in LCU.\n",
    "\n",
    "       \n",
    "       "
   ]
  },
  {
   "cell_type": "code",
   "execution_count": null,
   "metadata": {},
   "outputs": [],
   "source": [
    "df_real_gdpx_in_bil\n"
   ]
  },
  {
   "cell_type": "markdown",
   "metadata": {},
   "source": [
    "### Download other data"
   ]
  },
  {
   "cell_type": "code",
   "execution_count": null,
   "metadata": {
    "collapsed": true
   },
   "outputs": [],
   "source": [
    "# Open other data"
   ]
  },
  {
   "cell_type": "code",
   "execution_count": null,
   "metadata": {
    "collapsed": true
   },
   "outputs": [],
   "source": [
    "wb = dir_path + 'data/wb/gdp/gdp_constant/API_NY.GDP.MKTP.KD_DS2_en_csv_v2.csv' # constant, market\n",
    "un = dir_path + 'data/un/na/Download-GDPconstant-USD-countries.xls' # market, constant"
   ]
  },
  {
   "cell_type": "code",
   "execution_count": null,
   "metadata": {
    "collapsed": true
   },
   "outputs": [],
   "source": [
    "# pwt has all data in one file\n",
    "# do pwt later since it's all PPP based\n",
    "pwt = dir_path + 'data/pwt/pwt90.xlsx'\n",
    "df_pwt = pd.read_excel(pwt, sheetname='Data')"
   ]
  },
  {
   "cell_type": "code",
   "execution_count": null,
   "metadata": {
    "collapsed": true
   },
   "outputs": [],
   "source": [
    "# WB has separate files for each (real market) - or at least this is an option\n",
    "df_wb = pd.read_csv(wb, skiprows=4)\n",
    "\n",
    "# UN has three tabs\n",
    "df_un = pd.read_excel(un, sheetname='gdp', skiprows=2)\n",
    "# indicator we are interested in is Gross Domestic Product (GDP)"
   ]
  },
  {
   "cell_type": "code",
   "execution_count": null,
   "metadata": {},
   "outputs": [],
   "source": [
    "df_un.columns[()]\n",
    "df_un = df_un[df_un['IndicatorName'].str.startswith('Gross Domestic Product')]"
   ]
  },
  {
   "cell_type": "code",
   "execution_count": null,
   "metadata": {},
   "outputs": [],
   "source": []
  },
  {
   "cell_type": "code",
   "execution_count": null,
   "metadata": {},
   "outputs": [],
   "source": [
    "df_un.columns"
   ]
  },
  {
   "cell_type": "markdown",
   "metadata": {},
   "source": [
    "Notes\n",
    "\n",
    "##### WB\n",
    "* df_wb is GDP constant 2010 USD (indicator is NY.GDP.MKTP.KD)\n",
    "\n",
    "* years: 1960- 2017\n",
    "\n",
    "##### UN NA Main Aggregates\n",
    "* constant 2005 \n",
    "\n",
    "* years: 1970 - 2015"
   ]
  },
  {
   "cell_type": "code",
   "execution_count": null,
   "metadata": {
    "collapsed": true
   },
   "outputs": [],
   "source": [
    "df_wb_yr = drop_non_years(df_wb)\n",
    "df_un_yr = drop_non_years(df_un)"
   ]
  },
  {
   "cell_type": "markdown",
   "metadata": {},
   "source": [
    "## Create Multi-Index of 4 Data sets to convert to xarray\n",
    "\n",
    "Restructure pd dataframe so these are indexes\n",
    "\n",
    "    country_code\n",
    "    year\n",
    "    source\n",
    "\n",
    "cols as variable names\n",
    "index as dimensions\n",
    "\n",
    "    0. Add/set iso as index\n",
    "\n",
    "    1. Each df drop everything that's not a year [x]\n",
    "    \n",
    "country_name is meta data to country_code -> let's drop country_name (easiet)\n",
    "\n",
    "    2. Set the name of the columns to be quote 'year'\n",
    "\n",
    "`df.column.name = 'year'` set column index\n",
    "\n",
    "    3. `df.stack('year')` -> will return series (with two indices iso and year) with single value for iso-year combo\n",
    "\n",
    "    4. pd.concat(\n",
    "        {\n",
    "            'wb': serires,\n",
    "            'pwt': ..,\n",
    "        }, axis=0, names=['source'])\n",
    "\n",
    "names -> name of resulting index\n",
    "\n",
    "#join all series along 0 axis"
   ]
  },
  {
   "cell_type": "code",
   "execution_count": null,
   "metadata": {
    "collapsed": true
   },
   "outputs": [],
   "source": []
  },
  {
   "cell_type": "code",
   "execution_count": null,
   "metadata": {
    "collapsed": true
   },
   "outputs": [],
   "source": [
    "df_wb_iso = set_col_as_index(df_wb, 'Country Code')\n",
    "\n"
   ]
  },
  {
   "cell_type": "code",
   "execution_count": null,
   "metadata": {
    "collapsed": true
   },
   "outputs": [],
   "source": [
    "# read excel un"
   ]
  },
  {
   "cell_type": "markdown",
   "metadata": {},
   "source": [
    "#### Data prepping (PWT):\n",
    "\n",
    "    1) rename columns (countrycode->iso and country-> country_name) to enforce consistency across munged data sources\n",
    "    \n",
    "    2) get subset of PWT raw data using columns of interest (real gdp, country name/iso, pop\n",
    "\n",
    "    3) set iso column as the index"
   ]
  },
  {
   "cell_type": "markdown",
   "metadata": {},
   "source": [
    "#### 1. Rename columns for name consistency across sources"
   ]
  },
  {
   "cell_type": "code",
   "execution_count": null,
   "metadata": {},
   "outputs": [],
   "source": [
    "df_pwt_renamed = df_pwt_real_m.rename(index=str, columns={'countrycode': 'iso', 'country': 'country_name'})"
   ]
  },
  {
   "cell_type": "markdown",
   "metadata": {},
   "source": [
    "#### 2. Get a subset of PWT data (only columns related to gdp, plus iso and pop)"
   ]
  },
  {
   "cell_type": "code",
   "execution_count": null,
   "metadata": {
    "collapsed": true
   },
   "outputs": [],
   "source": [
    "gdp_cols = ['iso', 'rgdpna', 'rgdpe', 'rgdpo', 'pop']"
   ]
  },
  {
   "cell_type": "code",
   "execution_count": null,
   "metadata": {
    "collapsed": true
   },
   "outputs": [],
   "source": [
    "df_pwt_sub = df_pwt_renamed[gdp_cols]"
   ]
  },
  {
   "cell_type": "markdown",
   "metadata": {},
   "source": [
    "#### 3. Set iso as index"
   ]
  },
  {
   "cell_type": "code",
   "execution_count": null,
   "metadata": {
    "collapsed": true
   },
   "outputs": [],
   "source": [
    "df_pwt_iso = set_iso_as_index(df_pwt_sub, 'iso')\n",
    "# df_pwt_iso"
   ]
  },
  {
   "cell_type": "code",
   "execution_count": null,
   "metadata": {
    "collapsed": true
   },
   "outputs": [],
   "source": [
    "df_pwt_iso['rgdpe']"
   ]
  },
  {
   "cell_type": "markdown",
   "metadata": {},
   "source": [
    "## 1. drop all non-years"
   ]
  },
  {
   "cell_type": "code",
   "execution_count": null,
   "metadata": {
    "collapsed": true
   },
   "outputs": [],
   "source": [
    "# open ISO data (RHG_regions)\n",
    "# this is SLOW\n",
    "iso = pd.read_csv(rhg_regions)"
   ]
  },
  {
   "cell_type": "code",
   "execution_count": null,
   "metadata": {
    "collapsed": true
   },
   "outputs": [],
   "source": [
    "iso.columns"
   ]
  },
  {
   "cell_type": "code",
   "execution_count": null,
   "metadata": {
    "collapsed": true
   },
   "outputs": [],
   "source": [
    "iso_map_pre = iso[['country_name_imf', 'ALPHA-3']].set_index('country_name_imf')"
   ]
  },
  {
   "cell_type": "code",
   "execution_count": null,
   "metadata": {
    "collapsed": true
   },
   "outputs": [],
   "source": [
    "iso_map = iso_map_pre.to_dict()['ALPHA-3']\n",
    "iso_map_rev = {y:x for x,y in iso_map.items()}"
   ]
  },
  {
   "cell_type": "code",
   "execution_count": null,
   "metadata": {
    "collapsed": true
   },
   "outputs": [],
   "source": [
    "#iso_map_rev # map from iso to country nape\n",
    "#iso_map # map from country name to ISO"
   ]
  },
  {
   "cell_type": "code",
   "execution_count": null,
   "metadata": {
    "collapsed": true
   },
   "outputs": [],
   "source": [
    "pwt_countries=pop_pwt['countrycode']\n",
    "un_countries=pop_un['ISO3']\n",
    "# wb_countries=pop_wb['Country Code']"
   ]
  },
  {
   "cell_type": "code",
   "execution_count": null,
   "metadata": {
    "collapsed": true
   },
   "outputs": [],
   "source": [
    "iso_map.get('moon')\n",
    "iso_map.get('United States of America')"
   ]
  },
  {
   "cell_type": "markdown",
   "metadata": {},
   "source": [
    "### MAP country name to country code"
   ]
  },
  {
   "cell_type": "code",
   "execution_count": null,
   "metadata": {
    "collapsed": true
   },
   "outputs": [],
   "source": [
    "pop_imf['country_code'] = pop_imf['country_name'].apply(lambda name: iso_map[name] if iso_map.get(name) else name)"
   ]
  },
  {
   "cell_type": "code",
   "execution_count": null,
   "metadata": {
    "collapsed": true
   },
   "outputs": [],
   "source": [
    "# imf data doesn't provide country code so needs manual mapping\n",
    "imf_countries = pop_imf['country_code']"
   ]
  },
  {
   "cell_type": "code",
   "execution_count": null,
   "metadata": {
    "collapsed": true
   },
   "outputs": [],
   "source": [
    "[print(country) for country in pop_imf['country_code'].tolist() if len(country) > 3]"
   ]
  },
  {
   "cell_type": "code",
   "execution_count": null,
   "metadata": {
    "collapsed": true
   },
   "outputs": [],
   "source": [
    "pwt_set = set(pwt_countries)\n",
    "un_set = set(un_countries)\n",
    "wb_set = set(wb_countries)\n",
    "imf_set = set(imf_countries)"
   ]
  },
  {
   "cell_type": "code",
   "execution_count": null,
   "metadata": {
    "collapsed": true,
    "scrolled": true
   },
   "outputs": [],
   "source": [
    "ls = {\n",
    "    'pwt': pwt_set,\n",
    "    'un': un_set,\n",
    "    'wb': wb_set,\n",
    "    'imf': imf_set\n",
    "}\n",
    "\n",
    "for k,v in ls.items():\n",
    "    print ('{} has {} countries'.format(k,len(v)))\n",
    "\n",
    "# pwt compare"
   ]
  },
  {
   "cell_type": "code",
   "execution_count": null,
   "metadata": {
    "collapsed": true
   },
   "outputs": [],
   "source": [
    "countries_in_un_not_wb = ls['un'] - ls['wb']\n",
    "sorted([iso_map_rev[c] for c in countries_in_un_not_wb])"
   ]
  },
  {
   "cell_type": "markdown",
   "metadata": {},
   "source": [
    "# countries in imf but not in pwt"
   ]
  },
  {
   "cell_type": "code",
   "execution_count": null,
   "metadata": {
    "collapsed": true
   },
   "outputs": [],
   "source": [
    "countries_in_imf_not_pwt = ls['imf'] - ls['pwt']\n",
    "     \n",
    "sorted([iso_map_rev.get(c) for c in countries_in_imf_not_pwt if iso_map_rev.get(c)])"
   ]
  },
  {
   "cell_type": "markdown",
   "metadata": {},
   "source": [
    "## Convenience functions"
   ]
  },
  {
   "cell_type": "markdown",
   "metadata": {},
   "source": [
    "### Function to retrieve missing # years per country for a given list of countries\n",
    "```\n",
    "Given a list of countries\n",
    "\n",
    "Retrieve # of missing years for each country\n",
    "\n",
    "Optional: *specify a dataset\n",
    "Optional: replace Country Name with Country code to be more reusable\n",
    "```"
   ]
  },
  {
   "cell_type": "code",
   "execution_count": null,
   "metadata": {
    "collapsed": true
   },
   "outputs": [],
   "source": [
    "def get_missing_years(_list_of_countries):\n",
    "    '''\n",
    "    Parmeters\n",
    "    ----\n",
    "    [Python List] _list_of_countries\n",
    "        list of countries (each country is a Country name as a String)\n",
    "        \n",
    "    Returns\n",
    "    ----\n",
    "    [Python List]\n",
    "        a list of tuple pairs containing (country_name, #_missing_years)\n",
    "    where country_name (String) and # missing_years (int)\n",
    "    sorted by decreasing # of missing years\n",
    "    '''\n",
    "    missing_years = []\n",
    "    \n",
    "    return []"
   ]
  },
  {
   "cell_type": "markdown",
   "metadata": {},
   "source": [
    "### Mungdata data\n",
    "\n",
    "1) rename indexes to be consistent across data set\n",
    "\n",
    "2) set iso column as the index"
   ]
  },
  {
   "cell_type": "markdown",
   "metadata": {},
   "source": [
    "#### Rename cols"
   ]
  },
  {
   "cell_type": "code",
   "execution_count": null,
   "metadata": {
    "collapsed": true
   },
   "outputs": [],
   "source": [
    "for _df in [pwt_bra, wb_bra, un_bra, imf_bra]:\n",
    "    if type(_df.index) != pd.core.indexes.numeric.Float64Index:\n",
    "        _df.index = _df.index.map(float)\n",
    "        \n",
    "for _df in [pwt_bra, wb_bra, un_bra, imf_bra]:\n",
    "    print (type(_df.index))"
   ]
  },
  {
   "cell_type": "code",
   "execution_count": null,
   "metadata": {
    "collapsed": true
   },
   "outputs": [],
   "source": [
    "df1 = pd.DataFrame({'pwt': pwt_bra, \n",
    "                   'wb': wb_bra, \n",
    "                   'un': un_bra,\n",
    "                   'imf': imf_bra})\n",
    "\n",
    "#pd.concat([cpwt, cwb, cun, cimf], axis=1)"
   ]
  },
  {
   "cell_type": "code",
   "execution_count": null,
   "metadata": {
    "collapsed": true
   },
   "outputs": [],
   "source": [
    "# plt.close()\n",
    "# plt.figure(figsize=(18,15))\n",
    "\n",
    "\n",
    "# pwt9.set_index(['countrycode', 'year']).unstack('year')['rgdpe_pc'].loc[['IND', 'IDN', 'BRA', 'CHN']].T.plot(style='*')\n",
    "p1 = df1.plot(style='*', figsize=(10,5))\n",
    "label_axes(plt, 'a', 'b', 'c')"
   ]
  },
  {
   "cell_type": "code",
   "execution_count": null,
   "metadata": {
    "collapsed": true,
    "scrolled": true
   },
   "outputs": [],
   "source": [
    "df1.isnull().sum()\n",
    "# no nan values!"
   ]
  },
  {
   "cell_type": "markdown",
   "metadata": {},
   "source": [
    "## Compare total population"
   ]
  },
  {
   "cell_type": "markdown",
   "metadata": {},
   "source": [
    "### Get only years 1980-2014"
   ]
  },
  {
   "cell_type": "code",
   "execution_count": null,
   "metadata": {
    "collapsed": true
   },
   "outputs": [],
   "source": [
    "cols_of_interest = ['country_name']\n",
    "years = [str(y) for y in range(1980, 2015)]\n",
    "cols_of_interest.extend(years)"
   ]
  },
  {
   "cell_type": "code",
   "execution_count": null,
   "metadata": {
    "collapsed": true
   },
   "outputs": [],
   "source": [
    "ds = [df_pwt, df_wb, df_un, df_imf]"
   ]
  },
  {
   "cell_type": "code",
   "execution_count": null,
   "metadata": {
    "collapsed": true
   },
   "outputs": [],
   "source": [
    "## Convert imf years from int to str (to be consistent with other datasets)\n",
    "df_imf.columns = map(str, df_imf.columns)\n",
    "df_imf.columns"
   ]
  },
  {
   "cell_type": "code",
   "execution_count": null,
   "metadata": {
    "collapsed": true
   },
   "outputs": [],
   "source": [
    "for dd in ds:\n",
    "    print(dd[cols_of_interest].shape)"
   ]
  },
  {
   "cell_type": "code",
   "execution_count": null,
   "metadata": {
    "collapsed": true
   },
   "outputs": [],
   "source": [
    "# WB Total\n",
    "df_wb\n",
    "df_wb.loc['Total'] = df_wb.iloc[:, 1:].sum()\n",
    "wb_total = df_wb[cols_for_total].loc['Total']\n",
    "wb_total.to_dict()"
   ]
  },
  {
   "cell_type": "markdown",
   "metadata": {},
   "source": [
    "### c) IMF Total"
   ]
  },
  {
   "cell_type": "code",
   "execution_count": null,
   "metadata": {
    "collapsed": true
   },
   "outputs": [],
   "source": [
    "imf_total = get_row_by_country_name(df_imf, 'Total').reset_index()[cols_for_total]\n",
    "imf_total"
   ]
  },
  {
   "cell_type": "markdown",
   "metadata": {},
   "source": [
    "### d) UN total"
   ]
  },
  {
   "cell_type": "code",
   "execution_count": null,
   "metadata": {
    "collapsed": true
   },
   "outputs": [],
   "source": [
    "un_total =df_un[cols_of_interest].iloc[:, 1:].sum()\n",
    "un_total.to_dict() # pd.Series"
   ]
  },
  {
   "cell_type": "code",
   "execution_count": null,
   "metadata": {
    "collapsed": true
   },
   "outputs": [],
   "source": [
    "imf_total = imf_total.loc[0] # convert to series"
   ]
  },
  {
   "cell_type": "code",
   "execution_count": null,
   "metadata": {
    "collapsed": true
   },
   "outputs": [],
   "source": [
    "df_pop_total = pd.DataFrame({\n",
    "    'un': un_total* 10**3,\n",
    "    'wb': wb_total,\n",
    "    'imf': imf_total*10**6,\n",
    "    'pwt': pwt_total.loc[0]*10**6\n",
    "})\n",
    "\n",
    "df_pop_total.to_csv('munged_data/total_population_all_sources.csv')"
   ]
  },
  {
   "cell_type": "code",
   "execution_count": null,
   "metadata": {
    "collapsed": true
   },
   "outputs": [],
   "source": [
    "plt.close()\n",
    "\n",
    "a = df_pop_total.plot(style=['bo-','ro-', 'yo-', 'go-'], figsize=(15,10), fontsize=14, grid=True, rot=320, colormap='tab10')\n",
    "# pwt9.set_index(['countrycode', 'year']).unstack('year')['rgdpe_pc'].loc[['IND', 'IDN', 'BRA', 'CHN']].T.plot(style='*')\n",
    "\n",
    "type(a)\n",
    "a.set_xlabel('Years', fontsize=14)\n",
    "a.set_ylabel('Total population (in billion)', fontsize=14)\n",
    "a.set_title('Total Population (1980-2014) from different sources', fontsize=14)\n",
    "#a.grid(False)\n",
    "\n",
    "# arr = np.arange(100).reshape((10,10))\n",
    "\n",
    "# plt.close('all')\n",
    "# fig = plt.figure(figsize=(5,4))\n",
    "\n",
    "# ax = plt.subplot(111)\n",
    "# im = ax.imshow(arr, interpolation=\"none\")\n",
    "\n",
    "# plt.tight_layout()\n"
   ]
  },
  {
   "cell_type": "markdown",
   "metadata": {},
   "source": [
    "#### Why does WB have higher population than others? (verify summing process was correct)"
   ]
  },
  {
   "cell_type": "markdown",
   "metadata": {},
   "source": [
    "### Compare growth rate values of total population"
   ]
  },
  {
   "cell_type": "markdown",
   "metadata": {},
   "source": [
    "### Calculate percent change!\n"
   ]
  },
  {
   "cell_type": "code",
   "execution_count": null,
   "metadata": {
    "collapsed": true
   },
   "outputs": [],
   "source": [
    "# calculate percent change!\n",
    "    \n",
    "print(df_pop_total['wb'].pct_change().tolist())"
   ]
  },
  {
   "cell_type": "code",
   "execution_count": null,
   "metadata": {
    "collapsed": true
   },
   "outputs": [],
   "source": [
    "test = df_pop_total['wb'].head()\n",
    "(test[2]-test[1])*1.0 / test[1]\n",
    "pct_del = lambda _s, idx: (_s[idx]-_s[idx-1]*1.0)/_s[idx-1]\n",
    "print(pct_del(test,3))\n",
    "print(pct_del(test,2))\n",
    "print(pct_del(test,1))"
   ]
  },
  {
   "cell_type": "code",
   "execution_count": null,
   "metadata": {
    "collapsed": true
   },
   "outputs": [],
   "source": []
  }
 ],
 "metadata": {
  "kernelspec": {
   "display_name": "Python 3",
   "language": "python",
   "name": "python3"
  },
  "language_info": {
   "codemirror_mode": {
    "name": "ipython",
    "version": 3
   },
   "file_extension": ".py",
   "mimetype": "text/x-python",
   "name": "python",
   "nbconvert_exporter": "python",
   "pygments_lexer": "ipython3",
   "version": "3.6.3"
  }
 },
 "nbformat": 4,
 "nbformat_minor": 2
}
