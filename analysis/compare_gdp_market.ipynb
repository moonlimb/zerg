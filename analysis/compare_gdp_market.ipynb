{
 "cells": [
  {
   "cell_type": "code",
   "execution_count": 4,
   "metadata": {
    "collapsed": true
   },
   "outputs": [],
   "source": [
    "import os\n",
    "\n",
    "import matplotlib.pylab as plt\n",
    "import numpy as np\n",
    "import pandas as pd\n",
    "import seaborn as sns\n",
    "import xarray as xr\n",
    "\n",
    "% matplotlib inline\n",
    "sns.set()\n",
    "sns.set_color_codes()"
   ]
  },
  {
   "cell_type": "markdown",
   "metadata": {},
   "source": [
    "# Construct xarray for real gdp series \n",
    "\n",
    "### Normalize data sets to be constant to 2015\n",
    "\n",
    "* Construct xarray with other sources (PWT rgdpna, UN, WB, WEO) \n",
    "  \n",
    "* Construct GDP real index **<span style=\"color:white; background:limegreen;\">DONE</span>**\n",
    "    * UN: nominal series x gdp index **<span style=\"color:white; background:limegreen;\">DONE</span>** (total x)\n",
    "    * WB: nominal series x gdp index **<span style=\"color:white; background:maroon;\">STARTED</span>**\n",
    "\n",
    "    * IMF_WEO: calculate gdp index\n",
    "    * PWT rgdpna: \n",
    "* Compare top 10 countries\n",
    "* Compare mortality countries\n",
    "* Compare ratio of MKT to PPP\n",
    "\n",
    "\n",
    "\n",
    "\n",
    "| source     | base year |  \n",
    "|---------|------|\n",
    "| WB      | 2010 |  \n",
    "| UN_NA   | 2005 |\n",
    "| IMF_WEO | 2015?|\n",
    "| PWT_rgdpna| 2011|\n",
    "\n",
    "#### Table1: Base year used by different sources constant series\n",
    "\n",
    "Status:\n",
    "**<span style=\"color:lime; background:green;\">In Progress</span>** \n",
    "**<span style=\"color:white; background:maroon;\">STARTED</span>**\n",
    "**<span style=\"color:white; background:limegreen;\">DONE</span>**\n"
   ]
  },
  {
   "cell_type": "markdown",
   "metadata": {},
   "source": [
    "### GDP index\n",
    "$$GDPindex_{i_b} = \\frac{gdp_{i_b}}{gdp_{i=b}}$$\n",
    "\n",
    "where\n",
    "    \n",
    "    i = target year (any year in series)\n",
    "    \n",
    "    b = base year (2010 for WB, 2005 for UN_na, and 2015 for IMF weo)\n",
    "    \n",
    "    b (small one) = base year that the real gdp is calculated with respect to. ie. gdp values are in base year values.\n",
    "\n"
   ]
  },
  {
   "cell_type": "markdown",
   "metadata": {},
   "source": [
    "Mike's Notes\n",
    "```\n",
    "current_gdp # dataframe with iso x year, giving time series of\n",
    "            # current GDP (USD) using market exchange rates\n",
    "\n",
    "real_gdp    # dataframe with iso x year, giving time series of\n",
    "            # real GDP (USD) with a variety of base years\n",
    "\n",
    "target_base_year = 2015 # desired real GDP series base year\n",
    "\n",
    "# produce index of real growth relative to 2015\n",
    "real_gdp_index = real_gdp.div(real_gdp[target_base_year], axis=0)\n",
    "\n",
    "# produce time series of real GDP with 2015 basis\n",
    "real_gdp_target_base = real_gdp_index.mul(\n",
    "    current_gdp[target_base_year],\n",
    "    axis=0)\n",
    "\n",
    "# sum real GDP by country --> global real gdp\n",
    "global_real_gdp_target_base = real_gdp_target_base.sum()\n",
    "```"
   ]
  },
  {
   "cell_type": "markdown",
   "metadata": {},
   "source": [
    "### Alohamora (data)\n",
    "#### a) gdp - current series (to multiply by gdi to calculate real series)\n",
    "#### b) gdp - real/constant series (to compute gdp index with respect to same year - 2015)"
   ]
  },
  {
   "cell_type": "code",
   "execution_count": 5,
   "metadata": {
    "collapsed": true
   },
   "outputs": [],
   "source": [
    "dir_path = os.environ['ZERG']\n",
    "\n",
    "# file locations!\n",
    "\n",
    "# un\n",
    "un_current_file = dir_path + 'data/un/national_accounts/un_na_gdp_current_usd.xls'\n",
    "un_constant_file = dir_path + 'data/un/national_accounts/un_na_gdp_constant_usd.xls'\n",
    "#un_constant_file = dir_path+ 'data/un/munged/un_national_acct_real_gdp_2005.csv' # gdp only\n",
    "\n",
    "#wb\n",
    "wb_current_file = dir_path + 'data/wb/gdp/gdp_current/API_NY.GDP.MKTP.CD_DS2_en_csv_v2.csv'\n",
    "wb_current_meta = dir_path + 'data/wb/gdp/gdp_current/Metadata_Country_API_NY.GDP.MKTP.CD_DS2_en_csv_v2.csv'\n",
    "\n",
    "wb_constant_file = dir_path + 'data/wb/gdp/gdp_constant/API_NY.GDP.MKTP.KD_DS2_en_csv_v2.csv'\n",
    "wb_constant_meta = dir_path + 'data/wb/gdp/gdp_constant/Metadata_Country_API_NY.GDP.MKTP.KD_DS2_en_csv_v2.csv'\n",
    "\n",
    "# pwt\n",
    "pwt_all_file = dir_path + 'data/pwt/pwt90.xlsx'\n",
    "\n",
    "# imf-weo\n",
    "imf_weo_current = dir_path + 'data/imf/weo/weo_oct2017_gdp_current_usd_bil.csv'\n",
    "#imf_weo_constant = dir_path + 'data/imf/weo/weo_oct2017_gdp_constant_itd_bil.csv'\n",
    "\n",
    "# other meta data\n",
    "rhg_regions = dir_path + 'data/meta_data/iso_map_based_on_rhg_regions.xls'"
   ]
  },
  {
   "cell_type": "code",
   "execution_count": 6,
   "metadata": {
    "collapsed": true
   },
   "outputs": [],
   "source": [
    "# UN\n",
    "df_un_current = pd.read_excel(un_current_file, skiprows=2)\n",
    "df_un_constant = pd.read_excel(un_constant_file, skiprows=2)\n",
    "\n",
    "# WB\n",
    "df_wb_current = pd.read_csv(wb_current_file, skiprows=4) # updated 12/22/2017\n",
    "df_wb_current_meta = pd.read_csv(wb_current_meta)\n",
    "\n",
    "df_wb_constant = pd.read_csv(wb_constant_file, skiprows=4) # updated 12/22/2017 too?\n",
    "df_wb_constant_meta = pd.read_csv(wb_constant_meta)\n",
    "\n",
    "# PWT\n",
    "df_pwt = pd.read_excel(pwt_all_file, sheetname='Data')"
   ]
  },
  {
   "cell_type": "code",
   "execution_count": 7,
   "metadata": {
    "collapsed": true
   },
   "outputs": [],
   "source": [
    "# IMF - WEO\n",
    "df_weo_current = pd.read_csv(imf_weo_current)"
   ]
  },
  {
   "cell_type": "code",
   "execution_count": 8,
   "metadata": {
    "collapsed": true
   },
   "outputs": [],
   "source": [
    "# df_weo_constant = pd.read_csv(imf_weo_constant)"
   ]
  },
  {
   "cell_type": "markdown",
   "metadata": {},
   "source": [
    "### Z- Convenience functions \n",
    "#### a) iso mapper"
   ]
  },
  {
   "cell_type": "code",
   "execution_count": 9,
   "metadata": {
    "collapsed": true
   },
   "outputs": [],
   "source": [
    "iso = pd.read_excel(rhg_regions, sheetname='mapper_iso_to_country_name')\n",
    "\n",
    "# rhg_regions file updated to include Syria and Kosovo\n",
    "iso_map = iso[['countryName', 'iso']].set_index('countryName').to_dict()['iso']"
   ]
  },
  {
   "cell_type": "code",
   "execution_count": 10,
   "metadata": {
    "collapsed": true
   },
   "outputs": [],
   "source": [
    "iso_map_un_na = iso[['countryNameUNNA', 'iso']]\n",
    "iso_map_un_na.columns.values[0] = 'countryName'\n",
    "iso_map_un_na = iso_map_un_na.set_index('countryName').to_dict()['iso']"
   ]
  },
  {
   "cell_type": "markdown",
   "metadata": {},
   "source": [
    "#### b) munging dataframe (column filtering. indexing, add column..)"
   ]
  },
  {
   "cell_type": "code",
   "execution_count": 11,
   "metadata": {
    "collapsed": true
   },
   "outputs": [],
   "source": [
    "def drop_non_years(_df):\n",
    "    def _is_year(_y):\n",
    "        try:\n",
    "            float(_y)\n",
    "            return True\n",
    "        except ValueError:\n",
    "            return False\n",
    "    return _df[[x for x in _df.columns if _is_year(x)]] \n",
    "\n",
    "def set_col_as_index(_df, _col_name):\n",
    "    return _df.set_index(_col_name)\n",
    "\n",
    "# set year as columns name\n",
    "def set_col_idx_name(_df, col_idx_name='year'):\n",
    "    _df.columns.name = col_idx_name\n",
    "    return _df\n",
    "\n",
    "def add_iso_column(_df, _country_name_col, data_source='general'):\n",
    "    # uses iso_map (global dict)\n",
    "    map_to_iso = lambda c: iso_map[c] if iso_map.get(c) else c # c for country name\n",
    "    map_to_iso_un = lambda c: iso_map_un_na[c] if iso_map_un_na.get(c) else c # c for country name\n",
    "\n",
    "    if 'iso' in _df.columns:\n",
    "        pass\n",
    "    elif data_source is 'un':\n",
    "        v_map = np.vectorize(map_to_iso_un)\n",
    "        assigned = _df.assign(iso=v_map(_df[_country_name_col]))\n",
    "    else:\n",
    "        v_map = np.vectorize(map_to_iso)\n",
    "        assigned = _df.assign(iso=v_map(_df[_country_name_col]))\n",
    "    return assigned"
   ]
  },
  {
   "cell_type": "code",
   "execution_count": 116,
   "metadata": {
    "collapsed": true
   },
   "outputs": [],
   "source": [
    "def prep_dataframe(_df, _source, _country_col_name):\n",
    "    \"\"\"\n",
    "    Prep data frame for further analysis by doing 4 steps below. Uses these functions:\n",
    "        add_iso_column\n",
    "        set_col_as_index\n",
    "        drop_non_years\n",
    "        set_col_idx_name\n",
    "        get_un_na_gdp_only (local function)\n",
    "        all other functions global for now.\n",
    "    \n",
    "    Parameters\n",
    "    ----------\n",
    "    _df: DataFrame\n",
    "        country x year, with gdp values (contains multiple countries across years)\n",
    "\n",
    "    _source: str\n",
    "        string acronym for data source. one of ['un', 'wb', 'imf_weo', 'pwt']\n",
    "        Used for iso mapping\n",
    "        \n",
    "    _country_col_name: str\n",
    "        name of column containing country names. one of \n",
    "        ('CountryName', 'Country', 'countryName', etc.) \n",
    "        Used for iso mapping\n",
    "        \n",
    "    Returns\n",
    "    -------\n",
    "    indexed: DataFrame\n",
    "        return dataframe with new iso column added if missing before, dropped \n",
    "        columns that are not years (ex. IndicatorGroup), set existing column\n",
    "        values as type floasm \n",
    "    =======\n",
    "    \n",
    "    \"\"\"\n",
    "#     import IPython.core.debugger\n",
    "#     dbg = IPython.core.debugger.Pdb()\n",
    "#     dbg.set_trace()\n",
    "    \n",
    "    #get only GDP indicator (UN only) - move this out\n",
    "    get_un_na_gdp_only = lambda _df2: _df2[_df2['IndicatorName'].str.startswith('Gross Domestic Product')] \n",
    "\n",
    "    #TODO: make a map of source type to lambdas, bc different country requires different prepping\n",
    "    # return here if source type is not supported\n",
    "    \n",
    "    # 0/ filter indicators\n",
    "    # 1/ add iso column (both UN, WB)\n",
    "    if _source == 'un':\n",
    "        _filtered = get_un_na_gdp_only(_df)\n",
    "        _iso_added = add_iso_column(_filtered, _country_col_name, _source)\n",
    "    \n",
    "    elif _source == 'wb':\n",
    "        _iso_added = _df.assign(iso=_df['Country Code'])  # this is getting unclean. the function assume\n",
    "        # knowledge of details of data column name, and assumes it to be static. good for now..\n",
    "\n",
    "    elif _source == 'imf_weo':\n",
    "        _iso_added = _df.copy()\n",
    "        \n",
    "    # 1/ set iso as index\n",
    "    _iso_indexed = set_col_as_index(_iso_added, 'iso')\n",
    "        \n",
    "    # 2/ drop non_year columns\n",
    "    _dropped = drop_non_years(_iso_indexed)\n",
    "    \n",
    "    # 3/ set col value types as int\n",
    "    _dropped.columns = _dropped.columns.astype(int)\n",
    "    \n",
    "    # 4/ set year as column index name\n",
    "    _indexed = set_col_idx_name(_dropped)\n",
    "    \n",
    "    return _indexed\n"
   ]
  },
  {
   "cell_type": "code",
   "execution_count": 13,
   "metadata": {
    "collapsed": true
   },
   "outputs": [],
   "source": [
    "# WB specific - using metadata to filter aggregates"
   ]
  },
  {
   "cell_type": "code",
   "execution_count": 14,
   "metadata": {
    "collapsed": true
   },
   "outputs": [],
   "source": [
    "def wb_filter_non_countries(_df, _metadata):\n",
    "    \"\"\"\n",
    "    Uses metadata and data to filter out rows that are not countries. \n",
    "    Country Code column that is in both dataframes are used to merge on. \n",
    "    IncomeGroup column which is null for aggregates (i.e. not countries) is\n",
    "    used to filter non-countries. \n",
    "    \n",
    "    Parameters\n",
    "    ----------\n",
    "     _df : pd.DataFrame\n",
    "        either income or population data\n",
    "        \n",
    "    _metadata : pd.DataFrame\n",
    "        metadata on a list of entries including countries and non-countries \n",
    "        data source is from the World Bank\n",
    "        has IncomeGroup column that is not null for countries (217)\n",
    "    \n",
    "    Note: source - task3_WB_analysis\n",
    "    \n",
    "    Returns\n",
    "    -------\n",
    "    filtered: DataFrame\n",
    "        returns values with only country data (217 rows)\n",
    "        \n",
    "    \"\"\"\n",
    "    _merged = _df.merge(_metadata, on='Country Code')\n",
    "    aggregate_mask = _merged['IncomeGroup'].isnull()\n",
    "    return _merged[~aggregate_mask]  "
   ]
  },
  {
   "cell_type": "markdown",
   "metadata": {},
   "source": [
    "### plotting"
   ]
  },
  {
   "cell_type": "code",
   "execution_count": 15,
   "metadata": {
    "collapsed": true
   },
   "outputs": [],
   "source": [
    "# lets simplify\n",
    "def label_axes(_ax, _x_label, _y_label, _title):\n",
    "    _ax.set_xlabel(_x_label, fontsize=14)\n",
    "    _ax.set_ylabel(_y_label, fontsize=14)\n",
    "    _ax.set_title(_title, fontsize=14)"
   ]
  },
  {
   "cell_type": "code",
   "execution_count": 16,
   "metadata": {
    "collapsed": true
   },
   "outputs": [],
   "source": [
    "# calculate GDP index\n",
    "def calculate_real_gdp_index(_df, _source):\n",
    "    \"\"\"\n",
    "        Converts real constant gdp series to real gdp index. \n",
    "        For each country (row), gdp time series is divided by the gdp value from the given base year,\n",
    "        resulting in gdp index series. Pandas apply method with axis=columns is used.\n",
    "        \n",
    "        Parameters\n",
    "        ----------\n",
    "        _df : DataFrame\n",
    "            dataframe containing real constant gdp values. Rows are countries and columns and years.\n",
    "            two indices are year (df.column.name) and iso (for primary index)\n",
    "        _source : str\n",
    "            string acronym for given data source. one of ['un', 'wb', 'imf_weo']\n",
    "        Keeps nan values for any missing value.\n",
    "        \n",
    "        Returns\n",
    "        -------\n",
    "        df_gdi: DataFrame\n",
    "            contains real gdp series indices\n",
    "    \"\"\"\n",
    "    # base year of a given data source\n",
    "    # base year in this context means vaue that real GDP series is constant with respect to. \n",
    "    get_gdp_base_year = {\n",
    "        'un': 2005, \n",
    "        'wb': 2010,\n",
    "        'imf_weo': 2015\n",
    "    }\n",
    "    base_year = get_gdp_base_year[_source]\n",
    "    df_gdi = _df.div(_df[base_year], axis=0)\n",
    "    return df_gdi"
   ]
  },
  {
   "cell_type": "code",
   "execution_count": 17,
   "metadata": {
    "collapsed": true
   },
   "outputs": [],
   "source": [
    "def normalize_real_gdi(list_of_df, norm_year=2015):\n",
    "    '''\n",
    "        Normalizes real gdp index series from different data sources, so gdp index is\n",
    "        1 relative to same year, and thus, comparable.\n",
    "        \n",
    "        Parameters\n",
    "        ----------\n",
    "        list_of_df: list\n",
    "            list containing dataframes of real GDP index series\n",
    "        norm_year: int, defaults to 2015 \n",
    "            year to which gdp index series should be normalized (i.e. GDP index should\n",
    "            be 1 for that year, and other values adjusted accordingly)\n",
    "            \n",
    "            Notes:\n",
    "            \n",
    "            Calling this parameter norm_year (normalization year) to distinguish \n",
    "            from any random year, but this is not an official term.\n",
    "    '''\n",
    "    def normalize_real_gdi_per_source(_df, norm_year):\n",
    "        return _df.div(_df[norm_year], axis=0)\n",
    "    \n",
    "    return [normalize_real_gdi_per_source(_df, norm_year) for _df in list_of_df]    "
   ]
  },
  {
   "cell_type": "markdown",
   "metadata": {},
   "source": [
    "## I. Prep DATA"
   ]
  },
  {
   "cell_type": "markdown",
   "metadata": {},
   "source": [
    "1) individual per source\n",
    "\n",
    "2) use `prep_dataframe` for all relevant sources \n",
    "\n",
    "Next: Calculate GDI"
   ]
  },
  {
   "cell_type": "markdown",
   "metadata": {},
   "source": [
    "### First: UN\n",
    "#### a) UN nominal series"
   ]
  },
  {
   "cell_type": "code",
   "execution_count": 18,
   "metadata": {
    "collapsed": true
   },
   "outputs": [],
   "source": [
    "un_current_prepped = prep_dataframe(df_un_current, 'un', 'Country')"
   ]
  },
  {
   "cell_type": "code",
   "execution_count": 19,
   "metadata": {
    "collapsed": true,
    "scrolled": true
   },
   "outputs": [],
   "source": [
    "assert un_current_prepped.shape[0] == 220"
   ]
  },
  {
   "cell_type": "code",
   "execution_count": 20,
   "metadata": {
    "scrolled": true
   },
   "outputs": [
    {
     "data": {
      "text/html": [
       "<div>\n",
       "<style>\n",
       "    .dataframe thead tr:only-child th {\n",
       "        text-align: right;\n",
       "    }\n",
       "\n",
       "    .dataframe thead th {\n",
       "        text-align: left;\n",
       "    }\n",
       "\n",
       "    .dataframe tbody tr th {\n",
       "        vertical-align: top;\n",
       "    }\n",
       "</style>\n",
       "<table border=\"1\" class=\"dataframe\">\n",
       "  <thead>\n",
       "    <tr style=\"text-align: right;\">\n",
       "      <th>year</th>\n",
       "      <th>1970</th>\n",
       "      <th>1971</th>\n",
       "      <th>1972</th>\n",
       "      <th>1973</th>\n",
       "      <th>1974</th>\n",
       "      <th>1975</th>\n",
       "      <th>1976</th>\n",
       "      <th>1977</th>\n",
       "      <th>1978</th>\n",
       "      <th>1979</th>\n",
       "      <th>...</th>\n",
       "      <th>2007</th>\n",
       "      <th>2008</th>\n",
       "      <th>2009</th>\n",
       "      <th>2010</th>\n",
       "      <th>2011</th>\n",
       "      <th>2012</th>\n",
       "      <th>2013</th>\n",
       "      <th>2014</th>\n",
       "      <th>2015</th>\n",
       "      <th>2016</th>\n",
       "    </tr>\n",
       "    <tr>\n",
       "      <th>iso</th>\n",
       "      <th></th>\n",
       "      <th></th>\n",
       "      <th></th>\n",
       "      <th></th>\n",
       "      <th></th>\n",
       "      <th></th>\n",
       "      <th></th>\n",
       "      <th></th>\n",
       "      <th></th>\n",
       "      <th></th>\n",
       "      <th></th>\n",
       "      <th></th>\n",
       "      <th></th>\n",
       "      <th></th>\n",
       "      <th></th>\n",
       "      <th></th>\n",
       "      <th></th>\n",
       "      <th></th>\n",
       "      <th></th>\n",
       "      <th></th>\n",
       "      <th></th>\n",
       "    </tr>\n",
       "  </thead>\n",
       "  <tbody>\n",
       "    <tr>\n",
       "      <th>KOR</th>\n",
       "      <td>8.999348e+09</td>\n",
       "      <td>9.890032e+09</td>\n",
       "      <td>1.084211e+10</td>\n",
       "      <td>1.384183e+10</td>\n",
       "      <td>1.948192e+10</td>\n",
       "      <td>2.170475e+10</td>\n",
       "      <td>2.977934e+10</td>\n",
       "      <td>3.826508e+10</td>\n",
       "      <td>5.170062e+10</td>\n",
       "      <td>6.656798e+10</td>\n",
       "      <td>...</td>\n",
       "      <td>1.122679e+12</td>\n",
       "      <td>1.002219e+12</td>\n",
       "      <td>9.019350e+11</td>\n",
       "      <td>1.094499e+12</td>\n",
       "      <td>1.202464e+12</td>\n",
       "      <td>1.222807e+12</td>\n",
       "      <td>1.305605e+12</td>\n",
       "      <td>1.411334e+12</td>\n",
       "      <td>1.382764e+12</td>\n",
       "      <td>1.411246e+12</td>\n",
       "    </tr>\n",
       "    <tr>\n",
       "      <th>USA</th>\n",
       "      <td>1.075900e+12</td>\n",
       "      <td>1.167800e+12</td>\n",
       "      <td>1.282400e+12</td>\n",
       "      <td>1.428500e+12</td>\n",
       "      <td>1.548800e+12</td>\n",
       "      <td>1.688900e+12</td>\n",
       "      <td>1.877600e+12</td>\n",
       "      <td>2.086000e+12</td>\n",
       "      <td>2.356600e+12</td>\n",
       "      <td>2.632100e+12</td>\n",
       "      <td>...</td>\n",
       "      <td>1.447764e+13</td>\n",
       "      <td>1.471858e+13</td>\n",
       "      <td>1.441874e+13</td>\n",
       "      <td>1.496437e+13</td>\n",
       "      <td>1.551793e+13</td>\n",
       "      <td>1.615525e+13</td>\n",
       "      <td>1.669152e+13</td>\n",
       "      <td>1.742761e+13</td>\n",
       "      <td>1.812071e+13</td>\n",
       "      <td>1.862448e+13</td>\n",
       "    </tr>\n",
       "    <tr>\n",
       "      <th>CHN</th>\n",
       "      <td>8.964951e+10</td>\n",
       "      <td>9.718461e+10</td>\n",
       "      <td>1.092974e+11</td>\n",
       "      <td>1.341901e+11</td>\n",
       "      <td>1.396441e+11</td>\n",
       "      <td>1.586407e+11</td>\n",
       "      <td>1.528948e+11</td>\n",
       "      <td>1.704144e+11</td>\n",
       "      <td>2.158529e+11</td>\n",
       "      <td>2.622637e+11</td>\n",
       "      <td>...</td>\n",
       "      <td>3.571451e+12</td>\n",
       "      <td>4.604285e+12</td>\n",
       "      <td>5.121680e+12</td>\n",
       "      <td>6.066351e+12</td>\n",
       "      <td>7.522103e+12</td>\n",
       "      <td>8.570348e+12</td>\n",
       "      <td>9.635026e+12</td>\n",
       "      <td>1.053453e+13</td>\n",
       "      <td>1.122619e+13</td>\n",
       "      <td>1.121828e+13</td>\n",
       "    </tr>\n",
       "    <tr>\n",
       "      <th>BRA</th>\n",
       "      <td>3.521386e+10</td>\n",
       "      <td>3.933187e+10</td>\n",
       "      <td>5.062384e+10</td>\n",
       "      <td>7.167268e+10</td>\n",
       "      <td>9.188796e+10</td>\n",
       "      <td>1.080514e+11</td>\n",
       "      <td>1.277414e+11</td>\n",
       "      <td>1.486717e+11</td>\n",
       "      <td>1.688034e+11</td>\n",
       "      <td>1.860953e+11</td>\n",
       "      <td>...</td>\n",
       "      <td>1.397114e+12</td>\n",
       "      <td>1.695855e+12</td>\n",
       "      <td>1.666996e+12</td>\n",
       "      <td>2.208838e+12</td>\n",
       "      <td>2.616157e+12</td>\n",
       "      <td>2.465228e+12</td>\n",
       "      <td>2.472819e+12</td>\n",
       "      <td>2.456044e+12</td>\n",
       "      <td>1.803650e+12</td>\n",
       "      <td>1.795926e+12</td>\n",
       "    </tr>\n",
       "    <tr>\n",
       "      <th>IND</th>\n",
       "      <td>5.960291e+10</td>\n",
       "      <td>6.394412e+10</td>\n",
       "      <td>6.955567e+10</td>\n",
       "      <td>8.294735e+10</td>\n",
       "      <td>9.361918e+10</td>\n",
       "      <td>9.738617e+10</td>\n",
       "      <td>9.812194e+10</td>\n",
       "      <td>1.138546e+11</td>\n",
       "      <td>1.317069e+11</td>\n",
       "      <td>1.457506e+11</td>\n",
       "      <td>...</td>\n",
       "      <td>1.169473e+12</td>\n",
       "      <td>1.254803e+12</td>\n",
       "      <td>1.297597e+12</td>\n",
       "      <td>1.650635e+12</td>\n",
       "      <td>1.871918e+12</td>\n",
       "      <td>1.860877e+12</td>\n",
       "      <td>1.917054e+12</td>\n",
       "      <td>2.039198e+12</td>\n",
       "      <td>2.132755e+12</td>\n",
       "      <td>2.259642e+12</td>\n",
       "    </tr>\n",
       "  </tbody>\n",
       "</table>\n",
       "<p>5 rows × 47 columns</p>\n",
       "</div>"
      ],
      "text/plain": [
       "year          1970          1971          1972          1973          1974  \\\n",
       "iso                                                                          \n",
       "KOR   8.999348e+09  9.890032e+09  1.084211e+10  1.384183e+10  1.948192e+10   \n",
       "USA   1.075900e+12  1.167800e+12  1.282400e+12  1.428500e+12  1.548800e+12   \n",
       "CHN   8.964951e+10  9.718461e+10  1.092974e+11  1.341901e+11  1.396441e+11   \n",
       "BRA   3.521386e+10  3.933187e+10  5.062384e+10  7.167268e+10  9.188796e+10   \n",
       "IND   5.960291e+10  6.394412e+10  6.955567e+10  8.294735e+10  9.361918e+10   \n",
       "\n",
       "year          1975          1976          1977          1978          1979  \\\n",
       "iso                                                                          \n",
       "KOR   2.170475e+10  2.977934e+10  3.826508e+10  5.170062e+10  6.656798e+10   \n",
       "USA   1.688900e+12  1.877600e+12  2.086000e+12  2.356600e+12  2.632100e+12   \n",
       "CHN   1.586407e+11  1.528948e+11  1.704144e+11  2.158529e+11  2.622637e+11   \n",
       "BRA   1.080514e+11  1.277414e+11  1.486717e+11  1.688034e+11  1.860953e+11   \n",
       "IND   9.738617e+10  9.812194e+10  1.138546e+11  1.317069e+11  1.457506e+11   \n",
       "\n",
       "year      ...               2007          2008          2009          2010  \\\n",
       "iso       ...                                                                \n",
       "KOR       ...       1.122679e+12  1.002219e+12  9.019350e+11  1.094499e+12   \n",
       "USA       ...       1.447764e+13  1.471858e+13  1.441874e+13  1.496437e+13   \n",
       "CHN       ...       3.571451e+12  4.604285e+12  5.121680e+12  6.066351e+12   \n",
       "BRA       ...       1.397114e+12  1.695855e+12  1.666996e+12  2.208838e+12   \n",
       "IND       ...       1.169473e+12  1.254803e+12  1.297597e+12  1.650635e+12   \n",
       "\n",
       "year          2011          2012          2013          2014          2015  \\\n",
       "iso                                                                          \n",
       "KOR   1.202464e+12  1.222807e+12  1.305605e+12  1.411334e+12  1.382764e+12   \n",
       "USA   1.551793e+13  1.615525e+13  1.669152e+13  1.742761e+13  1.812071e+13   \n",
       "CHN   7.522103e+12  8.570348e+12  9.635026e+12  1.053453e+13  1.122619e+13   \n",
       "BRA   2.616157e+12  2.465228e+12  2.472819e+12  2.456044e+12  1.803650e+12   \n",
       "IND   1.871918e+12  1.860877e+12  1.917054e+12  2.039198e+12  2.132755e+12   \n",
       "\n",
       "year          2016  \n",
       "iso                 \n",
       "KOR   1.411246e+12  \n",
       "USA   1.862448e+13  \n",
       "CHN   1.121828e+13  \n",
       "BRA   1.795926e+12  \n",
       "IND   2.259642e+12  \n",
       "\n",
       "[5 rows x 47 columns]"
      ]
     },
     "execution_count": 20,
     "metadata": {},
     "output_type": "execute_result"
    }
   ],
   "source": [
    "un_current_prepped.loc[['KOR', 'USA', 'CHN', 'BRA', 'IND']] # manual confirmation with downloaded, unmodified doc"
   ]
  },
  {
   "cell_type": "markdown",
   "metadata": {},
   "source": [
    "#### b) UN real series (GDI)"
   ]
  },
  {
   "cell_type": "code",
   "execution_count": 21,
   "metadata": {
    "collapsed": true
   },
   "outputs": [],
   "source": [
    "moo = pd.DataFrame({'a': pd.Series([1.0,100.0,1.0]), 'b': pd.Series([0.5,1.0,0.5])})"
   ]
  },
  {
   "cell_type": "code",
   "execution_count": 22,
   "metadata": {
    "collapsed": true
   },
   "outputs": [],
   "source": [
    "cow = pd.DataFrame({'a': pd.Series([1.0,2.0,3.0]), 'b': pd.Series([4.0,5.5,10.0])})"
   ]
  },
  {
   "cell_type": "code",
   "execution_count": 23,
   "metadata": {},
   "outputs": [
    {
     "data": {
      "text/html": [
       "<div>\n",
       "<style>\n",
       "    .dataframe thead tr:only-child th {\n",
       "        text-align: right;\n",
       "    }\n",
       "\n",
       "    .dataframe thead th {\n",
       "        text-align: left;\n",
       "    }\n",
       "\n",
       "    .dataframe tbody tr th {\n",
       "        vertical-align: top;\n",
       "    }\n",
       "</style>\n",
       "<table border=\"1\" class=\"dataframe\">\n",
       "  <thead>\n",
       "    <tr style=\"text-align: right;\">\n",
       "      <th></th>\n",
       "      <th>a</th>\n",
       "      <th>b</th>\n",
       "    </tr>\n",
       "  </thead>\n",
       "  <tbody>\n",
       "    <tr>\n",
       "      <th>0</th>\n",
       "      <td>1.0</td>\n",
       "      <td>2.0</td>\n",
       "    </tr>\n",
       "    <tr>\n",
       "      <th>1</th>\n",
       "      <td>200.0</td>\n",
       "      <td>5.5</td>\n",
       "    </tr>\n",
       "    <tr>\n",
       "      <th>2</th>\n",
       "      <td>3.0</td>\n",
       "      <td>5.0</td>\n",
       "    </tr>\n",
       "  </tbody>\n",
       "</table>\n",
       "</div>"
      ],
      "text/plain": [
       "       a    b\n",
       "0    1.0  2.0\n",
       "1  200.0  5.5\n",
       "2    3.0  5.0"
      ]
     },
     "execution_count": 23,
     "metadata": {},
     "output_type": "execute_result"
    }
   ],
   "source": [
    "moo.multiply(cow)"
   ]
  },
  {
   "cell_type": "code",
   "execution_count": 24,
   "metadata": {
    "collapsed": true,
    "scrolled": false
   },
   "outputs": [],
   "source": [
    "# reuse\n",
    "get_un_na_gdp_only = lambda _df2: _df2[_df2['IndicatorName'].str.startswith('Gross Domestic Product')] \n",
    "\n",
    "un_constant = get_un_na_gdp_only(df_un_constant)"
   ]
  },
  {
   "cell_type": "markdown",
   "metadata": {},
   "source": [
    "### Second: world bank"
   ]
  },
  {
   "cell_type": "code",
   "execution_count": 25,
   "metadata": {
    "collapsed": true
   },
   "outputs": [],
   "source": [
    "wb_current_filtered = wb_filter_non_countries(df_wb_current, df_wb_current_meta)\n",
    "wb_constant_filtered = wb_filter_non_countries(df_wb_constant, df_wb_constant_meta)"
   ]
  },
  {
   "cell_type": "code",
   "execution_count": 26,
   "metadata": {
    "collapsed": true
   },
   "outputs": [],
   "source": [
    "assert (wb_current_filtered.shape == wb_constant_filtered.shape == (217,68))"
   ]
  },
  {
   "cell_type": "code",
   "execution_count": 27,
   "metadata": {
    "collapsed": true
   },
   "outputs": [],
   "source": [
    "# wb_current_filtered.columns"
   ]
  },
  {
   "cell_type": "code",
   "execution_count": 28,
   "metadata": {},
   "outputs": [
    {
     "data": {
      "text/html": [
       "<div>\n",
       "<style>\n",
       "    .dataframe thead tr:only-child th {\n",
       "        text-align: right;\n",
       "    }\n",
       "\n",
       "    .dataframe thead th {\n",
       "        text-align: left;\n",
       "    }\n",
       "\n",
       "    .dataframe tbody tr th {\n",
       "        vertical-align: top;\n",
       "    }\n",
       "</style>\n",
       "<table border=\"1\" class=\"dataframe\">\n",
       "  <thead>\n",
       "    <tr style=\"text-align: right;\">\n",
       "      <th></th>\n",
       "      <th>Country Name</th>\n",
       "      <th>Country Code</th>\n",
       "      <th>Indicator Name</th>\n",
       "      <th>Indicator Code</th>\n",
       "      <th>1960</th>\n",
       "      <th>1961</th>\n",
       "      <th>1962</th>\n",
       "      <th>1963</th>\n",
       "      <th>1964</th>\n",
       "      <th>1965</th>\n",
       "      <th>...</th>\n",
       "      <th>2014</th>\n",
       "      <th>2015</th>\n",
       "      <th>2016</th>\n",
       "      <th>2017</th>\n",
       "      <th>Unnamed: 62</th>\n",
       "      <th>Region</th>\n",
       "      <th>IncomeGroup</th>\n",
       "      <th>SpecialNotes</th>\n",
       "      <th>TableName</th>\n",
       "      <th>Unnamed: 5</th>\n",
       "    </tr>\n",
       "  </thead>\n",
       "  <tbody>\n",
       "    <tr>\n",
       "      <th>245</th>\n",
       "      <td>Ukraine</td>\n",
       "      <td>UKR</td>\n",
       "      <td>GDP (current US$)</td>\n",
       "      <td>NY.GDP.MKTP.CD</td>\n",
       "      <td>NaN</td>\n",
       "      <td>NaN</td>\n",
       "      <td>NaN</td>\n",
       "      <td>NaN</td>\n",
       "      <td>NaN</td>\n",
       "      <td>NaN</td>\n",
       "      <td>...</td>\n",
       "      <td>1.335034e+11</td>\n",
       "      <td>9.103096e+10</td>\n",
       "      <td>9.327048e+10</td>\n",
       "      <td>NaN</td>\n",
       "      <td>NaN</td>\n",
       "      <td>Europe &amp; Central Asia</td>\n",
       "      <td>Lower middle income</td>\n",
       "      <td>The new base year is 2010.</td>\n",
       "      <td>Ukraine</td>\n",
       "      <td>NaN</td>\n",
       "    </tr>\n",
       "    <tr>\n",
       "      <th>247</th>\n",
       "      <td>Uruguay</td>\n",
       "      <td>URY</td>\n",
       "      <td>GDP (current US$)</td>\n",
       "      <td>NY.GDP.MKTP.CD</td>\n",
       "      <td>1.242289e+09</td>\n",
       "      <td>1.547389e+09</td>\n",
       "      <td>1.710004e+09</td>\n",
       "      <td>1.539682e+09</td>\n",
       "      <td>1.975702e+09</td>\n",
       "      <td>1.890769e+09</td>\n",
       "      <td>...</td>\n",
       "      <td>5.723601e+10</td>\n",
       "      <td>5.327430e+10</td>\n",
       "      <td>5.241972e+10</td>\n",
       "      <td>NaN</td>\n",
       "      <td>NaN</td>\n",
       "      <td>Latin America &amp; Caribbean</td>\n",
       "      <td>High income</td>\n",
       "      <td>NaN</td>\n",
       "      <td>Uruguay</td>\n",
       "      <td>NaN</td>\n",
       "    </tr>\n",
       "    <tr>\n",
       "      <th>248</th>\n",
       "      <td>United States</td>\n",
       "      <td>USA</td>\n",
       "      <td>GDP (current US$)</td>\n",
       "      <td>NY.GDP.MKTP.CD</td>\n",
       "      <td>5.433000e+11</td>\n",
       "      <td>5.633000e+11</td>\n",
       "      <td>6.051000e+11</td>\n",
       "      <td>6.386000e+11</td>\n",
       "      <td>6.858000e+11</td>\n",
       "      <td>7.437000e+11</td>\n",
       "      <td>...</td>\n",
       "      <td>1.739310e+13</td>\n",
       "      <td>1.812071e+13</td>\n",
       "      <td>1.862448e+13</td>\n",
       "      <td>NaN</td>\n",
       "      <td>NaN</td>\n",
       "      <td>North America</td>\n",
       "      <td>High income</td>\n",
       "      <td>Fiscal year end: September 30; reporting perio...</td>\n",
       "      <td>United States</td>\n",
       "      <td>NaN</td>\n",
       "    </tr>\n",
       "  </tbody>\n",
       "</table>\n",
       "<p>3 rows × 68 columns</p>\n",
       "</div>"
      ],
      "text/plain": [
       "      Country Name Country Code     Indicator Name  Indicator Code  \\\n",
       "245        Ukraine          UKR  GDP (current US$)  NY.GDP.MKTP.CD   \n",
       "247        Uruguay          URY  GDP (current US$)  NY.GDP.MKTP.CD   \n",
       "248  United States          USA  GDP (current US$)  NY.GDP.MKTP.CD   \n",
       "\n",
       "             1960          1961          1962          1963          1964  \\\n",
       "245           NaN           NaN           NaN           NaN           NaN   \n",
       "247  1.242289e+09  1.547389e+09  1.710004e+09  1.539682e+09  1.975702e+09   \n",
       "248  5.433000e+11  5.633000e+11  6.051000e+11  6.386000e+11  6.858000e+11   \n",
       "\n",
       "             1965     ...              2014          2015          2016  2017  \\\n",
       "245           NaN     ...      1.335034e+11  9.103096e+10  9.327048e+10   NaN   \n",
       "247  1.890769e+09     ...      5.723601e+10  5.327430e+10  5.241972e+10   NaN   \n",
       "248  7.437000e+11     ...      1.739310e+13  1.812071e+13  1.862448e+13   NaN   \n",
       "\n",
       "     Unnamed: 62                     Region          IncomeGroup  \\\n",
       "245          NaN      Europe & Central Asia  Lower middle income   \n",
       "247          NaN  Latin America & Caribbean          High income   \n",
       "248          NaN              North America          High income   \n",
       "\n",
       "                                          SpecialNotes      TableName  \\\n",
       "245                         The new base year is 2010.        Ukraine   \n",
       "247                                                NaN        Uruguay   \n",
       "248  Fiscal year end: September 30; reporting perio...  United States   \n",
       "\n",
       "     Unnamed: 5  \n",
       "245         NaN  \n",
       "247         NaN  \n",
       "248         NaN  \n",
       "\n",
       "[3 rows x 68 columns]"
      ]
     },
     "execution_count": 28,
     "metadata": {},
     "output_type": "execute_result"
    }
   ],
   "source": [
    "wb_current_filtered[201:204]"
   ]
  },
  {
   "cell_type": "markdown",
   "metadata": {},
   "source": [
    "### Ender: IMF - WEO"
   ]
  },
  {
   "cell_type": "code",
   "execution_count": 127,
   "metadata": {
    "scrolled": true
   },
   "outputs": [
    {
     "name": "stdout",
     "output_type": "stream",
     "text": [
      "2016    133\n",
      "2015     43\n",
      "2014      5\n",
      "2013      4\n",
      "2011      2\n",
      "2010      2\n",
      "2017      1\n",
      "2012      1\n",
      "2008      1\n",
      "2006      1\n",
      "Name: Estimates Start After, dtype: int64\n"
     ]
    }
   ],
   "source": [
    "# prep weo current\n",
    "# weo specific munging\n",
    "\n",
    "df_weo_current.columns\n",
    "df_weo_current_fixed = df_weo_current.assign(iso=df_weo_current['ISO']) \n",
    "country_estimates_start_after = df_weo_current_fixed['Estimates Start After'] # may be useful later\n",
    "\n",
    "print(country_estimates_start_after.value_counts()) # set 2016 as last year (Good for now)\n",
    "# filter out 2017 after prepping (only years left) should be 1980 -2016 then\n",
    "\n",
    "# drop 2017 and after (projections) FOR NOW..?\n",
    "df_weo_current_prepped = prep_dataframe(df_weo_current_fixed, 'imf_weo', 'iso')[1980:2016]\n",
    "\n",
    "# df_weo_current_prepped_hist_only = df_weo_current_prepped[1980:2016]\n",
    "# df_weo_current_prepped_hist_only"
   ]
  },
  {
   "cell_type": "code",
   "execution_count": 128,
   "metadata": {
    "collapsed": true
   },
   "outputs": [],
   "source": [
    "# prep weo constant\n"
   ]
  },
  {
   "cell_type": "markdown",
   "metadata": {},
   "source": [
    "### Fourth: PWT"
   ]
  },
  {
   "cell_type": "markdown",
   "metadata": {},
   "source": [
    "### Siblings: Prep dataframe (constant)"
   ]
  },
  {
   "cell_type": "code",
   "execution_count": 70,
   "metadata": {},
   "outputs": [],
   "source": [
    "un_constant_prepped = prep_dataframe(un_constant, 'un', 'Country')\n",
    "wb_constant_prepped = prep_dataframe(wb_constant_filtered, 'wb', 'Country Name').loc[:,1960:2016]\n",
    "wb_current_prepped = prep_dataframe(wb_current_filtered, 'wb', 'Country Name').loc[:,1960:2016]"
   ]
  },
  {
   "cell_type": "code",
   "execution_count": null,
   "metadata": {
    "collapsed": true
   },
   "outputs": [],
   "source": [
    "# drop 2017 from both current and constant (all null)"
   ]
  },
  {
   "cell_type": "code",
   "execution_count": 73,
   "metadata": {},
   "outputs": [],
   "source": [
    "assert (wb_constant_prepped.shape == wb_current_prepped.shape == (217,57))"
   ]
  },
  {
   "cell_type": "code",
   "execution_count": 75,
   "metadata": {},
   "outputs": [],
   "source": [
    "# # some sanity checks (select countries such as Korea were disappearing earlier due to prep_dataframe. Resolved now)\n",
    "\n",
    "# wb_current_filtered[wb_current_filtered['Country Code']=='KOR']\n",
    "# wb_constant_filtered[wb_current_filtered['Country Code']=='KOR']"
   ]
  },
  {
   "cell_type": "code",
   "execution_count": 76,
   "metadata": {
    "scrolled": true
   },
   "outputs": [
    {
     "data": {
      "text/html": [
       "<div>\n",
       "<style>\n",
       "    .dataframe thead tr:only-child th {\n",
       "        text-align: right;\n",
       "    }\n",
       "\n",
       "    .dataframe thead th {\n",
       "        text-align: left;\n",
       "    }\n",
       "\n",
       "    .dataframe tbody tr th {\n",
       "        vertical-align: top;\n",
       "    }\n",
       "</style>\n",
       "<table border=\"1\" class=\"dataframe\">\n",
       "  <thead>\n",
       "    <tr style=\"text-align: right;\">\n",
       "      <th>year</th>\n",
       "      <th>1960</th>\n",
       "      <th>1961</th>\n",
       "      <th>1962</th>\n",
       "      <th>1963</th>\n",
       "      <th>1964</th>\n",
       "      <th>1965</th>\n",
       "      <th>1966</th>\n",
       "      <th>1967</th>\n",
       "      <th>1968</th>\n",
       "      <th>1969</th>\n",
       "      <th>...</th>\n",
       "      <th>2007</th>\n",
       "      <th>2008</th>\n",
       "      <th>2009</th>\n",
       "      <th>2010</th>\n",
       "      <th>2011</th>\n",
       "      <th>2012</th>\n",
       "      <th>2013</th>\n",
       "      <th>2014</th>\n",
       "      <th>2015</th>\n",
       "      <th>2016</th>\n",
       "    </tr>\n",
       "    <tr>\n",
       "      <th>iso</th>\n",
       "      <th></th>\n",
       "      <th></th>\n",
       "      <th></th>\n",
       "      <th></th>\n",
       "      <th></th>\n",
       "      <th></th>\n",
       "      <th></th>\n",
       "      <th></th>\n",
       "      <th></th>\n",
       "      <th></th>\n",
       "      <th></th>\n",
       "      <th></th>\n",
       "      <th></th>\n",
       "      <th></th>\n",
       "      <th></th>\n",
       "      <th></th>\n",
       "      <th></th>\n",
       "      <th></th>\n",
       "      <th></th>\n",
       "      <th></th>\n",
       "      <th></th>\n",
       "    </tr>\n",
       "  </thead>\n",
       "  <tbody>\n",
       "    <tr>\n",
       "      <th>USA</th>\n",
       "      <td>5.433000e+11</td>\n",
       "      <td>5.633000e+11</td>\n",
       "      <td>6.051000e+11</td>\n",
       "      <td>6.386000e+11</td>\n",
       "      <td>6.858000e+11</td>\n",
       "      <td>7.437000e+11</td>\n",
       "      <td>8.150000e+11</td>\n",
       "      <td>8.617000e+11</td>\n",
       "      <td>9.425000e+11</td>\n",
       "      <td>1.019900e+12</td>\n",
       "      <td>...</td>\n",
       "      <td>1.447764e+13</td>\n",
       "      <td>1.471858e+13</td>\n",
       "      <td>1.441874e+13</td>\n",
       "      <td>1.496437e+13</td>\n",
       "      <td>1.551793e+13</td>\n",
       "      <td>1.615526e+13</td>\n",
       "      <td>1.669152e+13</td>\n",
       "      <td>1.739310e+13</td>\n",
       "      <td>1.812071e+13</td>\n",
       "      <td>1.862448e+13</td>\n",
       "    </tr>\n",
       "    <tr>\n",
       "      <th>KOR</th>\n",
       "      <td>3.957874e+09</td>\n",
       "      <td>2.417238e+09</td>\n",
       "      <td>2.813934e+09</td>\n",
       "      <td>3.988246e+09</td>\n",
       "      <td>3.458518e+09</td>\n",
       "      <td>3.120308e+09</td>\n",
       "      <td>3.928171e+09</td>\n",
       "      <td>4.854576e+09</td>\n",
       "      <td>6.117260e+09</td>\n",
       "      <td>7.675805e+09</td>\n",
       "      <td>...</td>\n",
       "      <td>1.122679e+12</td>\n",
       "      <td>1.002219e+12</td>\n",
       "      <td>9.019350e+11</td>\n",
       "      <td>1.094499e+12</td>\n",
       "      <td>1.202464e+12</td>\n",
       "      <td>1.222807e+12</td>\n",
       "      <td>1.305605e+12</td>\n",
       "      <td>1.411334e+12</td>\n",
       "      <td>1.382764e+12</td>\n",
       "      <td>1.411246e+12</td>\n",
       "    </tr>\n",
       "    <tr>\n",
       "      <th>BRA</th>\n",
       "      <td>1.516557e+10</td>\n",
       "      <td>1.523685e+10</td>\n",
       "      <td>1.992629e+10</td>\n",
       "      <td>2.302148e+10</td>\n",
       "      <td>2.121189e+10</td>\n",
       "      <td>2.179004e+10</td>\n",
       "      <td>2.706272e+10</td>\n",
       "      <td>3.059183e+10</td>\n",
       "      <td>3.387588e+10</td>\n",
       "      <td>3.745890e+10</td>\n",
       "      <td>...</td>\n",
       "      <td>1.397084e+12</td>\n",
       "      <td>1.695825e+12</td>\n",
       "      <td>1.667020e+12</td>\n",
       "      <td>2.208872e+12</td>\n",
       "      <td>2.616202e+12</td>\n",
       "      <td>2.465189e+12</td>\n",
       "      <td>2.472807e+12</td>\n",
       "      <td>2.455993e+12</td>\n",
       "      <td>1.803653e+12</td>\n",
       "      <td>1.796187e+12</td>\n",
       "    </tr>\n",
       "  </tbody>\n",
       "</table>\n",
       "<p>3 rows × 57 columns</p>\n",
       "</div>"
      ],
      "text/plain": [
       "year          1960          1961          1962          1963          1964  \\\n",
       "iso                                                                          \n",
       "USA   5.433000e+11  5.633000e+11  6.051000e+11  6.386000e+11  6.858000e+11   \n",
       "KOR   3.957874e+09  2.417238e+09  2.813934e+09  3.988246e+09  3.458518e+09   \n",
       "BRA   1.516557e+10  1.523685e+10  1.992629e+10  2.302148e+10  2.121189e+10   \n",
       "\n",
       "year          1965          1966          1967          1968          1969  \\\n",
       "iso                                                                          \n",
       "USA   7.437000e+11  8.150000e+11  8.617000e+11  9.425000e+11  1.019900e+12   \n",
       "KOR   3.120308e+09  3.928171e+09  4.854576e+09  6.117260e+09  7.675805e+09   \n",
       "BRA   2.179004e+10  2.706272e+10  3.059183e+10  3.387588e+10  3.745890e+10   \n",
       "\n",
       "year      ...               2007          2008          2009          2010  \\\n",
       "iso       ...                                                                \n",
       "USA       ...       1.447764e+13  1.471858e+13  1.441874e+13  1.496437e+13   \n",
       "KOR       ...       1.122679e+12  1.002219e+12  9.019350e+11  1.094499e+12   \n",
       "BRA       ...       1.397084e+12  1.695825e+12  1.667020e+12  2.208872e+12   \n",
       "\n",
       "year          2011          2012          2013          2014          2015  \\\n",
       "iso                                                                          \n",
       "USA   1.551793e+13  1.615526e+13  1.669152e+13  1.739310e+13  1.812071e+13   \n",
       "KOR   1.202464e+12  1.222807e+12  1.305605e+12  1.411334e+12  1.382764e+12   \n",
       "BRA   2.616202e+12  2.465189e+12  2.472807e+12  2.455993e+12  1.803653e+12   \n",
       "\n",
       "year          2016  \n",
       "iso                 \n",
       "USA   1.862448e+13  \n",
       "KOR   1.411246e+12  \n",
       "BRA   1.796187e+12  \n",
       "\n",
       "[3 rows x 57 columns]"
      ]
     },
     "execution_count": 76,
     "metadata": {},
     "output_type": "execute_result"
    }
   ],
   "source": [
    "wb_current_prepped.loc[['USA', 'KOR', 'BRA']]"
   ]
  },
  {
   "cell_type": "markdown",
   "metadata": {},
   "source": [
    "## II. Calculate real gdp_index  (Adv prepping? \\o/)\n",
    "\n",
    "    * UN (x)\n",
    "    \n",
    "    * WB (x)\n",
    "    \n",
    "    * PWT ( )\n",
    "    \n",
    "    * IMF-WEO ( )"
   ]
  },
  {
   "cell_type": "code",
   "execution_count": 77,
   "metadata": {
    "collapsed": true
   },
   "outputs": [],
   "source": [
    "un_gdi = calculate_real_gdp_index(un_constant_prepped, 'un')\n",
    "wb_gdi = calculate_real_gdp_index(wb_constant_prepped, 'wb')"
   ]
  },
  {
   "cell_type": "code",
   "execution_count": null,
   "metadata": {
    "collapsed": true
   },
   "outputs": [],
   "source": []
  },
  {
   "cell_type": "code",
   "execution_count": 78,
   "metadata": {
    "collapsed": true
   },
   "outputs": [],
   "source": [
    "[un_gdi_norm, wb_gdi_norm] = normalize_real_gdi([un_gdi, wb_gdi])"
   ]
  },
  {
   "cell_type": "code",
   "execution_count": 80,
   "metadata": {
    "collapsed": true
   },
   "outputs": [],
   "source": [
    "# un calculate real series using gdi and nominal series!!@#!@#!@#!@3"
   ]
  },
  {
   "cell_type": "code",
   "execution_count": 38,
   "metadata": {
    "collapsed": true
   },
   "outputs": [],
   "source": [
    "un_real_b2015 = un_gdi_norm.multiply(un_current_prepped)"
   ]
  },
  {
   "cell_type": "code",
   "execution_count": 81,
   "metadata": {
    "collapsed": true
   },
   "outputs": [],
   "source": [
    "# wb calculate real series = gdi * nominal\n",
    "wb_real_b2015 = wb_gdi_norm.multiply(wb_current_prepped)"
   ]
  },
  {
   "cell_type": "markdown",
   "metadata": {},
   "source": [
    "### warning: dropping 2016 since it's all nan\n"
   ]
  },
  {
   "cell_type": "code",
   "execution_count": 95,
   "metadata": {
    "collapsed": true
   },
   "outputs": [],
   "source": [
    "un_real_b2015 = un_real_b2015.loc[:,1970:2015] # should move this to prepping with wb prep"
   ]
  },
  {
   "cell_type": "code",
   "execution_count": 94,
   "metadata": {
    "scrolled": true
   },
   "outputs": [
    {
     "data": {
      "image/png": "[encoded data removed]",
      "text/plain": [
       "<matplotlib.figure.Figure at 0x10b66bcc0>"
      ]
     },
     "metadata": {},
     "output_type": "display_data"
    }
   ],
   "source": [
    "def plot_total(_df, source):\n",
    "    '''\n",
    "    Calculates and plots the total annual gdp values based on input dataframe\n",
    "    \n",
    "    Parameters\n",
    "    ----------\n",
    "    _df: DataFrame\n",
    "        dataframe of gdp series (country x years), a single source\n",
    "    _source: str\n",
    "        string name of the data source\n",
    "\n",
    "    Return\n",
    "    -------\n",
    "    None\n",
    "    '''\n",
    "    meta = {\n",
    "        'un': ('United Nations', '1970-2015', 'unit here***', 'go-'),\n",
    "        'wb': ('World Bank', '1960-2016', 'unit here***', 'bo-')\n",
    "    }\n",
    "    \n",
    "    _display_name = meta[source][0]\n",
    "    _years = meta[source][1]\n",
    "    _unit = meta[source][2]\n",
    "    _color =meta[source][3]\n",
    "    \n",
    "    total_series = _df.sum(axis=0)\n",
    "    tt = total_series.T.plot(style=_color, \n",
    "                   figsize=(12, 7),\n",
    "                   fontsize=14, grid=True, rot=320, alpha=.7, ms=5)\n",
    "     \n",
    "    label_axes(tt, \n",
    "           'Years ({0}))'.format(_years), \n",
    "           'Total Annual GDP ({0})'.format(_unit),\n",
    "            'Total Annual GDP, {0} Data ({1})'.format(_display_name, _years)) \n",
    "\n",
    "    \n",
    "plot_total(un_real_b2015, 'un')\n",
    "plot_total(wb_real_b2015, 'wb')\n",
    "# overwriting legends, and no labels (color - source). ignore for now. this is just sanity check (will be using xarray)"
   ]
  },
  {
   "cell_type": "code",
   "execution_count": 100,
   "metadata": {
    "collapsed": true
   },
   "outputs": [],
   "source": [
    "# calculate gdp index from weo constant\n",
    "\n"
   ]
  },
  {
   "cell_type": "code",
   "execution_count": 45,
   "metadata": {
    "collapsed": true
   },
   "outputs": [],
   "source": [
    "# calculate gdp index and get nominal series (PWT) -> use rgdnpa (but convert base year**)"
   ]
  },
  {
   "cell_type": "code",
   "execution_count": 46,
   "metadata": {
    "collapsed": true
   },
   "outputs": [],
   "source": [
    "\n",
    "# imf calculate real seires (gdi * nominal)\n",
    "# calculate per capital values\n",
    "# revisit four major countries for IFS data (individual download)"
   ]
  }
 ],
 "metadata": {
  "kernelspec": {
   "display_name": "Python 3",
   "language": "python",
   "name": "python3"
  },
  "language_info": {
   "codemirror_mode": {
    "name": "ipython",
    "version": 3
   },
   "file_extension": ".py",
   "mimetype": "text/x-python",
   "name": "python",
   "nbconvert_exporter": "python",
   "pygments_lexer": "ipython3",
   "version": "3.6.3"
  }
 },
 "nbformat": 4,
 "nbformat_minor": 2
}
