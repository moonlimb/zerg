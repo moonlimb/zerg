{
 "cells": [
  {
   "cell_type": "code",
   "execution_count": 59,
   "metadata": {
    "collapsed": true
   },
   "outputs": [],
   "source": [
    "import os\n",
    "from collections import OrderedDict\n",
    "\n",
    "import numpy as np\n",
    "import pandas as pd\n",
    "import seaborn as sns\n",
    "import xarray as xr\n",
    "\n",
    "% matplotlib inline"
   ]
  },
  {
   "attachments": {},
   "cell_type": "markdown",
   "metadata": {},
   "source": [
    "### WB Data Analysis\n",
    "\n",
    "**<span style=\"color:red; background:yellow;\"></span>**\n",
    "\n",
    "**Data & Scope:** downloaded on (date/time)\n",
    "Two types of datasets:\n",
    "\n",
    "1) Population (easy)\n",
    "* years 1960-2016\n",
    "* definition: total # residents (Regardless of citizenship/legal status)\n",
    "* sources: (mid-year value)\n",
    "\n",
    "    1) United Nations Population Division. World Population Prospects\n",
    "    \n",
    "    2) Census reports and other statistical publications from national statistical offices\n",
    "    \n",
    "    3) Eurostat: Demographic Statistics\n",
    "    \n",
    "    4) United Nations Statistical Division. Population and Vita\n",
    "\n",
    "2) GDP (slightly more tricky)\n",
    "- years: 1960 - 2016\n",
    "- choosing to look at `gdp` (market, constant) first.\n",
    "- Other types that one can look at:\n",
    "    * MKT current\n",
    "    * PPP current\n",
    "    * PPP constant\n",
    "\n",
    "**Source:** World Bank\n",
    "\n",
    "**Assumptions/Expectations**\n",
    "\n",
    "**Analysis Goals**\n",
    "- Task 3 Deliverable: ADM0 population & real income estimates from `1950-2017`  **<span style=\"color:gray; background:lime;\">DONE</span>**\n",
    "\n",
    "- Find out which countries are missing data for which years. \n",
    "    Population **<span style=\"color:gray; background:lime;\">DONE</span>**\n",
    "    GDP\n",
    "- Or alternatively, which years are missing certain *countries*\n",
    "\n",
    "Possible convenience functions:\n",
    "* Find years missing for a given country (to check important countries)\n",
    "* Create filter for population > 10 mil: look at countries exit/enter data on which years. (Mike's suggesiton)\n",
    "* From metadata, get a list of country code that are not *countries* to filter them from the list **<span style=\"color:gray; background:lime;\">DONE</span>**\n",
    "\n",
    "\n",
    "**Conclusion**\n",
    "\n",
    "#1. Population. Population data exists from **1960 to 2016.**\n",
    "    \n",
    "```  \n",
    "Countries out of 217 that are missing population data (nan):\n",
    "\n",
    "West Bank and Gaza: 1960 - 1989\n",
    "Serbia: 1960 - 1989\n",
    "Sint Maarten (Dutch part): 1960 -1998\n",
    "Kuwait: 1992-1994\n",
    "Eritrea: 2012-2016\n",
    "\n",
    "```\n",
    "\n",
    "#2. GDP \n",
    "\n",
    "```\n",
    "Countries out of 217 that are missing gdp data\n",
    "\n",
    "a. GPP market constant\n",
    "b. GDO PPP constant\n",
    "\n",
    "```\n",
    "\n"
   ]
  },
  {
   "cell_type": "markdown",
   "metadata": {},
   "source": [
    "# Z. Convenience functions for both Population & Income data\n",
    "\n",
    "\n",
    "Both population and income dataset includes list of countries (217) plus various other groups^^ (46 - regional, income or political) as entry data. 217 is the expected number of countries listed in World Bank, 2017.\n",
    "\n",
    "Convenience functions:\n",
    "\n",
    "1) From the original WB dataset, select only columns of interest\n",
    "\n",
    "2) Get only country-specific GDP and population data (filter out other groups^^, mentioned above, data)"
   ]
  },
  {
   "cell_type": "markdown",
   "metadata": {},
   "source": [
    "### 1) Select interested columns from data"
   ]
  },
  {
   "cell_type": "code",
   "execution_count": 60,
   "metadata": {
    "collapsed": true
   },
   "outputs": [],
   "source": [
    "def select_relevant_cols(_df):\n",
    "    # returns df with 'Country Name', 'Country Code' and all years (1960 to 2016)\n",
    "    _cols = ['Country Name'] + ['Country Code'] + [str(yr) for yr in range(1960, 2017)]\n",
    "    return _df[_cols]"
   ]
  },
  {
   "cell_type": "markdown",
   "metadata": {},
   "source": [
    "### 2) Filter out non_countries (i.e. get only country data)"
   ]
  },
  {
   "cell_type": "code",
   "execution_count": 61,
   "metadata": {
    "collapsed": true
   },
   "outputs": [],
   "source": [
    "def filter_non_countries(_df, _metadata):\n",
    "    '''\n",
    "    _df : pd.DataFrame\n",
    "        either income or population data\n",
    "        \n",
    "    _metadata : pd.DataFrame\n",
    "        metadata on a list of entries including countries and non-countries \n",
    "        data source is from the World Bank\n",
    "        has IncomeGroup column that is not null for countries (217)\n",
    "    '''\n",
    "    # Country Code in both dataframes\n",
    "    _merged = _df.merge(_metadata, on='Country Code')\n",
    "    \n",
    "    # non-countries have no IncomeGroup\n",
    "    non_country_mask = _merged['IncomeGroup'].isnull()\n",
    "    merged_country_only = _merged[~non_country_mask]\n",
    "    return merged_country_only"
   ]
  },
  {
   "cell_type": "markdown",
   "metadata": {},
   "source": [
    "# A. Population data\n",
    "\n",
    "Total population (absolute units) - based on national census and extrapolation and interpolation for missing values (based on data from United Nations, other census organizations, Eurostats and WB methodology). Subject to undercounting/biases for both high and low/mid income countries. \n",
    "\n",
    "Interpolation and extrapolation done by World Bank/UN (??-confirm the responsible party) for certain years/countries that are missing census data, or missing pre/post census information for given time frame. Uses demographic models, etc. "
   ]
  },
  {
   "cell_type": "markdown",
   "metadata": {},
   "source": [
    "### Initial survey of data"
   ]
  },
  {
   "cell_type": "markdown",
   "metadata": {},
   "source": [
    "#### Download population data + metadata"
   ]
  },
  {
   "cell_type": "code",
   "execution_count": 62,
   "metadata": {},
   "outputs": [],
   "source": [
    "zerg_path = os.environ['ZERG']"
   ]
  },
  {
   "cell_type": "code",
   "execution_count": 63,
   "metadata": {
    "scrolled": true
   },
   "outputs": [
    {
     "data": {
      "text/html": [
       "<div>\n",
       "<style>\n",
       "    .dataframe thead tr:only-child th {\n",
       "        text-align: right;\n",
       "    }\n",
       "\n",
       "    .dataframe thead th {\n",
       "        text-align: left;\n",
       "    }\n",
       "\n",
       "    .dataframe tbody tr th {\n",
       "        vertical-align: top;\n",
       "    }\n",
       "</style>\n",
       "<table border=\"1\" class=\"dataframe\">\n",
       "  <thead>\n",
       "    <tr style=\"text-align: right;\">\n",
       "      <th></th>\n",
       "      <th>Country Name</th>\n",
       "      <th>Country Code</th>\n",
       "      <th>Indicator Name</th>\n",
       "      <th>Indicator Code</th>\n",
       "      <th>1960</th>\n",
       "      <th>1961</th>\n",
       "      <th>1962</th>\n",
       "      <th>1963</th>\n",
       "      <th>1964</th>\n",
       "      <th>1965</th>\n",
       "      <th>...</th>\n",
       "      <th>2009</th>\n",
       "      <th>2010</th>\n",
       "      <th>2011</th>\n",
       "      <th>2012</th>\n",
       "      <th>2013</th>\n",
       "      <th>2014</th>\n",
       "      <th>2015</th>\n",
       "      <th>2016</th>\n",
       "      <th>2017</th>\n",
       "      <th>Unnamed: 62</th>\n",
       "    </tr>\n",
       "  </thead>\n",
       "  <tbody>\n",
       "    <tr>\n",
       "      <th>261</th>\n",
       "      <td>South Africa</td>\n",
       "      <td>ZAF</td>\n",
       "      <td>Population, total</td>\n",
       "      <td>SP.POP.TOTL</td>\n",
       "      <td>17396367.0</td>\n",
       "      <td>17850045.0</td>\n",
       "      <td>18322335.0</td>\n",
       "      <td>18809939.0</td>\n",
       "      <td>19308166.0</td>\n",
       "      <td>19813947.0</td>\n",
       "      <td>...</td>\n",
       "      <td>5.025581e+07</td>\n",
       "      <td>5.097943e+07</td>\n",
       "      <td>5.172935e+07</td>\n",
       "      <td>5.250652e+07</td>\n",
       "      <td>5.331196e+07</td>\n",
       "      <td>5.414673e+07</td>\n",
       "      <td>5.501198e+07</td>\n",
       "      <td>55908865.0</td>\n",
       "      <td>NaN</td>\n",
       "      <td>NaN</td>\n",
       "    </tr>\n",
       "    <tr>\n",
       "      <th>262</th>\n",
       "      <td>Zambia</td>\n",
       "      <td>ZMB</td>\n",
       "      <td>Population, total</td>\n",
       "      <td>SP.POP.TOTL</td>\n",
       "      <td>3044846.0</td>\n",
       "      <td>3140264.0</td>\n",
       "      <td>3240587.0</td>\n",
       "      <td>3345145.0</td>\n",
       "      <td>3452942.0</td>\n",
       "      <td>3563407.0</td>\n",
       "      <td>...</td>\n",
       "      <td>1.345642e+07</td>\n",
       "      <td>1.385003e+07</td>\n",
       "      <td>1.426476e+07</td>\n",
       "      <td>1.469994e+07</td>\n",
       "      <td>1.515321e+07</td>\n",
       "      <td>1.562097e+07</td>\n",
       "      <td>1.610059e+07</td>\n",
       "      <td>16591390.0</td>\n",
       "      <td>NaN</td>\n",
       "      <td>NaN</td>\n",
       "    </tr>\n",
       "    <tr>\n",
       "      <th>263</th>\n",
       "      <td>Zimbabwe</td>\n",
       "      <td>ZWE</td>\n",
       "      <td>Population, total</td>\n",
       "      <td>SP.POP.TOTL</td>\n",
       "      <td>3747369.0</td>\n",
       "      <td>3870756.0</td>\n",
       "      <td>3999419.0</td>\n",
       "      <td>4132756.0</td>\n",
       "      <td>4269863.0</td>\n",
       "      <td>4410212.0</td>\n",
       "      <td>...</td>\n",
       "      <td>1.381060e+07</td>\n",
       "      <td>1.408632e+07</td>\n",
       "      <td>1.438665e+07</td>\n",
       "      <td>1.471083e+07</td>\n",
       "      <td>1.505451e+07</td>\n",
       "      <td>1.541168e+07</td>\n",
       "      <td>1.577745e+07</td>\n",
       "      <td>16150362.0</td>\n",
       "      <td>NaN</td>\n",
       "      <td>NaN</td>\n",
       "    </tr>\n",
       "  </tbody>\n",
       "</table>\n",
       "<p>3 rows × 63 columns</p>\n",
       "</div>"
      ],
      "text/plain": [
       "     Country Name Country Code     Indicator Name Indicator Code        1960  \\\n",
       "261  South Africa          ZAF  Population, total    SP.POP.TOTL  17396367.0   \n",
       "262        Zambia          ZMB  Population, total    SP.POP.TOTL   3044846.0   \n",
       "263      Zimbabwe          ZWE  Population, total    SP.POP.TOTL   3747369.0   \n",
       "\n",
       "           1961        1962        1963        1964        1965     ...       \\\n",
       "261  17850045.0  18322335.0  18809939.0  19308166.0  19813947.0     ...        \n",
       "262   3140264.0   3240587.0   3345145.0   3452942.0   3563407.0     ...        \n",
       "263   3870756.0   3999419.0   4132756.0   4269863.0   4410212.0     ...        \n",
       "\n",
       "             2009          2010          2011          2012          2013  \\\n",
       "261  5.025581e+07  5.097943e+07  5.172935e+07  5.250652e+07  5.331196e+07   \n",
       "262  1.345642e+07  1.385003e+07  1.426476e+07  1.469994e+07  1.515321e+07   \n",
       "263  1.381060e+07  1.408632e+07  1.438665e+07  1.471083e+07  1.505451e+07   \n",
       "\n",
       "             2014          2015        2016  2017  Unnamed: 62  \n",
       "261  5.414673e+07  5.501198e+07  55908865.0   NaN          NaN  \n",
       "262  1.562097e+07  1.610059e+07  16591390.0   NaN          NaN  \n",
       "263  1.541168e+07  1.577745e+07  16150362.0   NaN          NaN  \n",
       "\n",
       "[3 rows x 63 columns]"
      ]
     },
     "execution_count": 63,
     "metadata": {},
     "output_type": "execute_result"
    }
   ],
   "source": [
    "df2 = pd.read_csv(zerg_path + 'data/wb/population/API_SP.POP.TOTL_DS2_en_csv_v2.csv', skiprows=4)\n",
    "meta_country = pd.read_csv(zerg_path + 'data/wb/population/Metadata_Country_API_SP.POP.TOTL_DS2_en_csv_v2.csv')\n",
    "\n",
    "#del df2['Unnamed: 62'] # remove extraneous data\n",
    "df2.columns\n",
    "df2.tail(3)"
   ]
  },
  {
   "cell_type": "markdown",
   "metadata": {},
   "source": [
    "\n",
    "**WARNING**: had to re-download the file because I modified it by\n",
    "opening and interacting with in via Excel. Produced error in read_csv call.\n",
    "\n",
    "**TIP for myself**: Only Open a copy version in Excel\n"
   ]
  },
  {
   "cell_type": "code",
   "execution_count": 64,
   "metadata": {},
   "outputs": [
    {
     "data": {
      "text/plain": [
       "Index(['Country Code', 'Region', 'IncomeGroup', 'SpecialNotes', 'TableName'], dtype='object')"
      ]
     },
     "execution_count": 64,
     "metadata": {},
     "output_type": "execute_result"
    }
   ],
   "source": [
    "del meta_country['Unnamed: 5'] \n",
    "meta_country.columns"
   ]
  },
  {
   "cell_type": "code",
   "execution_count": 65,
   "metadata": {
    "scrolled": true
   },
   "outputs": [
    {
     "data": {
      "text/plain": [
       "array([ nan])"
      ]
     },
     "execution_count": 65,
     "metadata": {},
     "output_type": "execute_result"
    }
   ],
   "source": [
    "df2\n",
    "df2['2017'].unique() # nan -> all 2017 values nan"
   ]
  },
  {
   "cell_type": "markdown",
   "metadata": {},
   "source": [
    "### Initial survey of metadata"
   ]
  },
  {
   "cell_type": "code",
   "execution_count": 66,
   "metadata": {},
   "outputs": [
    {
     "data": {
      "text/plain": [
       "False    217\n",
       "True      46\n",
       "Name: IncomeGroup, dtype: int64"
      ]
     },
     "execution_count": 66,
     "metadata": {},
     "output_type": "execute_result"
    }
   ],
   "source": [
    "meta_country['Region'].unique() # 7 excluding nan\n",
    "\n",
    "'''['Latin America & Caribbean' \n",
    " 'South Asia' \n",
    " 'Sub-Saharan Africa'\n",
    " 'Europe & Central Asia' /// nan \n",
    " 'Middle East & North Africa'\n",
    " 'East Asia & Pacific' \n",
    " 'North America']\n",
    "\n",
    "'''\n",
    "\n",
    "#print(meta_country['IncomeGroup'].nunique()) #4\n",
    "meta_country['IncomeGroup'].unique() \n",
    "'''['High income', 'Low income', 'Lower middle income', 'Upper middle income', nan]'''\n",
    "\n",
    "meta_country['Country Code'].nunique() # 263 entries \n",
    "meta_country['IncomeGroup'].isnull().value_counts() # 217 False (countries) # 46 nan\n",
    "# False values are countries -- i.e. all countries belong to an IncomeGroup\n",
    "# Validation: we know from (World Bank 2017) that total of 217 countries were included"
   ]
  },
  {
   "cell_type": "markdown",
   "metadata": {},
   "source": [
    "### Select relevant columns"
   ]
  },
  {
   "cell_type": "code",
   "execution_count": 67,
   "metadata": {
    "scrolled": true
   },
   "outputs": [
    {
     "data": {
      "text/plain": [
       "(264, 63)"
      ]
     },
     "execution_count": 67,
     "metadata": {},
     "output_type": "execute_result"
    }
   ],
   "source": [
    "df2 # includes Country Name and all years (1960-2016)\n",
    "df2.shape # 264 entries, 58 columns "
   ]
  },
  {
   "cell_type": "code",
   "execution_count": 68,
   "metadata": {
    "scrolled": false
   },
   "outputs": [
    {
     "data": {
      "text/html": [
       "<div>\n",
       "<style>\n",
       "    .dataframe thead tr:only-child th {\n",
       "        text-align: right;\n",
       "    }\n",
       "\n",
       "    .dataframe thead th {\n",
       "        text-align: left;\n",
       "    }\n",
       "\n",
       "    .dataframe tbody tr th {\n",
       "        vertical-align: top;\n",
       "    }\n",
       "</style>\n",
       "<table border=\"1\" class=\"dataframe\">\n",
       "  <thead>\n",
       "    <tr style=\"text-align: right;\">\n",
       "      <th></th>\n",
       "      <th>Country Name</th>\n",
       "      <th>Country Code</th>\n",
       "      <th>Indicator Name</th>\n",
       "      <th>Indicator Code</th>\n",
       "      <th>1960</th>\n",
       "      <th>1961</th>\n",
       "      <th>1962</th>\n",
       "      <th>1963</th>\n",
       "      <th>1964</th>\n",
       "      <th>1965</th>\n",
       "      <th>...</th>\n",
       "      <th>2009</th>\n",
       "      <th>2010</th>\n",
       "      <th>2011</th>\n",
       "      <th>2012</th>\n",
       "      <th>2013</th>\n",
       "      <th>2014</th>\n",
       "      <th>2015</th>\n",
       "      <th>2016</th>\n",
       "      <th>2017</th>\n",
       "      <th>Unnamed: 62</th>\n",
       "    </tr>\n",
       "  </thead>\n",
       "  <tbody>\n",
       "    <tr>\n",
       "      <th>0</th>\n",
       "      <td>Aruba</td>\n",
       "      <td>ABW</td>\n",
       "      <td>Population, total</td>\n",
       "      <td>SP.POP.TOTL</td>\n",
       "      <td>54211.0</td>\n",
       "      <td>55438.0</td>\n",
       "      <td>56225.0</td>\n",
       "      <td>56695.0</td>\n",
       "      <td>57032.0</td>\n",
       "      <td>57360.0</td>\n",
       "      <td>...</td>\n",
       "      <td>101453.0</td>\n",
       "      <td>101669.0</td>\n",
       "      <td>102053.0</td>\n",
       "      <td>102577.0</td>\n",
       "      <td>103187.0</td>\n",
       "      <td>103795.0</td>\n",
       "      <td>104341.0</td>\n",
       "      <td>104822.0</td>\n",
       "      <td>NaN</td>\n",
       "      <td>NaN</td>\n",
       "    </tr>\n",
       "    <tr>\n",
       "      <th>1</th>\n",
       "      <td>Afghanistan</td>\n",
       "      <td>AFG</td>\n",
       "      <td>Population, total</td>\n",
       "      <td>SP.POP.TOTL</td>\n",
       "      <td>8996351.0</td>\n",
       "      <td>9166764.0</td>\n",
       "      <td>9345868.0</td>\n",
       "      <td>9533954.0</td>\n",
       "      <td>9731361.0</td>\n",
       "      <td>9938414.0</td>\n",
       "      <td>...</td>\n",
       "      <td>28004331.0</td>\n",
       "      <td>28803167.0</td>\n",
       "      <td>29708599.0</td>\n",
       "      <td>30696958.0</td>\n",
       "      <td>31731688.0</td>\n",
       "      <td>32758020.0</td>\n",
       "      <td>33736494.0</td>\n",
       "      <td>34656032.0</td>\n",
       "      <td>NaN</td>\n",
       "      <td>NaN</td>\n",
       "    </tr>\n",
       "    <tr>\n",
       "      <th>2</th>\n",
       "      <td>Angola</td>\n",
       "      <td>AGO</td>\n",
       "      <td>Population, total</td>\n",
       "      <td>SP.POP.TOTL</td>\n",
       "      <td>5643182.0</td>\n",
       "      <td>5753024.0</td>\n",
       "      <td>5866061.0</td>\n",
       "      <td>5980417.0</td>\n",
       "      <td>6093321.0</td>\n",
       "      <td>6203299.0</td>\n",
       "      <td>...</td>\n",
       "      <td>22549547.0</td>\n",
       "      <td>23369131.0</td>\n",
       "      <td>24218565.0</td>\n",
       "      <td>25096150.0</td>\n",
       "      <td>25998340.0</td>\n",
       "      <td>26920466.0</td>\n",
       "      <td>27859305.0</td>\n",
       "      <td>28813463.0</td>\n",
       "      <td>NaN</td>\n",
       "      <td>NaN</td>\n",
       "    </tr>\n",
       "    <tr>\n",
       "      <th>3</th>\n",
       "      <td>Albania</td>\n",
       "      <td>ALB</td>\n",
       "      <td>Population, total</td>\n",
       "      <td>SP.POP.TOTL</td>\n",
       "      <td>1608800.0</td>\n",
       "      <td>1659800.0</td>\n",
       "      <td>1711319.0</td>\n",
       "      <td>1762621.0</td>\n",
       "      <td>1814135.0</td>\n",
       "      <td>1864791.0</td>\n",
       "      <td>...</td>\n",
       "      <td>2927519.0</td>\n",
       "      <td>2913021.0</td>\n",
       "      <td>2905195.0</td>\n",
       "      <td>2900401.0</td>\n",
       "      <td>2895092.0</td>\n",
       "      <td>2889104.0</td>\n",
       "      <td>2880703.0</td>\n",
       "      <td>2876101.0</td>\n",
       "      <td>NaN</td>\n",
       "      <td>NaN</td>\n",
       "    </tr>\n",
       "    <tr>\n",
       "      <th>4</th>\n",
       "      <td>Andorra</td>\n",
       "      <td>AND</td>\n",
       "      <td>Population, total</td>\n",
       "      <td>SP.POP.TOTL</td>\n",
       "      <td>13411.0</td>\n",
       "      <td>14375.0</td>\n",
       "      <td>15370.0</td>\n",
       "      <td>16412.0</td>\n",
       "      <td>17469.0</td>\n",
       "      <td>18549.0</td>\n",
       "      <td>...</td>\n",
       "      <td>84462.0</td>\n",
       "      <td>84449.0</td>\n",
       "      <td>83751.0</td>\n",
       "      <td>82431.0</td>\n",
       "      <td>80788.0</td>\n",
       "      <td>79223.0</td>\n",
       "      <td>78014.0</td>\n",
       "      <td>77281.0</td>\n",
       "      <td>NaN</td>\n",
       "      <td>NaN</td>\n",
       "    </tr>\n",
       "  </tbody>\n",
       "</table>\n",
       "<p>5 rows × 63 columns</p>\n",
       "</div>"
      ],
      "text/plain": [
       "  Country Name Country Code     Indicator Name Indicator Code       1960  \\\n",
       "0        Aruba          ABW  Population, total    SP.POP.TOTL    54211.0   \n",
       "1  Afghanistan          AFG  Population, total    SP.POP.TOTL  8996351.0   \n",
       "2       Angola          AGO  Population, total    SP.POP.TOTL  5643182.0   \n",
       "3      Albania          ALB  Population, total    SP.POP.TOTL  1608800.0   \n",
       "4      Andorra          AND  Population, total    SP.POP.TOTL    13411.0   \n",
       "\n",
       "        1961       1962       1963       1964       1965     ...       \\\n",
       "0    55438.0    56225.0    56695.0    57032.0    57360.0     ...        \n",
       "1  9166764.0  9345868.0  9533954.0  9731361.0  9938414.0     ...        \n",
       "2  5753024.0  5866061.0  5980417.0  6093321.0  6203299.0     ...        \n",
       "3  1659800.0  1711319.0  1762621.0  1814135.0  1864791.0     ...        \n",
       "4    14375.0    15370.0    16412.0    17469.0    18549.0     ...        \n",
       "\n",
       "         2009        2010        2011        2012        2013        2014  \\\n",
       "0    101453.0    101669.0    102053.0    102577.0    103187.0    103795.0   \n",
       "1  28004331.0  28803167.0  29708599.0  30696958.0  31731688.0  32758020.0   \n",
       "2  22549547.0  23369131.0  24218565.0  25096150.0  25998340.0  26920466.0   \n",
       "3   2927519.0   2913021.0   2905195.0   2900401.0   2895092.0   2889104.0   \n",
       "4     84462.0     84449.0     83751.0     82431.0     80788.0     79223.0   \n",
       "\n",
       "         2015        2016  2017  Unnamed: 62  \n",
       "0    104341.0    104822.0   NaN          NaN  \n",
       "1  33736494.0  34656032.0   NaN          NaN  \n",
       "2  27859305.0  28813463.0   NaN          NaN  \n",
       "3   2880703.0   2876101.0   NaN          NaN  \n",
       "4     78014.0     77281.0   NaN          NaN  \n",
       "\n",
       "[5 rows x 63 columns]"
      ]
     },
     "execution_count": 68,
     "metadata": {},
     "output_type": "execute_result"
    }
   ],
   "source": [
    "df2.head(5)   # Show top 5 rows"
   ]
  },
  {
   "cell_type": "code",
   "execution_count": 69,
   "metadata": {},
   "outputs": [],
   "source": [
    "df2_countries_only = filter_non_countries(df2, meta_country)\n"
   ]
  },
  {
   "cell_type": "code",
   "execution_count": 70,
   "metadata": {},
   "outputs": [
    {
     "data": {
      "text/plain": [
       "(217, 59)"
      ]
     },
     "execution_count": 70,
     "metadata": {},
     "output_type": "execute_result"
    }
   ],
   "source": [
    "df_pop = select_relevant_cols(df2_countries_only)\n",
    "df_pop.shape"
   ]
  },
  {
   "cell_type": "markdown",
   "metadata": {},
   "source": [
    "### Find countries/years missing population data"
   ]
  },
  {
   "cell_type": "code",
   "execution_count": 71,
   "metadata": {},
   "outputs": [
    {
     "data": {
      "text/plain": [
       "array([ 58, 106, 161, 176, 184])"
      ]
     },
     "execution_count": 71,
     "metadata": {},
     "output_type": "execute_result"
    }
   ],
   "source": [
    "df_pop.isnull().sum()\n",
    "# note that nan values per year changes from 1-4, 1989 and prior are all 4,\n",
    "# after that there is a shifts six times:\n",
    "# 4 (60-89) -> 2 (90-91)-> 3 (92-94) -> 2 (95-97) -> 1 (98-2011)-> 2 (2012-2016)-> 264 (2017)\n",
    "\n",
    "# Compare two years (diff countries)\n",
    "\n",
    "df_pop['1989'].isnull()\n",
    "list_of_indexes_with_nans = pd.isnull(df_pop).any(1).nonzero()[0]\n",
    "list_of_indexes_with_nans"
   ]
  },
  {
   "cell_type": "markdown",
   "metadata": {},
   "source": [
    "NOTE on nans:\n",
    "\n",
    "* `df.isnull().sum()`: returns total number of nan values for each column (whole df) <- what I used\n",
    "* comparison of nan == np.nan to find nan values does not work (returns False)\n",
    "* can use np.isnan(val) for a single value OR possibly use `apply` method for whole col (did not try)"
   ]
  },
  {
   "cell_type": "code",
   "execution_count": 72,
   "metadata": {},
   "outputs": [],
   "source": [
    "def print_country_name_and_index(_df, _list_of_indexes_with_nans):\n",
    "    _countries = [(_df.iloc[i]['Country Name'], i) for i in _list_of_indexes_with_nans]\n",
    "    print (_countries)"
   ]
  },
  {
   "cell_type": "code",
   "execution_count": 73,
   "metadata": {
    "scrolled": true
   },
   "outputs": [
    {
     "name": "stdout",
     "output_type": "stream",
     "text": [
      "Eritrea Index(['2012', '2013', '2014', '2015', '2016'], dtype='object')\n",
      "Kuwait Index(['1992', '1993', '1994'], dtype='object')\n",
      "West Bank and Gaza Index(['1960', '1961', '1962', '1963', '1964', '1965', '1966', '1967', '1968',\n",
      "       '1969', '1970', '1971', '1972', '1973', '1974', '1975', '1976', '1977',\n",
      "       '1978', '1979', '1980', '1981', '1982', '1983', '1984', '1985', '1986',\n",
      "       '1987', '1988', '1989'],\n",
      "      dtype='object')\n",
      "Serbia Index(['1960', '1961', '1962', '1963', '1964', '1965', '1966', '1967', '1968',\n",
      "       '1969', '1970', '1971', '1972', '1973', '1974', '1975', '1976', '1977',\n",
      "       '1978', '1979', '1980', '1981', '1982', '1983', '1984', '1985', '1986',\n",
      "       '1987', '1988', '1989'],\n",
      "      dtype='object')\n",
      "Sint Maarten (Dutch part) Index(['1960', '1961', '1962', '1963', '1964', '1965', '1966', '1967', '1968',\n",
      "       '1969', '1970', '1971', '1972', '1973', '1974', '1975', '1976', '1977',\n",
      "       '1978', '1979', '1980', '1981', '1982', '1983', '1984', '1985', '1986',\n",
      "       '1987', '1988', '1989', '1990', '1991', '1992', '1993', '1994', '1995',\n",
      "       '1996', '1997'],\n",
      "      dtype='object')\n"
     ]
    }
   ],
   "source": [
    "def get_missing_years_by_idx(_df, idx):\n",
    "    _country = _df.iloc[idx]\n",
    "    _nan_years = _country.loc[_country.isnull()]\n",
    "    print(_country['Country Name'], _nan_years.keys())\n",
    "\n",
    "for _i in list_of_indexes_with_nans:\n",
    "    get_missing_years_by_idx(df_pop, _i)"
   ]
  },
  {
   "cell_type": "markdown",
   "metadata": {},
   "source": [
    "### Manual validation"
   ]
  },
  {
   "cell_type": "code",
   "execution_count": 74,
   "metadata": {
    "collapsed": true
   },
   "outputs": [],
   "source": [
    "#df_pop.iloc[58] # Eritrea missing 2012-2016\n",
    "#df_pop.iloc[106] # Kuwait missing 1992-1994\n",
    "#df_pop.iloc[161] # West Bank and Gaza missing 1960 - 1989\n",
    "#df_pop.iloc[176] # Serbia missing 1960 - 1989\n",
    "# df_pop.iloc[184] # Sint Maarten (Dutch part) 1960 -1997"
   ]
  },
  {
   "cell_type": "code",
   "execution_count": 75,
   "metadata": {
    "collapsed": true
   },
   "outputs": [],
   "source": [
    "#df_pop['1990'].isnull().sum() == 1 # expect 1 (excluding West Bank/Serbia)\n",
    "#df_pop['1993'].isnull().sum() == 2 # expect 2 (Kuwait missing too)\n",
    "#df_pop['1995'].isnull().sum() == 1 # expect 1 (Kuwait back again)\n",
    "#df_pop['1999'].isnull().sum() # expect 0 Sint Maarten back\n",
    "#df_pop['2012'].isnull().sum() # expect 1 (Eritrea goes missing)\n",
    "#df_pop['2016'].isnull().sum() # expect 1"
   ]
  },
  {
   "cell_type": "code",
   "execution_count": 76,
   "metadata": {},
   "outputs": [
    {
     "data": {
      "text/plain": [
       "True"
      ]
     },
     "execution_count": 76,
     "metadata": {},
     "output_type": "execute_result"
    }
   ],
   "source": [
    "# doing this manual painful way for now\n",
    "\n",
    "((df_pop['1960'].isnull().sum() == 3) \n",
    " and (df_pop['1990'].isnull().sum() == 1) \n",
    " and (df_pop['1993'].isnull().sum() == 2) \n",
    " and (df_pop['1995'].isnull().sum() == 1)\n",
    " and df_pop['1999'].isnull().sum()==0\n",
    " and df_pop['2012'].isnull().sum()==1\n",
    " and df_pop['2016'].isnull().sum()==1)"
   ]
  },
  {
   "cell_type": "markdown",
   "metadata": {},
   "source": [
    "##  Playing around with data"
   ]
  },
  {
   "cell_type": "markdown",
   "metadata": {},
   "source": [
    "### Getting data for country (not really used)"
   ]
  },
  {
   "cell_type": "code",
   "execution_count": 77,
   "metadata": {
    "collapsed": true
   },
   "outputs": [],
   "source": [
    "df = df_pop\n",
    "\n",
    "# Get row by country name\n",
    "# country_row = _df.loc[_df['Country Name'] == country_name]\n",
    "\n",
    "# Not yet working!\n",
    "def get_missing_years(_df, country_name):\n",
    "    '''\n",
    "    Calculate the number of years the country has no\n",
    "    data points (ie. has nan value)\n",
    "    \n",
    "    Parameters\n",
    "    ----------\n",
    "    country_name : Str\n",
    "        name of given country\n",
    "        \n",
    "    Returns \n",
    "    -------\n",
    "    Missing years in default range (1960-2017), where \n",
    "    each year is a string : List\n",
    "    \n",
    "    ex. ['1990',  '2005'']\n",
    "\n",
    "'''\n",
    "    # print list of years with missing data\n",
    "    # print (_df.isnull().any().tolist())\n",
    "\n",
    "    years_missing_data = _df.columns[_df.isnull().any()]\n",
    "    return _df.loc[:, years_missing_data]\n",
    "    #return country_row[country_row.isnull().any()].tolist()\n",
    "    #return country"
   ]
  },
  {
   "cell_type": "code",
   "execution_count": 78,
   "metadata": {
    "collapsed": true
   },
   "outputs": [],
   "source": [
    "# Get countries as dataframe (subset of original) by first letter\n",
    "def get_by_first_letter(df, first_letter):\n",
    "    return df.loc[df['Country Name'].str.startswith(first_letter)]\n",
    "\n",
    "# Get country by name\n",
    "def get_row_by_country_name(_df, country_name):\n",
    "    return _df[_df['Country Name'] == country_name]\n",
    "\n",
    "# Get country row from dataframe by index\n",
    "def get_by_index(df, country_idx):\n",
    "    return df.iloc[country_idx]\n",
    "\n",
    "# Get all countries that start with S\n",
    "s_countries = get_by_first_letter(df, 'S')\n",
    "#s_countries\n",
    "    \n",
    "# Get_by_first_letter(df, 'K') # example South Korea is index 124\n",
    "# get_by_index(df, 124)\n"
   ]
  },
  {
   "cell_type": "code",
   "execution_count": 79,
   "metadata": {
    "scrolled": true
   },
   "outputs": [
    {
     "data": {
      "text/html": [
       "<div>\n",
       "<style>\n",
       "    .dataframe thead tr:only-child th {\n",
       "        text-align: right;\n",
       "    }\n",
       "\n",
       "    .dataframe thead th {\n",
       "        text-align: left;\n",
       "    }\n",
       "\n",
       "    .dataframe tbody tr th {\n",
       "        vertical-align: top;\n",
       "    }\n",
       "</style>\n",
       "<table border=\"1\" class=\"dataframe\">\n",
       "  <thead>\n",
       "    <tr style=\"text-align: right;\">\n",
       "      <th></th>\n",
       "      <th>1960</th>\n",
       "      <th>2016</th>\n",
       "    </tr>\n",
       "  </thead>\n",
       "  <tbody>\n",
       "    <tr>\n",
       "      <th>107</th>\n",
       "      <td>449480608.0</td>\n",
       "      <td>1.324171e+09</td>\n",
       "    </tr>\n",
       "  </tbody>\n",
       "</table>\n",
       "</div>"
      ],
      "text/plain": [
       "            1960          2016\n",
       "107  449480608.0  1.324171e+09"
      ]
     },
     "execution_count": 79,
     "metadata": {},
     "output_type": "execute_result"
    }
   ],
   "source": [
    "# Returns all values of the 'Country Name' column as an array\n",
    "#df2['Country Name'].values #lists all countries\n",
    "# United States\n",
    "# China\n",
    "# India\n",
    "\n",
    "china = get_row_by_country_name(df2, 'China')\n",
    "india = get_row_by_country_name(df2, 'India')\n",
    "usa = get_row_by_country_name(df2, 'United States')\n",
    "def get_first_and_last_years(_country):\n",
    "    # _country is a dataframe (1 row)\n",
    "    return _country[['1960', '2016']]\n",
    "    \n",
    "get_first_and_last_years(china)\n",
    "get_first_and_last_years(usa)\n",
    "get_first_and_last_years(india)\n",
    "\n",
    "# manual confirmation: these values match online WB values (https://data.worldbank.org/indicator/SP.POP.TOTL?year_high_desc=true)"
   ]
  },
  {
   "cell_type": "markdown",
   "metadata": {},
   "source": [
    "# C. GDP data\n",
    "\n",
    "### 1) PICK ONE: GDP (constant 2010 USD)\n"
   ]
  },
  {
   "cell_type": "code",
   "execution_count": 80,
   "metadata": {},
   "outputs": [],
   "source": [
    "# Open files\n",
    "# NY.GDP.PCAP.PP.KD is WDI indicator\n",
    "'''\n",
    "NY = national accounts: income\n",
    "MKTP = market prices\n",
    "PCAP = per capita\n",
    "PP = purchasing power (no PP means not PP)\n",
    "KD = constant (vs CD = current)\n",
    "'''\n",
    "# df_gdp is gdp market constant\n",
    "gdp_mkt_const = pd.read_csv(zerg_path + 'data/wb/gdp/gdp_constant/API_NY.GDP.MKTP.KD_DS2_en_csv_v2.csv', skiprows=3)\n",
    "gdp_meta = pd.read_csv(zerg_path + 'data/wb/gdp/gdp_constant/Metadata_Country_API_NY.GDP.MKTP.KD_DS2_en_csv_v2.csv')"
   ]
  },
  {
   "cell_type": "code",
   "execution_count": 81,
   "metadata": {
    "scrolled": true
   },
   "outputs": [
    {
     "data": {
      "text/plain": [
       "(264, 63)"
      ]
     },
     "execution_count": 81,
     "metadata": {},
     "output_type": "execute_result"
    }
   ],
   "source": [
    "# Get variables (column names)\n",
    "gdp_mkt_const.columns # years 1960-2017\n",
    "gdp_mkt_const.shape"
   ]
  },
  {
   "cell_type": "markdown",
   "metadata": {},
   "source": [
    "### Filter non countries (should return 217 entries) and subset only interested columns"
   ]
  },
  {
   "cell_type": "code",
   "execution_count": 82,
   "metadata": {},
   "outputs": [
    {
     "data": {
      "text/plain": [
       "(217, 59)"
      ]
     },
     "execution_count": 82,
     "metadata": {},
     "output_type": "execute_result"
    }
   ],
   "source": [
    "gdp_country_only = filter_non_countries(gdp_mkt_const, gdp_meta)\n",
    "\n",
    "df_gdp = select_relevant_cols(gdp_country_only)\n",
    "df_gdp.shape # 217, 59"
   ]
  },
  {
   "cell_type": "markdown",
   "metadata": {},
   "source": [
    "### TASK: Get missing years/countries\n"
   ]
  },
  {
   "cell_type": "markdown",
   "metadata": {},
   "source": [
    "### Ideas\n",
    "\n",
    "1. Idea Red\n",
    "    \n",
    "    1) Get a list of countries that has any missing data, including # years missing\n",
    "    \n",
    "    2) Sort by years missing (country with largest missing data first)\n",
    "\n",
    "2. Idea Orange (outcome data need)\n",
    "\n",
    "    1) Check interesting countries\n",
    "        Mexico\n",
    "        Philipines\n",
    "        USA\n",
    "        Ethiopia\n",
    "        Germany/West Germany\n",
    "        Indonesia\n",
    "        Soviet Union/Russia\n",
    "        France\n",
    "        Brazil\n",
    "        Spain....\n",
    "    \n",
    "3. Idea Yellow (population as guage for important countries)\n",
    "    1) Filter by population\n"
   ]
  },
  {
   "cell_type": "code",
   "execution_count": 91,
   "metadata": {},
   "outputs": [],
   "source": [
    "del gdp_country_only['Unnamed: 5']\n",
    "gdp_country_only.to_csv(zerg_path + 'data/combined_data/wb_gdp_mkt_constant_all_cols.csv')"
   ]
  },
  {
   "cell_type": "code",
   "execution_count": 92,
   "metadata": {
    "collapsed": true
   },
   "outputs": [],
   "source": [
    "df_gdp.to_csv(zerg_path + 'data/combined_data/wb_gdp_mkt_constant.csv')"
   ]
  },
  {
   "cell_type": "code",
   "execution_count": 83,
   "metadata": {},
   "outputs": [
    {
     "data": {
      "text/plain": [
       "(array([  0,   1,   2,   3,   4,   5,   7,   8,   9,  12,  18,  19,  21,\n",
       "         22,  24,  27,  28,  29,  33,  34,  42,  43,  45,  46,  47,  48,\n",
       "         49,  50,  51,  52,  58,  60,  61,  65,  66,  69,  71,  72,  73,\n",
       "         74,  75,  77,  78,  80,  82,  84,  85,  86,  88,  90,  91,  92,\n",
       "         96,  97,  99, 101, 102, 103, 104, 106, 107, 108, 110, 111, 112,\n",
       "        113, 115, 117, 118, 119, 120, 121, 122, 124, 126, 127, 128, 129,\n",
       "        131, 132, 133, 134, 136, 139, 140, 147, 148, 149, 154, 155, 156,\n",
       "        157, 158, 161, 162, 163, 164, 165, 167, 171, 173, 174, 175, 176,\n",
       "        177, 178, 179, 180, 181, 183, 184, 186, 187, 191, 192, 193, 194,\n",
       "        196, 198, 199, 200, 201, 204, 206, 207, 208, 209, 210, 211, 212, 213]),)"
      ]
     },
     "execution_count": 83,
     "metadata": {},
     "output_type": "execute_result"
    }
   ],
   "source": [
    "df_gdp.iloc[1:5]\n",
    "pd.isnull(df_gdp).any(1).nonzero() "
   ]
  },
  {
   "cell_type": "markdown",
   "metadata": {},
   "source": [
    "### TASK: Get list of years missing for a country\n",
    "\n",
    "Super naive EDA\n",
    "\n"
   ]
  },
  {
   "cell_type": "code",
   "execution_count": 84,
   "metadata": {
    "scrolled": true
   },
   "outputs": [
    {
     "name": "stdout",
     "output_type": "stream",
     "text": [
      "[0, 1, 2, 3, 5, 6, 7, 8, 10, 11, 13, 14, 15, 16, 17, 19, 20, 21, 22, 24, 25, 26, 27, 28, 29, 30, 31, 32, 33, 34, 35, 36, 37, 40, 41, 42, 43, 44, 47, 49, 56, 57]\n"
     ]
    }
   ],
   "source": [
    "# Count nan\n",
    "print(sorted(df_gdp.isnull().sum(axis=1).unique().tolist()))"
   ]
  },
  {
   "cell_type": "markdown",
   "metadata": {},
   "source": [
    "#### Number of missing years range from 0 to 57.. T.T\n",
    "\n",
    "There are 17 unique values"
   ]
  },
  {
   "cell_type": "code",
   "execution_count": 85,
   "metadata": {},
   "outputs": [
    {
     "data": {
      "text/plain": [
       "56"
      ]
     },
     "execution_count": 85,
     "metadata": {},
     "output_type": "execute_result"
    }
   ],
   "source": [
    "get_missing_years(df_gdp, 'Aruba')\n",
    "\n",
    "# Count number of null values per year\n",
    "df_gdp.isnull().sum()\n",
    "\n",
    "# Count number of null values for each country\n",
    "df_gdp.apply(lambda row: row.isnull(),axis=1)\n",
    "\n",
    "df_gdp.iloc[0].isnull().sum()"
   ]
  },
  {
   "cell_type": "markdown",
   "metadata": {},
   "source": [
    "### Approach 1: Create a filter for countries with > 10 mil pop (Mike's Suggestion)"
   ]
  },
  {
   "cell_type": "code",
   "execution_count": 86,
   "metadata": {},
   "outputs": [
    {
     "data": {
      "text/plain": [
       "(217, 59)"
      ]
     },
     "execution_count": 86,
     "metadata": {},
     "output_type": "execute_result"
    }
   ],
   "source": [
    "df_pop.shape"
   ]
  },
  {
   "cell_type": "code",
   "execution_count": 87,
   "metadata": {},
   "outputs": [
    {
     "data": {
      "text/plain": [
       "(217, 59)"
      ]
     },
     "execution_count": 87,
     "metadata": {},
     "output_type": "execute_result"
    }
   ],
   "source": [
    "df_pop[df_pop > 10**6].shape"
   ]
  },
  {
   "cell_type": "code",
   "execution_count": 88,
   "metadata": {},
   "outputs": [
    {
     "data": {
      "text/plain": [
       "False"
      ]
     },
     "execution_count": 88,
     "metadata": {},
     "output_type": "execute_result"
    }
   ],
   "source": [
    "df['1960'].value_counts()\n",
    "type(df.iloc[0]['1960']) # numpy.float64\n",
    "\n",
    "# single value check\n",
    "np.isnan(df.iloc[0]['1960']) # True \n"
   ]
  }
 ],
 "metadata": {
  "kernelspec": {
   "display_name": "Python 3",
   "language": "python",
   "name": "python3"
  },
  "language_info": {
   "codemirror_mode": {
    "name": "ipython",
    "version": 3
   },
   "file_extension": ".py",
   "mimetype": "text/x-python",
   "name": "python",
   "nbconvert_exporter": "python",
   "pygments_lexer": "ipython3",
   "version": "3.6.3"
  }
 },
 "nbformat": 4,
 "nbformat_minor": 2
}
