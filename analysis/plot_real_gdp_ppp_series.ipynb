{
 "cells": [
  {
   "cell_type": "code",
   "execution_count": 35,
   "metadata": {
    "collapsed": true
   },
   "outputs": [],
   "source": [
    "import os\n",
    "\n",
    "import matplotlib.pylab as plt\n",
    "import numpy as np\n",
    "import pandas as pd\n",
    "import seaborn as sns\n",
    "import xarray as xr\n",
    "\n",
    "% matplotlib inline\n",
    "sns.set()\n",
    "sns.set_color_codes()"
   ]
  },
  {
   "cell_type": "markdown",
   "metadata": {},
   "source": [
    "# Construct xarray for real gdp series (PPP)\n",
    "\n",
    "### Normalize data sets to be constant to 2015\n",
    "\n",
    "* Plot timeseries of PPP (Wb and PWT expenditure)\n",
    "\n",
    "    a) world total \n",
    "    \n",
    "    b) world total, countries with missing data removed\n",
    "    \n",
    "    c) mortality\n",
    "    \n",
    "\n",
    "| source     | PPP year/source|  \n",
    "|---------|------|\n",
    "| WB      |  ICP 2011+ OECD/Eurostats |  \n",
    "| PWT_rgdpne| ICP 2011+ OECD/Eurostats|\n",
    "\n",
    "#### Table1: PPP values used by the sources\n",
    "\n",
    "Status:\n",
    "**<span style=\"color:lime; background:green;\">In Progress</span>** \n",
    "**<span style=\"color:white; background:maroon;\">STARTED</span>**\n",
    "**<span style=\"color:white; background:limegreen;\">DONE</span>**\n"
   ]
  },
  {
   "cell_type": "code",
   "execution_count": 36,
   "metadata": {
    "collapsed": true
   },
   "outputs": [],
   "source": [
    "dir_path = os.environ['ZERG'] + '{}'                                                                  "
   ]
  },
  {
   "cell_type": "markdown",
   "metadata": {},
   "source": [
    "### Mortality list of countries"
   ]
  },
  {
   "cell_type": "code",
   "execution_count": 37,
   "metadata": {
    "collapsed": true
   },
   "outputs": [],
   "source": [
    "mortality_file= dir_path.format('data/meta_data/mortality_countries.csv')\n",
    "mortality_countries = pd.read_csv(mortality_file)\n",
    "mortality_countries.sort_values(by='iso', inplace=True)\n",
    "mortality_country_map = mortality_countries.set_index('iso').to_dict()['countryName']\n"
   ]
  },
  {
   "cell_type": "markdown",
   "metadata": {},
   "source": [
    "### Convenience functions\n"
   ]
  },
  {
   "cell_type": "code",
   "execution_count": 38,
   "metadata": {
    "collapsed": true
   },
   "outputs": [],
   "source": [
    "# lets simplify\n",
    "def label_axes(_ax, _x_label, _y_label, _title):\n",
    "    _ax.set_xlabel(_x_label, fontsize=14)\n",
    "    _ax.set_ylabel(_y_label, fontsize=14)\n",
    "    _ax.set_title(_title, fontsize=14)"
   ]
  },
  {
   "cell_type": "markdown",
   "metadata": {},
   "source": [
    "### Plot total"
   ]
  },
  {
   "cell_type": "code",
   "execution_count": 63,
   "metadata": {
    "collapsed": true
   },
   "outputs": [],
   "source": [
    "def plot_world(_da):\n",
    "    _xlab = 'Years ({0})'\n",
    "    _ylab = 'Gross Domestic Product (2011 international $)'\n",
    "    _title = 'Total Annual Gross Domestic Product(Real GDP, 2011 PPP series, WB and PWT)' \n",
    "\n",
    "    world = _da.sum(dim='iso').to_series().unstack('source')\n",
    "    world_plt = world.plot(style=['go-','bo-', 'ro-', 'yo-'], \n",
    "               figsize=(15,10), grid=True, rot=320, alpha=.7, ms=9)\n",
    "    label_axes(world_plt, \n",
    "              _xlab.format('1950-2016'), \n",
    "              _ylab,\n",
    "              _title)"
   ]
  },
  {
   "cell_type": "markdown",
   "metadata": {},
   "source": [
    "### Plot country"
   ]
  },
  {
   "cell_type": "code",
   "execution_count": 15,
   "metadata": {
    "collapsed": true
   },
   "outputs": [],
   "source": [
    "def plot_country(_da, country_iso, country_name):\n",
    "    if country_iso not in _da.iso.to_series():\n",
    "        print(\"{0}({1}) not in data\".format(country_name, country_iso))\n",
    "    \n",
    "    _xlab = 'Years ({0})'\n",
    "    _ylab = 'Gross Domestic Product (2011 international $)'\n",
    "    _title = '{0} Annual Gross Domestic Product(Real GDP, 2011 PPP series, WB and PWT)' \n",
    "\n",
    "#     c = _da.sel(iso=country_iso, year=range(1980,2015)).to_series().unstack('source')\n",
    "    c = _da.sel(iso=country_iso).to_series().unstack('source')\n",
    "    c_plt = c.plot(style=['go-','bo-', 'ro-', 'yo-'], \n",
    "               figsize=(15,10), grid=True, rot=320, alpha=.7, ms=9)\n",
    "    label_axes(c_plt, \n",
    "              _xlab.format('1950-2016'), \n",
    "              _ylab,\n",
    "              _title.format(country_name))"
   ]
  },
  {
   "cell_type": "markdown",
   "metadata": {},
   "source": [
    "## Open file"
   ]
  },
  {
   "cell_type": "code",
   "execution_count": 40,
   "metadata": {
    "collapsed": true
   },
   "outputs": [],
   "source": [
    "real_gdp_2011_path = dir_path.format('data/output_data/real_gdp_2011_ppp_two_sources.nc')\n",
    "da = xr.open_dataarray(real_gdp_2011_path)"
   ]
  },
  {
   "cell_type": "markdown",
   "metadata": {},
   "source": [
    "# World Total GDP (PPP 2011) "
   ]
  },
  {
   "cell_type": "code",
   "execution_count": 62,
   "metadata": {},
   "outputs": [
    {
     "data": {
      "text/plain": [
       "Index(['pwt_expenditure', 'pwt_expenditure', 'pwt_expenditure',\n",
       "       'pwt_expenditure', 'pwt_expenditure', 'pwt_expenditure',\n",
       "       'pwt_expenditure', 'pwt_expenditure', 'pwt_expenditure',\n",
       "       'pwt_expenditure',\n",
       "       ...\n",
       "       'wb ', 'wb ', 'wb ', 'wb ', 'wb ', 'wb ', 'wb ', 'wb ', 'wb ', 'wb '],\n",
       "      dtype='object', name='source', length=184)"
      ]
     },
     "execution_count": 62,
     "metadata": {},
     "output_type": "execute_result"
    }
   ],
   "source": [
    "s = da.sum(dim='iso').to_series()\n",
    "s.index.get_level_values('source')"
   ]
  },
  {
   "cell_type": "markdown",
   "metadata": {},
   "source": [
    "# World Total GDP (only including countries present in both datasets)\n"
   ]
  },
  {
   "cell_type": "code",
   "execution_count": null,
   "metadata": {
    "collapsed": true
   },
   "outputs": [],
   "source": [
    "plot_world(\n",
    "    da.loc[{'iso': ~da_imf.sel(year=2014).isnull().any(dim='source').values}],\n",
    "    'United Nations National Accounts, countries with incomplete coverage dropped')"
   ]
  },
  {
   "cell_type": "markdown",
   "metadata": {},
   "source": [
    "# Mortality sector countries"
   ]
  },
  {
   "cell_type": "code",
   "execution_count": null,
   "metadata": {
    "collapsed": true
   },
   "outputs": [],
   "source": [
    "for _iso, _name in mortality_country_map.items():\n",
    "    plot_country(da, _iso, _name)"
   ]
  }
 ],
 "metadata": {
  "kernelspec": {
   "display_name": "Python 3",
   "language": "python",
   "name": "python3"
  },
  "language_info": {
   "codemirror_mode": {
    "name": "ipython",
    "version": 3
   },
   "file_extension": ".py",
   "mimetype": "text/x-python",
   "name": "python",
   "nbconvert_exporter": "python",
   "pygments_lexer": "ipython3",
   "version": "3.6.3"
  }
 },
 "nbformat": 4,
 "nbformat_minor": 2
}
