{
 "cells": [
  {
   "cell_type": "code",
   "execution_count": 218,
   "metadata": {
    "collapsed": true
   },
   "outputs": [],
   "source": [
    "import os\n",
    "\n",
    "import matplotlib.pylab as plt\n",
    "import numpy as np\n",
    "import pandas as pd\n",
    "import seaborn as sns\n",
    "import xarray as xr\n",
    "\n",
    "% matplotlib inline\n",
    "sns.set(color_codes=True)\n"
   ]
  },
  {
   "cell_type": "markdown",
   "metadata": {
    "collapsed": true
   },
   "source": [
    "## Comparing population data\n",
    "\n",
    "* Compare data sets for one country with high population for 1980-2014 (no missing data in all evaluated data sets): Brazil **<span style=\"color:gray; background:lime;\">DONE</span>**\n",
    "\n",
    "* Compare total population for available years **<span style=\"color:gray; background:lime;\">DONE</span>**\n",
    "\n",
    "* Compare for full time range (via xarray) **<span style=\"color:gray; background:lime;\">DONE</span>**\n",
    "\n",
    "* Compare large well-defined countries from a mix of regions & development statuses (e.g. USA, UK, China, Indonesia, India, Japan, Tanzania)\n",
    "\n",
    "* Determine source of discrepancy.\n",
    "\n",
    "* Optional: Compare with La Porta?\n",
    "\n",
    "Tips from Mike\n",
    "\n",
    "* Calculate average population value for each country, then filter by countries with population over 1/2 mil (avg)\n",
    "\n",
    "* Compare structure of data sets (growth rate vs levels). \n",
    "\n",
    "-----\n",
    "\n",
    "#### MISC\n",
    "Most populous countries\n",
    "\n",
    "1. China\t1,379,302,771\t  6. Pakistan\t204,924,861\n",
    "2. India\t1,281,935,911\t  7. Nigeria\t190,632,261\n",
    "3. United States\t326,625,791\t  8. Bangladesh\t157,826,578\n",
    "4. Indonesia\t260,580,739\t  9. Russia\t142,257,519\n",
    "5. Brazil\t207,353,391\t  10. Japan\t126,451,398\n",
    "\n",
    "ISO:\n",
    "    China CHN\n",
    "    USA\n",
    "    Indonesia IDN\n",
    "    Brazil BRA\n",
    "    Russian Federation RUS\n",
    "    Bangladesh BGD\n",
    "    Nigeria NGA\n",
    "    Japan JPN\n",
    "    Pakistan PAK\n"
   ]
  },
  {
   "cell_type": "markdown",
   "metadata": {},
   "source": [
    "## Convenience function"
   ]
  },
  {
   "cell_type": "code",
   "execution_count": 219,
   "metadata": {
    "collapsed": true
   },
   "outputs": [],
   "source": [
    "def add_iso_column(_df, _country_name_col):\n",
    "    # uses iso_map (global dict)\n",
    "    _df['iso'] = _df[_country_name_col].apply(lambda name: iso_map[name] if iso_map.get(name) else name)\n",
    "    return _df\n",
    "\n",
    "def set_iso_as_index(_df, _iso_col_name):\n",
    "    return _df.set_index(_iso_col_name)\n",
    "\n",
    "# country specific\n",
    "def get_row_by_country_name(_df, country_name):\n",
    "    # Get country by name\n",
    "    return _df[_df['country_name'] == country_name]\n",
    "\n",
    "def label_axes(_ax, years_range, pop_unit, country_name):\n",
    "    '''\n",
    "    years_range: String\n",
    "        years in string range\n",
    "    '''\n",
    "    _ax.set_xlabel('Years {}'.format(years_range), fontsize=14)\n",
    "    # needs to make sure population size is consistent\n",
    "    _ax.set_ylabel('Population (in {})'.format(pop_unit), fontsize=14)\n",
    "    _ax.set_title('{0} Population ({1})'.format(country_name, years_range), fontsize=14)\n"
   ]
  },
  {
   "cell_type": "markdown",
   "metadata": {},
   "source": [
    "## Open data"
   ]
  },
  {
   "cell_type": "code",
   "execution_count": 220,
   "metadata": {
    "collapsed": true
   },
   "outputs": [],
   "source": [
    "dir_path = os.environ['ZERG']\n",
    "\n",
    "pwt = dir_path + 'data/pwt/munged/pwt9_pivoted_total.csv'\n",
    "un = dir_path + 'data/un/un_population_iso_pivoted.csv' \n",
    "imf = dir_path + 'data/imf/munged/imf_pop_total.csv' # added total pop data via excel. same as included World data\n",
    "wb = dir_path + 'data/wb/wb_population_1215.csv'"
   ]
  },
  {
   "cell_type": "code",
   "execution_count": 221,
   "metadata": {},
   "outputs": [],
   "source": [
    "pop_pwt = pd.read_csv(pwt)\n",
    "pop_un = pd.read_csv(un)\n",
    "pop_wb = pd.read_csv(wb)\n",
    "pop_imf = pd.read_csv(imf)"
   ]
  },
  {
   "cell_type": "code",
   "execution_count": 222,
   "metadata": {
    "collapsed": true
   },
   "outputs": [],
   "source": [
    "del pop_imf['Unnamed: 0']"
   ]
  },
  {
   "cell_type": "code",
   "execution_count": 223,
   "metadata": {
    "collapsed": true
   },
   "outputs": [],
   "source": [
    "rhg_regions = dir_path + 'data/meta_data/iso_map_based_on_rhg_regions.csv'"
   ]
  },
  {
   "cell_type": "markdown",
   "metadata": {},
   "source": [
    "WARNING: THIS IS SLOW (heavy excel with macros, etc.) - don't re-run\n",
    "#### or have a separate file just for iso"
   ]
  },
  {
   "cell_type": "code",
   "execution_count": 224,
   "metadata": {
    "collapsed": true
   },
   "outputs": [],
   "source": [
    "# open ISO data (RHG_regions)\n",
    "# this is SLOW\n",
    "iso = pd.read_csv(rhg_regions)"
   ]
  },
  {
   "cell_type": "code",
   "execution_count": 225,
   "metadata": {},
   "outputs": [
    {
     "data": {
      "text/plain": [
       "Index(['country_name', 'iso_full_name', 'iso', 'numeric'], dtype='object')"
      ]
     },
     "execution_count": 225,
     "metadata": {},
     "output_type": "execute_result"
    }
   ],
   "source": [
    "iso.columns"
   ]
  },
  {
   "cell_type": "code",
   "execution_count": 226,
   "metadata": {
    "collapsed": true
   },
   "outputs": [],
   "source": [
    "iso_map_pre = iso[['country_name', 'iso']].set_index('country_name')"
   ]
  },
  {
   "cell_type": "code",
   "execution_count": 227,
   "metadata": {
    "collapsed": true
   },
   "outputs": [],
   "source": [
    "iso_map = iso_map_pre.to_dict()['iso']\n",
    "iso_map_rev = {y:x for x,y in iso_map.items()}"
   ]
  },
  {
   "cell_type": "code",
   "execution_count": 228,
   "metadata": {
    "collapsed": true
   },
   "outputs": [],
   "source": [
    "#iso_map_rev # map from iso to country nape\n",
    "#iso_map # map from country name to ISO"
   ]
  },
  {
   "cell_type": "code",
   "execution_count": 229,
   "metadata": {
    "collapsed": true
   },
   "outputs": [],
   "source": [
    "pwt_countries=pop_pwt['countrycode']\n",
    "un_countries=pop_un['ISO3']\n",
    "wb_countries=pop_wb['Country Code']"
   ]
  },
  {
   "cell_type": "code",
   "execution_count": 230,
   "metadata": {
    "collapsed": true
   },
   "outputs": [],
   "source": [
    "iso_map.get('moon')\n",
    "iso_map.get('United States of America')"
   ]
  },
  {
   "cell_type": "markdown",
   "metadata": {},
   "source": [
    "### MAP country name to country code"
   ]
  },
  {
   "cell_type": "code",
   "execution_count": 231,
   "metadata": {
    "collapsed": true
   },
   "outputs": [],
   "source": [
    "pop_imf['country_code'] = pop_imf['country_name'].apply(lambda name: iso_map[name] if iso_map.get(name) else name)"
   ]
  },
  {
   "cell_type": "code",
   "execution_count": 232,
   "metadata": {
    "collapsed": true
   },
   "outputs": [],
   "source": [
    "# imf data doesn't provide country code so needs manual mapping\n",
    "imf_countries = pop_imf['country_code']"
   ]
  },
  {
   "cell_type": "code",
   "execution_count": 233,
   "metadata": {},
   "outputs": [
    {
     "name": "stdout",
     "output_type": "stream",
     "text": [
      "Congo, Republic of \n",
      "World\n",
      "Total\n"
     ]
    },
    {
     "data": {
      "text/plain": [
       "[None, None, None]"
      ]
     },
     "execution_count": 233,
     "metadata": {},
     "output_type": "execute_result"
    }
   ],
   "source": [
    "[print(country) for country in pop_imf['country_code'].tolist() if len(country) > 3]"
   ]
  },
  {
   "cell_type": "code",
   "execution_count": 234,
   "metadata": {
    "collapsed": true
   },
   "outputs": [],
   "source": [
    "pwt_set = set(pwt_countries)\n",
    "un_set = set(un_countries)\n",
    "wb_set = set(wb_countries)\n",
    "imf_set = set(imf_countries)"
   ]
  },
  {
   "cell_type": "code",
   "execution_count": 235,
   "metadata": {
    "scrolled": true
   },
   "outputs": [
    {
     "name": "stdout",
     "output_type": "stream",
     "text": [
      "pwt has 183 countries\n",
      "un has 233 countries\n",
      "wb has 217 countries\n",
      "imf has 194 countries\n"
     ]
    }
   ],
   "source": [
    "ls = {\n",
    "    'pwt': pwt_set,\n",
    "    'un': un_set,\n",
    "    'wb': wb_set,\n",
    "    'imf': imf_set\n",
    "}\n",
    "\n",
    "for k,v in ls.items():\n",
    "    print ('{} has {} countries'.format(k,len(v)))\n",
    "\n",
    "# pwt compare"
   ]
  },
  {
   "cell_type": "code",
   "execution_count": 236,
   "metadata": {},
   "outputs": [
    {
     "data": {
      "text/plain": [
       "['Anguilla',\n",
       " 'Bonaire, Sint Eustatius and Saba',\n",
       " 'Cook Islands',\n",
       " 'Falkland Islands (Malvinas)',\n",
       " 'French Guiana',\n",
       " 'Guadeloupe',\n",
       " 'Holy See',\n",
       " 'Martinique',\n",
       " 'Mayotte',\n",
       " 'Montserrat',\n",
       " 'Niue',\n",
       " 'Réunion',\n",
       " 'Saint Helena, Ascension and Tristan da Cunha',\n",
       " 'Saint Pierre and Miquelon',\n",
       " 'Taiwan Province of China',\n",
       " 'Tokelau',\n",
       " 'Wallis and Futuna',\n",
       " 'Western Sahara']"
      ]
     },
     "execution_count": 236,
     "metadata": {},
     "output_type": "execute_result"
    }
   ],
   "source": [
    "countries_in_un_not_wb = ls['un'] - ls['wb']\n",
    "sorted([iso_map_rev[c] for c in countries_in_un_not_wb])"
   ]
  },
  {
   "cell_type": "markdown",
   "metadata": {},
   "source": [
    "# countries in imf but not in pwt"
   ]
  },
  {
   "cell_type": "code",
   "execution_count": 237,
   "metadata": {},
   "outputs": [
    {
     "data": {
      "text/plain": [
       "['Afghanistan',\n",
       " 'Eritrea',\n",
       " 'Guyana',\n",
       " 'Kiribati',\n",
       " 'Kosovo',\n",
       " 'Libya',\n",
       " 'Marshall Islands',\n",
       " 'Micronesia, Fed. States of',\n",
       " 'Nauru',\n",
       " 'Palau',\n",
       " 'Papua New Guinea',\n",
       " 'Puerto Rico',\n",
       " 'Samoa',\n",
       " 'San Marino',\n",
       " 'Solomon Islands',\n",
       " 'South Sudan, Republic of',\n",
       " 'Timor-Leste',\n",
       " 'Tonga',\n",
       " 'Tuvalu',\n",
       " 'Vanuatu']"
      ]
     },
     "execution_count": 237,
     "metadata": {},
     "output_type": "execute_result"
    }
   ],
   "source": [
    "countries_in_imf_not_pwt = ls['imf'] - ls['pwt']\n",
    "     \n",
    "sorted([iso_map_rev.get(c) for c in countries_in_imf_not_pwt if iso_map_rev.get(c)])"
   ]
  },
  {
   "cell_type": "markdown",
   "metadata": {},
   "source": [
    "## Convenience functions"
   ]
  },
  {
   "cell_type": "markdown",
   "metadata": {},
   "source": [
    "### Function to retrieve missing # years per country for a given list of countries\n",
    "```\n",
    "Given a list of countries\n",
    "\n",
    "Retrieve # of missing years for each country\n",
    "\n",
    "Optional: *specify a dataset\n",
    "Optional: replace Country Name with Country code to be more reusable\n",
    "```"
   ]
  },
  {
   "cell_type": "code",
   "execution_count": 238,
   "metadata": {
    "collapsed": true
   },
   "outputs": [],
   "source": [
    "def get_missing_years(_list_of_countries):\n",
    "    '''\n",
    "    Parmeters\n",
    "    ----\n",
    "    [Python List] _list_of_countries\n",
    "        list of countries (each country is a Country name as a String)\n",
    "        \n",
    "    Returns\n",
    "    ----\n",
    "    [Python List]\n",
    "        a list of tuple pairs containing (country_name, #_missing_years)\n",
    "    where country_name (String) and # missing_years (int)\n",
    "    sorted by decreasing # of missing years\n",
    "    '''\n",
    "    missing_years = []\n",
    "    \n",
    "    return []"
   ]
  },
  {
   "cell_type": "markdown",
   "metadata": {},
   "source": [
    "### Mungdata data\n",
    "\n",
    "1) rename indexes to be consistent across data set\n",
    "\n",
    "2) set iso column as the index"
   ]
  },
  {
   "cell_type": "markdown",
   "metadata": {},
   "source": [
    "#### Rename cols"
   ]
  },
  {
   "cell_type": "code",
   "execution_count": 239,
   "metadata": {
    "collapsed": true,
    "scrolled": true
   },
   "outputs": [],
   "source": [
    "# rename column names\n",
    "del pop_wb['Unnamed: 0']\n",
    "\n",
    "# IMF\n",
    "pop_imf = add_iso_column(pop_imf, 'country_name')\n",
    "\n",
    "# PWT\n",
    "pop_pwt.rename(index=str, columns={'countrycode': 'iso', 'country': 'country_name'}, inplace=True)\n",
    "\n",
    "# WB\n",
    "pop_wb.rename(index=str, columns={\"Country Code\": \"iso\", \"Country Name\": \"country_name\"}, inplace=True)\n",
    "\n",
    "# UN\n",
    "del pop_un['Unnamed: 0']\n",
    "pop_un.rename(index=str, columns={'ISO3': 'iso', 'Location': 'country_name'}, inplace=True)"
   ]
  },
  {
   "cell_type": "markdown",
   "metadata": {},
   "source": [
    "#### Set ISO as Index"
   ]
  },
  {
   "cell_type": "code",
   "execution_count": 240,
   "metadata": {
    "collapsed": true
   },
   "outputs": [],
   "source": [
    "df_imf = set_iso_as_index(pop_imf, 'iso')\n",
    "df_pwt = set_iso_as_index(pop_pwt, 'iso')\n",
    "df_wb = set_iso_as_index(pop_wb, 'iso')\n",
    "df_un = set_iso_as_index(pop_un, 'iso')"
   ]
  },
  {
   "cell_type": "markdown",
   "metadata": {},
   "source": [
    "## Get max population data from each data set"
   ]
  },
  {
   "cell_type": "code",
   "execution_count": 241,
   "metadata": {
    "collapsed": true
   },
   "outputs": [],
   "source": [
    "# also in convience_functions\n",
    "def get_max_countries(_df, _n, _yr):\n",
    "    '''\n",
    "    Returns n largest country data values from the given year\n",
    "    \n",
    "    _df: pd.DataFrame\n",
    "        data frame containing population of gdp data for all countries\n",
    "\n",
    "    _n: int\n",
    "        # of largest values to retrieve\n",
    "        \n",
    "    _yr: int\n",
    "        given year\n",
    "    '''\n",
    "    return _df.nlargest(_n, _yr)"
   ]
  },
  {
   "cell_type": "code",
   "execution_count": 242,
   "metadata": {},
   "outputs": [
    {
     "data": {
      "text/html": [
       "<div>\n",
       "<style>\n",
       "    .dataframe thead tr:only-child th {\n",
       "        text-align: right;\n",
       "    }\n",
       "\n",
       "    .dataframe thead th {\n",
       "        text-align: left;\n",
       "    }\n",
       "\n",
       "    .dataframe tbody tr th {\n",
       "        vertical-align: top;\n",
       "    }\n",
       "</style>\n",
       "<table border=\"1\" class=\"dataframe\">\n",
       "  <thead>\n",
       "    <tr style=\"text-align: right;\">\n",
       "      <th></th>\n",
       "      <th>country_name</th>\n",
       "      <th>1980</th>\n",
       "      <th>1981</th>\n",
       "      <th>1982</th>\n",
       "      <th>1983</th>\n",
       "      <th>1984</th>\n",
       "      <th>1985</th>\n",
       "      <th>1986</th>\n",
       "      <th>1987</th>\n",
       "      <th>1988</th>\n",
       "      <th>...</th>\n",
       "      <th>2008</th>\n",
       "      <th>2009</th>\n",
       "      <th>2010</th>\n",
       "      <th>2011</th>\n",
       "      <th>2012</th>\n",
       "      <th>2013</th>\n",
       "      <th>2014</th>\n",
       "      <th>2015</th>\n",
       "      <th>2016</th>\n",
       "      <th>country_code</th>\n",
       "    </tr>\n",
       "    <tr>\n",
       "      <th>iso</th>\n",
       "      <th></th>\n",
       "      <th></th>\n",
       "      <th></th>\n",
       "      <th></th>\n",
       "      <th></th>\n",
       "      <th></th>\n",
       "      <th></th>\n",
       "      <th></th>\n",
       "      <th></th>\n",
       "      <th></th>\n",
       "      <th></th>\n",
       "      <th></th>\n",
       "      <th></th>\n",
       "      <th></th>\n",
       "      <th></th>\n",
       "      <th></th>\n",
       "      <th></th>\n",
       "      <th></th>\n",
       "      <th></th>\n",
       "      <th></th>\n",
       "      <th></th>\n",
       "    </tr>\n",
       "  </thead>\n",
       "  <tbody>\n",
       "    <tr>\n",
       "      <th>AFG</th>\n",
       "      <td>Afghanistan</td>\n",
       "      <td>NaN</td>\n",
       "      <td>NaN</td>\n",
       "      <td>NaN</td>\n",
       "      <td>NaN</td>\n",
       "      <td>NaN</td>\n",
       "      <td>NaN</td>\n",
       "      <td>NaN</td>\n",
       "      <td>NaN</td>\n",
       "      <td>NaN</td>\n",
       "      <td>...</td>\n",
       "      <td>27.032</td>\n",
       "      <td>27.708</td>\n",
       "      <td>28.398</td>\n",
       "      <td>29.105</td>\n",
       "      <td>29.825</td>\n",
       "      <td>30.550</td>\n",
       "      <td>31.279</td>\n",
       "      <td>32.007</td>\n",
       "      <td>33.400</td>\n",
       "      <td>AFG</td>\n",
       "    </tr>\n",
       "    <tr>\n",
       "      <th>ALB</th>\n",
       "      <td>Albania</td>\n",
       "      <td>2.762</td>\n",
       "      <td>2.817</td>\n",
       "      <td>2.877</td>\n",
       "      <td>2.935</td>\n",
       "      <td>2.996</td>\n",
       "      <td>3.059</td>\n",
       "      <td>3.12</td>\n",
       "      <td>3.182</td>\n",
       "      <td>3.246</td>\n",
       "      <td>...</td>\n",
       "      <td>2.947</td>\n",
       "      <td>2.928</td>\n",
       "      <td>2.913</td>\n",
       "      <td>2.905</td>\n",
       "      <td>2.900</td>\n",
       "      <td>2.895</td>\n",
       "      <td>2.889</td>\n",
       "      <td>2.881</td>\n",
       "      <td>2.876</td>\n",
       "      <td>ALB</td>\n",
       "    </tr>\n",
       "    <tr>\n",
       "      <th>DZA</th>\n",
       "      <td>Algeria</td>\n",
       "      <td>18.666</td>\n",
       "      <td>19.246</td>\n",
       "      <td>19.864</td>\n",
       "      <td>20.516</td>\n",
       "      <td>21.175</td>\n",
       "      <td>22.200</td>\n",
       "      <td>22.80</td>\n",
       "      <td>23.400</td>\n",
       "      <td>24.100</td>\n",
       "      <td>...</td>\n",
       "      <td>34.591</td>\n",
       "      <td>35.268</td>\n",
       "      <td>35.978</td>\n",
       "      <td>36.717</td>\n",
       "      <td>37.495</td>\n",
       "      <td>38.297</td>\n",
       "      <td>39.114</td>\n",
       "      <td>39.963</td>\n",
       "      <td>40.762</td>\n",
       "      <td>DZA</td>\n",
       "    </tr>\n",
       "  </tbody>\n",
       "</table>\n",
       "<p>3 rows × 39 columns</p>\n",
       "</div>"
      ],
      "text/plain": [
       "    country_name    1980    1981    1982    1983    1984    1985   1986  \\\n",
       "iso                                                                       \n",
       "AFG  Afghanistan     NaN     NaN     NaN     NaN     NaN     NaN    NaN   \n",
       "ALB      Albania   2.762   2.817   2.877   2.935   2.996   3.059   3.12   \n",
       "DZA      Algeria  18.666  19.246  19.864  20.516  21.175  22.200  22.80   \n",
       "\n",
       "       1987    1988      ...         2008    2009    2010    2011    2012  \\\n",
       "iso                      ...                                                \n",
       "AFG     NaN     NaN      ...       27.032  27.708  28.398  29.105  29.825   \n",
       "ALB   3.182   3.246      ...        2.947   2.928   2.913   2.905   2.900   \n",
       "DZA  23.400  24.100      ...       34.591  35.268  35.978  36.717  37.495   \n",
       "\n",
       "       2013    2014    2015    2016  country_code  \n",
       "iso                                                \n",
       "AFG  30.550  31.279  32.007  33.400           AFG  \n",
       "ALB   2.895   2.889   2.881   2.876           ALB  \n",
       "DZA  38.297  39.114  39.963  40.762           DZA  \n",
       "\n",
       "[3 rows x 39 columns]"
      ]
     },
     "execution_count": 242,
     "metadata": {},
     "output_type": "execute_result"
    }
   ],
   "source": [
    "df_pwt.head(5)\n",
    "df_wb.head(3)\n",
    "df_imf.head(3)"
   ]
  },
  {
   "cell_type": "markdown",
   "metadata": {},
   "source": [
    "### Function to make df of single country based on four data sets..\n",
    "\n",
    "#### ok it may make sense to use xarray, and include all nan values for missing years\n",
    "#### so this step isn't done manually for each country and there is no need to subset data each time (based on years of availability)"
   ]
  },
  {
   "cell_type": "code",
   "execution_count": 243,
   "metadata": {
    "collapsed": true
   },
   "outputs": [],
   "source": [
    "def make_df_single_country(_iso):\n",
    "    '''\n",
    "    Abstracting out what was done for Brazil. Need to test to see if this works\n",
    "    \n",
    "    _iso: String\n",
    "       iso country code in three letters ex. CHN for China and BRA for Brazil\n",
    "        \n",
    "    '''    \n",
    "    #pwt\n",
    "    _pwt = df_pwt.loc[_iso][31:] * 10**6\n",
    "    \n",
    "    #wb\n",
    "    _wb = df_wb.loc[_iso][21:56]\n",
    "    \n",
    "    # un\n",
    "    _un = df_un.loc[_iso][31:66] * 10**3\n",
    "    \n",
    "    # imf\n",
    "    _imf = df_imf.loc[_iso][1:36] * 10**6\n",
    "\n",
    "    return pd.DataFrame({'pwt': _pwt, \n",
    "                   'wb': _wb, \n",
    "                   'un': _un,\n",
    "                   'imf': _imf})"
   ]
  },
  {
   "cell_type": "markdown",
   "metadata": {},
   "source": [
    "## Plot US data"
   ]
  },
  {
   "cell_type": "code",
   "execution_count": 244,
   "metadata": {
    "collapsed": true
   },
   "outputs": [],
   "source": [
    "df_usa = make_df_single_country('USA')"
   ]
  },
  {
   "cell_type": "code",
   "execution_count": 245,
   "metadata": {
    "scrolled": false
   },
   "outputs": [
    {
     "data": {
      "text/plain": [
       "Text(0.5,1,'USA population (1980-2014) from different sources ')"
      ]
     },
     "execution_count": 245,
     "metadata": {},
     "output_type": "execute_result"
    },
    {
     "data": {
      "image/png": "[encoded data removed]",
      "text/plain": [
       "<matplotlib.figure.Figure at 0x1c144f5cf8>"
      ]
     },
     "metadata": {},
     "output_type": "display_data"
    }
   ],
   "source": [
    "plt.close()\n",
    "\n",
    "a = df_usa.plot(style=['bo-','ro-', 'yo-', 'go-'], figsize=(15,10), fontsize=14, grid=True, rot=320, colormap='tab10')\n",
    "# pwt9.set_index(['countrycode', 'year']).unstack('year')['rgdpe_pc'].loc[['IND', 'IDN', 'BRA', 'CHN']].T.plot(style='*')\n",
    "\n",
    "type(a)\n",
    "a.set_xlabel('Years', fontsize=14)\n",
    "a.set_ylabel('Population (in 100s of mil)', fontsize=14)\n",
    "a.set_title('USA population (1980-2014) from different sources ', fontsize=14)"
   ]
  },
  {
   "cell_type": "markdown",
   "metadata": {},
   "source": [
    "## Find the country with largest spread for 2010"
   ]
  },
  {
   "cell_type": "markdown",
   "metadata": {},
   "source": [
    "### Get Brazil/BRA data"
   ]
  },
  {
   "cell_type": "code",
   "execution_count": 246,
   "metadata": {
    "collapsed": true
   },
   "outputs": [],
   "source": [
    "wb_bra = df_wb.loc['BRA'][21:56] # seems like absolute value to me\n",
    "un_bra = df_un.loc['BRA'][31:66] * 10 **3"
   ]
  },
  {
   "cell_type": "code",
   "execution_count": 247,
   "metadata": {},
   "outputs": [
    {
     "data": {
      "text/plain": [
       "False"
      ]
     },
     "execution_count": 247,
     "metadata": {},
     "output_type": "execute_result"
    }
   ],
   "source": [
    "un_bra.get_values()[1]\n",
    "type(un_bra.index) == pd.core.indexes.numeric.Float64Index"
   ]
  },
  {
   "cell_type": "code",
   "execution_count": 248,
   "metadata": {
    "collapsed": true
   },
   "outputs": [],
   "source": [
    "imf_bra = df_imf.loc['BRA'][1:36] * 10**6"
   ]
  },
  {
   "cell_type": "code",
   "execution_count": 249,
   "metadata": {
    "collapsed": true
   },
   "outputs": [],
   "source": [
    "pwt_bra = df_pwt.loc['BRA'][31:] * 10**6 # 1980 to 2014, 35 years\n",
    "assert pwt_bra.shape == wb_bra.shape == imf_bra.shape == un_bra.shape"
   ]
  },
  {
   "cell_type": "code",
   "execution_count": 250,
   "metadata": {},
   "outputs": [
    {
     "name": "stdout",
     "output_type": "stream",
     "text": [
      "<class 'pandas.core.indexes.numeric.Float64Index'>\n",
      "<class 'pandas.core.indexes.numeric.Float64Index'>\n",
      "<class 'pandas.core.indexes.numeric.Float64Index'>\n",
      "<class 'pandas.core.indexes.numeric.Float64Index'>\n"
     ]
    }
   ],
   "source": [
    "for _df in [pwt_bra, wb_bra, un_bra, imf_bra]:\n",
    "    if type(_df.index) != pd.core.indexes.numeric.Float64Index:\n",
    "        _df.index = _df.index.map(float)\n",
    "        \n",
    "for _df in [pwt_bra, wb_bra, un_bra, imf_bra]:\n",
    "    print (type(_df.index))"
   ]
  },
  {
   "cell_type": "code",
   "execution_count": 251,
   "metadata": {},
   "outputs": [
    {
     "data": {
      "text/plain": [
       "array([0.0, 0.0, 0.0, 0.0, 1.4901161193847656e-08, 0.0, 0.0, 0.0, 0.0, 0.0,\n",
       "       0.0, 0.0, 2.9802322387695312e-08, 0.0, 2.9802322387695312e-08, 0.0,\n",
       "       -2.9802322387695312e-08, 0.0, 0.0, 2.9802322387695312e-08, 0.0, 0.0,\n",
       "       0.0, 0.0, 0.0, 0.0, 0.0, 0.0, 0.0, 0.0, 0.0, 0.0, 0.0, 0.0, 0.0], dtype=object)"
      ]
     },
     "execution_count": 251,
     "metadata": {},
     "output_type": "execute_result"
    }
   ],
   "source": [
    "(un_bra-wb_bra).get_values()"
   ]
  },
  {
   "cell_type": "code",
   "execution_count": 252,
   "metadata": {
    "scrolled": true
   },
   "outputs": [
    {
     "data": {
      "text/plain": [
       "<matplotlib.axes._subplots.AxesSubplot at 0x1c144f57f0>"
      ]
     },
     "execution_count": 252,
     "metadata": {},
     "output_type": "execute_result"
    },
    {
     "data": {
      "image/png": "[encoded data removed]",
      "text/plain": [
       "<matplotlib.figure.Figure at 0x1c142955f8>"
      ]
     },
     "metadata": {},
     "output_type": "display_data"
    }
   ],
   "source": [
    "# Plot difference \n",
    "wb_un_diff = wb_bra-un_bra\n",
    "wb_un_diff.plot(style='o')"
   ]
  },
  {
   "cell_type": "code",
   "execution_count": 253,
   "metadata": {
    "collapsed": true
   },
   "outputs": [],
   "source": [
    "df1 = pd.DataFrame({'pwt': pwt_bra, \n",
    "                   'wb': wb_bra, \n",
    "                   'un': un_bra,\n",
    "                   'imf': imf_bra})\n",
    "\n",
    "#pd.concat([cpwt, cwb, cun, cimf], axis=1)"
   ]
  },
  {
   "cell_type": "code",
   "execution_count": 254,
   "metadata": {},
   "outputs": [
    {
     "data": {
      "image/png": "[encoded data removed]",
      "text/plain": [
       "<matplotlib.figure.Figure at 0x1c12eabac8>"
      ]
     },
     "metadata": {},
     "output_type": "display_data"
    }
   ],
   "source": [
    "p1 = df1.plot(style='o-', figsize=(12,7), fontsize=14, alpha=.5, grid=True, rot=320, colormap='Set1')\n",
    "\n",
    "label_axes(p1, '', '100 mil', 'Brazil')\n"
   ]
  },
  {
   "cell_type": "code",
   "execution_count": 255,
   "metadata": {
    "scrolled": true
   },
   "outputs": [
    {
     "data": {
      "text/plain": [
       "imf    0\n",
       "pwt    0\n",
       "un     0\n",
       "wb     0\n",
       "dtype: int64"
      ]
     },
     "execution_count": 255,
     "metadata": {},
     "output_type": "execute_result"
    }
   ],
   "source": [
    "df1.isnull().sum()\n",
    "# no nan values!"
   ]
  },
  {
   "cell_type": "markdown",
   "metadata": {},
   "source": [
    "## Compare total population"
   ]
  },
  {
   "cell_type": "markdown",
   "metadata": {},
   "source": [
    "### Get only years 1980-2014"
   ]
  },
  {
   "cell_type": "code",
   "execution_count": 256,
   "metadata": {
    "collapsed": true
   },
   "outputs": [],
   "source": [
    "cols_of_interest = ['country_name']\n",
    "years = [str(y) for y in range(1980, 2015)]\n",
    "cols_of_interest.extend(years)"
   ]
  },
  {
   "cell_type": "code",
   "execution_count": 257,
   "metadata": {
    "collapsed": true
   },
   "outputs": [],
   "source": [
    "ds = [df_pwt, df_wb, df_un, df_imf]"
   ]
  },
  {
   "cell_type": "code",
   "execution_count": 258,
   "metadata": {},
   "outputs": [
    {
     "data": {
      "text/html": [
       "<div>\n",
       "<style>\n",
       "    .dataframe thead tr:only-child th {\n",
       "        text-align: right;\n",
       "    }\n",
       "\n",
       "    .dataframe thead th {\n",
       "        text-align: left;\n",
       "    }\n",
       "\n",
       "    .dataframe tbody tr th {\n",
       "        vertical-align: top;\n",
       "    }\n",
       "</style>\n",
       "<table border=\"1\" class=\"dataframe\">\n",
       "  <thead>\n",
       "    <tr style=\"text-align: right;\">\n",
       "      <th></th>\n",
       "      <th>country_name</th>\n",
       "      <th>1950</th>\n",
       "      <th>1951</th>\n",
       "      <th>1952</th>\n",
       "      <th>1953</th>\n",
       "      <th>1954</th>\n",
       "      <th>1955</th>\n",
       "      <th>1956</th>\n",
       "      <th>1957</th>\n",
       "      <th>1958</th>\n",
       "      <th>...</th>\n",
       "      <th>2005</th>\n",
       "      <th>2006</th>\n",
       "      <th>2007</th>\n",
       "      <th>2008</th>\n",
       "      <th>2009</th>\n",
       "      <th>2010</th>\n",
       "      <th>2011</th>\n",
       "      <th>2012</th>\n",
       "      <th>2013</th>\n",
       "      <th>2014</th>\n",
       "    </tr>\n",
       "    <tr>\n",
       "      <th>iso</th>\n",
       "      <th></th>\n",
       "      <th></th>\n",
       "      <th></th>\n",
       "      <th></th>\n",
       "      <th></th>\n",
       "      <th></th>\n",
       "      <th></th>\n",
       "      <th></th>\n",
       "      <th></th>\n",
       "      <th></th>\n",
       "      <th></th>\n",
       "      <th></th>\n",
       "      <th></th>\n",
       "      <th></th>\n",
       "      <th></th>\n",
       "      <th></th>\n",
       "      <th></th>\n",
       "      <th></th>\n",
       "      <th></th>\n",
       "      <th></th>\n",
       "      <th></th>\n",
       "    </tr>\n",
       "  </thead>\n",
       "  <tbody>\n",
       "    <tr>\n",
       "      <th>ALB</th>\n",
       "      <td>Albania</td>\n",
       "      <td>NaN</td>\n",
       "      <td>NaN</td>\n",
       "      <td>NaN</td>\n",
       "      <td>NaN</td>\n",
       "      <td>NaN</td>\n",
       "      <td>NaN</td>\n",
       "      <td>NaN</td>\n",
       "      <td>NaN</td>\n",
       "      <td>NaN</td>\n",
       "      <td>...</td>\n",
       "      <td>3.082172</td>\n",
       "      <td>3.050741</td>\n",
       "      <td>3.010849</td>\n",
       "      <td>2.968026</td>\n",
       "      <td>2.929886</td>\n",
       "      <td>2.901883</td>\n",
       "      <td>2.886010</td>\n",
       "      <td>2.880667</td>\n",
       "      <td>2.883281</td>\n",
       "      <td>2.889676</td>\n",
       "    </tr>\n",
       "    <tr>\n",
       "      <th>DZA</th>\n",
       "      <td>Algeria</td>\n",
       "      <td>NaN</td>\n",
       "      <td>NaN</td>\n",
       "      <td>NaN</td>\n",
       "      <td>NaN</td>\n",
       "      <td>NaN</td>\n",
       "      <td>NaN</td>\n",
       "      <td>NaN</td>\n",
       "      <td>NaN</td>\n",
       "      <td>NaN</td>\n",
       "      <td>...</td>\n",
       "      <td>33.267887</td>\n",
       "      <td>33.749328</td>\n",
       "      <td>34.261971</td>\n",
       "      <td>34.811059</td>\n",
       "      <td>35.401790</td>\n",
       "      <td>36.036159</td>\n",
       "      <td>36.717132</td>\n",
       "      <td>37.439427</td>\n",
       "      <td>38.186135</td>\n",
       "      <td>38.934334</td>\n",
       "    </tr>\n",
       "    <tr>\n",
       "      <th>AGO</th>\n",
       "      <td>Angola</td>\n",
       "      <td>NaN</td>\n",
       "      <td>NaN</td>\n",
       "      <td>NaN</td>\n",
       "      <td>NaN</td>\n",
       "      <td>NaN</td>\n",
       "      <td>NaN</td>\n",
       "      <td>NaN</td>\n",
       "      <td>NaN</td>\n",
       "      <td>NaN</td>\n",
       "      <td>...</td>\n",
       "      <td>17.912942</td>\n",
       "      <td>18.541467</td>\n",
       "      <td>19.183907</td>\n",
       "      <td>19.842251</td>\n",
       "      <td>20.520103</td>\n",
       "      <td>21.219954</td>\n",
       "      <td>21.942296</td>\n",
       "      <td>22.685632</td>\n",
       "      <td>23.448202</td>\n",
       "      <td>24.227524</td>\n",
       "    </tr>\n",
       "    <tr>\n",
       "      <th>AIA</th>\n",
       "      <td>Anguilla</td>\n",
       "      <td>NaN</td>\n",
       "      <td>NaN</td>\n",
       "      <td>NaN</td>\n",
       "      <td>NaN</td>\n",
       "      <td>NaN</td>\n",
       "      <td>NaN</td>\n",
       "      <td>NaN</td>\n",
       "      <td>NaN</td>\n",
       "      <td>NaN</td>\n",
       "      <td>...</td>\n",
       "      <td>0.012637</td>\n",
       "      <td>0.012903</td>\n",
       "      <td>0.013145</td>\n",
       "      <td>0.013365</td>\n",
       "      <td>0.013571</td>\n",
       "      <td>0.013768</td>\n",
       "      <td>0.013956</td>\n",
       "      <td>0.014133</td>\n",
       "      <td>0.014300</td>\n",
       "      <td>0.014460</td>\n",
       "    </tr>\n",
       "    <tr>\n",
       "      <th>ATG</th>\n",
       "      <td>Antigua and Barbuda</td>\n",
       "      <td>NaN</td>\n",
       "      <td>NaN</td>\n",
       "      <td>NaN</td>\n",
       "      <td>NaN</td>\n",
       "      <td>NaN</td>\n",
       "      <td>NaN</td>\n",
       "      <td>NaN</td>\n",
       "      <td>NaN</td>\n",
       "      <td>NaN</td>\n",
       "      <td>...</td>\n",
       "      <td>0.082565</td>\n",
       "      <td>0.083467</td>\n",
       "      <td>0.084397</td>\n",
       "      <td>0.085350</td>\n",
       "      <td>0.086300</td>\n",
       "      <td>0.087233</td>\n",
       "      <td>0.088152</td>\n",
       "      <td>0.089069</td>\n",
       "      <td>0.089985</td>\n",
       "      <td>0.090900</td>\n",
       "    </tr>\n",
       "    <tr>\n",
       "      <th>ARG</th>\n",
       "      <td>Argentina</td>\n",
       "      <td>17.158029</td>\n",
       "      <td>17.525200</td>\n",
       "      <td>17.884976</td>\n",
       "      <td>18.238994</td>\n",
       "      <td>18.588894</td>\n",
       "      <td>18.936311</td>\n",
       "      <td>19.280156</td>\n",
       "      <td>19.619336</td>\n",
       "      <td>19.955487</td>\n",
       "      <td>...</td>\n",
       "      <td>39.145491</td>\n",
       "      <td>39.558750</td>\n",
       "      <td>39.969903</td>\n",
       "      <td>40.381860</td>\n",
       "      <td>40.798641</td>\n",
       "      <td>41.222875</td>\n",
       "      <td>41.655616</td>\n",
       "      <td>42.095224</td>\n",
       "      <td>42.538304</td>\n",
       "      <td>42.980026</td>\n",
       "    </tr>\n",
       "    <tr>\n",
       "      <th>ARM</th>\n",
       "      <td>Armenia</td>\n",
       "      <td>NaN</td>\n",
       "      <td>NaN</td>\n",
       "      <td>NaN</td>\n",
       "      <td>NaN</td>\n",
       "      <td>NaN</td>\n",
       "      <td>NaN</td>\n",
       "      <td>NaN</td>\n",
       "      <td>NaN</td>\n",
       "      <td>NaN</td>\n",
       "      <td>...</td>\n",
       "      <td>3.014917</td>\n",
       "      <td>3.002161</td>\n",
       "      <td>2.988117</td>\n",
       "      <td>2.975029</td>\n",
       "      <td>2.966108</td>\n",
       "      <td>2.963496</td>\n",
       "      <td>2.967984</td>\n",
       "      <td>2.978339</td>\n",
       "      <td>2.992192</td>\n",
       "      <td>3.006154</td>\n",
       "    </tr>\n",
       "    <tr>\n",
       "      <th>ABW</th>\n",
       "      <td>Aruba</td>\n",
       "      <td>NaN</td>\n",
       "      <td>NaN</td>\n",
       "      <td>NaN</td>\n",
       "      <td>NaN</td>\n",
       "      <td>NaN</td>\n",
       "      <td>NaN</td>\n",
       "      <td>NaN</td>\n",
       "      <td>NaN</td>\n",
       "      <td>NaN</td>\n",
       "      <td>...</td>\n",
       "      <td>0.100031</td>\n",
       "      <td>0.100830</td>\n",
       "      <td>0.101218</td>\n",
       "      <td>0.101342</td>\n",
       "      <td>0.101416</td>\n",
       "      <td>0.101597</td>\n",
       "      <td>0.101936</td>\n",
       "      <td>0.102393</td>\n",
       "      <td>0.102921</td>\n",
       "      <td>0.103441</td>\n",
       "    </tr>\n",
       "    <tr>\n",
       "      <th>AUS</th>\n",
       "      <td>Australia</td>\n",
       "      <td>8.427065</td>\n",
       "      <td>8.675029</td>\n",
       "      <td>8.859130</td>\n",
       "      <td>9.029064</td>\n",
       "      <td>9.239138</td>\n",
       "      <td>9.456325</td>\n",
       "      <td>9.684162</td>\n",
       "      <td>9.900220</td>\n",
       "      <td>10.106834</td>\n",
       "      <td>...</td>\n",
       "      <td>20.274282</td>\n",
       "      <td>20.606228</td>\n",
       "      <td>20.975949</td>\n",
       "      <td>21.370348</td>\n",
       "      <td>21.770690</td>\n",
       "      <td>22.162863</td>\n",
       "      <td>22.542371</td>\n",
       "      <td>22.911375</td>\n",
       "      <td>23.270465</td>\n",
       "      <td>23.622353</td>\n",
       "    </tr>\n",
       "    <tr>\n",
       "      <th>AUT</th>\n",
       "      <td>Austria</td>\n",
       "      <td>6.974721</td>\n",
       "      <td>6.975074</td>\n",
       "      <td>6.967351</td>\n",
       "      <td>6.972089</td>\n",
       "      <td>6.979859</td>\n",
       "      <td>6.986573</td>\n",
       "      <td>6.992079</td>\n",
       "      <td>7.005657</td>\n",
       "      <td>7.027278</td>\n",
       "      <td>...</td>\n",
       "      <td>8.234858</td>\n",
       "      <td>8.269372</td>\n",
       "      <td>8.301290</td>\n",
       "      <td>8.331465</td>\n",
       "      <td>8.361362</td>\n",
       "      <td>8.391986</td>\n",
       "      <td>8.423559</td>\n",
       "      <td>8.455477</td>\n",
       "      <td>8.486962</td>\n",
       "      <td>8.516916</td>\n",
       "    </tr>\n",
       "    <tr>\n",
       "      <th>AZE</th>\n",
       "      <td>Azerbaijan</td>\n",
       "      <td>NaN</td>\n",
       "      <td>NaN</td>\n",
       "      <td>NaN</td>\n",
       "      <td>NaN</td>\n",
       "      <td>NaN</td>\n",
       "      <td>NaN</td>\n",
       "      <td>NaN</td>\n",
       "      <td>NaN</td>\n",
       "      <td>NaN</td>\n",
       "      <td>...</td>\n",
       "      <td>8.563398</td>\n",
       "      <td>8.662137</td>\n",
       "      <td>8.763359</td>\n",
       "      <td>8.868713</td>\n",
       "      <td>8.980488</td>\n",
       "      <td>9.099893</td>\n",
       "      <td>9.227512</td>\n",
       "      <td>9.361477</td>\n",
       "      <td>9.497496</td>\n",
       "      <td>9.629779</td>\n",
       "    </tr>\n",
       "    <tr>\n",
       "      <th>BHS</th>\n",
       "      <td>Bahamas</td>\n",
       "      <td>NaN</td>\n",
       "      <td>NaN</td>\n",
       "      <td>NaN</td>\n",
       "      <td>NaN</td>\n",
       "      <td>NaN</td>\n",
       "      <td>NaN</td>\n",
       "      <td>NaN</td>\n",
       "      <td>NaN</td>\n",
       "      <td>NaN</td>\n",
       "      <td>...</td>\n",
       "      <td>0.329243</td>\n",
       "      <td>0.335801</td>\n",
       "      <td>0.342259</td>\n",
       "      <td>0.348587</td>\n",
       "      <td>0.354780</td>\n",
       "      <td>0.360830</td>\n",
       "      <td>0.366711</td>\n",
       "      <td>0.372388</td>\n",
       "      <td>0.377841</td>\n",
       "      <td>0.383054</td>\n",
       "    </tr>\n",
       "    <tr>\n",
       "      <th>BHR</th>\n",
       "      <td>Bahrain</td>\n",
       "      <td>NaN</td>\n",
       "      <td>NaN</td>\n",
       "      <td>NaN</td>\n",
       "      <td>NaN</td>\n",
       "      <td>NaN</td>\n",
       "      <td>NaN</td>\n",
       "      <td>NaN</td>\n",
       "      <td>NaN</td>\n",
       "      <td>NaN</td>\n",
       "      <td>...</td>\n",
       "      <td>0.867014</td>\n",
       "      <td>0.940808</td>\n",
       "      <td>1.026568</td>\n",
       "      <td>1.115777</td>\n",
       "      <td>1.196774</td>\n",
       "      <td>1.261319</td>\n",
       "      <td>1.306014</td>\n",
       "      <td>1.333577</td>\n",
       "      <td>1.349427</td>\n",
       "      <td>1.361930</td>\n",
       "    </tr>\n",
       "    <tr>\n",
       "      <th>BGD</th>\n",
       "      <td>Bangladesh</td>\n",
       "      <td>NaN</td>\n",
       "      <td>NaN</td>\n",
       "      <td>NaN</td>\n",
       "      <td>NaN</td>\n",
       "      <td>NaN</td>\n",
       "      <td>NaN</td>\n",
       "      <td>NaN</td>\n",
       "      <td>NaN</td>\n",
       "      <td>NaN</td>\n",
       "      <td>...</td>\n",
       "      <td>142.929979</td>\n",
       "      <td>144.839238</td>\n",
       "      <td>146.592687</td>\n",
       "      <td>148.252473</td>\n",
       "      <td>149.905836</td>\n",
       "      <td>151.616777</td>\n",
       "      <td>153.405612</td>\n",
       "      <td>155.257387</td>\n",
       "      <td>157.157394</td>\n",
       "      <td>159.077513</td>\n",
       "    </tr>\n",
       "    <tr>\n",
       "      <th>BRB</th>\n",
       "      <td>Barbados</td>\n",
       "      <td>NaN</td>\n",
       "      <td>NaN</td>\n",
       "      <td>NaN</td>\n",
       "      <td>NaN</td>\n",
       "      <td>NaN</td>\n",
       "      <td>NaN</td>\n",
       "      <td>NaN</td>\n",
       "      <td>NaN</td>\n",
       "      <td>NaN</td>\n",
       "      <td>...</td>\n",
       "      <td>0.274013</td>\n",
       "      <td>0.275040</td>\n",
       "      <td>0.276154</td>\n",
       "      <td>0.277315</td>\n",
       "      <td>0.278466</td>\n",
       "      <td>0.279566</td>\n",
       "      <td>0.280602</td>\n",
       "      <td>0.281580</td>\n",
       "      <td>0.282503</td>\n",
       "      <td>0.283380</td>\n",
       "    </tr>\n",
       "    <tr>\n",
       "      <th>BLR</th>\n",
       "      <td>Belarus</td>\n",
       "      <td>NaN</td>\n",
       "      <td>NaN</td>\n",
       "      <td>NaN</td>\n",
       "      <td>NaN</td>\n",
       "      <td>NaN</td>\n",
       "      <td>NaN</td>\n",
       "      <td>NaN</td>\n",
       "      <td>NaN</td>\n",
       "      <td>NaN</td>\n",
       "      <td>...</td>\n",
       "      <td>9.640616</td>\n",
       "      <td>9.594233</td>\n",
       "      <td>9.556061</td>\n",
       "      <td>9.526453</td>\n",
       "      <td>9.505319</td>\n",
       "      <td>9.492122</td>\n",
       "      <td>9.487674</td>\n",
       "      <td>9.490962</td>\n",
       "      <td>9.497294</td>\n",
       "      <td>9.500422</td>\n",
       "    </tr>\n",
       "    <tr>\n",
       "      <th>BEL</th>\n",
       "      <td>Belgium</td>\n",
       "      <td>8.663141</td>\n",
       "      <td>8.702266</td>\n",
       "      <td>8.754428</td>\n",
       "      <td>8.802027</td>\n",
       "      <td>8.843648</td>\n",
       "      <td>8.892878</td>\n",
       "      <td>8.948401</td>\n",
       "      <td>9.013846</td>\n",
       "      <td>9.077617</td>\n",
       "      <td>...</td>\n",
       "      <td>10.561436</td>\n",
       "      <td>10.632032</td>\n",
       "      <td>10.704830</td>\n",
       "      <td>10.779155</td>\n",
       "      <td>10.854388</td>\n",
       "      <td>10.929978</td>\n",
       "      <td>11.005175</td>\n",
       "      <td>11.079521</td>\n",
       "      <td>11.153122</td>\n",
       "      <td>11.226322</td>\n",
       "    </tr>\n",
       "    <tr>\n",
       "      <th>BLZ</th>\n",
       "      <td>Belize</td>\n",
       "      <td>NaN</td>\n",
       "      <td>NaN</td>\n",
       "      <td>NaN</td>\n",
       "      <td>NaN</td>\n",
       "      <td>NaN</td>\n",
       "      <td>NaN</td>\n",
       "      <td>NaN</td>\n",
       "      <td>NaN</td>\n",
       "      <td>NaN</td>\n",
       "      <td>...</td>\n",
       "      <td>0.283279</td>\n",
       "      <td>0.290751</td>\n",
       "      <td>0.298403</td>\n",
       "      <td>0.306165</td>\n",
       "      <td>0.313925</td>\n",
       "      <td>0.321609</td>\n",
       "      <td>0.329193</td>\n",
       "      <td>0.336707</td>\n",
       "      <td>0.344193</td>\n",
       "      <td>0.351706</td>\n",
       "    </tr>\n",
       "    <tr>\n",
       "      <th>BEN</th>\n",
       "      <td>Benin</td>\n",
       "      <td>NaN</td>\n",
       "      <td>NaN</td>\n",
       "      <td>NaN</td>\n",
       "      <td>NaN</td>\n",
       "      <td>NaN</td>\n",
       "      <td>NaN</td>\n",
       "      <td>NaN</td>\n",
       "      <td>NaN</td>\n",
       "      <td>NaN</td>\n",
       "      <td>...</td>\n",
       "      <td>8.182362</td>\n",
       "      <td>8.443717</td>\n",
       "      <td>8.707637</td>\n",
       "      <td>8.973525</td>\n",
       "      <td>9.240982</td>\n",
       "      <td>9.509798</td>\n",
       "      <td>9.779391</td>\n",
       "      <td>10.049792</td>\n",
       "      <td>10.322232</td>\n",
       "      <td>10.598482</td>\n",
       "    </tr>\n",
       "    <tr>\n",
       "      <th>BMU</th>\n",
       "      <td>Bermuda</td>\n",
       "      <td>NaN</td>\n",
       "      <td>NaN</td>\n",
       "      <td>NaN</td>\n",
       "      <td>NaN</td>\n",
       "      <td>NaN</td>\n",
       "      <td>NaN</td>\n",
       "      <td>NaN</td>\n",
       "      <td>NaN</td>\n",
       "      <td>NaN</td>\n",
       "      <td>...</td>\n",
       "      <td>0.065124</td>\n",
       "      <td>0.065064</td>\n",
       "      <td>0.064891</td>\n",
       "      <td>0.064627</td>\n",
       "      <td>0.064306</td>\n",
       "      <td>0.063954</td>\n",
       "      <td>0.063578</td>\n",
       "      <td>0.063179</td>\n",
       "      <td>0.062773</td>\n",
       "      <td>0.062376</td>\n",
       "    </tr>\n",
       "    <tr>\n",
       "      <th>BTN</th>\n",
       "      <td>Bhutan</td>\n",
       "      <td>NaN</td>\n",
       "      <td>NaN</td>\n",
       "      <td>NaN</td>\n",
       "      <td>NaN</td>\n",
       "      <td>NaN</td>\n",
       "      <td>NaN</td>\n",
       "      <td>NaN</td>\n",
       "      <td>NaN</td>\n",
       "      <td>NaN</td>\n",
       "      <td>...</td>\n",
       "      <td>0.651163</td>\n",
       "      <td>0.666920</td>\n",
       "      <td>0.681471</td>\n",
       "      <td>0.694990</td>\n",
       "      <td>0.707830</td>\n",
       "      <td>0.720246</td>\n",
       "      <td>0.732246</td>\n",
       "      <td>0.743711</td>\n",
       "      <td>0.754637</td>\n",
       "      <td>0.765008</td>\n",
       "    </tr>\n",
       "    <tr>\n",
       "      <th>BOL</th>\n",
       "      <td>Bolivia (Plurinational State of)</td>\n",
       "      <td>2.867573</td>\n",
       "      <td>2.927328</td>\n",
       "      <td>2.989166</td>\n",
       "      <td>3.053082</td>\n",
       "      <td>3.119086</td>\n",
       "      <td>3.187173</td>\n",
       "      <td>3.257345</td>\n",
       "      <td>3.329646</td>\n",
       "      <td>3.404159</td>\n",
       "      <td>...</td>\n",
       "      <td>9.125405</td>\n",
       "      <td>9.283345</td>\n",
       "      <td>9.441482</td>\n",
       "      <td>9.599916</td>\n",
       "      <td>9.758799</td>\n",
       "      <td>9.918245</td>\n",
       "      <td>10.078238</td>\n",
       "      <td>10.238762</td>\n",
       "      <td>10.399931</td>\n",
       "      <td>10.561887</td>\n",
       "    </tr>\n",
       "    <tr>\n",
       "      <th>BIH</th>\n",
       "      <td>Bosnia and Herzegovina</td>\n",
       "      <td>NaN</td>\n",
       "      <td>NaN</td>\n",
       "      <td>NaN</td>\n",
       "      <td>NaN</td>\n",
       "      <td>NaN</td>\n",
       "      <td>NaN</td>\n",
       "      <td>NaN</td>\n",
       "      <td>NaN</td>\n",
       "      <td>NaN</td>\n",
       "      <td>...</td>\n",
       "      <td>3.833377</td>\n",
       "      <td>3.838504</td>\n",
       "      <td>3.840418</td>\n",
       "      <td>3.839749</td>\n",
       "      <td>3.837732</td>\n",
       "      <td>3.835258</td>\n",
       "      <td>3.832310</td>\n",
       "      <td>3.828419</td>\n",
       "      <td>3.823533</td>\n",
       "      <td>3.817554</td>\n",
       "    </tr>\n",
       "    <tr>\n",
       "      <th>BWA</th>\n",
       "      <td>Botswana</td>\n",
       "      <td>NaN</td>\n",
       "      <td>NaN</td>\n",
       "      <td>NaN</td>\n",
       "      <td>NaN</td>\n",
       "      <td>NaN</td>\n",
       "      <td>NaN</td>\n",
       "      <td>NaN</td>\n",
       "      <td>NaN</td>\n",
       "      <td>NaN</td>\n",
       "      <td>...</td>\n",
       "      <td>1.864003</td>\n",
       "      <td>1.895671</td>\n",
       "      <td>1.930431</td>\n",
       "      <td>1.967866</td>\n",
       "      <td>2.007212</td>\n",
       "      <td>2.047831</td>\n",
       "      <td>2.089706</td>\n",
       "      <td>2.132822</td>\n",
       "      <td>2.176510</td>\n",
       "      <td>2.219937</td>\n",
       "    </tr>\n",
       "    <tr>\n",
       "      <th>BRA</th>\n",
       "      <td>Brazil</td>\n",
       "      <td>53.609605</td>\n",
       "      <td>55.166902</td>\n",
       "      <td>56.778935</td>\n",
       "      <td>58.447918</td>\n",
       "      <td>60.176149</td>\n",
       "      <td>61.966034</td>\n",
       "      <td>63.830273</td>\n",
       "      <td>65.755431</td>\n",
       "      <td>67.743648</td>\n",
       "      <td>...</td>\n",
       "      <td>188.479240</td>\n",
       "      <td>190.698240</td>\n",
       "      <td>192.784520</td>\n",
       "      <td>194.769700</td>\n",
       "      <td>196.701300</td>\n",
       "      <td>198.614210</td>\n",
       "      <td>200.517580</td>\n",
       "      <td>202.401580</td>\n",
       "      <td>204.259380</td>\n",
       "      <td>206.077900</td>\n",
       "    </tr>\n",
       "    <tr>\n",
       "      <th>VGB</th>\n",
       "      <td>British Virgin Islands</td>\n",
       "      <td>NaN</td>\n",
       "      <td>NaN</td>\n",
       "      <td>NaN</td>\n",
       "      <td>NaN</td>\n",
       "      <td>NaN</td>\n",
       "      <td>NaN</td>\n",
       "      <td>NaN</td>\n",
       "      <td>NaN</td>\n",
       "      <td>NaN</td>\n",
       "      <td>...</td>\n",
       "      <td>0.023169</td>\n",
       "      <td>0.023908</td>\n",
       "      <td>0.024735</td>\n",
       "      <td>0.025604</td>\n",
       "      <td>0.026450</td>\n",
       "      <td>0.027223</td>\n",
       "      <td>0.027906</td>\n",
       "      <td>0.028511</td>\n",
       "      <td>0.029058</td>\n",
       "      <td>0.029585</td>\n",
       "    </tr>\n",
       "    <tr>\n",
       "      <th>BRN</th>\n",
       "      <td>Brunei Darussalam</td>\n",
       "      <td>NaN</td>\n",
       "      <td>NaN</td>\n",
       "      <td>NaN</td>\n",
       "      <td>NaN</td>\n",
       "      <td>NaN</td>\n",
       "      <td>NaN</td>\n",
       "      <td>NaN</td>\n",
       "      <td>NaN</td>\n",
       "      <td>NaN</td>\n",
       "      <td>...</td>\n",
       "      <td>0.361889</td>\n",
       "      <td>0.368150</td>\n",
       "      <td>0.374459</td>\n",
       "      <td>0.380786</td>\n",
       "      <td>0.387080</td>\n",
       "      <td>0.393302</td>\n",
       "      <td>0.399443</td>\n",
       "      <td>0.405512</td>\n",
       "      <td>0.411499</td>\n",
       "      <td>0.417394</td>\n",
       "    </tr>\n",
       "    <tr>\n",
       "      <th>BGR</th>\n",
       "      <td>Bulgaria</td>\n",
       "      <td>NaN</td>\n",
       "      <td>NaN</td>\n",
       "      <td>NaN</td>\n",
       "      <td>NaN</td>\n",
       "      <td>NaN</td>\n",
       "      <td>NaN</td>\n",
       "      <td>NaN</td>\n",
       "      <td>NaN</td>\n",
       "      <td>NaN</td>\n",
       "      <td>...</td>\n",
       "      <td>7.682614</td>\n",
       "      <td>7.624611</td>\n",
       "      <td>7.568378</td>\n",
       "      <td>7.513646</td>\n",
       "      <td>7.460057</td>\n",
       "      <td>7.407297</td>\n",
       "      <td>7.355231</td>\n",
       "      <td>7.303741</td>\n",
       "      <td>7.252539</td>\n",
       "      <td>7.201308</td>\n",
       "    </tr>\n",
       "    <tr>\n",
       "      <th>BFA</th>\n",
       "      <td>Burkina Faso</td>\n",
       "      <td>NaN</td>\n",
       "      <td>NaN</td>\n",
       "      <td>NaN</td>\n",
       "      <td>NaN</td>\n",
       "      <td>NaN</td>\n",
       "      <td>NaN</td>\n",
       "      <td>NaN</td>\n",
       "      <td>NaN</td>\n",
       "      <td>NaN</td>\n",
       "      <td>...</td>\n",
       "      <td>13.421929</td>\n",
       "      <td>13.834195</td>\n",
       "      <td>14.264002</td>\n",
       "      <td>14.709011</td>\n",
       "      <td>15.165856</td>\n",
       "      <td>15.632066</td>\n",
       "      <td>16.106851</td>\n",
       "      <td>16.590813</td>\n",
       "      <td>17.084554</td>\n",
       "      <td>17.589198</td>\n",
       "    </tr>\n",
       "    <tr>\n",
       "      <th>BDI</th>\n",
       "      <td>Burundi</td>\n",
       "      <td>NaN</td>\n",
       "      <td>NaN</td>\n",
       "      <td>NaN</td>\n",
       "      <td>NaN</td>\n",
       "      <td>NaN</td>\n",
       "      <td>NaN</td>\n",
       "      <td>NaN</td>\n",
       "      <td>NaN</td>\n",
       "      <td>NaN</td>\n",
       "      <td>...</td>\n",
       "      <td>7.934213</td>\n",
       "      <td>8.218070</td>\n",
       "      <td>8.514578</td>\n",
       "      <td>8.821795</td>\n",
       "      <td>9.137786</td>\n",
       "      <td>9.461117</td>\n",
       "      <td>9.790151</td>\n",
       "      <td>10.124572</td>\n",
       "      <td>10.465959</td>\n",
       "      <td>10.816860</td>\n",
       "    </tr>\n",
       "    <tr>\n",
       "      <th>...</th>\n",
       "      <td>...</td>\n",
       "      <td>...</td>\n",
       "      <td>...</td>\n",
       "      <td>...</td>\n",
       "      <td>...</td>\n",
       "      <td>...</td>\n",
       "      <td>...</td>\n",
       "      <td>...</td>\n",
       "      <td>...</td>\n",
       "      <td>...</td>\n",
       "      <td>...</td>\n",
       "      <td>...</td>\n",
       "      <td>...</td>\n",
       "      <td>...</td>\n",
       "      <td>...</td>\n",
       "      <td>...</td>\n",
       "      <td>...</td>\n",
       "      <td>...</td>\n",
       "      <td>...</td>\n",
       "      <td>...</td>\n",
       "      <td>...</td>\n",
       "    </tr>\n",
       "    <tr>\n",
       "      <th>SDN</th>\n",
       "      <td>Sudan (Former)</td>\n",
       "      <td>NaN</td>\n",
       "      <td>NaN</td>\n",
       "      <td>NaN</td>\n",
       "      <td>NaN</td>\n",
       "      <td>NaN</td>\n",
       "      <td>NaN</td>\n",
       "      <td>NaN</td>\n",
       "      <td>NaN</td>\n",
       "      <td>NaN</td>\n",
       "      <td>...</td>\n",
       "      <td>40.089911</td>\n",
       "      <td>41.254715</td>\n",
       "      <td>42.453455</td>\n",
       "      <td>43.678736</td>\n",
       "      <td>44.920474</td>\n",
       "      <td>46.171360</td>\n",
       "      <td>47.198355</td>\n",
       "      <td>48.213741</td>\n",
       "      <td>49.239927</td>\n",
       "      <td>50.307669</td>\n",
       "    </tr>\n",
       "    <tr>\n",
       "      <th>SUR</th>\n",
       "      <td>Suriname</td>\n",
       "      <td>NaN</td>\n",
       "      <td>NaN</td>\n",
       "      <td>NaN</td>\n",
       "      <td>NaN</td>\n",
       "      <td>NaN</td>\n",
       "      <td>NaN</td>\n",
       "      <td>NaN</td>\n",
       "      <td>NaN</td>\n",
       "      <td>NaN</td>\n",
       "      <td>...</td>\n",
       "      <td>0.491999</td>\n",
       "      <td>0.495953</td>\n",
       "      <td>0.500953</td>\n",
       "      <td>0.506657</td>\n",
       "      <td>0.512522</td>\n",
       "      <td>0.518141</td>\n",
       "      <td>0.523439</td>\n",
       "      <td>0.528535</td>\n",
       "      <td>0.533450</td>\n",
       "      <td>0.538248</td>\n",
       "    </tr>\n",
       "    <tr>\n",
       "      <th>SWZ</th>\n",
       "      <td>Swaziland</td>\n",
       "      <td>NaN</td>\n",
       "      <td>NaN</td>\n",
       "      <td>NaN</td>\n",
       "      <td>NaN</td>\n",
       "      <td>NaN</td>\n",
       "      <td>NaN</td>\n",
       "      <td>NaN</td>\n",
       "      <td>NaN</td>\n",
       "      <td>NaN</td>\n",
       "      <td>...</td>\n",
       "      <td>1.104642</td>\n",
       "      <td>1.118204</td>\n",
       "      <td>1.134853</td>\n",
       "      <td>1.153750</td>\n",
       "      <td>1.173529</td>\n",
       "      <td>1.193148</td>\n",
       "      <td>1.212458</td>\n",
       "      <td>1.231694</td>\n",
       "      <td>1.250641</td>\n",
       "      <td>1.269112</td>\n",
       "    </tr>\n",
       "    <tr>\n",
       "      <th>SWE</th>\n",
       "      <td>Sweden</td>\n",
       "      <td>7.019452</td>\n",
       "      <td>7.078323</td>\n",
       "      <td>7.130206</td>\n",
       "      <td>7.177031</td>\n",
       "      <td>7.219092</td>\n",
       "      <td>7.268028</td>\n",
       "      <td>7.320232</td>\n",
       "      <td>7.369521</td>\n",
       "      <td>7.414898</td>\n",
       "      <td>...</td>\n",
       "      <td>9.030163</td>\n",
       "      <td>9.087251</td>\n",
       "      <td>9.153316</td>\n",
       "      <td>9.226333</td>\n",
       "      <td>9.303432</td>\n",
       "      <td>9.382297</td>\n",
       "      <td>9.462352</td>\n",
       "      <td>9.543457</td>\n",
       "      <td>9.624247</td>\n",
       "      <td>9.703247</td>\n",
       "    </tr>\n",
       "    <tr>\n",
       "      <th>CHE</th>\n",
       "      <td>Switzerland</td>\n",
       "      <td>4.620865</td>\n",
       "      <td>4.675008</td>\n",
       "      <td>4.739980</td>\n",
       "      <td>4.801998</td>\n",
       "      <td>4.852203</td>\n",
       "      <td>4.902409</td>\n",
       "      <td>4.966396</td>\n",
       "      <td>5.046134</td>\n",
       "      <td>5.117997</td>\n",
       "      <td>...</td>\n",
       "      <td>7.408608</td>\n",
       "      <td>7.480317</td>\n",
       "      <td>7.560141</td>\n",
       "      <td>7.646542</td>\n",
       "      <td>7.737316</td>\n",
       "      <td>7.830534</td>\n",
       "      <td>7.925813</td>\n",
       "      <td>8.022628</td>\n",
       "      <td>8.118719</td>\n",
       "      <td>8.211383</td>\n",
       "    </tr>\n",
       "    <tr>\n",
       "      <th>SYR</th>\n",
       "      <td>Syrian Arab Republic</td>\n",
       "      <td>NaN</td>\n",
       "      <td>NaN</td>\n",
       "      <td>NaN</td>\n",
       "      <td>NaN</td>\n",
       "      <td>NaN</td>\n",
       "      <td>NaN</td>\n",
       "      <td>NaN</td>\n",
       "      <td>NaN</td>\n",
       "      <td>NaN</td>\n",
       "      <td>...</td>\n",
       "      <td>18.132842</td>\n",
       "      <td>18.728200</td>\n",
       "      <td>19.425597</td>\n",
       "      <td>20.097057</td>\n",
       "      <td>20.566871</td>\n",
       "      <td>20.720602</td>\n",
       "      <td>20.501167</td>\n",
       "      <td>19.978756</td>\n",
       "      <td>19.322593</td>\n",
       "      <td>18.772481</td>\n",
       "    </tr>\n",
       "    <tr>\n",
       "      <th>MKD</th>\n",
       "      <td>TFYR of Macedonia</td>\n",
       "      <td>NaN</td>\n",
       "      <td>NaN</td>\n",
       "      <td>NaN</td>\n",
       "      <td>NaN</td>\n",
       "      <td>NaN</td>\n",
       "      <td>NaN</td>\n",
       "      <td>NaN</td>\n",
       "      <td>NaN</td>\n",
       "      <td>NaN</td>\n",
       "      <td>...</td>\n",
       "      <td>2.042894</td>\n",
       "      <td>2.047330</td>\n",
       "      <td>2.051427</td>\n",
       "      <td>2.055266</td>\n",
       "      <td>2.058920</td>\n",
       "      <td>2.062443</td>\n",
       "      <td>2.065888</td>\n",
       "      <td>2.069270</td>\n",
       "      <td>2.072543</td>\n",
       "      <td>2.075625</td>\n",
       "    </tr>\n",
       "    <tr>\n",
       "      <th>TWN</th>\n",
       "      <td>Taiwan</td>\n",
       "      <td>NaN</td>\n",
       "      <td>7.758202</td>\n",
       "      <td>8.046915</td>\n",
       "      <td>8.333009</td>\n",
       "      <td>8.645264</td>\n",
       "      <td>8.967001</td>\n",
       "      <td>9.289545</td>\n",
       "      <td>9.597690</td>\n",
       "      <td>9.920227</td>\n",
       "      <td>...</td>\n",
       "      <td>22.729753</td>\n",
       "      <td>22.823455</td>\n",
       "      <td>22.917444</td>\n",
       "      <td>22.997696</td>\n",
       "      <td>23.078402</td>\n",
       "      <td>23.140948</td>\n",
       "      <td>23.193518</td>\n",
       "      <td>23.270367</td>\n",
       "      <td>23.344670</td>\n",
       "      <td>23.434000</td>\n",
       "    </tr>\n",
       "    <tr>\n",
       "      <th>TJK</th>\n",
       "      <td>Tajikistan</td>\n",
       "      <td>NaN</td>\n",
       "      <td>NaN</td>\n",
       "      <td>NaN</td>\n",
       "      <td>NaN</td>\n",
       "      <td>NaN</td>\n",
       "      <td>NaN</td>\n",
       "      <td>NaN</td>\n",
       "      <td>NaN</td>\n",
       "      <td>NaN</td>\n",
       "      <td>...</td>\n",
       "      <td>6.805655</td>\n",
       "      <td>6.949566</td>\n",
       "      <td>7.099021</td>\n",
       "      <td>7.254072</td>\n",
       "      <td>7.414960</td>\n",
       "      <td>7.581696</td>\n",
       "      <td>7.753925</td>\n",
       "      <td>7.930929</td>\n",
       "      <td>8.111894</td>\n",
       "      <td>8.295840</td>\n",
       "    </tr>\n",
       "    <tr>\n",
       "      <th>THA</th>\n",
       "      <td>Thailand</td>\n",
       "      <td>19.930342</td>\n",
       "      <td>20.538651</td>\n",
       "      <td>21.171188</td>\n",
       "      <td>21.842196</td>\n",
       "      <td>22.559011</td>\n",
       "      <td>23.321098</td>\n",
       "      <td>24.109851</td>\n",
       "      <td>24.902867</td>\n",
       "      <td>25.701931</td>\n",
       "      <td>...</td>\n",
       "      <td>65.863973</td>\n",
       "      <td>66.174486</td>\n",
       "      <td>66.353572</td>\n",
       "      <td>66.453255</td>\n",
       "      <td>66.548197</td>\n",
       "      <td>66.692024</td>\n",
       "      <td>66.902958</td>\n",
       "      <td>67.164130</td>\n",
       "      <td>67.451422</td>\n",
       "      <td>67.725979</td>\n",
       "    </tr>\n",
       "    <tr>\n",
       "      <th>TGO</th>\n",
       "      <td>Togo</td>\n",
       "      <td>NaN</td>\n",
       "      <td>NaN</td>\n",
       "      <td>NaN</td>\n",
       "      <td>NaN</td>\n",
       "      <td>NaN</td>\n",
       "      <td>NaN</td>\n",
       "      <td>NaN</td>\n",
       "      <td>NaN</td>\n",
       "      <td>NaN</td>\n",
       "      <td>...</td>\n",
       "      <td>5.578219</td>\n",
       "      <td>5.732175</td>\n",
       "      <td>5.890414</td>\n",
       "      <td>6.052937</td>\n",
       "      <td>6.219761</td>\n",
       "      <td>6.390851</td>\n",
       "      <td>6.566179</td>\n",
       "      <td>6.745581</td>\n",
       "      <td>6.928719</td>\n",
       "      <td>7.115163</td>\n",
       "    </tr>\n",
       "    <tr>\n",
       "      <th>TTO</th>\n",
       "      <td>Trinidad and Tobago</td>\n",
       "      <td>0.626041</td>\n",
       "      <td>0.642584</td>\n",
       "      <td>0.656601</td>\n",
       "      <td>0.671905</td>\n",
       "      <td>0.690924</td>\n",
       "      <td>0.714004</td>\n",
       "      <td>0.735500</td>\n",
       "      <td>0.757688</td>\n",
       "      <td>0.781165</td>\n",
       "      <td>...</td>\n",
       "      <td>1.296933</td>\n",
       "      <td>1.303141</td>\n",
       "      <td>1.309260</td>\n",
       "      <td>1.315372</td>\n",
       "      <td>1.321624</td>\n",
       "      <td>1.328095</td>\n",
       "      <td>1.334790</td>\n",
       "      <td>1.341579</td>\n",
       "      <td>1.348240</td>\n",
       "      <td>1.354483</td>\n",
       "    </tr>\n",
       "    <tr>\n",
       "      <th>TUN</th>\n",
       "      <td>Tunisia</td>\n",
       "      <td>NaN</td>\n",
       "      <td>NaN</td>\n",
       "      <td>NaN</td>\n",
       "      <td>NaN</td>\n",
       "      <td>NaN</td>\n",
       "      <td>NaN</td>\n",
       "      <td>NaN</td>\n",
       "      <td>NaN</td>\n",
       "      <td>NaN</td>\n",
       "      <td>...</td>\n",
       "      <td>10.102477</td>\n",
       "      <td>10.196441</td>\n",
       "      <td>10.298717</td>\n",
       "      <td>10.408091</td>\n",
       "      <td>10.522214</td>\n",
       "      <td>10.639194</td>\n",
       "      <td>10.758870</td>\n",
       "      <td>10.881450</td>\n",
       "      <td>11.005706</td>\n",
       "      <td>11.130154</td>\n",
       "    </tr>\n",
       "    <tr>\n",
       "      <th>TUR</th>\n",
       "      <td>Turkey</td>\n",
       "      <td>20.539025</td>\n",
       "      <td>21.071613</td>\n",
       "      <td>21.622335</td>\n",
       "      <td>22.200766</td>\n",
       "      <td>22.816598</td>\n",
       "      <td>23.478574</td>\n",
       "      <td>24.191184</td>\n",
       "      <td>24.962838</td>\n",
       "      <td>25.774567</td>\n",
       "      <td>...</td>\n",
       "      <td>67.860617</td>\n",
       "      <td>68.704721</td>\n",
       "      <td>69.515492</td>\n",
       "      <td>70.344357</td>\n",
       "      <td>71.261307</td>\n",
       "      <td>72.310416</td>\n",
       "      <td>73.517002</td>\n",
       "      <td>74.849187</td>\n",
       "      <td>76.223639</td>\n",
       "      <td>77.523788</td>\n",
       "    </tr>\n",
       "    <tr>\n",
       "      <th>TKM</th>\n",
       "      <td>Turkmenistan</td>\n",
       "      <td>NaN</td>\n",
       "      <td>NaN</td>\n",
       "      <td>NaN</td>\n",
       "      <td>NaN</td>\n",
       "      <td>NaN</td>\n",
       "      <td>NaN</td>\n",
       "      <td>NaN</td>\n",
       "      <td>NaN</td>\n",
       "      <td>NaN</td>\n",
       "      <td>...</td>\n",
       "      <td>4.747839</td>\n",
       "      <td>4.801594</td>\n",
       "      <td>4.858235</td>\n",
       "      <td>4.917541</td>\n",
       "      <td>4.978960</td>\n",
       "      <td>5.041995</td>\n",
       "      <td>5.106672</td>\n",
       "      <td>5.172941</td>\n",
       "      <td>5.240088</td>\n",
       "      <td>5.307188</td>\n",
       "    </tr>\n",
       "    <tr>\n",
       "      <th>TCA</th>\n",
       "      <td>Turks and Caicos Islands</td>\n",
       "      <td>NaN</td>\n",
       "      <td>NaN</td>\n",
       "      <td>NaN</td>\n",
       "      <td>NaN</td>\n",
       "      <td>NaN</td>\n",
       "      <td>NaN</td>\n",
       "      <td>NaN</td>\n",
       "      <td>NaN</td>\n",
       "      <td>NaN</td>\n",
       "      <td>...</td>\n",
       "      <td>0.026450</td>\n",
       "      <td>0.027642</td>\n",
       "      <td>0.028638</td>\n",
       "      <td>0.029481</td>\n",
       "      <td>0.030247</td>\n",
       "      <td>0.030993</td>\n",
       "      <td>0.031727</td>\n",
       "      <td>0.032430</td>\n",
       "      <td>0.033103</td>\n",
       "      <td>0.033740</td>\n",
       "    </tr>\n",
       "    <tr>\n",
       "      <th>TZA</th>\n",
       "      <td>U.R. of Tanzania: Mainland</td>\n",
       "      <td>NaN</td>\n",
       "      <td>NaN</td>\n",
       "      <td>NaN</td>\n",
       "      <td>NaN</td>\n",
       "      <td>NaN</td>\n",
       "      <td>NaN</td>\n",
       "      <td>NaN</td>\n",
       "      <td>NaN</td>\n",
       "      <td>NaN</td>\n",
       "      <td>...</td>\n",
       "      <td>37.992600</td>\n",
       "      <td>39.116847</td>\n",
       "      <td>40.374884</td>\n",
       "      <td>41.659033</td>\n",
       "      <td>42.996062</td>\n",
       "      <td>44.380340</td>\n",
       "      <td>45.810882</td>\n",
       "      <td>47.342140</td>\n",
       "      <td>48.829347</td>\n",
       "      <td>50.443621</td>\n",
       "    </tr>\n",
       "    <tr>\n",
       "      <th>UGA</th>\n",
       "      <td>Uganda</td>\n",
       "      <td>5.353486</td>\n",
       "      <td>5.498151</td>\n",
       "      <td>5.647290</td>\n",
       "      <td>5.801056</td>\n",
       "      <td>5.960199</td>\n",
       "      <td>6.124934</td>\n",
       "      <td>6.295480</td>\n",
       "      <td>6.472070</td>\n",
       "      <td>6.654943</td>\n",
       "      <td>...</td>\n",
       "      <td>28.042413</td>\n",
       "      <td>29.000925</td>\n",
       "      <td>29.991958</td>\n",
       "      <td>31.014427</td>\n",
       "      <td>32.067125</td>\n",
       "      <td>33.149417</td>\n",
       "      <td>34.260342</td>\n",
       "      <td>35.400620</td>\n",
       "      <td>36.573387</td>\n",
       "      <td>37.782971</td>\n",
       "    </tr>\n",
       "    <tr>\n",
       "      <th>UKR</th>\n",
       "      <td>Ukraine</td>\n",
       "      <td>NaN</td>\n",
       "      <td>NaN</td>\n",
       "      <td>NaN</td>\n",
       "      <td>NaN</td>\n",
       "      <td>NaN</td>\n",
       "      <td>NaN</td>\n",
       "      <td>NaN</td>\n",
       "      <td>NaN</td>\n",
       "      <td>NaN</td>\n",
       "      <td>...</td>\n",
       "      <td>46.795313</td>\n",
       "      <td>46.502718</td>\n",
       "      <td>46.249196</td>\n",
       "      <td>46.028476</td>\n",
       "      <td>45.830711</td>\n",
       "      <td>45.647497</td>\n",
       "      <td>45.477690</td>\n",
       "      <td>45.319949</td>\n",
       "      <td>45.165211</td>\n",
       "      <td>45.002497</td>\n",
       "    </tr>\n",
       "    <tr>\n",
       "      <th>ARE</th>\n",
       "      <td>United Arab Emirates</td>\n",
       "      <td>NaN</td>\n",
       "      <td>NaN</td>\n",
       "      <td>NaN</td>\n",
       "      <td>NaN</td>\n",
       "      <td>NaN</td>\n",
       "      <td>NaN</td>\n",
       "      <td>NaN</td>\n",
       "      <td>NaN</td>\n",
       "      <td>NaN</td>\n",
       "      <td>...</td>\n",
       "      <td>4.481976</td>\n",
       "      <td>5.171255</td>\n",
       "      <td>6.010100</td>\n",
       "      <td>6.900142</td>\n",
       "      <td>7.705423</td>\n",
       "      <td>8.329453</td>\n",
       "      <td>8.734722</td>\n",
       "      <td>8.952542</td>\n",
       "      <td>9.039978</td>\n",
       "      <td>9.086139</td>\n",
       "    </tr>\n",
       "    <tr>\n",
       "      <th>GBR</th>\n",
       "      <td>United Kingdom</td>\n",
       "      <td>50.108438</td>\n",
       "      <td>50.271380</td>\n",
       "      <td>50.411327</td>\n",
       "      <td>50.574265</td>\n",
       "      <td>50.746203</td>\n",
       "      <td>50.927135</td>\n",
       "      <td>51.165046</td>\n",
       "      <td>51.410957</td>\n",
       "      <td>51.632875</td>\n",
       "      <td>...</td>\n",
       "      <td>60.210012</td>\n",
       "      <td>60.648850</td>\n",
       "      <td>61.151820</td>\n",
       "      <td>61.689620</td>\n",
       "      <td>62.221164</td>\n",
       "      <td>62.716684</td>\n",
       "      <td>63.164949</td>\n",
       "      <td>63.573766</td>\n",
       "      <td>63.955654</td>\n",
       "      <td>64.331348</td>\n",
       "    </tr>\n",
       "    <tr>\n",
       "      <th>USA</th>\n",
       "      <td>United States</td>\n",
       "      <td>155.563526</td>\n",
       "      <td>158.226907</td>\n",
       "      <td>160.959736</td>\n",
       "      <td>163.647638</td>\n",
       "      <td>166.551085</td>\n",
       "      <td>169.518898</td>\n",
       "      <td>172.555161</td>\n",
       "      <td>175.702775</td>\n",
       "      <td>178.663448</td>\n",
       "      <td>...</td>\n",
       "      <td>296.139635</td>\n",
       "      <td>298.860519</td>\n",
       "      <td>301.655953</td>\n",
       "      <td>304.473143</td>\n",
       "      <td>307.231961</td>\n",
       "      <td>309.876170</td>\n",
       "      <td>312.390368</td>\n",
       "      <td>314.799465</td>\n",
       "      <td>317.135919</td>\n",
       "      <td>319.448634</td>\n",
       "    </tr>\n",
       "    <tr>\n",
       "      <th>URY</th>\n",
       "      <td>Uruguay</td>\n",
       "      <td>2.183504</td>\n",
       "      <td>2.212148</td>\n",
       "      <td>2.241906</td>\n",
       "      <td>2.272709</td>\n",
       "      <td>2.305172</td>\n",
       "      <td>2.341586</td>\n",
       "      <td>2.377562</td>\n",
       "      <td>2.413056</td>\n",
       "      <td>2.448334</td>\n",
       "      <td>...</td>\n",
       "      <td>3.325608</td>\n",
       "      <td>3.331041</td>\n",
       "      <td>3.339750</td>\n",
       "      <td>3.350832</td>\n",
       "      <td>3.362761</td>\n",
       "      <td>3.374414</td>\n",
       "      <td>3.385610</td>\n",
       "      <td>3.396753</td>\n",
       "      <td>3.407969</td>\n",
       "      <td>3.419516</td>\n",
       "    </tr>\n",
       "    <tr>\n",
       "      <th>UZB</th>\n",
       "      <td>Uzbekistan</td>\n",
       "      <td>NaN</td>\n",
       "      <td>NaN</td>\n",
       "      <td>NaN</td>\n",
       "      <td>NaN</td>\n",
       "      <td>NaN</td>\n",
       "      <td>NaN</td>\n",
       "      <td>NaN</td>\n",
       "      <td>NaN</td>\n",
       "      <td>NaN</td>\n",
       "      <td>...</td>\n",
       "      <td>25.922239</td>\n",
       "      <td>26.242947</td>\n",
       "      <td>26.586701</td>\n",
       "      <td>26.952719</td>\n",
       "      <td>27.338109</td>\n",
       "      <td>27.739764</td>\n",
       "      <td>28.158395</td>\n",
       "      <td>28.592451</td>\n",
       "      <td>29.033361</td>\n",
       "      <td>29.469913</td>\n",
       "    </tr>\n",
       "    <tr>\n",
       "      <th>VEN</th>\n",
       "      <td>Venezuela (Bolivarian Republic of)</td>\n",
       "      <td>5.395339</td>\n",
       "      <td>5.619397</td>\n",
       "      <td>5.859110</td>\n",
       "      <td>6.111902</td>\n",
       "      <td>6.375198</td>\n",
       "      <td>6.646413</td>\n",
       "      <td>6.927304</td>\n",
       "      <td>7.219630</td>\n",
       "      <td>7.520803</td>\n",
       "      <td>...</td>\n",
       "      <td>26.769115</td>\n",
       "      <td>27.221228</td>\n",
       "      <td>27.670659</td>\n",
       "      <td>28.116716</td>\n",
       "      <td>28.558607</td>\n",
       "      <td>28.995745</td>\n",
       "      <td>29.427631</td>\n",
       "      <td>29.854238</td>\n",
       "      <td>30.276045</td>\n",
       "      <td>30.693827</td>\n",
       "    </tr>\n",
       "    <tr>\n",
       "      <th>VNM</th>\n",
       "      <td>Viet Nam</td>\n",
       "      <td>NaN</td>\n",
       "      <td>NaN</td>\n",
       "      <td>NaN</td>\n",
       "      <td>NaN</td>\n",
       "      <td>NaN</td>\n",
       "      <td>NaN</td>\n",
       "      <td>NaN</td>\n",
       "      <td>NaN</td>\n",
       "      <td>NaN</td>\n",
       "      <td>...</td>\n",
       "      <td>84.203817</td>\n",
       "      <td>84.979667</td>\n",
       "      <td>85.770717</td>\n",
       "      <td>86.589342</td>\n",
       "      <td>87.449021</td>\n",
       "      <td>88.357775</td>\n",
       "      <td>89.321903</td>\n",
       "      <td>90.335547</td>\n",
       "      <td>91.378752</td>\n",
       "      <td>92.423338</td>\n",
       "    </tr>\n",
       "    <tr>\n",
       "      <th>YEM</th>\n",
       "      <td>Yemen</td>\n",
       "      <td>NaN</td>\n",
       "      <td>NaN</td>\n",
       "      <td>NaN</td>\n",
       "      <td>NaN</td>\n",
       "      <td>NaN</td>\n",
       "      <td>NaN</td>\n",
       "      <td>NaN</td>\n",
       "      <td>NaN</td>\n",
       "      <td>NaN</td>\n",
       "      <td>...</td>\n",
       "      <td>20.504385</td>\n",
       "      <td>21.093973</td>\n",
       "      <td>21.701105</td>\n",
       "      <td>22.322699</td>\n",
       "      <td>22.954226</td>\n",
       "      <td>23.591972</td>\n",
       "      <td>24.234940</td>\n",
       "      <td>24.882792</td>\n",
       "      <td>25.533217</td>\n",
       "      <td>26.183676</td>\n",
       "    </tr>\n",
       "    <tr>\n",
       "      <th>ZMB</th>\n",
       "      <td>Zambia</td>\n",
       "      <td>NaN</td>\n",
       "      <td>NaN</td>\n",
       "      <td>NaN</td>\n",
       "      <td>NaN</td>\n",
       "      <td>NaN</td>\n",
       "      <td>2.824305</td>\n",
       "      <td>2.895183</td>\n",
       "      <td>2.969015</td>\n",
       "      <td>3.045800</td>\n",
       "      <td>...</td>\n",
       "      <td>12.043591</td>\n",
       "      <td>12.381509</td>\n",
       "      <td>12.738676</td>\n",
       "      <td>13.114579</td>\n",
       "      <td>13.507849</td>\n",
       "      <td>13.917439</td>\n",
       "      <td>14.343526</td>\n",
       "      <td>14.786581</td>\n",
       "      <td>15.246086</td>\n",
       "      <td>15.721343</td>\n",
       "    </tr>\n",
       "    <tr>\n",
       "      <th>ZWE</th>\n",
       "      <td>Zimbabwe</td>\n",
       "      <td>NaN</td>\n",
       "      <td>NaN</td>\n",
       "      <td>NaN</td>\n",
       "      <td>NaN</td>\n",
       "      <td>3.122419</td>\n",
       "      <td>3.218476</td>\n",
       "      <td>3.332451</td>\n",
       "      <td>3.442534</td>\n",
       "      <td>3.553766</td>\n",
       "      <td>...</td>\n",
       "      <td>12.984418</td>\n",
       "      <td>13.127942</td>\n",
       "      <td>13.297798</td>\n",
       "      <td>13.495462</td>\n",
       "      <td>13.720997</td>\n",
       "      <td>13.973897</td>\n",
       "      <td>14.255592</td>\n",
       "      <td>14.565482</td>\n",
       "      <td>14.898092</td>\n",
       "      <td>15.245855</td>\n",
       "    </tr>\n",
       "    <tr>\n",
       "      <th>NaN</th>\n",
       "      <td>Total</td>\n",
       "      <td>1297.150865</td>\n",
       "      <td>1345.407950</td>\n",
       "      <td>1935.280272</td>\n",
       "      <td>1990.793408</td>\n",
       "      <td>2033.900242</td>\n",
       "      <td>2106.818024</td>\n",
       "      <td>2147.482175</td>\n",
       "      <td>2190.849473</td>\n",
       "      <td>2234.226473</td>\n",
       "      <td>...</td>\n",
       "      <td>6423.692232</td>\n",
       "      <td>6502.565145</td>\n",
       "      <td>6582.438253</td>\n",
       "      <td>6663.083371</td>\n",
       "      <td>6744.362187</td>\n",
       "      <td>6826.078342</td>\n",
       "      <td>6907.928139</td>\n",
       "      <td>6990.183842</td>\n",
       "      <td>7072.456671</td>\n",
       "      <td>7154.701081</td>\n",
       "    </tr>\n",
       "  </tbody>\n",
       "</table>\n",
       "<p>183 rows × 66 columns</p>\n",
       "</div>"
      ],
      "text/plain": [
       "                           country_name         1950         1951  \\\n",
       "iso                                                                 \n",
       "ALB                             Albania          NaN          NaN   \n",
       "DZA                             Algeria          NaN          NaN   \n",
       "AGO                              Angola          NaN          NaN   \n",
       "AIA                            Anguilla          NaN          NaN   \n",
       "ATG                 Antigua and Barbuda          NaN          NaN   \n",
       "ARG                           Argentina    17.158029    17.525200   \n",
       "ARM                             Armenia          NaN          NaN   \n",
       "ABW                               Aruba          NaN          NaN   \n",
       "AUS                           Australia     8.427065     8.675029   \n",
       "AUT                             Austria     6.974721     6.975074   \n",
       "AZE                          Azerbaijan          NaN          NaN   \n",
       "BHS                             Bahamas          NaN          NaN   \n",
       "BHR                             Bahrain          NaN          NaN   \n",
       "BGD                          Bangladesh          NaN          NaN   \n",
       "BRB                            Barbados          NaN          NaN   \n",
       "BLR                             Belarus          NaN          NaN   \n",
       "BEL                             Belgium     8.663141     8.702266   \n",
       "BLZ                              Belize          NaN          NaN   \n",
       "BEN                               Benin          NaN          NaN   \n",
       "BMU                             Bermuda          NaN          NaN   \n",
       "BTN                              Bhutan          NaN          NaN   \n",
       "BOL    Bolivia (Plurinational State of)     2.867573     2.927328   \n",
       "BIH              Bosnia and Herzegovina          NaN          NaN   \n",
       "BWA                            Botswana          NaN          NaN   \n",
       "BRA                              Brazil    53.609605    55.166902   \n",
       "VGB              British Virgin Islands          NaN          NaN   \n",
       "BRN                   Brunei Darussalam          NaN          NaN   \n",
       "BGR                            Bulgaria          NaN          NaN   \n",
       "BFA                        Burkina Faso          NaN          NaN   \n",
       "BDI                             Burundi          NaN          NaN   \n",
       "..                                  ...          ...          ...   \n",
       "SDN                      Sudan (Former)          NaN          NaN   \n",
       "SUR                            Suriname          NaN          NaN   \n",
       "SWZ                           Swaziland          NaN          NaN   \n",
       "SWE                              Sweden     7.019452     7.078323   \n",
       "CHE                         Switzerland     4.620865     4.675008   \n",
       "SYR                Syrian Arab Republic          NaN          NaN   \n",
       "MKD                   TFYR of Macedonia          NaN          NaN   \n",
       "TWN                              Taiwan          NaN     7.758202   \n",
       "TJK                          Tajikistan          NaN          NaN   \n",
       "THA                            Thailand    19.930342    20.538651   \n",
       "TGO                                Togo          NaN          NaN   \n",
       "TTO                 Trinidad and Tobago     0.626041     0.642584   \n",
       "TUN                             Tunisia          NaN          NaN   \n",
       "TUR                              Turkey    20.539025    21.071613   \n",
       "TKM                        Turkmenistan          NaN          NaN   \n",
       "TCA            Turks and Caicos Islands          NaN          NaN   \n",
       "TZA          U.R. of Tanzania: Mainland          NaN          NaN   \n",
       "UGA                              Uganda     5.353486     5.498151   \n",
       "UKR                             Ukraine          NaN          NaN   \n",
       "ARE                United Arab Emirates          NaN          NaN   \n",
       "GBR                      United Kingdom    50.108438    50.271380   \n",
       "USA                       United States   155.563526   158.226907   \n",
       "URY                             Uruguay     2.183504     2.212148   \n",
       "UZB                          Uzbekistan          NaN          NaN   \n",
       "VEN  Venezuela (Bolivarian Republic of)     5.395339     5.619397   \n",
       "VNM                            Viet Nam          NaN          NaN   \n",
       "YEM                               Yemen          NaN          NaN   \n",
       "ZMB                              Zambia          NaN          NaN   \n",
       "ZWE                            Zimbabwe          NaN          NaN   \n",
       "NaN                               Total  1297.150865  1345.407950   \n",
       "\n",
       "            1952         1953         1954         1955         1956  \\\n",
       "iso                                                                    \n",
       "ALB          NaN          NaN          NaN          NaN          NaN   \n",
       "DZA          NaN          NaN          NaN          NaN          NaN   \n",
       "AGO          NaN          NaN          NaN          NaN          NaN   \n",
       "AIA          NaN          NaN          NaN          NaN          NaN   \n",
       "ATG          NaN          NaN          NaN          NaN          NaN   \n",
       "ARG    17.884976    18.238994    18.588894    18.936311    19.280156   \n",
       "ARM          NaN          NaN          NaN          NaN          NaN   \n",
       "ABW          NaN          NaN          NaN          NaN          NaN   \n",
       "AUS     8.859130     9.029064     9.239138     9.456325     9.684162   \n",
       "AUT     6.967351     6.972089     6.979859     6.986573     6.992079   \n",
       "AZE          NaN          NaN          NaN          NaN          NaN   \n",
       "BHS          NaN          NaN          NaN          NaN          NaN   \n",
       "BHR          NaN          NaN          NaN          NaN          NaN   \n",
       "BGD          NaN          NaN          NaN          NaN          NaN   \n",
       "BRB          NaN          NaN          NaN          NaN          NaN   \n",
       "BLR          NaN          NaN          NaN          NaN          NaN   \n",
       "BEL     8.754428     8.802027     8.843648     8.892878     8.948401   \n",
       "BLZ          NaN          NaN          NaN          NaN          NaN   \n",
       "BEN          NaN          NaN          NaN          NaN          NaN   \n",
       "BMU          NaN          NaN          NaN          NaN          NaN   \n",
       "BTN          NaN          NaN          NaN          NaN          NaN   \n",
       "BOL     2.989166     3.053082     3.119086     3.187173     3.257345   \n",
       "BIH          NaN          NaN          NaN          NaN          NaN   \n",
       "BWA          NaN          NaN          NaN          NaN          NaN   \n",
       "BRA    56.778935    58.447918    60.176149    61.966034    63.830273   \n",
       "VGB          NaN          NaN          NaN          NaN          NaN   \n",
       "BRN          NaN          NaN          NaN          NaN          NaN   \n",
       "BGR          NaN          NaN          NaN          NaN          NaN   \n",
       "BFA          NaN          NaN          NaN          NaN          NaN   \n",
       "BDI          NaN          NaN          NaN          NaN          NaN   \n",
       "..           ...          ...          ...          ...          ...   \n",
       "SDN          NaN          NaN          NaN          NaN          NaN   \n",
       "SUR          NaN          NaN          NaN          NaN          NaN   \n",
       "SWZ          NaN          NaN          NaN          NaN          NaN   \n",
       "SWE     7.130206     7.177031     7.219092     7.268028     7.320232   \n",
       "CHE     4.739980     4.801998     4.852203     4.902409     4.966396   \n",
       "SYR          NaN          NaN          NaN          NaN          NaN   \n",
       "MKD          NaN          NaN          NaN          NaN          NaN   \n",
       "TWN     8.046915     8.333009     8.645264     8.967001     9.289545   \n",
       "TJK          NaN          NaN          NaN          NaN          NaN   \n",
       "THA    21.171188    21.842196    22.559011    23.321098    24.109851   \n",
       "TGO          NaN          NaN          NaN          NaN          NaN   \n",
       "TTO     0.656601     0.671905     0.690924     0.714004     0.735500   \n",
       "TUN          NaN          NaN          NaN          NaN          NaN   \n",
       "TUR    21.622335    22.200766    22.816598    23.478574    24.191184   \n",
       "TKM          NaN          NaN          NaN          NaN          NaN   \n",
       "TCA          NaN          NaN          NaN          NaN          NaN   \n",
       "TZA          NaN          NaN          NaN          NaN          NaN   \n",
       "UGA     5.647290     5.801056     5.960199     6.124934     6.295480   \n",
       "UKR          NaN          NaN          NaN          NaN          NaN   \n",
       "ARE          NaN          NaN          NaN          NaN          NaN   \n",
       "GBR    50.411327    50.574265    50.746203    50.927135    51.165046   \n",
       "USA   160.959736   163.647638   166.551085   169.518898   172.555161   \n",
       "URY     2.241906     2.272709     2.305172     2.341586     2.377562   \n",
       "UZB          NaN          NaN          NaN          NaN          NaN   \n",
       "VEN     5.859110     6.111902     6.375198     6.646413     6.927304   \n",
       "VNM          NaN          NaN          NaN          NaN          NaN   \n",
       "YEM          NaN          NaN          NaN          NaN          NaN   \n",
       "ZMB          NaN          NaN          NaN     2.824305     2.895183   \n",
       "ZWE          NaN          NaN     3.122419     3.218476     3.332451   \n",
       "NaN  1935.280272  1990.793408  2033.900242  2106.818024  2147.482175   \n",
       "\n",
       "            1957         1958     ...              2005         2006  \\\n",
       "iso                               ...                                  \n",
       "ALB          NaN          NaN     ...          3.082172     3.050741   \n",
       "DZA          NaN          NaN     ...         33.267887    33.749328   \n",
       "AGO          NaN          NaN     ...         17.912942    18.541467   \n",
       "AIA          NaN          NaN     ...          0.012637     0.012903   \n",
       "ATG          NaN          NaN     ...          0.082565     0.083467   \n",
       "ARG    19.619336    19.955487     ...         39.145491    39.558750   \n",
       "ARM          NaN          NaN     ...          3.014917     3.002161   \n",
       "ABW          NaN          NaN     ...          0.100031     0.100830   \n",
       "AUS     9.900220    10.106834     ...         20.274282    20.606228   \n",
       "AUT     7.005657     7.027278     ...          8.234858     8.269372   \n",
       "AZE          NaN          NaN     ...          8.563398     8.662137   \n",
       "BHS          NaN          NaN     ...          0.329243     0.335801   \n",
       "BHR          NaN          NaN     ...          0.867014     0.940808   \n",
       "BGD          NaN          NaN     ...        142.929979   144.839238   \n",
       "BRB          NaN          NaN     ...          0.274013     0.275040   \n",
       "BLR          NaN          NaN     ...          9.640616     9.594233   \n",
       "BEL     9.013846     9.077617     ...         10.561436    10.632032   \n",
       "BLZ          NaN          NaN     ...          0.283279     0.290751   \n",
       "BEN          NaN          NaN     ...          8.182362     8.443717   \n",
       "BMU          NaN          NaN     ...          0.065124     0.065064   \n",
       "BTN          NaN          NaN     ...          0.651163     0.666920   \n",
       "BOL     3.329646     3.404159     ...          9.125405     9.283345   \n",
       "BIH          NaN          NaN     ...          3.833377     3.838504   \n",
       "BWA          NaN          NaN     ...          1.864003     1.895671   \n",
       "BRA    65.755431    67.743648     ...        188.479240   190.698240   \n",
       "VGB          NaN          NaN     ...          0.023169     0.023908   \n",
       "BRN          NaN          NaN     ...          0.361889     0.368150   \n",
       "BGR          NaN          NaN     ...          7.682614     7.624611   \n",
       "BFA          NaN          NaN     ...         13.421929    13.834195   \n",
       "BDI          NaN          NaN     ...          7.934213     8.218070   \n",
       "..           ...          ...     ...               ...          ...   \n",
       "SDN          NaN          NaN     ...         40.089911    41.254715   \n",
       "SUR          NaN          NaN     ...          0.491999     0.495953   \n",
       "SWZ          NaN          NaN     ...          1.104642     1.118204   \n",
       "SWE     7.369521     7.414898     ...          9.030163     9.087251   \n",
       "CHE     5.046134     5.117997     ...          7.408608     7.480317   \n",
       "SYR          NaN          NaN     ...         18.132842    18.728200   \n",
       "MKD          NaN          NaN     ...          2.042894     2.047330   \n",
       "TWN     9.597690     9.920227     ...         22.729753    22.823455   \n",
       "TJK          NaN          NaN     ...          6.805655     6.949566   \n",
       "THA    24.902867    25.701931     ...         65.863973    66.174486   \n",
       "TGO          NaN          NaN     ...          5.578219     5.732175   \n",
       "TTO     0.757688     0.781165     ...          1.296933     1.303141   \n",
       "TUN          NaN          NaN     ...         10.102477    10.196441   \n",
       "TUR    24.962838    25.774567     ...         67.860617    68.704721   \n",
       "TKM          NaN          NaN     ...          4.747839     4.801594   \n",
       "TCA          NaN          NaN     ...          0.026450     0.027642   \n",
       "TZA          NaN          NaN     ...         37.992600    39.116847   \n",
       "UGA     6.472070     6.654943     ...         28.042413    29.000925   \n",
       "UKR          NaN          NaN     ...         46.795313    46.502718   \n",
       "ARE          NaN          NaN     ...          4.481976     5.171255   \n",
       "GBR    51.410957    51.632875     ...         60.210012    60.648850   \n",
       "USA   175.702775   178.663448     ...        296.139635   298.860519   \n",
       "URY     2.413056     2.448334     ...          3.325608     3.331041   \n",
       "UZB          NaN          NaN     ...         25.922239    26.242947   \n",
       "VEN     7.219630     7.520803     ...         26.769115    27.221228   \n",
       "VNM          NaN          NaN     ...         84.203817    84.979667   \n",
       "YEM          NaN          NaN     ...         20.504385    21.093973   \n",
       "ZMB     2.969015     3.045800     ...         12.043591    12.381509   \n",
       "ZWE     3.442534     3.553766     ...         12.984418    13.127942   \n",
       "NaN  2190.849473  2234.226473     ...       6423.692232  6502.565145   \n",
       "\n",
       "            2007         2008         2009         2010         2011  \\\n",
       "iso                                                                    \n",
       "ALB     3.010849     2.968026     2.929886     2.901883     2.886010   \n",
       "DZA    34.261971    34.811059    35.401790    36.036159    36.717132   \n",
       "AGO    19.183907    19.842251    20.520103    21.219954    21.942296   \n",
       "AIA     0.013145     0.013365     0.013571     0.013768     0.013956   \n",
       "ATG     0.084397     0.085350     0.086300     0.087233     0.088152   \n",
       "ARG    39.969903    40.381860    40.798641    41.222875    41.655616   \n",
       "ARM     2.988117     2.975029     2.966108     2.963496     2.967984   \n",
       "ABW     0.101218     0.101342     0.101416     0.101597     0.101936   \n",
       "AUS    20.975949    21.370348    21.770690    22.162863    22.542371   \n",
       "AUT     8.301290     8.331465     8.361362     8.391986     8.423559   \n",
       "AZE     8.763359     8.868713     8.980488     9.099893     9.227512   \n",
       "BHS     0.342259     0.348587     0.354780     0.360830     0.366711   \n",
       "BHR     1.026568     1.115777     1.196774     1.261319     1.306014   \n",
       "BGD   146.592687   148.252473   149.905836   151.616777   153.405612   \n",
       "BRB     0.276154     0.277315     0.278466     0.279566     0.280602   \n",
       "BLR     9.556061     9.526453     9.505319     9.492122     9.487674   \n",
       "BEL    10.704830    10.779155    10.854388    10.929978    11.005175   \n",
       "BLZ     0.298403     0.306165     0.313925     0.321609     0.329193   \n",
       "BEN     8.707637     8.973525     9.240982     9.509798     9.779391   \n",
       "BMU     0.064891     0.064627     0.064306     0.063954     0.063578   \n",
       "BTN     0.681471     0.694990     0.707830     0.720246     0.732246   \n",
       "BOL     9.441482     9.599916     9.758799     9.918245    10.078238   \n",
       "BIH     3.840418     3.839749     3.837732     3.835258     3.832310   \n",
       "BWA     1.930431     1.967866     2.007212     2.047831     2.089706   \n",
       "BRA   192.784520   194.769700   196.701300   198.614210   200.517580   \n",
       "VGB     0.024735     0.025604     0.026450     0.027223     0.027906   \n",
       "BRN     0.374459     0.380786     0.387080     0.393302     0.399443   \n",
       "BGR     7.568378     7.513646     7.460057     7.407297     7.355231   \n",
       "BFA    14.264002    14.709011    15.165856    15.632066    16.106851   \n",
       "BDI     8.514578     8.821795     9.137786     9.461117     9.790151   \n",
       "..           ...          ...          ...          ...          ...   \n",
       "SDN    42.453455    43.678736    44.920474    46.171360    47.198355   \n",
       "SUR     0.500953     0.506657     0.512522     0.518141     0.523439   \n",
       "SWZ     1.134853     1.153750     1.173529     1.193148     1.212458   \n",
       "SWE     9.153316     9.226333     9.303432     9.382297     9.462352   \n",
       "CHE     7.560141     7.646542     7.737316     7.830534     7.925813   \n",
       "SYR    19.425597    20.097057    20.566871    20.720602    20.501167   \n",
       "MKD     2.051427     2.055266     2.058920     2.062443     2.065888   \n",
       "TWN    22.917444    22.997696    23.078402    23.140948    23.193518   \n",
       "TJK     7.099021     7.254072     7.414960     7.581696     7.753925   \n",
       "THA    66.353572    66.453255    66.548197    66.692024    66.902958   \n",
       "TGO     5.890414     6.052937     6.219761     6.390851     6.566179   \n",
       "TTO     1.309260     1.315372     1.321624     1.328095     1.334790   \n",
       "TUN    10.298717    10.408091    10.522214    10.639194    10.758870   \n",
       "TUR    69.515492    70.344357    71.261307    72.310416    73.517002   \n",
       "TKM     4.858235     4.917541     4.978960     5.041995     5.106672   \n",
       "TCA     0.028638     0.029481     0.030247     0.030993     0.031727   \n",
       "TZA    40.374884    41.659033    42.996062    44.380340    45.810882   \n",
       "UGA    29.991958    31.014427    32.067125    33.149417    34.260342   \n",
       "UKR    46.249196    46.028476    45.830711    45.647497    45.477690   \n",
       "ARE     6.010100     6.900142     7.705423     8.329453     8.734722   \n",
       "GBR    61.151820    61.689620    62.221164    62.716684    63.164949   \n",
       "USA   301.655953   304.473143   307.231961   309.876170   312.390368   \n",
       "URY     3.339750     3.350832     3.362761     3.374414     3.385610   \n",
       "UZB    26.586701    26.952719    27.338109    27.739764    28.158395   \n",
       "VEN    27.670659    28.116716    28.558607    28.995745    29.427631   \n",
       "VNM    85.770717    86.589342    87.449021    88.357775    89.321903   \n",
       "YEM    21.701105    22.322699    22.954226    23.591972    24.234940   \n",
       "ZMB    12.738676    13.114579    13.507849    13.917439    14.343526   \n",
       "ZWE    13.297798    13.495462    13.720997    13.973897    14.255592   \n",
       "NaN  6582.438253  6663.083371  6744.362187  6826.078342  6907.928139   \n",
       "\n",
       "            2012         2013         2014  \n",
       "iso                                         \n",
       "ALB     2.880667     2.883281     2.889676  \n",
       "DZA    37.439427    38.186135    38.934334  \n",
       "AGO    22.685632    23.448202    24.227524  \n",
       "AIA     0.014133     0.014300     0.014460  \n",
       "ATG     0.089069     0.089985     0.090900  \n",
       "ARG    42.095224    42.538304    42.980026  \n",
       "ARM     2.978339     2.992192     3.006154  \n",
       "ABW     0.102393     0.102921     0.103441  \n",
       "AUS    22.911375    23.270465    23.622353  \n",
       "AUT     8.455477     8.486962     8.516916  \n",
       "AZE     9.361477     9.497496     9.629779  \n",
       "BHS     0.372388     0.377841     0.383054  \n",
       "BHR     1.333577     1.349427     1.361930  \n",
       "BGD   155.257387   157.157394   159.077513  \n",
       "BRB     0.281580     0.282503     0.283380  \n",
       "BLR     9.490962     9.497294     9.500422  \n",
       "BEL    11.079521    11.153122    11.226322  \n",
       "BLZ     0.336707     0.344193     0.351706  \n",
       "BEN    10.049792    10.322232    10.598482  \n",
       "BMU     0.063179     0.062773     0.062376  \n",
       "BTN     0.743711     0.754637     0.765008  \n",
       "BOL    10.238762    10.399931    10.561887  \n",
       "BIH     3.828419     3.823533     3.817554  \n",
       "BWA     2.132822     2.176510     2.219937  \n",
       "BRA   202.401580   204.259380   206.077900  \n",
       "VGB     0.028511     0.029058     0.029585  \n",
       "BRN     0.405512     0.411499     0.417394  \n",
       "BGR     7.303741     7.252539     7.201308  \n",
       "BFA    16.590813    17.084554    17.589198  \n",
       "BDI    10.124572    10.465959    10.816860  \n",
       "..           ...          ...          ...  \n",
       "SDN    48.213741    49.239927    50.307669  \n",
       "SUR     0.528535     0.533450     0.538248  \n",
       "SWZ     1.231694     1.250641     1.269112  \n",
       "SWE     9.543457     9.624247     9.703247  \n",
       "CHE     8.022628     8.118719     8.211383  \n",
       "SYR    19.978756    19.322593    18.772481  \n",
       "MKD     2.069270     2.072543     2.075625  \n",
       "TWN    23.270367    23.344670    23.434000  \n",
       "TJK     7.930929     8.111894     8.295840  \n",
       "THA    67.164130    67.451422    67.725979  \n",
       "TGO     6.745581     6.928719     7.115163  \n",
       "TTO     1.341579     1.348240     1.354483  \n",
       "TUN    10.881450    11.005706    11.130154  \n",
       "TUR    74.849187    76.223639    77.523788  \n",
       "TKM     5.172941     5.240088     5.307188  \n",
       "TCA     0.032430     0.033103     0.033740  \n",
       "TZA    47.342140    48.829347    50.443621  \n",
       "UGA    35.400620    36.573387    37.782971  \n",
       "UKR    45.319949    45.165211    45.002497  \n",
       "ARE     8.952542     9.039978     9.086139  \n",
       "GBR    63.573766    63.955654    64.331348  \n",
       "USA   314.799465   317.135919   319.448634  \n",
       "URY     3.396753     3.407969     3.419516  \n",
       "UZB    28.592451    29.033361    29.469913  \n",
       "VEN    29.854238    30.276045    30.693827  \n",
       "VNM    90.335547    91.378752    92.423338  \n",
       "YEM    24.882792    25.533217    26.183676  \n",
       "ZMB    14.786581    15.246086    15.721343  \n",
       "ZWE    14.565482    14.898092    15.245855  \n",
       "NaN  6990.183842  7072.456671  7154.701081  \n",
       "\n",
       "[183 rows x 66 columns]"
      ]
     },
     "execution_count": 258,
     "metadata": {},
     "output_type": "execute_result"
    }
   ],
   "source": [
    "df_pwt"
   ]
  },
  {
   "cell_type": "code",
   "execution_count": 259,
   "metadata": {},
   "outputs": [
    {
     "data": {
      "text/plain": [
       "Index(['country_name', '1980', '1981', '1982', '1983', '1984', '1985', '1986',\n",
       "       '1987', '1988', '1989', '1990', '1991', '1992', '1993', '1994', '1995',\n",
       "       '1996', '1997', '1998', '1999', '2000', '2001', '2002', '2003', '2004',\n",
       "       '2005', '2006', '2007', '2008', '2009', '2010', '2011', '2012', '2013',\n",
       "       '2014', '2015', '2016', 'country_code'],\n",
       "      dtype='object')"
      ]
     },
     "execution_count": 259,
     "metadata": {},
     "output_type": "execute_result"
    }
   ],
   "source": [
    "## Convert imf years from int to str (to be consistent with other datasets)\n",
    "df_imf.columns = map(str, df_imf.columns)\n",
    "df_imf.columns"
   ]
  },
  {
   "cell_type": "code",
   "execution_count": 260,
   "metadata": {},
   "outputs": [
    {
     "name": "stdout",
     "output_type": "stream",
     "text": [
      "(183, 36)\n",
      "(217, 36)\n",
      "(233, 36)\n",
      "(194, 36)\n"
     ]
    }
   ],
   "source": [
    "for dd in ds:\n",
    "    print(dd[cols_of_interest].shape)"
   ]
  },
  {
   "cell_type": "code",
   "execution_count": 261,
   "metadata": {
    "collapsed": true
   },
   "outputs": [],
   "source": [
    "# df_pwt"
   ]
  },
  {
   "cell_type": "code",
   "execution_count": 262,
   "metadata": {
    "collapsed": true
   },
   "outputs": [],
   "source": [
    "# df_pwt.iloc[:182,:]"
   ]
  },
  {
   "cell_type": "code",
   "execution_count": 263,
   "metadata": {
    "collapsed": true
   },
   "outputs": [],
   "source": [
    "total_pwt_pop_row = df_pwt.iloc[:182, 31:].sum(axis=0, numeric_only=True)"
   ]
  },
  {
   "cell_type": "code",
   "execution_count": 264,
   "metadata": {
    "collapsed": true
   },
   "outputs": [],
   "source": [
    "# Calculate total values for PWT, UN and Wb. IMF has them\n",
    "# Check these match with sum calculated via Excel\n",
    "\n",
    "# this method didn't work for me\n",
    "#df_pwt.append({'Total3': total_pwt_pop_row}, ignore_index=True)\n",
    "\n",
    "# df_imf.append(df_imf.sum(skipna=True, numeric_only=True), ignore_index=True)\n",
    "# # source https://stackoverflow.com/questions/21752399/pandas-dataframe-total-row"
   ]
  },
  {
   "cell_type": "code",
   "execution_count": 265,
   "metadata": {
    "collapsed": true
   },
   "outputs": [],
   "source": [
    "df_pwt.loc['Total_pd'] = df_pwt.iloc[:182, 1:].sum()\n",
    "#df_pwt\n",
    "\n",
    "# total calculated via pd vs excel is same.."
   ]
  },
  {
   "cell_type": "code",
   "execution_count": 266,
   "metadata": {
    "collapsed": true
   },
   "outputs": [],
   "source": [
    "# country specific\n",
    "def get_row_by_country_name(_df, country_name):\n",
    "    # Get country by name\n",
    "    return _df[_df['country_name'] == country_name]"
   ]
  },
  {
   "cell_type": "code",
   "execution_count": 267,
   "metadata": {
    "collapsed": true
   },
   "outputs": [],
   "source": [
    "# get only columns of interest\n",
    "cols_for_total = [str(y) for y in range(1980, 2015)]"
   ]
  },
  {
   "cell_type": "markdown",
   "metadata": {},
   "source": [
    "### a) PWT total"
   ]
  },
  {
   "cell_type": "code",
   "execution_count": 268,
   "metadata": {},
   "outputs": [
    {
     "data": {
      "text/html": [
       "<div>\n",
       "<style>\n",
       "    .dataframe thead tr:only-child th {\n",
       "        text-align: right;\n",
       "    }\n",
       "\n",
       "    .dataframe thead th {\n",
       "        text-align: left;\n",
       "    }\n",
       "\n",
       "    .dataframe tbody tr th {\n",
       "        vertical-align: top;\n",
       "    }\n",
       "</style>\n",
       "<table border=\"1\" class=\"dataframe\">\n",
       "  <thead>\n",
       "    <tr style=\"text-align: right;\">\n",
       "      <th></th>\n",
       "      <th>1980</th>\n",
       "      <th>1981</th>\n",
       "      <th>1982</th>\n",
       "      <th>1983</th>\n",
       "      <th>1984</th>\n",
       "      <th>1985</th>\n",
       "      <th>1986</th>\n",
       "      <th>1987</th>\n",
       "      <th>1988</th>\n",
       "      <th>1989</th>\n",
       "      <th>...</th>\n",
       "      <th>2005</th>\n",
       "      <th>2006</th>\n",
       "      <th>2007</th>\n",
       "      <th>2008</th>\n",
       "      <th>2009</th>\n",
       "      <th>2010</th>\n",
       "      <th>2011</th>\n",
       "      <th>2012</th>\n",
       "      <th>2013</th>\n",
       "      <th>2014</th>\n",
       "    </tr>\n",
       "  </thead>\n",
       "  <tbody>\n",
       "    <tr>\n",
       "      <th>0</th>\n",
       "      <td>4067.792483</td>\n",
       "      <td>4143.257371</td>\n",
       "      <td>4220.377104</td>\n",
       "      <td>4299.388723</td>\n",
       "      <td>4380.569063</td>\n",
       "      <td>4464.010935</td>\n",
       "      <td>4549.851998</td>\n",
       "      <td>4637.781818</td>\n",
       "      <td>4726.781921</td>\n",
       "      <td>4826.84662</td>\n",
       "      <td>...</td>\n",
       "      <td>6423.692232</td>\n",
       "      <td>6502.565145</td>\n",
       "      <td>6582.438253</td>\n",
       "      <td>6663.083371</td>\n",
       "      <td>6744.362187</td>\n",
       "      <td>6826.078342</td>\n",
       "      <td>6907.928139</td>\n",
       "      <td>6990.183842</td>\n",
       "      <td>7072.456671</td>\n",
       "      <td>7154.701081</td>\n",
       "    </tr>\n",
       "  </tbody>\n",
       "</table>\n",
       "<p>1 rows × 35 columns</p>\n",
       "</div>"
      ],
      "text/plain": [
       "          1980         1981         1982         1983         1984  \\\n",
       "0  4067.792483  4143.257371  4220.377104  4299.388723  4380.569063   \n",
       "\n",
       "          1985         1986         1987         1988        1989  \\\n",
       "0  4464.010935  4549.851998  4637.781818  4726.781921  4826.84662   \n",
       "\n",
       "      ...              2005         2006         2007         2008  \\\n",
       "0     ...       6423.692232  6502.565145  6582.438253  6663.083371   \n",
       "\n",
       "          2009         2010         2011         2012         2013  \\\n",
       "0  6744.362187  6826.078342  6907.928139  6990.183842  7072.456671   \n",
       "\n",
       "          2014  \n",
       "0  7154.701081  \n",
       "\n",
       "[1 rows x 35 columns]"
      ]
     },
     "execution_count": 268,
     "metadata": {},
     "output_type": "execute_result"
    }
   ],
   "source": [
    "pwt_total = get_row_by_country_name(df_pwt, 'Total')[cols_for_total].reset_index()\n",
    "\n",
    "#pwt_sub.insert(0, 'source', 'pwt')\n",
    "del pwt_total['iso']\n",
    "pwt_total"
   ]
  },
  {
   "cell_type": "markdown",
   "metadata": {},
   "source": [
    "### b) WB Total"
   ]
  },
  {
   "cell_type": "code",
   "execution_count": 269,
   "metadata": {
    "collapsed": true
   },
   "outputs": [],
   "source": [
    "# WB Total\n",
    "df_wb\n",
    "df_wb.loc['Total'] = df_wb.iloc[:, 1:].sum()\n",
    "wb_total = df_wb[cols_for_total].loc['Total']\n",
    "#wb_total.to_dict()"
   ]
  },
  {
   "cell_type": "markdown",
   "metadata": {},
   "source": [
    "### c) IMF Total"
   ]
  },
  {
   "cell_type": "code",
   "execution_count": 270,
   "metadata": {
    "scrolled": false
   },
   "outputs": [
    {
     "data": {
      "text/html": [
       "<div>\n",
       "<style>\n",
       "    .dataframe thead tr:only-child th {\n",
       "        text-align: right;\n",
       "    }\n",
       "\n",
       "    .dataframe thead th {\n",
       "        text-align: left;\n",
       "    }\n",
       "\n",
       "    .dataframe tbody tr th {\n",
       "        vertical-align: top;\n",
       "    }\n",
       "</style>\n",
       "<table border=\"1\" class=\"dataframe\">\n",
       "  <thead>\n",
       "    <tr style=\"text-align: right;\">\n",
       "      <th></th>\n",
       "      <th>1980</th>\n",
       "      <th>1981</th>\n",
       "      <th>1982</th>\n",
       "      <th>1983</th>\n",
       "      <th>1984</th>\n",
       "      <th>1985</th>\n",
       "      <th>1986</th>\n",
       "      <th>1987</th>\n",
       "      <th>1988</th>\n",
       "      <th>1989</th>\n",
       "      <th>...</th>\n",
       "      <th>2005</th>\n",
       "      <th>2006</th>\n",
       "      <th>2007</th>\n",
       "      <th>2008</th>\n",
       "      <th>2009</th>\n",
       "      <th>2010</th>\n",
       "      <th>2011</th>\n",
       "      <th>2012</th>\n",
       "      <th>2013</th>\n",
       "      <th>2014</th>\n",
       "    </tr>\n",
       "  </thead>\n",
       "  <tbody>\n",
       "    <tr>\n",
       "      <th>0</th>\n",
       "      <td>3996.821</td>\n",
       "      <td>4069.095</td>\n",
       "      <td>4144.355</td>\n",
       "      <td>4218.711</td>\n",
       "      <td>4292.474</td>\n",
       "      <td>4368.624</td>\n",
       "      <td>4447.162</td>\n",
       "      <td>4527.179</td>\n",
       "      <td>4605.502</td>\n",
       "      <td>4835.87</td>\n",
       "      <td>...</td>\n",
       "      <td>6406.832</td>\n",
       "      <td>6486.862</td>\n",
       "      <td>6569.934</td>\n",
       "      <td>6649.709</td>\n",
       "      <td>6729.132</td>\n",
       "      <td>6808.318</td>\n",
       "      <td>6868.647</td>\n",
       "      <td>6953.668</td>\n",
       "      <td>7034.943</td>\n",
       "      <td>7116.69</td>\n",
       "    </tr>\n",
       "  </tbody>\n",
       "</table>\n",
       "<p>1 rows × 35 columns</p>\n",
       "</div>"
      ],
      "text/plain": [
       "       1980      1981      1982      1983      1984      1985      1986  \\\n",
       "0  3996.821  4069.095  4144.355  4218.711  4292.474  4368.624  4447.162   \n",
       "\n",
       "       1987      1988     1989   ...         2005      2006      2007  \\\n",
       "0  4527.179  4605.502  4835.87   ...     6406.832  6486.862  6569.934   \n",
       "\n",
       "       2008      2009      2010      2011      2012      2013     2014  \n",
       "0  6649.709  6729.132  6808.318  6868.647  6953.668  7034.943  7116.69  \n",
       "\n",
       "[1 rows x 35 columns]"
      ]
     },
     "execution_count": 270,
     "metadata": {},
     "output_type": "execute_result"
    }
   ],
   "source": [
    "imf_total = get_row_by_country_name(df_imf, 'Total').reset_index()[cols_for_total]\n",
    "imf_total"
   ]
  },
  {
   "cell_type": "markdown",
   "metadata": {},
   "source": [
    "### d) UN total"
   ]
  },
  {
   "cell_type": "code",
   "execution_count": 271,
   "metadata": {},
   "outputs": [
    {
     "data": {
      "text/plain": [
       "{'1980': 4458411.5340000037,\n",
       " '1981': 4537845.7769999998,\n",
       " '1982': 4618776.1680000005,\n",
       " '1983': 4701530.8429999994,\n",
       " '1984': 4786483.8619999988,\n",
       " '1985': 4873781.7960000029,\n",
       " '1986': 4963633.2279999992,\n",
       " '1987': 5055636.1320000011,\n",
       " '1988': 5148556.956000003,\n",
       " '1989': 5240735.1169999996,\n",
       " '1990': 5330943.46,\n",
       " '1991': 5418758.8029999975,\n",
       " '1992': 5504401.1489999946,\n",
       " '1993': 5588094.8370000059,\n",
       " '1994': 5670319.7029999979,\n",
       " '1995': 5751474.4160000002,\n",
       " '1996': 5831565.0199999996,\n",
       " '1997': 5910566.294999999,\n",
       " '1998': 5988846.1029999964,\n",
       " '1999': 6066867.3910000017,\n",
       " '2000': 6145006.9890000001,\n",
       " '2001': 6223412.157999998,\n",
       " '2002': 6302149.6390000032,\n",
       " '2003': 6381408.9869999979,\n",
       " '2004': 6461370.865000003,\n",
       " '2005': 6542159.3830000032,\n",
       " '2006': 6623847.9130000016,\n",
       " '2007': 6706418.5930000022,\n",
       " '2008': 6789771.2530000033,\n",
       " '2009': 6873741.0540000014,\n",
       " '2010': 6958169.1589999981,\n",
       " '2011': 7043008.5860000011,\n",
       " '2012': 7128176.9350000015,\n",
       " '2013': 7213426.4520000014,\n",
       " '2014': 7298453.0329999933}"
      ]
     },
     "execution_count": 271,
     "metadata": {},
     "output_type": "execute_result"
    }
   ],
   "source": [
    "un_total =df_un[cols_of_interest].iloc[:, 1:].sum()\n",
    "un_total.to_dict() # pd.Series"
   ]
  },
  {
   "cell_type": "code",
   "execution_count": 272,
   "metadata": {
    "collapsed": true
   },
   "outputs": [],
   "source": [
    "imf_total = imf_total.loc[0] # convert to series"
   ]
  },
  {
   "cell_type": "code",
   "execution_count": 273,
   "metadata": {},
   "outputs": [
    {
     "ename": "FileNotFoundError",
     "evalue": "[Errno 2] No such file or directory: 'combined_data/total_population_all_sources.csv'",
     "output_type": "error",
     "traceback": [
      "\u001b[0;31m---------------------------------------------------------------------------\u001b[0m",
      "\u001b[0;31mFileNotFoundError\u001b[0m                         Traceback (most recent call last)",
      "\u001b[0;32m<ipython-input-273-cc403ed479c9>\u001b[0m in \u001b[0;36m<module>\u001b[0;34m()\u001b[0m\n\u001b[1;32m      6\u001b[0m })\n\u001b[1;32m      7\u001b[0m \u001b[0;34m\u001b[0m\u001b[0m\n\u001b[0;32m----> 8\u001b[0;31m \u001b[0mdf_pop_total\u001b[0m\u001b[0;34m.\u001b[0m\u001b[0mto_csv\u001b[0m\u001b[0;34m(\u001b[0m\u001b[0;34m'combined_data/total_population_all_sources.csv'\u001b[0m\u001b[0;34m)\u001b[0m\u001b[0;34m\u001b[0m\u001b[0m\n\u001b[0m",
      "\u001b[0;32m~/miniconda/envs/rhg/lib/python3.6/site-packages/pandas/core/frame.py\u001b[0m in \u001b[0;36mto_csv\u001b[0;34m(self, path_or_buf, sep, na_rep, float_format, columns, header, index, index_label, mode, encoding, compression, quoting, quotechar, line_terminator, chunksize, tupleize_cols, date_format, doublequote, escapechar, decimal)\u001b[0m\n\u001b[1;32m   1401\u001b[0m                                      \u001b[0mdoublequote\u001b[0m\u001b[0;34m=\u001b[0m\u001b[0mdoublequote\u001b[0m\u001b[0;34m,\u001b[0m\u001b[0;34m\u001b[0m\u001b[0m\n\u001b[1;32m   1402\u001b[0m                                      escapechar=escapechar, decimal=decimal)\n\u001b[0;32m-> 1403\u001b[0;31m         \u001b[0mformatter\u001b[0m\u001b[0;34m.\u001b[0m\u001b[0msave\u001b[0m\u001b[0;34m(\u001b[0m\u001b[0;34m)\u001b[0m\u001b[0;34m\u001b[0m\u001b[0m\n\u001b[0m\u001b[1;32m   1404\u001b[0m \u001b[0;34m\u001b[0m\u001b[0m\n\u001b[1;32m   1405\u001b[0m         \u001b[0;32mif\u001b[0m \u001b[0mpath_or_buf\u001b[0m \u001b[0;32mis\u001b[0m \u001b[0;32mNone\u001b[0m\u001b[0;34m:\u001b[0m\u001b[0;34m\u001b[0m\u001b[0m\n",
      "\u001b[0;32m~/miniconda/envs/rhg/lib/python3.6/site-packages/pandas/io/formats/format.py\u001b[0m in \u001b[0;36msave\u001b[0;34m(self)\u001b[0m\n\u001b[1;32m   1575\u001b[0m             f, handles = _get_handle(self.path_or_buf, self.mode,\n\u001b[1;32m   1576\u001b[0m                                      \u001b[0mencoding\u001b[0m\u001b[0;34m=\u001b[0m\u001b[0mself\u001b[0m\u001b[0;34m.\u001b[0m\u001b[0mencoding\u001b[0m\u001b[0;34m,\u001b[0m\u001b[0;34m\u001b[0m\u001b[0m\n\u001b[0;32m-> 1577\u001b[0;31m                                      compression=self.compression)\n\u001b[0m\u001b[1;32m   1578\u001b[0m             \u001b[0mclose\u001b[0m \u001b[0;34m=\u001b[0m \u001b[0;32mTrue\u001b[0m\u001b[0;34m\u001b[0m\u001b[0m\n\u001b[1;32m   1579\u001b[0m \u001b[0;34m\u001b[0m\u001b[0m\n",
      "\u001b[0;32m~/miniconda/envs/rhg/lib/python3.6/site-packages/pandas/io/common.py\u001b[0m in \u001b[0;36m_get_handle\u001b[0;34m(path_or_buf, mode, encoding, compression, memory_map, is_text)\u001b[0m\n\u001b[1;32m    383\u001b[0m         \u001b[0;32melif\u001b[0m \u001b[0mis_text\u001b[0m\u001b[0;34m:\u001b[0m\u001b[0;34m\u001b[0m\u001b[0m\n\u001b[1;32m    384\u001b[0m             \u001b[0;31m# Python 3 and no explicit encoding\u001b[0m\u001b[0;34m\u001b[0m\u001b[0;34m\u001b[0m\u001b[0m\n\u001b[0;32m--> 385\u001b[0;31m             \u001b[0mf\u001b[0m \u001b[0;34m=\u001b[0m \u001b[0mopen\u001b[0m\u001b[0;34m(\u001b[0m\u001b[0mpath_or_buf\u001b[0m\u001b[0;34m,\u001b[0m \u001b[0mmode\u001b[0m\u001b[0;34m,\u001b[0m \u001b[0merrors\u001b[0m\u001b[0;34m=\u001b[0m\u001b[0;34m'replace'\u001b[0m\u001b[0;34m)\u001b[0m\u001b[0;34m\u001b[0m\u001b[0m\n\u001b[0m\u001b[1;32m    386\u001b[0m         \u001b[0;32melse\u001b[0m\u001b[0;34m:\u001b[0m\u001b[0;34m\u001b[0m\u001b[0m\n\u001b[1;32m    387\u001b[0m             \u001b[0;31m# Python 3 and binary mode\u001b[0m\u001b[0;34m\u001b[0m\u001b[0;34m\u001b[0m\u001b[0m\n",
      "\u001b[0;31mFileNotFoundError\u001b[0m: [Errno 2] No such file or directory: 'combined_data/total_population_all_sources.csv'"
     ]
    }
   ],
   "source": [
    "df_pop_total = pd.DataFrame({\n",
    "    'un': un_total* 10**3,\n",
    "    'wb': wb_total,\n",
    "    'imf': imf_total*10**6,\n",
    "    'pwt': pwt_total.loc[0]*10**6\n",
    "})\n",
    "\n",
    "df_pop_total.to_csv('combined_data/total_population_all_sources.csv')"
   ]
  },
  {
   "cell_type": "code",
   "execution_count": null,
   "metadata": {
    "collapsed": true
   },
   "outputs": [],
   "source": []
  },
  {
   "cell_type": "code",
   "execution_count": null,
   "metadata": {},
   "outputs": [],
   "source": [
    "plt.close()\n",
    "\n",
    "a = df_pop_total.plot(style=['bo-','ro-', 'yo-', 'go-'], figsize=(15,10), fontsize=14, grid=True, rot=320, colormap='tab10')\n",
    "# pwt9.set_index(['countrycode', 'year']).unstack('year')['rgdpe_pc'].loc[['IND', 'IDN', 'BRA', 'CHN']].T.plot(style='*')\n",
    "\n",
    "type(a)\n",
    "a.set_xlabel('Years', fontsize=14)\n",
    "a.set_ylabel('Total population (in billion)', fontsize=14)\n",
    "a.set_title('Total Population (1980-2014) from different sources', fontsize=14)\n"
   ]
  },
  {
   "cell_type": "code",
   "execution_count": null,
   "metadata": {
    "scrolled": false
   },
   "outputs": [],
   "source": [
    "plt.close()\n",
    "\n",
    "a = df_pop_total.plot(style=['bs-','ro-', 'y^-', 'g*'], figsize=(15,10), fontsize=14, grid=True, rot=320, colormap='tab10')\n",
    "# pwt9.set_index(['countrycode', 'year']).unstack('year')['rgdpe_pc'].loc[['IND', 'IDN', 'BRA', 'CHN']].T.plot(style='*')\n",
    "\n",
    "type(a)\n",
    "a.set_xlabel('Years', fontsize=14)\n",
    "a.set_ylabel('Total population (in billion)', fontsize=14)\n",
    "a.set_title('Total Population (1980-2014) from different sources', fontsize=14)\n"
   ]
  },
  {
   "cell_type": "code",
   "execution_count": null,
   "metadata": {
    "collapsed": true
   },
   "outputs": [],
   "source": [
    "#sns.reset_orig() -> removes seaborn touch of gray background!\n"
   ]
  },
  {
   "cell_type": "code",
   "execution_count": null,
   "metadata": {},
   "outputs": [],
   "source": [
    "df_pop_total.plot(kind='scatter', x='pwt', y='imf', c='un', s=50);\n"
   ]
  },
  {
   "cell_type": "code",
   "execution_count": null,
   "metadata": {
    "collapsed": true
   },
   "outputs": [],
   "source": []
  },
  {
   "cell_type": "markdown",
   "metadata": {},
   "source": [
    "#### Why does WB have higher population than others? (verify summing process was correct)"
   ]
  },
  {
   "cell_type": "markdown",
   "metadata": {},
   "source": [
    "### Compare growth rate values of total population"
   ]
  },
  {
   "cell_type": "markdown",
   "metadata": {},
   "source": [
    "### Calculate percent change!\n"
   ]
  },
  {
   "cell_type": "code",
   "execution_count": null,
   "metadata": {},
   "outputs": [],
   "source": [
    "# calculate percent change!\n",
    "    \n",
    "print(df_pop_total['wb'].pct_change().tolist())"
   ]
  },
  {
   "cell_type": "code",
   "execution_count": null,
   "metadata": {
    "scrolled": true
   },
   "outputs": [],
   "source": [
    "test = df_pop_total['wb'].head()\n",
    "(test[2]-test[1])*1.0 / test[1]\n",
    "pct_del = lambda _s, idx: (_s[idx]-_s[idx-1]*1.0)/_s[idx-1]\n",
    "print(pct_del(test,3))\n",
    "print(pct_del(test,2))\n",
    "print(pct_del(test,1))"
   ]
  },
  {
   "cell_type": "markdown",
   "metadata": {},
   "source": [
    "## Create Multi-Index of 4 Data sets to convert to xarray\n",
    "\n",
    "Mike's guide:\n",
    "\n",
    "Restructure pd dataframe so these are indexes\n",
    "\n",
    "    country_code\n",
    "    year\n",
    "    source\n",
    "\n",
    "cols as variable names\n",
    "index as dimensions\n",
    "\n",
    "    1. Each df drop everything that's not a year [x]\n",
    "    \n",
    "country_name is meta data to country_code -> let's drop country_name (easiet)\n",
    "\n",
    "    2. Set the name of the columns to be quote 'year'\n",
    "\n",
    "`df.column.name = 'year'` set column index\n",
    "\n",
    "    3. `df.stack('year')` -> will return series (with two indices iso and year) with single value for iso-year combo\n",
    "\n",
    "    4. pd.concat(\n",
    "        {\n",
    "            'wb': serires,\n",
    "            'pwt': ..,\n",
    "        }, axis=0, names=['source'])\n",
    "\n",
    "names -> name of resulting index\n",
    "\n",
    "#join all series along 0 axis"
   ]
  },
  {
   "cell_type": "code",
   "execution_count": null,
   "metadata": {
    "collapsed": true
   },
   "outputs": [],
   "source": [
    "def is_year(_y):\n",
    "    try:\n",
    "        float(_y)\n",
    "        return True\n",
    "    except ValueError:\n",
    "        return False"
   ]
  },
  {
   "cell_type": "code",
   "execution_count": null,
   "metadata": {
    "collapsed": true
   },
   "outputs": [],
   "source": [
    "assert is_year('1950') == True\n",
    "assert is_year(1950) == True\n",
    "assert is_year('country_name') == False"
   ]
  },
  {
   "cell_type": "markdown",
   "metadata": {},
   "source": [
    "## 1. Drop all non-years"
   ]
  },
  {
   "cell_type": "code",
   "execution_count": null,
   "metadata": {
    "collapsed": true
   },
   "outputs": [],
   "source": [
    "def drop_non_years(_df):\n",
    "    def _is_year(_y):\n",
    "        try:\n",
    "            float(_y)\n",
    "            return True\n",
    "        except ValueError:\n",
    "            return False\n",
    "    return _df[[x for x in _df.columns if _is_year(x)]] "
   ]
  },
  {
   "cell_type": "code",
   "execution_count": null,
   "metadata": {
    "collapsed": true
   },
   "outputs": [],
   "source": [
    "df_pwt_yr = drop_non_years(df_pwt)\n",
    "df_imf_yr = drop_non_years(df_imf)\n",
    "df_wb_yr = drop_non_years(df_wb)\n",
    "df_un_yr = drop_non_years(df_un)"
   ]
  },
  {
   "cell_type": "code",
   "execution_count": null,
   "metadata": {
    "collapsed": true
   },
   "outputs": [],
   "source": [
    "df_pwt_yr.columns = df_pwt_yr.columns.astype(int)\n",
    "df_imf_yr.columns = df_imf_yr.columns.astype(int)\n",
    "df_wb_yr.columns = df_wb_yr.columns.astype(int)\n",
    "df_un_yr.columns = df_un_yr.columns.astype(int)"
   ]
  },
  {
   "cell_type": "code",
   "execution_count": null,
   "metadata": {
    "collapsed": true
   },
   "outputs": [],
   "source": [
    "# df_wb_yr # checked with excel data\n",
    "# df_un_yr"
   ]
  },
  {
   "cell_type": "code",
   "execution_count": null,
   "metadata": {
    "collapsed": true
   },
   "outputs": [],
   "source": [
    "# might no longer be necessary due to drop_non_years\n",
    "#del df_imf['country_code']"
   ]
  },
  {
   "cell_type": "markdown",
   "metadata": {},
   "source": [
    "## 2. Set the name of the columns to be quote 'year'"
   ]
  },
  {
   "cell_type": "code",
   "execution_count": null,
   "metadata": {
    "collapsed": true
   },
   "outputs": [],
   "source": [
    "def set_year_as_col_name(_df):\n",
    "    _df.columns.name = 'year'\n",
    "    return _df"
   ]
  },
  {
   "cell_type": "code",
   "execution_count": null,
   "metadata": {
    "collapsed": true
   },
   "outputs": [],
   "source": [
    "ls_of_df_yrs = [df_pwt_yr, df_imf_yr, df_wb_yr, df_un_yr]"
   ]
  },
  {
   "cell_type": "code",
   "execution_count": null,
   "metadata": {
    "collapsed": true,
    "scrolled": true
   },
   "outputs": [],
   "source": [
    "# df_test = df_pwt_yr.copy()\n",
    "# df_test.columns.name = 'year'\n",
    "# df_test"
   ]
  },
  {
   "cell_type": "code",
   "execution_count": null,
   "metadata": {
    "collapsed": true
   },
   "outputs": [],
   "source": [
    "#lazy to name explicitly\n",
    "[pwt_source, imf_source, wb_source, un_source] = [set_year_as_col_name(_df) for _df in ls_of_df_yrs]"
   ]
  },
  {
   "cell_type": "markdown",
   "metadata": {},
   "source": [
    "### 3. Stack year"
   ]
  },
  {
   "cell_type": "code",
   "execution_count": null,
   "metadata": {
    "collapsed": true
   },
   "outputs": [],
   "source": [
    "def stack_year(_df):\n",
    "    return _df.stack('year')\n",
    "\n",
    "#`df.stack('year')` -> will return series (with two indices iso and year) with single value for iso-year combo"
   ]
  },
  {
   "cell_type": "markdown",
   "metadata": {},
   "source": [
    "### 3.5 Convert units"
   ]
  },
  {
   "cell_type": "code",
   "execution_count": null,
   "metadata": {
    "collapsed": true
   },
   "outputs": [],
   "source": [
    "pwt_source = pwt_source * 10**6 \n",
    "imf_source = imf_source * 10**6\n",
    "wb_source = wb_source\n",
    "un_source = un_source * 10**3"
   ]
  },
  {
   "cell_type": "markdown",
   "metadata": {},
   "source": [
    "### 4. Concat all munged, multiindex `sources`"
   ]
  },
  {
   "cell_type": "code",
   "execution_count": null,
   "metadata": {
    "collapsed": true
   },
   "outputs": [],
   "source": [
    "# order is: pwt, imf, wb, un\n",
    "\n",
    "combined = pd.concat({\n",
    "    'pwt': stack_year(pwt_source),\n",
    "    'imf': stack_year(imf_source),\n",
    "    'wb': stack_year(wb_source),\n",
    "    'un': stack_year(un_source)}, axis=0, names=['source'])"
   ]
  },
  {
   "cell_type": "code",
   "execution_count": null,
   "metadata": {
    "scrolled": true
   },
   "outputs": [],
   "source": [
    "combined.index.get_level_values('iso')\n",
    "final = combined[combined.index.get_level_values('iso') != 'Total']\n",
    "final = final[np.in1d(final.index.get_level_values('iso'), ['Total', 'World', 'Total_pd', np.nan, 'nan'], invert=True)]\n",
    "final = final[~pd.isnull(final.index.get_level_values('iso'))]\n",
    "\n",
    "# World, \n",
    "\n",
    "#print(final.index.get_level_values('iso').unique().tolist())\n",
    "\n",
    "# all values in each row of df\n",
    "final"
   ]
  },
  {
   "cell_type": "code",
   "execution_count": null,
   "metadata": {
    "scrolled": false
   },
   "outputs": [],
   "source": [
    "da = final.to_xarray()\n",
    "da"
   ]
  },
  {
   "cell_type": "code",
   "execution_count": null,
   "metadata": {},
   "outputs": [],
   "source": [
    "da.isnull().any(dim='source')"
   ]
  },
  {
   "cell_type": "code",
   "execution_count": null,
   "metadata": {
    "scrolled": true
   },
   "outputs": [],
   "source": [
    "# 2010 data for countries with complete coverage across all datasets\n",
    "complete_coverage_2010 = da.sel(iso=da.iso[~da.sel(year=2010).isnull().any(dim='source')], year=2010)\n",
    "complete_coverage_2010"
   ]
  },
  {
   "cell_type": "code",
   "execution_count": null,
   "metadata": {},
   "outputs": [],
   "source": [
    "# variance (a measure of spread) across sources, indexed by iso (single number per iso)\n",
    "complete_coverage_2010.var(dim='source').argmax(dim='iso') #-> positional index of max value (30th country)\n",
    "\n",
    "# isel -> positional selection along given dimension\n",
    "\n",
    "# alternatively, can do max - min to get spread\n",
    "#complete_coverage_2010.max(dim='source') - complete_coverage_2010.min(dim='source')\n"
   ]
  },
  {
   "cell_type": "code",
   "execution_count": null,
   "metadata": {
    "scrolled": true
   },
   "outputs": [],
   "source": [
    "# Mike's one liner\n",
    "complete_coverage_2010.isel(\n",
    "    iso=complete_coverage_2010.var(dim='source').argmax(dim='iso'))\n",
    "\n",
    "# returns China values"
   ]
  },
  {
   "cell_type": "code",
   "execution_count": null,
   "metadata": {},
   "outputs": [],
   "source": [
    "da.sel(year=2010, iso='CHN').max(dim='source') - da.sel(year=2010, iso='CHN').min(dim='source') "
   ]
  },
  {
   "cell_type": "code",
   "execution_count": null,
   "metadata": {},
   "outputs": [],
   "source": [
    "da.sel(year=2010, iso='CHN')"
   ]
  },
  {
   "cell_type": "code",
   "execution_count": null,
   "metadata": {},
   "outputs": [],
   "source": [
    "da.sel(year=2010, iso='IND').max(dim='source') - da.sel(year=2010, iso='IND').min(dim='source') "
   ]
  },
  {
   "cell_type": "code",
   "execution_count": null,
   "metadata": {
    "scrolled": false
   },
   "outputs": [],
   "source": [
    "da.sel(year=2010, iso='IND')"
   ]
  },
  {
   "cell_type": "code",
   "execution_count": null,
   "metadata": {
    "collapsed": true
   },
   "outputs": [],
   "source": [
    "## China!"
   ]
  },
  {
   "cell_type": "code",
   "execution_count": null,
   "metadata": {},
   "outputs": [],
   "source": [
    "china = da.sel(iso='CHN').to_series().unstack('source')\n",
    "china.plot(style='*', figsize=(15,10), grid=True, rot=320, alpha=.5, ms=12, colormap='tab10')"
   ]
  },
  {
   "cell_type": "code",
   "execution_count": null,
   "metadata": {},
   "outputs": [],
   "source": [
    "china = da.sel(iso='CHN').to_series().unstack('source')\n",
    "china.plot(style='*', figsize=(15,10), grid=True, rot=320, alpha=.5, ms=12, colormap='tab10')"
   ]
  },
  {
   "cell_type": "code",
   "execution_count": null,
   "metadata": {
    "collapsed": true
   },
   "outputs": [],
   "source": [
    "## India Line plot by sourcd"
   ]
  },
  {
   "cell_type": "code",
   "execution_count": null,
   "metadata": {},
   "outputs": [],
   "source": [
    "india = da.sel(iso='IND').to_series().unstack('source')\n",
    "(abs(india['wb'] - india['un']).fillna(0) < 1e-3).all() # no difference\n",
    "india\n",
    "\n",
    "(india['pwt'] - india['un']).plot(style='o', figsize=(12,10)) \n",
    "# india"
   ]
  },
  {
   "cell_type": "code",
   "execution_count": null,
   "metadata": {
    "scrolled": false
   },
   "outputs": [],
   "source": [
    "da.sel(iso='IND').to_series().unstack('source').plot(style='*', figsize=(15,10), grid=True, rot=320, alpha=.5, ms=12, colormap='tab10')"
   ]
  },
  {
   "cell_type": "markdown",
   "metadata": {
    "collapsed": true
   },
   "source": [
    "### USA!"
   ]
  },
  {
   "cell_type": "code",
   "execution_count": null,
   "metadata": {
    "scrolled": true
   },
   "outputs": [],
   "source": [
    "usa = da.sel(iso='USA').to_series().unstack('source')\n",
    "b = usa.plot(style=['b*-','r*-', 'y*-', 'g*-'], figsize=(15,10), grid=True, rot=320, alpha=.5, ms=10, colormap='tab10')\n",
    "b.set_xlabel('Years', fontsize=14)\n",
    "b.set_ylabel('USA Population (in 100s of mil)', fontsize=14)\n",
    "b.set_title('USA Population from Different Sources', fontsize=14)"
   ]
  }
 ],
 "metadata": {
  "kernelspec": {
   "display_name": "Python 3",
   "language": "python",
   "name": "python3"
  },
  "language_info": {
   "codemirror_mode": {
    "name": "ipython",
    "version": 3
   },
   "file_extension": ".py",
   "mimetype": "text/x-python",
   "name": "python",
   "nbconvert_exporter": "python",
   "pygments_lexer": "ipython3",
   "version": "3.6.3"
  }
 },
 "nbformat": 4,
 "nbformat_minor": 2
}
