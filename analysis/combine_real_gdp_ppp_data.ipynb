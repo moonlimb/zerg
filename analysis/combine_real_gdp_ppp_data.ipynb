{
 "cells": [
  {
   "cell_type": "code",
   "execution_count": 1,
   "metadata": {
    "collapsed": true
   },
   "outputs": [],
   "source": [
    "import os\n",
    "\n",
    "import matplotlib.pylab as plt\n",
    "import numpy as np\n",
    "import pandas as pd\n",
    "import seaborn as sns\n",
    "import xarray as xr\n",
    "\n",
    "% matplotlib inline\n",
    "sns.set()\n",
    "sns.set_color_codes()"
   ]
  },
  {
   "cell_type": "markdown",
   "metadata": {},
   "source": [
    "# Construct xarray for real gdp series (PPP)\n",
    "\n",
    "### Normalize data sets to be constant to 2015\n",
    "\n",
    "* Construct xarray for PPP values (PWT, WB to start)\n",
    "\n",
    "    * a) Compute GDP index (PPP-real series) **<span style=\"color:white; background:maroon;\">STARTED</span>**\n",
    "        * WB\n",
    "        * PWT\n",
    "        * any other?? (IMF using PPPs ourselves?)\n",
    "    * b) Retrieve GDP nominal/current series\n",
    "\n",
    "* Multiply a) by b) to calculate real series constant to same year! \n",
    "\n",
    "* Analysis\n",
    "\n",
    "    a) world total \n",
    "    \n",
    "    b) world total, countries with missing data removed\n",
    "    \n",
    "    c) mortality\n",
    "    \n",
    "\n",
    "| source     | PPP year/source|  \n",
    "|---------|------|\n",
    "| WB      |  ICP 2011+ OECD/Eurostats |  \n",
    "| PWT_rgdpne| ICP 2011+ OECD/Eurostats|\n",
    "\n",
    "#### Table1: PPP values used by the sources\n",
    "\n",
    "Status:\n",
    "**<span style=\"color:lime; background:green;\">In Progress</span>** \n",
    "**<span style=\"color:white; background:maroon;\">STARTED</span>**\n",
    "**<span style=\"color:white; background:limegreen;\">DONE</span>**\n"
   ]
  },
  {
   "cell_type": "code",
   "execution_count": 14,
   "metadata": {
    "collapsed": true
   },
   "outputs": [],
   "source": [
    "dir_path = os.environ['ZERG'] + '{}'                                                                  "
   ]
  },
  {
   "cell_type": "markdown",
   "metadata": {},
   "source": [
    "## Open file"
   ]
  },
  {
   "cell_type": "code",
   "execution_count": 23,
   "metadata": {
    "collapsed": true
   },
   "outputs": [],
   "source": [
    "# download available data - PWT vs WB\n",
    "# 1) download Wb data\n",
    "\n",
    "wb_ppp_constant = dir_path.format('data/wb/gdp/gdp_ppp_constant/API_NY.GDP.MKTP.PP.KD_DS2_en_csv_v2.csv') # KD for constant\n",
    "wb_ppp_current = dir_path.format('data/wb/gdp/gdp_ppp_current/API_NY.GDP.MKTP.PP.CD_DS2_en_csv_v2.csv') # CD for current\n",
    "# saved in `compare_gdp_market` file. \n",
    "wb_mkt_current = dir_path.format('data/output_data/wb_gdp_current_prepped.csv')\n",
    "wb_mkt_constant = dir_path.format('data/output_data/wb_gdp_constant_prepped.csv')\n",
    "\n",
    "# 2) download pwt data\n",
    "pwt_rgdpe = dir_path.format('data/output_data/pwt_iso_all_cols.csv') # both pwt rgdpe and rgpdo"
   ]
  },
  {
   "cell_type": "code",
   "execution_count": null,
   "metadata": {
    "collapsed": true
   },
   "outputs": [],
   "source": []
  },
  {
   "cell_type": "code",
   "execution_count": null,
   "metadata": {
    "collapsed": true
   },
   "outputs": [],
   "source": [
    "# pwt_gdi = calculate_real_gdp_index(pwt_rgdpna_prepped, 'pwt')\n",
    "# ls = [un_gdi_norm_meta, \n",
    "#  wb_gdi_norm_meta, \n",
    "#  weo_gdi_norm_meta, \n",
    "#  pwt_gdi_norm_meta] = normalize_real_gdi([(un_gdi, 'un'), (wb_gdi,'wb'), (weo_gdi, 'weo'), (pwt_gdi, 'pwt')], 2014)\n",
    " "
   ]
  },
  {
   "cell_type": "code",
   "execution_count": null,
   "metadata": {
    "collapsed": true
   },
   "outputs": [],
   "source": [
    "# pwt_rgdpna_prepped = pwt_multiindex.reset_index().set_index(['iso', 'year']).unstack('year')['rgdpna']\n",
    "# pwt14_stacked = stack_year(pwt_2014)['rgdpna']\n",
    "# combined14 = pd.concat({\n",
    "#     'pwt': pwt14_stacked*10**6,\n",
    "#     'wb': wb14_stacked,\n",
    "#     'un': un14_stacked,\n",
    "#     'imf_weo': weo14_stacked*10**9}, axis=0, names=['source'])\n",
    "# # final14 = combined14[combined14.index.get_level_values('iso') != 'Total']\n",
    "\n",
    "# # drops any country names with total/world/nan/np.nan (empty rows)\n",
    "# final14 = combined14[np.in1d(combined14.index.get_level_values('iso'), ['Total', 'World', np.nan, 'nan'], invert=True)]\n",
    "# final14 = final14[~pd.isnull(final14.index.get_level_values('iso'))]\n",
    "\n",
    "# # final14.index.get_level_values('source').unique()\n",
    "# da14 = final14.to_xarray()\n",
    "\n",
    "# real_gdp_2014_path = dir_path + 'data/output_data/real_gdp_2014_four_sources3.nc'\n",
    "\n",
    "# if os.path.exists(real_gdp_2014_path):\n",
    "#     os.remove(real_gdp_2014_path)\n",
    "    \n",
    "# da14.to_netcdf(real_gdp_2014_path, mode='w')"
   ]
  },
  {
   "cell_type": "code",
   "execution_count": null,
   "metadata": {
    "collapsed": true
   },
   "outputs": [],
   "source": [
    "\n",
    "\n",
    "# munge\n",
    "# combine\n",
    "# output to nc"
   ]
  }
 ],
 "metadata": {
  "kernelspec": {
   "display_name": "Python 3",
   "language": "python",
   "name": "python3"
  },
  "language_info": {
   "codemirror_mode": {
    "name": "ipython",
    "version": 3
   },
   "file_extension": ".py",
   "mimetype": "text/x-python",
   "name": "python",
   "nbconvert_exporter": "python",
   "pygments_lexer": "ipython3",
   "version": "3.6.3"
  }
 },
 "nbformat": 4,
 "nbformat_minor": 2
}
