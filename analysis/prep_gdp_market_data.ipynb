{
 "cells": [
  {
   "cell_type": "code",
   "execution_count": 493,
   "metadata": {
    "collapsed": true
   },
   "outputs": [],
   "source": [
    "import os\n",
    "\n",
    "import matplotlib.pylab as plt\n",
    "import numpy as np\n",
    "import pandas as pd\n",
    "import seaborn as sns\n",
    "import xarray as xr\n",
    "\n",
    "from pandas import IndexSlice as idx\n",
    "\n",
    "% matplotlib inline\n",
    "sns.set()\n",
    "sns.set_color_codes()"
   ]
  },
  {
   "cell_type": "markdown",
   "metadata": {},
   "source": [
    "# Construct xarray for real gdp series \n",
    "\n",
    "### Normalize data sets to be constant to 2015\n",
    "\n",
    "* Construct xarray with other sources (PWT rgdpna, UN, WB, WEO) \n",
    "  \n",
    "* Construct GDP real index **<span style=\"color:white; background:limegreen;\">DONE</span>**\n",
    "    * UN: nominal series x gdp index **<span style=\"color:white; background:limegreen;\">DONE</span>** (total x)\n",
    "    * WB: nominal series x gdp index **<span style=\"color:white; background:limegreen;\">DONE</span>**\n",
    "    * IMF_WEO: calculate gdp index  **<span style=\"color:white; background:limegreen;\">DONE</span>**\n",
    "    * PWT rgdpna: **<span style=\"color:white; background:limegreen;\">DONE</span>**\n",
    "\n",
    "\n",
    "### On separate analysis noteb ook\n",
    "* Compare top 10 countries\n",
    "* Compare mortality countries\n",
    "\n",
    "\n",
    "| source     | base year |  \n",
    "|---------|------|\n",
    "| WB      | 2010 |  \n",
    "| UN_NA   | 2005 |\n",
    "| IMF_WEO | 2015?|\n",
    "| PWT_rgdpna| 2011|\n",
    "\n",
    "#### Table1: Base year used by different sources constant series\n",
    "\n",
    "Status:\n",
    "**<span style=\"color:lime; background:green;\">In Progress</span>** \n",
    "**<span style=\"color:white; background:maroon;\">STARTED</span>**\n",
    "**<span style=\"color:white; background:limegreen;\">DONE</span>**\n"
   ]
  },
  {
   "cell_type": "markdown",
   "metadata": {},
   "source": [
    "### GDP index\n",
    "$$GDPindex_{i_b} = \\frac{gdp_{i_b}}{gdp_{i=b}}$$\n",
    "\n",
    "where\n",
    "    \n",
    "    i = target year (any year in series)\n",
    "    \n",
    "    b = base year (2010 for WB, 2005 for UN_na, and 2015 for IMF weo)\n",
    "    \n",
    "    b (small one) = base year that the real gdp is calculated with respect to. ie. gdp values are in base year values.\n",
    "\n"
   ]
  },
  {
   "cell_type": "markdown",
   "metadata": {},
   "source": [
    "Mike's Notes\n",
    "```\n",
    "current_gdp # dataframe with iso x year, giving time series of\n",
    "            # current GDP (USD) using market exchange rates\n",
    "\n",
    "real_gdp    # dataframe with iso x year, giving time series of\n",
    "            # real GDP (USD) with a variety of base years\n",
    "\n",
    "target_base_year = 2015 # desired real GDP series base year\n",
    "\n",
    "# produce index of real growth relative to 2015\n",
    "real_gdp_index = real_gdp.div(real_gdp[target_base_year], axis=0)\n",
    "\n",
    "# produce time series of real GDP with 2015 basis\n",
    "real_gdp_target_base = real_gdp_index.mul(\n",
    "    current_gdp[target_base_year],\n",
    "    axis=0)\n",
    "\n",
    "# sum real GDP by country --> global real gdp\n",
    "global_real_gdp_target_base = real_gdp_target_base.sum()\n",
    "```"
   ]
  },
  {
   "cell_type": "markdown",
   "metadata": {},
   "source": [
    "### Alohamora (data)\n",
    "#### a) gdp - current series (to multiply by gdi to calculate real series)\n",
    "#### b) gdp - real/constant series (to compute gdp index with respect to same year - 2015)"
   ]
  },
  {
   "cell_type": "code",
   "execution_count": 199,
   "metadata": {
    "collapsed": true
   },
   "outputs": [],
   "source": [
    "dir_path = os.environ['ZERG']\n",
    "\n",
    "# file locations!\n",
    "\n",
    "# un\n",
    "un_current_file = dir_path + 'data/un/national_accounts/un_na_gdp_current_usd.xls'\n",
    "un_constant_file = dir_path + 'data/un/national_accounts/un_na_gdp_constant_usd.xls'\n",
    "#un_constant_file = dir_path+ 'data/un/munged/un_national_acct_real_gdp_2005.csv' # gdp only\n",
    "\n",
    "#wb\n",
    "wb_current_file = dir_path + 'data/wb/gdp/gdp_current/API_NY.GDP.MKTP.CD_DS2_en_csv_v2.csv'\n",
    "wb_current_meta = dir_path + 'data/wb/gdp/gdp_current/Metadata_Country_API_NY.GDP.MKTP.CD_DS2_en_csv_v2.csv'\n",
    "\n",
    "wb_constant_file = dir_path + 'data/wb/gdp/gdp_constant/API_NY.GDP.MKTP.KD_DS2_en_csv_v2.csv'\n",
    "wb_constant_meta = dir_path + 'data/wb/gdp/gdp_constant/Metadata_Country_API_NY.GDP.MKTP.KD_DS2_en_csv_v2.csv'\n",
    "\n",
    "# pwt\n",
    "pwt_all_file = dir_path + 'data/pwt/pwt90.xlsx'\n",
    "\n",
    "# imf-weo\n",
    "# imf files have to be excel. for some reason some numbers include commas RESOLVED\n",
    "imf_weo_current = dir_path + 'data/imf/weo/weo_oct2017_gdp_current_usd_bil.csv'\n",
    "imf_weo_constant = dir_path + 'data/imf/weo/weo_oct2017_gdp_constant_dcu_bil.csv'\n",
    "\n",
    "# other meta data\n",
    "rhg_regions = dir_path + 'data/meta_data/iso_map_based_on_rhg_regions.xls'"
   ]
  },
  {
   "cell_type": "code",
   "execution_count": 200,
   "metadata": {
    "collapsed": true
   },
   "outputs": [],
   "source": [
    "# UN\n",
    "df_un_current = pd.read_excel(un_current_file, skiprows=2)\n",
    "df_un_constant = pd.read_excel(un_constant_file, skiprows=2)\n",
    "\n",
    "# WB\n",
    "df_wb_current = pd.read_csv(wb_current_file, skiprows=4) # updated 12/22/2017\n",
    "df_wb_current_meta = pd.read_csv(wb_current_meta)\n",
    "\n",
    "df_wb_constant = pd.read_csv(wb_constant_file, skiprows=4) # updated 12/22/2017 too?\n",
    "df_wb_constant_meta = pd.read_csv(wb_constant_meta)\n",
    "\n",
    "# PWT\n",
    "df_pwt = pd.read_excel(pwt_all_file, sheetname='Data')"
   ]
  },
  {
   "cell_type": "code",
   "execution_count": 201,
   "metadata": {
    "collapsed": true
   },
   "outputs": [],
   "source": [
    "# IMF - WEO\n",
    "df_weo_current = pd.read_csv(imf_weo_current, na_values=['n/a'], keep_default_na=True)\n",
    "df_weo_constant = pd.read_csv(imf_weo_constant, na_values=['n/a'], keep_default_na=True)"
   ]
  },
  {
   "cell_type": "markdown",
   "metadata": {},
   "source": [
    "### Z- Convenience functions \n",
    "#### a) iso mapper"
   ]
  },
  {
   "cell_type": "code",
   "execution_count": 202,
   "metadata": {
    "collapsed": true
   },
   "outputs": [],
   "source": [
    "iso = pd.read_excel(rhg_regions, sheetname='mapper_iso_to_country_name')\n",
    "\n",
    "# rhg_regions file updated to include Syria and Kosovo\n",
    "iso_map = iso[['countryName', 'iso']].set_index('countryName').to_dict()['iso']"
   ]
  },
  {
   "cell_type": "code",
   "execution_count": 203,
   "metadata": {
    "collapsed": true
   },
   "outputs": [],
   "source": [
    "iso_map_un_na = iso[['countryNameUNNA', 'iso']]\n",
    "iso_map_un_na.columns.values[0] = 'countryName'\n",
    "iso_map_un_na = iso_map_un_na.set_index('countryName').to_dict()['iso']"
   ]
  },
  {
   "cell_type": "markdown",
   "metadata": {},
   "source": [
    "#### b) munging dataframe (column filtering. indexing, add column..)"
   ]
  },
  {
   "cell_type": "code",
   "execution_count": 204,
   "metadata": {
    "collapsed": true
   },
   "outputs": [],
   "source": [
    "def drop_non_years(_df):\n",
    "    def _is_year(_y):\n",
    "        try:\n",
    "            float(_y)\n",
    "            return True\n",
    "        except ValueError:\n",
    "            return False\n",
    "    return _df[[x for x in _df.columns if _is_year(x)]] \n",
    "\n",
    "def set_col_as_index(_df, _col_name):\n",
    "    return _df.set_index(_col_name)\n",
    "\n",
    "# set year as columns name\n",
    "def set_col_idx_name(_df, col_idx_name='year'):\n",
    "    _df.columns.name = col_idx_name\n",
    "    return _df\n",
    "\n",
    "def add_iso_column(_df, _country_name_col, data_source='general'):\n",
    "    # uses iso_map (global dict)\n",
    "    map_to_iso = lambda c: iso_map[c] if iso_map.get(c) else c # c for country name\n",
    "    map_to_iso_un = lambda c: iso_map_un_na[c] if iso_map_un_na.get(c) else c # c for country name\n",
    "\n",
    "    if 'iso' in _df.columns:\n",
    "        pass\n",
    "    elif data_source is 'un':\n",
    "        v_map = np.vectorize(map_to_iso_un)\n",
    "        assigned = _df.assign(iso=v_map(_df[_country_name_col]))\n",
    "    else:\n",
    "        v_map = np.vectorize(map_to_iso)\n",
    "        assigned = _df.assign(iso=v_map(_df[_country_name_col]))\n",
    "    return assigned"
   ]
  },
  {
   "cell_type": "code",
   "execution_count": 205,
   "metadata": {
    "collapsed": true
   },
   "outputs": [],
   "source": [
    "order_of_operations = [add_iso_column, set_col_as_index, drop_non_years, set_col_idx_name]"
   ]
  },
  {
   "cell_type": "code",
   "execution_count": 206,
   "metadata": {
    "collapsed": true
   },
   "outputs": [],
   "source": [
    "get_un_na_gdp_only = lambda _df2: _df2[_df2['IndicatorName'].str.startswith('Gross Domestic Product')] \n"
   ]
  },
  {
   "cell_type": "code",
   "execution_count": 207,
   "metadata": {
    "collapsed": true
   },
   "outputs": [],
   "source": [
    "def prep_dataframe(_df, _source, _country_col_name='countryName'):\n",
    "    \"\"\"\n",
    "    Prep data frame for further analysis by doing 4 steps below. Uses these functions:\n",
    "        add_iso_column\n",
    "        set_col_as_index\n",
    "        drop_non_years\n",
    "        set_col_idx_name\n",
    "        get_un_na_gdp_only (local function)\n",
    "        all other functions global for now.\n",
    "    \n",
    "    Parameters\n",
    "    ----------\n",
    "    _df: DataFrame\n",
    "        country x year, with gdp values (contains multiple countries across years)\n",
    "\n",
    "    _source: str\n",
    "        string acronym for data source. one of ['un', 'wb', 'imf_weo', 'pwt']\n",
    "        Used for iso mapping\n",
    "        \n",
    "    _country_col_name: str\n",
    "        name of column containing country names. one of \n",
    "        ('CountryName', 'Country', 'countryName', etc.) \n",
    "        Used for iso mapping\n",
    "        \n",
    "    Returns\n",
    "    -------\n",
    "    indexed: DataFrame\n",
    "        return dataframe with new iso column added if missing before, dropped \n",
    "        columns that are not years (ex. IndicatorGroup), set existing column\n",
    "        values as type floasm \n",
    "    =======\n",
    "    \n",
    "    \"\"\"\n",
    "    \n",
    "    #get only GDP indicator (UN only) - move this out\n",
    "    get_un_na_gdp_only = lambda _df2: _df2[_df2['IndicatorName'].str.startswith('Gross Domestic Product')] \n",
    "    _iso_added = None\n",
    "    \n",
    "    # return here if source type is not supported\n",
    "    \n",
    "    # 0/ filter indicators\n",
    "    # 1/ add iso column (both UN, WB)\n",
    "    \n",
    "#     import IPython.core.debugger\n",
    "#     dbg = IPython.core.debugger.Pdb()\n",
    "#     dbg.set_trace()\n",
    "    # decouple iso mapping logic from this method?\n",
    "    if _source == 'un':\n",
    "        _filtered = get_un_na_gdp_only(_df)\n",
    "        _iso_added = add_iso_column(_filtered, _country_col_name, _source)\n",
    "\n",
    "    if _source == 'wb':\n",
    "        _iso_added = _df.assign(iso=_df['Country Code'])  \n",
    "        # assign logic is done apriori for weo and pwt, might do the same for WB\n",
    "        \n",
    "    _iso_added = _iso_added if _iso_added is not None else _df\n",
    "        \n",
    "    # 1/ set iso as index\n",
    "    _iso_indexed = set_col_as_index(_iso_added, 'iso')\n",
    "        \n",
    "    # 2/ drop non_year columns\n",
    "    _dropped = drop_non_years(_iso_indexed)\n",
    "    _dropped.columns = _dropped.columns.astype(int)\n",
    "    \n",
    "    convert_to_float = lambda _df: _df.astype(float)\n",
    "    \n",
    "    _converted = convert_to_float(_dropped)\n",
    "    \n",
    "    # 4/ set year as column index name\n",
    "    _indexed = set_col_idx_name(_converted)\n",
    "    \n",
    "    return _indexed\n"
   ]
  },
  {
   "cell_type": "code",
   "execution_count": 208,
   "metadata": {},
   "outputs": [
    {
     "data": {
      "text/plain": [
       "True"
      ]
     },
     "execution_count": 208,
     "metadata": {},
     "output_type": "execute_result"
    }
   ],
   "source": [
    "a = pd.DataFrame()\n",
    "a.empty or 'a'"
   ]
  },
  {
   "cell_type": "code",
   "execution_count": 209,
   "metadata": {
    "collapsed": true
   },
   "outputs": [],
   "source": [
    "# WB specific - using metadata to filter aggregates"
   ]
  },
  {
   "cell_type": "code",
   "execution_count": 210,
   "metadata": {
    "collapsed": true
   },
   "outputs": [],
   "source": [
    "def wb_filter_non_countries(_df, _metadata):\n",
    "    \"\"\"\n",
    "    Uses metadata and data to filter out rows that are not countries. \n",
    "    Country Code column that is in both dataframes are used to merge on. \n",
    "    IncomeGroup column which is null for aggregates (i.e. not countries) is\n",
    "    used to filter non-countries. \n",
    "    \n",
    "    Parameters\n",
    "    ----------\n",
    "     _df : pd.DataFrame\n",
    "        either income or population data\n",
    "        \n",
    "    _metadata : pd.DataFrame\n",
    "        metadata on a list of entries including countries and non-countries \n",
    "        data source is from the World Bank\n",
    "        has IncomeGroup column that is not null for countries (217)\n",
    "    \n",
    "    Note: source - task3_WB_analysis\n",
    "    \n",
    "    Returns\n",
    "    -------\n",
    "    filtered: DataFrame\n",
    "        returns values with only country data (217 rows)\n",
    "        \n",
    "    \"\"\"\n",
    "    _merged = _df.merge(_metadata, on='Country Code')\n",
    "    aggregate_mask = _merged['IncomeGroup'].isnull()\n",
    "    return _merged[~aggregate_mask]  "
   ]
  },
  {
   "cell_type": "markdown",
   "metadata": {},
   "source": [
    "### plotting"
   ]
  },
  {
   "cell_type": "code",
   "execution_count": 211,
   "metadata": {
    "collapsed": true
   },
   "outputs": [],
   "source": [
    "# lets simplify\n",
    "def label_axes(_ax, _x_label, _y_label, _title):\n",
    "    _ax.set_xlabela(_x_label, fontsize=14)\n",
    "    _ax.set_ylabel(_y_label, fontsize=14)\n",
    "    _ax.set_title(_title, fontsize=14)"
   ]
  },
  {
   "cell_type": "code",
   "execution_count": 546,
   "metadata": {
    "collapsed": true
   },
   "outputs": [],
   "source": [
    "# calculate GDP index\n",
    "def calculate_real_gdp_index(_df, _source):\n",
    "    \"\"\"\n",
    "        Converts real constant gdp series to real gdp index. \n",
    "        For each country (row), gdp time series is divided by the gdp value from the given base year,\n",
    "        resulting in gdp index series. Pandas apply method with axis=columns is used.\n",
    "        \n",
    "        Parameters\n",
    "        ----------\n",
    "        _df : DataFrame\n",
    "            dataframe containing real constant gdp values. Rows are countries and columns and years.\n",
    "            two indices are year (df.column.name) and iso (for primary index)\n",
    "        _source : str\n",
    "            string acronym for given data source. one of ['un', 'wb', 'imf_weo']\n",
    "        Keeps nan values for any missing value.\n",
    "        \n",
    "        Returns\n",
    "        -------\n",
    "        df_gdi: DataFrame\n",
    "            contains real gdp series indices\n",
    "    \"\"\"\n",
    "    # base year of a given data source\n",
    "    # base year in this context means vaue that real GDP series is constant with respect to. \n",
    "    get_gdp_base_year = {\n",
    "        'un': 2005, \n",
    "        'wb': 2010,\n",
    "        'imf_weo': 2015,\n",
    "        'pwt': 2011 # pwt9\n",
    "    }\n",
    "    base_year = get_gdp_base_year[_source]\n",
    "    df_gdi = _df.div(_df[base_year], axis=0)\n",
    "    return df_gdi"
   ]
  },
  {
   "cell_type": "code",
   "execution_count": 545,
   "metadata": {
    "collapsed": true
   },
   "outputs": [],
   "source": [
    "def normalize_real_gdi(list_of_df, norm_year=2014):\n",
    "    '''\n",
    "        Normalizes real gdp index series from different data sources, so gdp index is\n",
    "        1 relative to same year, and thus, comparable.\n",
    "        \n",
    "        Parameters\n",
    "        ----------\n",
    "        list_of_df: list\n",
    "            list containing dataframes of real GDP index series\n",
    "        norm_year: int, defaults to 2015 \n",
    "            year to which gdp index series should be normalized (i.e. GDP index should\n",
    "            be 1 for that year, and other values adjusted accordingly)\n",
    "            \n",
    "            Notes:\n",
    "            \n",
    "            Calling this parameter norm_year (normalization year) to distinguish \n",
    "            from any random year, but this is not an official term.\n",
    "    '''\n",
    "    def normalize_real_gdi_per_source(_df, _source, norm_year):\n",
    "        print(_source)\n",
    "        return (_df.div(_df[norm_year], axis=0))\n",
    "    \n",
    "    return [(normalize_real_gdi_per_source(source[0], source[1], norm_year), source[1]) for source in list_of_df]   \n"
   ]
  },
  {
   "cell_type": "markdown",
   "metadata": {},
   "source": [
    "## I. Prep DATA"
   ]
  },
  {
   "cell_type": "markdown",
   "metadata": {},
   "source": [
    "1) individual per source\n",
    "\n",
    "2) use `prep_dataframe` for all relevant sources \n",
    "\n",
    "Next: Calculate GDI"
   ]
  },
  {
   "cell_type": "markdown",
   "metadata": {},
   "source": [
    "### First: UN\n",
    "#### a) UN nominal series"
   ]
  },
  {
   "cell_type": "code",
   "execution_count": 547,
   "metadata": {
    "collapsed": true
   },
   "outputs": [],
   "source": [
    "un_current_prepped = prep_dataframe(df_un_current, 'un', 'Country')"
   ]
  },
  {
   "cell_type": "code",
   "execution_count": 548,
   "metadata": {
    "collapsed": true,
    "scrolled": true
   },
   "outputs": [],
   "source": [
    "assert un_current_prepped.shape[0] == 220"
   ]
  },
  {
   "cell_type": "code",
   "execution_count": 549,
   "metadata": {
    "scrolled": true
   },
   "outputs": [
    {
     "data": {
      "text/html": [
       "<div>\n",
       "<style>\n",
       "    .dataframe thead tr:only-child th {\n",
       "        text-align: right;\n",
       "    }\n",
       "\n",
       "    .dataframe thead th {\n",
       "        text-align: left;\n",
       "    }\n",
       "\n",
       "    .dataframe tbody tr th {\n",
       "        vertical-align: top;\n",
       "    }\n",
       "</style>\n",
       "<table border=\"1\" class=\"dataframe\">\n",
       "  <thead>\n",
       "    <tr style=\"text-align: right;\">\n",
       "      <th>year</th>\n",
       "      <th>1970</th>\n",
       "      <th>1971</th>\n",
       "      <th>1972</th>\n",
       "      <th>1973</th>\n",
       "      <th>1974</th>\n",
       "      <th>1975</th>\n",
       "      <th>1976</th>\n",
       "      <th>1977</th>\n",
       "      <th>1978</th>\n",
       "      <th>1979</th>\n",
       "      <th>...</th>\n",
       "      <th>2007</th>\n",
       "      <th>2008</th>\n",
       "      <th>2009</th>\n",
       "      <th>2010</th>\n",
       "      <th>2011</th>\n",
       "      <th>2012</th>\n",
       "      <th>2013</th>\n",
       "      <th>2014</th>\n",
       "      <th>2015</th>\n",
       "      <th>2016</th>\n",
       "    </tr>\n",
       "    <tr>\n",
       "      <th>iso</th>\n",
       "      <th></th>\n",
       "      <th></th>\n",
       "      <th></th>\n",
       "      <th></th>\n",
       "      <th></th>\n",
       "      <th></th>\n",
       "      <th></th>\n",
       "      <th></th>\n",
       "      <th></th>\n",
       "      <th></th>\n",
       "      <th></th>\n",
       "      <th></th>\n",
       "      <th></th>\n",
       "      <th></th>\n",
       "      <th></th>\n",
       "      <th></th>\n",
       "      <th></th>\n",
       "      <th></th>\n",
       "      <th></th>\n",
       "      <th></th>\n",
       "      <th></th>\n",
       "    </tr>\n",
       "  </thead>\n",
       "  <tbody>\n",
       "    <tr>\n",
       "      <th>KOR</th>\n",
       "      <td>8.999348e+09</td>\n",
       "      <td>9.890032e+09</td>\n",
       "      <td>1.084211e+10</td>\n",
       "      <td>1.384183e+10</td>\n",
       "      <td>1.948192e+10</td>\n",
       "      <td>2.170475e+10</td>\n",
       "      <td>2.977934e+10</td>\n",
       "      <td>3.826508e+10</td>\n",
       "      <td>5.170062e+10</td>\n",
       "      <td>6.656798e+10</td>\n",
       "      <td>...</td>\n",
       "      <td>1.122679e+12</td>\n",
       "      <td>1.002219e+12</td>\n",
       "      <td>9.019350e+11</td>\n",
       "      <td>1.094499e+12</td>\n",
       "      <td>1.202464e+12</td>\n",
       "      <td>1.222807e+12</td>\n",
       "      <td>1.305605e+12</td>\n",
       "      <td>1.411334e+12</td>\n",
       "      <td>1.382764e+12</td>\n",
       "      <td>1.411246e+12</td>\n",
       "    </tr>\n",
       "    <tr>\n",
       "      <th>USA</th>\n",
       "      <td>1.075900e+12</td>\n",
       "      <td>1.167800e+12</td>\n",
       "      <td>1.282400e+12</td>\n",
       "      <td>1.428500e+12</td>\n",
       "      <td>1.548800e+12</td>\n",
       "      <td>1.688900e+12</td>\n",
       "      <td>1.877600e+12</td>\n",
       "      <td>2.086000e+12</td>\n",
       "      <td>2.356600e+12</td>\n",
       "      <td>2.632100e+12</td>\n",
       "      <td>...</td>\n",
       "      <td>1.447764e+13</td>\n",
       "      <td>1.471858e+13</td>\n",
       "      <td>1.441874e+13</td>\n",
       "      <td>1.496437e+13</td>\n",
       "      <td>1.551793e+13</td>\n",
       "      <td>1.615525e+13</td>\n",
       "      <td>1.669152e+13</td>\n",
       "      <td>1.742761e+13</td>\n",
       "      <td>1.812071e+13</td>\n",
       "      <td>1.862448e+13</td>\n",
       "    </tr>\n",
       "    <tr>\n",
       "      <th>CHN</th>\n",
       "      <td>8.964951e+10</td>\n",
       "      <td>9.718461e+10</td>\n",
       "      <td>1.092974e+11</td>\n",
       "      <td>1.341901e+11</td>\n",
       "      <td>1.396441e+11</td>\n",
       "      <td>1.586407e+11</td>\n",
       "      <td>1.528948e+11</td>\n",
       "      <td>1.704144e+11</td>\n",
       "      <td>2.158529e+11</td>\n",
       "      <td>2.622637e+11</td>\n",
       "      <td>...</td>\n",
       "      <td>3.571451e+12</td>\n",
       "      <td>4.604285e+12</td>\n",
       "      <td>5.121680e+12</td>\n",
       "      <td>6.066351e+12</td>\n",
       "      <td>7.522103e+12</td>\n",
       "      <td>8.570348e+12</td>\n",
       "      <td>9.635026e+12</td>\n",
       "      <td>1.053453e+13</td>\n",
       "      <td>1.122619e+13</td>\n",
       "      <td>1.121828e+13</td>\n",
       "    </tr>\n",
       "    <tr>\n",
       "      <th>BRA</th>\n",
       "      <td>3.521386e+10</td>\n",
       "      <td>3.933187e+10</td>\n",
       "      <td>5.062384e+10</td>\n",
       "      <td>7.167268e+10</td>\n",
       "      <td>9.188796e+10</td>\n",
       "      <td>1.080514e+11</td>\n",
       "      <td>1.277414e+11</td>\n",
       "      <td>1.486717e+11</td>\n",
       "      <td>1.688034e+11</td>\n",
       "      <td>1.860953e+11</td>\n",
       "      <td>...</td>\n",
       "      <td>1.397114e+12</td>\n",
       "      <td>1.695855e+12</td>\n",
       "      <td>1.666996e+12</td>\n",
       "      <td>2.208838e+12</td>\n",
       "      <td>2.616157e+12</td>\n",
       "      <td>2.465228e+12</td>\n",
       "      <td>2.472819e+12</td>\n",
       "      <td>2.456044e+12</td>\n",
       "      <td>1.803650e+12</td>\n",
       "      <td>1.795926e+12</td>\n",
       "    </tr>\n",
       "    <tr>\n",
       "      <th>IND</th>\n",
       "      <td>5.960291e+10</td>\n",
       "      <td>6.394412e+10</td>\n",
       "      <td>6.955567e+10</td>\n",
       "      <td>8.294735e+10</td>\n",
       "      <td>9.361918e+10</td>\n",
       "      <td>9.738617e+10</td>\n",
       "      <td>9.812194e+10</td>\n",
       "      <td>1.138546e+11</td>\n",
       "      <td>1.317069e+11</td>\n",
       "      <td>1.457506e+11</td>\n",
       "      <td>...</td>\n",
       "      <td>1.169473e+12</td>\n",
       "      <td>1.254803e+12</td>\n",
       "      <td>1.297597e+12</td>\n",
       "      <td>1.650635e+12</td>\n",
       "      <td>1.871918e+12</td>\n",
       "      <td>1.860877e+12</td>\n",
       "      <td>1.917054e+12</td>\n",
       "      <td>2.039198e+12</td>\n",
       "      <td>2.132755e+12</td>\n",
       "      <td>2.259642e+12</td>\n",
       "    </tr>\n",
       "  </tbody>\n",
       "</table>\n",
       "<p>5 rows × 47 columns</p>\n",
       "</div>"
      ],
      "text/plain": [
       "year          1970          1971          1972          1973          1974  \\\n",
       "iso                                                                          \n",
       "KOR   8.999348e+09  9.890032e+09  1.084211e+10  1.384183e+10  1.948192e+10   \n",
       "USA   1.075900e+12  1.167800e+12  1.282400e+12  1.428500e+12  1.548800e+12   \n",
       "CHN   8.964951e+10  9.718461e+10  1.092974e+11  1.341901e+11  1.396441e+11   \n",
       "BRA   3.521386e+10  3.933187e+10  5.062384e+10  7.167268e+10  9.188796e+10   \n",
       "IND   5.960291e+10  6.394412e+10  6.955567e+10  8.294735e+10  9.361918e+10   \n",
       "\n",
       "year          1975          1976          1977          1978          1979  \\\n",
       "iso                                                                          \n",
       "KOR   2.170475e+10  2.977934e+10  3.826508e+10  5.170062e+10  6.656798e+10   \n",
       "USA   1.688900e+12  1.877600e+12  2.086000e+12  2.356600e+12  2.632100e+12   \n",
       "CHN   1.586407e+11  1.528948e+11  1.704144e+11  2.158529e+11  2.622637e+11   \n",
       "BRA   1.080514e+11  1.277414e+11  1.486717e+11  1.688034e+11  1.860953e+11   \n",
       "IND   9.738617e+10  9.812194e+10  1.138546e+11  1.317069e+11  1.457506e+11   \n",
       "\n",
       "year      ...               2007          2008          2009          2010  \\\n",
       "iso       ...                                                                \n",
       "KOR       ...       1.122679e+12  1.002219e+12  9.019350e+11  1.094499e+12   \n",
       "USA       ...       1.447764e+13  1.471858e+13  1.441874e+13  1.496437e+13   \n",
       "CHN       ...       3.571451e+12  4.604285e+12  5.121680e+12  6.066351e+12   \n",
       "BRA       ...       1.397114e+12  1.695855e+12  1.666996e+12  2.208838e+12   \n",
       "IND       ...       1.169473e+12  1.254803e+12  1.297597e+12  1.650635e+12   \n",
       "\n",
       "year          2011          2012          2013          2014          2015  \\\n",
       "iso                                                                          \n",
       "KOR   1.202464e+12  1.222807e+12  1.305605e+12  1.411334e+12  1.382764e+12   \n",
       "USA   1.551793e+13  1.615525e+13  1.669152e+13  1.742761e+13  1.812071e+13   \n",
       "CHN   7.522103e+12  8.570348e+12  9.635026e+12  1.053453e+13  1.122619e+13   \n",
       "BRA   2.616157e+12  2.465228e+12  2.472819e+12  2.456044e+12  1.803650e+12   \n",
       "IND   1.871918e+12  1.860877e+12  1.917054e+12  2.039198e+12  2.132755e+12   \n",
       "\n",
       "year          2016  \n",
       "iso                 \n",
       "KOR   1.411246e+12  \n",
       "USA   1.862448e+13  \n",
       "CHN   1.121828e+13  \n",
       "BRA   1.795926e+12  \n",
       "IND   2.259642e+12  \n",
       "\n",
       "[5 rows x 47 columns]"
      ]
     },
     "execution_count": 549,
     "metadata": {},
     "output_type": "execute_result"
    }
   ],
   "source": [
    "un_current_prepped.loc[['KOR', 'USA', 'CHN', 'BRA', 'IND']] # manual confirmation with downloaded, unmodified doc"
   ]
  },
  {
   "cell_type": "markdown",
   "metadata": {},
   "source": [
    "#### b) UN real series (GDI)"
   ]
  },
  {
   "cell_type": "code",
   "execution_count": 550,
   "metadata": {
    "collapsed": true,
    "scrolled": false
   },
   "outputs": [],
   "source": [
    "# reuse\n",
    "get_un_na_gdp_only = lambda _df2: _df2[_df2['IndicatorName'].str.startswith('Gross Domestic Product')] \n",
    "un_constant = get_un_na_gdp_only(df_un_constant)"
   ]
  },
  {
   "cell_type": "markdown",
   "metadata": {},
   "source": [
    "### Second: world bank"
   ]
  },
  {
   "cell_type": "code",
   "execution_count": 551,
   "metadata": {
    "collapsed": true
   },
   "outputs": [],
   "source": [
    "wb_current_filtered = wb_filter_non_countries(df_wb_current, df_wb_current_meta)\n",
    "wb_constant_filtered = wb_filter_non_countries(df_wb_constant, df_wb_constant_meta)"
   ]
  },
  {
   "cell_type": "code",
   "execution_count": 552,
   "metadata": {
    "collapsed": true
   },
   "outputs": [],
   "source": [
    "assert (wb_current_filtered.shape == wb_constant_filtered.shape == (217,68))"
   ]
  },
  {
   "cell_type": "code",
   "execution_count": 553,
   "metadata": {
    "collapsed": true
   },
   "outputs": [],
   "source": [
    "# wb_current_filtered.columns"
   ]
  },
  {
   "cell_type": "code",
   "execution_count": 554,
   "metadata": {},
   "outputs": [
    {
     "data": {
      "text/html": [
       "<div>\n",
       "<style>\n",
       "    .dataframe thead tr:only-child th {\n",
       "        text-align: right;\n",
       "    }\n",
       "\n",
       "    .dataframe thead th {\n",
       "        text-align: left;\n",
       "    }\n",
       "\n",
       "    .dataframe tbody tr th {\n",
       "        vertical-align: top;\n",
       "    }\n",
       "</style>\n",
       "<table border=\"1\" class=\"dataframe\">\n",
       "  <thead>\n",
       "    <tr style=\"text-align: right;\">\n",
       "      <th></th>\n",
       "      <th>Country Name</th>\n",
       "      <th>Country Code</th>\n",
       "      <th>Indicator Name</th>\n",
       "      <th>Indicator Code</th>\n",
       "      <th>1960</th>\n",
       "      <th>1961</th>\n",
       "      <th>1962</th>\n",
       "      <th>1963</th>\n",
       "      <th>1964</th>\n",
       "      <th>1965</th>\n",
       "      <th>...</th>\n",
       "      <th>2014</th>\n",
       "      <th>2015</th>\n",
       "      <th>2016</th>\n",
       "      <th>2017</th>\n",
       "      <th>Unnamed: 62</th>\n",
       "      <th>Region</th>\n",
       "      <th>IncomeGroup</th>\n",
       "      <th>SpecialNotes</th>\n",
       "      <th>TableName</th>\n",
       "      <th>Unnamed: 5</th>\n",
       "    </tr>\n",
       "  </thead>\n",
       "  <tbody>\n",
       "    <tr>\n",
       "      <th>245</th>\n",
       "      <td>Ukraine</td>\n",
       "      <td>UKR</td>\n",
       "      <td>GDP (current US$)</td>\n",
       "      <td>NY.GDP.MKTP.CD</td>\n",
       "      <td>NaN</td>\n",
       "      <td>NaN</td>\n",
       "      <td>NaN</td>\n",
       "      <td>NaN</td>\n",
       "      <td>NaN</td>\n",
       "      <td>NaN</td>\n",
       "      <td>...</td>\n",
       "      <td>1.335034e+11</td>\n",
       "      <td>9.103096e+10</td>\n",
       "      <td>9.327048e+10</td>\n",
       "      <td>NaN</td>\n",
       "      <td>NaN</td>\n",
       "      <td>Europe &amp; Central Asia</td>\n",
       "      <td>Lower middle income</td>\n",
       "      <td>The new base year is 2010.</td>\n",
       "      <td>Ukraine</td>\n",
       "      <td>NaN</td>\n",
       "    </tr>\n",
       "    <tr>\n",
       "      <th>247</th>\n",
       "      <td>Uruguay</td>\n",
       "      <td>URY</td>\n",
       "      <td>GDP (current US$)</td>\n",
       "      <td>NY.GDP.MKTP.CD</td>\n",
       "      <td>1.242289e+09</td>\n",
       "      <td>1.547389e+09</td>\n",
       "      <td>1.710004e+09</td>\n",
       "      <td>1.539682e+09</td>\n",
       "      <td>1.975702e+09</td>\n",
       "      <td>1.890769e+09</td>\n",
       "      <td>...</td>\n",
       "      <td>5.723601e+10</td>\n",
       "      <td>5.327430e+10</td>\n",
       "      <td>5.241972e+10</td>\n",
       "      <td>NaN</td>\n",
       "      <td>NaN</td>\n",
       "      <td>Latin America &amp; Caribbean</td>\n",
       "      <td>High income</td>\n",
       "      <td>NaN</td>\n",
       "      <td>Uruguay</td>\n",
       "      <td>NaN</td>\n",
       "    </tr>\n",
       "    <tr>\n",
       "      <th>248</th>\n",
       "      <td>United States</td>\n",
       "      <td>USA</td>\n",
       "      <td>GDP (current US$)</td>\n",
       "      <td>NY.GDP.MKTP.CD</td>\n",
       "      <td>5.433000e+11</td>\n",
       "      <td>5.633000e+11</td>\n",
       "      <td>6.051000e+11</td>\n",
       "      <td>6.386000e+11</td>\n",
       "      <td>6.858000e+11</td>\n",
       "      <td>7.437000e+11</td>\n",
       "      <td>...</td>\n",
       "      <td>1.739310e+13</td>\n",
       "      <td>1.812071e+13</td>\n",
       "      <td>1.862448e+13</td>\n",
       "      <td>NaN</td>\n",
       "      <td>NaN</td>\n",
       "      <td>North America</td>\n",
       "      <td>High income</td>\n",
       "      <td>Fiscal year end: September 30; reporting perio...</td>\n",
       "      <td>United States</td>\n",
       "      <td>NaN</td>\n",
       "    </tr>\n",
       "  </tbody>\n",
       "</table>\n",
       "<p>3 rows × 68 columns</p>\n",
       "</div>"
      ],
      "text/plain": [
       "      Country Name Country Code     Indicator Name  Indicator Code  \\\n",
       "245        Ukraine          UKR  GDP (current US$)  NY.GDP.MKTP.CD   \n",
       "247        Uruguay          URY  GDP (current US$)  NY.GDP.MKTP.CD   \n",
       "248  United States          USA  GDP (current US$)  NY.GDP.MKTP.CD   \n",
       "\n",
       "             1960          1961          1962          1963          1964  \\\n",
       "245           NaN           NaN           NaN           NaN           NaN   \n",
       "247  1.242289e+09  1.547389e+09  1.710004e+09  1.539682e+09  1.975702e+09   \n",
       "248  5.433000e+11  5.633000e+11  6.051000e+11  6.386000e+11  6.858000e+11   \n",
       "\n",
       "             1965     ...              2014          2015          2016  2017  \\\n",
       "245           NaN     ...      1.335034e+11  9.103096e+10  9.327048e+10   NaN   \n",
       "247  1.890769e+09     ...      5.723601e+10  5.327430e+10  5.241972e+10   NaN   \n",
       "248  7.437000e+11     ...      1.739310e+13  1.812071e+13  1.862448e+13   NaN   \n",
       "\n",
       "     Unnamed: 62                     Region          IncomeGroup  \\\n",
       "245          NaN      Europe & Central Asia  Lower middle income   \n",
       "247          NaN  Latin America & Caribbean          High income   \n",
       "248          NaN              North America          High income   \n",
       "\n",
       "                                          SpecialNotes      TableName  \\\n",
       "245                         The new base year is 2010.        Ukraine   \n",
       "247                                                NaN        Uruguay   \n",
       "248  Fiscal year end: September 30; reporting perio...  United States   \n",
       "\n",
       "     Unnamed: 5  \n",
       "245         NaN  \n",
       "247         NaN  \n",
       "248         NaN  \n",
       "\n",
       "[3 rows x 68 columns]"
      ]
     },
     "execution_count": 554,
     "metadata": {},
     "output_type": "execute_result"
    }
   ],
   "source": [
    "wb_current_filtered[201:204]"
   ]
  },
  {
   "cell_type": "markdown",
   "metadata": {},
   "source": [
    "### Ender: IMF - WEO"
   ]
  },
  {
   "cell_type": "code",
   "execution_count": 555,
   "metadata": {
    "collapsed": true
   },
   "outputs": [],
   "source": [
    "# df_weo_current"
   ]
  },
  {
   "cell_type": "code",
   "execution_count": 556,
   "metadata": {
    "collapsed": true,
    "scrolled": true
   },
   "outputs": [],
   "source": [
    "# prep weo current\n",
    "# weo specific munging\n",
    "\n",
    "df_weo_current.columns\n",
    "weo_current_assigned = df_weo_current.assign(iso=df_weo_current['ISO']) \n",
    "country_estimates_start_after = weo_current_assigned['Estimates Start After'] # may be useful later\n",
    "\n",
    "# print(country_estimates_start_after.value_counts()) # set 2016 as last year (Good for now)\n",
    "# filter out 2017 after prepping (only years left) should be 1980 -2016 then\n",
    "# drop 2017 and after (projections) FOR NOW..?"
   ]
  },
  {
   "cell_type": "code",
   "execution_count": 557,
   "metadata": {
    "collapsed": true
   },
   "outputs": [],
   "source": [
    "# prep weo constant\n",
    "\n",
    "df_weo_constant.columns\n",
    "weo_constant_assigned = df_weo_constant.assign(iso=df_weo_constant['ISO']) \n",
    "country_estimates_start_after2 = weo_constant_assigned['Estimates Start After']\n",
    "\n",
    "# print(country_estimates_start_after2.value_counts()) # set 2016 as last year (Good for now)"
   ]
  },
  {
   "cell_type": "markdown",
   "metadata": {},
   "source": [
    "### Fourth: PWT"
   ]
  },
  {
   "cell_type": "code",
   "execution_count": 558,
   "metadata": {
    "collapsed": true
   },
   "outputs": [],
   "source": [
    "#prep_pwt\n",
    "\n",
    "#add and set iso as index\n",
    "pwt_iso = set_col_as_index(df_pwt.assign(iso=df_pwt['countrycode']), 'iso')  \n",
    "pwt_sub = pwt_iso[['year', 'rgdpna']]"
   ]
  },
  {
   "cell_type": "code",
   "execution_count": 559,
   "metadata": {
    "collapsed": true
   },
   "outputs": [],
   "source": [
    "## col names already int no need to convert\n",
    "#rgdpna values already float no need\n",
    "#pwt_sub = pwt_sub.assign(rgdpna=pwt_sub['rgdpna'].astype(float)) # make sure values are floats"
   ]
  },
  {
   "cell_type": "code",
   "execution_count": 560,
   "metadata": {
    "collapsed": true
   },
   "outputs": [],
   "source": [
    "pwt_multiindex = pwt_sub.set_index('year', append=True)"
   ]
  },
  {
   "cell_type": "code",
   "execution_count": 592,
   "metadata": {
    "collapsed": true
   },
   "outputs": [],
   "source": [
    "# pwt_iso.to_csv(dir_path + 'data/output_data/pwt_iso_all_cols.csv')"
   ]
  },
  {
   "cell_type": "code",
   "execution_count": 561,
   "metadata": {
    "collapsed": true
   },
   "outputs": [],
   "source": [
    "# pwt_multiindex.loc[idx[:, 1950], :].dropna()"
   ]
  },
  {
   "cell_type": "markdown",
   "metadata": {},
   "source": [
    "### Siblings: Prep dataframe (constant)"
   ]
  },
  {
   "cell_type": "code",
   "execution_count": 562,
   "metadata": {
    "collapsed": true
   },
   "outputs": [],
   "source": [
    "wb_constant_prepped = prep_dataframe(wb_constant_filtered, 'wb', 'Country Name')"
   ]
  },
  {
   "cell_type": "code",
   "execution_count": 596,
   "metadata": {
    "collapsed": true
   },
   "outputs": [],
   "source": [
    "# wb_constant_prepped.to_csv(dir_path+'data/output_data/wb_gdp_constant_prepped.csv')\n",
    "# wb_current_prepped.to_csv(dir_path+'data/output_data/wb_gdp_current_prepped.csv')"
   ]
  },
  {
   "cell_type": "code",
   "execution_count": 563,
   "metadata": {
    "collapsed": true
   },
   "outputs": [],
   "source": [
    "un_constant_prepped = prep_dataframe(un_constant, 'un', 'Country')\n",
    "wb_constant_prepped = prep_dataframe(wb_constant_filtered, 'wb', 'Country Name').loc[:,1960:2016]\n",
    "wb_current_prepped = prep_dataframe(wb_current_filtered, 'wb', 'Country Name').loc[:,1960:2016]"
   ]
  },
  {
   "cell_type": "code",
   "execution_count": 564,
   "metadata": {
    "collapsed": true
   },
   "outputs": [],
   "source": [
    "# WB:drop 2017 from both current and constant (all null)"
   ]
  },
  {
   "cell_type": "code",
   "execution_count": 565,
   "metadata": {
    "collapsed": true
   },
   "outputs": [],
   "source": [
    "assert (wb_constant_prepped.shape == wb_current_prepped.shape == (217,57))"
   ]
  },
  {
   "cell_type": "code",
   "execution_count": 566,
   "metadata": {
    "collapsed": true
   },
   "outputs": [],
   "source": [
    "#added iso col\n",
    "df_weo_current = df_weo_current.assign(iso=df_weo_current['ISO'])\n",
    "df_weo_constant = df_weo_constant.assign(iso=df_weo_constant['ISO'])"
   ]
  },
  {
   "cell_type": "code",
   "execution_count": 567,
   "metadata": {
    "collapsed": true
   },
   "outputs": [],
   "source": [
    "# drop 2017 on from WEO usually 2017 and on are projections\n",
    "# projection start date varies by country - deal with this later (red flag)\n",
    "\n",
    "weo_current_prepped = prep_dataframe(df_weo_current, 'imf_weo', 'iso').loc[:, 1980:2016]\n",
    "weo_constant_prepped = prep_dataframe(df_weo_constant, 'imf_weo', 'iso').loc[:, 1980:2016]"
   ]
  },
  {
   "cell_type": "code",
   "execution_count": 568,
   "metadata": {
    "collapsed": true
   },
   "outputs": [],
   "source": [
    "assert(weo_current_prepped.shape == weo_constant_prepped.shape)"
   ]
  },
  {
   "cell_type": "code",
   "execution_count": 569,
   "metadata": {
    "collapsed": true
   },
   "outputs": [],
   "source": [
    "# # some sanity checks (select countries such as Korea were disappearing earlier due to prep_dataframe. Resolved now)\n",
    "\n",
    "# wb_current_filtered[wb_current_filtered['Country Code']=='KOR']\n",
    "# wb_constant_filtered[wb_current_filtered['Country Code']=='KOR']"
   ]
  },
  {
   "cell_type": "code",
   "execution_count": 570,
   "metadata": {
    "scrolled": true
   },
   "outputs": [
    {
     "data": {
      "text/html": [
       "<div>\n",
       "<style>\n",
       "    .dataframe thead tr:only-child th {\n",
       "        text-align: right;\n",
       "    }\n",
       "\n",
       "    .dataframe thead th {\n",
       "        text-align: left;\n",
       "    }\n",
       "\n",
       "    .dataframe tbody tr th {\n",
       "        vertical-align: top;\n",
       "    }\n",
       "</style>\n",
       "<table border=\"1\" class=\"dataframe\">\n",
       "  <thead>\n",
       "    <tr style=\"text-align: right;\">\n",
       "      <th>year</th>\n",
       "      <th>1960</th>\n",
       "      <th>1961</th>\n",
       "      <th>1962</th>\n",
       "      <th>1963</th>\n",
       "      <th>1964</th>\n",
       "      <th>1965</th>\n",
       "      <th>1966</th>\n",
       "      <th>1967</th>\n",
       "      <th>1968</th>\n",
       "      <th>1969</th>\n",
       "      <th>...</th>\n",
       "      <th>2007</th>\n",
       "      <th>2008</th>\n",
       "      <th>2009</th>\n",
       "      <th>2010</th>\n",
       "      <th>2011</th>\n",
       "      <th>2012</th>\n",
       "      <th>2013</th>\n",
       "      <th>2014</th>\n",
       "      <th>2015</th>\n",
       "      <th>2016</th>\n",
       "    </tr>\n",
       "    <tr>\n",
       "      <th>iso</th>\n",
       "      <th></th>\n",
       "      <th></th>\n",
       "      <th></th>\n",
       "      <th></th>\n",
       "      <th></th>\n",
       "      <th></th>\n",
       "      <th></th>\n",
       "      <th></th>\n",
       "      <th></th>\n",
       "      <th></th>\n",
       "      <th></th>\n",
       "      <th></th>\n",
       "      <th></th>\n",
       "      <th></th>\n",
       "      <th></th>\n",
       "      <th></th>\n",
       "      <th></th>\n",
       "      <th></th>\n",
       "      <th></th>\n",
       "      <th></th>\n",
       "      <th></th>\n",
       "    </tr>\n",
       "  </thead>\n",
       "  <tbody>\n",
       "    <tr>\n",
       "      <th>USA</th>\n",
       "      <td>5.433000e+11</td>\n",
       "      <td>5.633000e+11</td>\n",
       "      <td>6.051000e+11</td>\n",
       "      <td>6.386000e+11</td>\n",
       "      <td>6.858000e+11</td>\n",
       "      <td>7.437000e+11</td>\n",
       "      <td>8.150000e+11</td>\n",
       "      <td>8.617000e+11</td>\n",
       "      <td>9.425000e+11</td>\n",
       "      <td>1.019900e+12</td>\n",
       "      <td>...</td>\n",
       "      <td>1.447764e+13</td>\n",
       "      <td>1.471858e+13</td>\n",
       "      <td>1.441874e+13</td>\n",
       "      <td>1.496437e+13</td>\n",
       "      <td>1.551793e+13</td>\n",
       "      <td>1.615526e+13</td>\n",
       "      <td>1.669152e+13</td>\n",
       "      <td>1.739310e+13</td>\n",
       "      <td>1.812071e+13</td>\n",
       "      <td>1.862448e+13</td>\n",
       "    </tr>\n",
       "    <tr>\n",
       "      <th>KOR</th>\n",
       "      <td>3.957874e+09</td>\n",
       "      <td>2.417238e+09</td>\n",
       "      <td>2.813934e+09</td>\n",
       "      <td>3.988246e+09</td>\n",
       "      <td>3.458518e+09</td>\n",
       "      <td>3.120308e+09</td>\n",
       "      <td>3.928171e+09</td>\n",
       "      <td>4.854576e+09</td>\n",
       "      <td>6.117260e+09</td>\n",
       "      <td>7.675805e+09</td>\n",
       "      <td>...</td>\n",
       "      <td>1.122679e+12</td>\n",
       "      <td>1.002219e+12</td>\n",
       "      <td>9.019350e+11</td>\n",
       "      <td>1.094499e+12</td>\n",
       "      <td>1.202464e+12</td>\n",
       "      <td>1.222807e+12</td>\n",
       "      <td>1.305605e+12</td>\n",
       "      <td>1.411334e+12</td>\n",
       "      <td>1.382764e+12</td>\n",
       "      <td>1.411246e+12</td>\n",
       "    </tr>\n",
       "    <tr>\n",
       "      <th>BRA</th>\n",
       "      <td>1.516557e+10</td>\n",
       "      <td>1.523685e+10</td>\n",
       "      <td>1.992629e+10</td>\n",
       "      <td>2.302148e+10</td>\n",
       "      <td>2.121189e+10</td>\n",
       "      <td>2.179004e+10</td>\n",
       "      <td>2.706272e+10</td>\n",
       "      <td>3.059183e+10</td>\n",
       "      <td>3.387588e+10</td>\n",
       "      <td>3.745890e+10</td>\n",
       "      <td>...</td>\n",
       "      <td>1.397084e+12</td>\n",
       "      <td>1.695825e+12</td>\n",
       "      <td>1.667020e+12</td>\n",
       "      <td>2.208872e+12</td>\n",
       "      <td>2.616202e+12</td>\n",
       "      <td>2.465189e+12</td>\n",
       "      <td>2.472807e+12</td>\n",
       "      <td>2.455993e+12</td>\n",
       "      <td>1.803653e+12</td>\n",
       "      <td>1.796187e+12</td>\n",
       "    </tr>\n",
       "  </tbody>\n",
       "</table>\n",
       "<p>3 rows × 57 columns</p>\n",
       "</div>"
      ],
      "text/plain": [
       "year          1960          1961          1962          1963          1964  \\\n",
       "iso                                                                          \n",
       "USA   5.433000e+11  5.633000e+11  6.051000e+11  6.386000e+11  6.858000e+11   \n",
       "KOR   3.957874e+09  2.417238e+09  2.813934e+09  3.988246e+09  3.458518e+09   \n",
       "BRA   1.516557e+10  1.523685e+10  1.992629e+10  2.302148e+10  2.121189e+10   \n",
       "\n",
       "year          1965          1966          1967          1968          1969  \\\n",
       "iso                                                                          \n",
       "USA   7.437000e+11  8.150000e+11  8.617000e+11  9.425000e+11  1.019900e+12   \n",
       "KOR   3.120308e+09  3.928171e+09  4.854576e+09  6.117260e+09  7.675805e+09   \n",
       "BRA   2.179004e+10  2.706272e+10  3.059183e+10  3.387588e+10  3.745890e+10   \n",
       "\n",
       "year      ...               2007          2008          2009          2010  \\\n",
       "iso       ...                                                                \n",
       "USA       ...       1.447764e+13  1.471858e+13  1.441874e+13  1.496437e+13   \n",
       "KOR       ...       1.122679e+12  1.002219e+12  9.019350e+11  1.094499e+12   \n",
       "BRA       ...       1.397084e+12  1.695825e+12  1.667020e+12  2.208872e+12   \n",
       "\n",
       "year          2011          2012          2013          2014          2015  \\\n",
       "iso                                                                          \n",
       "USA   1.551793e+13  1.615526e+13  1.669152e+13  1.739310e+13  1.812071e+13   \n",
       "KOR   1.202464e+12  1.222807e+12  1.305605e+12  1.411334e+12  1.382764e+12   \n",
       "BRA   2.616202e+12  2.465189e+12  2.472807e+12  2.455993e+12  1.803653e+12   \n",
       "\n",
       "year          2016  \n",
       "iso                 \n",
       "USA   1.862448e+13  \n",
       "KOR   1.411246e+12  \n",
       "BRA   1.796187e+12  \n",
       "\n",
       "[3 rows x 57 columns]"
      ]
     },
     "execution_count": 570,
     "metadata": {},
     "output_type": "execute_result"
    }
   ],
   "source": [
    "wb_current_prepped.loc[['USA', 'KOR', 'BRA']]"
   ]
  },
  {
   "cell_type": "markdown",
   "metadata": {},
   "source": [
    "## II. Calculate real gdp_index  (Adv prepping? \\o/)\n",
    "\n",
    "    * UN (x)\n",
    "    \n",
    "    * WB (x)\n",
    "        \n",
    "    * IMF-WEO (x)\n",
    "    \n",
    "    * PWT (x)"
   ]
  },
  {
   "cell_type": "code",
   "execution_count": 571,
   "metadata": {
    "collapsed": true
   },
   "outputs": [],
   "source": [
    "# weo_gdi = calculate_real_gdp_index(weo_constant_prepped, 'imf_weo')"
   ]
  },
  {
   "cell_type": "code",
   "execution_count": 572,
   "metadata": {
    "collapsed": true
   },
   "outputs": [],
   "source": [
    "# # add new index\n",
    "# # ref: https://stackoverflow.com/questions/14744068/prepend-a-level-to-a-pandas-multiindex\n",
    "# pwt_xr = pd.concat([pwt_multiindex], keys=['pwt'], names=['source'])['rgdpna'].to_xarray()"
   ]
  },
  {
   "cell_type": "markdown",
   "metadata": {},
   "source": [
    "### real gdp indices **<span style=\"color:lime; background:green;\">IMPORTANT</span>** \n"
   ]
  },
  {
   "cell_type": "code",
   "execution_count": 573,
   "metadata": {
    "collapsed": true
   },
   "outputs": [],
   "source": [
    "pwt_rgdpna_prepped = pwt_multiindex.reset_index().set_index(['iso', 'year']).unstack('year')['rgdpna']"
   ]
  },
  {
   "cell_type": "code",
   "execution_count": 574,
   "metadata": {
    "collapsed": true,
    "scrolled": true
   },
   "outputs": [],
   "source": [
    "un_gdi = calculate_real_gdp_index(un_constant_prepped, 'un')\n",
    "wb_gdi = calculate_real_gdp_index(wb_constant_prepped, 'wb')\n",
    "weo_gdi = calculate_real_gdp_index(weo_constant_prepped, 'imf_weo')\n",
    "pwt_gdi = calculate_real_gdp_index(pwt_rgdpna_prepped, 'pwt')"
   ]
  },
  {
   "cell_type": "code",
   "execution_count": 575,
   "metadata": {
    "scrolled": false
   },
   "outputs": [
    {
     "name": "stdout",
     "output_type": "stream",
     "text": [
      "un\n",
      "wb\n",
      "weo\n",
      "pwt\n"
     ]
    }
   ],
   "source": [
    "ls = [un_gdi_norm_meta, \n",
    " wb_gdi_norm_meta, \n",
    " weo_gdi_norm_meta, \n",
    " pwt_gdi_norm_meta] = normalize_real_gdi([(un_gdi, 'un'), (wb_gdi,'wb'), (weo_gdi, 'weo'), (pwt_gdi, 'pwt')], 2014)\n",
    " "
   ]
  },
  {
   "cell_type": "code",
   "execution_count": 576,
   "metadata": {
    "scrolled": true
   },
   "outputs": [
    {
     "name": "stdout",
     "output_type": "stream",
     "text": [
      "<class 'pandas.core.frame.DataFrame'>\n",
      "<class 'pandas.core.frame.DataFrame'>\n",
      "<class 'pandas.core.frame.DataFrame'>\n",
      "<class 'pandas.core.frame.DataFrame'>\n"
     ]
    },
    {
     "data": {
      "text/plain": [
       "[None, None, None, None]"
      ]
     },
     "execution_count": 576,
     "metadata": {},
     "output_type": "execute_result"
    }
   ],
   "source": [
    "[print (type(l[0])) for l in ls] # sanity check. likely totally unnecessary"
   ]
  },
  {
   "cell_type": "code",
   "execution_count": 577,
   "metadata": {
    "collapsed": true
   },
   "outputs": [],
   "source": [
    "wb_gdi_norm = wb_gdi_norm_meta[0]\n",
    "un_gdi_norm = un_gdi_norm_meta[0]\n",
    "pwt_gdi_norm = pwt_gdi_norm_meta[0]\n",
    "weo_gdi_norm = weo_gdi_norm_meta[0]"
   ]
  },
  {
   "cell_type": "markdown",
   "metadata": {},
   "source": [
    "### calculate real series with 2014 base year"
   ]
  },
  {
   "cell_type": "code",
   "execution_count": 578,
   "metadata": {
    "collapsed": true
   },
   "outputs": [],
   "source": [
    "un_2014 = un_gdi_norm.multiply(un_current_prepped).loc[:,1970:2015] # 2016 all nan\n",
    "wb_2014 = wb_gdi_norm.multiply(wb_current_prepped)\n",
    "pwt_2014 = pwt_gdi_norm.multiply(pwt_multiindex.unstack('year'))\n",
    "weo_2014 = weo_gdi_norm.multiply(weo_current_prepped)"
   ]
  },
  {
   "cell_type": "code",
   "execution_count": 579,
   "metadata": {
    "collapsed": true
   },
   "outputs": [],
   "source": [
    "un14_stacked = stack_year(un_2014)\n",
    "wb14_stacked = stack_year(wb_2014)\n",
    "pwt14_stacked = stack_year(pwt_2014)['rgdpna']\n",
    "weo14_stacked = stack_year(weo_2014)"
   ]
  },
  {
   "cell_type": "code",
   "execution_count": 581,
   "metadata": {
    "collapsed": true
   },
   "outputs": [],
   "source": [
    "# pwt14_stacked.index.get_level_values('year').unique()"
   ]
  },
  {
   "cell_type": "code",
   "execution_count": 583,
   "metadata": {
    "collapsed": true
   },
   "outputs": [],
   "source": [
    "combined14 = pd.concat({\n",
    "    'pwt': pwt14_stacked*10**6,\n",
    "    'wb': wb14_stacked,\n",
    "    'un': un14_stacked,\n",
    "    'imf_weo': weo14_stacked*10**9}, axis=0, names=['source'])"
   ]
  },
  {
   "cell_type": "code",
   "execution_count": 589,
   "metadata": {
    "collapsed": true
   },
   "outputs": [],
   "source": [
    "pwt_final = pwt14_stacked*10**6\n",
    "\n",
    "pwt_final.to_csv(dir_path + 'data/output_data/pwt_rgdpna_2014_final.csv')"
   ]
  },
  {
   "cell_type": "code",
   "execution_count": 584,
   "metadata": {
    "collapsed": true
   },
   "outputs": [],
   "source": [
    "assert((combined14.index.get_level_values('iso') != 'Total').all() == True)\n",
    "\n",
    "# final14 = combined14[combined14.index.get_level_values('iso') != 'Total']"
   ]
  },
  {
   "cell_type": "code",
   "execution_count": 585,
   "metadata": {},
   "outputs": [
    {
     "data": {
      "text/plain": [
       "Index(['imf_weo', 'pwt', 'un', 'wb'], dtype='object', name='source')"
      ]
     },
     "execution_count": 585,
     "metadata": {},
     "output_type": "execute_result"
    }
   ],
   "source": [
    "combined14.index.get_level_values('source').unique()"
   ]
  },
  {
   "cell_type": "code",
   "execution_count": 587,
   "metadata": {
    "collapsed": true
   },
   "outputs": [],
   "source": [
    "# final14 = combined14[combined14.index.get_level_values('iso') != 'Total']\n",
    "\n",
    "# drops any country names with total/world/nan/np.nan (empty rows)\n",
    "final14 = combined14[np.in1d(combined14.index.get_level_values('iso'), ['Total', 'World', np.nan, 'nan'], invert=True)]\n",
    "final14 = final14[~pd.isnull(final14.index.get_level_values('iso'))]\n",
    "\n",
    "# final14.index.get_level_values('source').unique()\n",
    "da14 = final14.to_xarray()\n",
    "\n",
    "real_gdp_2014_path = dir_path + 'data/output_data/real_gdp_2014_four_sources3.nc'\n",
    "\n",
    "if os.path.exists(real_gdp_2014_path):\n",
    "    os.remove(real_gdp_2014_path)\n",
    "    \n",
    "da14.to_netcdf(real_gdp_2014_path, mode='w')"
   ]
  },
  {
   "cell_type": "code",
   "execution_count": 469,
   "metadata": {
    "collapsed": true
   },
   "outputs": [],
   "source": [
    "# un calculate real series using gdi and nominal series!!@#!@#!@#!@3"
   ]
  },
  {
   "cell_type": "code",
   "execution_count": 246,
   "metadata": {},
   "outputs": [
    {
     "name": "stdout",
     "output_type": "stream",
     "text": [
      "True\n"
     ]
    }
   ],
   "source": [
    "un_real_b2015 = un_gdi_norm.multiply(un_current_prepped)\n",
    "wb_real_b2015 = wb_gdi_norm.multiply(wb_current_prepped) # wb\n",
    "weo_real_b2015 = weo_gdi_norm.multiply(weo_current_prepped)\n",
    "weo_real_b2015 = weo_real_b2015*10**9 # convert billions of USD to absolute\n",
    "\n",
    "print((weo_real_b2015.columns == [range(1980, 2017)]).all())"
   ]
  },
  {
   "cell_type": "markdown",
   "metadata": {},
   "source": [
    "### warning: dropping 2016 since it's all nan\n"
   ]
  },
  {
   "cell_type": "code",
   "execution_count": 247,
   "metadata": {
    "collapsed": true
   },
   "outputs": [],
   "source": [
    "un_real_b2015 = un_real_b2015.loc[:,1970:2015] # should move this to prepping with wb prep"
   ]
  },
  {
   "cell_type": "code",
   "execution_count": 431,
   "metadata": {
    "scrolled": false
   },
   "outputs": [
    {
     "data": {
      "image/png": "[encoded data removed]",
      "text/plain": [
       "<matplotlib.figure.Figure at 0x1c1209d550>"
      ]
     },
     "metadata": {},
     "output_type": "display_data"
    }
   ],
   "source": [
    "def plot_total(_df, source):\n",
    "    '''\n",
    "    Calculates and plots the total annual gdp values based on input dataframe\n",
    "    \n",
    "    Parameters\n",
    "    ----------\n",
    "    _df: DataFrame\n",
    "        dataframe of gdp series (country x years), a single source\n",
    "    _source: str\n",
    "        string name of the data source\n",
    "\n",
    "    Return\n",
    "    -------\n",
    "    None\n",
    "    '''\n",
    "    meta = {\n",
    "        'un': ('United Nations', '1970-2015', 'go-'),\n",
    "        'wb': ('World Bank', '1960-2016', 'bo-'),\n",
    "        'imf_weo': ('Internatioal Financial Statistics - World Economic Outlook', '1980-2016', 'ro-'),\n",
    "\n",
    "    }\n",
    "    \n",
    "    _display_name = meta[source][0]\n",
    "    _years = meta[source][1]\n",
    "    _color =meta[source][2]\n",
    "    \n",
    "    total_series = _df.sum(axis=0)\n",
    "    tt = total_series.T.plot(style=_color, \n",
    "                   figsize=(15, 10),\n",
    "                   fontsize=14, grid=True, rot=320, alpha=.7, ms=7)\n",
    "     \n",
    "    label_axes(tt, \n",
    "           'Years (1960-2016)', \n",
    "           'World Annual GDP (2015 USD)',\n",
    "            'World Annual GDP (real, 2015 USD), UN, WB, IMF_WEO')\n",
    "#             'Total Annual GDP real series, {0} Data ({1})'.format(_display_name, _years)) \n",
    "\n",
    "    \n",
    "plot_total(un_real_b2015, 'un')\n",
    "plot_total(wb_real_b2015, 'wb')\n",
    "plot_total(weo_real_b2015, 'imf_weo')\n",
    "\n",
    "# overwriting legends, and no labels (color - source). ignore for now. this is just sanity check (will be using xarray)"
   ]
  },
  {
   "cell_type": "code",
   "execution_count": 249,
   "metadata": {
    "collapsed": true
   },
   "outputs": [],
   "source": [
    "ort\n",
    "#`df.stack('year')` -> will return series (with two indices iso and year) with single value for iso-year combo"
   ]
  },
  {
   "cell_type": "markdown",
   "metadata": {
    "collapsed": true
   },
   "source": [
    "#### calculate gdp index and get nominal series (PWT) -> use rgdnpa (but convert base year**)\n",
    "\n",
    "rgdpna: equals gdp-output side in 2011 (confirm for sure) but growth rate is taken from NA of each country"
   ]
  },
  {
   "cell_type": "code",
   "execution_count": 250,
   "metadata": {
    "collapsed": true
   },
   "outputs": [],
   "source": [
    "wb_stacked = stack_year(wb_real_b2015)\n",
    "un_stacked = stack_year(un_real_b2015)\n",
    "weo_stacked = stack_year(weo_real_b2015)\n"
   ]
  },
  {
   "cell_type": "code",
   "execution_count": 437,
   "metadata": {
    "collapsed": true
   },
   "outputs": [],
   "source": [
    "# pwt: calculate gdp index from rgdpna\n",
    "# imf calculate real seires (gdi * nominal)\n",
    "# revisit four major countries for IFS data (individual download)"
   ]
  },
  {
   "cell_type": "code",
   "execution_count": null,
   "metadata": {
    "collapsed": true
   },
   "outputs": [],
   "source": [
    "# order is: 'wb', 'un'\n",
    "\n",
    "combined = pd.concat({\n",
    "#     'pwt': stack_year(pwt_source),\n",
    "#     'imf': stack_year(imf_source),\n",
    "    'wb': wb_stacked,\n",
    "    'un': un_stacked,\n",
    "    'imf_weo': weo_stacked}, axis=0, names=['source'])\n",
    "\n",
    "final = combined[combined.index.get_level_values('iso') != 'Total']\n",
    "final = final[np.in1d(final.index.get_level_values('iso'), ['Total', 'World', np.nan, 'nan'], invert=True)]\n",
    "final = final[~pd.isnull(final.index.get_level_values('iso'))]\n",
    "\n",
    "da = final.to_xarray()"
   ]
  },
  {
   "cell_type": "code",
   "execution_count": 252,
   "metadata": {
    "collapsed": true
   },
   "outputs": [],
   "source": [
    "# order is: 'wb', 'un'\n",
    "\n",
    "combined = pd.concat({\n",
    "#     'pwt': stack_year(pwt_source),\n",
    "#     'imf': stack_year(imf_source),\n",
    "    'wb': wb_stacked,\n",
    "    'un': un_stacked,\n",
    "    'imf_weo': weo_stacked}, axis=0, names=['source'])"
   ]
  },
  {
   "cell_type": "code",
   "execution_count": 253,
   "metadata": {
    "collapsed": true
   },
   "outputs": [],
   "source": [
    "final = combined[combined.index.get_level_values('iso') != 'Total']\n",
    "final = final[np.in1d(final.index.get_level_values('iso'), ['Total', 'World', np.nan, 'nan'], invert=True)]\n",
    "final = final[~pd.isnull(final.index.get_level_values('iso'))]"
   ]
  },
  {
   "cell_type": "code",
   "execution_count": 254,
   "metadata": {
    "collapsed": true
   },
   "outputs": [],
   "source": [
    "da = final.to_xarray()"
   ]
  },
  {
   "cell_type": "code",
   "execution_count": 255,
   "metadata": {},
   "outputs": [
    {
     "data": {
      "text/plain": [
       "<xarray.DataArray 'year' (year: 57)>\n",
       "array([1960, 1961, 1962, 1963, 1964, 1965, 1966, 1967, 1968, 1969, 1970, 1971,\n",
       "       1972, 1973, 1974, 1975, 1976, 1977, 1978, 1979, 1980, 1981, 1982, 1983,\n",
       "       1984, 1985, 1986, 1987, 1988, 1989, 1990, 1991, 1992, 1993, 1994, 1995,\n",
       "       1996, 1997, 1998, 1999, 2000, 2001, 2002, 2003, 2004, 2005, 2006, 2007,\n",
       "       2008, 2009, 2010, 2011, 2012, 2013, 2014, 2015, 2016])\n",
       "Coordinates:\n",
       "  * year     (year) int64 1960 1961 1962 1963 1964 1965 1966 1967 1968 1969 ..."
      ]
     },
     "execution_count": 255,
     "metadata": {},
     "output_type": "execute_result"
    }
   ],
   "source": [
    "da.year"
   ]
  },
  {
   "cell_type": "code",
   "execution_count": 256,
   "metadata": {},
   "outputs": [
    {
     "data": {
      "text/plain": [
       "<xarray.DataArray ()>\n",
       "array(13933.172515133507)\n",
       "Coordinates:\n",
       "    iso      <U3 'CHN'"
      ]
     },
     "execution_count": 256,
     "metadata": {},
     "output_type": "execute_result"
    }
   ],
   "source": [
    "da.sel(year=2016, iso='CHN').min(dim='source')  / da.sel(year=1960, iso='CHN').max(dim='source')"
   ]
  },
  {
   "cell_type": "markdown",
   "metadata": {},
   "source": [
    "### woohoo! save to safety"
   ]
  },
  {
   "cell_type": "code",
   "execution_count": 436,
   "metadata": {
    "collapsed": true
   },
   "outputs": [],
   "source": [
    "da.to_netcdf(dir_path + 'data/output_data/real_gdp_2015_three_sources.nc')"
   ]
  },
  {
   "cell_type": "code",
   "execution_count": 257,
   "metadata": {
    "collapsed": true
   },
   "outputs": [],
   "source": [
    "# Annual Real GDP Index\n",
    "xlab = 'Years ({0})'\n",
    "ylab = 'Annual GDP Index (no unit)'\n",
    "title = '{0} Annual Real GDP Index ({1}) with respect to {2} from different sources' \n"
   ]
  },
  {
   "cell_type": "code",
   "execution_count": 430,
   "metadata": {
    "scrolled": false
   },
   "outputs": [
    {
     "data": {
      "image/png": "[encoded data removed]",
      "text/plain": [
       "<matplotlib.figure.Figure at 0x1c11bc75f8>"
      ]
     },
     "metadata": {},
     "output_type": "display_data"
    }
   ],
   "source": [
    "india = da.sel(iso='IND').to_series().unstack('source')\n",
    "ind = india.plot(style=['go-','ro-', 'bo-'], figsize=(15,10), grid=True, rot=320, alpha=.5, ms=10)\n",
    "\n",
    "label_axes(ind, xlab.format('1960-2016'),\n",
    "                ylab, \n",
    "                title.format('India', '1960-2016', '2015'))"
   ]
  },
  {
   "cell_type": "code",
   "execution_count": 259,
   "metadata": {
    "collapsed": true
   },
   "outputs": [],
   "source": [
    "# construct dataframe with unna  nominal and gdp index from different sources"
   ]
  },
  {
   "cell_type": "code",
   "execution_count": 260,
   "metadata": {
    "collapsed": true
   },
   "outputs": [],
   "source": [
    "#[un_gdi_norm, wb_gdi_norm, weo_gdi_norm] = normalize_real_gdi([un_gdi, wb_gdi, weo_gdi])"
   ]
  },
  {
   "cell_type": "code",
   "execution_count": 261,
   "metadata": {
    "collapsed": true
   },
   "outputs": [],
   "source": [
    "# wb_gdi_norm"
   ]
  },
  {
   "cell_type": "code",
   "execution_count": 262,
   "metadata": {
    "collapsed": true
   },
   "outputs": [],
   "source": [
    "# all real b2015\n",
    "un_real_b2015_gdi_un = stack_year(un_gdi_norm.multiply(un_current_prepped))\n",
    "un_real_b2015_gdi_wb = stack_year(wb_gdi_norm.multiply(un_current_prepped)) # wb\n",
    "un_real_b2015_gdi_weo = stack_year(weo_gdi_norm.multiply(un_current_prepped)*10**9) # convert billions of USD to absolute\n"
   ]
  },
  {
   "cell_type": "code",
   "execution_count": 263,
   "metadata": {
    "collapsed": true
   },
   "outputs": [],
   "source": [
    "# order is: 'wb', 'un'\n",
    "#combined un with diff gdi\n",
    "combined2 = pd.concat({\n",
    "#     'pwt': stack_year(pwt_source),\n",
    "#     'imf': stack_year(imf_source),\n",
    "    'wb': un_real_b2015_gdi_wb,\n",
    "    'un': un_stacked,\n",
    "    'imf_weo': un_real_b2015_gdi_weo}, axis=0, names=['source'])"
   ]
  },
  {
   "cell_type": "markdown",
   "metadata": {},
   "source": [
    "# Mike's meddling\n",
    "\n",
    "producing a time series of real GDP with a common source for 2015"
   ]
  },
  {
   "cell_type": "code",
   "execution_count": 264,
   "metadata": {},
   "outputs": [
    {
     "data": {
      "text/plain": [
       "<matplotlib.axes._subplots.AxesSubplot at 0x1c128b5e80>"
      ]
     },
     "execution_count": 264,
     "metadata": {},
     "output_type": "execute_result"
    },
    {
     "data": {
      "image/png": "[encoded data removed]",
      "text/plain": [
       "<matplotlib.figure.Figure at 0x1c128bf240>"
      ]
     },
     "metadata": {},
     "output_type": "display_data"
    }
   ],
   "source": [
    "da.sum(dim='iso').to_series().unstack('source').plot()"
   ]
  },
  {
   "cell_type": "code",
   "execution_count": 265,
   "metadata": {},
   "outputs": [
    {
     "data": {
      "text/plain": [
       "<matplotlib.axes._subplots.AxesSubplot at 0x1c125b9a20>"
      ]
     },
     "execution_count": 265,
     "metadata": {},
     "output_type": "execute_result"
    },
    {
     "data": {
      "image/png": "[encoded data removed]",
      "text/plain": [
       "<matplotlib.figure.Figure at 0x1c1207ada0>"
      ]
     },
     "metadata": {},
     "output_type": "display_data"
    }
   ],
   "source": [
    "real_gdp_with_imf_weo_2015_value = (da / da.sel(year=2015)) * da.sel(year=2015, source='imf_weo')\n",
    "\n",
    "real_gdp_with_imf_weo_2015_value.sum(dim='iso').to_series().unstack('source').plot()"
   ]
  },
  {
   "cell_type": "code",
   "execution_count": 266,
   "metadata": {
    "collapsed": true
   },
   "outputs": [],
   "source": [
    "real_gdp_index = da / da.sel(year=2015)"
   ]
  },
  {
   "cell_type": "code",
   "execution_count": 267,
   "metadata": {},
   "outputs": [
    {
     "data": {
      "text/plain": [
       "<xarray.DataArray (source: 3, iso: 228)>\n",
       "array([[ nan,   1.,   1., ...,   1.,   1.,  nan],\n",
       "       [  1.,   1.,   1., ...,   1.,   1.,  nan],\n",
       "       [ nan,   1.,   1., ...,   1.,   1.,  nan]])\n",
       "Coordinates:\n",
       "  * source   (source) object 'imf_weo' 'un' 'wb'\n",
       "  * iso      (iso) object 'ABW' 'AFG' 'AGO' 'AIA' 'ALB' 'AND' 'ARE' 'ARG' ...\n",
       "    year     int64 2015"
      ]
     },
     "execution_count": 267,
     "metadata": {},
     "output_type": "execute_result"
    }
   ],
   "source": [
    "real_gdp_index.sel(year=2015)"
   ]
  },
  {
   "cell_type": "code",
   "execution_count": 268,
   "metadata": {},
   "outputs": [
    {
     "data": {
      "text/plain": [
       "<xarray.DataArray (iso: 228)>\n",
       "array([           nan,   2.007900e+10,   1.029620e+11, ...,   2.124300e+10,\n",
       "         1.607200e+10,            nan])\n",
       "Coordinates:\n",
       "    source   <U7 'imf_weo'\n",
       "  * iso      (iso) object 'ABW' 'AFG' 'AGO' 'AIA' 'ALB' 'AND' 'ARE' 'ARG' ...\n",
       "    year     int64 2015"
      ]
     },
     "execution_count": 268,
     "metadata": {},
     "output_type": "execute_result"
    }
   ],
   "source": [
    "da.sel(year=2015, source='imf_weo')"
   ]
  },
  {
   "cell_type": "code",
   "execution_count": 269,
   "metadata": {},
   "outputs": [
    {
     "data": {
      "text/plain": [
       "<xarray.DataArray (source: 3, iso: 228, year: 57)>\n",
       "array([[[           nan,            nan, ...,            nan,            nan],\n",
       "        [           nan,            nan, ...,   2.007900e+10,   1.991442e+10],\n",
       "        ..., \n",
       "        [           nan,            nan, ...,   1.607200e+10,   1.622875e+10],\n",
       "        [           nan,            nan, ...,            nan,            nan]],\n",
       "\n",
       "       [[           nan,            nan, ...,            nan,            nan],\n",
       "        [           nan,            nan, ...,   2.007900e+10,            nan],\n",
       "        ..., \n",
       "        [           nan,            nan, ...,   1.607200e+10,            nan],\n",
       "        [           nan,            nan, ...,            nan,            nan]],\n",
       "\n",
       "       [[           nan,            nan, ...,            nan,            nan],\n",
       "        [           nan,            nan, ...,   2.007900e+10,   2.079798e+10],\n",
       "        ..., \n",
       "        [  2.385285e+08,   2.641082e+08, ...,   1.607200e+10,   1.649648e+10],\n",
       "        [           nan,            nan, ...,            nan,            nan]]])\n",
       "Coordinates:\n",
       "  * source   (source) object 'imf_weo' 'un' 'wb'\n",
       "  * iso      (iso) object 'ABW' 'AFG' 'AGO' 'AIA' 'ALB' 'AND' 'ARE' 'ARG' ...\n",
       "  * year     (year) int64 1960 1961 1962 1963 1964 1965 1966 1967 1968 1969 ..."
      ]
     },
     "execution_count": 269,
     "metadata": {},
     "output_type": "execute_result"
    }
   ],
   "source": [
    "real_gdp_index * da.sel(year=2015, source='imf_weo')"
   ]
  },
  {
   "cell_type": "code",
   "execution_count": 270,
   "metadata": {},
   "outputs": [
    {
     "data": {
      "text/plain": [
       "<xarray.DataArray (source: 3)>\n",
       "array([  1.552810e+12,   1.552810e+12,   1.552810e+12])\n",
       "Coordinates:\n",
       "  * source   (source) object 'imf_weo' 'un' 'wb'\n",
       "    iso      <U3 'CAN'\n",
       "    year     int64 2015"
      ]
     },
     "execution_count": 270,
     "metadata": {},
     "output_type": "execute_result"
    }
   ],
   "source": [
    "real_gdp_with_imf_weo_2015_value.sel(year=2015, iso='CAN')"
   ]
  },
  {
   "cell_type": "code",
   "execution_count": 271,
   "metadata": {
    "collapsed": true
   },
   "outputs": [],
   "source": [
    "final2 = combined2[combined2.index.get_level_values('iso') != 'Total']\n",
    "final2 = final2[np.in1d(final2.index.get_level_values('iso'), ['Total', 'World', np.nan, 'nan'], invert=True)]\n",
    "final2 = final2[~pd.isnull(final2.index.get_level_values('iso'))]"
   ]
  },
  {
   "cell_type": "code",
   "execution_count": 272,
   "metadata": {
    "collapsed": true
   },
   "outputs": [],
   "source": [
    "da2 = final.to_xarray()"
   ]
  },
  {
   "cell_type": "code",
   "execution_count": 279,
   "metadata": {},
   "outputs": [
    {
     "data": {
      "text/plain": [
       "<xarray.DataArray (source: 3, iso: 228, year: 57)>\n",
       "array([[[           nan,            nan, ...,            nan,            nan],\n",
       "        [           nan,            nan, ...,   2.007900e+10,   1.991442e+10],\n",
       "        ..., \n",
       "        [           nan,            nan, ...,   1.607200e+10,   1.622875e+10],\n",
       "        [           nan,            nan, ...,            nan,            nan]],\n",
       "\n",
       "       [[           nan,            nan, ...,   2.692737e+09,            nan],\n",
       "        [           nan,            nan, ...,   2.060809e+10,            nan],\n",
       "        ..., \n",
       "        [           nan,            nan, ...,   1.607238e+10,            nan],\n",
       "        [           nan,            nan, ...,            nan,            nan]],\n",
       "\n",
       "       [[           nan,            nan, ...,            nan,            nan],\n",
       "        [           nan,            nan, ...,   1.921556e+10,   1.990362e+10],\n",
       "        ..., \n",
       "        [  2.419816e+08,   2.679316e+08, ...,   1.630467e+10,   1.673529e+10],\n",
       "        [           nan,            nan, ...,            nan,            nan]]])\n",
       "Coordinates:\n",
       "  * source   (source) object 'imf_weo' 'un' 'wb'\n",
       "  * iso      (iso) object 'ABW' 'AFG' 'AGO' 'AIA' 'ALB' 'AND' 'ARE' 'ARG' ...\n",
       "  * year     (year) int64 1960 1961 1962 1963 1964 1965 1966 1967 1968 1969 ..."
      ]
     },
     "execution_count": 279,
     "metadata": {},
     "output_type": "execute_result"
    }
   ],
   "source": [
    "da"
   ]
  },
  {
   "cell_type": "code",
   "execution_count": 287,
   "metadata": {},
   "outputs": [
    {
     "data": {
      "text/plain": [
       "['CHL', 'FRA', 'IND', 'JPN', 'MEX', 'USA']"
      ]
     },
     "execution_count": 287,
     "metadata": {},
     "output_type": "execute_result"
    }
   ],
   "source": [
    "ls = ['Chile', 'France', 'India', 'Japan', 'Mexico', 'United States']\n",
    "[iso_map[c] for c in ls]"
   ]
  },
  {
   "cell_type": "code",
   "execution_count": 282,
   "metadata": {
    "collapsed": true
   },
   "outputs": [],
   "source": [
    "#by population\n",
    "top10 = da.sel(iso=['USA', 'CHN', 'BRA', 'IDN', 'RUS', 'JPN', 'BGD', 'PAK'])"
   ]
  },
  {
   "cell_type": "code",
   "execution_count": 299,
   "metadata": {
    "collapsed": true
   },
   "outputs": [],
   "source": [
    "mortality_file= dir_path + 'data/meta_data/mortality_countries.csv'\n",
    "mort_ls_of_countries = pd.read_csv(mortality_file)\n",
    "mort_ls_of_countries.sort_values(by='iso', inplace=True)"
   ]
  },
  {
   "cell_type": "code",
   "execution_count": 273,
   "metadata": {},
   "outputs": [
    {
     "data": {
      "image/png": "[encoded data removed]",
      "text/plain": [
       "<matplotlib.figure.Figure at 0x1c120f89e8>"
      ]
     },
     "metadata": {},
     "output_type": "display_data"
    }
   ],
   "source": [
    "india = da2.sel(iso='IND').to_series().unstack('source')\n",
    "ind = india.plot(style=['go-','ro-', 'yo-'], figsize=(15,10), grid=True, rot=320, alpha=.5, ms=10)\n",
    "\n",
    "label_axes(ind, xlab.format('1960-2014'),\n",
    "                ylab, \n",
    "                title.format('India', '1960-2014', '2015'))"
   ]
  },
  {
   "cell_type": "markdown",
   "metadata": {},
   "source": [
    "# labels"
   ]
  },
  {
   "cell_type": "code",
   "execution_count": 274,
   "metadata": {
    "scrolled": true
   },
   "outputs": [
    {
     "data": {
      "text/plain": [
       "('source', 'iso', 'year')"
      ]
     },
     "execution_count": 274,
     "metadata": {},
     "output_type": "execute_result"
    }
   ],
   "source": [
    "da2.dims"
   ]
  },
  {
   "cell_type": "code",
   "execution_count": 275,
   "metadata": {
    "collapsed": true
   },
   "outputs": [],
   "source": [
    "# Total Real GDP Index\n",
    "xlab_total = 'Years ({0})'\n",
    "ylab_total = 'Annual Glboal GDP'\n",
    "title_total = '{0} Annual Global GDP ({1}) (UN National Accounts Nominal GDP with GDI from UN, WB, and IMF_WEO' "
   ]
  },
  {
   "cell_type": "code",
   "execution_count": 276,
   "metadata": {
    "scrolled": false
   },
   "outputs": [
    {
     "data": {
      "image/png": "[encoded data removed]",
      "text/plain": [
       "<matplotlib.figure.Figure at 0x1c12886a58>"
      ]
     },
     "metadata": {},
     "output_type": "display_data"
    }
   ],
   "source": [
    "total = da.sum(dim='iso').to_series().unstack('source')\n",
    "total = total.plot(style=['go-','ro-', 'yo-'], figsize=(15,10), grid=True, rot=320, alpha=.7, ms=10)\n",
    "\n",
    "label_axes(total, xlab_total.format('1960-2016'),\n",
    "                ylab_total, \n",
    "                title.format('Total', '1960-2016', '2015'))"
   ]
  },
  {
   "cell_type": "code",
   "execution_count": null,
   "metadata": {
    "collapsed": true
   },
   "outputs": [],
   "source": [
    "da.loc[]"
   ]
  },
  {
   "cell_type": "code",
   "execution_count": 277,
   "metadata": {
    "scrolled": false
   },
   "outputs": [
    {
     "data": {
      "image/png": "[encoded data removed]",
      "text/plain": [
       "<matplotlib.figure.Figure at 0x1c12c7ecf8>"
      ]
     },
     "metadata": {},
     "output_type": "display_data"
    }
   ],
   "source": [
    "total = da2.sum(dim='iso').to_series().unstack('source')\n",
    "total = total.plot(style=['go-','ro-', 'yo-'], figsize=(15,10), grid=True, rot=320, alpha=.7, ms=10)\n",
    "\n",
    "label_axes(total, xlab_total.format('1960-2016'),\n",
    "                ylab_total, \n",
    "                title.format('Total', '1960-2016', '2015'))"
   ]
  },
  {
   "cell_type": "code",
   "execution_count": 278,
   "metadata": {
    "collapsed": true
   },
   "outputs": [],
   "source": [
    "# select 2015 not null for all sources across 2015 - compare total avross all countries\n",
    "# compare population and market gdp for US, china, Brazil, Russia, India.. "
   ]
  }
 ],
 "metadata": {
  "kernelspec": {
   "display_name": "Python 3",
   "language": "python",
   "name": "python3"
  },
  "language_info": {
   "codemirror_mode": {
    "name": "ipython",
    "version": 3
   },
   "file_extension": ".py",
   "mimetype": "text/x-python",
   "name": "python",
   "nbconvert_exporter": "python",
   "pygments_lexer": "ipython3",
   "version": "3.6.3"
  }
 },
 "nbformat": 4,
 "nbformat_minor": 2
}
