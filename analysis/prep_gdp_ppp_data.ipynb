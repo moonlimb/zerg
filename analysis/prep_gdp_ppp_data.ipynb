{
 "cells": [
  {
   "cell_type": "code",
   "execution_count": 1,
   "metadata": {
    "collapsed": true
   },
   "outputs": [],
   "source": [
    "import os\n",
    "\n",
    "import matplotlib.pylab as plt\n",
    "import numpy as np\n",
    "import pandas as pd\n",
    "import seaborn as sns\n",
    "import xarray as xr\n",
    "\n",
    "% matplotlib inline\n",
    "sns.set()\n",
    "sns.set_color_codes()"
   ]
  },
  {
   "cell_type": "markdown",
   "metadata": {},
   "source": [
    "# Construct xarray for real gdp series (PPP)\n",
    "\n",
    "### Normalize data sets to be constant to 2015\n",
    "\n",
    "* Construct xarray for PPP values (PWT, WB to start)\n",
    "\n",
    "    * a) Compute GDP index (PPP-real series) **<span style=\"color:white; background:maroon;\">STARTED</span>**\n",
    "        * WB **<span style=\"color:white; background:limegreen;\">DONE</span>**\n",
    "\n",
    "        * PWT\n",
    "        * any other?? (IMF using PPPs ourselves?)\n",
    "    * b) Retrieve GDP nominal/current series\n",
    "\n",
    "* Multiply a) by b) to calculate real series constant to same year! \n",
    "\n",
    "* Analysis\n",
    "\n",
    "    a) world total \n",
    "    \n",
    "    b) world total, countries with missing data removed\n",
    "    \n",
    "    c) mortality\n",
    "    \n",
    "\n",
    "| source     | PPP year/source|  \n",
    "|---------|------|\n",
    "| WB      |  ICP 2011+ OECD/Eurostats |  \n",
    "| PWT_rgdpne| ICP 2011+ OECD/Eurostats|\n",
    "\n",
    "#### Table1: PPP values used by the sources\n",
    "\n",
    "Status:\n",
    "**<span style=\"color:lime; background:green;\">In Progress</span>** \n",
    "**<span style=\"color:white; background:maroon;\">STARTED</span>**\n",
    "**<span style=\"color:white; background:limegreen;\">DONE</span>**\n"
   ]
  },
  {
   "cell_type": "code",
   "execution_count": 14,
   "metadata": {
    "collapsed": true
   },
   "outputs": [],
   "source": [
    "dir_path = os.environ['ZERG'] + '{}'                                                                  "
   ]
  },
  {
   "cell_type": "code",
   "execution_count": 66,
   "metadata": {
    "collapsed": true
   },
   "outputs": [],
   "source": [
    "# note"
   ]
  },
  {
   "cell_type": "code",
   "execution_count": 143,
   "metadata": {
    "collapsed": true
   },
   "outputs": [],
   "source": [
    "def set_col_idx_name(_df, col_idx_name='year'):\n",
    "    _df.columns.name = col_idx_name\n",
    "    return _df\n",
    "\n",
    "convert_to_float = lambda _df: _df.astype(float)\n",
    "\n",
    "def set_col_as_index(_df, _col_name):\n",
    "    return _df.set_index(_col_name)\n",
    "\n",
    "stack_year = lambda _df: _df.stack('year')\n"
   ]
  },
  {
   "cell_type": "markdown",
   "metadata": {},
   "source": [
    "### File names"
   ]
  },
  {
   "cell_type": "code",
   "execution_count": 164,
   "metadata": {
    "collapsed": true
   },
   "outputs": [],
   "source": [
    "# download available data - PWT vs WB\n",
    "# 1) download Wb data\n",
    "\n",
    "wb_ppp_constant = dir_path.format('data/wb/gdp/gdp_ppp_constant/API_NY.GDP.MKTP.PP.KD_DS2_en_csv_v2.csv') # KD for constant\n",
    "wb_ppp_current = dir_path.format('data/wb/gdp/gdp_ppp_current/API_NY.GDP.MKTP.PP.CD_DS2_en_csv_v2.csv') # CD for current\n",
    "\n",
    "# saved in `compare_gdp_market` file. \n",
    "wb_mkt_current = dir_path.format('data/output_data/wb_gdp_current_prepped.csv')\n",
    "wb_mkt_constant = dir_path.format('data/output_data/wb_gdp_constant_prepped.csv')\n",
    "\n",
    "# 2) download pwt data\n",
    "pwt = dir_path.format('data/output_data/pwt_iso_all_cols.csv') # both pwt rgdpe and rgpdo"
   ]
  },
  {
   "cell_type": "markdown",
   "metadata": {},
   "source": [
    "### Open files"
   ]
  },
  {
   "cell_type": "code",
   "execution_count": 63,
   "metadata": {
    "collapsed": true
   },
   "outputs": [],
   "source": [
    "wb_ppp_const = pd.read_csv(dir_path.format('data/output_data/gdp_ppp_constant_countries_only1.csv'))"
   ]
  },
  {
   "cell_type": "code",
   "execution_count": 123,
   "metadata": {
    "collapsed": true
   },
   "outputs": [],
   "source": [
    "wb_ppp_const_indexed = set_col_idx_name(wb_ppp_const.set_index('iso'))\n",
    "\n",
    "# all 2017 nan, drop it\n",
    "assert wb_ppp_const_indexed['2017'].all() == True\n",
    "del wb_ppp_const_indexed['2017']\n",
    "\n",
    "wb_ppp_const_prepped = convert_to_float(wb_ppp_const_indexed)\n",
    "wb_ppp_const_prepped.to_csv(dir_path.format('data/output_data/wb_ppp_constant_prepped.csv'))"
   ]
  },
  {
   "cell_type": "code",
   "execution_count": 101,
   "metadata": {
    "collapsed": true
   },
   "outputs": [],
   "source": [
    "wb_ppp_curr = pd.read_csv(dir_path.format('data/output_data/gdp_ppp_current_countries_only1.csv'))"
   ]
  },
  {
   "cell_type": "code",
   "execution_count": 105,
   "metadata": {
    "collapsed": true
   },
   "outputs": [],
   "source": [
    "wb_ppp_curr_indexed = set_col_idx_name(wb_ppp_curr.set_index('iso'))\n",
    "\n",
    "# all 2017 nan, drop it\n",
    "assert wb_ppp_curr_indexed['2017'].all() == True\n",
    "del wb_ppp_curr_indexed['2017']\n",
    "\n",
    "wb_ppp_curr_prepped = convert_to_float(wb_ppp_curr_indexed)\n",
    "wb_ppp_curr_prepped.columns = [int(x) for x in wb_ppp_curr_prepped.columns]\n",
    "wb_ppp_curr_prepped.columns\n",
    "wb_ppp_curr_prepped.to_csv(dir_path.format('data/output_data/wb_ppp_current_prepped.csv'))"
   ]
  },
  {
   "cell_type": "markdown",
   "metadata": {},
   "source": [
    "## Prep PWT"
   ]
  },
  {
   "cell_type": "code",
   "execution_count": 119,
   "metadata": {
    "collapsed": true,
    "scrolled": true
   },
   "outputs": [],
   "source": [
    "pwt9 = pd.read_csv(pwt)\n",
    "pwt_iso = set_col_as_index(pwt9.assign(iso=pwt9['countrycode']), 'iso')  \n",
    "\n",
    "pwt_sub_e = pwt_iso[['year', 'rgdpe']]\n",
    "pwt_sub_o = pwt_iso[['year', 'rgdpo']]\n",
    "\n",
    "## col names already int no need to convert\n",
    "#rgdpna values already float no need\n",
    "\n",
    "pwt_multiindex_e = pwt_sub_e.set_index('year', append=True)\n",
    "pwt_multiindex_o = pwt_sub_o.set_index('year', append=True)\n",
    "\n",
    "pwt_rgdpe_prepped = pwt_multiindex_e.reset_index().set_index(['iso', 'year']).unstack('year')['rgdpe']\n",
    "pwt_rgdpo_prepped = pwt_multiindex_o.reset_index().set_index(['iso', 'year']).unstack('year')['rgdpo']\n"
   ]
  },
  {
   "cell_type": "markdown",
   "metadata": {},
   "source": [
    "## combine data"
   ]
  },
  {
   "cell_type": "code",
   "execution_count": 168,
   "metadata": {
    "collapsed": true
   },
   "outputs": [],
   "source": [
    "combined = pd.concat({\n",
    "    'pwt_expenditure': stack_year(pwt_rgdpe_prepped)*10**6,\n",
    "    'wb ': stack_year(wb_ppp_const_prepped)\n",
    "}, axis=0, names=['source'])\n"
   ]
  },
  {
   "cell_type": "code",
   "execution_count": 158,
   "metadata": {},
   "outputs": [
    {
     "data": {
      "text/plain": [
       "(iso  year\n",
       " ABW  1970    3.491200e+08\n",
       "      1971    3.805836e+08\n",
       "      1972    4.151617e+08\n",
       "      1973    4.528234e+08\n",
       "      1974    4.924561e+08\n",
       "      1975    5.360496e+08\n",
       "      1976    5.854515e+08\n",
       "      1977    6.392892e+08\n",
       "      1978    6.976587e+08\n",
       "      1979    7.616351e+08\n",
       "      1980    8.300968e+08\n",
       "      1981    9.058033e+08\n",
       "      1982    9.858689e+08\n",
       "      1983    1.076735e+09\n",
       "      1984    1.179866e+09\n",
       "      1985    1.279047e+09\n",
       "      1986    1.400925e+09\n",
       "      1987    1.645422e+09\n",
       "      1988    1.888843e+09\n",
       "      1989    2.193677e+09\n",
       "      1990    2.366299e+09\n",
       "      1991    2.169191e+09\n",
       "      1992    2.911779e+09\n",
       "      1993    3.235939e+09\n",
       "      1994    3.716814e+09\n",
       "      1995    3.477398e+09\n",
       "      1996    3.794764e+09\n",
       "      1997    4.043605e+09\n",
       "      1998    4.083420e+09\n",
       "      1999    3.772472e+09\n",
       "                  ...     \n",
       " ZWE  1985    3.016854e+10\n",
       "      1986    3.138648e+10\n",
       "      1987    3.156609e+10\n",
       "      1988    3.719432e+10\n",
       "      1989    4.190485e+10\n",
       "      1990    4.468494e+10\n",
       "      1991    5.227752e+10\n",
       "      1992    4.674152e+10\n",
       "      1993    4.879613e+10\n",
       "      1994    5.457410e+10\n",
       "      1995    5.186366e+10\n",
       "      1996    5.920639e+10\n",
       "      1997    5.063812e+10\n",
       "      1998    4.529172e+10\n",
       "      1999    4.124988e+10\n",
       "      2000    3.671603e+10\n",
       "      2001    3.443277e+10\n",
       "      2002    2.743593e+10\n",
       "      2003    2.333675e+10\n",
       "      2004    2.120589e+10\n",
       "      2005    1.732363e+10\n",
       "      2006    1.547666e+10\n",
       "      2007    1.638894e+10\n",
       "      2008    1.208674e+10\n",
       "      2009    2.083471e+10\n",
       "      2010    2.065272e+10\n",
       "      2011    2.072044e+10\n",
       "      2012    2.370865e+10\n",
       "      2013    2.701199e+10\n",
       "      2014    2.849555e+10\n",
       " Length: 9439, dtype: float64,)"
      ]
     },
     "execution_count": 158,
     "metadata": {},
     "output_type": "execute_result"
    }
   ],
   "source": [
    "stack_year(pwt_rgdpe_prepped)*10**6,"
   ]
  },
  {
   "cell_type": "code",
   "execution_count": 146,
   "metadata": {
    "collapsed": true
   },
   "outputs": [],
   "source": [
    "combined = pd.concat({\n",
    "    'pwt_expenditure': stack_year(pwt_rgdpe_prepped)*10**6,\n",
    "    'pwt_output': stack_year(pwt_rgdpo_prepped)*10**6,\n",
    "    'wb ': stack_year(wb_ppp_const_prepped)\n",
    "}, axis=0, names=['source'])\n"
   ]
  },
  {
   "cell_type": "code",
   "execution_count": 128,
   "metadata": {
    "collapsed": true
   },
   "outputs": [],
   "source": [
    "assert [x for x in combined.index.get_level_values('iso') if x in ['Total', 'World', np.nan, 'nan']]  ==[]\n",
    "# final = combined[np.in1d(combined14.index.get_level_values('iso'), ['Total', 'World', np.nan, 'nan'], invert=True)]\n",
    "# no need to filter then.\n"
   ]
  },
  {
   "cell_type": "code",
   "execution_count": 145,
   "metadata": {
    "collapsed": true
   },
   "outputs": [],
   "source": [
    "assert combined[pd.isnull(combined.index.get_level_values('iso'))].empty == True\n",
    "\n",
    "# no need to excluded null rows. no rows empty?\n",
    "\n",
    "assert combined.index.get_level_values('source').nunique() == 3"
   ]
  },
  {
   "cell_type": "code",
   "execution_count": null,
   "metadata": {
    "collapsed": true
   },
   "outputs": [],
   "source": []
  },
  {
   "cell_type": "code",
   "execution_count": 155,
   "metadata": {
    "collapsed": true
   },
   "outputs": [],
   "source": [
    "da = combined.to_xarray()\n",
    "\n",
    "real_gdp_2011_path = dir_path.format('data/output_data/real_gdp_2011_ppp_two_sources.nc')\n",
    "\n",
    "if os.path.exists(real_gdp_2011_path):\n",
    "    os.remove(real_gdp_2011_path)\n",
    "    \n",
    "da.to_netcdf(real_gdp_2011_path, mode='w')"
   ]
  },
  {
   "cell_type": "code",
   "execution_count": null,
   "metadata": {
    "collapsed": true
   },
   "outputs": [],
   "source": []
  },
  {
   "cell_type": "code",
   "execution_count": 157,
   "metadata": {
    "collapsed": true
   },
   "outputs": [],
   "source": [
    "da2 = combined.to_xarray()\n",
    "real_gdp_2011_path2 = dir_path.format('data/output_data/real_gdp_2011_ppp_two_sources_no_rgdpo.nc')\n",
    "\n",
    "if os.path.exists(real_gdp_2011_path2):\n",
    "    os.remove(real_gdp_2011_path2)\n",
    "    \n",
    "da.to_netcdf(real_gdp_2011_path2, mode='w')"
   ]
  },
  {
   "cell_type": "markdown",
   "metadata": {},
   "source": [
    "### Calcuate GDI - not needed for now (same 2011 base year)"
   ]
  },
  {
   "cell_type": "code",
   "execution_count": 120,
   "metadata": {
    "collapsed": true
   },
   "outputs": [],
   "source": [
    "# calculate GDP index\n",
    "def calculate_real_gdp_index(_df, _source):\n",
    "    \"\"\"\n",
    "        Converts real constant gdp series to real gdp index. \n",
    "        For each country (row), gdp time series is divided by the gdp value from the given base year,\n",
    "        resulting in gdp index series. Pandas apply method with axis=columns is used.\n",
    "        \n",
    "        Parameters\n",
    "        ----------\n",
    "        _df : DataFrame\n",
    "            dataframe containing real constant gdp values. Rows are countries and columns and years.\n",
    "            two indices are year (df.column.name) and iso (for primary index)\n",
    "        _source : str\n",
    "            string acronym for given data source. one of ['un', 'wb', 'imf_weo']\n",
    "        Keeps nan values for any missing value.\n",
    "        \n",
    "        Returns\n",
    "        -------\n",
    "        df_gdi: DataFrame\n",
    "            contains real gdp series indices\n",
    "    \"\"\"\n",
    "    # base year of a given data source\n",
    "    # base year in this context means vaue that real GDP series is constant with respect to. \n",
    "    get_gdp_base_year = {\n",
    "        'wb': 2010,\n",
    "        'pwt': 2011 # pwt9\n",
    "    }\n",
    "    base_year = get_gdp_base_year[_source]\n",
    "    df_gdi = _df.div(_df[base_year], axis=0)\n",
    "    return df_gdi"
   ]
  },
  {
   "cell_type": "code",
   "execution_count": null,
   "metadata": {
    "collapsed": true
   },
   "outputs": [],
   "source": [
    "# pwt_gdi = calculate_real_gdp_index(pwt_rgdpna_prepped, 'pwt')\n",
    "# ls = [un_gdi_norm_meta, \n",
    "#  wb_gdi_norm_meta, \n",
    "#  weo_gdi_norm_meta, \n",
    "#  pwt_gdi_norm_meta] = normalize_real_gdi([(un_gdi, 'un'), (wb_gdi,'wb'), (weo_gdi, 'weo'), (pwt_gdi, 'pwt')], 2014)\n",
    " "
   ]
  }
 ],
 "metadata": {
  "kernelspec": {
   "display_name": "Python 3",
   "language": "python",
   "name": "python3"
  },
  "language_info": {
   "codemirror_mode": {
    "name": "ipython",
    "version": 3
   },
   "file_extension": ".py",
   "mimetype": "text/x-python",
   "name": "python",
   "nbconvert_exporter": "python",
   "pygments_lexer": "ipython3",
   "version": "3.6.3"
  }
 },
 "nbformat": 4,
 "nbformat_minor": 2
}
