{
 "cells": [
  {
   "cell_type": "code",
   "execution_count": 119,
   "metadata": {
    "collapsed": true
   },
   "outputs": [],
   "source": [
    "import os\n",
    "from collections import OrderedDict\n",
    "\n",
    "import numpy as np\n",
    "import pandas as pd\n",
    "import seaborn as sns\n",
    "import xarray as xr\n",
    "\n",
    "% matplotlib inline"
   ]
  },
  {
   "cell_type": "markdown",
   "metadata": {},
   "source": [
    "## Objective: To save a munged GDP to munged_data/un_gdp_constant_mkt"
   ]
  },
  {
   "cell_type": "code",
   "execution_count": 120,
   "metadata": {
    "collapsed": true
   },
   "outputs": [],
   "source": [
    "output_path = os.environ['ZERG'] + 'data/output_data/{}'\n",
    "data_path = os.environ['ZERG'] + 'data/wb/gdp/{}'                                                                  "
   ]
  },
  {
   "cell_type": "markdown",
   "metadata": {
    "collapsed": true
   },
   "source": [
    "# Open files\n",
    "### NY.GDP.PCAP.PP.KD is WDI indicator\n",
    "\n",
    "    NY = national accounts: income\n",
    "    \n",
    "    MKTP = market prices\n",
    "    \n",
    "    PCAP = per capita\n",
    "    \n",
    "    PP = purchasing power (no PP means not PP)\n",
    "    \n",
    "    KD = constant (vs CD = current)\n",
    "   \n",
    "### Save output files with aggregates filtered\n",
    "* gdp market current [] - add code\n",
    "* gdp market constant [] - fix code\n",
    "* gdp ppp current [o]\n",
    "* gdp ppp constant [o]"
   ]
  },
  {
   "cell_type": "code",
   "execution_count": 121,
   "metadata": {
    "collapsed": true
   },
   "outputs": [],
   "source": [
    "data_path = os.environ['ZERG'] + 'data/output_data/wb/{}'    \n",
    "\n",
    "wb_path = os.environ['ZERG'] + 'data/wb/gdp/{}'"
   ]
  },
  {
   "cell_type": "code",
   "execution_count": 122,
   "metadata": {
    "collapsed": true
   },
   "outputs": [],
   "source": [
    "# # df_gdp is gdp market constant\n",
    "# df_gdp_cst_mkt = pd.read_csv(data_path.format('gdp_constant/API_NY.GDP.MKTP.KD_DS2_en_csv_v2.csv', skiprows=4))\n",
    "# meta_data = pd.read_csv(data_path.format('gdp_constant/Metadata_Country_API_NY.GDP.MKTP.KD_DS2_en_csv_v2.csv'))\n",
    "                        \n",
    "# gdp ppp current\n",
    "gdp_ppp_current = pd.read_csv(wb_path.format('gdp_ppp_current/API_NY.GDP.MKTP.PP.CD_DS2_en_csv_v2.csv'), skiprows=4) # CD for current\n",
    "meta_data_ppp_curr = pd.read_csv(wb_path.format('gdp_ppp_current/Metadata_Country_API_NY.GDP.MKTP.PP.CD_DS2_en_csv_v2.csv'))\n",
    "                        \n",
    "# gdp ppp constant\n",
    "gdp_ppp_constant = pd.read_csv(wb_path.format('gdp_ppp_constant/API_NY.GDP.MKTP.PP.KD_DS2_en_csv_v2.csv'), skiprows=4) # KD for constant\n",
    "meta_data_ppp_const = pd.read_csv(wb_path.format('gdp_ppp_constant/Metadata_Country_API_NY.GDP.MKTP.PP.KD_DS2_en_csv_v2.csv'))"
   ]
  },
  {
   "cell_type": "markdown",
   "metadata": {},
   "source": [
    "### Reusable functions"
   ]
  },
  {
   "cell_type": "code",
   "execution_count": 123,
   "metadata": {
    "collapsed": true
   },
   "outputs": [],
   "source": [
    "def filter_non_countries(_df, _metadata):\n",
    "    '''\n",
    "    _df : pd.DataFrame\n",
    "        either income or population data\n",
    "        \n",
    "    _metadata : pd.DataFrame\n",
    "        metadata on a list of entries including countries and non-countries \n",
    "        data source is from the World Bank\n",
    "        has IncomeGroup column that is not null for countries (217)\n",
    "    '''\n",
    "    # Country Code in both dataframes\n",
    "    _merged = _df.merge(_metadata, on='Country Code')\n",
    "    # non-countries have no IncomeGroup\n",
    "    non_country_mask = _merged['IncomeGroup'].isnull()\n",
    "    merged_country_only = _merged[~non_country_mask]\n",
    "    return merged_country_only\n",
    "\n",
    "def select_relevant_cols(_df):\n",
    "    # returns df with 'Country Name', 'Country Code' and all years (1960 to 2016)\n",
    "    _cols = ['Country Name'] + ['Country Code'] + [str(yr) for yr in range(1960, 2017)]\n",
    "    return _df[_cols]"
   ]
  },
  {
   "cell_type": "code",
   "execution_count": 124,
   "metadata": {
    "collapsed": true
   },
   "outputs": [],
   "source": [
    "convert_to_float = lambda _df: _df.astype(float)\n",
    "\n",
    "\n",
    "def drop_non_years(_df):\n",
    "    def _is_year(_y):\n",
    "        try:\n",
    "            float(_y)\n",
    "            return True\n",
    "        except ValueError:\n",
    "            return False\n",
    "    return _df[[x for x in _df.columns if _is_year(x)]] \n",
    "\n",
    "def set_col_as_index(_df, _col_name):\n",
    "    return _df.set_index(_col_name)\n",
    "\n",
    "# set year as columns name\n",
    "# this is removed in csv data\n",
    "def set_col_idx_name(_df, col_idx_name='year'):\n",
    "    _df.columns.name = col_idx_name\n",
    "    return _df\n",
    "\n",
    "def add_iso_column(_df):\n",
    "    return _df.assign(iso=_df['Country Code'])  \n",
    "    \n",
    "# not used, add_iso_column for all sources\n",
    "def add_iso_column_all(_df, _country_name_col, data_source='general'):\n",
    "    # uses iso_map (global dict)\n",
    "    map_to_iso = lambda c: iso_map[c] if iso_map.get(c) else c # c for country name\n",
    "    map_to_iso_un = lambda c: iso_map_un_na[c] if iso_map_un_na.get(c) else c # c for country name\n",
    "\n",
    "    if 'iso' in _df.columns:\n",
    "        pass\n",
    "    elif data_source is 'un':\n",
    "        v_map = np.vectorize(map_to_iso_un)\n",
    "        assigned = _df.assign(iso=v_map(_df[_country_name_col]))\n",
    "    else:\n",
    "        v_map = np.vectorize(map_to_iso)\n",
    "        assigned = _df.assign(iso=v_map(_df[_country_name_col]))\n",
    "    return assigned"
   ]
  },
  {
   "cell_type": "markdown",
   "metadata": {},
   "source": [
    "### prep data"
   ]
  },
  {
   "cell_type": "code",
   "execution_count": 125,
   "metadata": {
    "collapsed": true
   },
   "outputs": [],
   "source": [
    "def prep_data(_df):\n",
    "    _iso_added = set_col_as_index(add_iso_column(_df), 'iso')\n",
    "    _col_named = set_col_idx_name(_iso_added)\n",
    "    _non_years_dropped = drop_non_years(_col_named)\n",
    "    _null_years_dropped = _non_years_dropped.dropna(axis=1, how='all')\n",
    "    return _null_years_dropped\n",
    "\n",
    "def save_to_csv(_df, _output_file_name):\n",
    "    _df.to_csv(_output_file_name)"
   ]
  },
  {
   "cell_type": "markdown",
   "metadata": {},
   "source": [
    "## Testing "
   ]
  },
  {
   "cell_type": "code",
   "execution_count": 126,
   "metadata": {
    "collapsed": true
   },
   "outputs": [],
   "source": [
    "def test_meta_data_looks_good(_meta_data):\n",
    "    num_countries, num_aggregates = meta_data_ppp_const['IncomeGroup'].isnull().value_counts() # 217 False (countries) # 46 nan\n",
    "    assert num_countries == 217\n",
    "    assert num_aggregates == 46\n",
    "    assert len(_meta_data['IncomeGroup'].unique()) == 5\n",
    "        # expected IncomeGroup -> \n",
    "        # array(['High income', 'Low income', 'Lower middle income',\n",
    "        #   'Upper middle income', nan], dtype=object)\n",
    "  \n",
    "# drop non years\n",
    "# set col index name as 'years'\n",
    "def test_add_iso_column(_df):\n",
    "    assert 'iso' not in _df.columns.tolist()\n",
    "    iso_added = add_iso_column(_df)\n",
    "    assert 'iso' in iso_added.columns.tolist()\n",
    "    assert iso_added.shape[1] - _df.shape[1] == 1\n",
    "    \n",
    "def test_set_col_as_index(_df):\n",
    "    iso_indexed = set_col_as_index(_df, 'iso')\n",
    "    assert len([x for x in iso_indexed.index.tolist() if len(x)!=3]) == 0\n",
    "    \n",
    "def test_set_col_idx_name(_df):\n",
    "    col_named = set_col_idx_name(_df, 'years')\n",
    "    assert col_named.columns.name == 'years'\n",
    "\n",
    "def test_drop_non_years(_df):\n",
    "    # years 1960 to 2017\n",
    "    _dropped = drop_non_years(_df)\n",
    "    assert _dropped.columns.tolist() == [str(x) for x in range(1960,2018)]\n",
    "    \n",
    "# def set_col_as_index(_df, _col_name):\n",
    "#     return _df.set_index(_col_name)\n",
    "\n",
    "def test_convert_to_float(_df):\n",
    "    converted = convert_to_float(_df)\n",
    "    pass"
   ]
  },
  {
   "cell_type": "markdown",
   "metadata": {},
   "source": [
    "### Pipeline to filter aggregates (not countries)\n",
    "\n",
    "1. filter_non_countries(dataframe, meta_data)\n",
    "\n",
    "2. save filtered data to csv! (in output_data)"
   ]
  },
  {
   "cell_type": "markdown",
   "metadata": {},
   "source": [
    "## 1. gdp constant market (add here)"
   ]
  },
  {
   "cell_type": "code",
   "execution_count": 127,
   "metadata": {
    "collapsed": true
   },
   "outputs": [],
   "source": [
    "# df_gdp_countries = filter_non_countries(df_gdp_cst_mkt, meta_data)\n",
    "# df_gdp_countries.shape"
   ]
  },
  {
   "cell_type": "markdown",
   "metadata": {},
   "source": [
    "## 2. gdp current market (add here)"
   ]
  },
  {
   "cell_type": "markdown",
   "metadata": {},
   "source": [
    "## 3. gdp constant ppp"
   ]
  },
  {
   "cell_type": "markdown",
   "metadata": {},
   "source": [
    "### testing suites here"
   ]
  },
  {
   "cell_type": "markdown",
   "metadata": {},
   "source": [
    "### filtering non countries"
   ]
  },
  {
   "cell_type": "code",
   "execution_count": 128,
   "metadata": {
    "collapsed": true
   },
   "outputs": [],
   "source": [
    "test_meta_data_looks_good(meta_data_ppp_const)\n",
    "\n",
    "# main filtering\n",
    "filtered_gdp_ppp_const = filter_non_countries(gdp_ppp_constant, meta_data_ppp_const)"
   ]
  },
  {
   "cell_type": "markdown",
   "metadata": {},
   "source": [
    "### munging data (add iso, set column name, index iso, drop non years, drop null columns)"
   ]
  },
  {
   "cell_type": "code",
   "execution_count": 129,
   "metadata": {
    "collapsed": true
   },
   "outputs": [],
   "source": [
    "test_add_iso_column(filtered_gdp_ppp_const)\n",
    "gdp_iso_added = add_iso_column(filtered_gdp_ppp_const)"
   ]
  },
  {
   "cell_type": "code",
   "execution_count": 130,
   "metadata": {
    "collapsed": true
   },
   "outputs": [],
   "source": [
    "test_set_col_as_index(gdp_iso_added)\n",
    "gdp_iso_indexed= set_col_as_index(gdp_iso_added, 'iso')"
   ]
  },
  {
   "cell_type": "code",
   "execution_count": 131,
   "metadata": {
    "collapsed": true
   },
   "outputs": [],
   "source": [
    "test_set_col_idx_name(gdp_iso_indexed)\n",
    "gdp_col_named = set_col_idx_name(gdp_iso_indexed)"
   ]
  },
  {
   "cell_type": "code",
   "execution_count": 132,
   "metadata": {
    "collapsed": true
   },
   "outputs": [],
   "source": [
    "test_drop_non_years(gdp_col_named)\n",
    "dropped = drop_non_years(gdp_col_named)\n",
    "dropped_null = dropped.dropna(axis=1, how='all')"
   ]
  },
  {
   "cell_type": "code",
   "execution_count": 133,
   "metadata": {
    "collapsed": true,
    "scrolled": true
   },
   "outputs": [],
   "source": [
    "# dropped_null.to_csv(data_path.format('wb_gdp_ppp_constant_countries.csv'))"
   ]
  },
  {
   "cell_type": "code",
   "execution_count": 134,
   "metadata": {},
   "outputs": [
    {
     "data": {
      "text/plain": [
       "<matplotlib.axes._subplots.AxesSubplot at 0x1c1f679e80>"
      ]
     },
     "execution_count": 134,
     "metadata": {},
     "output_type": "execute_result"
    },
    {
     "data": {
      "image/png": "[encoded data removed]",
      "text/plain": [
       "<matplotlib.figure.Figure at 0x1c1f6794a8>"
      ]
     },
     "metadata": {},
     "output_type": "display_data"
    }
   ],
   "source": [
    "dropped_null.sum(axis=0).plot()"
   ]
  },
  {
   "cell_type": "code",
   "execution_count": 135,
   "metadata": {
    "collapsed": true
   },
   "outputs": [],
   "source": [
    "prepped = prep_data(filtered_gdp_ppp_const)\n",
    "save_to_csv(prepped, data_path.format('wb_gdp_ppp_constant_prepped.csv'))"
   ]
  },
  {
   "cell_type": "code",
   "execution_count": 136,
   "metadata": {},
   "outputs": [
    {
     "data": {
      "text/plain": [
       "<matplotlib.axes._subplots.AxesSubplot at 0x1c1f5c4a58>"
      ]
     },
     "execution_count": 136,
     "metadata": {},
     "output_type": "execute_result"
    },
    {
     "data": {
      "image/png": "[encoded data removed]",
      "text/plain": [
       "<matplotlib.figure.Figure at 0x1c1f5d4710>"
      ]
     },
     "metadata": {},
     "output_type": "display_data"
    }
   ],
   "source": [
    "prepped.sum(axis=0).plot()"
   ]
  },
  {
   "cell_type": "code",
   "execution_count": 137,
   "metadata": {
    "collapsed": true
   },
   "outputs": [],
   "source": [
    "assert prepped.shape == dropped_null.shape"
   ]
  },
  {
   "cell_type": "markdown",
   "metadata": {},
   "source": [
    "## 4. gdp current PPP"
   ]
  },
  {
   "cell_type": "code",
   "execution_count": 138,
   "metadata": {
    "collapsed": true
   },
   "outputs": [],
   "source": [
    "prepped_ppp_current = prep_data(gdp_ppp_current)\n",
    "prepped_ppp_current.to_csv(data_path.format('wb_gdp_ppp_current_prepped.csv'))"
   ]
  }
 ],
 "metadata": {
  "kernelspec": {
   "display_name": "Python 3",
   "language": "python",
   "name": "python3"
  },
  "language_info": {
   "codemirror_mode": {
    "name": "ipython",
    "version": 3
   },
   "file_extension": ".py",
   "mimetype": "text/x-python",
   "name": "python",
   "nbconvert_exporter": "python",
   "pygments_lexer": "ipython3",
   "version": "3.6.3"
  }
 },
 "nbformat": 4,
 "nbformat_minor": 2
}
