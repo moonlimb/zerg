{
 "cells": [
  {
   "cell_type": "code",
   "execution_count": 1,
   "metadata": {
    "collapsed": true
   },
   "outputs": [],
   "source": [
    "import os\n",
    "\n",
    "import matplotlib.pylab as plt\n",
    "import numpy as np\n",
    "import pandas as pd\n",
    "import seaborn as sns\n",
    "import xarray as xr\n",
    "\n",
    "% matplotlib inline\n",
    "sns.set()\n",
    "sns.set_color_codes()"
   ]
  },
  {
   "cell_type": "markdown",
   "metadata": {},
   "source": [
    "# Construct xarray for real gdp series (PPP)\n",
    "\n",
    "### Normalize data sets to be constant to 2015\n",
    "\n",
    "* Construct xarray for PPP values (PWT, WB to start)\n",
    "\n",
    "    * a) Compute GDP index (PPP-real series) **<span style=\"color:white; background:maroon;\">STARTED</span>**\n",
    "        * WB **<span style=\"color:white; background:limegreen;\">DONE</span>**\n",
    "\n",
    "        * PWT\n",
    "        * any other?? (IMF using PPPs ourselves?)\n",
    "    * b) Retrieve GDP nominal/current series\n",
    "\n",
    "* Multiply a) by b) to calculate real series constant to same year! \n",
    "\n",
    "* Analysis\n",
    "\n",
    "    a) world total \n",
    "    \n",
    "    b) world total, countries with missing data removed\n",
    "    \n",
    "    c) mortality\n",
    "    \n",
    "\n",
    "| source     | PPP year/source|  \n",
    "|---------|------|\n",
    "| WB      |  ICP 2011+ OECD/Eurostats |  \n",
    "| PWT_rgdpne| ICP 2011+ OECD/Eurostats|\n",
    "\n",
    "#### Table1: PPP values used by the sources\n",
    "\n",
    "Status:\n",
    "**<span style=\"color:lime; background:green;\">In Progress</span>** \n",
    "**<span style=\"color:white; background:maroon;\">STARTED</span>**\n",
    "**<span style=\"color:white; background:limegreen;\">DONE</span>**\n"
   ]
  },
  {
   "cell_type": "code",
   "execution_count": 14,
   "metadata": {
    "collapsed": true
   },
   "outputs": [],
   "source": [
    "dir_path = os.environ['ZERG'] + '{}'                                                                  "
   ]
  },
  {
   "cell_type": "code",
   "execution_count": 66,
   "metadata": {
    "collapsed": true
   },
   "outputs": [],
   "source": [
    "# note"
   ]
  },
  {
   "cell_type": "code",
   "execution_count": 143,
   "metadata": {
    "collapsed": true
   },
   "outputs": [],
   "source": [
    "def set_col_idx_name(_df, col_idx_name='year'):\n",
    "    _df.columns.name = col_idx_name\n",
    "    return _df\n",
    "\n",
    "convert_to_float = lambda _df: _df.astype(float)\n",
    "\n",
    "def set_col_as_index(_df, _col_name):\n",
    "    return _df.set_index(_col_name)\n",
    "\n",
    "stack_year = lambda _df: _df.stack('year')\n"
   ]
  },
  {
   "cell_type": "code",
   "execution_count": null,
   "metadata": {
    "collapsed": true
   },
   "outputs": [],
   "source": []
  },
  {
   "cell_type": "code",
   "execution_count": 113,
   "metadata": {
    "collapsed": true
   },
   "outputs": [],
   "source": [
    "# download available data - PWT vs WB\n",
    "# 1) download Wb data\n",
    "\n",
    "wb_ppp_constant = dir_path.format('data/wb/gdp/gdp_ppp_constant/API_NY.GDP.MKTP.PP.KD_DS2_en_csv_v2.csv') # KD for constant\n",
    "wb_ppp_current = dir_path.format('data/wb/gdp/gdp_ppp_current/API_NY.GDP.MKTP.PP.CD_DS2_en_csv_v2.csv') # CD for current\n",
    "# saved in `compare_gdp_market` file. \n",
    "wb_mkt_current = dir_path.format('data/output_data/wb_gdp_current_prepped.csv')\n",
    "wb_mkt_constant = dir_path.format('data/output_data/wb_gdp_constant_prepped.csv')\n",
    "\n",
    "# 2) download pwt data\n",
    "pwt = dir_path.format('data/output_data/pwt_iso_all_cols.csv') # both pwt rgdpe and rgpdo"
   ]
  },
  {
   "cell_type": "code",
   "execution_count": 63,
   "metadata": {},
   "outputs": [],
   "source": [
    "wb_ppp_const = pd.read_csv(dir_path.format('data/output_data/gdp_ppp_constant_countries_only1.csv'))"
   ]
  },
  {
   "cell_type": "code",
   "execution_count": 123,
   "metadata": {},
   "outputs": [],
   "source": [
    "wb_ppp_const_indexed = set_col_idx_name(wb_ppp_const.set_index('iso'))\n",
    "\n",
    "# all 2017 nan, drop it\n",
    "assert wb_ppp_const_indexed['2017'].all() == True\n",
    "del wb_ppp_const_indexed['2017']\n",
    "\n",
    "wb_ppp_const_prepped = convert_to_float(wb_ppp_const_indexed)\n",
    "wb_ppp_const_prepped.to_csv(dir_path.format('data/output_data/wb_ppp_constant_prepped.csv'))"
   ]
  },
  {
   "cell_type": "code",
   "execution_count": 101,
   "metadata": {},
   "outputs": [],
   "source": [
    "wb_ppp_curr = pd.read_csv(dir_path.format('data/output_data/gdp_ppp_current_countries_only1.csv'))"
   ]
  },
  {
   "cell_type": "code",
   "execution_count": 105,
   "metadata": {},
   "outputs": [],
   "source": [
    "wb_ppp_curr_indexed = set_col_idx_name(wb_ppp_curr.set_index('iso'))\n",
    "\n",
    "# all 2017 nan, drop it\n",
    "assert wb_ppp_curr_indexed['2017'].all() == True\n",
    "del wb_ppp_curr_indexed['2017']\n",
    "\n",
    "wb_ppp_curr_prepped = convert_to_float(wb_ppp_curr_indexed)\n",
    "wb_ppp_curr_prepped.columns = [int(x) for x in wb_ppp_curr_prepped.columns]\n",
    "wb_ppp_curr_prepped.columns\n",
    "wb_ppp_curr_prepped.to_csv(dir_path.format('data/output_data/wb_ppp_current_prepped.csv'))"
   ]
  },
  {
   "cell_type": "markdown",
   "metadata": {},
   "source": [
    "## Prep PWT"
   ]
  },
  {
   "cell_type": "code",
   "execution_count": 119,
   "metadata": {
    "scrolled": true
   },
   "outputs": [],
   "source": [
    "pwt9 = pd.read_csv(pwt)\n",
    "pwt_iso = set_col_as_index(pwt9.assign(iso=pwt9['countrycode']), 'iso')  \n",
    "\n",
    "pwt_sub_e = pwt_iso[['year', 'rgdpe']]\n",
    "pwt_sub_o = pwt_iso[['year', 'rgdpo']]\n",
    "\n",
    "## col names already int no need to convert\n",
    "#rgdpna values already float no need\n",
    "\n",
    "pwt_multiindex_e = pwt_sub_e.set_index('year', append=True)\n",
    "pwt_multiindex_o = pwt_sub_o.set_index('year', append=True)\n",
    "\n",
    "pwt_rgdpe_prepped = pwt_multiindex_e.reset_index().set_index(['iso', 'year']).unstack('year')['rgdpe']\n",
    "pwt_rgdpo_prepped = pwt_multiindex_o.reset_index().set_index(['iso', 'year']).unstack('year')['rgdpo']\n"
   ]
  },
  {
   "cell_type": "markdown",
   "metadata": {},
   "source": [
    "## combine data"
   ]
  },
  {
   "cell_type": "code",
   "execution_count": 146,
   "metadata": {
    "collapsed": true
   },
   "outputs": [],
   "source": [
    "combined = pd.concat({\n",
    "    'pwt_expenditure': stack_year(pwt_rgdpe_prepped)*10**6,\n",
    "    'pwt_output': stack_year(pwt_rgdpo_prepped)*10**6,\n",
    "    'wb ': stack_year(wb_ppp_const_prepped)\n",
    "}, axis=0, names=['source'])"
   ]
  },
  {
   "cell_type": "code",
   "execution_count": 128,
   "metadata": {},
   "outputs": [],
   "source": [
    "assert [x for x in combined.index.get_level_values('iso') if x in ['Total', 'World', np.nan, 'nan']]  ==[]\n",
    "# final = combined[np.in1d(combined14.index.get_level_values('iso'), ['Total', 'World', np.nan, 'nan'], invert=True)]\n",
    "# no need to filter then.\n"
   ]
  },
  {
   "cell_type": "code",
   "execution_count": 145,
   "metadata": {},
   "outputs": [],
   "source": [
    "assert combined[pd.isnull(combined.index.get_level_values('iso'))].empty == True\n",
    "\n",
    "# no need to excluded null rows. no rows empty?\n",
    "\n",
    "assert combined.index.get_level_values('source').nunique() == 3"
   ]
  },
  {
   "cell_type": "code",
   "execution_count": 155,
   "metadata": {},
   "outputs": [],
   "source": [
    "da = combined.to_xarray()\n",
    "\n",
    "real_gdp_2011_path = dir_path.format('data/output_data/real_gdp_2011_ppp_two_sources.nc')\n",
    "\n",
    "if os.path.exists(real_gdp_2011_path):\n",
    "    os.remove(real_gdp_2011_path)\n",
    "    \n",
    "da.to_netcdf(real_gdp_2011_path, mode='w')"
   ]
  },
  {
   "cell_type": "markdown",
   "metadata": {},
   "source": [
    "### Calcuate GDI - not needed for now (same 2011 base year)"
   ]
  },
  {
   "cell_type": "code",
   "execution_count": 120,
   "metadata": {
    "collapsed": true
   },
   "outputs": [],
   "source": [
    "# calculate GDP index\n",
    "def calculate_real_gdp_index(_df, _source):\n",
    "    \"\"\"\n",
    "        Converts real constant gdp series to real gdp index. \n",
    "        For each country (row), gdp time series is divided by the gdp value from the given base year,\n",
    "        resulting in gdp index series. Pandas apply method with axis=columns is used.\n",
    "        \n",
    "        Parameters\n",
    "        ----------\n",
    "        _df : DataFrame\n",
    "            dataframe containing real constant gdp values. Rows are countries and columns and years.\n",
    "            two indices are year (df.column.name) and iso (for primary index)\n",
    "        _source : str\n",
    "            string acronym for given data source. one of ['un', 'wb', 'imf_weo']\n",
    "        Keeps nan values for any missing value.\n",
    "        \n",
    "        Returns\n",
    "        -------\n",
    "        df_gdi: DataFrame\n",
    "            contains real gdp series indices\n",
    "    \"\"\"\n",
    "    # base year of a given data source\n",
    "    # base year in this context means vaue that real GDP series is constant with respect to. \n",
    "    get_gdp_base_year = {\n",
    "        'wb': 2010,\n",
    "        'pwt': 2011 # pwt9\n",
    "    }\n",
    "    base_year = get_gdp_base_year[_source]\n",
    "    df_gdi = _df.div(_df[base_year], axis=0)\n",
    "    return df_gdi"
   ]
  },
  {
   "cell_type": "code",
   "execution_count": null,
   "metadata": {
    "collapsed": true
   },
   "outputs": [],
   "source": [
    "# pwt_gdi = calculate_real_gdp_index(pwt_rgdpna_prepped, 'pwt')\n",
    "# ls = [un_gdi_norm_meta, \n",
    "#  wb_gdi_norm_meta, \n",
    "#  weo_gdi_norm_meta, \n",
    "#  pwt_gdi_norm_meta] = normalize_real_gdi([(un_gdi, 'un'), (wb_gdi,'wb'), (weo_gdi, 'weo'), (pwt_gdi, 'pwt')], 2014)\n",
    " "
   ]
  }
 ],
 "metadata": {
  "kernelspec": {
   "display_name": "Python 3",
   "language": "python",
   "name": "python3"
  },
  "language_info": {
   "codemirror_mode": {
    "name": "ipython",
    "version": 3
   },
   "file_extension": ".py",
   "mimetype": "text/x-python",
   "name": "python",
   "nbconvert_exporter": "python",
   "pygments_lexer": "ipython3",
   "version": "3.6.3"
  }
 },
 "nbformat": 4,
 "nbformat_minor": 2
}
